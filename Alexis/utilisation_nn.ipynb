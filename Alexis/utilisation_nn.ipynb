{
 "cells": [
  {
   "cell_type": "code",
   "metadata": {
    "ExecuteTime": {
     "end_time": "2025-02-17T22:56:43.977665Z",
     "start_time": "2025-02-17T22:56:43.973150Z"
    }
   },
   "source": [
    "import os # to work with directories\n",
    "import json # to work with json files\n",
    "import tensorflow as tf # deep learning library. Tensors are just multi-dimensional arrays\n",
    "import numpy as np # linear algebra\n",
    "from PIL import Image # image processing\n",
    "from awscli.customizations.s3.utils import relative_path"
   ],
   "outputs": [],
   "execution_count": 19
  },
  {
   "cell_type": "code",
   "metadata": {
    "ExecuteTime": {
     "end_time": "2025-02-17T22:56:45.762105Z",
     "start_time": "2025-02-17T22:56:45.439208Z"
    }
   },
   "source": [
    "# Initialisation des variables\n",
    "TYPE = {0: 'MAJ', 1: 'MIN', 2: 'NBR'}\n",
    "MAJ = {0: 'A', 1: 'B', 2: 'C', 3: 'D', 4: 'E', 5: 'F', 6: 'G', 7: 'H', 8: 'I', 9: 'J', 10: 'K', 11: 'L', 12: 'M', 13: 'N', 14: 'O', 15: 'P', 16: 'Q', 17: 'R', 18: 'S', 19: 'T', 20: 'U', 21: 'V', 22: 'W', 23: 'X', 24: 'Y', 25: 'Z'}\n",
    "MIN = {0: 'a', 1: 'b', 2: 'c', 3: 'd', 4: 'e', 5: 'f', 6: 'g', 7: 'h', 8: 'i', 9: 'j', 10: 'k', 11: 'l', 12: 'm', 13: 'n', 14: 'o', 15: 'p', 16: 'q', 17: 'r', 18: 's', 19: 't', 20: 'u', 21: 'v', 22: 'w', 23: 'x', 24: 'y', 25: 'z'}\n",
    "NBR = {0: '0', 1: '1', 2: '2', 3: '3', 4: '4', 5: '5', 6: '6', 7: '7', 8: '8', 9: '9'}\n",
    "CHEMAIN = []\n",
    "\n",
    "# Chargement des modèles sauvegardés\n",
    "model_type = tf.keras.models.load_model(\"../Yann/models/Get_type_v4_b32_e10.keras\")\n",
    "model_maj = tf.keras.models.load_model(\"../Yann/models/Get_Maj_v4_b32_e10.keras\")\n",
    "model_min = tf.keras.models.load_model(\"../Yann/models/Get_Min_v4_b32_e10.keras\")\n",
    "model_nbr = tf.keras.models.load_model(\"../Yann/models/Get_Nbr_v4_b32_e10.keras\")"
   ],
   "outputs": [],
   "execution_count": 20
  },
  {
   "cell_type": "code",
   "metadata": {
    "ExecuteTime": {
     "end_time": "2025-02-17T22:56:47.356073Z",
     "start_time": "2025-02-17T22:56:47.348559Z"
    }
   },
   "source": [
    "def format_image(chemin: str) -> np.ndarray:\n",
    "    \"\"\"_summary_\n",
    "\n",
    "    Args:\n",
    "        chemin (str): _description_\n",
    "\n",
    "    Returns:\n",
    "        np.ndarray: _description_\n",
    "    \"\"\"\n",
    "    img = Image.open(chemin) # 300 x 300\n",
    "    \n",
    "    nouvelle_taille = (25, 25) # 625\n",
    "    \n",
    "    img_redimensionnee = img.resize(nouvelle_taille) # Redimensionner l'image\n",
    "    nb_image = img_redimensionnee.convert('L') # Convertion en noir et blanc\n",
    "    \n",
    "    tab = []\n",
    "    for i in range(nb_image.size[1]):\n",
    "        row = []\n",
    "        for y in range(nb_image.size[0]):\n",
    "            # Récupérer la couleur du pixel\n",
    "            row.append(nb_image.getpixel((y, i)))\n",
    "        tab.append(row)\n",
    "        \n",
    "    tab_numpy = np.array(tab) / 255 # mise à l'échelle des données\n",
    "    tab_numpy_flatten = tab_numpy.flatten() # Transformation en tableau 1D\n",
    "    \n",
    "    return tab_numpy_flatten # Retourner le tableau de pixels"
   ],
   "outputs": [],
   "execution_count": 21
  },
  {
   "metadata": {
    "ExecuteTime": {
     "end_time": "2025-02-17T22:57:20.553962Z",
     "start_time": "2025-02-17T22:57:15.705835Z"
    }
   },
   "cell_type": "code",
   "source": [
    "import boto3\n",
    "s3 = boto3.client('s3')\n",
    "\n",
    "# Liste des buckets à parcourir\n",
    "#buckets = ['scribio1', 'scribio2', 'scribio3']\n",
    "buckets = ['test354680'] ###Test avec un seul bucket qui contient que des majuscules et tres peux de fichiers\n",
    "local_folder ={\n",
    "    'majuscules': '../Majuscules',\n",
    "    'minuscules': '../Minuscules',\n",
    "    'digits': '../Digits'\n",
    "}\n",
    "for folder in local_folder.values():\n",
    "    os.makedirs(folder, exist_ok=True)\n",
    "    \n",
    "CHEMIN = []\n",
    "\n",
    "def download_from_s3(s3_path: str, prefix: str = '') -> None:\n",
    "    response = s3.list_objects_v2(Bucket=bucket, Prefix=prefix, Delimiter='/')\n",
    "    \n",
    "    if 'Contents' in response:\n",
    "        for obj in response['Contents']:\n",
    "            key = obj['Key']\n",
    "            if key.lower().endswith('.png'):\n",
    "                file_name = os.path.basename(key)\n",
    "                relative_path = os.path.dirname(key)\n",
    "                parent_folder = os.path.basename(relative_path)\n",
    "                category =None \n",
    "                \n",
    "                if parent_folder.isupper():\n",
    "                    category = 'majuscules'\n",
    "                elif parent_folder.islower():\n",
    "                    category = 'minuscules'\n",
    "                elif parent_folder.isdigit():\n",
    "                    category = 'digits'\n",
    "            \n",
    "                if category:\n",
    "                    local_subfolder = os.path.join(local_folder[category], relative_path)\n",
    "                    os.makedirs(local_subfolder, exist_ok=True)\n",
    "                    local_path = os.path.join(local_subfolder, file_name)\n",
    "                    s3.download_file(bucket, key, local_path)\n",
    "                    CHEMIN.append(local_path)\n",
    "    if 'CommonPrefixes' in response:\n",
    "        for folder in response['CommonPrefixes']:\n",
    "            download_from_s3(bucket, folder['Prefix'])\n",
    "\n",
    "for bucket in buckets:\n",
    "    print(f\"Downloading from bucket {bucket} ...\")\n",
    "    download_from_s3(bucket)\n",
    "\n",
    "print(\"Chemins des fichiers téléchargés :\")\n",
    "for chemin in CHEMIN:\n",
    "    print(chemin)"
   ],
   "outputs": [
    {
     "name": "stdout",
     "output_type": "stream",
     "text": [
      "Downloading from bucket test354680 ...\n",
      "Chemins des fichiers téléchargés :\n",
      "../../Majuscules\\Majuscule/A\\000000.png\n",
      "../../Majuscules\\Majuscule/B\\000000.png\n",
      "../../Majuscules\\Majuscule/C\\000000.png\n",
      "../../Majuscules\\Majuscule/D\\000000.png\n",
      "../../Majuscules\\Majuscule/E\\000000.png\n",
      "../../Majuscules\\Majuscule/F\\000000.png\n",
      "../../Majuscules\\Majuscule/G\\000000.png\n",
      "../../Majuscules\\Majuscule/H\\000000.png\n",
      "../../Majuscules\\Majuscule/I\\000000.png\n",
      "../../Majuscules\\Majuscule/J\\000000.png\n",
      "../../Majuscules\\Majuscule/K\\000000.png\n",
      "../../Majuscules\\Majuscule/L\\000000.png\n",
      "../../Majuscules\\Majuscule/M\\000000.png\n",
      "../../Majuscules\\Majuscule/N\\000000.png\n",
      "../../Majuscules\\Majuscule/O\\000000.png\n",
      "../../Majuscules\\Majuscule/P\\000000.png\n",
      "../../Majuscules\\Majuscule/Q\\000000.png\n",
      "../../Majuscules\\Majuscule/R\\000000.png\n",
      "../../Majuscules\\Majuscule/S\\000000.png\n",
      "../../Majuscules\\Majuscule/T\\000000.png\n",
      "../../Majuscules\\Majuscule/U\\000000.png\n",
      "../../Majuscules\\Majuscule/V\\000000.png\n",
      "../../Majuscules\\Majuscule/W\\000000.png\n",
      "../../Majuscules\\Majuscule/X\\000000.png\n",
      "../../Majuscules\\Majuscule/Y\\000000.png\n",
      "../../Majuscules\\Majuscule/Z\\000003.png\n"
     ]
    }
   ],
   "execution_count": 23
  },
  {
   "cell_type": "code",
   "metadata": {
    "ExecuteTime": {
     "end_time": "2025-02-17T22:57:22.684184Z",
     "start_time": "2025-02-17T22:57:22.668669Z"
    }
   },
   "source": [
    "def predict_image(chemin: str) -> json:\n",
    "    \"\"\"_summary_\n",
    "\n",
    "    Args:\n",
    "        chemin (str): chemin de l'image à prédire\n",
    "\n",
    "    Returns:\n",
    "        dict: JSON contenant, le chemin de l'image, la prédiction finale et les prédictions des différents modèles\n",
    "    \"\"\"\n",
    "    image_pixel = format_image(chemin)  # Récupération des pixels de l'image\n",
    "    image_pixel1d = image_pixel.reshape(1, 625)  # Transformation en tableau 2D\n",
    "    \n",
    "    # Split du chemin pour récupérer les informations\n",
    "    chemin_split = chemin.split(\"/\")  # Utiliser \"/\" pour les chemins S3\n",
    "    label = chemin_split[-2] if len(chemin_split) > 1 else \"Inconnu\"  # Le dossier parent est à l'avant-dernière position\n",
    "    \n",
    "    # Prédiction des différents modèles\n",
    "    predictions_type = model_type.predict(image_pixel1d)\n",
    "    predictions_maj = model_maj.predict(image_pixel1d)\n",
    "    predictions_min = model_min.predict(image_pixel1d)\n",
    "    predictions_nbr = model_nbr.predict(image_pixel1d)\n",
    "    \n",
    "    # Get max value of predictions\n",
    "    max_type = max(predictions_type[0])  # Type\n",
    "    max_maj = max(predictions_maj[0])  # Maj\n",
    "    max_min = max(predictions_min[0])  # Min\n",
    "    max_nbr = max(predictions_nbr[0])  # Nbr\n",
    "    \n",
    "    # Dictionnaire des probabilités\n",
    "    dictionnaire = {\n",
    "        max(predictions_maj[0]): \"MAJ\",\n",
    "        max(predictions_min[0]): \"MIN\",\n",
    "        max(predictions_nbr[0]): \"NBR\"\n",
    "    }\n",
    "    \n",
    "    # Get label type\n",
    "    type_img = TYPE[tf.argmax(predictions_type, axis=1).numpy()[0]]  # label type\n",
    "    \n",
    "    # Get label forme\n",
    "    maximum_forme = max(max_maj, max_min, max_nbr)  # probabilité forme\n",
    "    forme = dictionnaire[maximum_forme]  # label type\n",
    "    if forme == \"MAJ\":\n",
    "        label_max_forme = MAJ[tf.argmax(predictions_maj, axis=1).numpy()[0]]\n",
    "    elif forme == \"MIN\":\n",
    "        label_max_forme = MIN[tf.argmax(predictions_min, axis=1).numpy()[0]]\n",
    "    elif forme == \"NBR\":\n",
    "        label_max_forme = NBR[tf.argmax(predictions_nbr, axis=1).numpy()[0]]\n",
    "    \n",
    "    # JSON de retour pour l'API\n",
    "    json_retour_api = {\n",
    "        \"Image\": chemin,\n",
    "        \"Label\": label,  # Utiliser la valeur vérifiée\n",
    "        \"Prediction\": \"\",\n",
    "        \"Maj\": predictions_type[0][0],\n",
    "        \"Min\": predictions_type[0][1],\n",
    "        \"Nbr\": predictions_type[0][2],\n",
    "        \"A\": predictions_maj[0][0],\n",
    "        \"B\": predictions_maj[0][1],\n",
    "        \"C\": predictions_maj[0][2],\n",
    "        \"D\": predictions_maj[0][3],\n",
    "        \"E\": predictions_maj[0][4],\n",
    "        \"F\": predictions_maj[0][5],\n",
    "        \"G\": predictions_maj[0][6],\n",
    "        \"H\": predictions_maj[0][7],\n",
    "        \"I\": predictions_maj[0][8],\n",
    "        \"J\": predictions_maj[0][9],\n",
    "        \"K\": predictions_maj[0][10],\n",
    "        \"L\": predictions_maj[0][11],\n",
    "        \"M\": predictions_maj[0][12],\n",
    "        \"N\": predictions_maj[0][13],\n",
    "        \"O\": predictions_maj[0][14],\n",
    "        \"P\": predictions_maj[0][15],\n",
    "        \"Q\": predictions_maj[0][16],\n",
    "        \"R\": predictions_maj[0][17],\n",
    "        \"S\": predictions_maj[0][18],\n",
    "        \"T\": predictions_maj[0][19],\n",
    "        \"U\": predictions_maj[0][20],\n",
    "        \"V\": predictions_maj[0][21],\n",
    "        \"W\": predictions_maj[0][22],\n",
    "        \"X\": predictions_maj[0][23],\n",
    "        \"Y\": predictions_maj[0][24],\n",
    "        \"Z\": predictions_maj[0][25],\n",
    "        \"a\": predictions_min[0][0],\n",
    "        \"b\": predictions_min[0][1],\n",
    "        \"c\": predictions_min[0][2],\n",
    "        \"d\": predictions_min[0][3],\n",
    "        \"e\": predictions_min[0][4],\n",
    "        \"f\": predictions_min[0][5],\n",
    "        \"g\": predictions_min[0][6],\n",
    "        \"h\": predictions_min[0][7],\n",
    "        \"i\": predictions_min[0][8],\n",
    "        \"j\": predictions_min[0][9],\n",
    "        \"k\": predictions_min[0][10],\n",
    "        \"l\": predictions_min[0][11],\n",
    "        \"m\": predictions_min[0][12],\n",
    "        \"n\": predictions_min[0][13],\n",
    "        \"o\": predictions_min[0][14],\n",
    "        \"p\": predictions_min[0][15],\n",
    "        \"q\": predictions_min[0][16],\n",
    "        \"r\": predictions_min[0][17],\n",
    "        \"s\": predictions_min[0][18],\n",
    "        \"t\": predictions_min[0][19],\n",
    "        \"u\": predictions_min[0][20],\n",
    "        \"v\": predictions_min[0][21],\n",
    "        \"w\": predictions_min[0][22],\n",
    "        \"x\": predictions_min[0][23],\n",
    "        \"y\": predictions_min[0][24],\n",
    "        \"z\": predictions_min[0][25],\n",
    "        \"0\": predictions_nbr[0][0],\n",
    "        \"1\": predictions_nbr[0][1],\n",
    "        \"2\": predictions_nbr[0][2],\n",
    "        \"3\": predictions_nbr[0][3],\n",
    "        \"4\": predictions_nbr[0][4],\n",
    "        \"5\": predictions_nbr[0][5],\n",
    "        \"6\": predictions_nbr[0][6],\n",
    "        \"7\": predictions_nbr[0][7],\n",
    "        \"8\": predictions_nbr[0][8],\n",
    "        \"9\": predictions_nbr[0][9]\n",
    "    }\n",
    "    \n",
    "    # Choix de la prédiction finale \n",
    "    if type_img != forme:\n",
    "        max_max_max = max(max_type, maximum_forme)\n",
    "        if max_type == max_max_max:\n",
    "            if type_img == \"MAJ\":\n",
    "                json_retour_api[\"Prediction\"] = MAJ[tf.argmax(predictions_maj, axis=1).numpy()[0]]\n",
    "            elif type_img == \"MIN\":\n",
    "                json_retour_api[\"Prediction\"] = MIN[tf.argmax(predictions_min, axis=1).numpy()[0]]\n",
    "            elif type_img == \"NBR\":\n",
    "                json_retour_api[\"Prediction\"] = NBR[tf.argmax(predictions_nbr, axis=1).numpy()[0]]\n",
    "        else:\n",
    "            json_retour_api[\"Prediction\"] = label_max_forme\n",
    "    else:\n",
    "        json_retour_api[\"Prediction\"] = label_max_forme\n",
    "    \n",
    "    return json_retour_api  # Retourne le JSON"
   ],
   "outputs": [],
   "execution_count": 24
  },
  {
   "cell_type": "code",
   "metadata": {
    "ExecuteTime": {
     "end_time": "2025-02-17T22:57:31.684243Z",
     "start_time": "2025-02-17T22:57:31.679738Z"
    }
   },
   "source": [
    "#random_image = np.random.choice(CHEMAIN)\n",
    "#random_image\n",
    "\n",
    "# Exemple : Sélectionner un fichier au hasard\n",
    "\n",
    "import random\n",
    "fichier_aleatoire = random.choice(CHEMIN)\n",
    "print(f\"Fichier sélectionné au hasard : {fichier_aleatoire}\")\n"
   ],
   "outputs": [
    {
     "name": "stdout",
     "output_type": "stream",
     "text": [
      "Fichier sélectionné au hasard : ../../Majuscules\\Majuscule/W\\000000.png\n"
     ]
    }
   ],
   "execution_count": 25
  },
  {
   "cell_type": "code",
   "metadata": {
    "ExecuteTime": {
     "end_time": "2025-02-17T22:57:37.832931Z",
     "start_time": "2025-02-17T22:57:37.180099Z"
    }
   },
   "source": [
    "json = predict_image(fichier_aleatoire)\n",
    "print(\"Label :\", json[\"Label\"])\n",
    "print(\"Prediction :\", json[\"Prediction\"])"
   ],
   "outputs": [
    {
     "name": "stdout",
     "output_type": "stream",
     "text": [
      "\u001B[1m1/1\u001B[0m \u001B[32m━━━━━━━━━━━━━━━━━━━━\u001B[0m\u001B[37m\u001B[0m \u001B[1m0s\u001B[0m 258ms/step\n",
      "\u001B[1m1/1\u001B[0m \u001B[32m━━━━━━━━━━━━━━━━━━━━\u001B[0m\u001B[37m\u001B[0m \u001B[1m0s\u001B[0m 65ms/step\n",
      "\u001B[1m1/1\u001B[0m \u001B[32m━━━━━━━━━━━━━━━━━━━━\u001B[0m\u001B[37m\u001B[0m \u001B[1m0s\u001B[0m 64ms/step\n",
      "\u001B[1m1/1\u001B[0m \u001B[32m━━━━━━━━━━━━━━━━━━━━\u001B[0m\u001B[37m\u001B[0m \u001B[1m0s\u001B[0m 62ms/step\n",
      "Label : Majuscules\\Majuscule\n",
      "Prediction : w\n"
     ]
    }
   ],
   "execution_count": 26
  }
 ],
 "metadata": {
  "kernelspec": {
   "display_name": "Scribio",
   "language": "python",
   "name": "python3"
  },
  "language_info": {
   "codemirror_mode": {
    "name": "ipython",
    "version": 3
   },
   "file_extension": ".py",
   "mimetype": "text/x-python",
   "name": "python",
   "nbconvert_exporter": "python",
   "pygments_lexer": "ipython3",
   "version": "3.11.4"
  }
 },
 "nbformat": 4,
 "nbformat_minor": 2
}
