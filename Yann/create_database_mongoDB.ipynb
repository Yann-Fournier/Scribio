{
 "cells": [
  {
   "cell_type": "code",
   "execution_count": 18,
   "metadata": {},
   "outputs": [],
   "source": [
    "from IPython.display import clear_output # clear output\n",
    "from PIL import Image # image processing\n",
    "import numpy as np # linear algebra\n",
    "from tqdm import tqdm # progress bar\n",
    "import os # file handling\n",
    "from pymongo import MongoClient"
   ]
  },
  {
   "cell_type": "code",
   "execution_count": 19,
   "metadata": {},
   "outputs": [],
   "source": [
    "# Connexion à MongoDB\n",
    "client = MongoClient(\"mongodb://localhost:27017/Scibio\")  # Remplacez par l'URL de votre serveur MongoDB\n",
    "db = client[\"Scribio\"]  # Nom de la base de données\n",
    "collection = db[\"Dataset\"]  # Nom de la collection"
   ]
  },
  {
   "cell_type": "code",
   "execution_count": 20,
   "metadata": {},
   "outputs": [],
   "source": [
    "# Transformation des photos en dataframe\n",
    "def photo_to_dataframe(chemins_photos: str):\n",
    "    \"\"\"Transforme les photos en tableau de pixels et les sauvegarde dans un fichier csv\n",
    "\n",
    "    Args:\n",
    "        chemins_photos (str): Chemin des photos (on veut le dossier contenant les photos)\n",
    "        label (str): label de la photo (ce qui va être prédit)\n",
    "        separation (str): séparation des données (train, test, validation)\n",
    "    \"\"\"\n",
    "    tab_img = [] # Initialisation de la liste des images (dictionnaire avec les infos des images)\n",
    "    \n",
    "    # Split du chemin pour recupérer les informations\n",
    "    chemin_split = chemins_photos[0].split(\"\\\\\")\n",
    "    \n",
    "    # Affichage des dossiers en cours de traitement \n",
    "    print(\"..\\\\\" + chemin_split[1]) # Dataset\n",
    "    print(\"   \\\\\" + chemin_split[2]) # dataset, datasetDigit, datasetSmall\n",
    "    print(\"    \\\\\" + chemin_split[3]) # Répartition : test, train, validation\n",
    "    print(\"     \\\\\" + chemin_split[4]) # label (26 + 9 + 26)\n",
    "    \n",
    "    # Parcours et transformation des photos avec barre de progression \n",
    "    with tqdm(total=len(chemins_photos), desc=\"Proccessing\" , position=0, leave=True) as pbar:\n",
    "        for chemin in chemins_photos:\n",
    "            \n",
    "            \n",
    "            pbar.set_postfix(img=chemin[-10:]) # Mettre à jour la barre de progression avec des informations supplémentaires\n",
    "            \n",
    "            img = Image.open(chemin) # 300 x 300\n",
    "            nouvelle_taille = (50, 50) # 2500 \n",
    "            img_redimensionnee = img.resize(nouvelle_taille) # Redimensionner l'image\n",
    "            nb_image = img_redimensionnee.convert('L') # Convertion en noir et blanc\n",
    "            \n",
    "            #  Récupération de la liste des pixels\n",
    "            tab = []\n",
    "            for i in range(nb_image.size[1]):\n",
    "                row = []\n",
    "                for y in range(nb_image.size[0]):\n",
    "                    # Récupérer la couleur du pixel\n",
    "                    row.append(nb_image.getpixel((y, i)))\n",
    "                tab.append(row)\n",
    "                \n",
    "            tab_numpy = np.array(tab) / 255 # mise à l'échelle des données\n",
    "            tab_numpy_flatten = tab_numpy.flatten() # Transformation en tableau 1D\n",
    "            tab_img.append({  # Ajout du tableau dans la liste\n",
    "                \"Label\": chemin_split[4],\n",
    "                \"Repartition\": chemin_split[3],\n",
    "                \"Chemin\": chemin.replace('\\\\', '/'),\n",
    "                \"Tableau_Pixels\": tab_numpy_flatten.tolist()\n",
    "            })\n",
    "    \n",
    "            pbar.update(1) # Mettre à jour la barre de progression\n",
    "    \n",
    "    collection.insert_many(tab_img) # Insertion des données dans la base de données\n",
    "    \n",
    "    pbar.close() # Fermer la barre de progression\n",
    "    \n",
    "    clear_output()  # Effacer l'output précédent (sinon pb d'affichage de la barre de progression)"
   ]
  },
  {
   "cell_type": "code",
   "execution_count": 21,
   "metadata": {},
   "outputs": [],
   "source": [
    "# Parcours des dossiers et sous-dossiers pour recréer le dataset (recursion)\n",
    "def recreate_dataset(chemin: str):\n",
    "    \"\"\"Réecriture du dataset: transformation des photos en tableau de pixels et les sauvegarde dans un fichier csv\n",
    "    Cette fonction est récursive et doit être executer sur un dossier contenant la même arborescence que le dossier ../Dataset\n",
    "\n",
    "    Args:\n",
    "        chemin (str): chemin du dataset\n",
    "    \"\"\"\n",
    "    dossiers = [f for f in os.listdir(chemin) if os.path.isdir(os.path.join(chemin, f))]\n",
    "    if len(dossiers) == 0: # Si aucun dossier n'est trouvé, on est dans le cas de base\n",
    "        fichiers_png = [os.path.join(chemin, f) for f in os.listdir(chemin) if f.endswith('.png')] # on recupère et stocke les fichiers .png\n",
    "        photo_to_dataframe(fichiers_png) # On transforme les photos en tableau en df qu'on save dans une bdd\n",
    "    else : # Sinon, on continue de parcourir les dossiers\n",
    "        for dossier in dossiers:\n",
    "            recreate_dataset(os.path.join(chemin, dossier))"
   ]
  },
  {
   "cell_type": "code",
   "execution_count": 22,
   "metadata": {},
   "outputs": [
    {
     "name": "stdout",
     "output_type": "stream",
     "text": [
      "..\\Dataset\n",
      "   \\datasetDigit\n",
      "    \\train\n",
      "     \\1\n"
     ]
    },
    {
     "name": "stderr",
     "output_type": "stream",
     "text": [
      "Proccessing:  64%|██████▍   | 16134/25049 [02:25<01:20, 111.11it/s, img=016134.png]\n"
     ]
    },
    {
     "ename": "KeyboardInterrupt",
     "evalue": "",
     "output_type": "error",
     "traceback": [
      "\u001b[1;31m---------------------------------------------------------------------------\u001b[0m",
      "\u001b[1;31mKeyboardInterrupt\u001b[0m                         Traceback (most recent call last)",
      "Cell \u001b[1;32mIn[22], line 2\u001b[0m\n\u001b[0;32m      1\u001b[0m \u001b[38;5;66;03m# Appel de la fonction de parcours des dossiers\u001b[39;00m\n\u001b[1;32m----> 2\u001b[0m \u001b[43mrecreate_dataset\u001b[49m\u001b[43m(\u001b[49m\u001b[38;5;124;43m\"\u001b[39;49m\u001b[38;5;124;43m..\u001b[39;49m\u001b[38;5;124;43m\\\u001b[39;49m\u001b[38;5;124;43mDataset\u001b[39;49m\u001b[38;5;124;43m\"\u001b[39;49m\u001b[43m)\u001b[49m\n\u001b[0;32m      3\u001b[0m \u001b[38;5;66;03m# Temps : 257m 45.6s -> 4h 17m 45.6s\u001b[39;00m\n",
      "Cell \u001b[1;32mIn[21], line 15\u001b[0m, in \u001b[0;36mrecreate_dataset\u001b[1;34m(chemin)\u001b[0m\n\u001b[0;32m     13\u001b[0m \u001b[38;5;28;01melse\u001b[39;00m : \u001b[38;5;66;03m# Sinon, on continue de parcourir les dossiers\u001b[39;00m\n\u001b[0;32m     14\u001b[0m     \u001b[38;5;28;01mfor\u001b[39;00m dossier \u001b[38;5;129;01min\u001b[39;00m dossiers:\n\u001b[1;32m---> 15\u001b[0m         \u001b[43mrecreate_dataset\u001b[49m\u001b[43m(\u001b[49m\u001b[43mos\u001b[49m\u001b[38;5;241;43m.\u001b[39;49m\u001b[43mpath\u001b[49m\u001b[38;5;241;43m.\u001b[39;49m\u001b[43mjoin\u001b[49m\u001b[43m(\u001b[49m\u001b[43mchemin\u001b[49m\u001b[43m,\u001b[49m\u001b[43m \u001b[49m\u001b[43mdossier\u001b[49m\u001b[43m)\u001b[49m\u001b[43m)\u001b[49m\n",
      "Cell \u001b[1;32mIn[21], line 15\u001b[0m, in \u001b[0;36mrecreate_dataset\u001b[1;34m(chemin)\u001b[0m\n\u001b[0;32m     13\u001b[0m \u001b[38;5;28;01melse\u001b[39;00m : \u001b[38;5;66;03m# Sinon, on continue de parcourir les dossiers\u001b[39;00m\n\u001b[0;32m     14\u001b[0m     \u001b[38;5;28;01mfor\u001b[39;00m dossier \u001b[38;5;129;01min\u001b[39;00m dossiers:\n\u001b[1;32m---> 15\u001b[0m         \u001b[43mrecreate_dataset\u001b[49m\u001b[43m(\u001b[49m\u001b[43mos\u001b[49m\u001b[38;5;241;43m.\u001b[39;49m\u001b[43mpath\u001b[49m\u001b[38;5;241;43m.\u001b[39;49m\u001b[43mjoin\u001b[49m\u001b[43m(\u001b[49m\u001b[43mchemin\u001b[49m\u001b[43m,\u001b[49m\u001b[43m \u001b[49m\u001b[43mdossier\u001b[49m\u001b[43m)\u001b[49m\u001b[43m)\u001b[49m\n",
      "Cell \u001b[1;32mIn[21], line 15\u001b[0m, in \u001b[0;36mrecreate_dataset\u001b[1;34m(chemin)\u001b[0m\n\u001b[0;32m     13\u001b[0m \u001b[38;5;28;01melse\u001b[39;00m : \u001b[38;5;66;03m# Sinon, on continue de parcourir les dossiers\u001b[39;00m\n\u001b[0;32m     14\u001b[0m     \u001b[38;5;28;01mfor\u001b[39;00m dossier \u001b[38;5;129;01min\u001b[39;00m dossiers:\n\u001b[1;32m---> 15\u001b[0m         \u001b[43mrecreate_dataset\u001b[49m\u001b[43m(\u001b[49m\u001b[43mos\u001b[49m\u001b[38;5;241;43m.\u001b[39;49m\u001b[43mpath\u001b[49m\u001b[38;5;241;43m.\u001b[39;49m\u001b[43mjoin\u001b[49m\u001b[43m(\u001b[49m\u001b[43mchemin\u001b[49m\u001b[43m,\u001b[49m\u001b[43m \u001b[49m\u001b[43mdossier\u001b[49m\u001b[43m)\u001b[49m\u001b[43m)\u001b[49m\n",
      "Cell \u001b[1;32mIn[21], line 12\u001b[0m, in \u001b[0;36mrecreate_dataset\u001b[1;34m(chemin)\u001b[0m\n\u001b[0;32m     10\u001b[0m \u001b[38;5;28;01mif\u001b[39;00m \u001b[38;5;28mlen\u001b[39m(dossiers) \u001b[38;5;241m==\u001b[39m \u001b[38;5;241m0\u001b[39m: \u001b[38;5;66;03m# Si aucun dossier n'est trouvé, on est dans le cas de base\u001b[39;00m\n\u001b[0;32m     11\u001b[0m     fichiers_png \u001b[38;5;241m=\u001b[39m [os\u001b[38;5;241m.\u001b[39mpath\u001b[38;5;241m.\u001b[39mjoin(chemin, f) \u001b[38;5;28;01mfor\u001b[39;00m f \u001b[38;5;129;01min\u001b[39;00m os\u001b[38;5;241m.\u001b[39mlistdir(chemin) \u001b[38;5;28;01mif\u001b[39;00m f\u001b[38;5;241m.\u001b[39mendswith(\u001b[38;5;124m'\u001b[39m\u001b[38;5;124m.png\u001b[39m\u001b[38;5;124m'\u001b[39m)] \u001b[38;5;66;03m# on recupère et stocke les fichiers .png\u001b[39;00m\n\u001b[1;32m---> 12\u001b[0m     \u001b[43mphoto_to_dataframe\u001b[49m\u001b[43m(\u001b[49m\u001b[43mfichiers_png\u001b[49m\u001b[43m)\u001b[49m \u001b[38;5;66;03m# On transforme les photos en tableau en df qu'on save dans une bdd\u001b[39;00m\n\u001b[0;32m     13\u001b[0m \u001b[38;5;28;01melse\u001b[39;00m : \u001b[38;5;66;03m# Sinon, on continue de parcourir les dossiers\u001b[39;00m\n\u001b[0;32m     14\u001b[0m     \u001b[38;5;28;01mfor\u001b[39;00m dossier \u001b[38;5;129;01min\u001b[39;00m dossiers:\n",
      "Cell \u001b[1;32mIn[20], line 28\u001b[0m, in \u001b[0;36mphoto_to_dataframe\u001b[1;34m(chemins_photos)\u001b[0m\n\u001b[0;32m     23\u001b[0m \u001b[38;5;28;01mfor\u001b[39;00m chemin \u001b[38;5;129;01min\u001b[39;00m chemins_photos:\n\u001b[0;32m     26\u001b[0m     pbar\u001b[38;5;241m.\u001b[39mset_postfix(img\u001b[38;5;241m=\u001b[39mchemin[\u001b[38;5;241m-\u001b[39m\u001b[38;5;241m10\u001b[39m:]) \u001b[38;5;66;03m# Mettre à jour la barre de progression avec des informations supplémentaires\u001b[39;00m\n\u001b[1;32m---> 28\u001b[0m     img \u001b[38;5;241m=\u001b[39m \u001b[43mImage\u001b[49m\u001b[38;5;241;43m.\u001b[39;49m\u001b[43mopen\u001b[49m\u001b[43m(\u001b[49m\u001b[43mchemin\u001b[49m\u001b[43m)\u001b[49m \u001b[38;5;66;03m# 300 x 300\u001b[39;00m\n\u001b[0;32m     29\u001b[0m     nouvelle_taille \u001b[38;5;241m=\u001b[39m (\u001b[38;5;241m50\u001b[39m, \u001b[38;5;241m50\u001b[39m) \u001b[38;5;66;03m# 2500 \u001b[39;00m\n\u001b[0;32m     30\u001b[0m     img_redimensionnee \u001b[38;5;241m=\u001b[39m img\u001b[38;5;241m.\u001b[39mresize(nouvelle_taille) \u001b[38;5;66;03m# Redimensionner l'image\u001b[39;00m\n",
      "File \u001b[1;32mc:\\Users\\yfour\\Documents\\EnvsPython\\Scribio\\Lib\\site-packages\\PIL\\Image.py:3469\u001b[0m, in \u001b[0;36mopen\u001b[1;34m(fp, mode, formats)\u001b[0m\n\u001b[0;32m   3466\u001b[0m     filename \u001b[38;5;241m=\u001b[39m os\u001b[38;5;241m.\u001b[39mpath\u001b[38;5;241m.\u001b[39mrealpath(os\u001b[38;5;241m.\u001b[39mfspath(fp))\n\u001b[0;32m   3468\u001b[0m \u001b[38;5;28;01mif\u001b[39;00m filename:\n\u001b[1;32m-> 3469\u001b[0m     fp \u001b[38;5;241m=\u001b[39m builtins\u001b[38;5;241m.\u001b[39mopen(filename, \u001b[38;5;124m\"\u001b[39m\u001b[38;5;124mrb\u001b[39m\u001b[38;5;124m\"\u001b[39m)\n\u001b[0;32m   3470\u001b[0m     exclusive_fp \u001b[38;5;241m=\u001b[39m \u001b[38;5;28;01mTrue\u001b[39;00m\n\u001b[0;32m   3471\u001b[0m \u001b[38;5;28;01melse\u001b[39;00m:\n",
      "\u001b[1;31mKeyboardInterrupt\u001b[0m: "
     ]
    }
   ],
   "source": [
    "# Appel de la fonction de parcours des dossiers\n",
    "recreate_dataset(\"..\\Dataset\")\n",
    "# Temps : 40min 30.0s"
   ]
  },
  {
   "cell_type": "code",
   "execution_count": null,
   "metadata": {},
   "outputs": [],
   "source": []
  }
 ],
 "metadata": {
  "kernelspec": {
   "display_name": "Scribio",
   "language": "python",
   "name": "python3"
  },
  "language_info": {
   "codemirror_mode": {
    "name": "ipython",
    "version": 3
   },
   "file_extension": ".py",
   "mimetype": "text/x-python",
   "name": "python",
   "nbconvert_exporter": "python",
   "pygments_lexer": "ipython3",
   "version": "3.11.4"
  }
 },
 "nbformat": 4,
 "nbformat_minor": 2
}
