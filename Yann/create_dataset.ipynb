{
 "cells": [
  {
   "cell_type": "code",
   "execution_count": null,
   "id": "initial_id",
   "metadata": {
    "ExecuteTime": {
     "end_time": "2024-12-03T08:20:21.865116Z",
     "start_time": "2024-12-03T08:20:21.862660Z"
    },
    "collapsed": true
   },
   "outputs": [],
   "source": [
    "from IPython.display import clear_output # clear output\n",
    "from PIL import Image # image processing\n",
    "import numpy as np # linear algebra\n",
    "from tqdm import tqdm # progress bar\n",
    "import os # file handling\n",
    "import sqlite3 # database"
   ]
  },
  {
   "cell_type": "code",
   "execution_count": 12,
   "id": "32007105",
   "metadata": {},
   "outputs": [],
   "source": [
    "# Connexion à la base de données SQLite (création si elle n'existe pas)\n",
    "conn = sqlite3.connect('../Dataset/dataset.db')\n",
    "cursor = conn.cursor()"
   ]
  },
  {
   "cell_type": "code",
   "execution_count": null,
   "id": "13bbf1c8",
   "metadata": {},
   "outputs": [
    {
     "data": {
      "text/plain": [
       "<sqlite3.Cursor at 0x2e32e7b8dc0>"
      ]
     },
     "execution_count": 13,
     "metadata": {},
     "output_type": "execute_result"
    }
   ],
   "source": [
    "# Suppression de la table photo si elle existe\n",
    "# Si besoin de reset la table photo\n",
    "cursor.execute(\"DROP TABLE IF EXISTS Photo;\")"
   ]
  },
  {
   "cell_type": "code",
   "execution_count": null,
   "id": "5229259c",
   "metadata": {},
   "outputs": [
    {
     "data": {
      "text/plain": [
       "<sqlite3.Cursor at 0x2e32e7b8dc0>"
      ]
     },
     "execution_count": 14,
     "metadata": {},
     "output_type": "execute_result"
    }
   ],
   "source": [
    "# Création de la table avec les infos des photos\n",
    "cursor.execute('''\n",
    "CREATE TABLE IF NOT EXISTS Photo (\n",
    "    id INTEGER PRIMARY KEY AUTOINCREMENT,\n",
    "    Label VARCHAR(1),\n",
    "    Repartition VARCHAR(10),\n",
    "    Chemin VARCHAR(100),\n",
    "    Tableau_Pixels TEXT\n",
    ")\n",
    "''')"
   ]
  },
  {
   "cell_type": "code",
   "execution_count": null,
   "id": "7d63f55b8de13337",
   "metadata": {
    "ExecuteTime": {
     "end_time": "2024-12-03T08:20:21.892788Z",
     "start_time": "2024-12-03T08:20:21.887007Z"
    }
   },
   "outputs": [],
   "source": [
    "# Transformation des photos en dataframe\n",
    "def photo_to_dataframe(chemins_photos: str, label: str, separation: str, type_data: str):\n",
    "    \"\"\"Transforme les photos en tableau de pixels et les sauvegarde dans un fichier csv\n",
    "\n",
    "    Args:\n",
    "        chemins_photos (str): Chemin des photos (on veut le dossier contenant les photos)\n",
    "        label (str): label de la photo (ce qui va être prédit)\n",
    "        separation (str): séparation des données (train, test, validation)\n",
    "    \"\"\"\n",
    "    \n",
    "    # Affichage des dossiers en cours de traitement \n",
    "    print(\"..\\Dataset\")\n",
    "    print(\"    \\\\\" + type_data)\n",
    "    print(\"      \\\\\" + separation)\n",
    "    print(\"        \\\\\" + label)\n",
    "    \n",
    "    # Parcours et transformation des photos avec barre de progression \n",
    "    with tqdm(total=len(chemins_photos), desc=\"Proccessing\" , position=0, leave=True) as pbar:\n",
    "        for chemin in chemins_photos:\n",
    "            \n",
    "            pbar.set_postfix(img=chemin[-10:]) # Mettre à jour la barre de progression avec des informations supplémentaires\n",
    "            \n",
    "            img = Image.open(chemin) # 300 x 300\n",
    "            nouvelle_taille = (50, 50) # 2500 \n",
    "            img_redimensionnee = img.resize(nouvelle_taille) # Redimensionner l'image\n",
    "            nb_image = img_redimensionnee.convert('L') # Convertion en noir et blanc\n",
    "            \n",
    "            #  Récupération de la liste des pixels\n",
    "            tab = []\n",
    "            for i in range(nb_image.size[1]):\n",
    "                row = []\n",
    "                for y in range(nb_image.size[0]):\n",
    "                    # Récupérer la couleur du pixel\n",
    "                    row.append(nb_image.getpixel((y, i)))\n",
    "                # tab.append(np.array(row))\n",
    "                tab.append(row)\n",
    "                \n",
    "            tab_numpy = np.array(tab) / 255 # mise à l'échelle des données\n",
    "            tab_numpy_flatten = tab_numpy.flatten() # Transformation en tableau 1D\n",
    "            tab_numpy_flatten_str = np.array2string(tab_numpy_flatten, separator=\",\", threshold=np.inf)\n",
    "            \n",
    "            # insertion des données dans la base de données\n",
    "            cursor.execute('INSERT INTO Photo (Label, Repartition, Chemin, Tableau_Pixels) VALUES (?, ?, ?, ?)', (label, separation, chemin.replace('\\\\', '/'), tab_numpy_flatten_str.replace('\\n', '')))\n",
    "                \n",
    "            pbar.update(1) # Mettre à jour la barre de progression\n",
    "            \n",
    "        # Validation de l'insertion des données \n",
    "        conn.commit()\n",
    "    \n",
    "    clear_output()  # Effacer l'output précédent (sinon pb d'affichage de la barre de progression)"
   ]
  },
  {
   "cell_type": "code",
   "execution_count": 16,
   "id": "4a88b99a42ab249b",
   "metadata": {
    "ExecuteTime": {
     "end_time": "2024-12-03T08:20:21.902720Z",
     "start_time": "2024-12-03T08:20:21.898862Z"
    }
   },
   "outputs": [],
   "source": [
    "# Parcours des dossiers et sous-dossiers pour recréer le dataset (recursion)\n",
    "def recreate_dataset(chemin: str, profondeur: int, label: str, separation: str, type_data: str):\n",
    "    \"\"\"Réecriture du dataset: transformation des photos en tableau de pixels et les sauvegarde dans un fichier csv\n",
    "    Cette fonction est récursive et doit être executer sur un dossier contenant la même arborescence que le dossier ../Dataset\n",
    "\n",
    "    Args:\n",
    "        chemin (str): chemin du dataset\n",
    "        profondeur (int): profondeur de la recursion (elle permet aussi de récupérer les labels et les séparations)\n",
    "        label (str): label de la photo (ce qui va être prédit)\n",
    "        separation (str): séparation des données (train, test, validation)\n",
    "    \"\"\"\n",
    "    dossiers = [f for f in os.listdir(chemin) if os.path.isdir(os.path.join(chemin, f))]\n",
    "    if len(dossiers) == 0: # Si aucun dossier n'est trouvé, on est dans le cas de base\n",
    "        fichiers_png = [os.path.join(chemin, f) for f in os.listdir(chemin) if f.endswith('.png')] # on recupère et stocke les fichiers .png\n",
    "        photo_to_dataframe(fichiers_png, label, separation, type_data) # On transforme les photos en tableau en df qu'on save dans un fichier.csv\n",
    "    else : # Sinon, on continue de parcourir les dossiers\n",
    "        for dossier in dossiers:\n",
    "            if type_data == 0:\n",
    "                type_data = dossier\n",
    "            if profondeur == 1:\n",
    "                separation = dossier\n",
    "            if profondeur == 2:\n",
    "                label = dossier\n",
    "            recreate_dataset(os.path.join(chemin, dossier), profondeur + 1, label, separation, type_data)"
   ]
  },
  {
   "cell_type": "code",
   "execution_count": null,
   "id": "18ac87b4473870f5",
   "metadata": {},
   "outputs": [
    {
     "name": "stdout",
     "output_type": "stream",
     "text": [
      "..\\Dataset\n",
      "    \\dataset\n",
      "      \\test\n",
      "        \\B\n"
     ]
    },
    {
     "name": "stderr",
     "output_type": "stream",
     "text": [
      "Proccessing:   6%|▌         | 53/877 [00:00<00:07, 104.72it/s, img=000053.png]\n"
     ]
    },
    {
     "ename": "KeyboardInterrupt",
     "evalue": "",
     "output_type": "error",
     "traceback": [
      "\u001b[1;31m---------------------------------------------------------------------------\u001b[0m",
      "\u001b[1;31mKeyboardInterrupt\u001b[0m                         Traceback (most recent call last)",
      "Cell \u001b[1;32mIn[17], line 2\u001b[0m\n\u001b[0;32m      1\u001b[0m \u001b[38;5;66;03m# Appel de la fonction de parcours des dossiers\u001b[39;00m\n\u001b[1;32m----> 2\u001b[0m \u001b[43mrecreate_dataset\u001b[49m\u001b[43m(\u001b[49m\u001b[38;5;124;43m\"\u001b[39;49m\u001b[38;5;124;43m..\u001b[39;49m\u001b[38;5;124;43m\\\u001b[39;49m\u001b[38;5;124;43mDataset\u001b[39;49m\u001b[38;5;124;43m\"\u001b[39;49m\u001b[43m,\u001b[49m\u001b[43m \u001b[49m\u001b[38;5;241;43m0\u001b[39;49m\u001b[43m,\u001b[49m\u001b[43m \u001b[49m\u001b[38;5;124;43m\"\u001b[39;49m\u001b[38;5;124;43mtruc\u001b[39;49m\u001b[38;5;124;43m\"\u001b[39;49m\u001b[43m,\u001b[49m\u001b[43m \u001b[49m\u001b[38;5;124;43m\"\u001b[39;49m\u001b[38;5;124;43mbidule\u001b[39;49m\u001b[38;5;124;43m\"\u001b[39;49m\u001b[43m,\u001b[49m\u001b[43m \u001b[49m\u001b[38;5;124;43m\"\u001b[39;49m\u001b[38;5;124;43mdataset\u001b[39;49m\u001b[38;5;124;43m\"\u001b[39;49m\u001b[43m)\u001b[49m\n\u001b[0;32m      3\u001b[0m \u001b[38;5;66;03m# La valeur \"test\" comme 5ème argument est obligatoire pour ne pas avoir de fichier en plus ...\u001b[39;00m\n",
      "Cell \u001b[1;32mIn[16], line 24\u001b[0m, in \u001b[0;36mrecreate_dataset\u001b[1;34m(chemin, profondeur, label, separation, type_data)\u001b[0m\n\u001b[0;32m     22\u001b[0m \u001b[38;5;28;01mif\u001b[39;00m profondeur \u001b[38;5;241m==\u001b[39m \u001b[38;5;241m2\u001b[39m:\n\u001b[0;32m     23\u001b[0m     label \u001b[38;5;241m=\u001b[39m dossier\n\u001b[1;32m---> 24\u001b[0m \u001b[43mrecreate_dataset\u001b[49m\u001b[43m(\u001b[49m\u001b[43mos\u001b[49m\u001b[38;5;241;43m.\u001b[39;49m\u001b[43mpath\u001b[49m\u001b[38;5;241;43m.\u001b[39;49m\u001b[43mjoin\u001b[49m\u001b[43m(\u001b[49m\u001b[43mchemin\u001b[49m\u001b[43m,\u001b[49m\u001b[43m \u001b[49m\u001b[43mdossier\u001b[49m\u001b[43m)\u001b[49m\u001b[43m,\u001b[49m\u001b[43m \u001b[49m\u001b[43mprofondeur\u001b[49m\u001b[43m \u001b[49m\u001b[38;5;241;43m+\u001b[39;49m\u001b[43m \u001b[49m\u001b[38;5;241;43m1\u001b[39;49m\u001b[43m,\u001b[49m\u001b[43m \u001b[49m\u001b[43mlabel\u001b[49m\u001b[43m,\u001b[49m\u001b[43m \u001b[49m\u001b[43mseparation\u001b[49m\u001b[43m,\u001b[49m\u001b[43m \u001b[49m\u001b[43mtype_data\u001b[49m\u001b[43m)\u001b[49m\n",
      "Cell \u001b[1;32mIn[16], line 24\u001b[0m, in \u001b[0;36mrecreate_dataset\u001b[1;34m(chemin, profondeur, label, separation, type_data)\u001b[0m\n\u001b[0;32m     22\u001b[0m \u001b[38;5;28;01mif\u001b[39;00m profondeur \u001b[38;5;241m==\u001b[39m \u001b[38;5;241m2\u001b[39m:\n\u001b[0;32m     23\u001b[0m     label \u001b[38;5;241m=\u001b[39m dossier\n\u001b[1;32m---> 24\u001b[0m \u001b[43mrecreate_dataset\u001b[49m\u001b[43m(\u001b[49m\u001b[43mos\u001b[49m\u001b[38;5;241;43m.\u001b[39;49m\u001b[43mpath\u001b[49m\u001b[38;5;241;43m.\u001b[39;49m\u001b[43mjoin\u001b[49m\u001b[43m(\u001b[49m\u001b[43mchemin\u001b[49m\u001b[43m,\u001b[49m\u001b[43m \u001b[49m\u001b[43mdossier\u001b[49m\u001b[43m)\u001b[49m\u001b[43m,\u001b[49m\u001b[43m \u001b[49m\u001b[43mprofondeur\u001b[49m\u001b[43m \u001b[49m\u001b[38;5;241;43m+\u001b[39;49m\u001b[43m \u001b[49m\u001b[38;5;241;43m1\u001b[39;49m\u001b[43m,\u001b[49m\u001b[43m \u001b[49m\u001b[43mlabel\u001b[49m\u001b[43m,\u001b[49m\u001b[43m \u001b[49m\u001b[43mseparation\u001b[49m\u001b[43m,\u001b[49m\u001b[43m \u001b[49m\u001b[43mtype_data\u001b[49m\u001b[43m)\u001b[49m\n",
      "Cell \u001b[1;32mIn[16], line 24\u001b[0m, in \u001b[0;36mrecreate_dataset\u001b[1;34m(chemin, profondeur, label, separation, type_data)\u001b[0m\n\u001b[0;32m     22\u001b[0m \u001b[38;5;28;01mif\u001b[39;00m profondeur \u001b[38;5;241m==\u001b[39m \u001b[38;5;241m2\u001b[39m:\n\u001b[0;32m     23\u001b[0m     label \u001b[38;5;241m=\u001b[39m dossier\n\u001b[1;32m---> 24\u001b[0m \u001b[43mrecreate_dataset\u001b[49m\u001b[43m(\u001b[49m\u001b[43mos\u001b[49m\u001b[38;5;241;43m.\u001b[39;49m\u001b[43mpath\u001b[49m\u001b[38;5;241;43m.\u001b[39;49m\u001b[43mjoin\u001b[49m\u001b[43m(\u001b[49m\u001b[43mchemin\u001b[49m\u001b[43m,\u001b[49m\u001b[43m \u001b[49m\u001b[43mdossier\u001b[49m\u001b[43m)\u001b[49m\u001b[43m,\u001b[49m\u001b[43m \u001b[49m\u001b[43mprofondeur\u001b[49m\u001b[43m \u001b[49m\u001b[38;5;241;43m+\u001b[39;49m\u001b[43m \u001b[49m\u001b[38;5;241;43m1\u001b[39;49m\u001b[43m,\u001b[49m\u001b[43m \u001b[49m\u001b[43mlabel\u001b[49m\u001b[43m,\u001b[49m\u001b[43m \u001b[49m\u001b[43mseparation\u001b[49m\u001b[43m,\u001b[49m\u001b[43m \u001b[49m\u001b[43mtype_data\u001b[49m\u001b[43m)\u001b[49m\n",
      "Cell \u001b[1;32mIn[16], line 15\u001b[0m, in \u001b[0;36mrecreate_dataset\u001b[1;34m(chemin, profondeur, label, separation, type_data)\u001b[0m\n\u001b[0;32m     13\u001b[0m \u001b[38;5;28;01mif\u001b[39;00m \u001b[38;5;28mlen\u001b[39m(dossiers) \u001b[38;5;241m==\u001b[39m \u001b[38;5;241m0\u001b[39m: \u001b[38;5;66;03m# Si aucun dossier n'est trouvé, on est dans le cas de base\u001b[39;00m\n\u001b[0;32m     14\u001b[0m     fichiers_png \u001b[38;5;241m=\u001b[39m [os\u001b[38;5;241m.\u001b[39mpath\u001b[38;5;241m.\u001b[39mjoin(chemin, f) \u001b[38;5;28;01mfor\u001b[39;00m f \u001b[38;5;129;01min\u001b[39;00m os\u001b[38;5;241m.\u001b[39mlistdir(chemin) \u001b[38;5;28;01mif\u001b[39;00m f\u001b[38;5;241m.\u001b[39mendswith(\u001b[38;5;124m'\u001b[39m\u001b[38;5;124m.png\u001b[39m\u001b[38;5;124m'\u001b[39m)] \u001b[38;5;66;03m# on recupère et stocke les fichiers .png\u001b[39;00m\n\u001b[1;32m---> 15\u001b[0m     \u001b[43mphoto_to_dataframe\u001b[49m\u001b[43m(\u001b[49m\u001b[43mfichiers_png\u001b[49m\u001b[43m,\u001b[49m\u001b[43m \u001b[49m\u001b[43mlabel\u001b[49m\u001b[43m,\u001b[49m\u001b[43m \u001b[49m\u001b[43mseparation\u001b[49m\u001b[43m,\u001b[49m\u001b[43m \u001b[49m\u001b[43mtype_data\u001b[49m\u001b[43m)\u001b[49m \u001b[38;5;66;03m# On transforme les photos en tableau en df qu'on save dans un fichier.csv\u001b[39;00m\n\u001b[0;32m     16\u001b[0m \u001b[38;5;28;01melse\u001b[39;00m : \u001b[38;5;66;03m# Sinon, on continue de parcourir les dossiers\u001b[39;00m\n\u001b[0;32m     17\u001b[0m     \u001b[38;5;28;01mfor\u001b[39;00m dossier \u001b[38;5;129;01min\u001b[39;00m dossiers:\n",
      "Cell \u001b[1;32mIn[15], line 45\u001b[0m, in \u001b[0;36mphoto_to_dataframe\u001b[1;34m(chemins_photos, label, separation, type_data)\u001b[0m\n\u001b[0;32m     42\u001b[0m     tab\u001b[38;5;241m.\u001b[39mappend(row)\n\u001b[0;32m     44\u001b[0m tab_numpy \u001b[38;5;241m=\u001b[39m np\u001b[38;5;241m.\u001b[39marray(tab) \u001b[38;5;241m/\u001b[39m \u001b[38;5;241m255\u001b[39m \u001b[38;5;66;03m# mise à l'échelle des données\u001b[39;00m\n\u001b[1;32m---> 45\u001b[0m tab_numpy_flatten \u001b[38;5;241m=\u001b[39m tab_numpy\u001b[38;5;241m.\u001b[39mflatten() \u001b[38;5;66;03m# Transformation en tableau 1D\u001b[39;00m\n\u001b[0;32m     46\u001b[0m tab_numpy_flatten_str \u001b[38;5;241m=\u001b[39m np\u001b[38;5;241m.\u001b[39marray2string(tab_numpy_flatten, separator\u001b[38;5;241m=\u001b[39m\u001b[38;5;124m\"\u001b[39m\u001b[38;5;124m,\u001b[39m\u001b[38;5;124m\"\u001b[39m, threshold\u001b[38;5;241m=\u001b[39mnp\u001b[38;5;241m.\u001b[39minf)\n\u001b[0;32m     48\u001b[0m \u001b[38;5;66;03m# insertion des données dans la base de données\u001b[39;00m\n",
      "\u001b[1;31mKeyboardInterrupt\u001b[0m: "
     ]
    }
   ],
   "source": [
    "# Appel de la fonction de parcours des dossiers\n",
    "recreate_dataset(\"..\\Dataset\", 0, \"truc\", \"bidule\", \"dataset\")\n",
    "# La valeur \"dataset\" comme 5ème argument est obligatoire pour ne pas avoir de fichier en plus ..."
   ]
  },
  {
   "cell_type": "code",
   "execution_count": 18,
   "id": "2a2ca262",
   "metadata": {},
   "outputs": [],
   "source": [
    "conn.close() # Fermeture de la connexion à la base de données SQLite"
   ]
  }
 ],
 "metadata": {
  "kernelspec": {
   "display_name": "Scribio",
   "language": "python",
   "name": "python3"
  },
  "language_info": {
   "codemirror_mode": {
    "name": "ipython",
    "version": 3
   },
   "file_extension": ".py",
   "mimetype": "text/x-python",
   "name": "python",
   "nbconvert_exporter": "python",
   "pygments_lexer": "ipython3",
   "version": "3.11.4"
  }
 },
 "nbformat": 4,
 "nbformat_minor": 5
}
