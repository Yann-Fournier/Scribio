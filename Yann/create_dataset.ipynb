{
 "cells": [
  {
   "cell_type": "code",
   "execution_count": 111,
   "id": "initial_id",
   "metadata": {
    "ExecuteTime": {
     "end_time": "2024-12-03T08:20:21.865116Z",
     "start_time": "2024-12-03T08:20:21.862660Z"
    },
    "collapsed": true
   },
   "outputs": [],
   "source": [
    "from IPython.display import clear_output\n",
    "from PIL import Image\n",
    "import numpy as np\n",
    "import pandas as pd\n",
    "from tqdm import tqdm\n",
    "import os"
   ]
  },
  {
   "cell_type": "code",
   "execution_count": 112,
   "id": "fe483dd4",
   "metadata": {},
   "outputs": [],
   "source": [
    "# Initialisation des variables\n",
    "X_train = np.array([])\n",
    "Y_train = np.array([])\n",
    "X_test = np.array([])\n",
    "Y_test = np.array([])\n",
    "X_validation = np.array([])\n",
    "Y_validation = np.array([])\n",
    "old_type_data = \"dataset\""
   ]
  },
  {
   "cell_type": "code",
   "execution_count": 113,
   "id": "7d63f55b8de13337",
   "metadata": {
    "ExecuteTime": {
     "end_time": "2024-12-03T08:20:21.892788Z",
     "start_time": "2024-12-03T08:20:21.887007Z"
    }
   },
   "outputs": [],
   "source": [
    "# Transformation des photos en dataframe\n",
    "def photo_to_dataframe(chemins_photos: str, label: str, separation: str, type_data: str):\n",
    "    \"\"\"Transforme les photos en tableau de pixels et les sauvegarde dans un fichier csv\n",
    "\n",
    "    Args:\n",
    "        chemins_photos (str): Chemin des photos (on veut le dossier contenant les photos)\n",
    "        label (str): label de la photo (ce qui va être prédit)\n",
    "        separation (str): séparation des données (train, test, validation)\n",
    "    \"\"\"\n",
    "    # Initialisation des variables globales dans la fonction\n",
    "    global X_train\n",
    "    global Y_train\n",
    "    global X_test\n",
    "    global Y_test\n",
    "    global X_validation\n",
    "    global Y_validation\n",
    "    global old_type_data\n",
    "    \n",
    "    print(\"..\\Dataset\")\n",
    "    print(\"    \\\\\" + type_data)\n",
    "    print(\"      \\\\\" + separation)\n",
    "    print(\"        \\\\\" + label)# Afficher le dossier en cours de traitement\n",
    "    # Parcours et transformation des photos avec barre de progression \n",
    "    with tqdm(total=len(chemins_photos), desc=\"Proccessing\" , position=0, leave=True) as pbar:\n",
    "        for chemin in chemins_photos:\n",
    "            \n",
    "            pbar.set_postfix(img=chemin[-10:]) # Mettre à jour la barre de progression avec des informations supplémentaires\n",
    "            \n",
    "            img = Image.open(chemin) # 300 x 300\n",
    "            nouvelle_taille = (50, 50) # 2500 \n",
    "            img_redimensionnee = img.resize(nouvelle_taille) # Redimensionner l'image\n",
    "            nb_image = img_redimensionnee.convert('L') # Convertion en noir et blanc\n",
    "            \n",
    "            #  Récupération de la liste des pixels\n",
    "            tab = []\n",
    "            for i in range(nb_image.size[1]):\n",
    "                row = []\n",
    "                for y in range(nb_image.size[0]):\n",
    "                    # Récupérer la couleur du pixel\n",
    "                    row.append(nb_image.getpixel((y, i)))\n",
    "                # tab.append(np.array(row))\n",
    "                tab.append(row)\n",
    "                \n",
    "            tab_numpy = np.array(tab) / 255 # mise à l'échelle des données\n",
    "            \n",
    "            # Sauvegarde des données dans un fichier npz\n",
    "            if old_type_data != type_data: # si ils ne sont pls égaux, c'est qu'on a changé de type de données (dataset, datasetDigit, datasetSmall)\n",
    "                # sauvegarde des tableaux numpy\n",
    "                np.savez(\"../Dataset/\" + old_type_data + \".npz\", tableau1=X_train, tableau2=Y_train, tableau3=X_test, tableau4=Y_test, tableau5=X_validation, tableau6=Y_validation)\n",
    "                \n",
    "                # Réinitialisation des variables\n",
    "                X_train = np.array([])\n",
    "                Y_train = np.array([])\n",
    "                X_test = np.array([])\n",
    "                Y_test = np.array([])\n",
    "                X_validation = np.array([])\n",
    "                Y_validation = np.array([])\n",
    "                \n",
    "            if separation == \"test\":\n",
    "                X_test = np.append(X_test, tab_numpy)\n",
    "                Y_test = np.append(Y_test, label)\n",
    "            elif separation == \"train\":\n",
    "                X_train = np.append(X_train, tab_numpy)\n",
    "                Y_train = np.append(Y_train, label)\n",
    "            elif separation == \"validation\":\n",
    "                X_validation = np.append(X_validation, tab_numpy)\n",
    "                Y_validation = np.append(Y_validation, label)\n",
    "            \n",
    "            old_type_data = type_data\n",
    "                \n",
    "            pbar.update(1) # Mettre à jour la barre de progression\n",
    "    \n",
    "    clear_output()  # Effacer l'output précédent (sinon pb d'affichage de la barre de progression)"
   ]
  },
  {
   "cell_type": "code",
   "execution_count": 114,
   "id": "4a88b99a42ab249b",
   "metadata": {
    "ExecuteTime": {
     "end_time": "2024-12-03T08:20:21.902720Z",
     "start_time": "2024-12-03T08:20:21.898862Z"
    }
   },
   "outputs": [],
   "source": [
    "# Parcours des dossiers et sous-dossiers pour recréer le dataset (recursion)\n",
    "def recreate_dataset(chemin: str, profondeur: int, label: str, separation: str, type_data: str):\n",
    "    \"\"\"Réecriture du dataset: transformation des photos en tableau de pixels et les sauvegarde dans un fichier csv\n",
    "    Cette fonction est récursive et doit être executer sur un dossier contenant la même arborescence que le dossier ../Dataset\n",
    "\n",
    "    Args:\n",
    "        chemin (str): chemin du dataset\n",
    "        profondeur (int): profondeur de la recursion (elle permet aussi de récupérer les labels et les séparations)\n",
    "        label (str): label de la photo (ce qui va être prédit)\n",
    "        separation (str): séparation des données (train, test, validation)\n",
    "    \"\"\"\n",
    "    dossiers = [f for f in os.listdir(chemin) if os.path.isdir(os.path.join(chemin, f))]\n",
    "    if len(dossiers) == 0: # Si aucun dossier n'est trouvé, on est dans le cas de base\n",
    "        fichiers_png = [os.path.join(chemin, f) for f in os.listdir(chemin) if f.endswith('.png')] # on recupère et stocke les fichiers .png\n",
    "        photo_to_dataframe(fichiers_png, label, separation, type_data) # On transforme les photos en tableau en df qu'on save dans un fichier.csv\n",
    "    else : # Sinon, on continue de parcourir les dossiers\n",
    "        for dossier in dossiers:\n",
    "            if type_data == 0:\n",
    "                type_data = dossier\n",
    "            if profondeur == 1:\n",
    "                separation = dossier\n",
    "            if profondeur == 2:\n",
    "                label = dossier\n",
    "            recreate_dataset(os.path.join(chemin, dossier), profondeur + 1, label, separation, type_data)"
   ]
  },
  {
   "cell_type": "code",
   "execution_count": 115,
   "id": "18ac87b4473870f5",
   "metadata": {},
   "outputs": [
    {
     "name": "stdout",
     "output_type": "stream",
     "text": [
      "..\\Dataset\n",
      "    \\dataset\n",
      "      \\test\n",
      "        \\E\n"
     ]
    },
    {
     "name": "stderr",
     "output_type": "stream",
     "text": [
      "Proccessing:  28%|██▊       | 349/1263 [00:08<00:22, 41.18it/s, img=000349.png]\n"
     ]
    },
    {
     "ename": "KeyboardInterrupt",
     "evalue": "",
     "output_type": "error",
     "traceback": [
      "\u001b[1;31m---------------------------------------------------------------------------\u001b[0m",
      "\u001b[1;31mKeyboardInterrupt\u001b[0m                         Traceback (most recent call last)",
      "Cell \u001b[1;32mIn[115], line 2\u001b[0m\n\u001b[0;32m      1\u001b[0m \u001b[38;5;66;03m# Appel de la fonction de parcours des dossiers\u001b[39;00m\n\u001b[1;32m----> 2\u001b[0m \u001b[43mrecreate_dataset\u001b[49m\u001b[43m(\u001b[49m\u001b[38;5;124;43m\"\u001b[39;49m\u001b[38;5;124;43m..\u001b[39;49m\u001b[38;5;124;43m\\\u001b[39;49m\u001b[38;5;124;43mDataset\u001b[39;49m\u001b[38;5;124;43m\"\u001b[39;49m\u001b[43m,\u001b[49m\u001b[43m \u001b[49m\u001b[38;5;241;43m0\u001b[39;49m\u001b[43m,\u001b[49m\u001b[43m \u001b[49m\u001b[38;5;124;43m\"\u001b[39;49m\u001b[38;5;124;43mtruc\u001b[39;49m\u001b[38;5;124;43m\"\u001b[39;49m\u001b[43m,\u001b[49m\u001b[43m \u001b[49m\u001b[38;5;124;43m\"\u001b[39;49m\u001b[38;5;124;43mbidule\u001b[39;49m\u001b[38;5;124;43m\"\u001b[39;49m\u001b[43m,\u001b[49m\u001b[43m \u001b[49m\u001b[38;5;124;43m\"\u001b[39;49m\u001b[38;5;124;43mdataset\u001b[39;49m\u001b[38;5;124;43m\"\u001b[39;49m\u001b[43m)\u001b[49m\n\u001b[0;32m      3\u001b[0m \u001b[38;5;66;03m# La valeur \"test\" comme 5ème argument est obligatoire pour ne pas avoir de fichier en plus ...\u001b[39;00m\n",
      "Cell \u001b[1;32mIn[114], line 24\u001b[0m, in \u001b[0;36mrecreate_dataset\u001b[1;34m(chemin, profondeur, label, separation, type_data)\u001b[0m\n\u001b[0;32m     22\u001b[0m \u001b[38;5;28;01mif\u001b[39;00m profondeur \u001b[38;5;241m==\u001b[39m \u001b[38;5;241m2\u001b[39m:\n\u001b[0;32m     23\u001b[0m     label \u001b[38;5;241m=\u001b[39m dossier\n\u001b[1;32m---> 24\u001b[0m \u001b[43mrecreate_dataset\u001b[49m\u001b[43m(\u001b[49m\u001b[43mos\u001b[49m\u001b[38;5;241;43m.\u001b[39;49m\u001b[43mpath\u001b[49m\u001b[38;5;241;43m.\u001b[39;49m\u001b[43mjoin\u001b[49m\u001b[43m(\u001b[49m\u001b[43mchemin\u001b[49m\u001b[43m,\u001b[49m\u001b[43m \u001b[49m\u001b[43mdossier\u001b[49m\u001b[43m)\u001b[49m\u001b[43m,\u001b[49m\u001b[43m \u001b[49m\u001b[43mprofondeur\u001b[49m\u001b[43m \u001b[49m\u001b[38;5;241;43m+\u001b[39;49m\u001b[43m \u001b[49m\u001b[38;5;241;43m1\u001b[39;49m\u001b[43m,\u001b[49m\u001b[43m \u001b[49m\u001b[43mlabel\u001b[49m\u001b[43m,\u001b[49m\u001b[43m \u001b[49m\u001b[43mseparation\u001b[49m\u001b[43m,\u001b[49m\u001b[43m \u001b[49m\u001b[43mtype_data\u001b[49m\u001b[43m)\u001b[49m\n",
      "Cell \u001b[1;32mIn[114], line 24\u001b[0m, in \u001b[0;36mrecreate_dataset\u001b[1;34m(chemin, profondeur, label, separation, type_data)\u001b[0m\n\u001b[0;32m     22\u001b[0m \u001b[38;5;28;01mif\u001b[39;00m profondeur \u001b[38;5;241m==\u001b[39m \u001b[38;5;241m2\u001b[39m:\n\u001b[0;32m     23\u001b[0m     label \u001b[38;5;241m=\u001b[39m dossier\n\u001b[1;32m---> 24\u001b[0m \u001b[43mrecreate_dataset\u001b[49m\u001b[43m(\u001b[49m\u001b[43mos\u001b[49m\u001b[38;5;241;43m.\u001b[39;49m\u001b[43mpath\u001b[49m\u001b[38;5;241;43m.\u001b[39;49m\u001b[43mjoin\u001b[49m\u001b[43m(\u001b[49m\u001b[43mchemin\u001b[49m\u001b[43m,\u001b[49m\u001b[43m \u001b[49m\u001b[43mdossier\u001b[49m\u001b[43m)\u001b[49m\u001b[43m,\u001b[49m\u001b[43m \u001b[49m\u001b[43mprofondeur\u001b[49m\u001b[43m \u001b[49m\u001b[38;5;241;43m+\u001b[39;49m\u001b[43m \u001b[49m\u001b[38;5;241;43m1\u001b[39;49m\u001b[43m,\u001b[49m\u001b[43m \u001b[49m\u001b[43mlabel\u001b[49m\u001b[43m,\u001b[49m\u001b[43m \u001b[49m\u001b[43mseparation\u001b[49m\u001b[43m,\u001b[49m\u001b[43m \u001b[49m\u001b[43mtype_data\u001b[49m\u001b[43m)\u001b[49m\n",
      "Cell \u001b[1;32mIn[114], line 24\u001b[0m, in \u001b[0;36mrecreate_dataset\u001b[1;34m(chemin, profondeur, label, separation, type_data)\u001b[0m\n\u001b[0;32m     22\u001b[0m \u001b[38;5;28;01mif\u001b[39;00m profondeur \u001b[38;5;241m==\u001b[39m \u001b[38;5;241m2\u001b[39m:\n\u001b[0;32m     23\u001b[0m     label \u001b[38;5;241m=\u001b[39m dossier\n\u001b[1;32m---> 24\u001b[0m \u001b[43mrecreate_dataset\u001b[49m\u001b[43m(\u001b[49m\u001b[43mos\u001b[49m\u001b[38;5;241;43m.\u001b[39;49m\u001b[43mpath\u001b[49m\u001b[38;5;241;43m.\u001b[39;49m\u001b[43mjoin\u001b[49m\u001b[43m(\u001b[49m\u001b[43mchemin\u001b[49m\u001b[43m,\u001b[49m\u001b[43m \u001b[49m\u001b[43mdossier\u001b[49m\u001b[43m)\u001b[49m\u001b[43m,\u001b[49m\u001b[43m \u001b[49m\u001b[43mprofondeur\u001b[49m\u001b[43m \u001b[49m\u001b[38;5;241;43m+\u001b[39;49m\u001b[43m \u001b[49m\u001b[38;5;241;43m1\u001b[39;49m\u001b[43m,\u001b[49m\u001b[43m \u001b[49m\u001b[43mlabel\u001b[49m\u001b[43m,\u001b[49m\u001b[43m \u001b[49m\u001b[43mseparation\u001b[49m\u001b[43m,\u001b[49m\u001b[43m \u001b[49m\u001b[43mtype_data\u001b[49m\u001b[43m)\u001b[49m\n",
      "Cell \u001b[1;32mIn[114], line 15\u001b[0m, in \u001b[0;36mrecreate_dataset\u001b[1;34m(chemin, profondeur, label, separation, type_data)\u001b[0m\n\u001b[0;32m     13\u001b[0m \u001b[38;5;28;01mif\u001b[39;00m \u001b[38;5;28mlen\u001b[39m(dossiers) \u001b[38;5;241m==\u001b[39m \u001b[38;5;241m0\u001b[39m: \u001b[38;5;66;03m# Si aucun dossier n'est trouvé, on est dans le cas de base\u001b[39;00m\n\u001b[0;32m     14\u001b[0m     fichiers_png \u001b[38;5;241m=\u001b[39m [os\u001b[38;5;241m.\u001b[39mpath\u001b[38;5;241m.\u001b[39mjoin(chemin, f) \u001b[38;5;28;01mfor\u001b[39;00m f \u001b[38;5;129;01min\u001b[39;00m os\u001b[38;5;241m.\u001b[39mlistdir(chemin) \u001b[38;5;28;01mif\u001b[39;00m f\u001b[38;5;241m.\u001b[39mendswith(\u001b[38;5;124m'\u001b[39m\u001b[38;5;124m.png\u001b[39m\u001b[38;5;124m'\u001b[39m)] \u001b[38;5;66;03m# on recupère et stocke les fichiers .png\u001b[39;00m\n\u001b[1;32m---> 15\u001b[0m     \u001b[43mphoto_to_dataframe\u001b[49m\u001b[43m(\u001b[49m\u001b[43mfichiers_png\u001b[49m\u001b[43m,\u001b[49m\u001b[43m \u001b[49m\u001b[43mlabel\u001b[49m\u001b[43m,\u001b[49m\u001b[43m \u001b[49m\u001b[43mseparation\u001b[49m\u001b[43m,\u001b[49m\u001b[43m \u001b[49m\u001b[43mtype_data\u001b[49m\u001b[43m)\u001b[49m \u001b[38;5;66;03m# On transforme les photos en tableau en df qu'on save dans un fichier.csv\u001b[39;00m\n\u001b[0;32m     16\u001b[0m \u001b[38;5;28;01melse\u001b[39;00m : \u001b[38;5;66;03m# Sinon, on continue de parcourir les dossiers\u001b[39;00m\n\u001b[0;32m     17\u001b[0m     \u001b[38;5;28;01mfor\u001b[39;00m dossier \u001b[38;5;129;01min\u001b[39;00m dossiers:\n",
      "Cell \u001b[1;32mIn[113], line 60\u001b[0m, in \u001b[0;36mphoto_to_dataframe\u001b[1;34m(chemins_photos, label, separation, type_data)\u001b[0m\n\u001b[0;32m     57\u001b[0m     Y_validation \u001b[38;5;241m=\u001b[39m np\u001b[38;5;241m.\u001b[39marray([])\n\u001b[0;32m     59\u001b[0m \u001b[38;5;28;01mif\u001b[39;00m separation \u001b[38;5;241m==\u001b[39m \u001b[38;5;124m\"\u001b[39m\u001b[38;5;124mtest\u001b[39m\u001b[38;5;124m\"\u001b[39m:\n\u001b[1;32m---> 60\u001b[0m     X_test \u001b[38;5;241m=\u001b[39m \u001b[43mnp\u001b[49m\u001b[38;5;241;43m.\u001b[39;49m\u001b[43mappend\u001b[49m\u001b[43m(\u001b[49m\u001b[43mX_test\u001b[49m\u001b[43m,\u001b[49m\u001b[43m \u001b[49m\u001b[43mtab_numpy\u001b[49m\u001b[43m)\u001b[49m\n\u001b[0;32m     61\u001b[0m     Y_test \u001b[38;5;241m=\u001b[39m np\u001b[38;5;241m.\u001b[39mappend(Y_test, label)\n\u001b[0;32m     62\u001b[0m \u001b[38;5;28;01melif\u001b[39;00m separation \u001b[38;5;241m==\u001b[39m \u001b[38;5;124m\"\u001b[39m\u001b[38;5;124mtrain\u001b[39m\u001b[38;5;124m\"\u001b[39m:\n",
      "File \u001b[1;32mc:\\Users\\yfour\\Documents\\EnvsPython\\Scribio\\Lib\\site-packages\\numpy\\lib\\function_base.py:5618\u001b[0m, in \u001b[0;36mappend\u001b[1;34m(arr, values, axis)\u001b[0m\n\u001b[0;32m   5616\u001b[0m     values \u001b[38;5;241m=\u001b[39m ravel(values)\n\u001b[0;32m   5617\u001b[0m     axis \u001b[38;5;241m=\u001b[39m arr\u001b[38;5;241m.\u001b[39mndim\u001b[38;5;241m-\u001b[39m\u001b[38;5;241m1\u001b[39m\n\u001b[1;32m-> 5618\u001b[0m \u001b[38;5;28;01mreturn\u001b[39;00m \u001b[43mconcatenate\u001b[49m\u001b[43m(\u001b[49m\u001b[43m(\u001b[49m\u001b[43marr\u001b[49m\u001b[43m,\u001b[49m\u001b[43m \u001b[49m\u001b[43mvalues\u001b[49m\u001b[43m)\u001b[49m\u001b[43m,\u001b[49m\u001b[43m \u001b[49m\u001b[43maxis\u001b[49m\u001b[38;5;241;43m=\u001b[39;49m\u001b[43maxis\u001b[49m\u001b[43m)\u001b[49m\n",
      "\u001b[1;31mKeyboardInterrupt\u001b[0m: "
     ]
    }
   ],
   "source": [
    "# Appel de la fonction de parcours des dossiers\n",
    "recreate_dataset(\"..\\Dataset\", 0, \"truc\", \"bidule\", \"dataset\")\n",
    "# La valeur \"test\" comme 5ème argument est obligatoire pour ne pas avoir de fichier en plus ..."
   ]
  }
 ],
 "metadata": {
  "kernelspec": {
   "display_name": "Scribio",
   "language": "python",
   "name": "python3"
  },
  "language_info": {
   "codemirror_mode": {
    "name": "ipython",
    "version": 3
   },
   "file_extension": ".py",
   "mimetype": "text/x-python",
   "name": "python",
   "nbconvert_exporter": "python",
   "pygments_lexer": "ipython3",
   "version": "3.11.4"
  }
 },
 "nbformat": 4,
 "nbformat_minor": 5
}
