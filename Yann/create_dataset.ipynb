{
 "cells": [
  {
   "cell_type": "code",
   "execution_count": 35,
   "id": "initial_id",
   "metadata": {
    "ExecuteTime": {
     "end_time": "2024-12-02T12:54:52.926605Z",
     "start_time": "2024-12-02T12:54:52.923193Z"
    },
    "collapsed": true
   },
   "outputs": [],
   "source": [
    "from IPython.display import clear_output\n",
    "from PIL import Image\n",
    "import numpy as np\n",
    "import pandas as pd\n",
    "from tqdm import tqdm\n",
    "import os"
   ]
  },
  {
   "cell_type": "code",
   "execution_count": 36,
   "id": "d1dfedde288bb7a6",
   "metadata": {
    "ExecuteTime": {
     "end_time": "2024-12-02T12:54:52.962714Z",
     "start_time": "2024-12-02T12:54:52.959773Z"
    }
   },
   "outputs": [],
   "source": [
    "# Initialisation des fichiers de sauvagarde\n",
    "# Pas besoin de l'executer a chaque fois (sauf si on veut reinitialiser les fichiers)\n",
    "df = pd.DataFrame({\"Photo\" : [], \"Label\" : [], \"Separation\" : []})\n",
    "df.to_csv(\"../Dataset/concat_data_test.csv\", index=False, sep=\";\")\n",
    "df.to_csv(\"../Dataset/concat_data_train.csv\", index=False, sep=\";\")\n",
    "df.to_csv(\"../Dataset/concat_data_validation.csv\", index=False, sep=\";\")"
   ]
  },
  {
   "cell_type": "code",
   "execution_count": 37,
   "id": "7d63f55b8de13337",
   "metadata": {
    "ExecuteTime": {
     "end_time": "2024-12-02T12:54:52.971032Z",
     "start_time": "2024-12-02T12:54:52.966456Z"
    }
   },
   "outputs": [],
   "source": [
    "# Transformation des photos en dataframe\n",
    "def photo_to_dataframe(chemins_photos: str, label: str, separation: str):\n",
    "    \"\"\"Transforme les photos en tableau de pixels et les sauvegarde dans un fichier csv\n",
    "\n",
    "    Args:\n",
    "        chemins_photos (str): Chemin des photos (on veut le dossier contenant les photos)\n",
    "        label (str): label de la photo (ce qui va être prédit)\n",
    "        separation (str): séparation des données (train, test, validation)\n",
    "    \"\"\"\n",
    "    list_tableau_pixels = []\n",
    "    list_labels = [label for i in range(len(chemins_photos))]\n",
    "    list_separation = [separation for i in range(len(chemins_photos))]\n",
    "    \n",
    "    print(f\"Dossier : {chemins_photos[0][:-10]}\") # Afficher le dossier en cours de traitement\n",
    "    # Parcours et transformation des photos avec barre de progression \n",
    "    with tqdm(total=len(chemins_photos), desc=\"Proccessing\" , position=0, leave=True) as pbar:\n",
    "        for chemin in chemins_photos:\n",
    "            \n",
    "            pbar.set_postfix(img=chemin[-10:]) # Mettre à jour la barre de progression avec des informations supplémentaires\n",
    "            \n",
    "            img = Image.open(chemin) # 300 x 300\n",
    "            nouvelle_taille = (50, 50) # 2500 \n",
    "            img_redimensionnee = img.resize(nouvelle_taille) # Redimensionner l'image\n",
    "            nb_image = img_redimensionnee.convert('L') # Convertion en noir et blanc\n",
    "            \n",
    "            #  Récupération de la liste des pixels\n",
    "            tab = []\n",
    "            for i in range(nb_image.size[1]):\n",
    "                row = []\n",
    "                for y in range(nb_image.size[0]):\n",
    "                    # Récupérer la couleur du pixel\n",
    "                    row.append(nb_image.getpixel((y, i)))\n",
    "                tab.append(np.array(row))\n",
    "                \n",
    "            tab_numpy = np.array(tab) / 255 # mise à l'échelle des données\n",
    "            list_tableau_pixels.append(tab_numpy) # ajouter le tableau de pixels à la liste finale\n",
    "            \n",
    "            pbar.update(1) # Mettre à jour la barre de progression\n",
    "\n",
    "    clear_output()  # Effacer l'output précédent (sinon pb d'affichage de la barre de progression)\n",
    "    \n",
    "    # Création du dataframe\n",
    "    df2 = pd.DataFrame({\"Photo\" : list_tableau_pixels, \"Label\" : list_labels, \"Separation\" : list_separation})\n",
    "    \n",
    "    # Ecriture du dataframe au fur et à mesure\n",
    "    df2.to_csv(\"../Dataset/concat_data_\" + separation + \".csv\", mode='a', header=False, index=False, sep=';')"
   ]
  },
  {
   "cell_type": "code",
   "execution_count": 38,
   "id": "4a88b99a42ab249b",
   "metadata": {
    "ExecuteTime": {
     "end_time": "2024-12-02T12:54:52.986834Z",
     "start_time": "2024-12-02T12:54:52.982622Z"
    }
   },
   "outputs": [],
   "source": [
    "# Parcours des dossiers et sous-dossiers pour recréer le dataset (recursion)\n",
    "def recreate_dataset(chemin: str, profondeur: int, label: str, separation: str):\n",
    "    \"\"\"Réecriture du dataset: transformation des photos en tableau de pixels et les sauvegarde dans un fichier csv\n",
    "    Cette fonction est récursive et doit être executer sur un dossier contenant la même arborescence que le dossier ../Dataset\n",
    "\n",
    "    Args:\n",
    "        chemin (str): chemin du dataset\n",
    "        profondeur (int): profondeur de la recursion (elle permet aussi de récupérer les labels et les séparations)\n",
    "        label (str): label de la photo (ce qui va être prédit)\n",
    "        separation (str): séparation des données (train, test, validation)\n",
    "    \"\"\"\n",
    "    dossiers = [f for f in os.listdir(chemin) if os.path.isdir(os.path.join(chemin, f))]\n",
    "    if len(dossiers) == 0: # Si aucun dossier n'est trouvé, on est dans le cas de base\n",
    "        fichiers_png = [os.path.join(chemin, f) for f in os.listdir(chemin) if f.endswith('.png')] # on recupère et stocke les fichiers .png\n",
    "        photo_to_dataframe(fichiers_png, label, separation) # On transforme les photos en tableau en df qu'on save dans un fichier.csv\n",
    "    else : # Sinon, on continue de parcourir les dossiers\n",
    "        for dossier in dossiers:\n",
    "            if profondeur == 1:\n",
    "                separation = dossier\n",
    "            if profondeur == 2:\n",
    "                label = dossier\n",
    "            recreate_dataset(os.path.join(chemin, dossier), profondeur + 1, label, separation)"
   ]
  },
  {
   "cell_type": "code",
   "execution_count": 39,
   "id": "18ac87b4473870f5",
   "metadata": {},
   "outputs": [
    {
     "name": "stdout",
     "output_type": "stream",
     "text": [
      "Dossier : ../Dataset\\dataset\\train\\F\\\n"
     ]
    },
    {
     "name": "stderr",
     "output_type": "stream",
     "text": [
      "Proccessing:  51%|█████     | 3291/6464 [00:33<00:31, 99.40it/s, img=003291.png] \n"
     ]
    },
    {
     "ename": "KeyboardInterrupt",
     "evalue": "",
     "output_type": "error",
     "traceback": [
      "\u001b[1;31m---------------------------------------------------------------------------\u001b[0m",
      "\u001b[1;31mKeyboardInterrupt\u001b[0m                         Traceback (most recent call last)",
      "Cell \u001b[1;32mIn[39], line 1\u001b[0m\n\u001b[1;32m----> 1\u001b[0m \u001b[43mrecreate_dataset\u001b[49m\u001b[43m(\u001b[49m\u001b[38;5;124;43m\"\u001b[39;49m\u001b[38;5;124;43m../Dataset\u001b[39;49m\u001b[38;5;124;43m\"\u001b[39;49m\u001b[43m,\u001b[49m\u001b[43m \u001b[49m\u001b[38;5;241;43m0\u001b[39;49m\u001b[43m,\u001b[49m\u001b[43m \u001b[49m\u001b[38;5;124;43m\"\u001b[39;49m\u001b[38;5;124;43mtruc\u001b[39;49m\u001b[38;5;124;43m\"\u001b[39;49m\u001b[43m,\u001b[49m\u001b[43m \u001b[49m\u001b[38;5;124;43m\"\u001b[39;49m\u001b[38;5;124;43mbidule\u001b[39;49m\u001b[38;5;124;43m\"\u001b[39;49m\u001b[43m)\u001b[49m \u001b[38;5;66;03m# Appel de la fonction de parcours des dossiers\u001b[39;00m\n",
      "Cell \u001b[1;32mIn[38], line 22\u001b[0m, in \u001b[0;36mrecreate_dataset\u001b[1;34m(chemin, profondeur, label, separation)\u001b[0m\n\u001b[0;32m     20\u001b[0m \u001b[38;5;28;01mif\u001b[39;00m profondeur \u001b[38;5;241m==\u001b[39m \u001b[38;5;241m2\u001b[39m:\n\u001b[0;32m     21\u001b[0m     label \u001b[38;5;241m=\u001b[39m dossier\n\u001b[1;32m---> 22\u001b[0m \u001b[43mrecreate_dataset\u001b[49m\u001b[43m(\u001b[49m\u001b[43mos\u001b[49m\u001b[38;5;241;43m.\u001b[39;49m\u001b[43mpath\u001b[49m\u001b[38;5;241;43m.\u001b[39;49m\u001b[43mjoin\u001b[49m\u001b[43m(\u001b[49m\u001b[43mchemin\u001b[49m\u001b[43m,\u001b[49m\u001b[43m \u001b[49m\u001b[43mdossier\u001b[49m\u001b[43m)\u001b[49m\u001b[43m,\u001b[49m\u001b[43m \u001b[49m\u001b[43mprofondeur\u001b[49m\u001b[43m \u001b[49m\u001b[38;5;241;43m+\u001b[39;49m\u001b[43m \u001b[49m\u001b[38;5;241;43m1\u001b[39;49m\u001b[43m,\u001b[49m\u001b[43m \u001b[49m\u001b[43mlabel\u001b[49m\u001b[43m,\u001b[49m\u001b[43m \u001b[49m\u001b[43mseparation\u001b[49m\u001b[43m)\u001b[49m\n",
      "Cell \u001b[1;32mIn[38], line 22\u001b[0m, in \u001b[0;36mrecreate_dataset\u001b[1;34m(chemin, profondeur, label, separation)\u001b[0m\n\u001b[0;32m     20\u001b[0m \u001b[38;5;28;01mif\u001b[39;00m profondeur \u001b[38;5;241m==\u001b[39m \u001b[38;5;241m2\u001b[39m:\n\u001b[0;32m     21\u001b[0m     label \u001b[38;5;241m=\u001b[39m dossier\n\u001b[1;32m---> 22\u001b[0m \u001b[43mrecreate_dataset\u001b[49m\u001b[43m(\u001b[49m\u001b[43mos\u001b[49m\u001b[38;5;241;43m.\u001b[39;49m\u001b[43mpath\u001b[49m\u001b[38;5;241;43m.\u001b[39;49m\u001b[43mjoin\u001b[49m\u001b[43m(\u001b[49m\u001b[43mchemin\u001b[49m\u001b[43m,\u001b[49m\u001b[43m \u001b[49m\u001b[43mdossier\u001b[49m\u001b[43m)\u001b[49m\u001b[43m,\u001b[49m\u001b[43m \u001b[49m\u001b[43mprofondeur\u001b[49m\u001b[43m \u001b[49m\u001b[38;5;241;43m+\u001b[39;49m\u001b[43m \u001b[49m\u001b[38;5;241;43m1\u001b[39;49m\u001b[43m,\u001b[49m\u001b[43m \u001b[49m\u001b[43mlabel\u001b[49m\u001b[43m,\u001b[49m\u001b[43m \u001b[49m\u001b[43mseparation\u001b[49m\u001b[43m)\u001b[49m\n",
      "Cell \u001b[1;32mIn[38], line 22\u001b[0m, in \u001b[0;36mrecreate_dataset\u001b[1;34m(chemin, profondeur, label, separation)\u001b[0m\n\u001b[0;32m     20\u001b[0m \u001b[38;5;28;01mif\u001b[39;00m profondeur \u001b[38;5;241m==\u001b[39m \u001b[38;5;241m2\u001b[39m:\n\u001b[0;32m     21\u001b[0m     label \u001b[38;5;241m=\u001b[39m dossier\n\u001b[1;32m---> 22\u001b[0m \u001b[43mrecreate_dataset\u001b[49m\u001b[43m(\u001b[49m\u001b[43mos\u001b[49m\u001b[38;5;241;43m.\u001b[39;49m\u001b[43mpath\u001b[49m\u001b[38;5;241;43m.\u001b[39;49m\u001b[43mjoin\u001b[49m\u001b[43m(\u001b[49m\u001b[43mchemin\u001b[49m\u001b[43m,\u001b[49m\u001b[43m \u001b[49m\u001b[43mdossier\u001b[49m\u001b[43m)\u001b[49m\u001b[43m,\u001b[49m\u001b[43m \u001b[49m\u001b[43mprofondeur\u001b[49m\u001b[43m \u001b[49m\u001b[38;5;241;43m+\u001b[39;49m\u001b[43m \u001b[49m\u001b[38;5;241;43m1\u001b[39;49m\u001b[43m,\u001b[49m\u001b[43m \u001b[49m\u001b[43mlabel\u001b[49m\u001b[43m,\u001b[49m\u001b[43m \u001b[49m\u001b[43mseparation\u001b[49m\u001b[43m)\u001b[49m\n",
      "Cell \u001b[1;32mIn[38], line 15\u001b[0m, in \u001b[0;36mrecreate_dataset\u001b[1;34m(chemin, profondeur, label, separation)\u001b[0m\n\u001b[0;32m     13\u001b[0m \u001b[38;5;28;01mif\u001b[39;00m \u001b[38;5;28mlen\u001b[39m(dossiers) \u001b[38;5;241m==\u001b[39m \u001b[38;5;241m0\u001b[39m: \u001b[38;5;66;03m# Si aucun dossier n'est trouvé, on est dans le cas de base\u001b[39;00m\n\u001b[0;32m     14\u001b[0m     fichiers_png \u001b[38;5;241m=\u001b[39m [os\u001b[38;5;241m.\u001b[39mpath\u001b[38;5;241m.\u001b[39mjoin(chemin, f) \u001b[38;5;28;01mfor\u001b[39;00m f \u001b[38;5;129;01min\u001b[39;00m os\u001b[38;5;241m.\u001b[39mlistdir(chemin) \u001b[38;5;28;01mif\u001b[39;00m f\u001b[38;5;241m.\u001b[39mendswith(\u001b[38;5;124m'\u001b[39m\u001b[38;5;124m.png\u001b[39m\u001b[38;5;124m'\u001b[39m)] \u001b[38;5;66;03m# on recupère et stocke les fichiers .png\u001b[39;00m\n\u001b[1;32m---> 15\u001b[0m     \u001b[43mphoto_to_dataframe\u001b[49m\u001b[43m(\u001b[49m\u001b[43mfichiers_png\u001b[49m\u001b[43m,\u001b[49m\u001b[43m \u001b[49m\u001b[43mlabel\u001b[49m\u001b[43m,\u001b[49m\u001b[43m \u001b[49m\u001b[43mseparation\u001b[49m\u001b[43m)\u001b[49m \u001b[38;5;66;03m# On transforme les photos en tableau en df qu'on save dans un fichier.csv\u001b[39;00m\n\u001b[0;32m     16\u001b[0m \u001b[38;5;28;01melse\u001b[39;00m : \u001b[38;5;66;03m# Sinon, on continue de parcourir les dossiers\u001b[39;00m\n\u001b[0;32m     17\u001b[0m     \u001b[38;5;28;01mfor\u001b[39;00m dossier \u001b[38;5;129;01min\u001b[39;00m dossiers:\n",
      "Cell \u001b[1;32mIn[37], line 21\u001b[0m, in \u001b[0;36mphoto_to_dataframe\u001b[1;34m(chemins_photos, label, separation)\u001b[0m\n\u001b[0;32m     17\u001b[0m \u001b[38;5;28;01mfor\u001b[39;00m chemin \u001b[38;5;129;01min\u001b[39;00m chemins_photos:\n\u001b[0;32m     19\u001b[0m     pbar\u001b[38;5;241m.\u001b[39mset_postfix(img\u001b[38;5;241m=\u001b[39mchemin[\u001b[38;5;241m-\u001b[39m\u001b[38;5;241m10\u001b[39m:]) \u001b[38;5;66;03m# Mettre à jour la barre de progression avec des informations supplémentaires\u001b[39;00m\n\u001b[1;32m---> 21\u001b[0m     img \u001b[38;5;241m=\u001b[39m \u001b[43mImage\u001b[49m\u001b[38;5;241;43m.\u001b[39;49m\u001b[43mopen\u001b[49m\u001b[43m(\u001b[49m\u001b[43mchemin\u001b[49m\u001b[43m)\u001b[49m \u001b[38;5;66;03m# 300 x 300\u001b[39;00m\n\u001b[0;32m     22\u001b[0m     nouvelle_taille \u001b[38;5;241m=\u001b[39m (\u001b[38;5;241m50\u001b[39m, \u001b[38;5;241m50\u001b[39m) \u001b[38;5;66;03m# 2500 \u001b[39;00m\n\u001b[0;32m     23\u001b[0m     img_redimensionnee \u001b[38;5;241m=\u001b[39m img\u001b[38;5;241m.\u001b[39mresize(nouvelle_taille) \u001b[38;5;66;03m# Redimensionner l'image\u001b[39;00m\n",
      "File \u001b[1;32mc:\\Users\\yfour\\Documents\\EnvsPython\\Scribio\\Lib\\site-packages\\PIL\\Image.py:3469\u001b[0m, in \u001b[0;36mopen\u001b[1;34m(fp, mode, formats)\u001b[0m\n\u001b[0;32m   3466\u001b[0m     filename \u001b[38;5;241m=\u001b[39m os\u001b[38;5;241m.\u001b[39mpath\u001b[38;5;241m.\u001b[39mrealpath(os\u001b[38;5;241m.\u001b[39mfspath(fp))\n\u001b[0;32m   3468\u001b[0m \u001b[38;5;28;01mif\u001b[39;00m filename:\n\u001b[1;32m-> 3469\u001b[0m     fp \u001b[38;5;241m=\u001b[39m builtins\u001b[38;5;241m.\u001b[39mopen(filename, \u001b[38;5;124m\"\u001b[39m\u001b[38;5;124mrb\u001b[39m\u001b[38;5;124m\"\u001b[39m)\n\u001b[0;32m   3470\u001b[0m     exclusive_fp \u001b[38;5;241m=\u001b[39m \u001b[38;5;28;01mTrue\u001b[39;00m\n\u001b[0;32m   3471\u001b[0m \u001b[38;5;28;01melse\u001b[39;00m:\n",
      "\u001b[1;31mKeyboardInterrupt\u001b[0m: "
     ]
    }
   ],
   "source": [
    "recreate_dataset(\"../Dataset\", 0, \"truc\", \"bidule\") # Appel de la fonction de parcours des dossiers"
   ]
  }
 ],
 "metadata": {
  "kernelspec": {
   "display_name": "Scribio",
   "language": "python",
   "name": "python3"
  },
  "language_info": {
   "codemirror_mode": {
    "name": "ipython",
    "version": 3
   },
   "file_extension": ".py",
   "mimetype": "text/x-python",
   "name": "python",
   "nbconvert_exporter": "python",
   "pygments_lexer": "ipython3",
   "version": "3.11.4"
  }
 },
 "nbformat": 4,
 "nbformat_minor": 5
}
