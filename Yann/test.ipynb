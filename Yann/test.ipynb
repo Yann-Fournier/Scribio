{
 "cells": [
  {
   "cell_type": "code",
   "execution_count": 4,
   "id": "initial_id",
   "metadata": {
    "ExecuteTime": {
     "end_time": "2024-12-03T08:07:18.570135Z",
     "start_time": "2024-12-03T08:07:18.567335Z"
    },
    "collapsed": true
   },
   "outputs": [],
   "source": [
    "import pandas as pd\n",
    "import numpy as np\n",
    "import ast\n",
    "import numpy as np\n",
    "from pymongo import MongoClient"
   ]
  },
  {
   "cell_type": "code",
   "execution_count": 9,
   "id": "d2703d893932e5c5",
   "metadata": {
    "ExecuteTime": {
     "end_time": "2024-12-03T08:07:18.594798Z",
     "start_time": "2024-12-03T08:07:18.591514Z"
    }
   },
   "outputs": [
    {
     "data": {
      "text/plain": [
       "array([[ 1,  3,  4],\n",
       "       [ 3,  5, 56]])"
      ]
     },
     "execution_count": 9,
     "metadata": {},
     "output_type": "execute_result"
    }
   ],
   "source": [
    "truc = np.array([[1, 3, 4], [3, 5, 56]])\n",
    "truc"
   ]
  },
  {
   "cell_type": "code",
   "execution_count": 10,
   "id": "fca9963cb49c701e",
   "metadata": {
    "ExecuteTime": {
     "end_time": "2024-12-03T08:07:18.635328Z",
     "start_time": "2024-12-03T08:07:18.632021Z"
    }
   },
   "outputs": [
    {
     "data": {
      "text/plain": [
       "'[[ 1,  3,  4], [ 3,  5, 56]]'"
      ]
     },
     "execution_count": 10,
     "metadata": {},
     "output_type": "execute_result"
    }
   ],
   "source": [
    "bidule = np.array2string(truc, separator=', ')\n",
    "bidule = bidule.replace('\\n', '')\n",
    "bidule"
   ]
  },
  {
   "cell_type": "code",
   "execution_count": 11,
   "id": "8a69967d27540866",
   "metadata": {
    "ExecuteTime": {
     "end_time": "2024-12-03T08:07:18.721155Z",
     "start_time": "2024-12-03T08:07:18.717041Z"
    }
   },
   "outputs": [
    {
     "data": {
      "text/plain": [
       "array([[ 1,  3,  4],\n",
       "       [ 3,  5, 56]])"
      ]
     },
     "execution_count": 11,
     "metadata": {},
     "output_type": "execute_result"
    }
   ],
   "source": [
    "machin = np.array(ast.literal_eval(bidule))\n",
    "machin"
   ]
  },
  {
   "cell_type": "code",
   "execution_count": 13,
   "id": "692e4d979bf6dcb7",
   "metadata": {
    "ExecuteTime": {
     "end_time": "2024-12-03T08:07:18.802617Z",
     "start_time": "2024-12-03T08:07:18.800767Z"
    }
   },
   "outputs": [
    {
     "name": "stdout",
     "output_type": "stream",
     "text": [
      "[0.  , 0.12, 0.46, 0.13]\n"
     ]
    }
   ],
   "source": [
    "import numpy as np\n",
    "\n",
    "# Création d'un tableau numpy\n",
    "array = np.array([0.0, 0.1234567, 0.456, 0.131123], dtype=float)\n",
    "\n",
    "# Ajuster le format d'impression avec des options personnalisées\n",
    "np.set_printoptions() #formatter={'float': '{:0.8f}'.format})\n",
    "\n",
    "# Convertir en chaîne\n",
    "array_as_string = np.array2string(array, separator=\", \")\n",
    "\n",
    "print(array_as_string)"
   ]
  },
  {
   "cell_type": "code",
   "execution_count": 19,
   "id": "d5c2e58c",
   "metadata": {},
   "outputs": [
    {
     "name": "stdout",
     "output_type": "stream",
     "text": [
      "type de data : <class 'numpy.lib.npyio.NpzFile'>\n",
      "Nom des tableaux : ['tableau1', 'tableau2']\n",
      "tableau 1 : [1 2 3 4]\n",
      "tableau 2 : [[4 5 6]\n",
      " [7 8 9]]\n"
     ]
    }
   ],
   "source": [
    "import numpy as np\n",
    "\n",
    "# Exemple de tableaux\n",
    "array1 = np.array([1, 2, 3])\n",
    "array2 = np.array([[4, 5, 6], [7, 8, 9]])\n",
    "\n",
    "array1 = np.append(array1, 4)\n",
    "\n",
    "# Sauvegarder plusieurs tableaux dans un fichier .npz\n",
    "np.savez(\"arrays.npz\", tableau1=array1, tableau2=array2)\n",
    "\n",
    "# Charger les tableaux depuis le fichier .npz\n",
    "data = np.load(\"arrays.npz\")\n",
    "\n",
    "print(\"type de data :\", type(data))  # <class 'numpy.lib.npyio.NpzFile'>\n",
    "print(\"Nom des tableaux :\", data.files)  # ['tableau1', 'tableau2']*\n",
    "print(\"tableau 1 :\", data[\"tableau1\"])  # [1 2 3]\n",
    "print(\"tableau 2 :\", data[\"tableau2\"])  # [[4 5 6] [7 8 9]]"
   ]
  },
  {
   "cell_type": "code",
   "execution_count": 18,
   "id": "46cbaf4e",
   "metadata": {},
   "outputs": [
    {
     "ename": "OSError",
     "evalue": "[Errno 22] Invalid argument: 'https://storage.googleapis.com/tensorflow/tf-keras-datasets/mnist.npz'",
     "output_type": "error",
     "traceback": [
      "\u001b[1;31m---------------------------------------------------------------------------\u001b[0m",
      "\u001b[1;31mOSError\u001b[0m                                   Traceback (most recent call last)",
      "Cell \u001b[1;32mIn[18], line 3\u001b[0m\n\u001b[0;32m      1\u001b[0m \u001b[38;5;28;01mimport\u001b[39;00m \u001b[38;5;21;01msys\u001b[39;00m\n\u001b[1;32m----> 3\u001b[0m data \u001b[38;5;241m=\u001b[39m \u001b[43mnp\u001b[49m\u001b[38;5;241;43m.\u001b[39;49m\u001b[43mload\u001b[49m\u001b[43m(\u001b[49m\u001b[38;5;124;43m\"\u001b[39;49m\u001b[38;5;124;43mhttps://storage.googleapis.com/tensorflow/tf-keras-datasets/mnist.npz\u001b[39;49m\u001b[38;5;124;43m\"\u001b[39;49m\u001b[43m)\u001b[49m\n\u001b[0;32m      5\u001b[0m \u001b[38;5;66;03m# Inspecter les clés du fichier\u001b[39;00m\n\u001b[0;32m      6\u001b[0m \u001b[38;5;28mprint\u001b[39m(data\u001b[38;5;241m.\u001b[39mfiles)\n",
      "File \u001b[1;32mc:\\Users\\yfour\\Documents\\EnvsPython\\Scribio\\Lib\\site-packages\\numpy\\lib\\npyio.py:427\u001b[0m, in \u001b[0;36mload\u001b[1;34m(file, mmap_mode, allow_pickle, fix_imports, encoding, max_header_size)\u001b[0m\n\u001b[0;32m    425\u001b[0m     own_fid \u001b[38;5;241m=\u001b[39m \u001b[38;5;28;01mFalse\u001b[39;00m\n\u001b[0;32m    426\u001b[0m \u001b[38;5;28;01melse\u001b[39;00m:\n\u001b[1;32m--> 427\u001b[0m     fid \u001b[38;5;241m=\u001b[39m stack\u001b[38;5;241m.\u001b[39menter_context(\u001b[38;5;28;43mopen\u001b[39;49m\u001b[43m(\u001b[49m\u001b[43mos_fspath\u001b[49m\u001b[43m(\u001b[49m\u001b[43mfile\u001b[49m\u001b[43m)\u001b[49m\u001b[43m,\u001b[49m\u001b[43m \u001b[49m\u001b[38;5;124;43m\"\u001b[39;49m\u001b[38;5;124;43mrb\u001b[39;49m\u001b[38;5;124;43m\"\u001b[39;49m\u001b[43m)\u001b[49m)\n\u001b[0;32m    428\u001b[0m     own_fid \u001b[38;5;241m=\u001b[39m \u001b[38;5;28;01mTrue\u001b[39;00m\n\u001b[0;32m    430\u001b[0m \u001b[38;5;66;03m# Code to distinguish from NumPy binary files and pickles.\u001b[39;00m\n",
      "\u001b[1;31mOSError\u001b[0m: [Errno 22] Invalid argument: 'https://storage.googleapis.com/tensorflow/tf-keras-datasets/mnist.npz'"
     ]
    }
   ],
   "source": [
    "import sys\n",
    "\n",
    "data = np.load(\"https://storage.googleapis.com/tensorflow/tf-keras-datasets/mnist.npz\")\n",
    "\n",
    "# Inspecter les clés du fichier\n",
    "print(data.files)\n",
    "\n",
    "print(sys.getsizeof(data))"
   ]
  },
  {
   "cell_type": "code",
   "execution_count": 22,
   "id": "4323bd82",
   "metadata": {},
   "outputs": [
    {
     "name": "stdout",
     "output_type": "stream",
     "text": [
      "../Dataset\n",
      "   /dataset\n",
      "      /test\n",
      "        /M\n"
     ]
    }
   ],
   "source": [
    "print(\"../Dataset\")\n",
    "print(\"   /dataset\")\n",
    "print(\"      /test\")\n",
    "print(\"        /M\")"
   ]
  },
  {
   "cell_type": "code",
   "execution_count": 5,
   "id": "46d64386",
   "metadata": {},
   "outputs": [],
   "source": [
    "from PIL import Image\n",
    "\n",
    "# Ouvrir une image\n",
    "image = Image.open(\"../Dataset/dataset/test/A/000000.png\")\n",
    "\n",
    "# Effectuer une rotation (exemple : 45 degrés)\n",
    "image_rotated = image.rotate(270, expand=True)\n",
    "\n",
    "# Afficher l'image après rotation\n",
    "image_rotated.show()\n",
    "\n",
    "# Sauvegarder l'image après rotation\n",
    "image_rotated.save(\"./img/A_rotated.png\")"
   ]
  },
  {
   "cell_type": "code",
   "execution_count": 3,
   "id": "64519dc9",
   "metadata": {},
   "outputs": [],
   "source": [
    "# Connexion à MongoDB\n",
    "client = MongoClient(\"mongodb://localhost:27017/Scibio\")  # Remplacez par l'URL de votre serveur MongoDB\n",
    "db = client[\"Scribio\"]  # Nom de la base de données\n",
    "collection = db[\"Test\"]  # Nom de la collection"
   ]
  },
  {
   "cell_type": "code",
   "execution_count": 7,
   "id": "80c768fa",
   "metadata": {},
   "outputs": [
    {
     "name": "stdout",
     "output_type": "stream",
     "text": [
      "Document inséré avec l'ID : 677fdada94491e5e74338b8f\n"
     ]
    }
   ],
   "source": [
    "# Créer un tableau NumPy\n",
    "tableau_numpy = np.array([[1, 2, 3], [4, 5, 6]])\n",
    "\n",
    "# Convertir le tableau NumPy en une liste\n",
    "tableau_liste = tableau_numpy.tolist()\n",
    "\n",
    "# Insérer le tableau dans MongoDB\n",
    "document = {\"nom_tableau\": \"mon_tableau\", \"donnees\": tableau_liste}\n",
    "resultat = collection.insert_one(document)\n",
    "\n",
    "# Afficher l'ID du document inséré\n",
    "print(\"Document inséré avec l'ID :\", resultat.inserted_id)\n"
   ]
  },
  {
   "cell_type": "code",
   "execution_count": 4,
   "id": "94523fad",
   "metadata": {},
   "outputs": [
    {
     "name": "stdout",
     "output_type": "stream",
     "text": [
      "<class 'list'>\n"
     ]
    },
    {
     "data": {
      "text/html": [
       "<div>\n",
       "<style scoped>\n",
       "    .dataframe tbody tr th:only-of-type {\n",
       "        vertical-align: middle;\n",
       "    }\n",
       "\n",
       "    .dataframe tbody tr th {\n",
       "        vertical-align: top;\n",
       "    }\n",
       "\n",
       "    .dataframe thead th {\n",
       "        text-align: right;\n",
       "    }\n",
       "</style>\n",
       "<table border=\"1\" class=\"dataframe\">\n",
       "  <thead>\n",
       "    <tr style=\"text-align: right;\">\n",
       "      <th></th>\n",
       "      <th>_id</th>\n",
       "      <th>nom_tableau</th>\n",
       "      <th>donnees</th>\n",
       "    </tr>\n",
       "  </thead>\n",
       "  <tbody>\n",
       "    <tr>\n",
       "      <th>0</th>\n",
       "      <td>677fd90b94491e5e74338b8c</td>\n",
       "      <td>mon_tableau</td>\n",
       "      <td>[[1, 2, 3], [4, 5, 6]]</td>\n",
       "    </tr>\n",
       "    <tr>\n",
       "      <th>1</th>\n",
       "      <td>677fdad894491e5e74338b8d</td>\n",
       "      <td>mon_tableau</td>\n",
       "      <td>[[1, 2, 3], [4, 5, 6]]</td>\n",
       "    </tr>\n",
       "    <tr>\n",
       "      <th>2</th>\n",
       "      <td>677fdad994491e5e74338b8e</td>\n",
       "      <td>mon_tableau</td>\n",
       "      <td>[[1, 2, 3], [4, 5, 6]]</td>\n",
       "    </tr>\n",
       "    <tr>\n",
       "      <th>3</th>\n",
       "      <td>677fdada94491e5e74338b8f</td>\n",
       "      <td>mon_tableau</td>\n",
       "      <td>[[1, 2, 3], [4, 5, 6]]</td>\n",
       "    </tr>\n",
       "  </tbody>\n",
       "</table>\n",
       "</div>"
      ],
      "text/plain": [
       "                        _id  nom_tableau                 donnees\n",
       "0  677fd90b94491e5e74338b8c  mon_tableau  [[1, 2, 3], [4, 5, 6]]\n",
       "1  677fdad894491e5e74338b8d  mon_tableau  [[1, 2, 3], [4, 5, 6]]\n",
       "2  677fdad994491e5e74338b8e  mon_tableau  [[1, 2, 3], [4, 5, 6]]\n",
       "3  677fdada94491e5e74338b8f  mon_tableau  [[1, 2, 3], [4, 5, 6]]"
      ]
     },
     "execution_count": 4,
     "metadata": {},
     "output_type": "execute_result"
    }
   ],
   "source": [
    "# Récupérer le document depuis MongoDB\n",
    "document_recupere = collection.find({\"nom_tableau\": \"mon_tableau\"})\n",
    "df = pd.DataFrame(list(document_recupere))\n",
    "print(type(df.iloc[0][\"donnees\"]))\n",
    "df\n",
    "\n"
   ]
  },
  {
   "cell_type": "code",
   "execution_count": 3,
   "id": "4071e197",
   "metadata": {},
   "outputs": [
    {
     "name": "stderr",
     "output_type": "stream",
     "text": [
      "Proccessing: 50it [00:50,  1.00s/it]                        \n"
     ]
    }
   ],
   "source": [
    "from tqdm import tqdm # progress bar\n",
    "import time\n",
    "# Parcours et transformation des photos avec barre de progression \n",
    "with tqdm(total=25, desc=\"Proccessing\" , position=0, leave=True) as pbar:\n",
    "    for i in range(50):\n",
    "        time.sleep(1)\n",
    "        pbar.update(1) # Mettre à jour la barre de progression"
   ]
  },
  {
   "cell_type": "code",
   "execution_count": 5,
   "id": "b397f23f",
   "metadata": {},
   "outputs": [
    {
     "ename": "NameError",
     "evalue": "name 'Image' is not defined",
     "output_type": "error",
     "traceback": [
      "\u001b[1;31m---------------------------------------------------------------------------\u001b[0m",
      "\u001b[1;31mNameError\u001b[0m                                 Traceback (most recent call last)",
      "Cell \u001b[1;32mIn[5], line 1\u001b[0m\n\u001b[1;32m----> 1\u001b[0m img \u001b[38;5;241m=\u001b[39m \u001b[43mImage\u001b[49m\u001b[38;5;241m.\u001b[39mopen(\u001b[38;5;124m\"\u001b[39m\u001b[38;5;124m../Dataset/dataset/test/A/000000.png\u001b[39m\u001b[38;5;124m\"\u001b[39m) \u001b[38;5;66;03m# 300 x 300\u001b[39;00m\n\u001b[0;32m      2\u001b[0m nouvelle_taille \u001b[38;5;241m=\u001b[39m (\u001b[38;5;241m50\u001b[39m, \u001b[38;5;241m50\u001b[39m) \u001b[38;5;66;03m# 2500\u001b[39;00m\n\u001b[0;32m      3\u001b[0m img_redimensionnee \u001b[38;5;241m=\u001b[39m img\u001b[38;5;241m.\u001b[39mresize(nouvelle_taille) \u001b[38;5;66;03m# Redimensionner l'image\u001b[39;00m\n",
      "\u001b[1;31mNameError\u001b[0m: name 'Image' is not defined"
     ]
    }
   ],
   "source": [
    "img = Image.open(\"../Dataset/dataset/test/A/000000.png\") # 300 x 300\n",
    "nouvelle_taille = (50, 50) # 2500\n",
    "img_redimensionnee = img.resize(nouvelle_taille) # Redimensionner l'image\n",
    "nb_image = img_redimensionnee.convert('L') # Convertion en noir et blanc"
   ]
  }
 ],
 "metadata": {
  "kernelspec": {
   "display_name": "Scribio",
   "language": "python",
   "name": "python3"
  },
  "language_info": {
   "codemirror_mode": {
    "name": "ipython",
    "version": 3
   },
   "file_extension": ".py",
   "mimetype": "text/x-python",
   "name": "python",
   "nbconvert_exporter": "python",
   "pygments_lexer": "ipython3",
   "version": "3.11.4"
  }
 },
 "nbformat": 4,
 "nbformat_minor": 5
}
