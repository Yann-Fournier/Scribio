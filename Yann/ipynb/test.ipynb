{
 "cells": [
  {
   "cell_type": "code",
   "execution_count": 4,
   "id": "initial_id",
   "metadata": {
    "ExecuteTime": {
     "end_time": "2024-12-03T08:07:18.570135Z",
     "start_time": "2024-12-03T08:07:18.567335Z"
    },
    "collapsed": true
   },
   "outputs": [],
   "source": [
    "import pandas as pd\n",
    "import numpy as np\n",
    "import ast\n",
    "import numpy as np\n",
    "from pymongo import MongoClient"
   ]
  },
  {
   "cell_type": "code",
   "execution_count": 4,
   "id": "754dea77",
   "metadata": {},
   "outputs": [
    {
     "name": "stdout",
     "output_type": "stream",
     "text": [
      "fetch Dataset_Maj_test OK !!!\n"
     ]
    },
    {
     "name": "stderr",
     "output_type": "stream",
     "text": [
      "Proccessing: 100%|██████████| 689936/689936 [00:42<00:00, 16364.62it/s]\n"
     ]
    },
    {
     "name": "stdout",
     "output_type": "stream",
     "text": [
      "(689936, 3)\n"
     ]
    },
    {
     "data": {
      "text/html": [
       "<div>\n",
       "<style scoped>\n",
       "    .dataframe tbody tr th:only-of-type {\n",
       "        vertical-align: middle;\n",
       "    }\n",
       "\n",
       "    .dataframe tbody tr th {\n",
       "        vertical-align: top;\n",
       "    }\n",
       "\n",
       "    .dataframe thead th {\n",
       "        text-align: right;\n",
       "    }\n",
       "</style>\n",
       "<table border=\"1\" class=\"dataframe\">\n",
       "  <thead>\n",
       "    <tr style=\"text-align: right;\">\n",
       "      <th></th>\n",
       "      <th>Labels</th>\n",
       "      <th>Types</th>\n",
       "      <th>Images</th>\n",
       "    </tr>\n",
       "  </thead>\n",
       "  <tbody>\n",
       "    <tr>\n",
       "      <th>0</th>\n",
       "      <td>I</td>\n",
       "      <td>Maj</td>\n",
       "      <td>[0.0, 0.0, 0.0, 0.0, 0.0, 0.0, 0.0, 0.0, 0.0, ...</td>\n",
       "    </tr>\n",
       "    <tr>\n",
       "      <th>1</th>\n",
       "      <td>J</td>\n",
       "      <td>Maj</td>\n",
       "      <td>[1.0, 1.0, 1.0, 1.0, 1.0, 1.0, 1.0, 1.0, 1.0, ...</td>\n",
       "    </tr>\n",
       "    <tr>\n",
       "      <th>2</th>\n",
       "      <td>C</td>\n",
       "      <td>Maj</td>\n",
       "      <td>[0.0, 0.0, 0.0, 0.0, 0.0, 0.0, 0.0, 0.0, 0.0, ...</td>\n",
       "    </tr>\n",
       "    <tr>\n",
       "      <th>3</th>\n",
       "      <td>U</td>\n",
       "      <td>Maj</td>\n",
       "      <td>[0.0, 0.0, 0.0, 0.0, 0.0, 0.0, 0.0, 0.0, 0.0, ...</td>\n",
       "    </tr>\n",
       "    <tr>\n",
       "      <th>4</th>\n",
       "      <td>D</td>\n",
       "      <td>Maj</td>\n",
       "      <td>[0.0, 0.0, 0.0, 0.0, 0.0, 0.0, 0.0, 0.0, 0.0, ...</td>\n",
       "    </tr>\n",
       "  </tbody>\n",
       "</table>\n",
       "</div>"
      ],
      "text/plain": [
       "  Labels Types                                             Images\n",
       "0      I   Maj  [0.0, 0.0, 0.0, 0.0, 0.0, 0.0, 0.0, 0.0, 0.0, ...\n",
       "1      J   Maj  [1.0, 1.0, 1.0, 1.0, 1.0, 1.0, 1.0, 1.0, 1.0, ...\n",
       "2      C   Maj  [0.0, 0.0, 0.0, 0.0, 0.0, 0.0, 0.0, 0.0, 0.0, ...\n",
       "3      U   Maj  [0.0, 0.0, 0.0, 0.0, 0.0, 0.0, 0.0, 0.0, 0.0, ...\n",
       "4      D   Maj  [0.0, 0.0, 0.0, 0.0, 0.0, 0.0, 0.0, 0.0, 0.0, ..."
      ]
     },
     "execution_count": 4,
     "metadata": {},
     "output_type": "execute_result"
    }
   ],
   "source": [
    "import gc # garbage collector\n",
    "import pandas as pd\n",
    "import numpy as np\n",
    "import seaborn as sns\n",
    "from tqdm import tqdm # progress bar\n",
    "import tensorflow as tf \n",
    "from tensorflow import keras\n",
    "import matplotlib.pyplot as plt\n",
    "from pymongo import MongoClient\n",
    "from sklearn.preprocessing import LabelEncoder\n",
    "\n",
    "# Connexion à MongoDB\n",
    "client = MongoClient(\"mongodb://localhost:27017/Scibio\")  # Remplacez par l'URL de votre serveur MongoDB\n",
    "db = client[\"Scribio\"]  # Nom de la base de données\n",
    "\n",
    "def fetch_data(nom_collection: str, nbr: int):\n",
    "    collection = db[nom_collection]  # Nom de la collection\n",
    "    documents = collection.find()\n",
    "    print(f\"fetch {nom_collection} OK !!!\")\n",
    "\n",
    "    images = []\n",
    "    labels = []\n",
    "    types = []\n",
    "    \n",
    "    # Parcours et transformation des photos avec barre de progression \n",
    "    with tqdm(total=nbr, desc=\"Proccessing\" , position=0, leave=True) as pbar:\n",
    "        for doc in documents:\n",
    "            images.append(np.array(doc[\"Tableau_Pixels\"], dtype=np.float32))\n",
    "            labels.append(doc[\"Label\"])\n",
    "            types.append(doc[\"Type\"])\n",
    "            pbar.update(1) # Mettre à jour la barre de progression\n",
    "            \n",
    "    # return np.array(images), np.array(labels, dtype=str)\n",
    "    return pd.DataFrame({\"Labels\": labels, \"Types\": types, \"Images\": images})\n",
    "\n",
    "df_maj_test = fetch_data(\"Dataset_Maj_test\", 689_936)\n",
    "df_maj_test = df_maj_test.sample(frac=1).reset_index(drop=True)\n",
    "print(df_maj_test.shape)\n",
    "df_maj_test.head()"
   ]
  },
  {
   "cell_type": "code",
   "execution_count": 46,
   "id": "162eb124",
   "metadata": {},
   "outputs": [
    {
     "data": {
      "text/plain": [
       "array([0.        , 0.        , 0.        , 0.        , 0.        ,\n",
       "       0.        , 0.        , 0.        , 0.        , 0.        ,\n",
       "       0.        , 0.        , 0.        , 0.        , 0.        ,\n",
       "       0.        , 0.        , 0.        , 0.        , 0.        ,\n",
       "       0.        , 0.        , 0.        , 0.        , 0.        ,\n",
       "       0.        , 0.        , 0.        , 0.        , 0.        ,\n",
       "       0.        , 0.        , 0.        , 0.        , 0.        ,\n",
       "       0.        , 0.        , 0.        , 0.        , 0.        ,\n",
       "       0.        , 0.        , 0.        , 0.        , 0.        ,\n",
       "       0.        , 0.        , 0.        , 0.        , 0.        ,\n",
       "       0.        , 0.        , 0.        , 0.        , 0.        ,\n",
       "       0.        , 0.        , 0.        , 0.        , 0.        ,\n",
       "       0.        , 0.        , 0.        , 0.        , 0.        ,\n",
       "       0.        , 0.        , 0.        , 0.        , 0.        ,\n",
       "       0.        , 0.        , 0.        , 0.        , 0.        ,\n",
       "       0.        , 0.        , 0.        , 0.        , 0.        ,\n",
       "       0.        , 0.        , 0.        , 0.        , 0.        ,\n",
       "       0.        , 0.        , 0.        , 0.        , 0.        ,\n",
       "       0.        , 0.        , 0.        , 0.        , 0.        ,\n",
       "       0.        , 0.        , 0.        , 0.        , 0.        ,\n",
       "       0.        , 0.        , 0.        , 0.        , 0.        ,\n",
       "       0.        , 0.        , 0.        , 0.        , 0.        ,\n",
       "       0.06666667, 0.3764706 , 0.5137255 , 0.5019608 , 0.5019608 ,\n",
       "       0.50980395, 0.43137255, 0.04705882, 0.        , 0.        ,\n",
       "       0.        , 0.        , 0.        , 0.        , 0.        ,\n",
       "       0.        , 0.        , 0.        , 0.        , 0.        ,\n",
       "       0.        , 0.        , 0.        , 0.10196079, 0.32156864,\n",
       "       0.79607844, 1.        , 1.        , 1.        , 1.        ,\n",
       "       1.        , 1.        , 0.67058825, 0.18039216, 0.        ,\n",
       "       0.        , 0.        , 0.        , 0.        , 0.        ,\n",
       "       0.        , 0.        , 0.        , 0.        , 0.        ,\n",
       "       0.        , 0.        , 0.00392157, 0.4627451 , 1.        ,\n",
       "       0.9882353 , 0.90588236, 0.7882353 , 0.54509807, 0.5372549 ,\n",
       "       0.7254902 , 0.9254902 , 1.        , 0.94509804, 0.36078432,\n",
       "       0.        , 0.        , 0.        , 0.        , 0.        ,\n",
       "       0.        , 0.        , 0.        , 0.        , 0.        ,\n",
       "       0.        , 0.        , 0.2901961 , 0.9764706 , 1.        ,\n",
       "       0.5176471 , 0.07058824, 0.04313726, 0.        , 0.        ,\n",
       "       0.02352941, 0.11764706, 0.69411767, 1.        , 0.9372549 ,\n",
       "       0.2       , 0.        , 0.        , 0.        , 0.        ,\n",
       "       0.        , 0.        , 0.        , 0.        , 0.        ,\n",
       "       0.        , 0.08235294, 0.7529412 , 1.        , 0.45882353,\n",
       "       0.        , 0.        , 0.        , 0.        , 0.        ,\n",
       "       0.        , 0.        , 0.02352941, 0.46666667, 1.        ,\n",
       "       0.5019608 , 0.        , 0.        , 0.        , 0.        ,\n",
       "       0.        , 0.        , 0.        , 0.        , 0.        ,\n",
       "       0.        , 0.48235294, 1.        , 0.67058825, 0.03529412,\n",
       "       0.        , 0.        , 0.        , 0.        , 0.        ,\n",
       "       0.        , 0.        , 0.02745098, 0.6117647 , 1.        ,\n",
       "       0.5019608 , 0.        , 0.        , 0.        , 0.        ,\n",
       "       0.        , 0.        , 0.        , 0.        , 0.        ,\n",
       "       0.04313726, 0.7921569 , 0.9019608 , 0.1254902 , 0.        ,\n",
       "       0.        , 0.        , 0.        , 0.        , 0.01960784,\n",
       "       0.05098039, 0.22352941, 0.69411767, 1.        , 1.        ,\n",
       "       0.49803922, 0.        , 0.        , 0.        , 0.        ,\n",
       "       0.        , 0.        , 0.        , 0.        , 0.        ,\n",
       "       0.3882353 , 1.        , 0.6901961 , 0.        , 0.        ,\n",
       "       0.        , 0.        , 0.        , 0.12941177, 0.627451  ,\n",
       "       0.8901961 , 0.95686275, 1.        , 1.        , 1.        ,\n",
       "       0.49803922, 0.        , 0.        , 0.        , 0.        ,\n",
       "       0.        , 0.        , 0.        , 0.        , 0.        ,\n",
       "       0.60784316, 1.        , 0.38431373, 0.        , 0.        ,\n",
       "       0.        , 0.08627451, 0.5803922 , 0.92156863, 1.        ,\n",
       "       0.99607843, 0.9764706 , 0.78039217, 0.9254902 , 0.9647059 ,\n",
       "       0.23137255, 0.        , 0.        , 0.        , 0.        ,\n",
       "       0.        , 0.        , 0.        , 0.        , 0.09411765,\n",
       "       0.8980392 , 0.8156863 , 0.03921569, 0.        , 0.        ,\n",
       "       0.36078432, 0.8745098 , 1.        , 1.        , 0.92941177,\n",
       "       0.3647059 , 0.14509805, 0.05098039, 0.78431374, 0.6156863 ,\n",
       "       0.        , 0.        , 0.        , 0.        , 0.        ,\n",
       "       0.        , 0.        , 0.        , 0.        , 0.11372549,\n",
       "       0.95686275, 0.7607843 , 0.        , 0.35686275, 0.69411767,\n",
       "       0.95686275, 1.        , 0.91764706, 0.44705883, 0.20392157,\n",
       "       0.        , 0.        , 0.00392157, 0.25882354, 0.09019608,\n",
       "       0.        , 0.        , 0.        , 0.        , 0.        ,\n",
       "       0.        , 0.        , 0.        , 0.        , 0.28235295,\n",
       "       0.99215686, 0.85490197, 0.54901963, 0.9647059 , 1.        ,\n",
       "       0.9607843 , 0.7019608 , 0.23921569, 0.        , 0.        ,\n",
       "       0.        , 0.        , 0.        , 0.        , 0.        ,\n",
       "       0.        , 0.        , 0.        , 0.        , 0.        ,\n",
       "       0.        , 0.        , 0.        , 0.        , 0.49803922,\n",
       "       1.        , 1.        , 1.        , 1.        , 0.87058824,\n",
       "       0.2509804 , 0.00784314, 0.        , 0.        , 0.        ,\n",
       "       0.        , 0.        , 0.        , 0.        , 0.        ,\n",
       "       0.        , 0.        , 0.        , 0.        , 0.        ,\n",
       "       0.        , 0.        , 0.        , 0.        , 0.2       ,\n",
       "       0.93333334, 1.        , 1.        , 1.        , 0.5254902 ,\n",
       "       0.        , 0.        , 0.        , 0.        , 0.        ,\n",
       "       0.        , 0.        , 0.        , 0.        , 0.        ,\n",
       "       0.        , 0.        , 0.        , 0.        , 0.        ,\n",
       "       0.        , 0.        , 0.        , 0.        , 0.        ,\n",
       "       0.62352943, 1.        , 1.        , 1.        , 0.60784316,\n",
       "       0.        , 0.        , 0.        , 0.        , 0.        ,\n",
       "       0.        , 0.        , 0.        , 0.        , 0.        ,\n",
       "       0.        , 0.        , 0.        , 0.        , 0.        ,\n",
       "       0.        , 0.        , 0.        , 0.        , 0.        ,\n",
       "       0.22352941, 0.73333335, 0.9764706 , 1.        , 0.7529412 ,\n",
       "       0.04313726, 0.        , 0.        , 0.        , 0.        ,\n",
       "       0.        , 0.        , 0.        , 0.        , 0.        ,\n",
       "       0.        , 0.        , 0.        , 0.        , 0.        ,\n",
       "       0.        , 0.        , 0.        , 0.        , 0.        ,\n",
       "       0.        , 0.01960784, 0.25882354, 0.49019608, 0.12156863,\n",
       "       0.        , 0.        , 0.        , 0.        , 0.        ,\n",
       "       0.        , 0.        , 0.        , 0.        , 0.        ,\n",
       "       0.        , 0.        , 0.        , 0.        , 0.        ,\n",
       "       0.        , 0.        , 0.        , 0.        , 0.        ,\n",
       "       0.        , 0.        , 0.        , 0.        , 0.        ,\n",
       "       0.        , 0.        , 0.        , 0.        , 0.        ,\n",
       "       0.        , 0.        , 0.        , 0.        , 0.        ,\n",
       "       0.        , 0.        , 0.        , 0.        , 0.        ,\n",
       "       0.        , 0.        , 0.        , 0.        , 0.        ,\n",
       "       0.        , 0.        , 0.        , 0.        , 0.        ,\n",
       "       0.        , 0.        , 0.        , 0.        , 0.        ,\n",
       "       0.        , 0.        , 0.        , 0.        , 0.        ,\n",
       "       0.        , 0.        , 0.        , 0.        , 0.        ,\n",
       "       0.        , 0.        , 0.        , 0.        , 0.        ,\n",
       "       0.        , 0.        , 0.        , 0.        , 0.        ,\n",
       "       0.        , 0.        , 0.        , 0.        , 0.        ,\n",
       "       0.        , 0.        , 0.        , 0.        , 0.        ,\n",
       "       0.        , 0.        , 0.        , 0.        , 0.        ,\n",
       "       0.        , 0.        , 0.        , 0.        , 0.        ,\n",
       "       0.        , 0.        , 0.        , 0.        , 0.        ,\n",
       "       0.        , 0.        , 0.        , 0.        , 0.        ,\n",
       "       0.        , 0.        , 0.        , 0.        , 0.        ,\n",
       "       0.        , 0.        , 0.        , 0.        , 0.        ],\n",
       "      dtype=float32)"
      ]
     },
     "execution_count": 46,
     "metadata": {},
     "output_type": "execute_result"
    }
   ],
   "source": [
    "df_maj_test.iloc[4][\"Images\"]"
   ]
  },
  {
   "cell_type": "code",
   "execution_count": 47,
   "id": "505101ab",
   "metadata": {},
   "outputs": [
    {
     "data": {
      "text/plain": [
       "array([[0.        , 0.        , 0.        , 0.        , 0.        ,\n",
       "        0.        , 0.        , 0.        , 0.        , 0.        ,\n",
       "        0.        , 0.        , 0.        , 0.        , 0.        ,\n",
       "        0.        , 0.        , 0.        , 0.        , 0.        ,\n",
       "        0.        , 0.        , 0.        , 0.        , 0.        ],\n",
       "       [0.        , 0.        , 0.        , 0.        , 0.        ,\n",
       "        0.        , 0.        , 0.        , 0.        , 0.        ,\n",
       "        0.        , 0.        , 0.        , 0.        , 0.        ,\n",
       "        0.        , 0.        , 0.        , 0.        , 0.        ,\n",
       "        0.        , 0.        , 0.        , 0.        , 0.        ],\n",
       "       [0.        , 0.        , 0.        , 0.        , 0.        ,\n",
       "        0.        , 0.        , 0.        , 0.        , 0.        ,\n",
       "        0.        , 0.        , 0.        , 0.        , 0.        ,\n",
       "        0.        , 0.        , 0.        , 0.        , 0.        ,\n",
       "        0.        , 0.        , 0.        , 0.        , 0.        ],\n",
       "       [0.        , 0.        , 0.        , 0.        , 0.        ,\n",
       "        0.        , 0.        , 0.        , 0.        , 0.        ,\n",
       "        0.        , 0.        , 0.        , 0.        , 0.        ,\n",
       "        0.        , 0.        , 0.        , 0.        , 0.        ,\n",
       "        0.        , 0.        , 0.        , 0.        , 0.        ],\n",
       "       [0.        , 0.        , 0.        , 0.        , 0.        ,\n",
       "        0.        , 0.        , 0.        , 0.        , 0.        ,\n",
       "        0.06666667, 0.3764706 , 0.5137255 , 0.5019608 , 0.5019608 ,\n",
       "        0.50980395, 0.43137255, 0.04705882, 0.        , 0.        ,\n",
       "        0.        , 0.        , 0.        , 0.        , 0.        ],\n",
       "       [0.        , 0.        , 0.        , 0.        , 0.        ,\n",
       "        0.        , 0.        , 0.        , 0.10196079, 0.32156864,\n",
       "        0.79607844, 1.        , 1.        , 1.        , 1.        ,\n",
       "        1.        , 1.        , 0.67058825, 0.18039216, 0.        ,\n",
       "        0.        , 0.        , 0.        , 0.        , 0.        ],\n",
       "       [0.        , 0.        , 0.        , 0.        , 0.        ,\n",
       "        0.        , 0.        , 0.00392157, 0.4627451 , 1.        ,\n",
       "        0.9882353 , 0.90588236, 0.7882353 , 0.54509807, 0.5372549 ,\n",
       "        0.7254902 , 0.9254902 , 1.        , 0.94509804, 0.36078432,\n",
       "        0.        , 0.        , 0.        , 0.        , 0.        ],\n",
       "       [0.        , 0.        , 0.        , 0.        , 0.        ,\n",
       "        0.        , 0.        , 0.2901961 , 0.9764706 , 1.        ,\n",
       "        0.5176471 , 0.07058824, 0.04313726, 0.        , 0.        ,\n",
       "        0.02352941, 0.11764706, 0.69411767, 1.        , 0.9372549 ,\n",
       "        0.2       , 0.        , 0.        , 0.        , 0.        ],\n",
       "       [0.        , 0.        , 0.        , 0.        , 0.        ,\n",
       "        0.        , 0.08235294, 0.7529412 , 1.        , 0.45882353,\n",
       "        0.        , 0.        , 0.        , 0.        , 0.        ,\n",
       "        0.        , 0.        , 0.02352941, 0.46666667, 1.        ,\n",
       "        0.5019608 , 0.        , 0.        , 0.        , 0.        ],\n",
       "       [0.        , 0.        , 0.        , 0.        , 0.        ,\n",
       "        0.        , 0.48235294, 1.        , 0.67058825, 0.03529412,\n",
       "        0.        , 0.        , 0.        , 0.        , 0.        ,\n",
       "        0.        , 0.        , 0.02745098, 0.6117647 , 1.        ,\n",
       "        0.5019608 , 0.        , 0.        , 0.        , 0.        ],\n",
       "       [0.        , 0.        , 0.        , 0.        , 0.        ,\n",
       "        0.04313726, 0.7921569 , 0.9019608 , 0.1254902 , 0.        ,\n",
       "        0.        , 0.        , 0.        , 0.        , 0.01960784,\n",
       "        0.05098039, 0.22352941, 0.69411767, 1.        , 1.        ,\n",
       "        0.49803922, 0.        , 0.        , 0.        , 0.        ],\n",
       "       [0.        , 0.        , 0.        , 0.        , 0.        ,\n",
       "        0.3882353 , 1.        , 0.6901961 , 0.        , 0.        ,\n",
       "        0.        , 0.        , 0.        , 0.12941177, 0.627451  ,\n",
       "        0.8901961 , 0.95686275, 1.        , 1.        , 1.        ,\n",
       "        0.49803922, 0.        , 0.        , 0.        , 0.        ],\n",
       "       [0.        , 0.        , 0.        , 0.        , 0.        ,\n",
       "        0.60784316, 1.        , 0.38431373, 0.        , 0.        ,\n",
       "        0.        , 0.08627451, 0.5803922 , 0.92156863, 1.        ,\n",
       "        0.99607843, 0.9764706 , 0.78039217, 0.9254902 , 0.9647059 ,\n",
       "        0.23137255, 0.        , 0.        , 0.        , 0.        ],\n",
       "       [0.        , 0.        , 0.        , 0.        , 0.09411765,\n",
       "        0.8980392 , 0.8156863 , 0.03921569, 0.        , 0.        ,\n",
       "        0.36078432, 0.8745098 , 1.        , 1.        , 0.92941177,\n",
       "        0.3647059 , 0.14509805, 0.05098039, 0.78431374, 0.6156863 ,\n",
       "        0.        , 0.        , 0.        , 0.        , 0.        ],\n",
       "       [0.        , 0.        , 0.        , 0.        , 0.11372549,\n",
       "        0.95686275, 0.7607843 , 0.        , 0.35686275, 0.69411767,\n",
       "        0.95686275, 1.        , 0.91764706, 0.44705883, 0.20392157,\n",
       "        0.        , 0.        , 0.00392157, 0.25882354, 0.09019608,\n",
       "        0.        , 0.        , 0.        , 0.        , 0.        ],\n",
       "       [0.        , 0.        , 0.        , 0.        , 0.28235295,\n",
       "        0.99215686, 0.85490197, 0.54901963, 0.9647059 , 1.        ,\n",
       "        0.9607843 , 0.7019608 , 0.23921569, 0.        , 0.        ,\n",
       "        0.        , 0.        , 0.        , 0.        , 0.        ,\n",
       "        0.        , 0.        , 0.        , 0.        , 0.        ],\n",
       "       [0.        , 0.        , 0.        , 0.        , 0.49803922,\n",
       "        1.        , 1.        , 1.        , 1.        , 0.87058824,\n",
       "        0.2509804 , 0.00784314, 0.        , 0.        , 0.        ,\n",
       "        0.        , 0.        , 0.        , 0.        , 0.        ,\n",
       "        0.        , 0.        , 0.        , 0.        , 0.        ],\n",
       "       [0.        , 0.        , 0.        , 0.        , 0.2       ,\n",
       "        0.93333334, 1.        , 1.        , 1.        , 0.5254902 ,\n",
       "        0.        , 0.        , 0.        , 0.        , 0.        ,\n",
       "        0.        , 0.        , 0.        , 0.        , 0.        ,\n",
       "        0.        , 0.        , 0.        , 0.        , 0.        ],\n",
       "       [0.        , 0.        , 0.        , 0.        , 0.        ,\n",
       "        0.62352943, 1.        , 1.        , 1.        , 0.60784316,\n",
       "        0.        , 0.        , 0.        , 0.        , 0.        ,\n",
       "        0.        , 0.        , 0.        , 0.        , 0.        ,\n",
       "        0.        , 0.        , 0.        , 0.        , 0.        ],\n",
       "       [0.        , 0.        , 0.        , 0.        , 0.        ,\n",
       "        0.22352941, 0.73333335, 0.9764706 , 1.        , 0.7529412 ,\n",
       "        0.04313726, 0.        , 0.        , 0.        , 0.        ,\n",
       "        0.        , 0.        , 0.        , 0.        , 0.        ,\n",
       "        0.        , 0.        , 0.        , 0.        , 0.        ],\n",
       "       [0.        , 0.        , 0.        , 0.        , 0.        ,\n",
       "        0.        , 0.01960784, 0.25882354, 0.49019608, 0.12156863,\n",
       "        0.        , 0.        , 0.        , 0.        , 0.        ,\n",
       "        0.        , 0.        , 0.        , 0.        , 0.        ,\n",
       "        0.        , 0.        , 0.        , 0.        , 0.        ],\n",
       "       [0.        , 0.        , 0.        , 0.        , 0.        ,\n",
       "        0.        , 0.        , 0.        , 0.        , 0.        ,\n",
       "        0.        , 0.        , 0.        , 0.        , 0.        ,\n",
       "        0.        , 0.        , 0.        , 0.        , 0.        ,\n",
       "        0.        , 0.        , 0.        , 0.        , 0.        ],\n",
       "       [0.        , 0.        , 0.        , 0.        , 0.        ,\n",
       "        0.        , 0.        , 0.        , 0.        , 0.        ,\n",
       "        0.        , 0.        , 0.        , 0.        , 0.        ,\n",
       "        0.        , 0.        , 0.        , 0.        , 0.        ,\n",
       "        0.        , 0.        , 0.        , 0.        , 0.        ],\n",
       "       [0.        , 0.        , 0.        , 0.        , 0.        ,\n",
       "        0.        , 0.        , 0.        , 0.        , 0.        ,\n",
       "        0.        , 0.        , 0.        , 0.        , 0.        ,\n",
       "        0.        , 0.        , 0.        , 0.        , 0.        ,\n",
       "        0.        , 0.        , 0.        , 0.        , 0.        ],\n",
       "       [0.        , 0.        , 0.        , 0.        , 0.        ,\n",
       "        0.        , 0.        , 0.        , 0.        , 0.        ,\n",
       "        0.        , 0.        , 0.        , 0.        , 0.        ,\n",
       "        0.        , 0.        , 0.        , 0.        , 0.        ,\n",
       "        0.        , 0.        , 0.        , 0.        , 0.        ]],\n",
       "      dtype=float32)"
      ]
     },
     "execution_count": 47,
     "metadata": {},
     "output_type": "execute_result"
    }
   ],
   "source": [
    "array_2d = df_maj_test.iloc[4][\"Images\"].reshape(25, 25)\n",
    "array_2d"
   ]
  },
  {
   "cell_type": "code",
   "execution_count": 48,
   "id": "1efc3e81",
   "metadata": {},
   "outputs": [
    {
     "data": {
      "text/plain": [
       "array([[  0.,   0.,   0.,   0.,   0.,   0.,   0.,   0.,   0.,   0.,   0.,\n",
       "          0.,   0.,   0.,   0.,   0.,   0.,   0.,   0.,   0.,   0.,   0.,\n",
       "          0.,   0.,   0.],\n",
       "       [  0.,   0.,   0.,   0.,   0.,   0.,   0.,   0.,   0.,   0.,   0.,\n",
       "          0.,   0.,   0.,   0.,   0.,   0.,   0.,   0.,   0.,   0.,   0.,\n",
       "          0.,   0.,   0.],\n",
       "       [  0.,   0.,   0.,   0.,   0.,   0.,   0.,   0.,   0.,   0.,   0.,\n",
       "          0.,   0.,   0.,   0.,   0.,   0.,   0.,   0.,   0.,   0.,   0.,\n",
       "          0.,   0.,   0.],\n",
       "       [  0.,   0.,   0.,   0.,   0.,   0.,   0.,   0.,   0.,   0.,   0.,\n",
       "          0.,   0.,   0.,   0.,   0.,   0.,   0.,   0.,   0.,   0.,   0.,\n",
       "          0.,   0.,   0.],\n",
       "       [  0.,   0.,   0.,   0.,   0.,   0.,   0.,   0.,   0.,   0.,  17.,\n",
       "         96., 131., 128., 128., 130., 110.,  12.,   0.,   0.,   0.,   0.,\n",
       "          0.,   0.,   0.],\n",
       "       [  0.,   0.,   0.,   0.,   0.,   0.,   0.,   0.,  26.,  82., 203.,\n",
       "        255., 255., 255., 255., 255., 255., 171.,  46.,   0.,   0.,   0.,\n",
       "          0.,   0.,   0.],\n",
       "       [  0.,   0.,   0.,   0.,   0.,   0.,   0.,   1., 118., 255., 252.,\n",
       "        231., 201., 139., 137., 185., 236., 255., 241.,  92.,   0.,   0.,\n",
       "          0.,   0.,   0.],\n",
       "       [  0.,   0.,   0.,   0.,   0.,   0.,   0.,  74., 249., 255., 132.,\n",
       "         18.,  11.,   0.,   0.,   6.,  30., 177., 255., 239.,  51.,   0.,\n",
       "          0.,   0.,   0.],\n",
       "       [  0.,   0.,   0.,   0.,   0.,   0.,  21., 192., 255., 117.,   0.,\n",
       "          0.,   0.,   0.,   0.,   0.,   0.,   6., 119., 255., 128.,   0.,\n",
       "          0.,   0.,   0.],\n",
       "       [  0.,   0.,   0.,   0.,   0.,   0., 123., 255., 171.,   9.,   0.,\n",
       "          0.,   0.,   0.,   0.,   0.,   0.,   7., 156., 255., 128.,   0.,\n",
       "          0.,   0.,   0.],\n",
       "       [  0.,   0.,   0.,   0.,   0.,  11., 202., 230.,  32.,   0.,   0.,\n",
       "          0.,   0.,   0.,   5.,  13.,  57., 177., 255., 255., 127.,   0.,\n",
       "          0.,   0.,   0.],\n",
       "       [  0.,   0.,   0.,   0.,   0.,  99., 255., 176.,   0.,   0.,   0.,\n",
       "          0.,   0.,  33., 160., 227., 244., 255., 255., 255., 127.,   0.,\n",
       "          0.,   0.,   0.],\n",
       "       [  0.,   0.,   0.,   0.,   0., 155., 255.,  98.,   0.,   0.,   0.,\n",
       "         22., 148., 235., 255., 254., 249., 199., 236., 246.,  59.,   0.,\n",
       "          0.,   0.,   0.],\n",
       "       [  0.,   0.,   0.,   0.,  24., 229., 208.,  10.,   0.,   0.,  92.,\n",
       "        223., 255., 255., 237.,  93.,  37.,  13., 200., 157.,   0.,   0.,\n",
       "          0.,   0.,   0.],\n",
       "       [  0.,   0.,   0.,   0.,  29., 244., 194.,   0.,  91., 177., 244.,\n",
       "        255., 234., 114.,  52.,   0.,   0.,   1.,  66.,  23.,   0.,   0.,\n",
       "          0.,   0.,   0.],\n",
       "       [  0.,   0.,   0.,   0.,  72., 253., 218., 140., 246., 255., 245.,\n",
       "        179.,  61.,   0.,   0.,   0.,   0.,   0.,   0.,   0.,   0.,   0.,\n",
       "          0.,   0.,   0.],\n",
       "       [  0.,   0.,   0.,   0., 127., 255., 255., 255., 255., 222.,  64.,\n",
       "          2.,   0.,   0.,   0.,   0.,   0.,   0.,   0.,   0.,   0.,   0.,\n",
       "          0.,   0.,   0.],\n",
       "       [  0.,   0.,   0.,   0.,  51., 238., 255., 255., 255., 134.,   0.,\n",
       "          0.,   0.,   0.,   0.,   0.,   0.,   0.,   0.,   0.,   0.,   0.,\n",
       "          0.,   0.,   0.],\n",
       "       [  0.,   0.,   0.,   0.,   0., 159., 255., 255., 255., 155.,   0.,\n",
       "          0.,   0.,   0.,   0.,   0.,   0.,   0.,   0.,   0.,   0.,   0.,\n",
       "          0.,   0.,   0.],\n",
       "       [  0.,   0.,   0.,   0.,   0.,  57., 187., 249., 255., 192.,  11.,\n",
       "          0.,   0.,   0.,   0.,   0.,   0.,   0.,   0.,   0.,   0.,   0.,\n",
       "          0.,   0.,   0.],\n",
       "       [  0.,   0.,   0.,   0.,   0.,   0.,   5.,  66., 125.,  31.,   0.,\n",
       "          0.,   0.,   0.,   0.,   0.,   0.,   0.,   0.,   0.,   0.,   0.,\n",
       "          0.,   0.,   0.],\n",
       "       [  0.,   0.,   0.,   0.,   0.,   0.,   0.,   0.,   0.,   0.,   0.,\n",
       "          0.,   0.,   0.,   0.,   0.,   0.,   0.,   0.,   0.,   0.,   0.,\n",
       "          0.,   0.,   0.],\n",
       "       [  0.,   0.,   0.,   0.,   0.,   0.,   0.,   0.,   0.,   0.,   0.,\n",
       "          0.,   0.,   0.,   0.,   0.,   0.,   0.,   0.,   0.,   0.,   0.,\n",
       "          0.,   0.,   0.],\n",
       "       [  0.,   0.,   0.,   0.,   0.,   0.,   0.,   0.,   0.,   0.,   0.,\n",
       "          0.,   0.,   0.,   0.,   0.,   0.,   0.,   0.,   0.,   0.,   0.,\n",
       "          0.,   0.,   0.],\n",
       "       [  0.,   0.,   0.,   0.,   0.,   0.,   0.,   0.,   0.,   0.,   0.,\n",
       "          0.,   0.,   0.,   0.,   0.,   0.,   0.,   0.,   0.,   0.,   0.,\n",
       "          0.,   0.,   0.]], dtype=float32)"
      ]
     },
     "execution_count": 48,
     "metadata": {},
     "output_type": "execute_result"
    }
   ],
   "source": [
    "not_scaled = array_2d * 255\n",
    "not_scaled"
   ]
  },
  {
   "cell_type": "code",
   "execution_count": 56,
   "id": "09bf0dab",
   "metadata": {},
   "outputs": [
    {
     "name": "stdout",
     "output_type": "stream",
     "text": [
      "625\n",
      "25\n",
      "------------------\n"
     ]
    }
   ],
   "source": [
    "tab1 = []\n",
    "tab2 = []\n",
    "cpt = 0\n",
    "print(len(df_maj_test.iloc[4][\"Images\"]))\n",
    "for i in range(len(df_maj_test.iloc[4][\"Images\"])):\n",
    "    cpt += 1\n",
    "    tab2.append(df_maj_test.iloc[4][\"Images\"][i])\n",
    "    if cpt % 25 == 0:\n",
    "        tab1.append(tab2)\n",
    "        tab2 = []\n",
    "        \n",
    "print(len(tab1))\n",
    "print(\"------------------\")\n",
    "for i in range(len(tab1)):\n",
    "    if len(tab1[i]) != 25:\n",
    "        print(len(tab1[i]))"
   ]
  },
  {
   "cell_type": "code",
   "execution_count": 7,
   "id": "f2503d3a",
   "metadata": {},
   "outputs": [
    {
     "data": {
      "text/plain": [
       "<matplotlib.image.AxesImage at 0x1745d6e2a50>"
      ]
     },
     "execution_count": 7,
     "metadata": {},
     "output_type": "execute_result"
    },
    {
     "data": {
      "image/png": "[encoded data removed]",
      "text/plain": [
       "<Figure size 480x480 with 1 Axes>"
      ]
     },
     "metadata": {},
     "output_type": "display_data"
    }
   ],
   "source": [
    "import tensorflow as tf\n",
    "import numpy as np # linear algebra\n",
    "from tqdm import tqdm # progress bar\n",
    "from PIL import Image, ImageOps # image processing\n",
    "import matplotlib.pyplot as plt\n",
    "\n",
    "chemin_image = \"../../Dataset/datasetDigit/train/3/000020.png\"\n",
    "\n",
    "img = Image.open(chemin_image) # 300 x 300\n",
    "    \n",
    "nouvelle_taille = (25, 25) # 625\n",
    "\n",
    "# img = img.resize(nouvelle_taille) # Redimensionner l'image\n",
    "nb_image = img.convert('L') # Convertion en noir et blanc\n",
    "\n",
    "tab = []\n",
    "for i in range(nb_image.size[1]):\n",
    "    row = []\n",
    "    for y in range(nb_image.size[0]):\n",
    "        # Récupérer la couleur du pixel\n",
    "        row.append(nb_image.getpixel((y, i)))\n",
    "    tab.append(row)\n",
    "    \n",
    "tab_numpy = np.array(tab)\n",
    "    \n",
    "plt.matshow(tab_numpy) # faire apparaitre l'image grace à matplotlib"
   ]
  },
  {
   "cell_type": "code",
   "execution_count": null,
   "id": "c17c0cb0",
   "metadata": {},
   "outputs": [],
   "source": [
    "plt.matshow(tab1) # faire apparaitre l'image grace à matplotlib"
   ]
  },
  {
   "cell_type": "code",
   "execution_count": 9,
   "id": "d2703d893932e5c5",
   "metadata": {
    "ExecuteTime": {
     "end_time": "2024-12-03T08:07:18.594798Z",
     "start_time": "2024-12-03T08:07:18.591514Z"
    }
   },
   "outputs": [
    {
     "data": {
      "text/plain": [
       "array([[ 1,  3,  4],\n",
       "       [ 3,  5, 56]])"
      ]
     },
     "execution_count": 9,
     "metadata": {},
     "output_type": "execute_result"
    }
   ],
   "source": [
    "truc = np.array([[1, 3, 4], [3, 5, 56]])\n",
    "truc"
   ]
  },
  {
   "cell_type": "code",
   "execution_count": 10,
   "id": "fca9963cb49c701e",
   "metadata": {
    "ExecuteTime": {
     "end_time": "2024-12-03T08:07:18.635328Z",
     "start_time": "2024-12-03T08:07:18.632021Z"
    }
   },
   "outputs": [
    {
     "data": {
      "text/plain": [
       "'[[ 1,  3,  4], [ 3,  5, 56]]'"
      ]
     },
     "execution_count": 10,
     "metadata": {},
     "output_type": "execute_result"
    }
   ],
   "source": [
    "bidule = np.array2string(truc, separator=', ')\n",
    "bidule = bidule.replace('\\n', '')\n",
    "bidule"
   ]
  },
  {
   "cell_type": "code",
   "execution_count": 11,
   "id": "8a69967d27540866",
   "metadata": {
    "ExecuteTime": {
     "end_time": "2024-12-03T08:07:18.721155Z",
     "start_time": "2024-12-03T08:07:18.717041Z"
    }
   },
   "outputs": [
    {
     "data": {
      "text/plain": [
       "array([[ 1,  3,  4],\n",
       "       [ 3,  5, 56]])"
      ]
     },
     "execution_count": 11,
     "metadata": {},
     "output_type": "execute_result"
    }
   ],
   "source": [
    "machin = np.array(ast.literal_eval(bidule))\n",
    "machin"
   ]
  },
  {
   "cell_type": "code",
   "execution_count": 13,
   "id": "692e4d979bf6dcb7",
   "metadata": {
    "ExecuteTime": {
     "end_time": "2024-12-03T08:07:18.802617Z",
     "start_time": "2024-12-03T08:07:18.800767Z"
    }
   },
   "outputs": [
    {
     "name": "stdout",
     "output_type": "stream",
     "text": [
      "[0.  , 0.12, 0.46, 0.13]\n"
     ]
    }
   ],
   "source": [
    "import numpy as np\n",
    "\n",
    "# Création d'un tableau numpy\n",
    "array = np.array([0.0, 0.1234567, 0.456, 0.131123], dtype=float)\n",
    "\n",
    "# Ajuster le format d'impression avec des options personnalisées\n",
    "np.set_printoptions() #formatter={'float': '{:0.8f}'.format})\n",
    "\n",
    "# Convertir en chaîne\n",
    "array_as_string = np.array2string(array, separator=\", \")\n",
    "\n",
    "print(array_as_string)"
   ]
  },
  {
   "cell_type": "code",
   "execution_count": 19,
   "id": "d5c2e58c",
   "metadata": {},
   "outputs": [
    {
     "name": "stdout",
     "output_type": "stream",
     "text": [
      "type de data : <class 'numpy.lib.npyio.NpzFile'>\n",
      "Nom des tableaux : ['tableau1', 'tableau2']\n",
      "tableau 1 : [1 2 3 4]\n",
      "tableau 2 : [[4 5 6]\n",
      " [7 8 9]]\n"
     ]
    }
   ],
   "source": [
    "import numpy as np\n",
    "\n",
    "# Exemple de tableaux\n",
    "array1 = np.array([1, 2, 3])\n",
    "array2 = np.array([[4, 5, 6], [7, 8, 9]])\n",
    "\n",
    "array1 = np.append(array1, 4)\n",
    "\n",
    "# Sauvegarder plusieurs tableaux dans un fichier .npz\n",
    "np.savez(\"arrays.npz\", tableau1=array1, tableau2=array2)\n",
    "\n",
    "# Charger les tableaux depuis le fichier .npz\n",
    "data = np.load(\"arrays.npz\")\n",
    "\n",
    "print(\"type de data :\", type(data))  # <class 'numpy.lib.npyio.NpzFile'>\n",
    "print(\"Nom des tableaux :\", data.files)  # ['tableau1', 'tableau2']*\n",
    "print(\"tableau 1 :\", data[\"tableau1\"])  # [1 2 3]\n",
    "print(\"tableau 2 :\", data[\"tableau2\"])  # [[4 5 6] [7 8 9]]"
   ]
  },
  {
   "cell_type": "code",
   "execution_count": 18,
   "id": "46cbaf4e",
   "metadata": {},
   "outputs": [
    {
     "ename": "OSError",
     "evalue": "[Errno 22] Invalid argument: 'https://storage.googleapis.com/tensorflow/tf-keras-datasets/mnist.npz'",
     "output_type": "error",
     "traceback": [
      "\u001b[1;31m---------------------------------------------------------------------------\u001b[0m",
      "\u001b[1;31mOSError\u001b[0m                                   Traceback (most recent call last)",
      "Cell \u001b[1;32mIn[18], line 3\u001b[0m\n\u001b[0;32m      1\u001b[0m \u001b[38;5;28;01mimport\u001b[39;00m \u001b[38;5;21;01msys\u001b[39;00m\n\u001b[1;32m----> 3\u001b[0m data \u001b[38;5;241m=\u001b[39m \u001b[43mnp\u001b[49m\u001b[38;5;241;43m.\u001b[39;49m\u001b[43mload\u001b[49m\u001b[43m(\u001b[49m\u001b[38;5;124;43m\"\u001b[39;49m\u001b[38;5;124;43mhttps://storage.googleapis.com/tensorflow/tf-keras-datasets/mnist.npz\u001b[39;49m\u001b[38;5;124;43m\"\u001b[39;49m\u001b[43m)\u001b[49m\n\u001b[0;32m      5\u001b[0m \u001b[38;5;66;03m# Inspecter les clés du fichier\u001b[39;00m\n\u001b[0;32m      6\u001b[0m \u001b[38;5;28mprint\u001b[39m(data\u001b[38;5;241m.\u001b[39mfiles)\n",
      "File \u001b[1;32mc:\\Users\\yfour\\Documents\\EnvsPython\\Scribio\\Lib\\site-packages\\numpy\\lib\\npyio.py:427\u001b[0m, in \u001b[0;36mload\u001b[1;34m(file, mmap_mode, allow_pickle, fix_imports, encoding, max_header_size)\u001b[0m\n\u001b[0;32m    425\u001b[0m     own_fid \u001b[38;5;241m=\u001b[39m \u001b[38;5;28;01mFalse\u001b[39;00m\n\u001b[0;32m    426\u001b[0m \u001b[38;5;28;01melse\u001b[39;00m:\n\u001b[1;32m--> 427\u001b[0m     fid \u001b[38;5;241m=\u001b[39m stack\u001b[38;5;241m.\u001b[39menter_context(\u001b[38;5;28;43mopen\u001b[39;49m\u001b[43m(\u001b[49m\u001b[43mos_fspath\u001b[49m\u001b[43m(\u001b[49m\u001b[43mfile\u001b[49m\u001b[43m)\u001b[49m\u001b[43m,\u001b[49m\u001b[43m \u001b[49m\u001b[38;5;124;43m\"\u001b[39;49m\u001b[38;5;124;43mrb\u001b[39;49m\u001b[38;5;124;43m\"\u001b[39;49m\u001b[43m)\u001b[49m)\n\u001b[0;32m    428\u001b[0m     own_fid \u001b[38;5;241m=\u001b[39m \u001b[38;5;28;01mTrue\u001b[39;00m\n\u001b[0;32m    430\u001b[0m \u001b[38;5;66;03m# Code to distinguish from NumPy binary files and pickles.\u001b[39;00m\n",
      "\u001b[1;31mOSError\u001b[0m: [Errno 22] Invalid argument: 'https://storage.googleapis.com/tensorflow/tf-keras-datasets/mnist.npz'"
     ]
    }
   ],
   "source": [
    "import sys\n",
    "\n",
    "data = np.load(\"https://storage.googleapis.com/tensorflow/tf-keras-datasets/mnist.npz\")\n",
    "\n",
    "# Inspecter les clés du fichier\n",
    "print(data.files)\n",
    "\n",
    "print(sys.getsizeof(data))"
   ]
  },
  {
   "cell_type": "code",
   "execution_count": 22,
   "id": "4323bd82",
   "metadata": {},
   "outputs": [
    {
     "name": "stdout",
     "output_type": "stream",
     "text": [
      "../Dataset\n",
      "   /dataset\n",
      "      /test\n",
      "        /M\n"
     ]
    }
   ],
   "source": [
    "print(\"../Dataset\")\n",
    "print(\"   /dataset\")\n",
    "print(\"      /test\")\n",
    "print(\"        /M\")"
   ]
  },
  {
   "cell_type": "code",
   "execution_count": 1,
   "id": "46d64386",
   "metadata": {},
   "outputs": [],
   "source": [
    "from PIL import Image, ImageOps\n",
    "\n",
    "# Ouvrir une image\n",
    "# image = Image.open(\"../../Dataset/dataset/test/R/000000.png\")\n",
    "image = Image.open(\"../img/A.jpg\")\n",
    "\n",
    "# Effectuer une rotation (exemple : 45 degrés)\n",
    "nouvelle_taille = (25, 25) # 2500 \n",
    "img_finale = image.resize(nouvelle_taille) # Redimensionner l'image\n",
    "img_finale = img_finale.rotate(0, expand=True)\n",
    "img_finale = img_finale.convert('L') # Convertion en noir et blanc\n",
    "\n",
    "# Inverser les couleurs\n",
    "# img_finale = ImageOps.mirror(img_finale)\n",
    "\n",
    "# Afficher l'image après rotation\n",
    "img_finale.show()\n",
    "\n",
    "# Sauvegarder l'image après rotation\n",
    "# img_finale.save(\"../img/A_mirror_90.png\")"
   ]
  },
  {
   "cell_type": "code",
   "execution_count": 3,
   "id": "6f1ade39",
   "metadata": {},
   "outputs": [
    {
     "name": "stdout",
     "output_type": "stream",
     "text": [
      "Image stockée avec succès dans MongoDB !\n"
     ]
    }
   ],
   "source": [
    "import gridfs\n",
    "from pymongo import MongoClient\n",
    "\n",
    "# Connexion à MongoDB\n",
    "client = MongoClient('mongodb://localhost:27017/')\n",
    "db = client['Test']\n",
    "\n",
    "# Utilisation de GridFS\n",
    "fs = gridfs.GridFS(db)\n",
    "\n",
    "# Lire l'image et la stocker\n",
    "with open(\"../../Dataset/datasetSmall/validation/b/000000.png\", \"rb\") as fichier:\n",
    "    fs.put(fichier, filename=\"image_stockee.jpg\")\n",
    "\n",
    "print(\"Image stockée avec succès dans MongoDB !\")"
   ]
  },
  {
   "cell_type": "code",
   "execution_count": null,
   "id": "7e14081e",
   "metadata": {},
   "outputs": [],
   "source": [
    "import cv2\n",
    "import numpy as np\n",
    "\n",
    "# Charger l'image\n",
    "image = cv2.imread('../img/A.jpg')\n",
    "\n",
    "# Convertir en niveaux de gris pour mieux identifier les zones brillantes\n",
    "gray = cv2.cvtColor(image, cv2.COLOR_BGR2GRAY)\n",
    "\n",
    "# Seuillage pour créer un masque des zones brillantes\n",
    "_, mask = cv2.threshold(gray, 240, 255, cv2.THRESH_BINARY)\n",
    "\n",
    "# Inpainting pour corriger les reflets\n",
    "result = cv2.inpaint(image, mask, 3, cv2.INPAINT_TELEA)\n",
    "\n",
    "# Afficher l'image corrigée\n",
    "cv2.imshow('Image corrigée', result)\n",
    "cv2.waitKey(0)\n",
    "cv2.destroyAllWindows()\n"
   ]
  },
  {
   "cell_type": "code",
   "execution_count": 3,
   "id": "64519dc9",
   "metadata": {},
   "outputs": [],
   "source": [
    "# Connexion à MongoDB\n",
    "client = MongoClient(\"mongodb://localhost:27017/Scibio\")  # Remplacez par l'URL de votre serveur MongoDB\n",
    "db = client[\"Scribio\"]  # Nom de la base de données\n",
    "collection = db[\"Test\"]  # Nom de la collection"
   ]
  },
  {
   "cell_type": "code",
   "execution_count": 7,
   "id": "80c768fa",
   "metadata": {},
   "outputs": [
    {
     "name": "stdout",
     "output_type": "stream",
     "text": [
      "Document inséré avec l'ID : 677fdada94491e5e74338b8f\n"
     ]
    }
   ],
   "source": [
    "# Créer un tableau NumPy\n",
    "tableau_numpy = np.array([[1, 2, 3], [4, 5, 6]])\n",
    "\n",
    "# Convertir le tableau NumPy en une liste\n",
    "tableau_liste = tableau_numpy.tolist()\n",
    "\n",
    "# Insérer le tableau dans MongoDB\n",
    "document = {\"nom_tableau\": \"mon_tableau\", \"donnees\": tableau_liste}\n",
    "resultat = collection.insert_one(document)\n",
    "\n",
    "# Afficher l'ID du document inséré\n",
    "print(\"Document inséré avec l'ID :\", resultat.inserted_id)\n"
   ]
  },
  {
   "cell_type": "code",
   "execution_count": 4,
   "id": "94523fad",
   "metadata": {},
   "outputs": [
    {
     "name": "stdout",
     "output_type": "stream",
     "text": [
      "<class 'list'>\n"
     ]
    },
    {
     "data": {
      "text/html": [
       "<div>\n",
       "<style scoped>\n",
       "    .dataframe tbody tr th:only-of-type {\n",
       "        vertical-align: middle;\n",
       "    }\n",
       "\n",
       "    .dataframe tbody tr th {\n",
       "        vertical-align: top;\n",
       "    }\n",
       "\n",
       "    .dataframe thead th {\n",
       "        text-align: right;\n",
       "    }\n",
       "</style>\n",
       "<table border=\"1\" class=\"dataframe\">\n",
       "  <thead>\n",
       "    <tr style=\"text-align: right;\">\n",
       "      <th></th>\n",
       "      <th>_id</th>\n",
       "      <th>nom_tableau</th>\n",
       "      <th>donnees</th>\n",
       "    </tr>\n",
       "  </thead>\n",
       "  <tbody>\n",
       "    <tr>\n",
       "      <th>0</th>\n",
       "      <td>677fd90b94491e5e74338b8c</td>\n",
       "      <td>mon_tableau</td>\n",
       "      <td>[[1, 2, 3], [4, 5, 6]]</td>\n",
       "    </tr>\n",
       "    <tr>\n",
       "      <th>1</th>\n",
       "      <td>677fdad894491e5e74338b8d</td>\n",
       "      <td>mon_tableau</td>\n",
       "      <td>[[1, 2, 3], [4, 5, 6]]</td>\n",
       "    </tr>\n",
       "    <tr>\n",
       "      <th>2</th>\n",
       "      <td>677fdad994491e5e74338b8e</td>\n",
       "      <td>mon_tableau</td>\n",
       "      <td>[[1, 2, 3], [4, 5, 6]]</td>\n",
       "    </tr>\n",
       "    <tr>\n",
       "      <th>3</th>\n",
       "      <td>677fdada94491e5e74338b8f</td>\n",
       "      <td>mon_tableau</td>\n",
       "      <td>[[1, 2, 3], [4, 5, 6]]</td>\n",
       "    </tr>\n",
       "  </tbody>\n",
       "</table>\n",
       "</div>"
      ],
      "text/plain": [
       "                        _id  nom_tableau                 donnees\n",
       "0  677fd90b94491e5e74338b8c  mon_tableau  [[1, 2, 3], [4, 5, 6]]\n",
       "1  677fdad894491e5e74338b8d  mon_tableau  [[1, 2, 3], [4, 5, 6]]\n",
       "2  677fdad994491e5e74338b8e  mon_tableau  [[1, 2, 3], [4, 5, 6]]\n",
       "3  677fdada94491e5e74338b8f  mon_tableau  [[1, 2, 3], [4, 5, 6]]"
      ]
     },
     "execution_count": 4,
     "metadata": {},
     "output_type": "execute_result"
    }
   ],
   "source": [
    "# Récupérer le document depuis MongoDB\n",
    "document_recupere = collection.find({\"nom_tableau\": \"mon_tableau\"})\n",
    "df = pd.DataFrame(list(document_recupere))\n",
    "print(type(df.iloc[0][\"donnees\"]))\n",
    "df"
   ]
  },
  {
   "cell_type": "code",
   "execution_count": 3,
   "id": "4071e197",
   "metadata": {},
   "outputs": [
    {
     "name": "stderr",
     "output_type": "stream",
     "text": [
      "Proccessing: 50it [00:50,  1.00s/it]                        \n"
     ]
    }
   ],
   "source": [
    "from tqdm import tqdm # progress bar\n",
    "import time\n",
    "# Parcours et transformation des photos avec barre de progression \n",
    "with tqdm(total=25, desc=\"Proccessing\" , position=0, leave=True) as pbar:\n",
    "    for i in range(50):\n",
    "        time.sleep(1)\n",
    "        pbar.update(1) # Mettre à jour la barre de progression"
   ]
  },
  {
   "cell_type": "code",
   "execution_count": 5,
   "id": "b397f23f",
   "metadata": {},
   "outputs": [
    {
     "ename": "NameError",
     "evalue": "name 'Image' is not defined",
     "output_type": "error",
     "traceback": [
      "\u001b[1;31m---------------------------------------------------------------------------\u001b[0m",
      "\u001b[1;31mNameError\u001b[0m                                 Traceback (most recent call last)",
      "Cell \u001b[1;32mIn[5], line 1\u001b[0m\n\u001b[1;32m----> 1\u001b[0m img \u001b[38;5;241m=\u001b[39m \u001b[43mImage\u001b[49m\u001b[38;5;241m.\u001b[39mopen(\u001b[38;5;124m\"\u001b[39m\u001b[38;5;124m../Dataset/dataset/test/A/000000.png\u001b[39m\u001b[38;5;124m\"\u001b[39m) \u001b[38;5;66;03m# 300 x 300\u001b[39;00m\n\u001b[0;32m      2\u001b[0m nouvelle_taille \u001b[38;5;241m=\u001b[39m (\u001b[38;5;241m50\u001b[39m, \u001b[38;5;241m50\u001b[39m) \u001b[38;5;66;03m# 2500\u001b[39;00m\n\u001b[0;32m      3\u001b[0m img_redimensionnee \u001b[38;5;241m=\u001b[39m img\u001b[38;5;241m.\u001b[39mresize(nouvelle_taille) \u001b[38;5;66;03m# Redimensionner l'image\u001b[39;00m\n",
      "\u001b[1;31mNameError\u001b[0m: name 'Image' is not defined"
     ]
    }
   ],
   "source": [
    "img = Image.open(\"../Dataset/dataset/test/A/000000.png\") # 300 x 300\n",
    "nouvelle_taille = (50, 50) # 2500\n",
    "img_redimensionnee = img.resize(nouvelle_taille) # Redimensionner l'image\n",
    "nb_image = img_redimensionnee.convert('L') # Convertion en noir et blanc"
   ]
  },
  {
   "cell_type": "code",
   "execution_count": 1,
   "id": "4485febe",
   "metadata": {},
   "outputs": [
    {
     "name": "stdout",
     "output_type": "stream",
     "text": [
      "None\n",
      "Les lettres ont été segmentées et sauvegardées dans le dossier : ../img/lettres_segmentées\n"
     ]
    }
   ],
   "source": [
    "import cv2\n",
    "import numpy as np\n",
    "import os\n",
    "\n",
    "def segment_letters(image_path, output_folder):\n",
    "    # Chargement de l'image\n",
    "    img = cv2.imread(image_path, cv2.IMREAD_GRAYSCALE)\n",
    "    \n",
    "    print(img)\n",
    "    \n",
    "    # Binarisation (Seuillage)\n",
    "    _, binary = cv2.threshold(img, 0, 255, cv2.THRESH_BINARY_INV + cv2.THRESH_OTSU)\n",
    "\n",
    "    # Trouver les contours\n",
    "    contours, _ = cv2.findContours(binary, cv2.RETR_EXTERNAL, cv2.CHAIN_APPROX_SIMPLE)\n",
    "\n",
    "    # Trier les contours de gauche à droite\n",
    "    contours = sorted(contours, key=lambda c: cv2.boundingRect(c)[0])\n",
    "\n",
    "    # Créer le dossier de sortie si nécessaire\n",
    "    if not os.path.exists(output_folder):\n",
    "        os.makedirs(output_folder)\n",
    "\n",
    "    # Découper et sauvegarder chaque lettre\n",
    "    for i, contour in enumerate(contours):\n",
    "        x, y, w, h = cv2.boundingRect(contour)\n",
    "\n",
    "        # Ignorer les petits bruits\n",
    "        if w > 10 and h > 10:  # Ajuster les valeurs selon les besoins\n",
    "            letter_img = binary[y:y+h, x:x+w]\n",
    "\n",
    "            # Redimensionner l'image de la lettre (ex : 28x28 pour un réseau MNIST-like)\n",
    "            resized_letter = cv2.resize(letter_img, (28, 28))\n",
    "\n",
    "            # Sauvegarder l'image de la lettre\n",
    "            output_path = os.path.join(output_folder, f\"letter_{i}.png\")\n",
    "            cv2.imwrite(output_path, resized_letter)\n",
    "\n",
    "    print(f\"Les lettres ont été segmentées et sauvegardées dans le dossier : {output_folder}\")\n",
    "\n",
    "# Exemple d'utilisation\n",
    "segment_letters(\"../img/M.png\", \"../img/lettres_segmentées\")"
   ]
  },
  {
   "cell_type": "code",
   "execution_count": 2,
   "id": "a6275d08",
   "metadata": {},
   "outputs": [
    {
     "name": "stdout",
     "output_type": "stream",
     "text": [
      "1 234 567,89\n",
      "Le nombre formaté est : 1234.57\n"
     ]
    }
   ],
   "source": [
    "import locale\n",
    "\n",
    "locale.setlocale(locale.LC_ALL, 'fr_FR.UTF-8')  # Configuration française\n",
    "x = 1234567.89\n",
    "print(locale.format_string(\"%.2f\", x, grouping=True))\n",
    "\n",
    "x = 1234.56789\n",
    "print(\"Le nombre formaté est : {:.2f}\".format(x))\n"
   ]
  },
  {
   "cell_type": "code",
   "execution_count": 2,
   "id": "8129f76a",
   "metadata": {},
   "outputs": [
    {
     "name": "stdout",
     "output_type": "stream",
     "text": [
      "    A   B\n",
      "0   2   4\n",
      "1   1   3\n",
      "2   9  11\n",
      "3   5   7\n",
      "4   6   8\n",
      "5  10  12\n"
     ]
    }
   ],
   "source": [
    "import pandas as pd\n",
    "\n",
    "# Exemple de DataFrames\n",
    "df1 = pd.DataFrame({'A': [1, 2], 'B': [3, 4]})\n",
    "df2 = pd.DataFrame({'A': [5, 6], 'B': [7, 8]})\n",
    "df3 = pd.DataFrame({'A': [9, 10], 'B': [11, 12]})\n",
    "\n",
    "# Concaténation verticale (par défaut)\n",
    "result = pd.concat([df1, df2, df3])\n",
    "\n",
    "# Mélange plus reset des index\n",
    "result = result.sample(frac=1).reset_index(drop=True)\n",
    "\n",
    "print(result)"
   ]
  },
  {
   "cell_type": "code",
   "execution_count": 7,
   "id": "8d972d33",
   "metadata": {},
   "outputs": [
    {
     "name": "stdout",
     "output_type": "stream",
     "text": [
      "Texte extrait :\n",
      "\n"
     ]
    }
   ],
   "source": [
    "import cv2\n",
    "import pytesseract\n",
    "\n",
    "# Spécifiez le chemin vers l'exécutable de Tesseract si vous êtes sur Windows\n",
    "pytesseract.pytesseract.tesseract_cmd = r\"C:\\Program Files\\Tesseract-OCR\\tesseract.exe\"\n",
    "tessdata_dir_config = r'--tessdata-dir \"C:\\Program Files\\Tesseract-OCR\\tessdata\"'\n",
    "\n",
    "# Charger l'image\n",
    "image_path = \"../img/M.jpg\"\n",
    "image = cv2.imread(image_path)\n",
    "# print(image)\n",
    "\n",
    "# Prétraitement de l'image (conversion en niveaux de gris)\n",
    "gray = cv2.cvtColor(image, cv2.COLOR_BGR2GRAY)\n",
    "\n",
    "# Optionnel : améliorer la qualité de l'image\n",
    "gray = cv2.GaussianBlur(gray, (5, 5), 0)\n",
    "_, binary_image = cv2.threshold(gray, 128, 255, cv2.THRESH_BINARY | cv2.THRESH_OTSU)\n",
    "\n",
    "# Extraire le texte\n",
    "text = pytesseract.image_to_string(binary_image, lang=\"fra\")  # Langue française si nécessaire\n",
    "print(\"Texte extrait :\")\n",
    "print(text)"
   ]
  },
  {
   "cell_type": "code",
   "execution_count": null,
   "id": "dcc0e407",
   "metadata": {},
   "outputs": [],
   "source": [
    "contours, _ = cv2.findContours(binary_image, cv2.RETR_EXTERNAL, cv2.CHAIN_APPROX_SIMPLE)\n",
    "for contour in contours:\n",
    "    x, y, w, h = cv2.boundingRect(contour)\n",
    "    cv2.rectangle(image, (x, y), (x + w, y + h), (0, 255, 0), 2)\n",
    "cv2.imshow(\"Zones detectées\", image)\n",
    "cv2.waitKey(0)"
   ]
  }
 ],
 "metadata": {
  "kernelspec": {
   "display_name": "Scribio",
   "language": "python",
   "name": "python3"
  },
  "language_info": {
   "codemirror_mode": {
    "name": "ipython",
    "version": 3
   },
   "file_extension": ".py",
   "mimetype": "text/x-python",
   "name": "python",
   "nbconvert_exporter": "python",
   "pygments_lexer": "ipython3",
   "version": "3.11.4"
  }
 },
 "nbformat": 4,
 "nbformat_minor": 5
}
