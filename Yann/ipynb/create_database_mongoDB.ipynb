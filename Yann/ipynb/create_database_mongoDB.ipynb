{
 "cells": [
  {
   "cell_type": "code",
   "execution_count": 34,
   "metadata": {},
   "outputs": [],
   "source": [
    "import os # file handling\n",
    "import numpy as np # linear algebra\n",
    "from tqdm import tqdm # progress bar\n",
    "from PIL import Image, ImageOps # image processing\n",
    "from pymongo import MongoClient # MongoDB\n",
    "from IPython.display import clear_output # clear output"
   ]
  },
  {
   "cell_type": "code",
   "execution_count": 35,
   "metadata": {},
   "outputs": [],
   "source": [
    "MIRROR = [False, True] # symétrie axiale\n",
    "INVERSION = [False, True] # inversion des couleurs\n",
    "ROTATION = [0, 90, 180, 270] # rotation de l'image"
   ]
  },
  {
   "cell_type": "code",
   "execution_count": 36,
   "metadata": {},
   "outputs": [],
   "source": [
    "# Connexion à MongoDB\n",
    "client = MongoClient(\"mongodb://localhost:27017/Scibio\")  # Remplacez par l'URL de votre serveur MongoDB\n",
    "db = client[\"Scribio\"]  # Nom de la base de données\n",
    "# collection = db[\"Dataset_v2\"]  # Collection de base\n",
    "collection_Maj = db[\"Dataset_Maj_v2\"]  # Collection par type\n",
    "collection_Min = db[\"Dataset_Min_v2\"]  # Collection par type\n",
    "collection_Nbr = db[\"Dataset_Nbr_v2\"]  # Collection par type"
   ]
  },
  {
   "cell_type": "code",
   "execution_count": 37,
   "metadata": {},
   "outputs": [],
   "source": [
    "# Transformation des photos en dataframe\n",
    "def photo_to_dataframe(chemins_photos: str) -> None:\n",
    "    \"\"\"Transforme les photos en tableau de pixels et les sauvegarde dans une base de données MongoDB. \n",
    "    Les photos sont redimensionnées, retournées, converties en noir et blanc, les couleurs peuvent être inversées \n",
    "    et les données sont mises à l'échelle.\n",
    "\n",
    "    Args:\n",
    "        chemins_photos (str): Chemin des photos (on veut le dossier contenant les photos)\n",
    "        label (str): label de la photo (ce qui va être prédit)\n",
    "        separation (str): séparation des données (train, test, validation)\n",
    "    \"\"\"\n",
    "    tab_img = [] # Initialisation de la liste des images (dictionnaire avec les infos des images)\n",
    "    type_label = \"\"\n",
    "    \n",
    "    # Split du chemin pour recupérer les informations\n",
    "    chemin_split = chemins_photos[0].split(\"\\\\\")\n",
    "    \n",
    "    # Affichage des dossiers en cours de traitement \n",
    "    print(\"..\\\\\" + chemin_split[2]) # Dataset\n",
    "    print(\"   \\\\\" + chemin_split[3]) # dataset, datasetDigit, datasetSmall\n",
    "    print(\"    \\\\\" + chemin_split[4]) # Répartition : test, train, validation\n",
    "    print(\"     \\\\\" + chemin_split[5]) # label (26 + 9 + 26)\n",
    "    \n",
    "    # Récupération du type de label (Majuscule, Minuscule, Nombre)\n",
    "    if chemin_split[3] == \"dataset\":\n",
    "        type_label = \"Maj\"\n",
    "    elif chemin_split[3] == \"datasetDigit\":\n",
    "        type_label = \"Min\"\n",
    "    elif chemin_split[3] == \"datasetSmall\":\n",
    "        type_label = \"Nbr\"\n",
    "    \n",
    "    # Parcours et transformation des photos avec barre de progression \n",
    "    with tqdm(total=len(chemins_photos), desc=\"Proccessing\" , position=0, leave=True) as pbar:\n",
    "        for chemin in chemins_photos: # Parcours des chemins des photos\n",
    "            \n",
    "            pbar.set_postfix(img=chemin[-10:]) # Mettre à jour la barre de progression avec des informations supplémentaires\n",
    "            \n",
    "            img = Image.open(chemin) # 300 x 300\n",
    "            \n",
    "            # Choix de la taille de l'image\n",
    "            # nouvelle_taille = (50, 50) # 2500\n",
    "            # nouvelle_taille = (28, 28) # 784\n",
    "            nouvelle_taille = (25, 25) # 625\n",
    "            \n",
    "            img_redimensionnee = img.resize(nouvelle_taille) # Redimensionner l'image\n",
    "            nb_image = img_redimensionnee.convert('L') # Convertion en noir et blanc\n",
    "            \n",
    "            # Transformation de l'image (x16)\n",
    "            for rotation in ROTATION: # Rotations\n",
    "                for inversion in INVERSION: # Inversions de couleur\n",
    "                    for mirror in MIRROR: # Symétrie axiale\n",
    "                    \n",
    "                        # Rotation de l'image\n",
    "                        image_finale = nb_image.rotate(rotation, expand=True)\n",
    "                        \n",
    "                        # Inversion de l'image (couleur)\n",
    "                        if inversion:\n",
    "                            image_finale = ImageOps.invert(image_finale)\n",
    "                            \n",
    "                        if mirror:\n",
    "                            image_finale = ImageOps.mirror(image_finale)\n",
    "                        \n",
    "                        #  Récupération de la liste des pixels\n",
    "                        tab = []\n",
    "                        for i in range(image_finale.size[1]):\n",
    "                            row = []\n",
    "                            for y in range(image_finale.size[0]):\n",
    "                                # Récupérer la couleur du pixel\n",
    "                                row.append(image_finale.getpixel((y, i)))\n",
    "                            tab.append(row)\n",
    "                            \n",
    "                        tab_numpy = np.array(tab) / 255 # mise à l'échelle des données\n",
    "                        tab_numpy_flatten = tab_numpy.flatten() # Transformation en tableau 1D\n",
    "                        tab_img.append({  # Ajout du tableau dans la liste\n",
    "                            \"Label\": chemin_split[5],\n",
    "                            \"Repartition\": chemin_split[4],\n",
    "                            \"Type\": type_label,\n",
    "                            \"Rotation\": rotation,\n",
    "                            \"Inversion\": inversion,\n",
    "                            \"Symetrie\": mirror,\n",
    "                            \"Chemin\": chemin.replace('\\\\', '/'),\n",
    "                            \"Tableau_Pixels\": tab_numpy_flatten.tolist()\n",
    "                        })\n",
    "            \n",
    "            pbar.update(1) # Mettre à jour la barre de progression\n",
    "    \n",
    "    print()\n",
    "    print(f\"Envoie de {len(tab_img):_} lignes dans la base de données ...\") # Affichage de la progression\n",
    "    \n",
    "    # Insertion des données dans la base de données\n",
    "    if chemin_split[3] == \"dataset\":\n",
    "        collection_Maj.insert_many(tab_img) \n",
    "    elif chemin_split[3] == \"datasetDigit\":\n",
    "        collection_Min.insert_many(tab_img)\n",
    "    elif chemin_split[3] == \"datasetSmall\":\n",
    "        collection_Nbr.insert_many(tab_img)\n",
    "    \n",
    "    pbar.close() # Fermer la barre de progression\n",
    "    \n",
    "    clear_output()  # Effacer l'output précédent (sinon pb d'affichage de la barre de progression)"
   ]
  },
  {
   "cell_type": "code",
   "execution_count": 38,
   "metadata": {},
   "outputs": [],
   "source": [
    "# Parcours des dossiers et sous-dossiers pour recréer le dataset (recursion)\n",
    "def recreate_dataset(chemin: str) -> None:\n",
    "    \"\"\"Réecriture du dataset: transformation des photos en tableau de pixels et les sauvegarde dans un fichier csv\n",
    "    Cette fonction est récursive et doit être executer sur un dossier contenant la même arborescence que le dossier ../Dataset\n",
    "\n",
    "    Args:\n",
    "        chemin (str): chemin du dataset\n",
    "    \"\"\"\n",
    "    dossiers = [f for f in os.listdir(chemin) if os.path.isdir(os.path.join(chemin, f))]\n",
    "    if len(dossiers) == 0: # Si aucun dossier n'est trouvé, on est dans le cas de base\n",
    "        fichiers_png = [os.path.join(chemin, f) for f in os.listdir(chemin) if f.endswith('.png')] # on recupère et stocke les fichiers .png\n",
    "        photo_to_dataframe(fichiers_png) # On transforme les photos en tableau en df qu'on save dans une bdd\n",
    "    else : # Sinon, on continue de parcourir les dossiers\n",
    "        for dossier in dossiers:\n",
    "            recreate_dataset(os.path.join(chemin, dossier))"
   ]
  },
  {
   "cell_type": "code",
   "execution_count": 39,
   "metadata": {},
   "outputs": [
    {
     "name": "stdout",
     "output_type": "stream",
     "text": [
      "..\\Dataset\n",
      "   \\dataset\n",
      "    \\test\n",
      "     \\A\n"
     ]
    },
    {
     "name": "stderr",
     "output_type": "stream",
     "text": [
      "Proccessing: 100%|██████████| 1453/1453 [00:08<00:00, 176.75it/s, img=001452.png]\n"
     ]
    },
    {
     "name": "stdout",
     "output_type": "stream",
     "text": [
      "\n",
      "Envoie de 23_248 lignes dans la base de données ...\n"
     ]
    },
    {
     "ename": "KeyboardInterrupt",
     "evalue": "",
     "output_type": "error",
     "traceback": [
      "\u001b[1;31m---------------------------------------------------------------------------\u001b[0m",
      "\u001b[1;31mKeyboardInterrupt\u001b[0m                         Traceback (most recent call last)",
      "Cell \u001b[1;32mIn[39], line 2\u001b[0m\n\u001b[0;32m      1\u001b[0m \u001b[38;5;66;03m# Appel de la fonction de parcours des dossiers\u001b[39;00m\n\u001b[1;32m----> 2\u001b[0m \u001b[43mrecreate_dataset\u001b[49m\u001b[43m(\u001b[49m\u001b[38;5;124;43m\"\u001b[39;49m\u001b[38;5;124;43m..\u001b[39;49m\u001b[38;5;124;43m\\\u001b[39;49m\u001b[38;5;124;43m..\u001b[39;49m\u001b[38;5;124;43m\\\u001b[39;49m\u001b[38;5;124;43mDataset\u001b[39;49m\u001b[38;5;124;43m\"\u001b[39;49m\u001b[43m)\u001b[49m\n\u001b[0;32m      3\u001b[0m \u001b[38;5;66;03m# Temps v1 : 145m 20.9s => 2h 25m 20.9s\u001b[39;00m\n\u001b[0;32m      4\u001b[0m \u001b[38;5;66;03m# Temps v2 : \u001b[39;00m\n",
      "Cell \u001b[1;32mIn[38], line 15\u001b[0m, in \u001b[0;36mrecreate_dataset\u001b[1;34m(chemin)\u001b[0m\n\u001b[0;32m     13\u001b[0m \u001b[38;5;28;01melse\u001b[39;00m : \u001b[38;5;66;03m# Sinon, on continue de parcourir les dossiers\u001b[39;00m\n\u001b[0;32m     14\u001b[0m     \u001b[38;5;28;01mfor\u001b[39;00m dossier \u001b[38;5;129;01min\u001b[39;00m dossiers:\n\u001b[1;32m---> 15\u001b[0m         \u001b[43mrecreate_dataset\u001b[49m\u001b[43m(\u001b[49m\u001b[43mos\u001b[49m\u001b[38;5;241;43m.\u001b[39;49m\u001b[43mpath\u001b[49m\u001b[38;5;241;43m.\u001b[39;49m\u001b[43mjoin\u001b[49m\u001b[43m(\u001b[49m\u001b[43mchemin\u001b[49m\u001b[43m,\u001b[49m\u001b[43m \u001b[49m\u001b[43mdossier\u001b[49m\u001b[43m)\u001b[49m\u001b[43m)\u001b[49m\n",
      "Cell \u001b[1;32mIn[38], line 15\u001b[0m, in \u001b[0;36mrecreate_dataset\u001b[1;34m(chemin)\u001b[0m\n\u001b[0;32m     13\u001b[0m \u001b[38;5;28;01melse\u001b[39;00m : \u001b[38;5;66;03m# Sinon, on continue de parcourir les dossiers\u001b[39;00m\n\u001b[0;32m     14\u001b[0m     \u001b[38;5;28;01mfor\u001b[39;00m dossier \u001b[38;5;129;01min\u001b[39;00m dossiers:\n\u001b[1;32m---> 15\u001b[0m         \u001b[43mrecreate_dataset\u001b[49m\u001b[43m(\u001b[49m\u001b[43mos\u001b[49m\u001b[38;5;241;43m.\u001b[39;49m\u001b[43mpath\u001b[49m\u001b[38;5;241;43m.\u001b[39;49m\u001b[43mjoin\u001b[49m\u001b[43m(\u001b[49m\u001b[43mchemin\u001b[49m\u001b[43m,\u001b[49m\u001b[43m \u001b[49m\u001b[43mdossier\u001b[49m\u001b[43m)\u001b[49m\u001b[43m)\u001b[49m\n",
      "Cell \u001b[1;32mIn[38], line 15\u001b[0m, in \u001b[0;36mrecreate_dataset\u001b[1;34m(chemin)\u001b[0m\n\u001b[0;32m     13\u001b[0m \u001b[38;5;28;01melse\u001b[39;00m : \u001b[38;5;66;03m# Sinon, on continue de parcourir les dossiers\u001b[39;00m\n\u001b[0;32m     14\u001b[0m     \u001b[38;5;28;01mfor\u001b[39;00m dossier \u001b[38;5;129;01min\u001b[39;00m dossiers:\n\u001b[1;32m---> 15\u001b[0m         \u001b[43mrecreate_dataset\u001b[49m\u001b[43m(\u001b[49m\u001b[43mos\u001b[49m\u001b[38;5;241;43m.\u001b[39;49m\u001b[43mpath\u001b[49m\u001b[38;5;241;43m.\u001b[39;49m\u001b[43mjoin\u001b[49m\u001b[43m(\u001b[49m\u001b[43mchemin\u001b[49m\u001b[43m,\u001b[49m\u001b[43m \u001b[49m\u001b[43mdossier\u001b[49m\u001b[43m)\u001b[49m\u001b[43m)\u001b[49m\n",
      "Cell \u001b[1;32mIn[38], line 12\u001b[0m, in \u001b[0;36mrecreate_dataset\u001b[1;34m(chemin)\u001b[0m\n\u001b[0;32m     10\u001b[0m \u001b[38;5;28;01mif\u001b[39;00m \u001b[38;5;28mlen\u001b[39m(dossiers) \u001b[38;5;241m==\u001b[39m \u001b[38;5;241m0\u001b[39m: \u001b[38;5;66;03m# Si aucun dossier n'est trouvé, on est dans le cas de base\u001b[39;00m\n\u001b[0;32m     11\u001b[0m     fichiers_png \u001b[38;5;241m=\u001b[39m [os\u001b[38;5;241m.\u001b[39mpath\u001b[38;5;241m.\u001b[39mjoin(chemin, f) \u001b[38;5;28;01mfor\u001b[39;00m f \u001b[38;5;129;01min\u001b[39;00m os\u001b[38;5;241m.\u001b[39mlistdir(chemin) \u001b[38;5;28;01mif\u001b[39;00m f\u001b[38;5;241m.\u001b[39mendswith(\u001b[38;5;124m'\u001b[39m\u001b[38;5;124m.png\u001b[39m\u001b[38;5;124m'\u001b[39m)] \u001b[38;5;66;03m# on recupère et stocke les fichiers .png\u001b[39;00m\n\u001b[1;32m---> 12\u001b[0m     \u001b[43mphoto_to_dataframe\u001b[49m\u001b[43m(\u001b[49m\u001b[43mfichiers_png\u001b[49m\u001b[43m)\u001b[49m \u001b[38;5;66;03m# On transforme les photos en tableau en df qu'on save dans une bdd\u001b[39;00m\n\u001b[0;32m     13\u001b[0m \u001b[38;5;28;01melse\u001b[39;00m : \u001b[38;5;66;03m# Sinon, on continue de parcourir les dossiers\u001b[39;00m\n\u001b[0;32m     14\u001b[0m     \u001b[38;5;28;01mfor\u001b[39;00m dossier \u001b[38;5;129;01min\u001b[39;00m dossiers:\n",
      "Cell \u001b[1;32mIn[37], line 92\u001b[0m, in \u001b[0;36mphoto_to_dataframe\u001b[1;34m(chemins_photos)\u001b[0m\n\u001b[0;32m     90\u001b[0m \u001b[38;5;66;03m# Insertion des données dans la base de données\u001b[39;00m\n\u001b[0;32m     91\u001b[0m \u001b[38;5;28;01mif\u001b[39;00m chemin_split[\u001b[38;5;241m3\u001b[39m] \u001b[38;5;241m==\u001b[39m \u001b[38;5;124m\"\u001b[39m\u001b[38;5;124mdataset\u001b[39m\u001b[38;5;124m\"\u001b[39m:\n\u001b[1;32m---> 92\u001b[0m     \u001b[43mcollection_Maj\u001b[49m\u001b[38;5;241;43m.\u001b[39;49m\u001b[43minsert_many\u001b[49m\u001b[43m(\u001b[49m\u001b[43mtab_img\u001b[49m\u001b[43m)\u001b[49m \n\u001b[0;32m     93\u001b[0m \u001b[38;5;28;01melif\u001b[39;00m chemin_split[\u001b[38;5;241m3\u001b[39m] \u001b[38;5;241m==\u001b[39m \u001b[38;5;124m\"\u001b[39m\u001b[38;5;124mdatasetDigit\u001b[39m\u001b[38;5;124m\"\u001b[39m:\n\u001b[0;32m     94\u001b[0m     collection_Min\u001b[38;5;241m.\u001b[39minsert_many(tab_img)\n",
      "File \u001b[1;32mc:\\Users\\yfour\\Documents\\EnvsPython\\Scribio\\Lib\\site-packages\\pymongo\\_csot.py:119\u001b[0m, in \u001b[0;36mapply.<locals>.csot_wrapper\u001b[1;34m(self, *args, **kwargs)\u001b[0m\n\u001b[0;32m    117\u001b[0m         \u001b[38;5;28;01mwith\u001b[39;00m _TimeoutContext(timeout):\n\u001b[0;32m    118\u001b[0m             \u001b[38;5;28;01mreturn\u001b[39;00m func(\u001b[38;5;28mself\u001b[39m, \u001b[38;5;241m*\u001b[39margs, \u001b[38;5;241m*\u001b[39m\u001b[38;5;241m*\u001b[39mkwargs)\n\u001b[1;32m--> 119\u001b[0m \u001b[38;5;28;01mreturn\u001b[39;00m \u001b[43mfunc\u001b[49m\u001b[43m(\u001b[49m\u001b[38;5;28;43mself\u001b[39;49m\u001b[43m,\u001b[49m\u001b[43m \u001b[49m\u001b[38;5;241;43m*\u001b[39;49m\u001b[43margs\u001b[49m\u001b[43m,\u001b[49m\u001b[43m \u001b[49m\u001b[38;5;241;43m*\u001b[39;49m\u001b[38;5;241;43m*\u001b[39;49m\u001b[43mkwargs\u001b[49m\u001b[43m)\u001b[49m\n",
      "File \u001b[1;32mc:\\Users\\yfour\\Documents\\EnvsPython\\Scribio\\Lib\\site-packages\\pymongo\\synchronous\\collection.py:975\u001b[0m, in \u001b[0;36mCollection.insert_many\u001b[1;34m(self, documents, ordered, bypass_document_validation, session, comment)\u001b[0m\n\u001b[0;32m    973\u001b[0m blk \u001b[38;5;241m=\u001b[39m _Bulk(\u001b[38;5;28mself\u001b[39m, ordered, bypass_document_validation, comment\u001b[38;5;241m=\u001b[39mcomment)\n\u001b[0;32m    974\u001b[0m blk\u001b[38;5;241m.\u001b[39mops \u001b[38;5;241m=\u001b[39m \u001b[38;5;28mlist\u001b[39m(gen())\n\u001b[1;32m--> 975\u001b[0m \u001b[43mblk\u001b[49m\u001b[38;5;241;43m.\u001b[39;49m\u001b[43mexecute\u001b[49m\u001b[43m(\u001b[49m\u001b[43mwrite_concern\u001b[49m\u001b[43m,\u001b[49m\u001b[43m \u001b[49m\u001b[43msession\u001b[49m\u001b[43m,\u001b[49m\u001b[43m \u001b[49m\u001b[43m_Op\u001b[49m\u001b[38;5;241;43m.\u001b[39;49m\u001b[43mINSERT\u001b[49m\u001b[43m)\u001b[49m\n\u001b[0;32m    976\u001b[0m \u001b[38;5;28;01mreturn\u001b[39;00m InsertManyResult(inserted_ids, write_concern\u001b[38;5;241m.\u001b[39macknowledged)\n",
      "File \u001b[1;32mc:\\Users\\yfour\\Documents\\EnvsPython\\Scribio\\Lib\\site-packages\\pymongo\\synchronous\\bulk.py:736\u001b[0m, in \u001b[0;36m_Bulk.execute\u001b[1;34m(self, write_concern, session, operation)\u001b[0m\n\u001b[0;32m    734\u001b[0m         \u001b[38;5;28;01mreturn\u001b[39;00m \u001b[38;5;28;01mNone\u001b[39;00m\n\u001b[0;32m    735\u001b[0m \u001b[38;5;28;01melse\u001b[39;00m:\n\u001b[1;32m--> 736\u001b[0m     \u001b[38;5;28;01mreturn\u001b[39;00m \u001b[38;5;28;43mself\u001b[39;49m\u001b[38;5;241;43m.\u001b[39;49m\u001b[43mexecute_command\u001b[49m\u001b[43m(\u001b[49m\u001b[43mgenerator\u001b[49m\u001b[43m,\u001b[49m\u001b[43m \u001b[49m\u001b[43mwrite_concern\u001b[49m\u001b[43m,\u001b[49m\u001b[43m \u001b[49m\u001b[43msession\u001b[49m\u001b[43m,\u001b[49m\u001b[43m \u001b[49m\u001b[43moperation\u001b[49m\u001b[43m)\u001b[49m\n",
      "File \u001b[1;32mc:\\Users\\yfour\\Documents\\EnvsPython\\Scribio\\Lib\\site-packages\\pymongo\\synchronous\\bulk.py:593\u001b[0m, in \u001b[0;36m_Bulk.execute_command\u001b[1;34m(self, generator, write_concern, session, operation)\u001b[0m\n\u001b[0;32m    582\u001b[0m     \u001b[38;5;28mself\u001b[39m\u001b[38;5;241m.\u001b[39m_execute_command(\n\u001b[0;32m    583\u001b[0m         generator,\n\u001b[0;32m    584\u001b[0m         write_concern,\n\u001b[1;32m   (...)\u001b[0m\n\u001b[0;32m    589\u001b[0m         full_result,\n\u001b[0;32m    590\u001b[0m     )\n\u001b[0;32m    592\u001b[0m client \u001b[38;5;241m=\u001b[39m \u001b[38;5;28mself\u001b[39m\u001b[38;5;241m.\u001b[39mcollection\u001b[38;5;241m.\u001b[39mdatabase\u001b[38;5;241m.\u001b[39mclient\n\u001b[1;32m--> 593\u001b[0m _ \u001b[38;5;241m=\u001b[39m \u001b[43mclient\u001b[49m\u001b[38;5;241;43m.\u001b[39;49m\u001b[43m_retryable_write\u001b[49m\u001b[43m(\u001b[49m\n\u001b[0;32m    594\u001b[0m \u001b[43m    \u001b[49m\u001b[38;5;28;43mself\u001b[39;49m\u001b[38;5;241;43m.\u001b[39;49m\u001b[43mis_retryable\u001b[49m\u001b[43m,\u001b[49m\n\u001b[0;32m    595\u001b[0m \u001b[43m    \u001b[49m\u001b[43mretryable_bulk\u001b[49m\u001b[43m,\u001b[49m\n\u001b[0;32m    596\u001b[0m \u001b[43m    \u001b[49m\u001b[43msession\u001b[49m\u001b[43m,\u001b[49m\n\u001b[0;32m    597\u001b[0m \u001b[43m    \u001b[49m\u001b[43moperation\u001b[49m\u001b[43m,\u001b[49m\n\u001b[0;32m    598\u001b[0m \u001b[43m    \u001b[49m\u001b[43mbulk\u001b[49m\u001b[38;5;241;43m=\u001b[39;49m\u001b[38;5;28;43mself\u001b[39;49m\u001b[43m,\u001b[49m\u001b[43m  \u001b[49m\u001b[38;5;66;43;03m# type: ignore[arg-type]\u001b[39;49;00m\n\u001b[0;32m    599\u001b[0m \u001b[43m    \u001b[49m\u001b[43moperation_id\u001b[49m\u001b[38;5;241;43m=\u001b[39;49m\u001b[43mop_id\u001b[49m\u001b[43m,\u001b[49m\n\u001b[0;32m    600\u001b[0m \u001b[43m\u001b[49m\u001b[43m)\u001b[49m\n\u001b[0;32m    602\u001b[0m \u001b[38;5;28;01mif\u001b[39;00m full_result[\u001b[38;5;124m\"\u001b[39m\u001b[38;5;124mwriteErrors\u001b[39m\u001b[38;5;124m\"\u001b[39m] \u001b[38;5;129;01mor\u001b[39;00m full_result[\u001b[38;5;124m\"\u001b[39m\u001b[38;5;124mwriteConcernErrors\u001b[39m\u001b[38;5;124m\"\u001b[39m]:\n\u001b[0;32m    603\u001b[0m     _raise_bulk_write_error(full_result)\n",
      "File \u001b[1;32mc:\\Users\\yfour\\Documents\\EnvsPython\\Scribio\\Lib\\site-packages\\pymongo\\synchronous\\mongo_client.py:1898\u001b[0m, in \u001b[0;36mMongoClient._retryable_write\u001b[1;34m(self, retryable, func, session, operation, bulk, operation_id)\u001b[0m\n\u001b[0;32m   1884\u001b[0m \u001b[38;5;250m\u001b[39m\u001b[38;5;124;03m\"\"\"Execute an operation with consecutive retries if possible\u001b[39;00m\n\u001b[0;32m   1885\u001b[0m \n\u001b[0;32m   1886\u001b[0m \u001b[38;5;124;03mReturns func()'s return value on success. On error retries the same\u001b[39;00m\n\u001b[1;32m   (...)\u001b[0m\n\u001b[0;32m   1895\u001b[0m \u001b[38;5;124;03m:param bulk: bulk abstraction to execute operations in bulk, defaults to None\u001b[39;00m\n\u001b[0;32m   1896\u001b[0m \u001b[38;5;124;03m\"\"\"\u001b[39;00m\n\u001b[0;32m   1897\u001b[0m \u001b[38;5;28;01mwith\u001b[39;00m \u001b[38;5;28mself\u001b[39m\u001b[38;5;241m.\u001b[39m_tmp_session(session) \u001b[38;5;28;01mas\u001b[39;00m s:\n\u001b[1;32m-> 1898\u001b[0m     \u001b[38;5;28;01mreturn\u001b[39;00m \u001b[38;5;28;43mself\u001b[39;49m\u001b[38;5;241;43m.\u001b[39;49m\u001b[43m_retry_with_session\u001b[49m\u001b[43m(\u001b[49m\u001b[43mretryable\u001b[49m\u001b[43m,\u001b[49m\u001b[43m \u001b[49m\u001b[43mfunc\u001b[49m\u001b[43m,\u001b[49m\u001b[43m \u001b[49m\u001b[43ms\u001b[49m\u001b[43m,\u001b[49m\u001b[43m \u001b[49m\u001b[43mbulk\u001b[49m\u001b[43m,\u001b[49m\u001b[43m \u001b[49m\u001b[43moperation\u001b[49m\u001b[43m,\u001b[49m\u001b[43m \u001b[49m\u001b[43moperation_id\u001b[49m\u001b[43m)\u001b[49m\n",
      "File \u001b[1;32mc:\\Users\\yfour\\Documents\\EnvsPython\\Scribio\\Lib\\site-packages\\pymongo\\synchronous\\mongo_client.py:1784\u001b[0m, in \u001b[0;36mMongoClient._retry_with_session\u001b[1;34m(self, retryable, func, session, bulk, operation, operation_id)\u001b[0m\n\u001b[0;32m   1779\u001b[0m \u001b[38;5;66;03m# Ensure that the options supports retry_writes and there is a valid session not in\u001b[39;00m\n\u001b[0;32m   1780\u001b[0m \u001b[38;5;66;03m# transaction, otherwise, we will not support retry behavior for this txn.\u001b[39;00m\n\u001b[0;32m   1781\u001b[0m retryable \u001b[38;5;241m=\u001b[39m \u001b[38;5;28mbool\u001b[39m(\n\u001b[0;32m   1782\u001b[0m     retryable \u001b[38;5;129;01mand\u001b[39;00m \u001b[38;5;28mself\u001b[39m\u001b[38;5;241m.\u001b[39moptions\u001b[38;5;241m.\u001b[39mretry_writes \u001b[38;5;129;01mand\u001b[39;00m session \u001b[38;5;129;01mand\u001b[39;00m \u001b[38;5;129;01mnot\u001b[39;00m session\u001b[38;5;241m.\u001b[39min_transaction\n\u001b[0;32m   1783\u001b[0m )\n\u001b[1;32m-> 1784\u001b[0m \u001b[38;5;28;01mreturn\u001b[39;00m \u001b[38;5;28;43mself\u001b[39;49m\u001b[38;5;241;43m.\u001b[39;49m\u001b[43m_retry_internal\u001b[49m\u001b[43m(\u001b[49m\n\u001b[0;32m   1785\u001b[0m \u001b[43m    \u001b[49m\u001b[43mfunc\u001b[49m\u001b[38;5;241;43m=\u001b[39;49m\u001b[43mfunc\u001b[49m\u001b[43m,\u001b[49m\n\u001b[0;32m   1786\u001b[0m \u001b[43m    \u001b[49m\u001b[43msession\u001b[49m\u001b[38;5;241;43m=\u001b[39;49m\u001b[43msession\u001b[49m\u001b[43m,\u001b[49m\n\u001b[0;32m   1787\u001b[0m \u001b[43m    \u001b[49m\u001b[43mbulk\u001b[49m\u001b[38;5;241;43m=\u001b[39;49m\u001b[43mbulk\u001b[49m\u001b[43m,\u001b[49m\n\u001b[0;32m   1788\u001b[0m \u001b[43m    \u001b[49m\u001b[43moperation\u001b[49m\u001b[38;5;241;43m=\u001b[39;49m\u001b[43moperation\u001b[49m\u001b[43m,\u001b[49m\n\u001b[0;32m   1789\u001b[0m \u001b[43m    \u001b[49m\u001b[43mretryable\u001b[49m\u001b[38;5;241;43m=\u001b[39;49m\u001b[43mretryable\u001b[49m\u001b[43m,\u001b[49m\n\u001b[0;32m   1790\u001b[0m \u001b[43m    \u001b[49m\u001b[43moperation_id\u001b[49m\u001b[38;5;241;43m=\u001b[39;49m\u001b[43moperation_id\u001b[49m\u001b[43m,\u001b[49m\n\u001b[0;32m   1791\u001b[0m \u001b[43m\u001b[49m\u001b[43m)\u001b[49m\n",
      "File \u001b[1;32mc:\\Users\\yfour\\Documents\\EnvsPython\\Scribio\\Lib\\site-packages\\pymongo\\_csot.py:119\u001b[0m, in \u001b[0;36mapply.<locals>.csot_wrapper\u001b[1;34m(self, *args, **kwargs)\u001b[0m\n\u001b[0;32m    117\u001b[0m         \u001b[38;5;28;01mwith\u001b[39;00m _TimeoutContext(timeout):\n\u001b[0;32m    118\u001b[0m             \u001b[38;5;28;01mreturn\u001b[39;00m func(\u001b[38;5;28mself\u001b[39m, \u001b[38;5;241m*\u001b[39margs, \u001b[38;5;241m*\u001b[39m\u001b[38;5;241m*\u001b[39mkwargs)\n\u001b[1;32m--> 119\u001b[0m \u001b[38;5;28;01mreturn\u001b[39;00m \u001b[43mfunc\u001b[49m\u001b[43m(\u001b[49m\u001b[38;5;28;43mself\u001b[39;49m\u001b[43m,\u001b[49m\u001b[43m \u001b[49m\u001b[38;5;241;43m*\u001b[39;49m\u001b[43margs\u001b[49m\u001b[43m,\u001b[49m\u001b[43m \u001b[49m\u001b[38;5;241;43m*\u001b[39;49m\u001b[38;5;241;43m*\u001b[39;49m\u001b[43mkwargs\u001b[49m\u001b[43m)\u001b[49m\n",
      "File \u001b[1;32mc:\\Users\\yfour\\Documents\\EnvsPython\\Scribio\\Lib\\site-packages\\pymongo\\synchronous\\mongo_client.py:1830\u001b[0m, in \u001b[0;36mMongoClient._retry_internal\u001b[1;34m(self, func, session, bulk, operation, is_read, address, read_pref, retryable, operation_id)\u001b[0m\n\u001b[0;32m   1793\u001b[0m \u001b[38;5;129m@_csot\u001b[39m\u001b[38;5;241m.\u001b[39mapply\n\u001b[0;32m   1794\u001b[0m \u001b[38;5;28;01mdef\u001b[39;00m \u001b[38;5;21m_retry_internal\u001b[39m(\n\u001b[0;32m   1795\u001b[0m     \u001b[38;5;28mself\u001b[39m,\n\u001b[1;32m   (...)\u001b[0m\n\u001b[0;32m   1804\u001b[0m     operation_id: Optional[\u001b[38;5;28mint\u001b[39m] \u001b[38;5;241m=\u001b[39m \u001b[38;5;28;01mNone\u001b[39;00m,\n\u001b[0;32m   1805\u001b[0m ) \u001b[38;5;241m-\u001b[39m\u001b[38;5;241m>\u001b[39m T:\n\u001b[0;32m   1806\u001b[0m \u001b[38;5;250m    \u001b[39m\u001b[38;5;124;03m\"\"\"Internal retryable helper for all client transactions.\u001b[39;00m\n\u001b[0;32m   1807\u001b[0m \n\u001b[0;32m   1808\u001b[0m \u001b[38;5;124;03m    :param func: Callback function we want to retry\u001b[39;00m\n\u001b[1;32m   (...)\u001b[0m\n\u001b[0;32m   1817\u001b[0m \u001b[38;5;124;03m    :return: Output of the calling func()\u001b[39;00m\n\u001b[0;32m   1818\u001b[0m \u001b[38;5;124;03m    \"\"\"\u001b[39;00m\n\u001b[0;32m   1819\u001b[0m     \u001b[38;5;28;01mreturn\u001b[39;00m \u001b[43m_ClientConnectionRetryable\u001b[49m\u001b[43m(\u001b[49m\n\u001b[0;32m   1820\u001b[0m \u001b[43m        \u001b[49m\u001b[43mmongo_client\u001b[49m\u001b[38;5;241;43m=\u001b[39;49m\u001b[38;5;28;43mself\u001b[39;49m\u001b[43m,\u001b[49m\n\u001b[0;32m   1821\u001b[0m \u001b[43m        \u001b[49m\u001b[43mfunc\u001b[49m\u001b[38;5;241;43m=\u001b[39;49m\u001b[43mfunc\u001b[49m\u001b[43m,\u001b[49m\n\u001b[0;32m   1822\u001b[0m \u001b[43m        \u001b[49m\u001b[43mbulk\u001b[49m\u001b[38;5;241;43m=\u001b[39;49m\u001b[43mbulk\u001b[49m\u001b[43m,\u001b[49m\n\u001b[0;32m   1823\u001b[0m \u001b[43m        \u001b[49m\u001b[43moperation\u001b[49m\u001b[38;5;241;43m=\u001b[39;49m\u001b[43moperation\u001b[49m\u001b[43m,\u001b[49m\n\u001b[0;32m   1824\u001b[0m \u001b[43m        \u001b[49m\u001b[43mis_read\u001b[49m\u001b[38;5;241;43m=\u001b[39;49m\u001b[43mis_read\u001b[49m\u001b[43m,\u001b[49m\n\u001b[0;32m   1825\u001b[0m \u001b[43m        \u001b[49m\u001b[43msession\u001b[49m\u001b[38;5;241;43m=\u001b[39;49m\u001b[43msession\u001b[49m\u001b[43m,\u001b[49m\n\u001b[0;32m   1826\u001b[0m \u001b[43m        \u001b[49m\u001b[43mread_pref\u001b[49m\u001b[38;5;241;43m=\u001b[39;49m\u001b[43mread_pref\u001b[49m\u001b[43m,\u001b[49m\n\u001b[0;32m   1827\u001b[0m \u001b[43m        \u001b[49m\u001b[43maddress\u001b[49m\u001b[38;5;241;43m=\u001b[39;49m\u001b[43maddress\u001b[49m\u001b[43m,\u001b[49m\n\u001b[0;32m   1828\u001b[0m \u001b[43m        \u001b[49m\u001b[43mretryable\u001b[49m\u001b[38;5;241;43m=\u001b[39;49m\u001b[43mretryable\u001b[49m\u001b[43m,\u001b[49m\n\u001b[0;32m   1829\u001b[0m \u001b[43m        \u001b[49m\u001b[43moperation_id\u001b[49m\u001b[38;5;241;43m=\u001b[39;49m\u001b[43moperation_id\u001b[49m\u001b[43m,\u001b[49m\n\u001b[1;32m-> 1830\u001b[0m \u001b[43m    \u001b[49m\u001b[43m)\u001b[49m\u001b[38;5;241;43m.\u001b[39;49m\u001b[43mrun\u001b[49m\u001b[43m(\u001b[49m\u001b[43m)\u001b[49m\n",
      "File \u001b[1;32mc:\\Users\\yfour\\Documents\\EnvsPython\\Scribio\\Lib\\site-packages\\pymongo\\synchronous\\mongo_client.py:2554\u001b[0m, in \u001b[0;36m_ClientConnectionRetryable.run\u001b[1;34m(self)\u001b[0m\n\u001b[0;32m   2552\u001b[0m \u001b[38;5;28mself\u001b[39m\u001b[38;5;241m.\u001b[39m_check_last_error(check_csot\u001b[38;5;241m=\u001b[39m\u001b[38;5;28;01mTrue\u001b[39;00m)\n\u001b[0;32m   2553\u001b[0m \u001b[38;5;28;01mtry\u001b[39;00m:\n\u001b[1;32m-> 2554\u001b[0m     \u001b[38;5;28;01mreturn\u001b[39;00m \u001b[38;5;28mself\u001b[39m\u001b[38;5;241m.\u001b[39m_read() \u001b[38;5;28;01mif\u001b[39;00m \u001b[38;5;28mself\u001b[39m\u001b[38;5;241m.\u001b[39m_is_read \u001b[38;5;28;01melse\u001b[39;00m \u001b[38;5;28;43mself\u001b[39;49m\u001b[38;5;241;43m.\u001b[39;49m\u001b[43m_write\u001b[49m\u001b[43m(\u001b[49m\u001b[43m)\u001b[49m\n\u001b[0;32m   2555\u001b[0m \u001b[38;5;28;01mexcept\u001b[39;00m ServerSelectionTimeoutError:\n\u001b[0;32m   2556\u001b[0m     \u001b[38;5;66;03m# The application may think the write was never attempted\u001b[39;00m\n\u001b[0;32m   2557\u001b[0m     \u001b[38;5;66;03m# if we raise ServerSelectionTimeoutError on the retry\u001b[39;00m\n\u001b[0;32m   2558\u001b[0m     \u001b[38;5;66;03m# attempt. Raise the original exception instead.\u001b[39;00m\n\u001b[0;32m   2559\u001b[0m     \u001b[38;5;28mself\u001b[39m\u001b[38;5;241m.\u001b[39m_check_last_error()\n",
      "File \u001b[1;32mc:\\Users\\yfour\\Documents\\EnvsPython\\Scribio\\Lib\\site-packages\\pymongo\\synchronous\\mongo_client.py:2676\u001b[0m, in \u001b[0;36m_ClientConnectionRetryable._write\u001b[1;34m(self)\u001b[0m\n\u001b[0;32m   2674\u001b[0m             \u001b[38;5;28mself\u001b[39m\u001b[38;5;241m.\u001b[39m_check_last_error()\n\u001b[0;32m   2675\u001b[0m             \u001b[38;5;28mself\u001b[39m\u001b[38;5;241m.\u001b[39m_retryable \u001b[38;5;241m=\u001b[39m \u001b[38;5;28;01mFalse\u001b[39;00m\n\u001b[1;32m-> 2676\u001b[0m         \u001b[38;5;28;01mreturn\u001b[39;00m \u001b[38;5;28;43mself\u001b[39;49m\u001b[38;5;241;43m.\u001b[39;49m\u001b[43m_func\u001b[49m\u001b[43m(\u001b[49m\u001b[38;5;28;43mself\u001b[39;49m\u001b[38;5;241;43m.\u001b[39;49m\u001b[43m_session\u001b[49m\u001b[43m,\u001b[49m\u001b[43m \u001b[49m\u001b[43mconn\u001b[49m\u001b[43m,\u001b[49m\u001b[43m \u001b[49m\u001b[38;5;28;43mself\u001b[39;49m\u001b[38;5;241;43m.\u001b[39;49m\u001b[43m_retryable\u001b[49m\u001b[43m)\u001b[49m  \u001b[38;5;66;03m# type: ignore\u001b[39;00m\n\u001b[0;32m   2677\u001b[0m \u001b[38;5;28;01mexcept\u001b[39;00m PyMongoError \u001b[38;5;28;01mas\u001b[39;00m exc:\n\u001b[0;32m   2678\u001b[0m     \u001b[38;5;28;01mif\u001b[39;00m \u001b[38;5;129;01mnot\u001b[39;00m \u001b[38;5;28mself\u001b[39m\u001b[38;5;241m.\u001b[39m_retryable:\n",
      "File \u001b[1;32mc:\\Users\\yfour\\Documents\\EnvsPython\\Scribio\\Lib\\site-packages\\pymongo\\synchronous\\bulk.py:582\u001b[0m, in \u001b[0;36m_Bulk.execute_command.<locals>.retryable_bulk\u001b[1;34m(session, conn, retryable)\u001b[0m\n\u001b[0;32m    579\u001b[0m \u001b[38;5;28;01mdef\u001b[39;00m \u001b[38;5;21mretryable_bulk\u001b[39m(\n\u001b[0;32m    580\u001b[0m     session: Optional[ClientSession], conn: Connection, retryable: \u001b[38;5;28mbool\u001b[39m\n\u001b[0;32m    581\u001b[0m ) \u001b[38;5;241m-\u001b[39m\u001b[38;5;241m>\u001b[39m \u001b[38;5;28;01mNone\u001b[39;00m:\n\u001b[1;32m--> 582\u001b[0m     \u001b[38;5;28;43mself\u001b[39;49m\u001b[38;5;241;43m.\u001b[39;49m\u001b[43m_execute_command\u001b[49m\u001b[43m(\u001b[49m\n\u001b[0;32m    583\u001b[0m \u001b[43m        \u001b[49m\u001b[43mgenerator\u001b[49m\u001b[43m,\u001b[49m\n\u001b[0;32m    584\u001b[0m \u001b[43m        \u001b[49m\u001b[43mwrite_concern\u001b[49m\u001b[43m,\u001b[49m\n\u001b[0;32m    585\u001b[0m \u001b[43m        \u001b[49m\u001b[43msession\u001b[49m\u001b[43m,\u001b[49m\n\u001b[0;32m    586\u001b[0m \u001b[43m        \u001b[49m\u001b[43mconn\u001b[49m\u001b[43m,\u001b[49m\n\u001b[0;32m    587\u001b[0m \u001b[43m        \u001b[49m\u001b[43mop_id\u001b[49m\u001b[43m,\u001b[49m\n\u001b[0;32m    588\u001b[0m \u001b[43m        \u001b[49m\u001b[43mretryable\u001b[49m\u001b[43m,\u001b[49m\n\u001b[0;32m    589\u001b[0m \u001b[43m        \u001b[49m\u001b[43mfull_result\u001b[49m\u001b[43m,\u001b[49m\n\u001b[0;32m    590\u001b[0m \u001b[43m    \u001b[49m\u001b[43m)\u001b[49m\n",
      "File \u001b[1;32mc:\\Users\\yfour\\Documents\\EnvsPython\\Scribio\\Lib\\site-packages\\pymongo\\synchronous\\bulk.py:527\u001b[0m, in \u001b[0;36m_Bulk._execute_command\u001b[1;34m(self, generator, write_concern, session, conn, op_id, retryable, full_result, final_write_concern)\u001b[0m\n\u001b[0;32m    525\u001b[0m \u001b[38;5;66;03m# Run as many ops as possible in one command.\u001b[39;00m\n\u001b[0;32m    526\u001b[0m \u001b[38;5;28;01mif\u001b[39;00m write_concern\u001b[38;5;241m.\u001b[39macknowledged:\n\u001b[1;32m--> 527\u001b[0m     result, to_send \u001b[38;5;241m=\u001b[39m \u001b[38;5;28;43mself\u001b[39;49m\u001b[38;5;241;43m.\u001b[39;49m\u001b[43m_execute_batch\u001b[49m\u001b[43m(\u001b[49m\u001b[43mbwc\u001b[49m\u001b[43m,\u001b[49m\u001b[43m \u001b[49m\u001b[43mcmd\u001b[49m\u001b[43m,\u001b[49m\u001b[43m \u001b[49m\u001b[43mops\u001b[49m\u001b[43m,\u001b[49m\u001b[43m \u001b[49m\u001b[43mclient\u001b[49m\u001b[43m)\u001b[49m\n\u001b[0;32m    529\u001b[0m     \u001b[38;5;66;03m# Retryable writeConcernErrors halt the execution of this run.\u001b[39;00m\n\u001b[0;32m    530\u001b[0m     wce \u001b[38;5;241m=\u001b[39m result\u001b[38;5;241m.\u001b[39mget(\u001b[38;5;124m\"\u001b[39m\u001b[38;5;124mwriteConcernError\u001b[39m\u001b[38;5;124m\"\u001b[39m, {})\n",
      "File \u001b[1;32mc:\\Users\\yfour\\Documents\\EnvsPython\\Scribio\\Lib\\site-packages\\pymongo\\synchronous\\bulk.py:451\u001b[0m, in \u001b[0;36m_Bulk._execute_batch\u001b[1;34m(self, bwc, cmd, ops, client)\u001b[0m\n\u001b[0;32m    449\u001b[0m \u001b[38;5;28;01melse\u001b[39;00m:\n\u001b[0;32m    450\u001b[0m     request_id, msg, to_send \u001b[38;5;241m=\u001b[39m bwc\u001b[38;5;241m.\u001b[39mbatch_command(cmd, ops)\n\u001b[1;32m--> 451\u001b[0m     result \u001b[38;5;241m=\u001b[39m \u001b[38;5;28;43mself\u001b[39;49m\u001b[38;5;241;43m.\u001b[39;49m\u001b[43mwrite_command\u001b[49m\u001b[43m(\u001b[49m\u001b[43mbwc\u001b[49m\u001b[43m,\u001b[49m\u001b[43m \u001b[49m\u001b[43mcmd\u001b[49m\u001b[43m,\u001b[49m\u001b[43m \u001b[49m\u001b[43mrequest_id\u001b[49m\u001b[43m,\u001b[49m\u001b[43m \u001b[49m\u001b[43mmsg\u001b[49m\u001b[43m,\u001b[49m\u001b[43m \u001b[49m\u001b[43mto_send\u001b[49m\u001b[43m,\u001b[49m\u001b[43m \u001b[49m\u001b[43mclient\u001b[49m\u001b[43m)\u001b[49m  \u001b[38;5;66;03m# type: ignore[arg-type]\u001b[39;00m\n\u001b[0;32m    453\u001b[0m \u001b[38;5;28;01mreturn\u001b[39;00m result, to_send\n",
      "File \u001b[1;32mc:\\Users\\yfour\\Documents\\EnvsPython\\Scribio\\Lib\\site-packages\\pymongo\\synchronous\\helpers.py:45\u001b[0m, in \u001b[0;36m_handle_reauth.<locals>.inner\u001b[1;34m(*args, **kwargs)\u001b[0m\n\u001b[0;32m     42\u001b[0m \u001b[38;5;28;01mfrom\u001b[39;00m \u001b[38;5;21;01mpymongo\u001b[39;00m\u001b[38;5;21;01m.\u001b[39;00m\u001b[38;5;21;01msynchronous\u001b[39;00m\u001b[38;5;21;01m.\u001b[39;00m\u001b[38;5;21;01mpool\u001b[39;00m \u001b[38;5;28;01mimport\u001b[39;00m Connection\n\u001b[0;32m     44\u001b[0m \u001b[38;5;28;01mtry\u001b[39;00m:\n\u001b[1;32m---> 45\u001b[0m     \u001b[38;5;28;01mreturn\u001b[39;00m \u001b[43mfunc\u001b[49m\u001b[43m(\u001b[49m\u001b[38;5;241;43m*\u001b[39;49m\u001b[43margs\u001b[49m\u001b[43m,\u001b[49m\u001b[43m \u001b[49m\u001b[38;5;241;43m*\u001b[39;49m\u001b[38;5;241;43m*\u001b[39;49m\u001b[43mkwargs\u001b[49m\u001b[43m)\u001b[49m\n\u001b[0;32m     46\u001b[0m \u001b[38;5;28;01mexcept\u001b[39;00m OperationFailure \u001b[38;5;28;01mas\u001b[39;00m exc:\n\u001b[0;32m     47\u001b[0m     \u001b[38;5;28;01mif\u001b[39;00m no_reauth:\n",
      "File \u001b[1;32mc:\\Users\\yfour\\Documents\\EnvsPython\\Scribio\\Lib\\site-packages\\pymongo\\synchronous\\bulk.py:263\u001b[0m, in \u001b[0;36m_Bulk.write_command\u001b[1;34m(self, bwc, cmd, request_id, msg, docs, client)\u001b[0m\n\u001b[0;32m    261\u001b[0m     bwc\u001b[38;5;241m.\u001b[39m_start(cmd, request_id, docs)\n\u001b[0;32m    262\u001b[0m \u001b[38;5;28;01mtry\u001b[39;00m:\n\u001b[1;32m--> 263\u001b[0m     reply \u001b[38;5;241m=\u001b[39m \u001b[43mbwc\u001b[49m\u001b[38;5;241;43m.\u001b[39;49m\u001b[43mconn\u001b[49m\u001b[38;5;241;43m.\u001b[39;49m\u001b[43mwrite_command\u001b[49m\u001b[43m(\u001b[49m\u001b[43mrequest_id\u001b[49m\u001b[43m,\u001b[49m\u001b[43m \u001b[49m\u001b[43mmsg\u001b[49m\u001b[43m,\u001b[49m\u001b[43m \u001b[49m\u001b[43mbwc\u001b[49m\u001b[38;5;241;43m.\u001b[39;49m\u001b[43mcodec\u001b[49m\u001b[43m)\u001b[49m  \u001b[38;5;66;03m# type: ignore[misc]\u001b[39;00m\n\u001b[0;32m    264\u001b[0m     duration \u001b[38;5;241m=\u001b[39m datetime\u001b[38;5;241m.\u001b[39mdatetime\u001b[38;5;241m.\u001b[39mnow() \u001b[38;5;241m-\u001b[39m bwc\u001b[38;5;241m.\u001b[39mstart_time\n\u001b[0;32m    265\u001b[0m     \u001b[38;5;28;01mif\u001b[39;00m _COMMAND_LOGGER\u001b[38;5;241m.\u001b[39misEnabledFor(logging\u001b[38;5;241m.\u001b[39mDEBUG):\n",
      "File \u001b[1;32mc:\\Users\\yfour\\Documents\\EnvsPython\\Scribio\\Lib\\site-packages\\pymongo\\synchronous\\pool.py:624\u001b[0m, in \u001b[0;36mConnection.write_command\u001b[1;34m(self, request_id, msg, codec_options)\u001b[0m\n\u001b[0;32m    616\u001b[0m \u001b[38;5;250m\u001b[39m\u001b[38;5;124;03m\"\"\"Send \"insert\" etc. command, returning response as a dict.\u001b[39;00m\n\u001b[0;32m    617\u001b[0m \n\u001b[0;32m    618\u001b[0m \u001b[38;5;124;03mCan raise ConnectionFailure or OperationFailure.\u001b[39;00m\n\u001b[1;32m   (...)\u001b[0m\n\u001b[0;32m    621\u001b[0m \u001b[38;5;124;03m:param msg: bytes, the command message.\u001b[39;00m\n\u001b[0;32m    622\u001b[0m \u001b[38;5;124;03m\"\"\"\u001b[39;00m\n\u001b[0;32m    623\u001b[0m \u001b[38;5;28mself\u001b[39m\u001b[38;5;241m.\u001b[39msend_message(msg, \u001b[38;5;241m0\u001b[39m)\n\u001b[1;32m--> 624\u001b[0m reply \u001b[38;5;241m=\u001b[39m \u001b[38;5;28;43mself\u001b[39;49m\u001b[38;5;241;43m.\u001b[39;49m\u001b[43mreceive_message\u001b[49m\u001b[43m(\u001b[49m\u001b[43mrequest_id\u001b[49m\u001b[43m)\u001b[49m\n\u001b[0;32m    625\u001b[0m result \u001b[38;5;241m=\u001b[39m reply\u001b[38;5;241m.\u001b[39mcommand_response(codec_options)\n\u001b[0;32m    627\u001b[0m \u001b[38;5;66;03m# Raises NotPrimaryError or OperationFailure.\u001b[39;00m\n",
      "File \u001b[1;32mc:\\Users\\yfour\\Documents\\EnvsPython\\Scribio\\Lib\\site-packages\\pymongo\\synchronous\\pool.py:592\u001b[0m, in \u001b[0;36mConnection.receive_message\u001b[1;34m(self, request_id)\u001b[0m\n\u001b[0;32m    590\u001b[0m     \u001b[38;5;28;01mreturn\u001b[39;00m receive_message(\u001b[38;5;28mself\u001b[39m, request_id, \u001b[38;5;28mself\u001b[39m\u001b[38;5;241m.\u001b[39mmax_message_size)\n\u001b[0;32m    591\u001b[0m \u001b[38;5;28;01mexcept\u001b[39;00m \u001b[38;5;167;01mBaseException\u001b[39;00m \u001b[38;5;28;01mas\u001b[39;00m error:\n\u001b[1;32m--> 592\u001b[0m     \u001b[38;5;28;43mself\u001b[39;49m\u001b[38;5;241;43m.\u001b[39;49m\u001b[43m_raise_connection_failure\u001b[49m\u001b[43m(\u001b[49m\u001b[43merror\u001b[49m\u001b[43m)\u001b[49m\n",
      "File \u001b[1;32mc:\\Users\\yfour\\Documents\\EnvsPython\\Scribio\\Lib\\site-packages\\pymongo\\synchronous\\pool.py:590\u001b[0m, in \u001b[0;36mConnection.receive_message\u001b[1;34m(self, request_id)\u001b[0m\n\u001b[0;32m    585\u001b[0m \u001b[38;5;250m\u001b[39m\u001b[38;5;124;03m\"\"\"Receive a raw BSON message or raise ConnectionFailure.\u001b[39;00m\n\u001b[0;32m    586\u001b[0m \n\u001b[0;32m    587\u001b[0m \u001b[38;5;124;03mIf any exception is raised, the socket is closed.\u001b[39;00m\n\u001b[0;32m    588\u001b[0m \u001b[38;5;124;03m\"\"\"\u001b[39;00m\n\u001b[0;32m    589\u001b[0m \u001b[38;5;28;01mtry\u001b[39;00m:\n\u001b[1;32m--> 590\u001b[0m     \u001b[38;5;28;01mreturn\u001b[39;00m \u001b[43mreceive_message\u001b[49m\u001b[43m(\u001b[49m\u001b[38;5;28;43mself\u001b[39;49m\u001b[43m,\u001b[49m\u001b[43m \u001b[49m\u001b[43mrequest_id\u001b[49m\u001b[43m,\u001b[49m\u001b[43m \u001b[49m\u001b[38;5;28;43mself\u001b[39;49m\u001b[38;5;241;43m.\u001b[39;49m\u001b[43mmax_message_size\u001b[49m\u001b[43m)\u001b[49m\n\u001b[0;32m    591\u001b[0m \u001b[38;5;28;01mexcept\u001b[39;00m \u001b[38;5;167;01mBaseException\u001b[39;00m \u001b[38;5;28;01mas\u001b[39;00m error:\n\u001b[0;32m    592\u001b[0m     \u001b[38;5;28mself\u001b[39m\u001b[38;5;241m.\u001b[39m_raise_connection_failure(error)\n",
      "File \u001b[1;32mc:\\Users\\yfour\\Documents\\EnvsPython\\Scribio\\Lib\\site-packages\\pymongo\\synchronous\\network.py:320\u001b[0m, in \u001b[0;36mreceive_message\u001b[1;34m(conn, request_id, max_message_size)\u001b[0m\n\u001b[0;32m    318\u001b[0m         deadline \u001b[38;5;241m=\u001b[39m \u001b[38;5;28;01mNone\u001b[39;00m\n\u001b[0;32m    319\u001b[0m \u001b[38;5;66;03m# Ignore the response's request id.\u001b[39;00m\n\u001b[1;32m--> 320\u001b[0m length, _, response_to, op_code \u001b[38;5;241m=\u001b[39m _UNPACK_HEADER(\u001b[43m_receive_data_on_socket\u001b[49m\u001b[43m(\u001b[49m\u001b[43mconn\u001b[49m\u001b[43m,\u001b[49m\u001b[43m \u001b[49m\u001b[38;5;241;43m16\u001b[39;49m\u001b[43m,\u001b[49m\u001b[43m \u001b[49m\u001b[43mdeadline\u001b[49m\u001b[43m)\u001b[49m)\n\u001b[0;32m    321\u001b[0m \u001b[38;5;66;03m# No request_id for exhaust cursor \"getMore\".\u001b[39;00m\n\u001b[0;32m    322\u001b[0m \u001b[38;5;28;01mif\u001b[39;00m request_id \u001b[38;5;129;01mis\u001b[39;00m \u001b[38;5;129;01mnot\u001b[39;00m \u001b[38;5;28;01mNone\u001b[39;00m:\n",
      "File \u001b[1;32mc:\\Users\\yfour\\Documents\\EnvsPython\\Scribio\\Lib\\site-packages\\pymongo\\synchronous\\network.py:390\u001b[0m, in \u001b[0;36m_receive_data_on_socket\u001b[1;34m(conn, length, deadline)\u001b[0m\n\u001b[0;32m    388\u001b[0m \u001b[38;5;28;01mwhile\u001b[39;00m bytes_read \u001b[38;5;241m<\u001b[39m length:\n\u001b[0;32m    389\u001b[0m     \u001b[38;5;28;01mtry\u001b[39;00m:\n\u001b[1;32m--> 390\u001b[0m         \u001b[43mwait_for_read\u001b[49m\u001b[43m(\u001b[49m\u001b[43mconn\u001b[49m\u001b[43m,\u001b[49m\u001b[43m \u001b[49m\u001b[43mdeadline\u001b[49m\u001b[43m)\u001b[49m\n\u001b[0;32m    391\u001b[0m         \u001b[38;5;66;03m# CSOT: Update timeout. When the timeout has expired perform one\u001b[39;00m\n\u001b[0;32m    392\u001b[0m         \u001b[38;5;66;03m# final non-blocking recv. This helps avoid spurious timeouts when\u001b[39;00m\n\u001b[0;32m    393\u001b[0m         \u001b[38;5;66;03m# the response is actually already buffered on the client.\u001b[39;00m\n\u001b[0;32m    394\u001b[0m         \u001b[38;5;28;01mif\u001b[39;00m _csot\u001b[38;5;241m.\u001b[39mget_timeout() \u001b[38;5;129;01mand\u001b[39;00m deadline \u001b[38;5;129;01mis\u001b[39;00m \u001b[38;5;129;01mnot\u001b[39;00m \u001b[38;5;28;01mNone\u001b[39;00m:\n",
      "File \u001b[1;32mc:\\Users\\yfour\\Documents\\EnvsPython\\Scribio\\Lib\\site-packages\\pymongo\\synchronous\\network.py:375\u001b[0m, in \u001b[0;36mwait_for_read\u001b[1;34m(conn, deadline)\u001b[0m\n\u001b[0;32m    373\u001b[0m     \u001b[38;5;28;01melse\u001b[39;00m:\n\u001b[0;32m    374\u001b[0m         timeout \u001b[38;5;241m=\u001b[39m _POLL_TIMEOUT\n\u001b[1;32m--> 375\u001b[0m     readable \u001b[38;5;241m=\u001b[39m \u001b[43mconn\u001b[49m\u001b[38;5;241;43m.\u001b[39;49m\u001b[43msocket_checker\u001b[49m\u001b[38;5;241;43m.\u001b[39;49m\u001b[43mselect\u001b[49m\u001b[43m(\u001b[49m\u001b[43msock\u001b[49m\u001b[43m,\u001b[49m\u001b[43m \u001b[49m\u001b[43mread\u001b[49m\u001b[38;5;241;43m=\u001b[39;49m\u001b[38;5;28;43;01mTrue\u001b[39;49;00m\u001b[43m,\u001b[49m\u001b[43m \u001b[49m\u001b[43mtimeout\u001b[49m\u001b[38;5;241;43m=\u001b[39;49m\u001b[43mtimeout\u001b[49m\u001b[43m)\u001b[49m\n\u001b[0;32m    376\u001b[0m \u001b[38;5;28;01mif\u001b[39;00m conn\u001b[38;5;241m.\u001b[39mcancel_context\u001b[38;5;241m.\u001b[39mcancelled:\n\u001b[0;32m    377\u001b[0m     \u001b[38;5;28;01mraise\u001b[39;00m _OperationCancelled(\u001b[38;5;124m\"\u001b[39m\u001b[38;5;124moperation cancelled\u001b[39m\u001b[38;5;124m\"\u001b[39m)\n",
      "File \u001b[1;32mc:\\Users\\yfour\\Documents\\EnvsPython\\Scribio\\Lib\\site-packages\\pymongo\\socket_checker.py:77\u001b[0m, in \u001b[0;36mSocketChecker.select\u001b[1;34m(self, sock, read, write, timeout)\u001b[0m\n\u001b[0;32m     75\u001b[0m rlist \u001b[38;5;241m=\u001b[39m [sock] \u001b[38;5;28;01mif\u001b[39;00m read \u001b[38;5;28;01melse\u001b[39;00m []\n\u001b[0;32m     76\u001b[0m wlist \u001b[38;5;241m=\u001b[39m [sock] \u001b[38;5;28;01mif\u001b[39;00m write \u001b[38;5;28;01melse\u001b[39;00m []\n\u001b[1;32m---> 77\u001b[0m res \u001b[38;5;241m=\u001b[39m select\u001b[38;5;241m.\u001b[39mselect(rlist, wlist, [sock], timeout)\n\u001b[0;32m     78\u001b[0m \u001b[38;5;66;03m# select returns a 3-tuple of lists of objects that are\u001b[39;00m\n\u001b[0;32m     79\u001b[0m \u001b[38;5;66;03m# ready: subsets of the first three arguments. Return\u001b[39;00m\n\u001b[0;32m     80\u001b[0m \u001b[38;5;66;03m# True if any of the lists are not empty.\u001b[39;00m\n\u001b[0;32m     81\u001b[0m \u001b[38;5;28;01mreturn\u001b[39;00m \u001b[38;5;28many\u001b[39m(res)\n",
      "\u001b[1;31mKeyboardInterrupt\u001b[0m: "
     ]
    }
   ],
   "source": [
    "# Appel de la fonction de parcours des dossiers\n",
    "recreate_dataset(\"..\\..\\Dataset\")\n",
    "# Temps v1 : 145m 20.9s => 2h 25m 20.9s\n",
    "# Temps v2 : "
   ]
  },
  {
   "cell_type": "code",
   "execution_count": null,
   "metadata": {},
   "outputs": [],
   "source": []
  }
 ],
 "metadata": {
  "kernelspec": {
   "display_name": "Scribio",
   "language": "python",
   "name": "python3"
  },
  "language_info": {
   "codemirror_mode": {
    "name": "ipython",
    "version": 3
   },
   "file_extension": ".py",
   "mimetype": "text/x-python",
   "name": "python",
   "nbconvert_exporter": "python",
   "pygments_lexer": "ipython3",
   "version": "3.11.4"
  }
 },
 "nbformat": 4,
 "nbformat_minor": 2
}
