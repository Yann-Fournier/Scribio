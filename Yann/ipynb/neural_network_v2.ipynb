{
 "cells": [
  {
   "cell_type": "code",
   "execution_count": 1,
   "id": "initial_id",
   "metadata": {
    "ExecuteTime": {
     "end_time": "2024-12-02T15:39:15.743926Z",
     "start_time": "2024-12-02T15:39:15.736806Z"
    },
    "collapsed": true
   },
   "outputs": [],
   "source": [
    "import pandas as pd\n",
    "import numpy as np\n",
    "import seaborn as sns\n",
    "from tqdm import tqdm # progress bar\n",
    "import tensorflow as tf\n",
    "from tensorflow import keras\n",
    "import matplotlib.pyplot as plt\n",
    "from pymongo import MongoClient\n",
    "from sklearn.preprocessing import LabelEncoder"
   ]
  },
  {
   "cell_type": "code",
   "execution_count": 2,
   "id": "5fd3a22c",
   "metadata": {},
   "outputs": [],
   "source": [
    "LISTE_MAJ = [\"A\", \"B\", \"C\", \"D\", \"E\", \"F\", \"G\", \"H\", \"I\", \"J\", \"K\", \"L\", \"M\", \"N\", \"O\", \"P\", \"Q\", \"R\", \"S\", \"T\", \"U\", \"V\", \"W\", \"X\", \"Y\", \"Z\"]\n",
    "LISTE_MIN = [\"a\", \"b\", \"c\", \"d\", \"e\", \"f\", \"g\", \"h\", \"i\", \"j\", \"k\", \"l\", \"m\", \"n\", \"o\", \"p\", \"q\", \"r\", \"s\", \"t\", \"u\", \"v\", \"w\", \"x\", \"y\", \"z\"]\n",
    "LISTE_NBR = [\"0\", \"1\", \"2\", \"3\", \"4\", \"5\", \"6\", \"7\", \"8\", \"9\"]\n",
    "\n",
    "BATCH_SIZE = 128\n",
    "EPOCHS = 10\n",
    "ADD_NOM = \"2_b\" + str(BATCH_SIZE) + \"_e\" + str(EPOCHS)"
   ]
  },
  {
   "cell_type": "code",
   "execution_count": 3,
   "id": "80da29cf",
   "metadata": {},
   "outputs": [],
   "source": [
    "# shape of the image : 50x50\n",
    "# number of classes : 62\n",
    "# number of train images : 487_227\n",
    "# number of test images : 155_489\n",
    "# number of validation images : 155_686"
   ]
  },
  {
   "cell_type": "markdown",
   "id": "08306dfa",
   "metadata": {},
   "source": [
    "# Get Data\n",
    "---\n",
    "\n",
    "- Récupération des données de la base de données\n",
    "- formattage des données\n",
    "- répartition des données"
   ]
  },
  {
   "cell_type": "code",
   "execution_count": 4,
   "id": "ce99688d",
   "metadata": {},
   "outputs": [],
   "source": [
    "# Connexion à MongoDB\n",
    "client = MongoClient(\"mongodb://localhost:27017/Scibio\")  # Remplacez par l'URL de votre serveur MongoDB\n",
    "db = client[\"Scribio\"]  # Nom de la base de données\n",
    "collection = db[\"Dataset\"]  # Nom de la collection\n",
    "# Temps : 0.0s"
   ]
  },
  {
   "cell_type": "code",
   "execution_count": 5,
   "id": "5b44dd47",
   "metadata": {},
   "outputs": [],
   "source": [
    "def fetch_data(repartition: str, nbr: int):\n",
    "    query = {\"Repartition\": repartition}\n",
    "    documents = collection.find(query)\n",
    "    print(f\"fetch {repartition} OK !!!\")\n",
    "\n",
    "    images = []\n",
    "    labels = []\n",
    "    types = []\n",
    "    \n",
    "    # Parcours et transformation des photos avec barre de progression \n",
    "    with tqdm(total=nbr, desc=\"Proccessing\" , position=0, leave=True) as pbar:\n",
    "        for doc in documents:\n",
    "            images.append(np.array(doc[\"Tableau_Pixels\"], dtype=np.float32))\n",
    "            labels.append(doc[\"Label\"])\n",
    "            try:\n",
    "                types.append(doc[\"Type\"])\n",
    "            except:\n",
    "                if doc[\"Label\"] in LISTE_MAJ:\n",
    "                    types.append(\"Maj\")\n",
    "                elif doc[\"Label\"] in LISTE_MIN:\n",
    "                    types.append(\"Min\")\n",
    "                elif doc[\"Label\"] in LISTE_NBR:\n",
    "                    types.append(\"Nbr\")\n",
    "                else:\n",
    "                    types.append(\"Auc\")\n",
    "            pbar.update(1) # Mettre à jour la barre de progression\n",
    "            \n",
    "    # return np.array(images), np.array(labels, dtype=str)\n",
    "    return pd.DataFrame({\"Labels\": labels, \"Types\": types, \"Images\": images})"
   ]
  },
  {
   "cell_type": "code",
   "execution_count": 6,
   "id": "9ce9b881",
   "metadata": {},
   "outputs": [
    {
     "name": "stdout",
     "output_type": "stream",
     "text": [
      "fetch train OK !!!\n"
     ]
    },
    {
     "name": "stderr",
     "output_type": "stream",
     "text": [
      "Proccessing: 100%|██████████| 487227/487227 [04:58<00:00, 1632.07it/s]"
     ]
    },
    {
     "name": "stdout",
     "output_type": "stream",
     "text": [
      "(487227, 3)\n"
     ]
    },
    {
     "name": "stderr",
     "output_type": "stream",
     "text": [
      "\n"
     ]
    },
    {
     "data": {
      "text/html": [
       "<div>\n",
       "<style scoped>\n",
       "    .dataframe tbody tr th:only-of-type {\n",
       "        vertical-align: middle;\n",
       "    }\n",
       "\n",
       "    .dataframe tbody tr th {\n",
       "        vertical-align: top;\n",
       "    }\n",
       "\n",
       "    .dataframe thead th {\n",
       "        text-align: right;\n",
       "    }\n",
       "</style>\n",
       "<table border=\"1\" class=\"dataframe\">\n",
       "  <thead>\n",
       "    <tr style=\"text-align: right;\">\n",
       "      <th></th>\n",
       "      <th>Labels</th>\n",
       "      <th>Types</th>\n",
       "      <th>Images</th>\n",
       "    </tr>\n",
       "  </thead>\n",
       "  <tbody>\n",
       "    <tr>\n",
       "      <th>0</th>\n",
       "      <td>A</td>\n",
       "      <td>Maj</td>\n",
       "      <td>[0.0, 0.0, 0.0, 0.0, 0.0, 0.0, 0.0, 0.0, 0.0, ...</td>\n",
       "    </tr>\n",
       "    <tr>\n",
       "      <th>1</th>\n",
       "      <td>A</td>\n",
       "      <td>Maj</td>\n",
       "      <td>[0.0, 0.0, 0.0, 0.0, 0.0, 0.0, 0.0, 0.0, 0.0, ...</td>\n",
       "    </tr>\n",
       "    <tr>\n",
       "      <th>2</th>\n",
       "      <td>A</td>\n",
       "      <td>Maj</td>\n",
       "      <td>[0.0, 0.0, 0.0, 0.0, 0.0, 0.0, 0.0, 0.0, 0.0, ...</td>\n",
       "    </tr>\n",
       "    <tr>\n",
       "      <th>3</th>\n",
       "      <td>A</td>\n",
       "      <td>Maj</td>\n",
       "      <td>[0.0, 0.0, 0.0, 0.0, 0.0, 0.0, 0.0, 0.0, 0.0, ...</td>\n",
       "    </tr>\n",
       "    <tr>\n",
       "      <th>4</th>\n",
       "      <td>A</td>\n",
       "      <td>Maj</td>\n",
       "      <td>[0.0, 0.0, 0.0, 0.0, 0.0, 0.0, 0.0, 0.0, 0.0, ...</td>\n",
       "    </tr>\n",
       "  </tbody>\n",
       "</table>\n",
       "</div>"
      ],
      "text/plain": [
       "  Labels Types                                             Images\n",
       "0      A   Maj  [0.0, 0.0, 0.0, 0.0, 0.0, 0.0, 0.0, 0.0, 0.0, ...\n",
       "1      A   Maj  [0.0, 0.0, 0.0, 0.0, 0.0, 0.0, 0.0, 0.0, 0.0, ...\n",
       "2      A   Maj  [0.0, 0.0, 0.0, 0.0, 0.0, 0.0, 0.0, 0.0, 0.0, ...\n",
       "3      A   Maj  [0.0, 0.0, 0.0, 0.0, 0.0, 0.0, 0.0, 0.0, 0.0, ...\n",
       "4      A   Maj  [0.0, 0.0, 0.0, 0.0, 0.0, 0.0, 0.0, 0.0, 0.0, ..."
      ]
     },
     "execution_count": 6,
     "metadata": {},
     "output_type": "execute_result"
    }
   ],
   "source": [
    "# Recupération des données d'entrainement depuis la base de données\n",
    "df_train = fetch_data(\"train\", 487_227)\n",
    "print(df_train.shape) # (487_227, 3)\n",
    "df_train.head()\n",
    "# Temps : 5m 45.0s (en premier)"
   ]
  },
  {
   "cell_type": "code",
   "execution_count": 7,
   "id": "c5682029",
   "metadata": {},
   "outputs": [
    {
     "data": {
      "text/html": [
       "<div>\n",
       "<style scoped>\n",
       "    .dataframe tbody tr th:only-of-type {\n",
       "        vertical-align: middle;\n",
       "    }\n",
       "\n",
       "    .dataframe tbody tr th {\n",
       "        vertical-align: top;\n",
       "    }\n",
       "\n",
       "    .dataframe thead th {\n",
       "        text-align: right;\n",
       "    }\n",
       "</style>\n",
       "<table border=\"1\" class=\"dataframe\">\n",
       "  <thead>\n",
       "    <tr style=\"text-align: right;\">\n",
       "      <th></th>\n",
       "      <th>Labels</th>\n",
       "      <th>Types</th>\n",
       "      <th>Images</th>\n",
       "    </tr>\n",
       "  </thead>\n",
       "  <tbody>\n",
       "    <tr>\n",
       "      <th>0</th>\n",
       "      <td>O</td>\n",
       "      <td>Maj</td>\n",
       "      <td>[0.0, 0.0, 0.0, 0.0, 0.0, 0.0, 0.0, 0.0, 0.0, ...</td>\n",
       "    </tr>\n",
       "    <tr>\n",
       "      <th>1</th>\n",
       "      <td>I</td>\n",
       "      <td>Maj</td>\n",
       "      <td>[0.0, 0.0, 0.0, 0.0, 0.0, 0.0, 0.0, 0.0, 0.0, ...</td>\n",
       "    </tr>\n",
       "    <tr>\n",
       "      <th>2</th>\n",
       "      <td>9</td>\n",
       "      <td>Nbr</td>\n",
       "      <td>[0.0, 0.0, 0.0, 0.0, 0.0, 0.0, 0.0, 0.0, 0.0, ...</td>\n",
       "    </tr>\n",
       "    <tr>\n",
       "      <th>3</th>\n",
       "      <td>h</td>\n",
       "      <td>Min</td>\n",
       "      <td>[0.0, 0.0, 0.0, 0.0, 0.0, 0.0, 0.0, 0.0, 0.0, ...</td>\n",
       "    </tr>\n",
       "    <tr>\n",
       "      <th>4</th>\n",
       "      <td>E</td>\n",
       "      <td>Maj</td>\n",
       "      <td>[0.0, 0.0, 0.0, 0.0, 0.0, 0.0, 0.0, 0.0, 0.0, ...</td>\n",
       "    </tr>\n",
       "  </tbody>\n",
       "</table>\n",
       "</div>"
      ],
      "text/plain": [
       "  Labels Types                                             Images\n",
       "0      O   Maj  [0.0, 0.0, 0.0, 0.0, 0.0, 0.0, 0.0, 0.0, 0.0, ...\n",
       "1      I   Maj  [0.0, 0.0, 0.0, 0.0, 0.0, 0.0, 0.0, 0.0, 0.0, ...\n",
       "2      9   Nbr  [0.0, 0.0, 0.0, 0.0, 0.0, 0.0, 0.0, 0.0, 0.0, ...\n",
       "3      h   Min  [0.0, 0.0, 0.0, 0.0, 0.0, 0.0, 0.0, 0.0, 0.0, ...\n",
       "4      E   Maj  [0.0, 0.0, 0.0, 0.0, 0.0, 0.0, 0.0, 0.0, 0.0, ..."
      ]
     },
     "execution_count": 7,
     "metadata": {},
     "output_type": "execute_result"
    }
   ],
   "source": [
    "# Mélanger les données d'entrainement\n",
    "df_train = df_train.sample(frac=1).reset_index(drop=True)\n",
    "df_train.head()\n",
    "# Temps : 0.0s"
   ]
  },
  {
   "cell_type": "code",
   "execution_count": 8,
   "id": "6b2a0a9f",
   "metadata": {},
   "outputs": [
    {
     "name": "stdout",
     "output_type": "stream",
     "text": [
      "fetch test OK !!!\n"
     ]
    },
    {
     "name": "stderr",
     "output_type": "stream",
     "text": [
      "Proccessing: 100%|██████████| 155489/155489 [33:22<00:00, 77.65it/s]  "
     ]
    },
    {
     "name": "stdout",
     "output_type": "stream",
     "text": [
      "(155489, 3)\n"
     ]
    },
    {
     "name": "stderr",
     "output_type": "stream",
     "text": [
      "\n"
     ]
    },
    {
     "data": {
      "text/html": [
       "<div>\n",
       "<style scoped>\n",
       "    .dataframe tbody tr th:only-of-type {\n",
       "        vertical-align: middle;\n",
       "    }\n",
       "\n",
       "    .dataframe tbody tr th {\n",
       "        vertical-align: top;\n",
       "    }\n",
       "\n",
       "    .dataframe thead th {\n",
       "        text-align: right;\n",
       "    }\n",
       "</style>\n",
       "<table border=\"1\" class=\"dataframe\">\n",
       "  <thead>\n",
       "    <tr style=\"text-align: right;\">\n",
       "      <th></th>\n",
       "      <th>Labels</th>\n",
       "      <th>Types</th>\n",
       "      <th>Images</th>\n",
       "    </tr>\n",
       "  </thead>\n",
       "  <tbody>\n",
       "    <tr>\n",
       "      <th>0</th>\n",
       "      <td>A</td>\n",
       "      <td>Maj</td>\n",
       "      <td>[0.0, 0.0, 0.0, 0.0, 0.0, 0.0, 0.0, 0.0, 0.0, ...</td>\n",
       "    </tr>\n",
       "    <tr>\n",
       "      <th>1</th>\n",
       "      <td>A</td>\n",
       "      <td>Maj</td>\n",
       "      <td>[0.0, 0.0, 0.0, 0.0, 0.0, 0.0, 0.0, 0.0, 0.0, ...</td>\n",
       "    </tr>\n",
       "    <tr>\n",
       "      <th>2</th>\n",
       "      <td>A</td>\n",
       "      <td>Maj</td>\n",
       "      <td>[0.0, 0.0, 0.0, 0.0, 0.0, 0.0, 0.0, 0.0, 0.0, ...</td>\n",
       "    </tr>\n",
       "    <tr>\n",
       "      <th>3</th>\n",
       "      <td>A</td>\n",
       "      <td>Maj</td>\n",
       "      <td>[0.0, 0.0, 0.0, 0.0, 0.0, 0.0, 0.0, 0.0, 0.0, ...</td>\n",
       "    </tr>\n",
       "    <tr>\n",
       "      <th>4</th>\n",
       "      <td>A</td>\n",
       "      <td>Maj</td>\n",
       "      <td>[0.0, 0.0, 0.0, 0.0, 0.0, 0.0, 0.0, 0.0, 0.0, ...</td>\n",
       "    </tr>\n",
       "  </tbody>\n",
       "</table>\n",
       "</div>"
      ],
      "text/plain": [
       "  Labels Types                                             Images\n",
       "0      A   Maj  [0.0, 0.0, 0.0, 0.0, 0.0, 0.0, 0.0, 0.0, 0.0, ...\n",
       "1      A   Maj  [0.0, 0.0, 0.0, 0.0, 0.0, 0.0, 0.0, 0.0, 0.0, ...\n",
       "2      A   Maj  [0.0, 0.0, 0.0, 0.0, 0.0, 0.0, 0.0, 0.0, 0.0, ...\n",
       "3      A   Maj  [0.0, 0.0, 0.0, 0.0, 0.0, 0.0, 0.0, 0.0, 0.0, ...\n",
       "4      A   Maj  [0.0, 0.0, 0.0, 0.0, 0.0, 0.0, 0.0, 0.0, 0.0, ..."
      ]
     },
     "execution_count": 8,
     "metadata": {},
     "output_type": "execute_result"
    }
   ],
   "source": [
    "# Recupération des données de test depuis la base de données\n",
    "df_test = fetch_data(\"test\", 155_489)\n",
    "print(df_test.shape) # (155_489, 3)\n",
    "df_test.head()\n",
    "# Temps : 27min 17.5s (en deuxième)\n",
    "# Temps : 7m 14.4s (en premier)"
   ]
  },
  {
   "cell_type": "code",
   "execution_count": 9,
   "id": "6c263e55",
   "metadata": {},
   "outputs": [
    {
     "data": {
      "text/html": [
       "<div>\n",
       "<style scoped>\n",
       "    .dataframe tbody tr th:only-of-type {\n",
       "        vertical-align: middle;\n",
       "    }\n",
       "\n",
       "    .dataframe tbody tr th {\n",
       "        vertical-align: top;\n",
       "    }\n",
       "\n",
       "    .dataframe thead th {\n",
       "        text-align: right;\n",
       "    }\n",
       "</style>\n",
       "<table border=\"1\" class=\"dataframe\">\n",
       "  <thead>\n",
       "    <tr style=\"text-align: right;\">\n",
       "      <th></th>\n",
       "      <th>Labels</th>\n",
       "      <th>Types</th>\n",
       "      <th>Images</th>\n",
       "    </tr>\n",
       "  </thead>\n",
       "  <tbody>\n",
       "    <tr>\n",
       "      <th>0</th>\n",
       "      <td>4</td>\n",
       "      <td>Nbr</td>\n",
       "      <td>[0.0, 0.0, 0.0, 0.0, 0.0, 0.0, 0.0, 0.0, 0.0, ...</td>\n",
       "    </tr>\n",
       "    <tr>\n",
       "      <th>1</th>\n",
       "      <td>t</td>\n",
       "      <td>Min</td>\n",
       "      <td>[0.0, 0.0, 0.0, 0.0, 0.0, 0.0, 0.0, 0.0, 0.0, ...</td>\n",
       "    </tr>\n",
       "    <tr>\n",
       "      <th>2</th>\n",
       "      <td>0</td>\n",
       "      <td>Nbr</td>\n",
       "      <td>[0.0, 0.0, 0.0, 0.0, 0.0, 0.0, 0.0, 0.0, 0.0, ...</td>\n",
       "    </tr>\n",
       "    <tr>\n",
       "      <th>3</th>\n",
       "      <td>1</td>\n",
       "      <td>Nbr</td>\n",
       "      <td>[0.0, 0.0, 0.0, 0.0, 0.0, 0.0, 0.0, 0.0, 0.0, ...</td>\n",
       "    </tr>\n",
       "    <tr>\n",
       "      <th>4</th>\n",
       "      <td>r</td>\n",
       "      <td>Min</td>\n",
       "      <td>[0.0, 0.0, 0.0, 0.0, 0.0, 0.0, 0.0, 0.0, 0.0, ...</td>\n",
       "    </tr>\n",
       "  </tbody>\n",
       "</table>\n",
       "</div>"
      ],
      "text/plain": [
       "  Labels Types                                             Images\n",
       "0      4   Nbr  [0.0, 0.0, 0.0, 0.0, 0.0, 0.0, 0.0, 0.0, 0.0, ...\n",
       "1      t   Min  [0.0, 0.0, 0.0, 0.0, 0.0, 0.0, 0.0, 0.0, 0.0, ...\n",
       "2      0   Nbr  [0.0, 0.0, 0.0, 0.0, 0.0, 0.0, 0.0, 0.0, 0.0, ...\n",
       "3      1   Nbr  [0.0, 0.0, 0.0, 0.0, 0.0, 0.0, 0.0, 0.0, 0.0, ...\n",
       "4      r   Min  [0.0, 0.0, 0.0, 0.0, 0.0, 0.0, 0.0, 0.0, 0.0, ..."
      ]
     },
     "execution_count": 9,
     "metadata": {},
     "output_type": "execute_result"
    }
   ],
   "source": [
    "# Mélanger les données de test\n",
    "df_test = df_test.sample(frac=1).reset_index(drop=True)\n",
    "df_test.head()\n",
    "# Temps : "
   ]
  },
  {
   "cell_type": "code",
   "execution_count": 10,
   "id": "b6bce6c7",
   "metadata": {},
   "outputs": [
    {
     "name": "stdout",
     "output_type": "stream",
     "text": [
      "fetch validation OK !!!\n"
     ]
    },
    {
     "name": "stderr",
     "output_type": "stream",
     "text": [
      "Proccessing: 100%|██████████| 155686/155686 [45:13<00:00, 57.38it/s]  "
     ]
    },
    {
     "name": "stdout",
     "output_type": "stream",
     "text": [
      "(155686, 3)\n"
     ]
    },
    {
     "name": "stderr",
     "output_type": "stream",
     "text": [
      "\n"
     ]
    },
    {
     "data": {
      "text/html": [
       "<div>\n",
       "<style scoped>\n",
       "    .dataframe tbody tr th:only-of-type {\n",
       "        vertical-align: middle;\n",
       "    }\n",
       "\n",
       "    .dataframe tbody tr th {\n",
       "        vertical-align: top;\n",
       "    }\n",
       "\n",
       "    .dataframe thead th {\n",
       "        text-align: right;\n",
       "    }\n",
       "</style>\n",
       "<table border=\"1\" class=\"dataframe\">\n",
       "  <thead>\n",
       "    <tr style=\"text-align: right;\">\n",
       "      <th></th>\n",
       "      <th>Labels</th>\n",
       "      <th>Types</th>\n",
       "      <th>Images</th>\n",
       "    </tr>\n",
       "  </thead>\n",
       "  <tbody>\n",
       "    <tr>\n",
       "      <th>0</th>\n",
       "      <td>A</td>\n",
       "      <td>Maj</td>\n",
       "      <td>[0.0, 0.0, 0.0, 0.0, 0.0, 0.0, 0.0, 0.0, 0.0, ...</td>\n",
       "    </tr>\n",
       "    <tr>\n",
       "      <th>1</th>\n",
       "      <td>A</td>\n",
       "      <td>Maj</td>\n",
       "      <td>[0.0, 0.0, 0.0, 0.0, 0.0, 0.0, 0.0, 0.0, 0.0, ...</td>\n",
       "    </tr>\n",
       "    <tr>\n",
       "      <th>2</th>\n",
       "      <td>A</td>\n",
       "      <td>Maj</td>\n",
       "      <td>[0.0, 0.0, 0.0, 0.0, 0.0, 0.0, 0.0, 0.0, 0.0, ...</td>\n",
       "    </tr>\n",
       "    <tr>\n",
       "      <th>3</th>\n",
       "      <td>A</td>\n",
       "      <td>Maj</td>\n",
       "      <td>[0.0, 0.0, 0.0, 0.0, 0.0, 0.0, 0.0, 0.0, 0.0, ...</td>\n",
       "    </tr>\n",
       "    <tr>\n",
       "      <th>4</th>\n",
       "      <td>A</td>\n",
       "      <td>Maj</td>\n",
       "      <td>[0.0, 0.0, 0.0, 0.0, 0.0, 0.0, 0.0, 0.0, 0.0, ...</td>\n",
       "    </tr>\n",
       "  </tbody>\n",
       "</table>\n",
       "</div>"
      ],
      "text/plain": [
       "  Labels Types                                             Images\n",
       "0      A   Maj  [0.0, 0.0, 0.0, 0.0, 0.0, 0.0, 0.0, 0.0, 0.0, ...\n",
       "1      A   Maj  [0.0, 0.0, 0.0, 0.0, 0.0, 0.0, 0.0, 0.0, 0.0, ...\n",
       "2      A   Maj  [0.0, 0.0, 0.0, 0.0, 0.0, 0.0, 0.0, 0.0, 0.0, ...\n",
       "3      A   Maj  [0.0, 0.0, 0.0, 0.0, 0.0, 0.0, 0.0, 0.0, 0.0, ...\n",
       "4      A   Maj  [0.0, 0.0, 0.0, 0.0, 0.0, 0.0, 0.0, 0.0, 0.0, ..."
      ]
     },
     "execution_count": 10,
     "metadata": {},
     "output_type": "execute_result"
    }
   ],
   "source": [
    "# Recupération des données de validation depuis la base de données\n",
    "df_validation = fetch_data(\"validation\", 155_686)\n",
    "print(df_validation.shape) # (, 3)\n",
    "df_validation.head()\n",
    "# Temps : 45m 59.1s (en troisème)"
   ]
  },
  {
   "cell_type": "markdown",
   "id": "861ca775",
   "metadata": {},
   "source": [
    "# "
   ]
  },
  {
   "cell_type": "code",
   "execution_count": 11,
   "id": "f2aed575",
   "metadata": {},
   "outputs": [
    {
     "data": {
      "text/html": [
       "<div>\n",
       "<style scoped>\n",
       "    .dataframe tbody tr th:only-of-type {\n",
       "        vertical-align: middle;\n",
       "    }\n",
       "\n",
       "    .dataframe tbody tr th {\n",
       "        vertical-align: top;\n",
       "    }\n",
       "\n",
       "    .dataframe thead th {\n",
       "        text-align: right;\n",
       "    }\n",
       "</style>\n",
       "<table border=\"1\" class=\"dataframe\">\n",
       "  <thead>\n",
       "    <tr style=\"text-align: right;\">\n",
       "      <th></th>\n",
       "      <th>Labels</th>\n",
       "      <th>Types</th>\n",
       "      <th>Images</th>\n",
       "    </tr>\n",
       "  </thead>\n",
       "  <tbody>\n",
       "    <tr>\n",
       "      <th>0</th>\n",
       "      <td>h</td>\n",
       "      <td>Min</td>\n",
       "      <td>[0.0, 0.0, 0.0, 0.0, 0.0, 0.0, 0.0, 0.0, 0.0, ...</td>\n",
       "    </tr>\n",
       "    <tr>\n",
       "      <th>1</th>\n",
       "      <td>5</td>\n",
       "      <td>Nbr</td>\n",
       "      <td>[0.0, 0.0, 0.0, 0.0, 0.0, 0.0, 0.0, 0.0, 0.0, ...</td>\n",
       "    </tr>\n",
       "    <tr>\n",
       "      <th>2</th>\n",
       "      <td>i</td>\n",
       "      <td>Min</td>\n",
       "      <td>[0.0, 0.0, 0.0, 0.0, 0.0, 0.0, 0.0, 0.0, 0.0, ...</td>\n",
       "    </tr>\n",
       "    <tr>\n",
       "      <th>3</th>\n",
       "      <td>e</td>\n",
       "      <td>Min</td>\n",
       "      <td>[0.0, 0.0, 0.0, 0.0, 0.0, 0.0, 0.0, 0.0, 0.0, ...</td>\n",
       "    </tr>\n",
       "    <tr>\n",
       "      <th>4</th>\n",
       "      <td>Y</td>\n",
       "      <td>Maj</td>\n",
       "      <td>[0.0, 0.0, 0.0, 0.0, 0.0, 0.0, 0.0, 0.0, 0.0, ...</td>\n",
       "    </tr>\n",
       "  </tbody>\n",
       "</table>\n",
       "</div>"
      ],
      "text/plain": [
       "  Labels Types                                             Images\n",
       "0      h   Min  [0.0, 0.0, 0.0, 0.0, 0.0, 0.0, 0.0, 0.0, 0.0, ...\n",
       "1      5   Nbr  [0.0, 0.0, 0.0, 0.0, 0.0, 0.0, 0.0, 0.0, 0.0, ...\n",
       "2      i   Min  [0.0, 0.0, 0.0, 0.0, 0.0, 0.0, 0.0, 0.0, 0.0, ...\n",
       "3      e   Min  [0.0, 0.0, 0.0, 0.0, 0.0, 0.0, 0.0, 0.0, 0.0, ...\n",
       "4      Y   Maj  [0.0, 0.0, 0.0, 0.0, 0.0, 0.0, 0.0, 0.0, 0.0, ..."
      ]
     },
     "execution_count": 11,
     "metadata": {},
     "output_type": "execute_result"
    }
   ],
   "source": [
    "# Mélanger les données d'entrainement\n",
    "df_validation = df_validation.sample(frac=1).reset_index(drop=True)\n",
    "df_validation.head()\n",
    "# Temps : 0.0s"
   ]
  },
  {
   "cell_type": "markdown",
   "id": "c28800fd",
   "metadata": {},
   "source": [
    "### Données pour apprentissage du NN 'Get type'\n",
    "---\n",
    "\n",
    "Préparation des données pour l'entrainement du réseau de neurones 'Get type' qui permettra de classé les images selon trois catégories :\n",
    "\n",
    "- Majuscule\n",
    "- Minuscule\n",
    "- Nombre"
   ]
  },
  {
   "cell_type": "code",
   "execution_count": 12,
   "id": "200cea53",
   "metadata": {},
   "outputs": [],
   "source": [
    "X_train_types = np.array(df_train[\"Images\"].tolist())\n",
    "y_train_types = np.array(df_train[\"Types\"].tolist())\n",
    "X_test_types = np.array(df_test[\"Images\"].tolist())\n",
    "y_test_types = np.array(df_test[\"Types\"].tolist())\n",
    "X_validation_types = np.array(df_validation[\"Images\"].tolist())\n",
    "y_validation_types = np.array(df_validation[\"Types\"].tolist())\n",
    "# Temps : 11.8s"
   ]
  },
  {
   "cell_type": "code",
   "execution_count": 13,
   "id": "ddcc8e36",
   "metadata": {},
   "outputs": [],
   "source": [
    "# Conversion des étiquettes en indices (si nécessaire)\n",
    "label_encoder_types = LabelEncoder()\n",
    "\n",
    "y_train_types_2 = label_encoder_types.fit_transform(y_train_types)  # Convertit les étiquettes (lettres/nombres) en indices numériques (nombre) (str => int)\n",
    "y_test_types_2 = label_encoder_types.transform(y_test_types)\n",
    "y_validation_types_2 = label_encoder_types.transform(y_validation_types)"
   ]
  },
  {
   "cell_type": "code",
   "execution_count": 14,
   "id": "66a402ce",
   "metadata": {},
   "outputs": [
    {
     "name": "stdout",
     "output_type": "stream",
     "text": [
      "{0: 'Maj', 1: 'Min', 2: 'Nbr'}\n",
      "['Maj', 'Min', 'Nbr']\n"
     ]
    }
   ],
   "source": [
    "# Correspondance indices ↔ labels\n",
    "correspondance_types = dict(enumerate(label_encoder_types.classes_))\n",
    "print(correspondance_types)\n",
    "\n",
    "# Liste des labels\n",
    "labels_types = list(correspondance_types.values())\n",
    "print(labels_types)"
   ]
  },
  {
   "cell_type": "code",
   "execution_count": 15,
   "id": "9a12ce56",
   "metadata": {},
   "outputs": [
    {
     "name": "stdout",
     "output_type": "stream",
     "text": [
      "Taille de X_train_types: (487227, 2500), y_train_types: (487227,), y_train_types_2: (487227,)\n",
      "Taille de X_test_types: (155489, 2500), y_test_types: (155489,), y_test_types_2: (155489,)\n",
      "Taille de X_validation_types: (155686, 2500), y_validation_types: (155686,), y_validation_types_2: (155686,)\n"
     ]
    }
   ],
   "source": [
    "# Afficher quelques informations\n",
    "print(f\"Taille de X_train_types: {X_train_types.shape}, y_train_types: {y_train_types.shape}, y_train_types_2: {y_train_types_2.shape}\")\n",
    "print(f\"Taille de X_test_types: {X_test_types.shape}, y_test_types: {y_test_types.shape}, y_test_types_2: {y_test_types_2.shape}\")\n",
    "print(f\"Taille de X_validation_types: {X_validation_types.shape}, y_validation_types: {y_validation_types.shape}, y_validation_types_2: {y_validation_types_2.shape}\")"
   ]
  },
  {
   "cell_type": "markdown",
   "id": "be27b6f5",
   "metadata": {},
   "source": [
    "### Données pour apprentissage du NN 'Get Maj'\n",
    "---\n",
    "\n",
    "Préparation des données pour l'entrainement du réseau de neurones 'Get Maj' qui permettra de classé les images selon la lettre majuscule qui y est representée."
   ]
  },
  {
   "cell_type": "code",
   "execution_count": 16,
   "id": "171b0576",
   "metadata": {},
   "outputs": [
    {
     "name": "stdout",
     "output_type": "stream",
     "text": [
      "(150341, 3)\n"
     ]
    },
    {
     "data": {
      "text/html": [
       "<div>\n",
       "<style scoped>\n",
       "    .dataframe tbody tr th:only-of-type {\n",
       "        vertical-align: middle;\n",
       "    }\n",
       "\n",
       "    .dataframe tbody tr th {\n",
       "        vertical-align: top;\n",
       "    }\n",
       "\n",
       "    .dataframe thead th {\n",
       "        text-align: right;\n",
       "    }\n",
       "</style>\n",
       "<table border=\"1\" class=\"dataframe\">\n",
       "  <thead>\n",
       "    <tr style=\"text-align: right;\">\n",
       "      <th></th>\n",
       "      <th>Labels</th>\n",
       "      <th>Types</th>\n",
       "      <th>Images</th>\n",
       "    </tr>\n",
       "  </thead>\n",
       "  <tbody>\n",
       "    <tr>\n",
       "      <th>0</th>\n",
       "      <td>O</td>\n",
       "      <td>Maj</td>\n",
       "      <td>[0.0, 0.0, 0.0, 0.0, 0.0, 0.0, 0.0, 0.0, 0.0, ...</td>\n",
       "    </tr>\n",
       "    <tr>\n",
       "      <th>1</th>\n",
       "      <td>I</td>\n",
       "      <td>Maj</td>\n",
       "      <td>[0.0, 0.0, 0.0, 0.0, 0.0, 0.0, 0.0, 0.0, 0.0, ...</td>\n",
       "    </tr>\n",
       "    <tr>\n",
       "      <th>4</th>\n",
       "      <td>E</td>\n",
       "      <td>Maj</td>\n",
       "      <td>[0.0, 0.0, 0.0, 0.0, 0.0, 0.0, 0.0, 0.0, 0.0, ...</td>\n",
       "    </tr>\n",
       "    <tr>\n",
       "      <th>5</th>\n",
       "      <td>I</td>\n",
       "      <td>Maj</td>\n",
       "      <td>[0.0, 0.0, 0.0, 0.0, 0.0, 0.0, 0.0, 0.0, 0.0, ...</td>\n",
       "    </tr>\n",
       "    <tr>\n",
       "      <th>9</th>\n",
       "      <td>C</td>\n",
       "      <td>Maj</td>\n",
       "      <td>[0.0, 0.0, 0.0, 0.0, 0.0, 0.0, 0.0, 0.0, 0.0, ...</td>\n",
       "    </tr>\n",
       "  </tbody>\n",
       "</table>\n",
       "</div>"
      ],
      "text/plain": [
       "  Labels Types                                             Images\n",
       "0      O   Maj  [0.0, 0.0, 0.0, 0.0, 0.0, 0.0, 0.0, 0.0, 0.0, ...\n",
       "1      I   Maj  [0.0, 0.0, 0.0, 0.0, 0.0, 0.0, 0.0, 0.0, 0.0, ...\n",
       "4      E   Maj  [0.0, 0.0, 0.0, 0.0, 0.0, 0.0, 0.0, 0.0, 0.0, ...\n",
       "5      I   Maj  [0.0, 0.0, 0.0, 0.0, 0.0, 0.0, 0.0, 0.0, 0.0, ...\n",
       "9      C   Maj  [0.0, 0.0, 0.0, 0.0, 0.0, 0.0, 0.0, 0.0, 0.0, ..."
      ]
     },
     "execution_count": 16,
     "metadata": {},
     "output_type": "execute_result"
    }
   ],
   "source": [
    "df_train_Maj = df_train[df_train[\"Types\"] == \"Maj\"]\n",
    "print(df_train_Maj.shape) # (, 3)\n",
    "df_train_Maj.head()\n",
    "# Temps : "
   ]
  },
  {
   "cell_type": "code",
   "execution_count": 17,
   "id": "be8888d9",
   "metadata": {},
   "outputs": [
    {
     "name": "stdout",
     "output_type": "stream",
     "text": [
      "(43121, 3)\n"
     ]
    },
    {
     "data": {
      "text/html": [
       "<div>\n",
       "<style scoped>\n",
       "    .dataframe tbody tr th:only-of-type {\n",
       "        vertical-align: middle;\n",
       "    }\n",
       "\n",
       "    .dataframe tbody tr th {\n",
       "        vertical-align: top;\n",
       "    }\n",
       "\n",
       "    .dataframe thead th {\n",
       "        text-align: right;\n",
       "    }\n",
       "</style>\n",
       "<table border=\"1\" class=\"dataframe\">\n",
       "  <thead>\n",
       "    <tr style=\"text-align: right;\">\n",
       "      <th></th>\n",
       "      <th>Labels</th>\n",
       "      <th>Types</th>\n",
       "      <th>Images</th>\n",
       "    </tr>\n",
       "  </thead>\n",
       "  <tbody>\n",
       "    <tr>\n",
       "      <th>10</th>\n",
       "      <td>P</td>\n",
       "      <td>Maj</td>\n",
       "      <td>[0.0, 0.0, 0.0, 0.0, 0.0, 0.0, 0.0, 0.0, 0.0, ...</td>\n",
       "    </tr>\n",
       "    <tr>\n",
       "      <th>12</th>\n",
       "      <td>A</td>\n",
       "      <td>Maj</td>\n",
       "      <td>[0.0, 0.0, 0.0, 0.0, 0.0, 0.0, 0.0, 0.0, 0.0, ...</td>\n",
       "    </tr>\n",
       "    <tr>\n",
       "      <th>15</th>\n",
       "      <td>V</td>\n",
       "      <td>Maj</td>\n",
       "      <td>[0.0, 0.0, 0.0, 0.0, 0.0, 0.0, 0.0, 0.0, 0.0, ...</td>\n",
       "    </tr>\n",
       "    <tr>\n",
       "      <th>17</th>\n",
       "      <td>I</td>\n",
       "      <td>Maj</td>\n",
       "      <td>[0.0, 0.0, 0.0, 0.0, 0.0, 0.0, 0.0, 0.0, 0.0, ...</td>\n",
       "    </tr>\n",
       "    <tr>\n",
       "      <th>24</th>\n",
       "      <td>O</td>\n",
       "      <td>Maj</td>\n",
       "      <td>[0.0, 0.0, 0.0, 0.0, 0.0, 0.0, 0.0, 0.0, 0.0, ...</td>\n",
       "    </tr>\n",
       "  </tbody>\n",
       "</table>\n",
       "</div>"
      ],
      "text/plain": [
       "   Labels Types                                             Images\n",
       "10      P   Maj  [0.0, 0.0, 0.0, 0.0, 0.0, 0.0, 0.0, 0.0, 0.0, ...\n",
       "12      A   Maj  [0.0, 0.0, 0.0, 0.0, 0.0, 0.0, 0.0, 0.0, 0.0, ...\n",
       "15      V   Maj  [0.0, 0.0, 0.0, 0.0, 0.0, 0.0, 0.0, 0.0, 0.0, ...\n",
       "17      I   Maj  [0.0, 0.0, 0.0, 0.0, 0.0, 0.0, 0.0, 0.0, 0.0, ...\n",
       "24      O   Maj  [0.0, 0.0, 0.0, 0.0, 0.0, 0.0, 0.0, 0.0, 0.0, ..."
      ]
     },
     "execution_count": 17,
     "metadata": {},
     "output_type": "execute_result"
    }
   ],
   "source": [
    "df_test_Maj = df_test[df_test[\"Types\"] == \"Maj\"]\n",
    "print(df_test_Maj.shape) # (, 3)\n",
    "df_test_Maj.head()\n",
    "# Temps :"
   ]
  },
  {
   "cell_type": "code",
   "execution_count": 18,
   "id": "ccd812ea",
   "metadata": {},
   "outputs": [
    {
     "name": "stdout",
     "output_type": "stream",
     "text": [
      "(43250, 3)\n"
     ]
    },
    {
     "data": {
      "text/html": [
       "<div>\n",
       "<style scoped>\n",
       "    .dataframe tbody tr th:only-of-type {\n",
       "        vertical-align: middle;\n",
       "    }\n",
       "\n",
       "    .dataframe tbody tr th {\n",
       "        vertical-align: top;\n",
       "    }\n",
       "\n",
       "    .dataframe thead th {\n",
       "        text-align: right;\n",
       "    }\n",
       "</style>\n",
       "<table border=\"1\" class=\"dataframe\">\n",
       "  <thead>\n",
       "    <tr style=\"text-align: right;\">\n",
       "      <th></th>\n",
       "      <th>Labels</th>\n",
       "      <th>Types</th>\n",
       "      <th>Images</th>\n",
       "    </tr>\n",
       "  </thead>\n",
       "  <tbody>\n",
       "    <tr>\n",
       "      <th>4</th>\n",
       "      <td>Y</td>\n",
       "      <td>Maj</td>\n",
       "      <td>[0.0, 0.0, 0.0, 0.0, 0.0, 0.0, 0.0, 0.0, 0.0, ...</td>\n",
       "    </tr>\n",
       "    <tr>\n",
       "      <th>12</th>\n",
       "      <td>B</td>\n",
       "      <td>Maj</td>\n",
       "      <td>[0.0, 0.0, 0.0, 0.0, 0.0, 0.0, 0.0, 0.0, 0.0, ...</td>\n",
       "    </tr>\n",
       "    <tr>\n",
       "      <th>16</th>\n",
       "      <td>N</td>\n",
       "      <td>Maj</td>\n",
       "      <td>[0.0, 0.0, 0.0, 0.0, 0.0, 0.0, 0.0, 0.0, 0.0, ...</td>\n",
       "    </tr>\n",
       "    <tr>\n",
       "      <th>17</th>\n",
       "      <td>U</td>\n",
       "      <td>Maj</td>\n",
       "      <td>[0.0, 0.0, 0.0, 0.0, 0.0, 0.0, 0.0, 0.0, 0.0, ...</td>\n",
       "    </tr>\n",
       "    <tr>\n",
       "      <th>20</th>\n",
       "      <td>O</td>\n",
       "      <td>Maj</td>\n",
       "      <td>[0.0, 0.0, 0.0, 0.0, 0.0, 0.0, 0.0, 0.0, 0.0, ...</td>\n",
       "    </tr>\n",
       "  </tbody>\n",
       "</table>\n",
       "</div>"
      ],
      "text/plain": [
       "   Labels Types                                             Images\n",
       "4       Y   Maj  [0.0, 0.0, 0.0, 0.0, 0.0, 0.0, 0.0, 0.0, 0.0, ...\n",
       "12      B   Maj  [0.0, 0.0, 0.0, 0.0, 0.0, 0.0, 0.0, 0.0, 0.0, ...\n",
       "16      N   Maj  [0.0, 0.0, 0.0, 0.0, 0.0, 0.0, 0.0, 0.0, 0.0, ...\n",
       "17      U   Maj  [0.0, 0.0, 0.0, 0.0, 0.0, 0.0, 0.0, 0.0, 0.0, ...\n",
       "20      O   Maj  [0.0, 0.0, 0.0, 0.0, 0.0, 0.0, 0.0, 0.0, 0.0, ..."
      ]
     },
     "execution_count": 18,
     "metadata": {},
     "output_type": "execute_result"
    }
   ],
   "source": [
    "df_validation_Maj = df_validation[df_validation[\"Types\"] == \"Maj\"]\n",
    "print(df_validation_Maj.shape) # (, 3)\n",
    "df_validation_Maj.head()\n",
    "# Temps :"
   ]
  },
  {
   "cell_type": "code",
   "execution_count": 19,
   "id": "5c1ecfd6",
   "metadata": {},
   "outputs": [],
   "source": [
    "X_train_Maj = np.array(df_train_Maj[\"Images\"].tolist())\n",
    "y_train_Maj = np.array(df_train_Maj[\"Labels\"].tolist())\n",
    "X_test_Maj = np.array(df_test_Maj[\"Images\"].tolist())\n",
    "y_test_Maj = np.array(df_test_Maj[\"Labels\"].tolist())\n",
    "X_validation_Maj = np.array(df_validation_Maj[\"Images\"].tolist())\n",
    "y_validation_Maj = np.array(df_validation_Maj[\"Labels\"].tolist())\n",
    "# Temps : "
   ]
  },
  {
   "cell_type": "code",
   "execution_count": 20,
   "id": "c2e1cacf",
   "metadata": {},
   "outputs": [],
   "source": [
    "# Conversion des étiquettes en indices (si nécessaire)\n",
    "label_encoder_Maj = LabelEncoder()\n",
    "\n",
    "y_train_Maj_2 = label_encoder_Maj.fit_transform(y_train_Maj)  # Convertit les étiquettes (lettres/nombres) en indices numériques (nombre) (str => int)\n",
    "y_test_Maj_2 = label_encoder_Maj.transform(y_test_Maj)\n",
    "y_validation_Maj_2 = label_encoder_Maj.transform(y_validation_Maj)"
   ]
  },
  {
   "cell_type": "code",
   "execution_count": 21,
   "id": "a37d93b6",
   "metadata": {},
   "outputs": [
    {
     "name": "stdout",
     "output_type": "stream",
     "text": [
      "{0: 'A', 1: 'B', 2: 'C', 3: 'D', 4: 'E', 5: 'F', 6: 'G', 7: 'H', 8: 'I', 9: 'J', 10: 'K', 11: 'L', 12: 'M', 13: 'N', 14: 'O', 15: 'P', 16: 'Q', 17: 'R', 18: 'S', 19: 'T', 20: 'U', 21: 'V', 22: 'W', 23: 'X', 24: 'Y', 25: 'Z'}\n",
      "['A', 'B', 'C', 'D', 'E', 'F', 'G', 'H', 'I', 'J', 'K', 'L', 'M', 'N', 'O', 'P', 'Q', 'R', 'S', 'T', 'U', 'V', 'W', 'X', 'Y', 'Z']\n"
     ]
    }
   ],
   "source": [
    "# Correspondance indices ↔ labels\n",
    "correspondance_Maj = dict(enumerate(label_encoder_Maj.classes_))\n",
    "print(correspondance_Maj)\n",
    "\n",
    "# Liste des labels\n",
    "labels_Maj = list(correspondance_Maj.values())\n",
    "print(labels_Maj)"
   ]
  },
  {
   "cell_type": "code",
   "execution_count": 22,
   "id": "5c70f00b",
   "metadata": {},
   "outputs": [
    {
     "name": "stdout",
     "output_type": "stream",
     "text": [
      "Taille de X_train_Maj: (150341, 2500), y_train_Maj: (150341,), y_train_Maj_2: (150341,)\n",
      "Taille de X_test_Maj: (43121, 2500), y_test_Maj: (43121,), y_test_Maj_2: (43121,)\n",
      "Taille de X_validation_Maj: (43250, 2500), y_validation_Maj: (43250,), y_validation_Maj_2: (43250,)\n"
     ]
    }
   ],
   "source": [
    "# Afficher quelques informations\n",
    "print(f\"Taille de X_train_Maj: {X_train_Maj.shape}, y_train_Maj: {y_train_Maj.shape}, y_train_Maj_2: {y_train_Maj_2.shape}\")\n",
    "print(f\"Taille de X_test_Maj: {X_test_Maj.shape}, y_test_Maj: {y_test_Maj.shape}, y_test_Maj_2: {y_test_Maj_2.shape}\")\n",
    "print(f\"Taille de X_validation_Maj: {X_validation_Maj.shape}, y_validation_Maj: {y_validation_Maj.shape}, y_validation_Maj_2: {y_validation_Maj_2.shape}\")"
   ]
  },
  {
   "cell_type": "markdown",
   "id": "b1b4df28",
   "metadata": {},
   "source": [
    "### Données pour apprentissage du NN 'Get Min'\n",
    "---\n",
    "\n",
    "Préparation des données pour l'entrainement du réseau de neurones 'Get Min' qui permettra de classé les images selon la lettre minuscule qui y est representée."
   ]
  },
  {
   "cell_type": "code",
   "execution_count": 23,
   "id": "4b625cb5",
   "metadata": {},
   "outputs": [
    {
     "name": "stdout",
     "output_type": "stream",
     "text": [
      "(111713, 3)\n"
     ]
    },
    {
     "data": {
      "text/html": [
       "<div>\n",
       "<style scoped>\n",
       "    .dataframe tbody tr th:only-of-type {\n",
       "        vertical-align: middle;\n",
       "    }\n",
       "\n",
       "    .dataframe tbody tr th {\n",
       "        vertical-align: top;\n",
       "    }\n",
       "\n",
       "    .dataframe thead th {\n",
       "        text-align: right;\n",
       "    }\n",
       "</style>\n",
       "<table border=\"1\" class=\"dataframe\">\n",
       "  <thead>\n",
       "    <tr style=\"text-align: right;\">\n",
       "      <th></th>\n",
       "      <th>Labels</th>\n",
       "      <th>Types</th>\n",
       "      <th>Images</th>\n",
       "    </tr>\n",
       "  </thead>\n",
       "  <tbody>\n",
       "    <tr>\n",
       "      <th>3</th>\n",
       "      <td>h</td>\n",
       "      <td>Min</td>\n",
       "      <td>[0.0, 0.0, 0.0, 0.0, 0.0, 0.0, 0.0, 0.0, 0.0, ...</td>\n",
       "    </tr>\n",
       "    <tr>\n",
       "      <th>6</th>\n",
       "      <td>w</td>\n",
       "      <td>Min</td>\n",
       "      <td>[0.0, 0.0, 0.0, 0.0, 0.0, 0.0, 0.0, 0.0, 0.0, ...</td>\n",
       "    </tr>\n",
       "    <tr>\n",
       "      <th>7</th>\n",
       "      <td>e</td>\n",
       "      <td>Min</td>\n",
       "      <td>[0.0, 0.0, 0.0, 0.0, 0.0, 0.0, 0.0, 0.0, 0.0, ...</td>\n",
       "    </tr>\n",
       "    <tr>\n",
       "      <th>10</th>\n",
       "      <td>t</td>\n",
       "      <td>Min</td>\n",
       "      <td>[0.0, 0.0, 0.0, 0.0, 0.0, 0.0, 0.0, 0.0, 0.0, ...</td>\n",
       "    </tr>\n",
       "    <tr>\n",
       "      <th>21</th>\n",
       "      <td>g</td>\n",
       "      <td>Min</td>\n",
       "      <td>[0.0, 0.0, 0.0, 0.0, 0.0, 0.0, 0.0, 0.0, 0.0, ...</td>\n",
       "    </tr>\n",
       "  </tbody>\n",
       "</table>\n",
       "</div>"
      ],
      "text/plain": [
       "   Labels Types                                             Images\n",
       "3       h   Min  [0.0, 0.0, 0.0, 0.0, 0.0, 0.0, 0.0, 0.0, 0.0, ...\n",
       "6       w   Min  [0.0, 0.0, 0.0, 0.0, 0.0, 0.0, 0.0, 0.0, 0.0, ...\n",
       "7       e   Min  [0.0, 0.0, 0.0, 0.0, 0.0, 0.0, 0.0, 0.0, 0.0, ...\n",
       "10      t   Min  [0.0, 0.0, 0.0, 0.0, 0.0, 0.0, 0.0, 0.0, 0.0, ...\n",
       "21      g   Min  [0.0, 0.0, 0.0, 0.0, 0.0, 0.0, 0.0, 0.0, 0.0, ..."
      ]
     },
     "execution_count": 23,
     "metadata": {},
     "output_type": "execute_result"
    }
   ],
   "source": [
    "df_train_Min = df_train[df_train[\"Types\"] == \"Min\"]\n",
    "print(df_train_Min.shape) # (, 3)\n",
    "df_train_Min.head()\n",
    "# Temps : "
   ]
  },
  {
   "cell_type": "code",
   "execution_count": 24,
   "id": "2f458f81",
   "metadata": {},
   "outputs": [
    {
     "name": "stdout",
     "output_type": "stream",
     "text": [
      "(37358, 3)\n"
     ]
    },
    {
     "data": {
      "text/html": [
       "<div>\n",
       "<style scoped>\n",
       "    .dataframe tbody tr th:only-of-type {\n",
       "        vertical-align: middle;\n",
       "    }\n",
       "\n",
       "    .dataframe tbody tr th {\n",
       "        vertical-align: top;\n",
       "    }\n",
       "\n",
       "    .dataframe thead th {\n",
       "        text-align: right;\n",
       "    }\n",
       "</style>\n",
       "<table border=\"1\" class=\"dataframe\">\n",
       "  <thead>\n",
       "    <tr style=\"text-align: right;\">\n",
       "      <th></th>\n",
       "      <th>Labels</th>\n",
       "      <th>Types</th>\n",
       "      <th>Images</th>\n",
       "    </tr>\n",
       "  </thead>\n",
       "  <tbody>\n",
       "    <tr>\n",
       "      <th>1</th>\n",
       "      <td>t</td>\n",
       "      <td>Min</td>\n",
       "      <td>[0.0, 0.0, 0.0, 0.0, 0.0, 0.0, 0.0, 0.0, 0.0, ...</td>\n",
       "    </tr>\n",
       "    <tr>\n",
       "      <th>4</th>\n",
       "      <td>r</td>\n",
       "      <td>Min</td>\n",
       "      <td>[0.0, 0.0, 0.0, 0.0, 0.0, 0.0, 0.0, 0.0, 0.0, ...</td>\n",
       "    </tr>\n",
       "    <tr>\n",
       "      <th>8</th>\n",
       "      <td>k</td>\n",
       "      <td>Min</td>\n",
       "      <td>[0.0, 0.0, 0.0, 0.0, 0.0, 0.0, 0.0, 0.0, 0.0, ...</td>\n",
       "    </tr>\n",
       "    <tr>\n",
       "      <th>16</th>\n",
       "      <td>t</td>\n",
       "      <td>Min</td>\n",
       "      <td>[0.0, 0.0, 0.0, 0.0, 0.0, 0.0, 0.0, 0.0, 0.0, ...</td>\n",
       "    </tr>\n",
       "    <tr>\n",
       "      <th>18</th>\n",
       "      <td>t</td>\n",
       "      <td>Min</td>\n",
       "      <td>[0.0, 0.0, 0.0, 0.0, 0.0, 0.0, 0.0, 0.0, 0.0, ...</td>\n",
       "    </tr>\n",
       "  </tbody>\n",
       "</table>\n",
       "</div>"
      ],
      "text/plain": [
       "   Labels Types                                             Images\n",
       "1       t   Min  [0.0, 0.0, 0.0, 0.0, 0.0, 0.0, 0.0, 0.0, 0.0, ...\n",
       "4       r   Min  [0.0, 0.0, 0.0, 0.0, 0.0, 0.0, 0.0, 0.0, 0.0, ...\n",
       "8       k   Min  [0.0, 0.0, 0.0, 0.0, 0.0, 0.0, 0.0, 0.0, 0.0, ...\n",
       "16      t   Min  [0.0, 0.0, 0.0, 0.0, 0.0, 0.0, 0.0, 0.0, 0.0, ...\n",
       "18      t   Min  [0.0, 0.0, 0.0, 0.0, 0.0, 0.0, 0.0, 0.0, 0.0, ..."
      ]
     },
     "execution_count": 24,
     "metadata": {},
     "output_type": "execute_result"
    }
   ],
   "source": [
    "df_test_Min = df_test[df_test[\"Types\"] == \"Min\"]\n",
    "print(df_test_Min.shape) # (, 3)\n",
    "df_test_Min.head()\n",
    "# Temps :"
   ]
  },
  {
   "cell_type": "code",
   "execution_count": 25,
   "id": "f2e1c2b5",
   "metadata": {},
   "outputs": [
    {
     "name": "stdout",
     "output_type": "stream",
     "text": [
      "(37374, 3)\n"
     ]
    },
    {
     "data": {
      "text/html": [
       "<div>\n",
       "<style scoped>\n",
       "    .dataframe tbody tr th:only-of-type {\n",
       "        vertical-align: middle;\n",
       "    }\n",
       "\n",
       "    .dataframe tbody tr th {\n",
       "        vertical-align: top;\n",
       "    }\n",
       "\n",
       "    .dataframe thead th {\n",
       "        text-align: right;\n",
       "    }\n",
       "</style>\n",
       "<table border=\"1\" class=\"dataframe\">\n",
       "  <thead>\n",
       "    <tr style=\"text-align: right;\">\n",
       "      <th></th>\n",
       "      <th>Labels</th>\n",
       "      <th>Types</th>\n",
       "      <th>Images</th>\n",
       "    </tr>\n",
       "  </thead>\n",
       "  <tbody>\n",
       "    <tr>\n",
       "      <th>0</th>\n",
       "      <td>h</td>\n",
       "      <td>Min</td>\n",
       "      <td>[0.0, 0.0, 0.0, 0.0, 0.0, 0.0, 0.0, 0.0, 0.0, ...</td>\n",
       "    </tr>\n",
       "    <tr>\n",
       "      <th>2</th>\n",
       "      <td>i</td>\n",
       "      <td>Min</td>\n",
       "      <td>[0.0, 0.0, 0.0, 0.0, 0.0, 0.0, 0.0, 0.0, 0.0, ...</td>\n",
       "    </tr>\n",
       "    <tr>\n",
       "      <th>3</th>\n",
       "      <td>e</td>\n",
       "      <td>Min</td>\n",
       "      <td>[0.0, 0.0, 0.0, 0.0, 0.0, 0.0, 0.0, 0.0, 0.0, ...</td>\n",
       "    </tr>\n",
       "    <tr>\n",
       "      <th>7</th>\n",
       "      <td>a</td>\n",
       "      <td>Min</td>\n",
       "      <td>[0.0, 0.0, 0.0, 0.0, 0.0, 0.0, 0.0, 0.0, 0.0, ...</td>\n",
       "    </tr>\n",
       "    <tr>\n",
       "      <th>13</th>\n",
       "      <td>r</td>\n",
       "      <td>Min</td>\n",
       "      <td>[0.0, 0.0, 0.0, 0.0, 0.0, 0.0, 0.0, 0.0, 0.0, ...</td>\n",
       "    </tr>\n",
       "  </tbody>\n",
       "</table>\n",
       "</div>"
      ],
      "text/plain": [
       "   Labels Types                                             Images\n",
       "0       h   Min  [0.0, 0.0, 0.0, 0.0, 0.0, 0.0, 0.0, 0.0, 0.0, ...\n",
       "2       i   Min  [0.0, 0.0, 0.0, 0.0, 0.0, 0.0, 0.0, 0.0, 0.0, ...\n",
       "3       e   Min  [0.0, 0.0, 0.0, 0.0, 0.0, 0.0, 0.0, 0.0, 0.0, ...\n",
       "7       a   Min  [0.0, 0.0, 0.0, 0.0, 0.0, 0.0, 0.0, 0.0, 0.0, ...\n",
       "13      r   Min  [0.0, 0.0, 0.0, 0.0, 0.0, 0.0, 0.0, 0.0, 0.0, ..."
      ]
     },
     "execution_count": 25,
     "metadata": {},
     "output_type": "execute_result"
    }
   ],
   "source": [
    "df_validation_Min = df_validation[df_validation[\"Types\"] == \"Min\"]\n",
    "print(df_validation_Min.shape) # (, 3)\n",
    "df_validation_Min.head()\n",
    "# Temps :"
   ]
  },
  {
   "cell_type": "code",
   "execution_count": 26,
   "id": "4199a9d1",
   "metadata": {},
   "outputs": [],
   "source": [
    "X_train_Min = np.array(df_train_Min[\"Images\"].tolist())\n",
    "y_train_Min = np.array(df_train_Min[\"Labels\"].tolist())\n",
    "X_test_Min = np.array(df_test_Min[\"Images\"].tolist())\n",
    "y_test_Min = np.array(df_test_Min[\"Labels\"].tolist())\n",
    "X_validation_Min = np.array(df_validation_Min[\"Images\"].tolist())\n",
    "y_validation_Min = np.array(df_validation_Min[\"Labels\"].tolist())\n",
    "# Temps : 1.3s"
   ]
  },
  {
   "cell_type": "code",
   "execution_count": 27,
   "id": "1ec82bca",
   "metadata": {},
   "outputs": [],
   "source": [
    "# Conversion des étiquettes en indices (si nécessaire)\n",
    "label_encoder_Min = LabelEncoder()\n",
    "\n",
    "y_train_Min_2 = label_encoder_Min.fit_transform(y_train_Min)  # Convertit les étiquettes (lettres/nombres) en indices numériques (nombre) (str => int)\n",
    "y_test_Min_2 = label_encoder_Min.transform(y_test_Min)\n",
    "y_validation_Min_2 = label_encoder_Min.transform(y_validation_Min)"
   ]
  },
  {
   "cell_type": "code",
   "execution_count": 28,
   "id": "cbde9fbc",
   "metadata": {},
   "outputs": [
    {
     "name": "stdout",
     "output_type": "stream",
     "text": [
      "{0: 'a', 1: 'b', 2: 'c', 3: 'd', 4: 'e', 5: 'f', 6: 'g', 7: 'h', 8: 'i', 9: 'j', 10: 'k', 11: 'l', 12: 'm', 13: 'n', 14: 'o', 15: 'p', 16: 'q', 17: 'r', 18: 's', 19: 't', 20: 'u', 21: 'v', 22: 'w', 23: 'x', 24: 'y', 25: 'z'}\n",
      "['a', 'b', 'c', 'd', 'e', 'f', 'g', 'h', 'i', 'j', 'k', 'l', 'm', 'n', 'o', 'p', 'q', 'r', 's', 't', 'u', 'v', 'w', 'x', 'y', 'z']\n"
     ]
    }
   ],
   "source": [
    "# Correspondance indices ↔ labels\n",
    "correspondance_Min = dict(enumerate(label_encoder_Min.classes_))\n",
    "print(correspondance_Min)\n",
    "\n",
    "# Liste des labels\n",
    "labels_Min = list(correspondance_Min.values())\n",
    "print(labels_Min)"
   ]
  },
  {
   "cell_type": "code",
   "execution_count": 29,
   "id": "11e08a64",
   "metadata": {},
   "outputs": [
    {
     "name": "stdout",
     "output_type": "stream",
     "text": [
      "Taille de X_train_Min: (111713, 2500), y_train_Min: (111713,), y_train_Min_2: (111713,)\n",
      "Taille de X_test_Min: (37358, 2500), y_test_Min: (37358,), y_test_Min_2: (37358,)\n",
      "Taille de X_validation_Min: (37374, 2500), y_validation_Min: (37374,), y_validation_Min_2: (37374,)\n"
     ]
    }
   ],
   "source": [
    "# Afficher quelques informations\n",
    "print(f\"Taille de X_train_Min: {X_train_Min.shape}, y_train_Min: {y_train_Min.shape}, y_train_Min_2: {y_train_Min_2.shape}\")\n",
    "print(f\"Taille de X_test_Min: {X_test_Min.shape}, y_test_Min: {y_test_Min.shape}, y_test_Min_2: {y_test_Min_2.shape}\")\n",
    "print(f\"Taille de X_validation_Min: {X_validation_Min.shape}, y_validation_Min: {y_validation_Min.shape}, y_validation_Min_2: {y_validation_Min_2.shape}\")"
   ]
  },
  {
   "cell_type": "markdown",
   "id": "5ddfa01a",
   "metadata": {},
   "source": [
    "### Données pour apprentissage du NN 'Get Nbr'\n",
    "---\n",
    "\n",
    "Préparation des données pour l'entrainement du réseau de neurones 'Get Nbr' qui permettra de classé les images selon le chiffre qui y est représenté."
   ]
  },
  {
   "cell_type": "code",
   "execution_count": 30,
   "id": "1131478e",
   "metadata": {},
   "outputs": [
    {
     "name": "stdout",
     "output_type": "stream",
     "text": [
      "(225173, 3)\n"
     ]
    },
    {
     "data": {
      "text/html": [
       "<div>\n",
       "<style scoped>\n",
       "    .dataframe tbody tr th:only-of-type {\n",
       "        vertical-align: middle;\n",
       "    }\n",
       "\n",
       "    .dataframe tbody tr th {\n",
       "        vertical-align: top;\n",
       "    }\n",
       "\n",
       "    .dataframe thead th {\n",
       "        text-align: right;\n",
       "    }\n",
       "</style>\n",
       "<table border=\"1\" class=\"dataframe\">\n",
       "  <thead>\n",
       "    <tr style=\"text-align: right;\">\n",
       "      <th></th>\n",
       "      <th>Labels</th>\n",
       "      <th>Types</th>\n",
       "      <th>Images</th>\n",
       "    </tr>\n",
       "  </thead>\n",
       "  <tbody>\n",
       "    <tr>\n",
       "      <th>2</th>\n",
       "      <td>9</td>\n",
       "      <td>Nbr</td>\n",
       "      <td>[0.0, 0.0, 0.0, 0.0, 0.0, 0.0, 0.0, 0.0, 0.0, ...</td>\n",
       "    </tr>\n",
       "    <tr>\n",
       "      <th>8</th>\n",
       "      <td>0</td>\n",
       "      <td>Nbr</td>\n",
       "      <td>[0.0, 0.0, 0.0, 0.0, 0.0, 0.0, 0.0, 0.0, 0.0, ...</td>\n",
       "    </tr>\n",
       "    <tr>\n",
       "      <th>11</th>\n",
       "      <td>5</td>\n",
       "      <td>Nbr</td>\n",
       "      <td>[0.0, 0.0, 0.0, 0.0, 0.0, 0.0, 0.0, 0.0, 0.0, ...</td>\n",
       "    </tr>\n",
       "    <tr>\n",
       "      <th>12</th>\n",
       "      <td>5</td>\n",
       "      <td>Nbr</td>\n",
       "      <td>[0.0, 0.0, 0.0, 0.0, 0.0, 0.0, 0.0, 0.0, 0.0, ...</td>\n",
       "    </tr>\n",
       "    <tr>\n",
       "      <th>14</th>\n",
       "      <td>9</td>\n",
       "      <td>Nbr</td>\n",
       "      <td>[0.0, 0.0, 0.0, 0.0, 0.0, 0.0, 0.0, 0.0, 0.0, ...</td>\n",
       "    </tr>\n",
       "  </tbody>\n",
       "</table>\n",
       "</div>"
      ],
      "text/plain": [
       "   Labels Types                                             Images\n",
       "2       9   Nbr  [0.0, 0.0, 0.0, 0.0, 0.0, 0.0, 0.0, 0.0, 0.0, ...\n",
       "8       0   Nbr  [0.0, 0.0, 0.0, 0.0, 0.0, 0.0, 0.0, 0.0, 0.0, ...\n",
       "11      5   Nbr  [0.0, 0.0, 0.0, 0.0, 0.0, 0.0, 0.0, 0.0, 0.0, ...\n",
       "12      5   Nbr  [0.0, 0.0, 0.0, 0.0, 0.0, 0.0, 0.0, 0.0, 0.0, ...\n",
       "14      9   Nbr  [0.0, 0.0, 0.0, 0.0, 0.0, 0.0, 0.0, 0.0, 0.0, ..."
      ]
     },
     "execution_count": 30,
     "metadata": {},
     "output_type": "execute_result"
    }
   ],
   "source": [
    "df_train_Nbr = df_train[df_train[\"Types\"] == \"Nbr\"]\n",
    "print(df_train_Nbr.shape) # (, 3)\n",
    "df_train_Nbr.head()\n",
    "# Temps : "
   ]
  },
  {
   "cell_type": "code",
   "execution_count": 31,
   "id": "ab429874",
   "metadata": {},
   "outputs": [
    {
     "name": "stdout",
     "output_type": "stream",
     "text": [
      "(75010, 3)\n"
     ]
    },
    {
     "data": {
      "text/html": [
       "<div>\n",
       "<style scoped>\n",
       "    .dataframe tbody tr th:only-of-type {\n",
       "        vertical-align: middle;\n",
       "    }\n",
       "\n",
       "    .dataframe tbody tr th {\n",
       "        vertical-align: top;\n",
       "    }\n",
       "\n",
       "    .dataframe thead th {\n",
       "        text-align: right;\n",
       "    }\n",
       "</style>\n",
       "<table border=\"1\" class=\"dataframe\">\n",
       "  <thead>\n",
       "    <tr style=\"text-align: right;\">\n",
       "      <th></th>\n",
       "      <th>Labels</th>\n",
       "      <th>Types</th>\n",
       "      <th>Images</th>\n",
       "    </tr>\n",
       "  </thead>\n",
       "  <tbody>\n",
       "    <tr>\n",
       "      <th>0</th>\n",
       "      <td>4</td>\n",
       "      <td>Nbr</td>\n",
       "      <td>[0.0, 0.0, 0.0, 0.0, 0.0, 0.0, 0.0, 0.0, 0.0, ...</td>\n",
       "    </tr>\n",
       "    <tr>\n",
       "      <th>2</th>\n",
       "      <td>0</td>\n",
       "      <td>Nbr</td>\n",
       "      <td>[0.0, 0.0, 0.0, 0.0, 0.0, 0.0, 0.0, 0.0, 0.0, ...</td>\n",
       "    </tr>\n",
       "    <tr>\n",
       "      <th>3</th>\n",
       "      <td>1</td>\n",
       "      <td>Nbr</td>\n",
       "      <td>[0.0, 0.0, 0.0, 0.0, 0.0, 0.0, 0.0, 0.0, 0.0, ...</td>\n",
       "    </tr>\n",
       "    <tr>\n",
       "      <th>5</th>\n",
       "      <td>5</td>\n",
       "      <td>Nbr</td>\n",
       "      <td>[0.0, 0.0, 0.0, 0.0, 0.0, 0.0, 0.0, 0.0, 0.0, ...</td>\n",
       "    </tr>\n",
       "    <tr>\n",
       "      <th>6</th>\n",
       "      <td>4</td>\n",
       "      <td>Nbr</td>\n",
       "      <td>[0.0, 0.0, 0.0, 0.0, 0.0, 0.0, 0.0, 0.0, 0.0, ...</td>\n",
       "    </tr>\n",
       "  </tbody>\n",
       "</table>\n",
       "</div>"
      ],
      "text/plain": [
       "  Labels Types                                             Images\n",
       "0      4   Nbr  [0.0, 0.0, 0.0, 0.0, 0.0, 0.0, 0.0, 0.0, 0.0, ...\n",
       "2      0   Nbr  [0.0, 0.0, 0.0, 0.0, 0.0, 0.0, 0.0, 0.0, 0.0, ...\n",
       "3      1   Nbr  [0.0, 0.0, 0.0, 0.0, 0.0, 0.0, 0.0, 0.0, 0.0, ...\n",
       "5      5   Nbr  [0.0, 0.0, 0.0, 0.0, 0.0, 0.0, 0.0, 0.0, 0.0, ...\n",
       "6      4   Nbr  [0.0, 0.0, 0.0, 0.0, 0.0, 0.0, 0.0, 0.0, 0.0, ..."
      ]
     },
     "execution_count": 31,
     "metadata": {},
     "output_type": "execute_result"
    }
   ],
   "source": [
    "df_test_Nbr = df_test[df_test[\"Types\"] == \"Nbr\"]\n",
    "print(df_test_Nbr.shape) # (, 3)\n",
    "df_test_Nbr.head()\n",
    "# Temps : "
   ]
  },
  {
   "cell_type": "code",
   "execution_count": 32,
   "id": "f483c835",
   "metadata": {},
   "outputs": [
    {
     "name": "stdout",
     "output_type": "stream",
     "text": [
      "(75062, 3)\n"
     ]
    },
    {
     "data": {
      "text/html": [
       "<div>\n",
       "<style scoped>\n",
       "    .dataframe tbody tr th:only-of-type {\n",
       "        vertical-align: middle;\n",
       "    }\n",
       "\n",
       "    .dataframe tbody tr th {\n",
       "        vertical-align: top;\n",
       "    }\n",
       "\n",
       "    .dataframe thead th {\n",
       "        text-align: right;\n",
       "    }\n",
       "</style>\n",
       "<table border=\"1\" class=\"dataframe\">\n",
       "  <thead>\n",
       "    <tr style=\"text-align: right;\">\n",
       "      <th></th>\n",
       "      <th>Labels</th>\n",
       "      <th>Types</th>\n",
       "      <th>Images</th>\n",
       "    </tr>\n",
       "  </thead>\n",
       "  <tbody>\n",
       "    <tr>\n",
       "      <th>1</th>\n",
       "      <td>5</td>\n",
       "      <td>Nbr</td>\n",
       "      <td>[0.0, 0.0, 0.0, 0.0, 0.0, 0.0, 0.0, 0.0, 0.0, ...</td>\n",
       "    </tr>\n",
       "    <tr>\n",
       "      <th>5</th>\n",
       "      <td>2</td>\n",
       "      <td>Nbr</td>\n",
       "      <td>[0.0, 0.0, 0.0, 0.0, 0.0, 0.0, 0.0, 0.0, 0.0, ...</td>\n",
       "    </tr>\n",
       "    <tr>\n",
       "      <th>6</th>\n",
       "      <td>1</td>\n",
       "      <td>Nbr</td>\n",
       "      <td>[0.0, 0.0, 0.0, 0.0, 0.0, 0.0, 0.0, 0.0, 0.0, ...</td>\n",
       "    </tr>\n",
       "    <tr>\n",
       "      <th>8</th>\n",
       "      <td>7</td>\n",
       "      <td>Nbr</td>\n",
       "      <td>[0.0, 0.0, 0.0, 0.0, 0.0, 0.0, 0.0, 0.0, 0.0, ...</td>\n",
       "    </tr>\n",
       "    <tr>\n",
       "      <th>9</th>\n",
       "      <td>5</td>\n",
       "      <td>Nbr</td>\n",
       "      <td>[0.0, 0.0, 0.0, 0.0, 0.0, 0.0, 0.0, 0.0, 0.0, ...</td>\n",
       "    </tr>\n",
       "  </tbody>\n",
       "</table>\n",
       "</div>"
      ],
      "text/plain": [
       "  Labels Types                                             Images\n",
       "1      5   Nbr  [0.0, 0.0, 0.0, 0.0, 0.0, 0.0, 0.0, 0.0, 0.0, ...\n",
       "5      2   Nbr  [0.0, 0.0, 0.0, 0.0, 0.0, 0.0, 0.0, 0.0, 0.0, ...\n",
       "6      1   Nbr  [0.0, 0.0, 0.0, 0.0, 0.0, 0.0, 0.0, 0.0, 0.0, ...\n",
       "8      7   Nbr  [0.0, 0.0, 0.0, 0.0, 0.0, 0.0, 0.0, 0.0, 0.0, ...\n",
       "9      5   Nbr  [0.0, 0.0, 0.0, 0.0, 0.0, 0.0, 0.0, 0.0, 0.0, ..."
      ]
     },
     "execution_count": 32,
     "metadata": {},
     "output_type": "execute_result"
    }
   ],
   "source": [
    "df_validation_Nbr = df_validation[df_validation[\"Types\"] == \"Nbr\"]\n",
    "print(df_validation_Nbr.shape) # (, 3)\n",
    "df_validation_Nbr.head()\n",
    "# Temps : "
   ]
  },
  {
   "cell_type": "code",
   "execution_count": 33,
   "id": "135ad779",
   "metadata": {},
   "outputs": [],
   "source": [
    "X_train_Nbr = np.array(df_train_Nbr[\"Images\"].tolist())\n",
    "y_train_Nbr = np.array(df_train_Nbr[\"Labels\"].tolist())\n",
    "X_test_Nbr = np.array(df_test_Nbr[\"Images\"].tolist())\n",
    "y_test_Nbr = np.array(df_test_Nbr[\"Labels\"].tolist())\n",
    "X_validation_Nbr = np.array(df_validation_Nbr[\"Images\"].tolist())\n",
    "y_validation_Nbr = np.array(df_validation_Nbr[\"Labels\"].tolist())\n",
    "# Temps : 9.1s"
   ]
  },
  {
   "cell_type": "code",
   "execution_count": 34,
   "id": "ab84cf16",
   "metadata": {},
   "outputs": [],
   "source": [
    "# Conversion des étiquettes en indices (si nécessaire)\n",
    "label_encoder_Nbr = LabelEncoder()\n",
    "\n",
    "y_train_Nbr_2 = label_encoder_Nbr.fit_transform(y_train_Nbr)  # Convertit les étiquettes (lettres/nombres) en indices numériques (nombre) (str => int)\n",
    "y_test_Nbr_2 = label_encoder_Nbr.transform(y_test_Nbr)\n",
    "y_validation_Nbr_2 = label_encoder_Nbr.transform(y_validation_Nbr)"
   ]
  },
  {
   "cell_type": "code",
   "execution_count": 35,
   "id": "cb0e1562",
   "metadata": {},
   "outputs": [
    {
     "name": "stdout",
     "output_type": "stream",
     "text": [
      "{0: '0', 1: '1', 2: '2', 3: '3', 4: '4', 5: '5', 6: '6', 7: '7', 8: '8', 9: '9'}\n",
      "['0', '1', '2', '3', '4', '5', '6', '7', '8', '9']\n"
     ]
    }
   ],
   "source": [
    "# Correspondance indices ↔ labels\n",
    "correspondance_Nbr = dict(enumerate(label_encoder_Nbr.classes_))\n",
    "print(correspondance_Nbr)\n",
    "\n",
    "# Liste des labels\n",
    "labels_Nbr = list(correspondance_Nbr.values())\n",
    "print(labels_Nbr)"
   ]
  },
  {
   "cell_type": "code",
   "execution_count": 36,
   "id": "745fcefd",
   "metadata": {},
   "outputs": [
    {
     "name": "stdout",
     "output_type": "stream",
     "text": [
      "Taille de X_train_Nbr: (225173, 2500), y_train_Nbr: (225173,), y_train_Nbr_2: (225173,)\n",
      "Taille de X_test_Nbr: (75010, 2500), y_test_Nbr: (75010,), y_test_Nbr_2: (75010,)\n",
      "Taille de X_validation_Nbr: (75062, 2500), y_validation_Nbr: (75062,), y_validation_Nbr_2: (75062,)\n"
     ]
    }
   ],
   "source": [
    "# Afficher quelques informations\n",
    "print(f\"Taille de X_train_Nbr: {X_train_Nbr.shape}, y_train_Nbr: {y_train_Nbr.shape}, y_train_Nbr_2: {y_train_Nbr_2.shape}\")\n",
    "print(f\"Taille de X_test_Nbr: {X_test_Nbr.shape}, y_test_Nbr: {y_test_Nbr.shape}, y_test_Nbr_2: {y_test_Nbr_2.shape}\")\n",
    "print(f\"Taille de X_validation_Nbr: {X_validation_Nbr.shape}, y_validation_Nbr: {y_validation_Nbr.shape}, y_validation_Nbr_2: {y_validation_Nbr_2.shape}\")"
   ]
  },
  {
   "cell_type": "markdown",
   "id": "75c86311",
   "metadata": {},
   "source": [
    "# Get Type (NN)\n",
    "---\n",
    "\n",
    "Modèle ..."
   ]
  },
  {
   "cell_type": "code",
   "execution_count": 37,
   "id": "684d35c3",
   "metadata": {},
   "outputs": [],
   "source": [
    "# Reseau de neurones\n",
    "model_get_type = keras.Sequential([\n",
    "    keras.layers.Input((2500,)), # input layer : 2500 neurones (50x50 pixels)\n",
    "    keras.layers.Dense(1750, activation='relu'),\n",
    "    keras.layers.Dense(1000, activation='relu'),\n",
    "    keras.layers.Dense(500, activation='relu'),\n",
    "    keras.layers.Dense(100, activation='relu'),\n",
    "    keras.layers.Dense(20, activation='relu'),\n",
    "    keras.layers.Dense(3, activation='softmax') # output layer : 3 neurones (Maj, Min, Nbr) -> softmax : sortie à 3 classes\n",
    "])\n",
    "\n",
    "model_get_type.compile(\n",
    "    optimizer='adam', # optimizer : Adam avec learning rate de 0.0001\n",
    "    loss='sparse_categorical_crossentropy', # loss : sparse_categorical_crossentropy pour la classification\n",
    "    metrics=['accuracy'] # metrics : accuracy pour évaluer la performance du modèle\n",
    ")"
   ]
  },
  {
   "cell_type": "code",
   "execution_count": 38,
   "id": "0f3591d3",
   "metadata": {},
   "outputs": [
    {
     "name": "stdout",
     "output_type": "stream",
     "text": [
      "Epoch 1/10\n",
      "\u001b[1m15226/15226\u001b[0m \u001b[32m━━━━━━━━━━━━━━━━━━━━\u001b[0m\u001b[37m\u001b[0m \u001b[1m474s\u001b[0m 31ms/step - accuracy: 0.7704 - loss: 0.5441 - val_accuracy: 0.8220 - val_loss: 0.4303\n",
      "Epoch 2/10\n",
      "\u001b[1m15226/15226\u001b[0m \u001b[32m━━━━━━━━━━━━━━━━━━━━\u001b[0m\u001b[37m\u001b[0m \u001b[1m464s\u001b[0m 30ms/step - accuracy: 0.8320 - loss: 0.4083 - val_accuracy: 0.8254 - val_loss: 0.4203\n",
      "Epoch 3/10\n",
      "\u001b[1m15226/15226\u001b[0m \u001b[32m━━━━━━━━━━━━━━━━━━━━\u001b[0m\u001b[37m\u001b[0m \u001b[1m490s\u001b[0m 32ms/step - accuracy: 0.8421 - loss: 0.3806 - val_accuracy: 0.8346 - val_loss: 0.4012\n",
      "Epoch 4/10\n",
      "\u001b[1m15226/15226\u001b[0m \u001b[32m━━━━━━━━━━━━━━━━━━━━\u001b[0m\u001b[37m\u001b[0m \u001b[1m489s\u001b[0m 32ms/step - accuracy: 0.8468 - loss: 0.3673 - val_accuracy: 0.8372 - val_loss: 0.3971\n",
      "Epoch 5/10\n",
      "\u001b[1m15226/15226\u001b[0m \u001b[32m━━━━━━━━━━━━━━━━━━━━\u001b[0m\u001b[37m\u001b[0m \u001b[1m486s\u001b[0m 32ms/step - accuracy: 0.8520 - loss: 0.3565 - val_accuracy: 0.8382 - val_loss: 0.3980\n",
      "Epoch 6/10\n",
      "\u001b[1m15226/15226\u001b[0m \u001b[32m━━━━━━━━━━━━━━━━━━━━\u001b[0m\u001b[37m\u001b[0m \u001b[1m498s\u001b[0m 33ms/step - accuracy: 0.8546 - loss: 0.3494 - val_accuracy: 0.8360 - val_loss: 0.4016\n",
      "Epoch 7/10\n",
      "\u001b[1m15226/15226\u001b[0m \u001b[32m━━━━━━━━━━━━━━━━━━━━\u001b[0m\u001b[37m\u001b[0m \u001b[1m503s\u001b[0m 33ms/step - accuracy: 0.8587 - loss: 0.3401 - val_accuracy: 0.8405 - val_loss: 0.4032\n",
      "Epoch 8/10\n",
      "\u001b[1m15226/15226\u001b[0m \u001b[32m━━━━━━━━━━━━━━━━━━━━\u001b[0m\u001b[37m\u001b[0m \u001b[1m480s\u001b[0m 32ms/step - accuracy: 0.8605 - loss: 0.3359 - val_accuracy: 0.8410 - val_loss: 0.3949\n",
      "Epoch 9/10\n",
      "\u001b[1m15226/15226\u001b[0m \u001b[32m━━━━━━━━━━━━━━━━━━━━\u001b[0m\u001b[37m\u001b[0m \u001b[1m478s\u001b[0m 31ms/step - accuracy: 0.8630 - loss: 0.3301 - val_accuracy: 0.8405 - val_loss: 0.4198\n",
      "Epoch 10/10\n",
      "\u001b[1m15226/15226\u001b[0m \u001b[32m━━━━━━━━━━━━━━━━━━━━\u001b[0m\u001b[37m\u001b[0m \u001b[1m462s\u001b[0m 30ms/step - accuracy: 0.8645 - loss: 0.3250 - val_accuracy: 0.8411 - val_loss: 0.4160\n"
     ]
    },
    {
     "data": {
      "text/plain": [
       "<keras.src.callbacks.history.History at 0x151ad8f6f10>"
      ]
     },
     "execution_count": 38,
     "metadata": {},
     "output_type": "execute_result"
    }
   ],
   "source": [
    "model_get_type.fit(\n",
    "    X_train_types, \n",
    "    y_train_types_2, \n",
    "    epochs=EPOCHS, \n",
    "    batch_size=BATCH_SIZE, \n",
    "    validation_data=(\n",
    "        X_validation_types, \n",
    "        y_validation_types_2\n",
    "    ),\n",
    "    verbose=1\n",
    ")\n",
    "\n",
    "# Batch 32\n",
    "# accuracy : 0.8618\n",
    "# loss : 0.3311\n",
    "# Temps : 16m 33.5s\n",
    "\n",
    "# Batch 64\n",
    "# accuracy : 0.8644\n",
    "# loss : 0.3228\n",
    "# Temps : 8m 41s\n",
    "\n",
    "# Batch 128\n",
    "# accuracy : 0.8654\n",
    "# loss : 0.3209\n",
    "# Temps : 4m 35.4s\n",
    "\n",
    "# Batch 256\n",
    "# accuracy : 0.8644\n",
    "# loss : 0.3220\n",
    "# Temps : 2m 46.5s"
   ]
  },
  {
   "cell_type": "code",
   "execution_count": 39,
   "id": "e640ee91",
   "metadata": {},
   "outputs": [
    {
     "name": "stdout",
     "output_type": "stream",
     "text": [
      "\u001b[1m4860/4860\u001b[0m \u001b[32m━━━━━━━━━━━━━━━━━━━━\u001b[0m\u001b[37m\u001b[0m \u001b[1m15s\u001b[0m 3ms/step - accuracy: 0.8427 - loss: 0.4143\n",
      "Test accuracy : 0.8420531153678894\n",
      "Test loss : 0.4206249415874481\n"
     ]
    }
   ],
   "source": [
    "test_loss_type, test_acc_type = model_get_type.evaluate(X_test_types, y_test_types_2)\n",
    "print(f\"Test accuracy : {test_acc_type}\") # Test accuracy : \n",
    "print(f\"Test loss : {test_loss_type}\") # Test loss : \n",
    "# Temps : 8.3s"
   ]
  },
  {
   "cell_type": "code",
   "execution_count": 40,
   "id": "e8d21c2d",
   "metadata": {},
   "outputs": [],
   "source": [
    "# Sauvegarder le modèle\n",
    "model_get_type.save(\"../models/Get_type_v\" + ADD_NOM + \".keras\")  # Format HDF5 (.h5)"
   ]
  },
  {
   "cell_type": "code",
   "execution_count": 41,
   "id": "3c7e8a14",
   "metadata": {},
   "outputs": [
    {
     "name": "stdout",
     "output_type": "stream",
     "text": [
      "\u001b[1m4860/4860\u001b[0m \u001b[32m━━━━━━━━━━━━━━━━━━━━\u001b[0m\u001b[37m\u001b[0m \u001b[1m14s\u001b[0m 3ms/step\n"
     ]
    },
    {
     "data": {
      "text/plain": [
       "array([1.2727101e-06, 9.9999869e-01, 1.3928408e-11], dtype=float32)"
      ]
     },
     "execution_count": 41,
     "metadata": {},
     "output_type": "execute_result"
    }
   ],
   "source": [
    "y_predicted_types = model_get_type.predict(X_test_types)\n",
    "y_predicted_types[1]\n",
    "# Temps : 7.2s"
   ]
  },
  {
   "cell_type": "code",
   "execution_count": 42,
   "id": "5a255831",
   "metadata": {},
   "outputs": [
    {
     "data": {
      "text/plain": [
       "1"
      ]
     },
     "execution_count": 42,
     "metadata": {},
     "output_type": "execute_result"
    }
   ],
   "source": [
    "np.argmax(y_predicted_types[1])"
   ]
  },
  {
   "cell_type": "code",
   "execution_count": 43,
   "id": "be508530",
   "metadata": {},
   "outputs": [
    {
     "data": {
      "text/plain": [
       "[2, 1, 2, 2, 1]"
      ]
     },
     "execution_count": 43,
     "metadata": {},
     "output_type": "execute_result"
    }
   ],
   "source": [
    "# y_predicted_labels1 = np.array([correspondance_types[np.argmax(i)] for i in y_predicted_types])\n",
    "y_predicted_labels_types = [np.argmax(i) for i in y_predicted_types]\n",
    "y_predicted_labels_types[:5]"
   ]
  },
  {
   "cell_type": "code",
   "execution_count": 44,
   "id": "95a13ef7",
   "metadata": {},
   "outputs": [
    {
     "data": {
      "text/plain": [
       "array([2, 1, 2, 2, 1])"
      ]
     },
     "execution_count": 44,
     "metadata": {},
     "output_type": "execute_result"
    }
   ],
   "source": [
    "y_test_types_2[:5]"
   ]
  },
  {
   "cell_type": "code",
   "execution_count": 45,
   "id": "886fbde4",
   "metadata": {},
   "outputs": [
    {
     "data": {
      "text/plain": [
       "Text(95.72222222222221, 0.5, 'Truth')"
      ]
     },
     "execution_count": 45,
     "metadata": {},
     "output_type": "execute_result"
    },
    {
     "data": {
      "image/png": "[encoded data removed]",
      "text/plain": [
       "<Figure size 1000x700 with 2 Axes>"
      ]
     },
     "metadata": {},
     "output_type": "display_data"
    }
   ],
   "source": [
    "# Matrice de confusion\n",
    "cm_types = tf.math.confusion_matrix(labels=y_test_types_2, predictions=y_predicted_labels_types)\n",
    "plt.figure(figsize=(10, 7))\n",
    "sns.heatmap(cm_types, annot=True, fmt='d')\n",
    "plt.xlabel('Predicted')\n",
    "plt.ylabel('Truth')"
   ]
  },
  {
   "cell_type": "markdown",
   "id": "5b557b32",
   "metadata": {},
   "source": [
    "# Get Maj (NN)\n",
    "---\n",
    "\n",
    "Modèle ..."
   ]
  },
  {
   "cell_type": "code",
   "execution_count": 46,
   "id": "6321ce1f",
   "metadata": {},
   "outputs": [],
   "source": [
    "model_get_maj = keras.Sequential([\n",
    "    keras.layers.Input((2500,)), # input layer : 2500 neurones (50x50 pixels)\n",
    "    keras.layers.Dense(1750, activation='relu'),\n",
    "    keras.layers.Dense(1000, activation='relu'),\n",
    "    keras.layers.Dense(500, activation='relu'),\n",
    "    keras.layers.Dense(100, activation='relu'),\n",
    "    keras.layers.Dense(26, activation='sigmoid') # output layer : 26 neurones (A-Z)\n",
    "])\n",
    "\n",
    "model_get_maj.compile(\n",
    "    optimizer='adam',\n",
    "    loss='sparse_categorical_crossentropy',\n",
    "    metrics=['accuracy']\n",
    ")"
   ]
  },
  {
   "cell_type": "code",
   "execution_count": 47,
   "id": "5d7a8dc0",
   "metadata": {},
   "outputs": [
    {
     "name": "stdout",
     "output_type": "stream",
     "text": [
      "Epoch 1/10\n",
      "\u001b[1m1175/1175\u001b[0m \u001b[32m━━━━━━━━━━━━━━━━━━━━\u001b[0m\u001b[37m\u001b[0m \u001b[1m38s\u001b[0m 31ms/step - accuracy: 0.8013 - loss: 0.7163 - val_accuracy: 0.9171 - val_loss: 0.3139\n",
      "Epoch 2/10\n",
      "\u001b[1m1175/1175\u001b[0m \u001b[32m━━━━━━━━━━━━━━━━━━━━\u001b[0m\u001b[37m\u001b[0m \u001b[1m35s\u001b[0m 30ms/step - accuracy: 0.9233 - loss: 0.2752 - val_accuracy: 0.9200 - val_loss: 0.2974\n",
      "Epoch 3/10\n",
      "\u001b[1m1175/1175\u001b[0m \u001b[32m━━━━━━━━━━━━━━━━━━━━\u001b[0m\u001b[37m\u001b[0m \u001b[1m35s\u001b[0m 30ms/step - accuracy: 0.9343 - loss: 0.2313 - val_accuracy: 0.9303 - val_loss: 0.2629\n",
      "Epoch 4/10\n",
      "\u001b[1m1175/1175\u001b[0m \u001b[32m━━━━━━━━━━━━━━━━━━━━\u001b[0m\u001b[37m\u001b[0m \u001b[1m35s\u001b[0m 30ms/step - accuracy: 0.9403 - loss: 0.2097 - val_accuracy: 0.9268 - val_loss: 0.2780\n",
      "Epoch 5/10\n",
      "\u001b[1m1175/1175\u001b[0m \u001b[32m━━━━━━━━━━━━━━━━━━━━\u001b[0m\u001b[37m\u001b[0m \u001b[1m35s\u001b[0m 30ms/step - accuracy: 0.9428 - loss: 0.1966 - val_accuracy: 0.9336 - val_loss: 0.2630\n",
      "Epoch 6/10\n",
      "\u001b[1m1175/1175\u001b[0m \u001b[32m━━━━━━━━━━━━━━━━━━━━\u001b[0m\u001b[37m\u001b[0m \u001b[1m35s\u001b[0m 30ms/step - accuracy: 0.9483 - loss: 0.1795 - val_accuracy: 0.9341 - val_loss: 0.2622\n",
      "Epoch 7/10\n",
      "\u001b[1m1175/1175\u001b[0m \u001b[32m━━━━━━━━━━━━━━━━━━━━\u001b[0m\u001b[37m\u001b[0m \u001b[1m35s\u001b[0m 30ms/step - accuracy: 0.9504 - loss: 0.1730 - val_accuracy: 0.9327 - val_loss: 0.2776\n",
      "Epoch 8/10\n",
      "\u001b[1m1175/1175\u001b[0m \u001b[32m━━━━━━━━━━━━━━━━━━━━\u001b[0m\u001b[37m\u001b[0m \u001b[1m35s\u001b[0m 30ms/step - accuracy: 0.9517 - loss: 0.1685 - val_accuracy: 0.9341 - val_loss: 0.2784\n",
      "Epoch 9/10\n",
      "\u001b[1m1175/1175\u001b[0m \u001b[32m━━━━━━━━━━━━━━━━━━━━\u001b[0m\u001b[37m\u001b[0m \u001b[1m35s\u001b[0m 30ms/step - accuracy: 0.9532 - loss: 0.1573 - val_accuracy: 0.9321 - val_loss: 0.2802\n",
      "Epoch 10/10\n",
      "\u001b[1m1175/1175\u001b[0m \u001b[32m━━━━━━━━━━━━━━━━━━━━\u001b[0m\u001b[37m\u001b[0m \u001b[1m35s\u001b[0m 30ms/step - accuracy: 0.9546 - loss: 0.1570 - val_accuracy: 0.9320 - val_loss: 0.2993\n"
     ]
    },
    {
     "data": {
      "text/plain": [
       "<keras.src.callbacks.history.History at 0x151d743ef50>"
      ]
     },
     "execution_count": 47,
     "metadata": {},
     "output_type": "execute_result"
    }
   ],
   "source": [
    "model_get_maj.fit(\n",
    "    X_train_Maj, \n",
    "    y_train_Maj_2, \n",
    "    epochs=EPOCHS, \n",
    "    batch_size=128, \n",
    "    validation_data=(\n",
    "        X_validation_Maj, \n",
    "        y_validation_Maj_2\n",
    "    ),\n",
    "    verbose=1\n",
    ")\n",
    "\n",
    "# Batch 32\n",
    "# accuracy : 0.9508\n",
    "# loss : 0.1701\n",
    "# Temps : 5m 17.7s\n",
    "\n",
    "# Batch 64\n",
    "# accuracy : 0.9522\n",
    "# loss : 0.1632\n",
    "# Temps : 2m 18.6s\n",
    "\n",
    "# Batch 128\n",
    "# accuracy : 0.9558\n",
    "# loss : 0.1531\n",
    "# Temps : 1m 19.8s\n",
    "\n",
    "# Batch 256\n",
    "# accuracy : 0.9527\n",
    "# loss : 0.1621\n",
    "# Temps : 51.7s"
   ]
  },
  {
   "cell_type": "code",
   "execution_count": 48,
   "id": "71aaeea0",
   "metadata": {},
   "outputs": [
    {
     "name": "stdout",
     "output_type": "stream",
     "text": [
      "\u001b[1m1348/1348\u001b[0m \u001b[32m━━━━━━━━━━━━━━━━━━━━\u001b[0m\u001b[37m\u001b[0m \u001b[1m4s\u001b[0m 3ms/step - accuracy: 0.9356 - loss: 0.2853\n",
      "Test accuracy : 0.9352519512176514\n",
      "Test loss : 0.2858487069606781\n"
     ]
    }
   ],
   "source": [
    "test_loss_maj, test_acc_maj = model_get_maj.evaluate(X_test_Maj, y_test_Maj_2)\n",
    "print(f\"Test accuracy : {test_acc_maj}\") # Test accuracy : \n",
    "print(f\"Test loss : {test_loss_maj}\") # Test loss : \n",
    "# Temps : 1.9s"
   ]
  },
  {
   "cell_type": "code",
   "execution_count": 49,
   "id": "6f73a143",
   "metadata": {},
   "outputs": [],
   "source": [
    "# Sauvegarder le modèle\n",
    "model_get_maj.save(\"../models/Get_Maj_v\" + ADD_NOM + \".keras\")  # Format HDF5 (.h5)"
   ]
  },
  {
   "cell_type": "code",
   "execution_count": 50,
   "id": "f10dc339",
   "metadata": {},
   "outputs": [
    {
     "name": "stdout",
     "output_type": "stream",
     "text": [
      "\u001b[1m1348/1348\u001b[0m \u001b[32m━━━━━━━━━━━━━━━━━━━━\u001b[0m\u001b[37m\u001b[0m \u001b[1m4s\u001b[0m 3ms/step\n"
     ]
    },
    {
     "data": {
      "text/plain": [
       "array([9.9999934e-01, 7.7308720e-01, 3.5535383e-01, 9.9393952e-01,\n",
       "       8.8625532e-01, 8.9389563e-01, 5.9978044e-01, 9.9412745e-01,\n",
       "       2.0962171e-01, 3.3624984e-02, 4.3295968e-02, 4.3806973e-01,\n",
       "       6.0872602e-01, 9.7811294e-01, 6.6230005e-01, 9.8547041e-01,\n",
       "       3.8519187e-03, 1.8753965e-01, 2.7242338e-03, 3.3365086e-02,\n",
       "       4.1397437e-04, 7.9703750e-04, 5.4788470e-01, 2.4486220e-02,\n",
       "       3.7600882e-02, 1.6414608e-05], dtype=float32)"
      ]
     },
     "execution_count": 50,
     "metadata": {},
     "output_type": "execute_result"
    }
   ],
   "source": [
    "y_predicted_Maj = model_get_maj.predict(X_test_Maj)\n",
    "y_predicted_Maj[1]\n",
    "# Temps 1.8s"
   ]
  },
  {
   "cell_type": "code",
   "execution_count": 51,
   "id": "143060fe",
   "metadata": {},
   "outputs": [
    {
     "data": {
      "text/plain": [
       "0"
      ]
     },
     "execution_count": 51,
     "metadata": {},
     "output_type": "execute_result"
    }
   ],
   "source": [
    "np.argmax(y_predicted_Maj[1])"
   ]
  },
  {
   "cell_type": "code",
   "execution_count": 52,
   "id": "da9ab676",
   "metadata": {},
   "outputs": [
    {
     "data": {
      "text/plain": [
       "[15, 0, 21, 8, 14]"
      ]
     },
     "execution_count": 52,
     "metadata": {},
     "output_type": "execute_result"
    }
   ],
   "source": [
    "# y_predicted_labels_Maj = [correspondance_Maj[np.argmax(i)] for i in y_predicted_Maj]\n",
    "y_predicted_labels_Maj = [np.argmax(i) for i in y_predicted_Maj]\n",
    "y_predicted_labels_Maj[:5]"
   ]
  },
  {
   "cell_type": "code",
   "execution_count": 53,
   "id": "1a9ff968",
   "metadata": {},
   "outputs": [
    {
     "data": {
      "text/plain": [
       "Text(95.72222222222221, 0.5, 'Truth')"
      ]
     },
     "execution_count": 53,
     "metadata": {},
     "output_type": "execute_result"
    },
    {
     "data": {
      "image/png": "[encoded data removed]",
      "text/plain": [
       "<Figure size 1000x700 with 2 Axes>"
      ]
     },
     "metadata": {},
     "output_type": "display_data"
    }
   ],
   "source": [
    "# Matrice de confusion\n",
    "cm_Maj = tf.math.confusion_matrix(labels=y_test_Maj_2, predictions=y_predicted_labels_Maj)\n",
    "plt.figure(figsize=(10, 7))\n",
    "sns.heatmap(cm_Maj, annot=True, fmt='d')\n",
    "plt.xlabel('Predicted')\n",
    "plt.ylabel('Truth')"
   ]
  },
  {
   "cell_type": "markdown",
   "id": "3be19730",
   "metadata": {},
   "source": [
    "# Get Min (NN)\n",
    "---\n",
    "\n",
    "Modèle ..."
   ]
  },
  {
   "cell_type": "code",
   "execution_count": 54,
   "id": "c6970766",
   "metadata": {},
   "outputs": [],
   "source": [
    "model_get_min = keras.Sequential([\n",
    "    keras.layers.Input((2500,)), # input layer : 2500 neurones (50x50 pixels)\n",
    "    keras.layers.Dense(1750, activation='relu'),\n",
    "    keras.layers.Dense(1000, activation='relu'),\n",
    "    keras.layers.Dense(500, activation='relu'),\n",
    "    keras.layers.Dense(100, activation='relu'),\n",
    "    keras.layers.Dense(26, activation='sigmoid') # output layer : 26 neurones (A-Z)\n",
    "])\n",
    "\n",
    "model_get_min.compile(\n",
    "    optimizer='adam',\n",
    "    loss='sparse_categorical_crossentropy',\n",
    "    metrics=['accuracy']\n",
    ")"
   ]
  },
  {
   "cell_type": "code",
   "execution_count": 55,
   "id": "d746e298",
   "metadata": {},
   "outputs": [
    {
     "name": "stdout",
     "output_type": "stream",
     "text": [
      "Epoch 1/10\n",
      "\u001b[1m873/873\u001b[0m \u001b[32m━━━━━━━━━━━━━━━━━━━━\u001b[0m\u001b[37m\u001b[0m \u001b[1m27s\u001b[0m 31ms/step - accuracy: 0.7831 - loss: 0.7784 - val_accuracy: 0.8790 - val_loss: 0.4012\n",
      "Epoch 2/10\n",
      "\u001b[1m873/873\u001b[0m \u001b[32m━━━━━━━━━━━━━━━━━━━━\u001b[0m\u001b[37m\u001b[0m \u001b[1m26s\u001b[0m 30ms/step - accuracy: 0.8917 - loss: 0.3579 - val_accuracy: 0.8913 - val_loss: 0.3649\n",
      "Epoch 3/10\n",
      "\u001b[1m873/873\u001b[0m \u001b[32m━━━━━━━━━━━━━━━━━━━━\u001b[0m\u001b[37m\u001b[0m \u001b[1m26s\u001b[0m 30ms/step - accuracy: 0.9046 - loss: 0.3115 - val_accuracy: 0.8970 - val_loss: 0.3508\n",
      "Epoch 4/10\n",
      "\u001b[1m873/873\u001b[0m \u001b[32m━━━━━━━━━━━━━━━━━━━━\u001b[0m\u001b[37m\u001b[0m \u001b[1m26s\u001b[0m 30ms/step - accuracy: 0.9140 - loss: 0.2789 - val_accuracy: 0.9003 - val_loss: 0.3457\n",
      "Epoch 5/10\n",
      "\u001b[1m873/873\u001b[0m \u001b[32m━━━━━━━━━━━━━━━━━━━━\u001b[0m\u001b[37m\u001b[0m \u001b[1m27s\u001b[0m 31ms/step - accuracy: 0.9185 - loss: 0.2544 - val_accuracy: 0.8980 - val_loss: 0.3569\n",
      "Epoch 6/10\n",
      "\u001b[1m873/873\u001b[0m \u001b[32m━━━━━━━━━━━━━━━━━━━━\u001b[0m\u001b[37m\u001b[0m \u001b[1m26s\u001b[0m 30ms/step - accuracy: 0.9245 - loss: 0.2383 - val_accuracy: 0.9015 - val_loss: 0.3499\n",
      "Epoch 7/10\n",
      "\u001b[1m873/873\u001b[0m \u001b[32m━━━━━━━━━━━━━━━━━━━━\u001b[0m\u001b[37m\u001b[0m \u001b[1m26s\u001b[0m 30ms/step - accuracy: 0.9273 - loss: 0.2265 - val_accuracy: 0.9026 - val_loss: 0.3516\n",
      "Epoch 8/10\n",
      "\u001b[1m873/873\u001b[0m \u001b[32m━━━━━━━━━━━━━━━━━━━━\u001b[0m\u001b[37m\u001b[0m \u001b[1m26s\u001b[0m 30ms/step - accuracy: 0.9315 - loss: 0.2135 - val_accuracy: 0.9009 - val_loss: 0.3571\n",
      "Epoch 9/10\n",
      "\u001b[1m873/873\u001b[0m \u001b[32m━━━━━━━━━━━━━━━━━━━━\u001b[0m\u001b[37m\u001b[0m \u001b[1m26s\u001b[0m 30ms/step - accuracy: 0.9318 - loss: 0.2075 - val_accuracy: 0.9055 - val_loss: 0.3616\n",
      "Epoch 10/10\n",
      "\u001b[1m873/873\u001b[0m \u001b[32m━━━━━━━━━━━━━━━━━━━━\u001b[0m\u001b[37m\u001b[0m \u001b[1m26s\u001b[0m 30ms/step - accuracy: 0.9345 - loss: 0.1979 - val_accuracy: 0.9046 - val_loss: 0.3584\n"
     ]
    },
    {
     "data": {
      "text/plain": [
       "<keras.src.callbacks.history.History at 0x152e80ec050>"
      ]
     },
     "execution_count": 55,
     "metadata": {},
     "output_type": "execute_result"
    }
   ],
   "source": [
    "model_get_min.fit(\n",
    "    X_train_Min, \n",
    "    y_train_Min_2, \n",
    "    epochs=EPOCHS, \n",
    "    batch_size=128, \n",
    "    validation_data=(\n",
    "        X_validation_Min, \n",
    "        y_validation_Min_2\n",
    "    ),\n",
    "    verbose=1\n",
    ")\n",
    "\n",
    "# Batch 32\n",
    "# accuracy : 0.9293\n",
    "# loss : 0.2193\n",
    "# Temps : 2m 45.3s\n",
    "\n",
    "# Batch 64\n",
    "# accuracy : 0.9328\n",
    "# loss : 0.2042\n",
    "# Temps : 2m 2.7s\n",
    "\n",
    "# Batch 128\n",
    "# accuracy : 0.9332\n",
    "# loss : 0.2038\n",
    "# Temps : 58.4s\n",
    "\n",
    "# Batch 256\n",
    "# accuracy : 0.9338\n",
    "# loss : 0.2036\n",
    "# Temps : 38.3s"
   ]
  },
  {
   "cell_type": "code",
   "execution_count": 56,
   "id": "1096eafa",
   "metadata": {},
   "outputs": [
    {
     "name": "stdout",
     "output_type": "stream",
     "text": [
      "\u001b[1m1168/1168\u001b[0m \u001b[32m━━━━━━━━━━━━━━━━━━━━\u001b[0m\u001b[37m\u001b[0m \u001b[1m3s\u001b[0m 2ms/step - accuracy: 0.9064 - loss: 0.3524\n",
      "Test accuracy : 0.9053750038146973\n",
      "Test loss : 0.3557049036026001\n"
     ]
    }
   ],
   "source": [
    "test_loss_min, test_acc_min = model_get_min.evaluate(X_test_Min, y_test_Min_2)\n",
    "print(f\"Test accuracy : {test_acc_min}\") # Test accuracy : \n",
    "print(f\"Test loss : {test_loss_min}\") # Test loss : \n",
    "# Temps : "
   ]
  },
  {
   "cell_type": "code",
   "execution_count": 57,
   "id": "6cffe41e",
   "metadata": {},
   "outputs": [],
   "source": [
    "# Sauvegarder le modèle\n",
    "model_get_min.save(\"../models/Get_Min_v\" + ADD_NOM + \".keras\")  # Format keras (.keras)"
   ]
  },
  {
   "cell_type": "code",
   "execution_count": 58,
   "id": "aeef9462",
   "metadata": {},
   "outputs": [
    {
     "name": "stdout",
     "output_type": "stream",
     "text": [
      "\u001b[1m1168/1168\u001b[0m \u001b[32m━━━━━━━━━━━━━━━━━━━━\u001b[0m\u001b[37m\u001b[0m \u001b[1m3s\u001b[0m 3ms/step\n"
     ]
    },
    {
     "data": {
      "text/plain": [
       "array([3.7943786e-01, 1.4323607e-03, 9.1954082e-01, 1.4593005e-04,\n",
       "       6.7862546e-01, 8.1423724e-01, 2.5948825e-01, 3.8280867e-02,\n",
       "       5.3159217e-04, 9.3061998e-03, 1.8773583e-03, 6.1412263e-01,\n",
       "       1.7699229e-03, 7.5359094e-01, 2.6605953e-03, 8.3907443e-01,\n",
       "       4.4839466e-03, 9.9999994e-01, 3.9724717e-01, 9.9751401e-01,\n",
       "       4.5803140e-06, 2.6060769e-01, 1.5482088e-09, 1.5511469e-05,\n",
       "       9.7040340e-02, 2.2374501e-05], dtype=float32)"
      ]
     },
     "execution_count": 58,
     "metadata": {},
     "output_type": "execute_result"
    }
   ],
   "source": [
    "y_predicted_Min = model_get_min.predict(X_test_Min)\n",
    "y_predicted_Min[1]"
   ]
  },
  {
   "cell_type": "code",
   "execution_count": 59,
   "id": "607f5872",
   "metadata": {},
   "outputs": [
    {
     "data": {
      "text/plain": [
       "[19, 17, 10, 19, 19]"
      ]
     },
     "execution_count": 59,
     "metadata": {},
     "output_type": "execute_result"
    }
   ],
   "source": [
    "# y_predicted_labels_Min = [correspondance_Min[np.argmax(i)] for i in y_predicted_Min]\n",
    "y_predicted_labels_Min = [np.argmax(i) for i in y_predicted_Min]\n",
    "y_predicted_labels_Min[:5]"
   ]
  },
  {
   "cell_type": "code",
   "execution_count": 60,
   "id": "8bbc8228",
   "metadata": {},
   "outputs": [
    {
     "data": {
      "text/plain": [
       "Text(95.72222222222221, 0.5, 'Truth')"
      ]
     },
     "execution_count": 60,
     "metadata": {},
     "output_type": "execute_result"
    },
    {
     "data": {
      "image/png": "[encoded data removed]",
      "text/plain": [
       "<Figure size 1000x700 with 2 Axes>"
      ]
     },
     "metadata": {},
     "output_type": "display_data"
    }
   ],
   "source": [
    "# Matrice de confusion\n",
    "cm_Min = tf.math.confusion_matrix(labels=y_test_Min_2, predictions=y_predicted_labels_Min)\n",
    "plt.figure(figsize=(10, 7))\n",
    "sns.heatmap(cm_Min, annot=True, fmt='d')\n",
    "plt.xlabel('Predicted')\n",
    "plt.ylabel('Truth')"
   ]
  },
  {
   "cell_type": "markdown",
   "id": "c92b7446",
   "metadata": {},
   "source": [
    "# Get Nbr (NN)\n",
    "---\n",
    "\n",
    "Modèle ..."
   ]
  },
  {
   "cell_type": "code",
   "execution_count": 61,
   "id": "d6a0345c",
   "metadata": {},
   "outputs": [],
   "source": [
    "model_get_nbr = keras.Sequential([\n",
    "    keras.layers.Input((2500,)), # input layer : 2500 neurones (50x50 pixels)\n",
    "    keras.layers.Dense(1750, activation='relu'),\n",
    "    keras.layers.Dense(1000, activation='relu'),\n",
    "    keras.layers.Dense(500, activation='relu'),\n",
    "    keras.layers.Dense(100, activation='relu'),\n",
    "    keras.layers.Dense(10, activation='sigmoid') # output layer : 10 neurones (0-9)\n",
    "])\n",
    "\n",
    "model_get_nbr.compile(\n",
    "    optimizer='adam',\n",
    "    loss='sparse_categorical_crossentropy',\n",
    "    metrics=['accuracy']\n",
    ")"
   ]
  },
  {
   "cell_type": "code",
   "execution_count": 62,
   "id": "3cf7f959",
   "metadata": {},
   "outputs": [
    {
     "name": "stdout",
     "output_type": "stream",
     "text": [
      "Epoch 1/10\n",
      "\u001b[1m1760/1760\u001b[0m \u001b[32m━━━━━━━━━━━━━━━━━━━━\u001b[0m\u001b[37m\u001b[0m \u001b[1m53s\u001b[0m 30ms/step - accuracy: 0.8765 - loss: 0.3860 - val_accuracy: 0.9170 - val_loss: 0.2518\n",
      "Epoch 2/10\n",
      "\u001b[1m1760/1760\u001b[0m \u001b[32m━━━━━━━━━━━━━━━━━━━━\u001b[0m\u001b[37m\u001b[0m \u001b[1m51s\u001b[0m 29ms/step - accuracy: 0.9210 - loss: 0.2352 - val_accuracy: 0.9224 - val_loss: 0.2258\n",
      "Epoch 3/10\n",
      "\u001b[1m1760/1760\u001b[0m \u001b[32m━━━━━━━━━━━━━━━━━━━━\u001b[0m\u001b[37m\u001b[0m \u001b[1m52s\u001b[0m 30ms/step - accuracy: 0.9254 - loss: 0.2170 - val_accuracy: 0.9241 - val_loss: 0.2272\n",
      "Epoch 4/10\n",
      "\u001b[1m1760/1760\u001b[0m \u001b[32m━━━━━━━━━━━━━━━━━━━━\u001b[0m\u001b[37m\u001b[0m \u001b[1m51s\u001b[0m 29ms/step - accuracy: 0.9287 - loss: 0.2066 - val_accuracy: 0.9253 - val_loss: 0.2191\n",
      "Epoch 5/10\n",
      "\u001b[1m1760/1760\u001b[0m \u001b[32m━━━━━━━━━━━━━━━━━━━━\u001b[0m\u001b[37m\u001b[0m \u001b[1m51s\u001b[0m 29ms/step - accuracy: 0.9294 - loss: 0.2024 - val_accuracy: 0.9278 - val_loss: 0.2150\n",
      "Epoch 6/10\n",
      "\u001b[1m1760/1760\u001b[0m \u001b[32m━━━━━━━━━━━━━━━━━━━━\u001b[0m\u001b[37m\u001b[0m \u001b[1m51s\u001b[0m 29ms/step - accuracy: 0.9310 - loss: 0.1978 - val_accuracy: 0.9275 - val_loss: 0.2171\n",
      "Epoch 7/10\n",
      "\u001b[1m1760/1760\u001b[0m \u001b[32m━━━━━━━━━━━━━━━━━━━━\u001b[0m\u001b[37m\u001b[0m \u001b[1m51s\u001b[0m 29ms/step - accuracy: 0.9325 - loss: 0.1913 - val_accuracy: 0.9281 - val_loss: 0.2158\n",
      "Epoch 8/10\n",
      "\u001b[1m1760/1760\u001b[0m \u001b[32m━━━━━━━━━━━━━━━━━━━━\u001b[0m\u001b[37m\u001b[0m \u001b[1m51s\u001b[0m 29ms/step - accuracy: 0.9338 - loss: 0.1876 - val_accuracy: 0.9270 - val_loss: 0.2296\n",
      "Epoch 9/10\n",
      "\u001b[1m1760/1760\u001b[0m \u001b[32m━━━━━━━━━━━━━━━━━━━━\u001b[0m\u001b[37m\u001b[0m \u001b[1m51s\u001b[0m 29ms/step - accuracy: 0.9334 - loss: 0.1870 - val_accuracy: 0.9278 - val_loss: 0.2237\n",
      "Epoch 10/10\n",
      "\u001b[1m1760/1760\u001b[0m \u001b[32m━━━━━━━━━━━━━━━━━━━━\u001b[0m\u001b[37m\u001b[0m \u001b[1m50s\u001b[0m 29ms/step - accuracy: 0.9351 - loss: 0.1831 - val_accuracy: 0.9258 - val_loss: 0.2256\n"
     ]
    },
    {
     "data": {
      "text/plain": [
       "<keras.src.callbacks.history.History at 0x15319f23850>"
      ]
     },
     "execution_count": 62,
     "metadata": {},
     "output_type": "execute_result"
    }
   ],
   "source": [
    "model_get_nbr.fit(\n",
    "    X_train_Nbr, \n",
    "    y_train_Nbr_2, \n",
    "    epochs=EPOCHS, \n",
    "    batch_size=128,\n",
    "    validation_data=(\n",
    "        X_validation_Nbr, \n",
    "        y_validation_Nbr_2\n",
    "    ),\n",
    "    verbose=1\n",
    ")\n",
    "\n",
    "# Batch 32\n",
    "# accuracy : 0.9325\n",
    "# loss : 0.1897\n",
    "# Temps : 6m 16.0s\n",
    "\n",
    "# Batch 64\n",
    "# accuracy : 0.9347\n",
    "# loss : 0.1844\n",
    "# Temps : 4m 16.6s\n",
    "\n",
    "# Batch 128\n",
    "# accuracy : 0.9343\n",
    "# loss : 0.1834\n",
    "# Temps : 1m 59.6s\n",
    "\n",
    "# Batch 256\n",
    "# accuracy : 0.9342\n",
    "# loss : 0.1825\n",
    "# Temps : 1m 16.2s"
   ]
  },
  {
   "cell_type": "code",
   "execution_count": 63,
   "id": "a6058305",
   "metadata": {},
   "outputs": [
    {
     "name": "stdout",
     "output_type": "stream",
     "text": [
      "\u001b[1m2345/2345\u001b[0m \u001b[32m━━━━━━━━━━━━━━━━━━━━\u001b[0m\u001b[37m\u001b[0m \u001b[1m6s\u001b[0m 2ms/step - accuracy: 0.9247 - loss: 0.2256\n",
      "Test accuracy : 0.9253299832344055\n",
      "Test loss : 0.22489826381206512\n"
     ]
    }
   ],
   "source": [
    "test_loss_nbr, test_acc_nbr = model_get_nbr.evaluate(X_test_Nbr, y_test_Nbr_2)\n",
    "print(f\"Test accuracy : {test_acc_nbr}\") # Test accuracy : \n",
    "print(f\"Test loss : {test_loss_nbr}\") # Test loss : \n",
    "# Temps : 3.0s"
   ]
  },
  {
   "cell_type": "code",
   "execution_count": 64,
   "id": "b656bfc0",
   "metadata": {},
   "outputs": [],
   "source": [
    "# Sauvegarder le modèle\n",
    "model_get_nbr.save(\"../models/Get_Nbr_v\" + ADD_NOM + \".keras\")  # Format keras (.keras)"
   ]
  },
  {
   "cell_type": "code",
   "execution_count": 65,
   "id": "28c6f4ea",
   "metadata": {},
   "outputs": [
    {
     "name": "stdout",
     "output_type": "stream",
     "text": [
      "\u001b[1m2345/2345\u001b[0m \u001b[32m━━━━━━━━━━━━━━━━━━━━\u001b[0m\u001b[37m\u001b[0m \u001b[1m5s\u001b[0m 2ms/step\n"
     ]
    },
    {
     "data": {
      "text/plain": [
       "array([0.9999852 , 0.00764219, 0.9718231 , 0.07599138, 0.63383675,\n",
       "       0.8662904 , 0.9781628 , 0.43026128, 0.9910955 , 0.99828786],\n",
       "      dtype=float32)"
      ]
     },
     "execution_count": 65,
     "metadata": {},
     "output_type": "execute_result"
    }
   ],
   "source": [
    "y_predicted_Nbr = model_get_nbr.predict(X_test_Nbr)\n",
    "y_predicted_Nbr[1]\n",
    "# Temps : 3.4s"
   ]
  },
  {
   "cell_type": "code",
   "execution_count": 66,
   "id": "65f5c4f6",
   "metadata": {},
   "outputs": [
    {
     "data": {
      "text/plain": [
       "[4, 0, 1, 5, 4]"
      ]
     },
     "execution_count": 66,
     "metadata": {},
     "output_type": "execute_result"
    }
   ],
   "source": [
    "# y_predicted_labels_Nbr = [correspondance_Nbr[np.argmax(i)] for i in y_predicted_Nbr]\n",
    "y_predicted_labels_Nbr = [np.argmax(i) for i in y_predicted_Nbr]\n",
    "y_predicted_labels_Nbr[:5]"
   ]
  },
  {
   "cell_type": "code",
   "execution_count": 67,
   "id": "438b306a",
   "metadata": {},
   "outputs": [
    {
     "data": {
      "text/plain": [
       "Text(95.72222222222221, 0.5, 'Truth')"
      ]
     },
     "execution_count": 67,
     "metadata": {},
     "output_type": "execute_result"
    },
    {
     "data": {
      "image/png": "[encoded data removed]",
      "text/plain": [
       "<Figure size 1000x700 with 2 Axes>"
      ]
     },
     "metadata": {},
     "output_type": "display_data"
    }
   ],
   "source": [
    "# Matrice de confusion\n",
    "cm_Nbr = tf.math.confusion_matrix(labels=y_test_Nbr_2, predictions=y_predicted_labels_Nbr)\n",
    "plt.figure(figsize=(10, 7))\n",
    "sns.heatmap(cm_Nbr, annot=True, fmt='d')\n",
    "plt.xlabel('Predicted')\n",
    "plt.ylabel('Truth')"
   ]
  }
 ],
 "metadata": {
  "kernelspec": {
   "display_name": "Scribio",
   "language": "python",
   "name": "python3"
  },
  "language_info": {
   "codemirror_mode": {
    "name": "ipython",
    "version": 3
   },
   "file_extension": ".py",
   "mimetype": "text/x-python",
   "name": "python",
   "nbconvert_exporter": "python",
   "pygments_lexer": "ipython3",
   "version": "3.11.4"
  }
 },
 "nbformat": 4,
 "nbformat_minor": 5
}
