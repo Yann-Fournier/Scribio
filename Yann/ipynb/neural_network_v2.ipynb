{
 "cells": [
  {
   "cell_type": "code",
   "execution_count": 1,
   "id": "initial_id",
   "metadata": {
    "ExecuteTime": {
     "end_time": "2024-12-02T15:39:15.743926Z",
     "start_time": "2024-12-02T15:39:15.736806Z"
    },
    "collapsed": true
   },
   "outputs": [],
   "source": [
    "import pandas as pd\n",
    "import numpy as np\n",
    "import seaborn as sns\n",
    "from tqdm import tqdm # progress bar\n",
    "import tensorflow as tf\n",
    "from tensorflow import keras\n",
    "import matplotlib.pyplot as plt\n",
    "from pymongo import MongoClient\n",
    "from sklearn.preprocessing import LabelEncoder"
   ]
  },
  {
   "cell_type": "code",
   "execution_count": 2,
   "id": "5fd3a22c",
   "metadata": {},
   "outputs": [],
   "source": [
    "LISTE_MAJ = [\"A\", \"B\", \"C\", \"D\", \"E\", \"F\", \"G\", \"H\", \"I\", \"J\", \"K\", \"L\", \"M\", \"N\", \"O\", \"P\", \"Q\", \"R\", \"S\", \"T\", \"U\", \"V\", \"W\", \"X\", \"Y\", \"Z\"]\n",
    "LISTE_MIN = [\"a\", \"b\", \"c\", \"d\", \"e\", \"f\", \"g\", \"h\", \"i\", \"j\", \"k\", \"l\", \"m\", \"n\", \"o\", \"p\", \"q\", \"r\", \"s\", \"t\", \"u\", \"v\", \"w\", \"x\", \"y\", \"z\"]\n",
    "LISTE_NBR = [\"0\", \"1\", \"2\", \"3\", \"4\", \"5\", \"6\", \"7\", \"8\", \"9\"]"
   ]
  },
  {
   "cell_type": "code",
   "execution_count": 3,
   "id": "80da29cf",
   "metadata": {},
   "outputs": [],
   "source": [
    "# shape of the image : 50x50\n",
    "# number of classes : 62\n",
    "# number of train images : 487_227\n",
    "# number of test images : 155_489\n",
    "# number of validation images : 155_686"
   ]
  },
  {
   "cell_type": "markdown",
   "id": "08306dfa",
   "metadata": {},
   "source": [
    "# Get Data\n",
    "---\n",
    "\n",
    "- Récupération des données de la base de données\n",
    "- formattage des données\n",
    "- répartition des données"
   ]
  },
  {
   "cell_type": "code",
   "execution_count": 4,
   "id": "ce99688d",
   "metadata": {},
   "outputs": [],
   "source": [
    "# Connexion à MongoDB\n",
    "client = MongoClient(\"mongodb://localhost:27017/Scibio\")  # Remplacez par l'URL de votre serveur MongoDB\n",
    "db = client[\"Scribio\"]  # Nom de la base de données\n",
    "collection = db[\"Dataset\"]  # Nom de la collection\n",
    "# Temps : 0.0s"
   ]
  },
  {
   "cell_type": "code",
   "execution_count": 5,
   "id": "5b44dd47",
   "metadata": {},
   "outputs": [],
   "source": [
    "def fetch_data(repartition: str, nbr: int):\n",
    "    query = {\"Repartition\": repartition}\n",
    "    documents = collection.find(query)\n",
    "    print(f\"fetch {repartition} OK !!!\")\n",
    "\n",
    "    images = []\n",
    "    labels = []\n",
    "    types = []\n",
    "    \n",
    "    # Parcours et transformation des photos avec barre de progression \n",
    "    with tqdm(total=nbr, desc=\"Proccessing\" , position=0, leave=True) as pbar:\n",
    "        for doc in documents:\n",
    "            images.append(np.array(doc[\"Tableau_Pixels\"], dtype=np.float32))\n",
    "            labels.append(doc[\"Label\"])\n",
    "            try:\n",
    "                types.append(doc[\"Type\"])\n",
    "            except:\n",
    "                if doc[\"Label\"] in LISTE_MAJ:\n",
    "                    types.append(\"Maj\")\n",
    "                elif doc[\"Label\"] in LISTE_MIN:\n",
    "                    types.append(\"Min\")\n",
    "                elif doc[\"Label\"] in LISTE_NBR:\n",
    "                    types.append(\"Nbr\")\n",
    "                else:\n",
    "                    types.append(\"Auc\")\n",
    "            pbar.update(1) # Mettre à jour la barre de progression\n",
    "            \n",
    "    # return np.array(images), np.array(labels, dtype=str)\n",
    "    return pd.DataFrame({\"Labels\": labels, \"Types\": types, \"Images\": images})"
   ]
  },
  {
   "cell_type": "code",
   "execution_count": 6,
   "id": "9ce9b881",
   "metadata": {},
   "outputs": [
    {
     "name": "stdout",
     "output_type": "stream",
     "text": [
      "fetch train OK !!!\n"
     ]
    },
    {
     "name": "stderr",
     "output_type": "stream",
     "text": [
      "Proccessing: 100%|██████████| 487227/487227 [04:37<00:00, 1756.60it/s]"
     ]
    },
    {
     "name": "stdout",
     "output_type": "stream",
     "text": [
      "(487227, 3)\n"
     ]
    },
    {
     "name": "stderr",
     "output_type": "stream",
     "text": [
      "\n"
     ]
    },
    {
     "data": {
      "text/html": [
       "<div>\n",
       "<style scoped>\n",
       "    .dataframe tbody tr th:only-of-type {\n",
       "        vertical-align: middle;\n",
       "    }\n",
       "\n",
       "    .dataframe tbody tr th {\n",
       "        vertical-align: top;\n",
       "    }\n",
       "\n",
       "    .dataframe thead th {\n",
       "        text-align: right;\n",
       "    }\n",
       "</style>\n",
       "<table border=\"1\" class=\"dataframe\">\n",
       "  <thead>\n",
       "    <tr style=\"text-align: right;\">\n",
       "      <th></th>\n",
       "      <th>Labels</th>\n",
       "      <th>Types</th>\n",
       "      <th>Images</th>\n",
       "    </tr>\n",
       "  </thead>\n",
       "  <tbody>\n",
       "    <tr>\n",
       "      <th>0</th>\n",
       "      <td>A</td>\n",
       "      <td>Maj</td>\n",
       "      <td>[0.0, 0.0, 0.0, 0.0, 0.0, 0.0, 0.0, 0.0, 0.0, ...</td>\n",
       "    </tr>\n",
       "    <tr>\n",
       "      <th>1</th>\n",
       "      <td>A</td>\n",
       "      <td>Maj</td>\n",
       "      <td>[0.0, 0.0, 0.0, 0.0, 0.0, 0.0, 0.0, 0.0, 0.0, ...</td>\n",
       "    </tr>\n",
       "    <tr>\n",
       "      <th>2</th>\n",
       "      <td>A</td>\n",
       "      <td>Maj</td>\n",
       "      <td>[0.0, 0.0, 0.0, 0.0, 0.0, 0.0, 0.0, 0.0, 0.0, ...</td>\n",
       "    </tr>\n",
       "    <tr>\n",
       "      <th>3</th>\n",
       "      <td>A</td>\n",
       "      <td>Maj</td>\n",
       "      <td>[0.0, 0.0, 0.0, 0.0, 0.0, 0.0, 0.0, 0.0, 0.0, ...</td>\n",
       "    </tr>\n",
       "    <tr>\n",
       "      <th>4</th>\n",
       "      <td>A</td>\n",
       "      <td>Maj</td>\n",
       "      <td>[0.0, 0.0, 0.0, 0.0, 0.0, 0.0, 0.0, 0.0, 0.0, ...</td>\n",
       "    </tr>\n",
       "  </tbody>\n",
       "</table>\n",
       "</div>"
      ],
      "text/plain": [
       "  Labels Types                                             Images\n",
       "0      A   Maj  [0.0, 0.0, 0.0, 0.0, 0.0, 0.0, 0.0, 0.0, 0.0, ...\n",
       "1      A   Maj  [0.0, 0.0, 0.0, 0.0, 0.0, 0.0, 0.0, 0.0, 0.0, ...\n",
       "2      A   Maj  [0.0, 0.0, 0.0, 0.0, 0.0, 0.0, 0.0, 0.0, 0.0, ...\n",
       "3      A   Maj  [0.0, 0.0, 0.0, 0.0, 0.0, 0.0, 0.0, 0.0, 0.0, ...\n",
       "4      A   Maj  [0.0, 0.0, 0.0, 0.0, 0.0, 0.0, 0.0, 0.0, 0.0, ..."
      ]
     },
     "execution_count": 6,
     "metadata": {},
     "output_type": "execute_result"
    }
   ],
   "source": [
    "# Recupération des données d'entrainement depuis la base de données\n",
    "df_train = fetch_data(\"train\", 487_227)\n",
    "print(df_train.shape) # (487_227, 3)\n",
    "df_train.head()\n",
    "# Temps : 5m 45.0s (en premier)"
   ]
  },
  {
   "cell_type": "code",
   "execution_count": 7,
   "id": "c5682029",
   "metadata": {},
   "outputs": [
    {
     "data": {
      "text/html": [
       "<div>\n",
       "<style scoped>\n",
       "    .dataframe tbody tr th:only-of-type {\n",
       "        vertical-align: middle;\n",
       "    }\n",
       "\n",
       "    .dataframe tbody tr th {\n",
       "        vertical-align: top;\n",
       "    }\n",
       "\n",
       "    .dataframe thead th {\n",
       "        text-align: right;\n",
       "    }\n",
       "</style>\n",
       "<table border=\"1\" class=\"dataframe\">\n",
       "  <thead>\n",
       "    <tr style=\"text-align: right;\">\n",
       "      <th></th>\n",
       "      <th>Labels</th>\n",
       "      <th>Types</th>\n",
       "      <th>Images</th>\n",
       "    </tr>\n",
       "  </thead>\n",
       "  <tbody>\n",
       "    <tr>\n",
       "      <th>0</th>\n",
       "      <td>4</td>\n",
       "      <td>Nbr</td>\n",
       "      <td>[0.0, 0.0, 0.0, 0.0, 0.0, 0.0, 0.0, 0.0, 0.0, ...</td>\n",
       "    </tr>\n",
       "    <tr>\n",
       "      <th>1</th>\n",
       "      <td>S</td>\n",
       "      <td>Maj</td>\n",
       "      <td>[0.0, 0.0, 0.0, 0.0, 0.0, 0.0, 0.0, 0.0, 0.0, ...</td>\n",
       "    </tr>\n",
       "    <tr>\n",
       "      <th>2</th>\n",
       "      <td>7</td>\n",
       "      <td>Nbr</td>\n",
       "      <td>[0.0, 0.0, 0.0, 0.0, 0.0, 0.0, 0.0, 0.0, 0.0, ...</td>\n",
       "    </tr>\n",
       "    <tr>\n",
       "      <th>3</th>\n",
       "      <td>O</td>\n",
       "      <td>Maj</td>\n",
       "      <td>[0.0, 0.0, 0.0, 0.0, 0.0, 0.0, 0.0, 0.0, 0.0, ...</td>\n",
       "    </tr>\n",
       "    <tr>\n",
       "      <th>4</th>\n",
       "      <td>Z</td>\n",
       "      <td>Maj</td>\n",
       "      <td>[0.0, 0.0, 0.0, 0.0, 0.0, 0.0, 0.0, 0.0, 0.0, ...</td>\n",
       "    </tr>\n",
       "  </tbody>\n",
       "</table>\n",
       "</div>"
      ],
      "text/plain": [
       "  Labels Types                                             Images\n",
       "0      4   Nbr  [0.0, 0.0, 0.0, 0.0, 0.0, 0.0, 0.0, 0.0, 0.0, ...\n",
       "1      S   Maj  [0.0, 0.0, 0.0, 0.0, 0.0, 0.0, 0.0, 0.0, 0.0, ...\n",
       "2      7   Nbr  [0.0, 0.0, 0.0, 0.0, 0.0, 0.0, 0.0, 0.0, 0.0, ...\n",
       "3      O   Maj  [0.0, 0.0, 0.0, 0.0, 0.0, 0.0, 0.0, 0.0, 0.0, ...\n",
       "4      Z   Maj  [0.0, 0.0, 0.0, 0.0, 0.0, 0.0, 0.0, 0.0, 0.0, ..."
      ]
     },
     "execution_count": 7,
     "metadata": {},
     "output_type": "execute_result"
    }
   ],
   "source": [
    "# Mélanger les données d'entrainement\n",
    "df_train = df_train.sample(frac=1).reset_index(drop=True)\n",
    "df_train.head()\n",
    "# Temps : 0.0s"
   ]
  },
  {
   "cell_type": "code",
   "execution_count": 8,
   "id": "6b2a0a9f",
   "metadata": {},
   "outputs": [
    {
     "name": "stdout",
     "output_type": "stream",
     "text": [
      "fetch test OK !!!\n"
     ]
    },
    {
     "name": "stderr",
     "output_type": "stream",
     "text": [
      "Proccessing: 100%|██████████| 155489/155489 [27:17<00:00, 94.95it/s]  "
     ]
    },
    {
     "name": "stdout",
     "output_type": "stream",
     "text": [
      "(155489, 3)\n"
     ]
    },
    {
     "name": "stderr",
     "output_type": "stream",
     "text": [
      "\n"
     ]
    },
    {
     "data": {
      "text/html": [
       "<div>\n",
       "<style scoped>\n",
       "    .dataframe tbody tr th:only-of-type {\n",
       "        vertical-align: middle;\n",
       "    }\n",
       "\n",
       "    .dataframe tbody tr th {\n",
       "        vertical-align: top;\n",
       "    }\n",
       "\n",
       "    .dataframe thead th {\n",
       "        text-align: right;\n",
       "    }\n",
       "</style>\n",
       "<table border=\"1\" class=\"dataframe\">\n",
       "  <thead>\n",
       "    <tr style=\"text-align: right;\">\n",
       "      <th></th>\n",
       "      <th>Labels</th>\n",
       "      <th>Types</th>\n",
       "      <th>Images</th>\n",
       "    </tr>\n",
       "  </thead>\n",
       "  <tbody>\n",
       "    <tr>\n",
       "      <th>0</th>\n",
       "      <td>A</td>\n",
       "      <td>Maj</td>\n",
       "      <td>[0.0, 0.0, 0.0, 0.0, 0.0, 0.0, 0.0, 0.0, 0.0, ...</td>\n",
       "    </tr>\n",
       "    <tr>\n",
       "      <th>1</th>\n",
       "      <td>A</td>\n",
       "      <td>Maj</td>\n",
       "      <td>[0.0, 0.0, 0.0, 0.0, 0.0, 0.0, 0.0, 0.0, 0.0, ...</td>\n",
       "    </tr>\n",
       "    <tr>\n",
       "      <th>2</th>\n",
       "      <td>A</td>\n",
       "      <td>Maj</td>\n",
       "      <td>[0.0, 0.0, 0.0, 0.0, 0.0, 0.0, 0.0, 0.0, 0.0, ...</td>\n",
       "    </tr>\n",
       "    <tr>\n",
       "      <th>3</th>\n",
       "      <td>A</td>\n",
       "      <td>Maj</td>\n",
       "      <td>[0.0, 0.0, 0.0, 0.0, 0.0, 0.0, 0.0, 0.0, 0.0, ...</td>\n",
       "    </tr>\n",
       "    <tr>\n",
       "      <th>4</th>\n",
       "      <td>A</td>\n",
       "      <td>Maj</td>\n",
       "      <td>[0.0, 0.0, 0.0, 0.0, 0.0, 0.0, 0.0, 0.0, 0.0, ...</td>\n",
       "    </tr>\n",
       "  </tbody>\n",
       "</table>\n",
       "</div>"
      ],
      "text/plain": [
       "  Labels Types                                             Images\n",
       "0      A   Maj  [0.0, 0.0, 0.0, 0.0, 0.0, 0.0, 0.0, 0.0, 0.0, ...\n",
       "1      A   Maj  [0.0, 0.0, 0.0, 0.0, 0.0, 0.0, 0.0, 0.0, 0.0, ...\n",
       "2      A   Maj  [0.0, 0.0, 0.0, 0.0, 0.0, 0.0, 0.0, 0.0, 0.0, ...\n",
       "3      A   Maj  [0.0, 0.0, 0.0, 0.0, 0.0, 0.0, 0.0, 0.0, 0.0, ...\n",
       "4      A   Maj  [0.0, 0.0, 0.0, 0.0, 0.0, 0.0, 0.0, 0.0, 0.0, ..."
      ]
     },
     "execution_count": 8,
     "metadata": {},
     "output_type": "execute_result"
    }
   ],
   "source": [
    "# Recupération des données de test depuis la base de données\n",
    "df_test = fetch_data(\"test\", 155_489)\n",
    "print(df_test.shape) # (155_489, 3)\n",
    "df_test.head()\n",
    "# Temps : 27min 17.5s (en deuxième)\n",
    "# Temps : 7m 14.4s (en premier)"
   ]
  },
  {
   "cell_type": "code",
   "execution_count": 9,
   "id": "6c263e55",
   "metadata": {},
   "outputs": [
    {
     "data": {
      "text/html": [
       "<div>\n",
       "<style scoped>\n",
       "    .dataframe tbody tr th:only-of-type {\n",
       "        vertical-align: middle;\n",
       "    }\n",
       "\n",
       "    .dataframe tbody tr th {\n",
       "        vertical-align: top;\n",
       "    }\n",
       "\n",
       "    .dataframe thead th {\n",
       "        text-align: right;\n",
       "    }\n",
       "</style>\n",
       "<table border=\"1\" class=\"dataframe\">\n",
       "  <thead>\n",
       "    <tr style=\"text-align: right;\">\n",
       "      <th></th>\n",
       "      <th>Labels</th>\n",
       "      <th>Types</th>\n",
       "      <th>Images</th>\n",
       "    </tr>\n",
       "  </thead>\n",
       "  <tbody>\n",
       "    <tr>\n",
       "      <th>0</th>\n",
       "      <td>8</td>\n",
       "      <td>Nbr</td>\n",
       "      <td>[0.0, 0.0, 0.0, 0.0, 0.0, 0.0, 0.0, 0.0, 0.0, ...</td>\n",
       "    </tr>\n",
       "    <tr>\n",
       "      <th>1</th>\n",
       "      <td>U</td>\n",
       "      <td>Maj</td>\n",
       "      <td>[0.0, 0.0, 0.0, 0.0, 0.0, 0.0, 0.0, 0.0, 0.0, ...</td>\n",
       "    </tr>\n",
       "    <tr>\n",
       "      <th>2</th>\n",
       "      <td>6</td>\n",
       "      <td>Nbr</td>\n",
       "      <td>[0.0, 0.0, 0.0, 0.0, 0.0, 0.0, 0.0, 0.0, 0.0, ...</td>\n",
       "    </tr>\n",
       "    <tr>\n",
       "      <th>3</th>\n",
       "      <td>X</td>\n",
       "      <td>Maj</td>\n",
       "      <td>[0.0, 0.0, 0.0, 0.0, 0.0, 0.0, 0.0, 0.0, 0.0, ...</td>\n",
       "    </tr>\n",
       "    <tr>\n",
       "      <th>4</th>\n",
       "      <td>a</td>\n",
       "      <td>Min</td>\n",
       "      <td>[0.0, 0.0, 0.0, 0.0, 0.0, 0.0, 0.0, 0.0, 0.0, ...</td>\n",
       "    </tr>\n",
       "  </tbody>\n",
       "</table>\n",
       "</div>"
      ],
      "text/plain": [
       "  Labels Types                                             Images\n",
       "0      8   Nbr  [0.0, 0.0, 0.0, 0.0, 0.0, 0.0, 0.0, 0.0, 0.0, ...\n",
       "1      U   Maj  [0.0, 0.0, 0.0, 0.0, 0.0, 0.0, 0.0, 0.0, 0.0, ...\n",
       "2      6   Nbr  [0.0, 0.0, 0.0, 0.0, 0.0, 0.0, 0.0, 0.0, 0.0, ...\n",
       "3      X   Maj  [0.0, 0.0, 0.0, 0.0, 0.0, 0.0, 0.0, 0.0, 0.0, ...\n",
       "4      a   Min  [0.0, 0.0, 0.0, 0.0, 0.0, 0.0, 0.0, 0.0, 0.0, ..."
      ]
     },
     "execution_count": 9,
     "metadata": {},
     "output_type": "execute_result"
    }
   ],
   "source": [
    "# Mélanger les données de test\n",
    "df_test = df_test.sample(frac=1).reset_index(drop=True)\n",
    "df_test.head()\n",
    "# Temps : "
   ]
  },
  {
   "cell_type": "code",
   "execution_count": 10,
   "id": "b6bce6c7",
   "metadata": {},
   "outputs": [
    {
     "name": "stdout",
     "output_type": "stream",
     "text": [
      "fetch validation OK !!!\n"
     ]
    },
    {
     "name": "stderr",
     "output_type": "stream",
     "text": [
      "Proccessing: 100%|██████████| 155686/155686 [53:13<00:00, 48.75it/s]  "
     ]
    },
    {
     "name": "stdout",
     "output_type": "stream",
     "text": [
      "(155686, 3)\n"
     ]
    },
    {
     "name": "stderr",
     "output_type": "stream",
     "text": [
      "\n"
     ]
    },
    {
     "data": {
      "text/html": [
       "<div>\n",
       "<style scoped>\n",
       "    .dataframe tbody tr th:only-of-type {\n",
       "        vertical-align: middle;\n",
       "    }\n",
       "\n",
       "    .dataframe tbody tr th {\n",
       "        vertical-align: top;\n",
       "    }\n",
       "\n",
       "    .dataframe thead th {\n",
       "        text-align: right;\n",
       "    }\n",
       "</style>\n",
       "<table border=\"1\" class=\"dataframe\">\n",
       "  <thead>\n",
       "    <tr style=\"text-align: right;\">\n",
       "      <th></th>\n",
       "      <th>Labels</th>\n",
       "      <th>Types</th>\n",
       "      <th>Images</th>\n",
       "    </tr>\n",
       "  </thead>\n",
       "  <tbody>\n",
       "    <tr>\n",
       "      <th>0</th>\n",
       "      <td>A</td>\n",
       "      <td>Maj</td>\n",
       "      <td>[0.0, 0.0, 0.0, 0.0, 0.0, 0.0, 0.0, 0.0, 0.0, ...</td>\n",
       "    </tr>\n",
       "    <tr>\n",
       "      <th>1</th>\n",
       "      <td>A</td>\n",
       "      <td>Maj</td>\n",
       "      <td>[0.0, 0.0, 0.0, 0.0, 0.0, 0.0, 0.0, 0.0, 0.0, ...</td>\n",
       "    </tr>\n",
       "    <tr>\n",
       "      <th>2</th>\n",
       "      <td>A</td>\n",
       "      <td>Maj</td>\n",
       "      <td>[0.0, 0.0, 0.0, 0.0, 0.0, 0.0, 0.0, 0.0, 0.0, ...</td>\n",
       "    </tr>\n",
       "    <tr>\n",
       "      <th>3</th>\n",
       "      <td>A</td>\n",
       "      <td>Maj</td>\n",
       "      <td>[0.0, 0.0, 0.0, 0.0, 0.0, 0.0, 0.0, 0.0, 0.0, ...</td>\n",
       "    </tr>\n",
       "    <tr>\n",
       "      <th>4</th>\n",
       "      <td>A</td>\n",
       "      <td>Maj</td>\n",
       "      <td>[0.0, 0.0, 0.0, 0.0, 0.0, 0.0, 0.0, 0.0, 0.0, ...</td>\n",
       "    </tr>\n",
       "  </tbody>\n",
       "</table>\n",
       "</div>"
      ],
      "text/plain": [
       "  Labels Types                                             Images\n",
       "0      A   Maj  [0.0, 0.0, 0.0, 0.0, 0.0, 0.0, 0.0, 0.0, 0.0, ...\n",
       "1      A   Maj  [0.0, 0.0, 0.0, 0.0, 0.0, 0.0, 0.0, 0.0, 0.0, ...\n",
       "2      A   Maj  [0.0, 0.0, 0.0, 0.0, 0.0, 0.0, 0.0, 0.0, 0.0, ...\n",
       "3      A   Maj  [0.0, 0.0, 0.0, 0.0, 0.0, 0.0, 0.0, 0.0, 0.0, ...\n",
       "4      A   Maj  [0.0, 0.0, 0.0, 0.0, 0.0, 0.0, 0.0, 0.0, 0.0, ..."
      ]
     },
     "execution_count": 10,
     "metadata": {},
     "output_type": "execute_result"
    }
   ],
   "source": [
    "# Recupération des données de validation depuis la base de données\n",
    "df_validation = fetch_data(\"validation\", 155_686)\n",
    "print(df_validation.shape) # (, 3)\n",
    "df_validation.head()\n",
    "# Temps : 45m 59.1s (en troisème)"
   ]
  },
  {
   "cell_type": "markdown",
   "id": "861ca775",
   "metadata": {},
   "source": [
    "# "
   ]
  },
  {
   "cell_type": "code",
   "execution_count": 11,
   "id": "f2aed575",
   "metadata": {},
   "outputs": [
    {
     "data": {
      "text/html": [
       "<div>\n",
       "<style scoped>\n",
       "    .dataframe tbody tr th:only-of-type {\n",
       "        vertical-align: middle;\n",
       "    }\n",
       "\n",
       "    .dataframe tbody tr th {\n",
       "        vertical-align: top;\n",
       "    }\n",
       "\n",
       "    .dataframe thead th {\n",
       "        text-align: right;\n",
       "    }\n",
       "</style>\n",
       "<table border=\"1\" class=\"dataframe\">\n",
       "  <thead>\n",
       "    <tr style=\"text-align: right;\">\n",
       "      <th></th>\n",
       "      <th>Labels</th>\n",
       "      <th>Types</th>\n",
       "      <th>Images</th>\n",
       "    </tr>\n",
       "  </thead>\n",
       "  <tbody>\n",
       "    <tr>\n",
       "      <th>0</th>\n",
       "      <td>7</td>\n",
       "      <td>Nbr</td>\n",
       "      <td>[0.0, 0.0, 0.0, 0.0, 0.0, 0.0, 0.0, 0.0, 0.0, ...</td>\n",
       "    </tr>\n",
       "    <tr>\n",
       "      <th>1</th>\n",
       "      <td>N</td>\n",
       "      <td>Maj</td>\n",
       "      <td>[0.0, 0.0, 0.0, 0.0, 0.0, 0.0, 0.0, 0.0, 0.0, ...</td>\n",
       "    </tr>\n",
       "    <tr>\n",
       "      <th>2</th>\n",
       "      <td>R</td>\n",
       "      <td>Maj</td>\n",
       "      <td>[0.0, 0.0, 0.0, 0.0, 0.0, 0.0, 0.0, 0.0, 0.0, ...</td>\n",
       "    </tr>\n",
       "    <tr>\n",
       "      <th>3</th>\n",
       "      <td>n</td>\n",
       "      <td>Min</td>\n",
       "      <td>[0.0, 0.0, 0.0, 0.0, 0.0, 0.0, 0.0, 0.0, 0.0, ...</td>\n",
       "    </tr>\n",
       "    <tr>\n",
       "      <th>4</th>\n",
       "      <td>7</td>\n",
       "      <td>Nbr</td>\n",
       "      <td>[0.0, 0.0, 0.0, 0.0, 0.0, 0.0, 0.0, 0.0, 0.0, ...</td>\n",
       "    </tr>\n",
       "  </tbody>\n",
       "</table>\n",
       "</div>"
      ],
      "text/plain": [
       "  Labels Types                                             Images\n",
       "0      7   Nbr  [0.0, 0.0, 0.0, 0.0, 0.0, 0.0, 0.0, 0.0, 0.0, ...\n",
       "1      N   Maj  [0.0, 0.0, 0.0, 0.0, 0.0, 0.0, 0.0, 0.0, 0.0, ...\n",
       "2      R   Maj  [0.0, 0.0, 0.0, 0.0, 0.0, 0.0, 0.0, 0.0, 0.0, ...\n",
       "3      n   Min  [0.0, 0.0, 0.0, 0.0, 0.0, 0.0, 0.0, 0.0, 0.0, ...\n",
       "4      7   Nbr  [0.0, 0.0, 0.0, 0.0, 0.0, 0.0, 0.0, 0.0, 0.0, ..."
      ]
     },
     "execution_count": 11,
     "metadata": {},
     "output_type": "execute_result"
    }
   ],
   "source": [
    "# Mélanger les données d'entrainement\n",
    "df_validation = df_validation.sample(frac=1).reset_index(drop=True)\n",
    "df_validation.head()\n",
    "# Temps : 0.0s"
   ]
  },
  {
   "cell_type": "markdown",
   "id": "c28800fd",
   "metadata": {},
   "source": [
    "### Données pour apprentissage du NN 'Get type'\n",
    "---\n",
    "\n",
    "Préparation des données pour l'entrainement du réseau de neurones 'Get type' qui permettra de classé les images selon trois catégories :\n",
    "\n",
    "- Majuscule\n",
    "- Minuscule\n",
    "- Nombre"
   ]
  },
  {
   "cell_type": "code",
   "execution_count": 12,
   "id": "200cea53",
   "metadata": {},
   "outputs": [],
   "source": [
    "X_train_types = np.array(df_train[\"Images\"].tolist())\n",
    "y_train_types = np.array(df_train[\"Types\"].tolist())\n",
    "X_test_types = np.array(df_test[\"Images\"].tolist())\n",
    "y_test_types = np.array(df_test[\"Types\"].tolist())\n",
    "X_validation_types = np.array(df_validation[\"Images\"].tolist())\n",
    "y_validation_types = np.array(df_validation[\"Types\"].tolist())\n",
    "# Temps : 11.8s"
   ]
  },
  {
   "cell_type": "code",
   "execution_count": 13,
   "id": "ddcc8e36",
   "metadata": {},
   "outputs": [],
   "source": [
    "# Conversion des étiquettes en indices (si nécessaire)\n",
    "label_encoder_types = LabelEncoder()\n",
    "\n",
    "y_train_types_2 = label_encoder_types.fit_transform(y_train_types)  # Convertit les étiquettes (lettres/nombres) en indices numériques (nombre) (str => int)\n",
    "y_test_types_2 = label_encoder_types.transform(y_test_types)\n",
    "y_validation_types_2 = label_encoder_types.transform(y_validation_types)"
   ]
  },
  {
   "cell_type": "code",
   "execution_count": 14,
   "id": "66a402ce",
   "metadata": {},
   "outputs": [
    {
     "name": "stdout",
     "output_type": "stream",
     "text": [
      "{0: 'Maj', 1: 'Min', 2: 'Nbr'}\n",
      "['Maj', 'Min', 'Nbr']\n"
     ]
    }
   ],
   "source": [
    "# Correspondance indices ↔ labels\n",
    "correspondance_types = dict(enumerate(label_encoder_types.classes_))\n",
    "print(correspondance_types)\n",
    "\n",
    "# Liste des labels\n",
    "labels_types = list(correspondance_types.values())\n",
    "print(labels_types)"
   ]
  },
  {
   "cell_type": "code",
   "execution_count": 15,
   "id": "9a12ce56",
   "metadata": {},
   "outputs": [
    {
     "name": "stdout",
     "output_type": "stream",
     "text": [
      "Taille de X_train_types: (487227, 2500), y_train_types: (487227,), y_train_types_2: (487227,)\n",
      "Taille de X_test_types: (155489, 2500), y_test_types: (155489,), y_test_types_2: (155489,)\n",
      "Taille de X_validation_types: (155686, 2500), y_validation_types: (155686,), y_validation_types_2: (155686,)\n"
     ]
    }
   ],
   "source": [
    "# Afficher quelques informations\n",
    "print(f\"Taille de X_train_types: {X_train_types.shape}, y_train_types: {y_train_types.shape}, y_train_types_2: {y_train_types_2.shape}\")\n",
    "print(f\"Taille de X_test_types: {X_test_types.shape}, y_test_types: {y_test_types.shape}, y_test_types_2: {y_test_types_2.shape}\")\n",
    "print(f\"Taille de X_validation_types: {X_validation_types.shape}, y_validation_types: {y_validation_types.shape}, y_validation_types_2: {y_validation_types_2.shape}\")"
   ]
  },
  {
   "cell_type": "markdown",
   "id": "be27b6f5",
   "metadata": {},
   "source": [
    "### Données pour apprentissage du NN 'Get Maj'\n",
    "---\n",
    "\n",
    "Préparation des données pour l'entrainement du réseau de neurones 'Get Maj' qui permettra de classé les images selon la lettre majuscule qui y est representée."
   ]
  },
  {
   "cell_type": "code",
   "execution_count": 16,
   "id": "171b0576",
   "metadata": {},
   "outputs": [
    {
     "name": "stdout",
     "output_type": "stream",
     "text": [
      "(150341, 3)\n"
     ]
    },
    {
     "data": {
      "text/html": [
       "<div>\n",
       "<style scoped>\n",
       "    .dataframe tbody tr th:only-of-type {\n",
       "        vertical-align: middle;\n",
       "    }\n",
       "\n",
       "    .dataframe tbody tr th {\n",
       "        vertical-align: top;\n",
       "    }\n",
       "\n",
       "    .dataframe thead th {\n",
       "        text-align: right;\n",
       "    }\n",
       "</style>\n",
       "<table border=\"1\" class=\"dataframe\">\n",
       "  <thead>\n",
       "    <tr style=\"text-align: right;\">\n",
       "      <th></th>\n",
       "      <th>Labels</th>\n",
       "      <th>Types</th>\n",
       "      <th>Images</th>\n",
       "    </tr>\n",
       "  </thead>\n",
       "  <tbody>\n",
       "    <tr>\n",
       "      <th>1</th>\n",
       "      <td>S</td>\n",
       "      <td>Maj</td>\n",
       "      <td>[0.0, 0.0, 0.0, 0.0, 0.0, 0.0, 0.0, 0.0, 0.0, ...</td>\n",
       "    </tr>\n",
       "    <tr>\n",
       "      <th>3</th>\n",
       "      <td>O</td>\n",
       "      <td>Maj</td>\n",
       "      <td>[0.0, 0.0, 0.0, 0.0, 0.0, 0.0, 0.0, 0.0, 0.0, ...</td>\n",
       "    </tr>\n",
       "    <tr>\n",
       "      <th>4</th>\n",
       "      <td>Z</td>\n",
       "      <td>Maj</td>\n",
       "      <td>[0.0, 0.0, 0.0, 0.0, 0.0, 0.0, 0.0, 0.0, 0.0, ...</td>\n",
       "    </tr>\n",
       "    <tr>\n",
       "      <th>5</th>\n",
       "      <td>F</td>\n",
       "      <td>Maj</td>\n",
       "      <td>[0.0, 0.0, 0.0, 0.0, 0.0, 0.0, 0.0, 0.0, 0.0, ...</td>\n",
       "    </tr>\n",
       "    <tr>\n",
       "      <th>6</th>\n",
       "      <td>S</td>\n",
       "      <td>Maj</td>\n",
       "      <td>[0.0, 0.0, 0.0, 0.0, 0.0, 0.0, 0.0, 0.0, 0.0, ...</td>\n",
       "    </tr>\n",
       "  </tbody>\n",
       "</table>\n",
       "</div>"
      ],
      "text/plain": [
       "  Labels Types                                             Images\n",
       "1      S   Maj  [0.0, 0.0, 0.0, 0.0, 0.0, 0.0, 0.0, 0.0, 0.0, ...\n",
       "3      O   Maj  [0.0, 0.0, 0.0, 0.0, 0.0, 0.0, 0.0, 0.0, 0.0, ...\n",
       "4      Z   Maj  [0.0, 0.0, 0.0, 0.0, 0.0, 0.0, 0.0, 0.0, 0.0, ...\n",
       "5      F   Maj  [0.0, 0.0, 0.0, 0.0, 0.0, 0.0, 0.0, 0.0, 0.0, ...\n",
       "6      S   Maj  [0.0, 0.0, 0.0, 0.0, 0.0, 0.0, 0.0, 0.0, 0.0, ..."
      ]
     },
     "execution_count": 16,
     "metadata": {},
     "output_type": "execute_result"
    }
   ],
   "source": [
    "df_train_Maj = df_train[df_train[\"Types\"] == \"Maj\"]\n",
    "print(df_train_Maj.shape) # (, 3)\n",
    "df_train_Maj.head()\n",
    "# Temps : "
   ]
  },
  {
   "cell_type": "code",
   "execution_count": 17,
   "id": "be8888d9",
   "metadata": {},
   "outputs": [
    {
     "name": "stdout",
     "output_type": "stream",
     "text": [
      "(43121, 3)\n"
     ]
    },
    {
     "data": {
      "text/html": [
       "<div>\n",
       "<style scoped>\n",
       "    .dataframe tbody tr th:only-of-type {\n",
       "        vertical-align: middle;\n",
       "    }\n",
       "\n",
       "    .dataframe tbody tr th {\n",
       "        vertical-align: top;\n",
       "    }\n",
       "\n",
       "    .dataframe thead th {\n",
       "        text-align: right;\n",
       "    }\n",
       "</style>\n",
       "<table border=\"1\" class=\"dataframe\">\n",
       "  <thead>\n",
       "    <tr style=\"text-align: right;\">\n",
       "      <th></th>\n",
       "      <th>Labels</th>\n",
       "      <th>Types</th>\n",
       "      <th>Images</th>\n",
       "    </tr>\n",
       "  </thead>\n",
       "  <tbody>\n",
       "    <tr>\n",
       "      <th>1</th>\n",
       "      <td>U</td>\n",
       "      <td>Maj</td>\n",
       "      <td>[0.0, 0.0, 0.0, 0.0, 0.0, 0.0, 0.0, 0.0, 0.0, ...</td>\n",
       "    </tr>\n",
       "    <tr>\n",
       "      <th>3</th>\n",
       "      <td>X</td>\n",
       "      <td>Maj</td>\n",
       "      <td>[0.0, 0.0, 0.0, 0.0, 0.0, 0.0, 0.0, 0.0, 0.0, ...</td>\n",
       "    </tr>\n",
       "    <tr>\n",
       "      <th>5</th>\n",
       "      <td>P</td>\n",
       "      <td>Maj</td>\n",
       "      <td>[0.0, 0.0, 0.0, 0.0, 0.0, 0.0, 0.0, 0.0, 0.0, ...</td>\n",
       "    </tr>\n",
       "    <tr>\n",
       "      <th>11</th>\n",
       "      <td>E</td>\n",
       "      <td>Maj</td>\n",
       "      <td>[0.0, 0.0, 0.0, 0.0, 0.0, 0.0, 0.0, 0.0, 0.0, ...</td>\n",
       "    </tr>\n",
       "    <tr>\n",
       "      <th>12</th>\n",
       "      <td>S</td>\n",
       "      <td>Maj</td>\n",
       "      <td>[0.0, 0.0, 0.0, 0.0, 0.0, 0.0, 0.0, 0.0, 0.0, ...</td>\n",
       "    </tr>\n",
       "  </tbody>\n",
       "</table>\n",
       "</div>"
      ],
      "text/plain": [
       "   Labels Types                                             Images\n",
       "1       U   Maj  [0.0, 0.0, 0.0, 0.0, 0.0, 0.0, 0.0, 0.0, 0.0, ...\n",
       "3       X   Maj  [0.0, 0.0, 0.0, 0.0, 0.0, 0.0, 0.0, 0.0, 0.0, ...\n",
       "5       P   Maj  [0.0, 0.0, 0.0, 0.0, 0.0, 0.0, 0.0, 0.0, 0.0, ...\n",
       "11      E   Maj  [0.0, 0.0, 0.0, 0.0, 0.0, 0.0, 0.0, 0.0, 0.0, ...\n",
       "12      S   Maj  [0.0, 0.0, 0.0, 0.0, 0.0, 0.0, 0.0, 0.0, 0.0, ..."
      ]
     },
     "execution_count": 17,
     "metadata": {},
     "output_type": "execute_result"
    }
   ],
   "source": [
    "df_test_Maj = df_test[df_test[\"Types\"] == \"Maj\"]\n",
    "print(df_test_Maj.shape) # (, 3)\n",
    "df_test_Maj.head()\n",
    "# Temps :"
   ]
  },
  {
   "cell_type": "code",
   "execution_count": 18,
   "id": "ccd812ea",
   "metadata": {},
   "outputs": [
    {
     "name": "stdout",
     "output_type": "stream",
     "text": [
      "(43250, 3)\n"
     ]
    },
    {
     "data": {
      "text/html": [
       "<div>\n",
       "<style scoped>\n",
       "    .dataframe tbody tr th:only-of-type {\n",
       "        vertical-align: middle;\n",
       "    }\n",
       "\n",
       "    .dataframe tbody tr th {\n",
       "        vertical-align: top;\n",
       "    }\n",
       "\n",
       "    .dataframe thead th {\n",
       "        text-align: right;\n",
       "    }\n",
       "</style>\n",
       "<table border=\"1\" class=\"dataframe\">\n",
       "  <thead>\n",
       "    <tr style=\"text-align: right;\">\n",
       "      <th></th>\n",
       "      <th>Labels</th>\n",
       "      <th>Types</th>\n",
       "      <th>Images</th>\n",
       "    </tr>\n",
       "  </thead>\n",
       "  <tbody>\n",
       "    <tr>\n",
       "      <th>1</th>\n",
       "      <td>N</td>\n",
       "      <td>Maj</td>\n",
       "      <td>[0.0, 0.0, 0.0, 0.0, 0.0, 0.0, 0.0, 0.0, 0.0, ...</td>\n",
       "    </tr>\n",
       "    <tr>\n",
       "      <th>2</th>\n",
       "      <td>R</td>\n",
       "      <td>Maj</td>\n",
       "      <td>[0.0, 0.0, 0.0, 0.0, 0.0, 0.0, 0.0, 0.0, 0.0, ...</td>\n",
       "    </tr>\n",
       "    <tr>\n",
       "      <th>10</th>\n",
       "      <td>P</td>\n",
       "      <td>Maj</td>\n",
       "      <td>[0.0, 0.0, 0.0, 0.0, 0.0, 0.0, 0.0, 0.0, 0.0, ...</td>\n",
       "    </tr>\n",
       "    <tr>\n",
       "      <th>18</th>\n",
       "      <td>G</td>\n",
       "      <td>Maj</td>\n",
       "      <td>[0.0, 0.0, 0.0, 0.0, 0.0, 0.0, 0.0, 0.0, 0.0, ...</td>\n",
       "    </tr>\n",
       "    <tr>\n",
       "      <th>19</th>\n",
       "      <td>R</td>\n",
       "      <td>Maj</td>\n",
       "      <td>[0.0, 0.0, 0.0, 0.0, 0.0, 0.0, 0.0, 0.0, 0.0, ...</td>\n",
       "    </tr>\n",
       "  </tbody>\n",
       "</table>\n",
       "</div>"
      ],
      "text/plain": [
       "   Labels Types                                             Images\n",
       "1       N   Maj  [0.0, 0.0, 0.0, 0.0, 0.0, 0.0, 0.0, 0.0, 0.0, ...\n",
       "2       R   Maj  [0.0, 0.0, 0.0, 0.0, 0.0, 0.0, 0.0, 0.0, 0.0, ...\n",
       "10      P   Maj  [0.0, 0.0, 0.0, 0.0, 0.0, 0.0, 0.0, 0.0, 0.0, ...\n",
       "18      G   Maj  [0.0, 0.0, 0.0, 0.0, 0.0, 0.0, 0.0, 0.0, 0.0, ...\n",
       "19      R   Maj  [0.0, 0.0, 0.0, 0.0, 0.0, 0.0, 0.0, 0.0, 0.0, ..."
      ]
     },
     "execution_count": 18,
     "metadata": {},
     "output_type": "execute_result"
    }
   ],
   "source": [
    "df_validation_Maj = df_validation[df_validation[\"Types\"] == \"Maj\"]\n",
    "print(df_validation_Maj.shape) # (, 3)\n",
    "df_validation_Maj.head()\n",
    "# Temps :"
   ]
  },
  {
   "cell_type": "code",
   "execution_count": 19,
   "id": "5c1ecfd6",
   "metadata": {},
   "outputs": [],
   "source": [
    "X_train_Maj = np.array(df_train_Maj[\"Images\"].tolist())\n",
    "y_train_Maj = np.array(df_train_Maj[\"Labels\"].tolist())\n",
    "X_test_Maj = np.array(df_test_Maj[\"Images\"].tolist())\n",
    "y_test_Maj = np.array(df_test_Maj[\"Labels\"].tolist())\n",
    "X_validation_Maj = np.array(df_validation_Maj[\"Images\"].tolist())\n",
    "y_validation_Maj = np.array(df_validation_Maj[\"Labels\"].tolist())\n",
    "# Temps : "
   ]
  },
  {
   "cell_type": "code",
   "execution_count": 20,
   "id": "c2e1cacf",
   "metadata": {},
   "outputs": [],
   "source": [
    "# Conversion des étiquettes en indices (si nécessaire)\n",
    "label_encoder_Maj = LabelEncoder()\n",
    "\n",
    "y_train_Maj_2 = label_encoder_Maj.fit_transform(y_train_Maj)  # Convertit les étiquettes (lettres/nombres) en indices numériques (nombre) (str => int)\n",
    "y_test_Maj_2 = label_encoder_Maj.transform(y_test_Maj)\n",
    "y_validation_Maj_2 = label_encoder_Maj.transform(y_validation_Maj)"
   ]
  },
  {
   "cell_type": "code",
   "execution_count": 21,
   "id": "a37d93b6",
   "metadata": {},
   "outputs": [
    {
     "name": "stdout",
     "output_type": "stream",
     "text": [
      "{0: 'A', 1: 'B', 2: 'C', 3: 'D', 4: 'E', 5: 'F', 6: 'G', 7: 'H', 8: 'I', 9: 'J', 10: 'K', 11: 'L', 12: 'M', 13: 'N', 14: 'O', 15: 'P', 16: 'Q', 17: 'R', 18: 'S', 19: 'T', 20: 'U', 21: 'V', 22: 'W', 23: 'X', 24: 'Y', 25: 'Z'}\n",
      "['A', 'B', 'C', 'D', 'E', 'F', 'G', 'H', 'I', 'J', 'K', 'L', 'M', 'N', 'O', 'P', 'Q', 'R', 'S', 'T', 'U', 'V', 'W', 'X', 'Y', 'Z']\n"
     ]
    }
   ],
   "source": [
    "# Correspondance indices ↔ labels\n",
    "correspondance_Maj = dict(enumerate(label_encoder_Maj.classes_))\n",
    "print(correspondance_Maj)\n",
    "\n",
    "# Liste des labels\n",
    "labels_Maj = list(correspondance_Maj.values())\n",
    "print(labels_Maj)"
   ]
  },
  {
   "cell_type": "code",
   "execution_count": 22,
   "id": "5c70f00b",
   "metadata": {},
   "outputs": [
    {
     "name": "stdout",
     "output_type": "stream",
     "text": [
      "Taille de X_train_Maj: (150341, 2500), y_train_Maj: (150341,), y_train_Maj_2: (150341,)\n",
      "Taille de X_test_Maj: (43121, 2500), y_test_Maj: (43121,), y_test_Maj_2: (43121,)\n",
      "Taille de X_validation_Maj: (43250, 2500), y_validation_Maj: (43250,), y_validation_Maj_2: (43250,)\n"
     ]
    }
   ],
   "source": [
    "# Afficher quelques informations\n",
    "print(f\"Taille de X_train_Maj: {X_train_Maj.shape}, y_train_Maj: {y_train_Maj.shape}, y_train_Maj_2: {y_train_Maj_2.shape}\")\n",
    "print(f\"Taille de X_test_Maj: {X_test_Maj.shape}, y_test_Maj: {y_test_Maj.shape}, y_test_Maj_2: {y_test_Maj_2.shape}\")\n",
    "print(f\"Taille de X_validation_Maj: {X_validation_Maj.shape}, y_validation_Maj: {y_validation_Maj.shape}, y_validation_Maj_2: {y_validation_Maj_2.shape}\")"
   ]
  },
  {
   "cell_type": "markdown",
   "id": "b1b4df28",
   "metadata": {},
   "source": [
    "### Données pour apprentissage du NN 'Get Min'\n",
    "---\n",
    "\n",
    "Préparation des données pour l'entrainement du réseau de neurones 'Get Min' qui permettra de classé les images selon la lettre minuscule qui y est representée."
   ]
  },
  {
   "cell_type": "code",
   "execution_count": 23,
   "id": "4b625cb5",
   "metadata": {},
   "outputs": [
    {
     "name": "stdout",
     "output_type": "stream",
     "text": [
      "(111713, 3)\n"
     ]
    },
    {
     "data": {
      "text/html": [
       "<div>\n",
       "<style scoped>\n",
       "    .dataframe tbody tr th:only-of-type {\n",
       "        vertical-align: middle;\n",
       "    }\n",
       "\n",
       "    .dataframe tbody tr th {\n",
       "        vertical-align: top;\n",
       "    }\n",
       "\n",
       "    .dataframe thead th {\n",
       "        text-align: right;\n",
       "    }\n",
       "</style>\n",
       "<table border=\"1\" class=\"dataframe\">\n",
       "  <thead>\n",
       "    <tr style=\"text-align: right;\">\n",
       "      <th></th>\n",
       "      <th>Labels</th>\n",
       "      <th>Types</th>\n",
       "      <th>Images</th>\n",
       "    </tr>\n",
       "  </thead>\n",
       "  <tbody>\n",
       "    <tr>\n",
       "      <th>8</th>\n",
       "      <td>b</td>\n",
       "      <td>Min</td>\n",
       "      <td>[0.0, 0.0, 0.0, 0.0, 0.0, 0.0, 0.0, 0.0, 0.0, ...</td>\n",
       "    </tr>\n",
       "    <tr>\n",
       "      <th>15</th>\n",
       "      <td>d</td>\n",
       "      <td>Min</td>\n",
       "      <td>[0.0, 0.0, 0.0, 0.0, 0.0, 0.0, 0.0, 0.0, 0.0, ...</td>\n",
       "    </tr>\n",
       "    <tr>\n",
       "      <th>19</th>\n",
       "      <td>t</td>\n",
       "      <td>Min</td>\n",
       "      <td>[0.0, 0.0, 0.0, 0.0, 0.0, 0.0, 0.0, 0.0, 0.0, ...</td>\n",
       "    </tr>\n",
       "    <tr>\n",
       "      <th>24</th>\n",
       "      <td>d</td>\n",
       "      <td>Min</td>\n",
       "      <td>[0.0, 0.0, 0.0, 0.0, 0.0, 0.0, 0.0, 0.0, 0.0, ...</td>\n",
       "    </tr>\n",
       "    <tr>\n",
       "      <th>29</th>\n",
       "      <td>b</td>\n",
       "      <td>Min</td>\n",
       "      <td>[0.0, 0.0, 0.0, 0.0, 0.0, 0.0, 0.0, 0.0, 0.0, ...</td>\n",
       "    </tr>\n",
       "  </tbody>\n",
       "</table>\n",
       "</div>"
      ],
      "text/plain": [
       "   Labels Types                                             Images\n",
       "8       b   Min  [0.0, 0.0, 0.0, 0.0, 0.0, 0.0, 0.0, 0.0, 0.0, ...\n",
       "15      d   Min  [0.0, 0.0, 0.0, 0.0, 0.0, 0.0, 0.0, 0.0, 0.0, ...\n",
       "19      t   Min  [0.0, 0.0, 0.0, 0.0, 0.0, 0.0, 0.0, 0.0, 0.0, ...\n",
       "24      d   Min  [0.0, 0.0, 0.0, 0.0, 0.0, 0.0, 0.0, 0.0, 0.0, ...\n",
       "29      b   Min  [0.0, 0.0, 0.0, 0.0, 0.0, 0.0, 0.0, 0.0, 0.0, ..."
      ]
     },
     "execution_count": 23,
     "metadata": {},
     "output_type": "execute_result"
    }
   ],
   "source": [
    "df_train_Min = df_train[df_train[\"Types\"] == \"Min\"]\n",
    "print(df_train_Min.shape) # (, 3)\n",
    "df_train_Min.head()\n",
    "# Temps : "
   ]
  },
  {
   "cell_type": "code",
   "execution_count": 24,
   "id": "2f458f81",
   "metadata": {},
   "outputs": [
    {
     "name": "stdout",
     "output_type": "stream",
     "text": [
      "(37358, 3)\n"
     ]
    },
    {
     "data": {
      "text/html": [
       "<div>\n",
       "<style scoped>\n",
       "    .dataframe tbody tr th:only-of-type {\n",
       "        vertical-align: middle;\n",
       "    }\n",
       "\n",
       "    .dataframe tbody tr th {\n",
       "        vertical-align: top;\n",
       "    }\n",
       "\n",
       "    .dataframe thead th {\n",
       "        text-align: right;\n",
       "    }\n",
       "</style>\n",
       "<table border=\"1\" class=\"dataframe\">\n",
       "  <thead>\n",
       "    <tr style=\"text-align: right;\">\n",
       "      <th></th>\n",
       "      <th>Labels</th>\n",
       "      <th>Types</th>\n",
       "      <th>Images</th>\n",
       "    </tr>\n",
       "  </thead>\n",
       "  <tbody>\n",
       "    <tr>\n",
       "      <th>4</th>\n",
       "      <td>a</td>\n",
       "      <td>Min</td>\n",
       "      <td>[0.0, 0.0, 0.0, 0.0, 0.0, 0.0, 0.0, 0.0, 0.0, ...</td>\n",
       "    </tr>\n",
       "    <tr>\n",
       "      <th>6</th>\n",
       "      <td>e</td>\n",
       "      <td>Min</td>\n",
       "      <td>[0.0, 0.0, 0.0, 0.0, 0.0, 0.0, 0.0, 0.0, 0.0, ...</td>\n",
       "    </tr>\n",
       "    <tr>\n",
       "      <th>7</th>\n",
       "      <td>a</td>\n",
       "      <td>Min</td>\n",
       "      <td>[0.0, 0.0, 0.0, 0.0, 0.0, 0.0, 0.0, 0.0, 0.0, ...</td>\n",
       "    </tr>\n",
       "    <tr>\n",
       "      <th>15</th>\n",
       "      <td>n</td>\n",
       "      <td>Min</td>\n",
       "      <td>[0.0, 0.0, 0.0, 0.0, 0.0, 0.0, 0.0, 0.0, 0.0, ...</td>\n",
       "    </tr>\n",
       "    <tr>\n",
       "      <th>18</th>\n",
       "      <td>d</td>\n",
       "      <td>Min</td>\n",
       "      <td>[0.0, 0.0, 0.0, 0.0, 0.0, 0.0, 0.0, 0.0, 0.0, ...</td>\n",
       "    </tr>\n",
       "  </tbody>\n",
       "</table>\n",
       "</div>"
      ],
      "text/plain": [
       "   Labels Types                                             Images\n",
       "4       a   Min  [0.0, 0.0, 0.0, 0.0, 0.0, 0.0, 0.0, 0.0, 0.0, ...\n",
       "6       e   Min  [0.0, 0.0, 0.0, 0.0, 0.0, 0.0, 0.0, 0.0, 0.0, ...\n",
       "7       a   Min  [0.0, 0.0, 0.0, 0.0, 0.0, 0.0, 0.0, 0.0, 0.0, ...\n",
       "15      n   Min  [0.0, 0.0, 0.0, 0.0, 0.0, 0.0, 0.0, 0.0, 0.0, ...\n",
       "18      d   Min  [0.0, 0.0, 0.0, 0.0, 0.0, 0.0, 0.0, 0.0, 0.0, ..."
      ]
     },
     "execution_count": 24,
     "metadata": {},
     "output_type": "execute_result"
    }
   ],
   "source": [
    "df_test_Min = df_test[df_test[\"Types\"] == \"Min\"]\n",
    "print(df_test_Min.shape) # (, 3)\n",
    "df_test_Min.head()\n",
    "# Temps :"
   ]
  },
  {
   "cell_type": "code",
   "execution_count": 25,
   "id": "f2e1c2b5",
   "metadata": {},
   "outputs": [
    {
     "name": "stdout",
     "output_type": "stream",
     "text": [
      "(37374, 3)\n"
     ]
    },
    {
     "data": {
      "text/html": [
       "<div>\n",
       "<style scoped>\n",
       "    .dataframe tbody tr th:only-of-type {\n",
       "        vertical-align: middle;\n",
       "    }\n",
       "\n",
       "    .dataframe tbody tr th {\n",
       "        vertical-align: top;\n",
       "    }\n",
       "\n",
       "    .dataframe thead th {\n",
       "        text-align: right;\n",
       "    }\n",
       "</style>\n",
       "<table border=\"1\" class=\"dataframe\">\n",
       "  <thead>\n",
       "    <tr style=\"text-align: right;\">\n",
       "      <th></th>\n",
       "      <th>Labels</th>\n",
       "      <th>Types</th>\n",
       "      <th>Images</th>\n",
       "    </tr>\n",
       "  </thead>\n",
       "  <tbody>\n",
       "    <tr>\n",
       "      <th>3</th>\n",
       "      <td>n</td>\n",
       "      <td>Min</td>\n",
       "      <td>[0.0, 0.0, 0.0, 0.0, 0.0, 0.0, 0.0, 0.0, 0.0, ...</td>\n",
       "    </tr>\n",
       "    <tr>\n",
       "      <th>5</th>\n",
       "      <td>t</td>\n",
       "      <td>Min</td>\n",
       "      <td>[0.0, 0.0, 0.0, 0.0, 0.0, 0.0, 0.0, 0.0, 0.0, ...</td>\n",
       "    </tr>\n",
       "    <tr>\n",
       "      <th>8</th>\n",
       "      <td>r</td>\n",
       "      <td>Min</td>\n",
       "      <td>[0.0, 0.0, 0.0, 0.0, 0.0, 0.0, 0.0, 0.0, 0.0, ...</td>\n",
       "    </tr>\n",
       "    <tr>\n",
       "      <th>13</th>\n",
       "      <td>t</td>\n",
       "      <td>Min</td>\n",
       "      <td>[0.0, 0.0, 0.0, 0.0, 0.0, 0.0, 0.0, 0.0, 0.0, ...</td>\n",
       "    </tr>\n",
       "    <tr>\n",
       "      <th>23</th>\n",
       "      <td>e</td>\n",
       "      <td>Min</td>\n",
       "      <td>[0.0, 0.0, 0.0, 0.0, 0.0, 0.0, 0.0, 0.0, 0.0, ...</td>\n",
       "    </tr>\n",
       "  </tbody>\n",
       "</table>\n",
       "</div>"
      ],
      "text/plain": [
       "   Labels Types                                             Images\n",
       "3       n   Min  [0.0, 0.0, 0.0, 0.0, 0.0, 0.0, 0.0, 0.0, 0.0, ...\n",
       "5       t   Min  [0.0, 0.0, 0.0, 0.0, 0.0, 0.0, 0.0, 0.0, 0.0, ...\n",
       "8       r   Min  [0.0, 0.0, 0.0, 0.0, 0.0, 0.0, 0.0, 0.0, 0.0, ...\n",
       "13      t   Min  [0.0, 0.0, 0.0, 0.0, 0.0, 0.0, 0.0, 0.0, 0.0, ...\n",
       "23      e   Min  [0.0, 0.0, 0.0, 0.0, 0.0, 0.0, 0.0, 0.0, 0.0, ..."
      ]
     },
     "execution_count": 25,
     "metadata": {},
     "output_type": "execute_result"
    }
   ],
   "source": [
    "df_validation_Min = df_validation[df_validation[\"Types\"] == \"Min\"]\n",
    "print(df_validation_Min.shape) # (, 3)\n",
    "df_validation_Min.head()\n",
    "# Temps :"
   ]
  },
  {
   "cell_type": "code",
   "execution_count": 26,
   "id": "4199a9d1",
   "metadata": {},
   "outputs": [],
   "source": [
    "X_train_Min = np.array(df_train_Min[\"Images\"].tolist())\n",
    "y_train_Min = np.array(df_train_Min[\"Labels\"].tolist())\n",
    "X_test_Min = np.array(df_test_Min[\"Images\"].tolist())\n",
    "y_test_Min = np.array(df_test_Min[\"Labels\"].tolist())\n",
    "X_validation_Min = np.array(df_validation_Min[\"Images\"].tolist())\n",
    "y_validation_Min = np.array(df_validation_Min[\"Labels\"].tolist())\n",
    "# Temps : 1.3s"
   ]
  },
  {
   "cell_type": "code",
   "execution_count": 27,
   "id": "1ec82bca",
   "metadata": {},
   "outputs": [],
   "source": [
    "# Conversion des étiquettes en indices (si nécessaire)\n",
    "label_encoder_Min = LabelEncoder()\n",
    "\n",
    "y_train_Min_2 = label_encoder_Min.fit_transform(y_train_Min)  # Convertit les étiquettes (lettres/nombres) en indices numériques (nombre) (str => int)\n",
    "y_test_Min_2 = label_encoder_Min.transform(y_test_Min)\n",
    "y_validation_Min_2 = label_encoder_Min.transform(y_validation_Min)"
   ]
  },
  {
   "cell_type": "code",
   "execution_count": 28,
   "id": "cbde9fbc",
   "metadata": {},
   "outputs": [
    {
     "name": "stdout",
     "output_type": "stream",
     "text": [
      "{0: 'a', 1: 'b', 2: 'c', 3: 'd', 4: 'e', 5: 'f', 6: 'g', 7: 'h', 8: 'i', 9: 'j', 10: 'k', 11: 'l', 12: 'm', 13: 'n', 14: 'o', 15: 'p', 16: 'q', 17: 'r', 18: 's', 19: 't', 20: 'u', 21: 'v', 22: 'w', 23: 'x', 24: 'y', 25: 'z'}\n",
      "['a', 'b', 'c', 'd', 'e', 'f', 'g', 'h', 'i', 'j', 'k', 'l', 'm', 'n', 'o', 'p', 'q', 'r', 's', 't', 'u', 'v', 'w', 'x', 'y', 'z']\n"
     ]
    }
   ],
   "source": [
    "# Correspondance indices ↔ labels\n",
    "correspondance_Min = dict(enumerate(label_encoder_Min.classes_))\n",
    "print(correspondance_Min)\n",
    "\n",
    "# Liste des labels\n",
    "labels_Min = list(correspondance_Min.values())\n",
    "print(labels_Min)"
   ]
  },
  {
   "cell_type": "code",
   "execution_count": 29,
   "id": "11e08a64",
   "metadata": {},
   "outputs": [
    {
     "name": "stdout",
     "output_type": "stream",
     "text": [
      "Taille de X_train_Min: (111713, 2500), y_train_Min: (111713,), y_train_Min_2: (111713,)\n",
      "Taille de X_test_Min: (37358, 2500), y_test_Min: (37358,), y_test_Min_2: (37358,)\n",
      "Taille de X_validation_Min: (37374, 2500), y_validation_Min: (37374,), y_validation_Min_2: (37374,)\n"
     ]
    }
   ],
   "source": [
    "# Afficher quelques informations\n",
    "print(f\"Taille de X_train_Min: {X_train_Min.shape}, y_train_Min: {y_train_Min.shape}, y_train_Min_2: {y_train_Min_2.shape}\")\n",
    "print(f\"Taille de X_test_Min: {X_test_Min.shape}, y_test_Min: {y_test_Min.shape}, y_test_Min_2: {y_test_Min_2.shape}\")\n",
    "print(f\"Taille de X_validation_Min: {X_validation_Min.shape}, y_validation_Min: {y_validation_Min.shape}, y_validation_Min_2: {y_validation_Min_2.shape}\")"
   ]
  },
  {
   "cell_type": "markdown",
   "id": "5ddfa01a",
   "metadata": {},
   "source": [
    "### Données pour apprentissage du NN 'Get Nbr'\n",
    "---\n",
    "\n",
    "Préparation des données pour l'entrainement du réseau de neurones 'Get Nbr' qui permettra de classé les images selon le chiffre qui y est représenté."
   ]
  },
  {
   "cell_type": "code",
   "execution_count": 30,
   "id": "1131478e",
   "metadata": {},
   "outputs": [
    {
     "name": "stdout",
     "output_type": "stream",
     "text": [
      "(225173, 3)\n"
     ]
    },
    {
     "data": {
      "text/html": [
       "<div>\n",
       "<style scoped>\n",
       "    .dataframe tbody tr th:only-of-type {\n",
       "        vertical-align: middle;\n",
       "    }\n",
       "\n",
       "    .dataframe tbody tr th {\n",
       "        vertical-align: top;\n",
       "    }\n",
       "\n",
       "    .dataframe thead th {\n",
       "        text-align: right;\n",
       "    }\n",
       "</style>\n",
       "<table border=\"1\" class=\"dataframe\">\n",
       "  <thead>\n",
       "    <tr style=\"text-align: right;\">\n",
       "      <th></th>\n",
       "      <th>Labels</th>\n",
       "      <th>Types</th>\n",
       "      <th>Images</th>\n",
       "    </tr>\n",
       "  </thead>\n",
       "  <tbody>\n",
       "    <tr>\n",
       "      <th>0</th>\n",
       "      <td>4</td>\n",
       "      <td>Nbr</td>\n",
       "      <td>[0.0, 0.0, 0.0, 0.0, 0.0, 0.0, 0.0, 0.0, 0.0, ...</td>\n",
       "    </tr>\n",
       "    <tr>\n",
       "      <th>2</th>\n",
       "      <td>7</td>\n",
       "      <td>Nbr</td>\n",
       "      <td>[0.0, 0.0, 0.0, 0.0, 0.0, 0.0, 0.0, 0.0, 0.0, ...</td>\n",
       "    </tr>\n",
       "    <tr>\n",
       "      <th>9</th>\n",
       "      <td>2</td>\n",
       "      <td>Nbr</td>\n",
       "      <td>[0.0, 0.0, 0.0, 0.0, 0.0, 0.0, 0.0, 0.0, 0.0, ...</td>\n",
       "    </tr>\n",
       "    <tr>\n",
       "      <th>13</th>\n",
       "      <td>6</td>\n",
       "      <td>Nbr</td>\n",
       "      <td>[0.0, 0.0, 0.0, 0.0, 0.0, 0.0, 0.0, 0.0, 0.0, ...</td>\n",
       "    </tr>\n",
       "    <tr>\n",
       "      <th>14</th>\n",
       "      <td>1</td>\n",
       "      <td>Nbr</td>\n",
       "      <td>[0.0, 0.0, 0.0, 0.0, 0.0, 0.0, 0.0, 0.0, 0.0, ...</td>\n",
       "    </tr>\n",
       "  </tbody>\n",
       "</table>\n",
       "</div>"
      ],
      "text/plain": [
       "   Labels Types                                             Images\n",
       "0       4   Nbr  [0.0, 0.0, 0.0, 0.0, 0.0, 0.0, 0.0, 0.0, 0.0, ...\n",
       "2       7   Nbr  [0.0, 0.0, 0.0, 0.0, 0.0, 0.0, 0.0, 0.0, 0.0, ...\n",
       "9       2   Nbr  [0.0, 0.0, 0.0, 0.0, 0.0, 0.0, 0.0, 0.0, 0.0, ...\n",
       "13      6   Nbr  [0.0, 0.0, 0.0, 0.0, 0.0, 0.0, 0.0, 0.0, 0.0, ...\n",
       "14      1   Nbr  [0.0, 0.0, 0.0, 0.0, 0.0, 0.0, 0.0, 0.0, 0.0, ..."
      ]
     },
     "execution_count": 30,
     "metadata": {},
     "output_type": "execute_result"
    }
   ],
   "source": [
    "df_train_Nbr = df_train[df_train[\"Types\"] == \"Nbr\"]\n",
    "print(df_train_Nbr.shape) # (, 3)\n",
    "df_train_Nbr.head()\n",
    "# Temps : "
   ]
  },
  {
   "cell_type": "code",
   "execution_count": 31,
   "id": "ab429874",
   "metadata": {},
   "outputs": [
    {
     "name": "stdout",
     "output_type": "stream",
     "text": [
      "(75010, 3)\n"
     ]
    },
    {
     "data": {
      "text/html": [
       "<div>\n",
       "<style scoped>\n",
       "    .dataframe tbody tr th:only-of-type {\n",
       "        vertical-align: middle;\n",
       "    }\n",
       "\n",
       "    .dataframe tbody tr th {\n",
       "        vertical-align: top;\n",
       "    }\n",
       "\n",
       "    .dataframe thead th {\n",
       "        text-align: right;\n",
       "    }\n",
       "</style>\n",
       "<table border=\"1\" class=\"dataframe\">\n",
       "  <thead>\n",
       "    <tr style=\"text-align: right;\">\n",
       "      <th></th>\n",
       "      <th>Labels</th>\n",
       "      <th>Types</th>\n",
       "      <th>Images</th>\n",
       "    </tr>\n",
       "  </thead>\n",
       "  <tbody>\n",
       "    <tr>\n",
       "      <th>0</th>\n",
       "      <td>8</td>\n",
       "      <td>Nbr</td>\n",
       "      <td>[0.0, 0.0, 0.0, 0.0, 0.0, 0.0, 0.0, 0.0, 0.0, ...</td>\n",
       "    </tr>\n",
       "    <tr>\n",
       "      <th>2</th>\n",
       "      <td>6</td>\n",
       "      <td>Nbr</td>\n",
       "      <td>[0.0, 0.0, 0.0, 0.0, 0.0, 0.0, 0.0, 0.0, 0.0, ...</td>\n",
       "    </tr>\n",
       "    <tr>\n",
       "      <th>8</th>\n",
       "      <td>0</td>\n",
       "      <td>Nbr</td>\n",
       "      <td>[0.0, 0.0, 0.0, 0.0, 0.0, 0.0, 0.0, 0.0, 0.0, ...</td>\n",
       "    </tr>\n",
       "    <tr>\n",
       "      <th>9</th>\n",
       "      <td>3</td>\n",
       "      <td>Nbr</td>\n",
       "      <td>[0.0, 0.0, 0.0, 0.0, 0.0, 0.0, 0.0, 0.0, 0.0, ...</td>\n",
       "    </tr>\n",
       "    <tr>\n",
       "      <th>10</th>\n",
       "      <td>2</td>\n",
       "      <td>Nbr</td>\n",
       "      <td>[0.0, 0.0, 0.0, 0.0, 0.0, 0.0, 0.0, 0.0, 0.0, ...</td>\n",
       "    </tr>\n",
       "  </tbody>\n",
       "</table>\n",
       "</div>"
      ],
      "text/plain": [
       "   Labels Types                                             Images\n",
       "0       8   Nbr  [0.0, 0.0, 0.0, 0.0, 0.0, 0.0, 0.0, 0.0, 0.0, ...\n",
       "2       6   Nbr  [0.0, 0.0, 0.0, 0.0, 0.0, 0.0, 0.0, 0.0, 0.0, ...\n",
       "8       0   Nbr  [0.0, 0.0, 0.0, 0.0, 0.0, 0.0, 0.0, 0.0, 0.0, ...\n",
       "9       3   Nbr  [0.0, 0.0, 0.0, 0.0, 0.0, 0.0, 0.0, 0.0, 0.0, ...\n",
       "10      2   Nbr  [0.0, 0.0, 0.0, 0.0, 0.0, 0.0, 0.0, 0.0, 0.0, ..."
      ]
     },
     "execution_count": 31,
     "metadata": {},
     "output_type": "execute_result"
    }
   ],
   "source": [
    "df_test_Nbr = df_test[df_test[\"Types\"] == \"Nbr\"]\n",
    "print(df_test_Nbr.shape) # (, 3)\n",
    "df_test_Nbr.head()\n",
    "# Temps : "
   ]
  },
  {
   "cell_type": "code",
   "execution_count": 32,
   "id": "f483c835",
   "metadata": {},
   "outputs": [
    {
     "name": "stdout",
     "output_type": "stream",
     "text": [
      "(75062, 3)\n"
     ]
    },
    {
     "data": {
      "text/html": [
       "<div>\n",
       "<style scoped>\n",
       "    .dataframe tbody tr th:only-of-type {\n",
       "        vertical-align: middle;\n",
       "    }\n",
       "\n",
       "    .dataframe tbody tr th {\n",
       "        vertical-align: top;\n",
       "    }\n",
       "\n",
       "    .dataframe thead th {\n",
       "        text-align: right;\n",
       "    }\n",
       "</style>\n",
       "<table border=\"1\" class=\"dataframe\">\n",
       "  <thead>\n",
       "    <tr style=\"text-align: right;\">\n",
       "      <th></th>\n",
       "      <th>Labels</th>\n",
       "      <th>Types</th>\n",
       "      <th>Images</th>\n",
       "    </tr>\n",
       "  </thead>\n",
       "  <tbody>\n",
       "    <tr>\n",
       "      <th>0</th>\n",
       "      <td>7</td>\n",
       "      <td>Nbr</td>\n",
       "      <td>[0.0, 0.0, 0.0, 0.0, 0.0, 0.0, 0.0, 0.0, 0.0, ...</td>\n",
       "    </tr>\n",
       "    <tr>\n",
       "      <th>4</th>\n",
       "      <td>7</td>\n",
       "      <td>Nbr</td>\n",
       "      <td>[0.0, 0.0, 0.0, 0.0, 0.0, 0.0, 0.0, 0.0, 0.0, ...</td>\n",
       "    </tr>\n",
       "    <tr>\n",
       "      <th>6</th>\n",
       "      <td>0</td>\n",
       "      <td>Nbr</td>\n",
       "      <td>[0.0, 0.0, 0.0, 0.0, 0.0, 0.0, 0.0, 0.0, 0.0, ...</td>\n",
       "    </tr>\n",
       "    <tr>\n",
       "      <th>7</th>\n",
       "      <td>9</td>\n",
       "      <td>Nbr</td>\n",
       "      <td>[0.0, 0.0, 0.0, 0.0, 0.0, 0.0, 0.0, 0.0, 0.0, ...</td>\n",
       "    </tr>\n",
       "    <tr>\n",
       "      <th>9</th>\n",
       "      <td>5</td>\n",
       "      <td>Nbr</td>\n",
       "      <td>[0.0, 0.0, 0.0, 0.0, 0.0, 0.0, 0.0, 0.0, 0.0, ...</td>\n",
       "    </tr>\n",
       "  </tbody>\n",
       "</table>\n",
       "</div>"
      ],
      "text/plain": [
       "  Labels Types                                             Images\n",
       "0      7   Nbr  [0.0, 0.0, 0.0, 0.0, 0.0, 0.0, 0.0, 0.0, 0.0, ...\n",
       "4      7   Nbr  [0.0, 0.0, 0.0, 0.0, 0.0, 0.0, 0.0, 0.0, 0.0, ...\n",
       "6      0   Nbr  [0.0, 0.0, 0.0, 0.0, 0.0, 0.0, 0.0, 0.0, 0.0, ...\n",
       "7      9   Nbr  [0.0, 0.0, 0.0, 0.0, 0.0, 0.0, 0.0, 0.0, 0.0, ...\n",
       "9      5   Nbr  [0.0, 0.0, 0.0, 0.0, 0.0, 0.0, 0.0, 0.0, 0.0, ..."
      ]
     },
     "execution_count": 32,
     "metadata": {},
     "output_type": "execute_result"
    }
   ],
   "source": [
    "df_validation_Nbr = df_validation[df_validation[\"Types\"] == \"Nbr\"]\n",
    "print(df_validation_Nbr.shape) # (, 3)\n",
    "df_validation_Nbr.head()\n",
    "# Temps : "
   ]
  },
  {
   "cell_type": "code",
   "execution_count": 33,
   "id": "135ad779",
   "metadata": {},
   "outputs": [],
   "source": [
    "X_train_Nbr = np.array(df_train_Nbr[\"Images\"].tolist())\n",
    "y_train_Nbr = np.array(df_train_Nbr[\"Labels\"].tolist())\n",
    "X_test_Nbr = np.array(df_test_Nbr[\"Images\"].tolist())\n",
    "y_test_Nbr = np.array(df_test_Nbr[\"Labels\"].tolist())\n",
    "X_validation_Nbr = np.array(df_validation_Nbr[\"Images\"].tolist())\n",
    "y_validation_Nbr = np.array(df_validation_Nbr[\"Labels\"].tolist())\n",
    "# Temps : 9.1s"
   ]
  },
  {
   "cell_type": "code",
   "execution_count": 34,
   "id": "ab84cf16",
   "metadata": {},
   "outputs": [],
   "source": [
    "# Conversion des étiquettes en indices (si nécessaire)\n",
    "label_encoder_Nbr = LabelEncoder()\n",
    "\n",
    "y_train_Nbr_2 = label_encoder_Nbr.fit_transform(y_train_Nbr)  # Convertit les étiquettes (lettres/nombres) en indices numériques (nombre) (str => int)\n",
    "y_test_Nbr_2 = label_encoder_Nbr.transform(y_test_Nbr)\n",
    "y_validation_Nbr_2 = label_encoder_Nbr.transform(y_validation_Nbr)"
   ]
  },
  {
   "cell_type": "code",
   "execution_count": 35,
   "id": "cb0e1562",
   "metadata": {},
   "outputs": [
    {
     "name": "stdout",
     "output_type": "stream",
     "text": [
      "{0: '0', 1: '1', 2: '2', 3: '3', 4: '4', 5: '5', 6: '6', 7: '7', 8: '8', 9: '9'}\n",
      "['0', '1', '2', '3', '4', '5', '6', '7', '8', '9']\n"
     ]
    }
   ],
   "source": [
    "# Correspondance indices ↔ labels\n",
    "correspondance_Nbr = dict(enumerate(label_encoder_Nbr.classes_))\n",
    "print(correspondance_Nbr)\n",
    "\n",
    "# Liste des labels\n",
    "labels_Nbr = list(correspondance_Nbr.values())\n",
    "print(labels_Nbr)"
   ]
  },
  {
   "cell_type": "code",
   "execution_count": 36,
   "id": "745fcefd",
   "metadata": {},
   "outputs": [
    {
     "name": "stdout",
     "output_type": "stream",
     "text": [
      "Taille de X_train_Nbr: (225173, 2500), y_train_Nbr: (225173,), y_train_Nbr_2: (225173,)\n",
      "Taille de X_test_Nbr: (75010, 2500), y_test_Nbr: (75010,), y_test_Nbr_2: (75010,)\n",
      "Taille de X_validation_Nbr: (75062, 2500), y_validation_Nbr: (75062,), y_validation_Nbr_2: (75062,)\n"
     ]
    }
   ],
   "source": [
    "# Afficher quelques informations\n",
    "print(f\"Taille de X_train_Nbr: {X_train_Nbr.shape}, y_train_Nbr: {y_train_Nbr.shape}, y_train_Nbr_2: {y_train_Nbr_2.shape}\")\n",
    "print(f\"Taille de X_test_Nbr: {X_test_Nbr.shape}, y_test_Nbr: {y_test_Nbr.shape}, y_test_Nbr_2: {y_test_Nbr_2.shape}\")\n",
    "print(f\"Taille de X_validation_Nbr: {X_validation_Nbr.shape}, y_validation_Nbr: {y_validation_Nbr.shape}, y_validation_Nbr_2: {y_validation_Nbr_2.shape}\")"
   ]
  },
  {
   "cell_type": "markdown",
   "id": "75c86311",
   "metadata": {},
   "source": [
    "# Get Type (NN)\n",
    "---\n",
    "\n",
    "Modèle ..."
   ]
  },
  {
   "cell_type": "code",
   "execution_count": 99,
   "id": "684d35c3",
   "metadata": {},
   "outputs": [],
   "source": [
    "# Reseau de neurones\n",
    "model_get_type = keras.Sequential([\n",
    "    keras.layers.Input((2500,)), # input layer : 2500 neurones (50x50 pixels)\n",
    "    keras.layers.Dense(625, activation='relu'),\n",
    "    keras.layers.Dense(156, activation='relu'),\n",
    "    keras.layers.Dense(40, activation='relu'),\n",
    "    keras.layers.Dense(10, activation='relu'),\n",
    "    keras.layers.Dense(3, activation='softmax') # output layer : 3 neurones (Maj, Min, Nbr) -> softmax : sortie à 3 classes\n",
    "])\n",
    "\n",
    "model_get_type.compile(\n",
    "    optimizer='adam', # optimizer : Adam avec learning rate de 0.0001\n",
    "    loss='sparse_categorical_crossentropy', # loss : sparse_categorical_crossentropy pour la classification\n",
    "    metrics=['accuracy'] # metrics : accuracy pour évaluer la performance du modèle\n",
    ")"
   ]
  },
  {
   "cell_type": "code",
   "execution_count": null,
   "id": "0f3591d3",
   "metadata": {},
   "outputs": [
    {
     "name": "stdout",
     "output_type": "stream",
     "text": [
      "Epoch 1/10\n",
      "\u001b[1m1904/1904\u001b[0m \u001b[32m━━━━━━━━━━━━━━━━━━━━\u001b[0m\u001b[37m\u001b[0m \u001b[1m16s\u001b[0m 8ms/step - accuracy: 0.7557 - loss: 0.5737 - val_accuracy: 0.8160 - val_loss: 0.4386\n",
      "Epoch 2/10\n",
      "\u001b[1m1904/1904\u001b[0m \u001b[32m━━━━━━━━━━━━━━━━━━━━\u001b[0m\u001b[37m\u001b[0m \u001b[1m15s\u001b[0m 8ms/step - accuracy: 0.8272 - loss: 0.4166 - val_accuracy: 0.8256 - val_loss: 0.4185\n",
      "Epoch 3/10\n",
      "\u001b[1m1904/1904\u001b[0m \u001b[32m━━━━━━━━━━━━━━━━━━━━\u001b[0m\u001b[37m\u001b[0m \u001b[1m16s\u001b[0m 9ms/step - accuracy: 0.8385 - loss: 0.3892 - val_accuracy: 0.8309 - val_loss: 0.4082\n",
      "Epoch 4/10\n",
      "\u001b[1m1904/1904\u001b[0m \u001b[32m━━━━━━━━━━━━━━━━━━━━\u001b[0m\u001b[37m\u001b[0m \u001b[1m16s\u001b[0m 9ms/step - accuracy: 0.8446 - loss: 0.3728 - val_accuracy: 0.8337 - val_loss: 0.4013\n",
      "Epoch 5/10\n",
      "\u001b[1m1904/1904\u001b[0m \u001b[32m━━━━━━━━━━━━━━━━━━━━\u001b[0m\u001b[37m\u001b[0m \u001b[1m17s\u001b[0m 9ms/step - accuracy: 0.8504 - loss: 0.3595 - val_accuracy: 0.8359 - val_loss: 0.3961\n",
      "Epoch 6/10\n",
      "\u001b[1m1904/1904\u001b[0m \u001b[32m━━━━━━━━━━━━━━━━━━━━\u001b[0m\u001b[37m\u001b[0m \u001b[1m16s\u001b[0m 9ms/step - accuracy: 0.8533 - loss: 0.3506 - val_accuracy: 0.8379 - val_loss: 0.3922\n",
      "Epoch 7/10\n",
      "\u001b[1m1904/1904\u001b[0m \u001b[32m━━━━━━━━━━━━━━━━━━━━\u001b[0m\u001b[37m\u001b[0m \u001b[1m17s\u001b[0m 9ms/step - accuracy: 0.8581 - loss: 0.3413 - val_accuracy: 0.8375 - val_loss: 0.3950\n",
      "Epoch 8/10\n",
      "\u001b[1m1904/1904\u001b[0m \u001b[32m━━━━━━━━━━━━━━━━━━━━\u001b[0m\u001b[37m\u001b[0m \u001b[1m17s\u001b[0m 9ms/step - accuracy: 0.8605 - loss: 0.3333 - val_accuracy: 0.8388 - val_loss: 0.3931\n",
      "Epoch 9/10\n",
      "\u001b[1m1904/1904\u001b[0m \u001b[32m━━━━━━━━━━━━━━━━━━━━\u001b[0m\u001b[37m\u001b[0m \u001b[1m16s\u001b[0m 9ms/step - accuracy: 0.8635 - loss: 0.3261 - val_accuracy: 0.8396 - val_loss: 0.3947\n",
      "Epoch 10/10\n",
      "\u001b[1m1904/1904\u001b[0m \u001b[32m━━━━━━━━━━━━━━━━━━━━\u001b[0m\u001b[37m\u001b[0m \u001b[1m17s\u001b[0m 9ms/step - accuracy: 0.8644 - loss: 0.3220 - val_accuracy: 0.8400 - val_loss: 0.3949\n"
     ]
    },
    {
     "data": {
      "text/plain": [
       "<keras.src.callbacks.history.History at 0x19d41216050>"
      ]
     },
     "execution_count": 100,
     "metadata": {},
     "output_type": "execute_result"
    }
   ],
   "source": [
    "model_get_type.fit(\n",
    "    X_train_types, \n",
    "    y_train_types_2, \n",
    "    epochs=10, \n",
    "    batch_size=256, \n",
    "    validation_data=(\n",
    "        X_validation_types, \n",
    "        y_validation_types_2\n",
    "    ),\n",
    "    verbose=1\n",
    ")\n",
    "\n",
    "# Batch 32\n",
    "# accuracy : 0.8618\n",
    "# loss : 0.3311\n",
    "# Temps : 16m 33.5s\n",
    "\n",
    "# Batch 64\n",
    "# accuracy : 0.8644\n",
    "# loss : 0.3228\n",
    "# Temps : 8m 41s\n",
    "\n",
    "# Batch 128\n",
    "# accuracy : 0.8654\n",
    "# loss : 0.3209\n",
    "# Temps : 4m 35.4s\n",
    "\n",
    "# Batch 256\n",
    "# accuracy : 0.8644\n",
    "# loss : 0.3220\n",
    "# Temps : 2m 46.5s"
   ]
  },
  {
   "cell_type": "code",
   "execution_count": 101,
   "id": "e640ee91",
   "metadata": {},
   "outputs": [
    {
     "name": "stdout",
     "output_type": "stream",
     "text": [
      "\u001b[1m4860/4860\u001b[0m \u001b[32m━━━━━━━━━━━━━━━━━━━━\u001b[0m\u001b[37m\u001b[0m \u001b[1m8s\u001b[0m 2ms/step - accuracy: 0.8407 - loss: 0.3939\n",
      "Test accuracy : 0.8401044607162476\n",
      "Test loss : 0.39449504017829895\n"
     ]
    }
   ],
   "source": [
    "test_loss_type, test_acc_type = model_get_type.evaluate(X_test_types, y_test_types_2)\n",
    "print(f\"Test accuracy : {test_acc_type}\") # Test accuracy : \n",
    "print(f\"Test loss : {test_loss_type}\") # Test loss : \n",
    "# Temps : 8.3s"
   ]
  },
  {
   "cell_type": "code",
   "execution_count": 102,
   "id": "e8d21c2d",
   "metadata": {},
   "outputs": [],
   "source": [
    "# Sauvegarder le modèle\n",
    "model_get_type.save(\"../models/Get_type_b256.keras\")  # Format HDF5 (.h5)"
   ]
  },
  {
   "cell_type": "code",
   "execution_count": 103,
   "id": "3c7e8a14",
   "metadata": {},
   "outputs": [
    {
     "name": "stdout",
     "output_type": "stream",
     "text": [
      "\u001b[1m4860/4860\u001b[0m \u001b[32m━━━━━━━━━━━━━━━━━━━━\u001b[0m\u001b[37m\u001b[0m \u001b[1m7s\u001b[0m 1ms/step\n"
     ]
    },
    {
     "data": {
      "text/plain": [
       "array([9.9579054e-01, 4.2084213e-03, 1.0341505e-06], dtype=float32)"
      ]
     },
     "execution_count": 103,
     "metadata": {},
     "output_type": "execute_result"
    }
   ],
   "source": [
    "y_predicted_types = model_get_type.predict(X_test_types)\n",
    "y_predicted_types[1]\n",
    "# Temps : 7.2s"
   ]
  },
  {
   "cell_type": "code",
   "execution_count": 104,
   "id": "5a255831",
   "metadata": {},
   "outputs": [
    {
     "data": {
      "text/plain": [
       "0"
      ]
     },
     "execution_count": 104,
     "metadata": {},
     "output_type": "execute_result"
    }
   ],
   "source": [
    "np.argmax(y_predicted_types[1])"
   ]
  },
  {
   "cell_type": "code",
   "execution_count": 105,
   "id": "be508530",
   "metadata": {},
   "outputs": [
    {
     "data": {
      "text/plain": [
       "[2, 0, 2, 1, 1]"
      ]
     },
     "execution_count": 105,
     "metadata": {},
     "output_type": "execute_result"
    }
   ],
   "source": [
    "# y_predicted_labels1 = np.array([correspondance_types[np.argmax(i)] for i in y_predicted_types])\n",
    "y_predicted_labels_types = [np.argmax(i) for i in y_predicted_types]\n",
    "y_predicted_labels_types[:5]"
   ]
  },
  {
   "cell_type": "code",
   "execution_count": 106,
   "id": "95a13ef7",
   "metadata": {},
   "outputs": [
    {
     "data": {
      "text/plain": [
       "array([2, 0, 2, 0, 1])"
      ]
     },
     "execution_count": 106,
     "metadata": {},
     "output_type": "execute_result"
    }
   ],
   "source": [
    "y_test_types_2[:5]"
   ]
  },
  {
   "cell_type": "code",
   "execution_count": 107,
   "id": "886fbde4",
   "metadata": {},
   "outputs": [
    {
     "data": {
      "text/plain": [
       "Text(95.72222222222221, 0.5, 'Truth')"
      ]
     },
     "execution_count": 107,
     "metadata": {},
     "output_type": "execute_result"
    },
    {
     "data": {
      "image/png": "[encoded data removed]",
      "text/plain": [
       "<Figure size 1000x700 with 2 Axes>"
      ]
     },
     "metadata": {},
     "output_type": "display_data"
    }
   ],
   "source": [
    "# Matrice de confusion\n",
    "cm_types = tf.math.confusion_matrix(labels=y_test_types_2, predictions=y_predicted_labels_types)\n",
    "plt.figure(figsize=(10, 7))\n",
    "sns.heatmap(cm_types, annot=True, fmt='d')\n",
    "plt.xlabel('Predicted')\n",
    "plt.ylabel('Truth')"
   ]
  },
  {
   "cell_type": "markdown",
   "id": "5b557b32",
   "metadata": {},
   "source": [
    "# Get Maj (NN)\n",
    "---\n",
    "\n",
    "Modèle ..."
   ]
  },
  {
   "cell_type": "code",
   "execution_count": 108,
   "id": "6321ce1f",
   "metadata": {},
   "outputs": [],
   "source": [
    "model_get_maj = keras.Sequential([\n",
    "    keras.layers.Input((2500,)), # input layer : 2500 neurones (50x50 pixels)\n",
    "    keras.layers.Dense(625, activation='relu'),\n",
    "    keras.layers.Dense(156, activation='relu'),\n",
    "    keras.layers.Dense(40, activation='relu'),\n",
    "    keras.layers.Dense(26, activation='sigmoid') # output layer : 26 neurones (A-Z)\n",
    "])\n",
    "\n",
    "model_get_maj.compile(\n",
    "    optimizer='adam',\n",
    "    loss='sparse_categorical_crossentropy',\n",
    "    metrics=['accuracy']\n",
    ")"
   ]
  },
  {
   "cell_type": "code",
   "execution_count": null,
   "id": "5d7a8dc0",
   "metadata": {},
   "outputs": [
    {
     "name": "stdout",
     "output_type": "stream",
     "text": [
      "Epoch 1/10\n",
      "\u001b[1m588/588\u001b[0m \u001b[32m━━━━━━━━━━━━━━━━━━━━\u001b[0m\u001b[37m\u001b[0m \u001b[1m6s\u001b[0m 9ms/step - accuracy: 0.7473 - loss: 0.9557 - val_accuracy: 0.9100 - val_loss: 0.3552\n",
      "Epoch 2/10\n",
      "\u001b[1m588/588\u001b[0m \u001b[32m━━━━━━━━━━━━━━━━━━━━\u001b[0m\u001b[37m\u001b[0m \u001b[1m5s\u001b[0m 8ms/step - accuracy: 0.9182 - loss: 0.3087 - val_accuracy: 0.9249 - val_loss: 0.2877\n",
      "Epoch 3/10\n",
      "\u001b[1m588/588\u001b[0m \u001b[32m━━━━━━━━━━━━━━━━━━━━\u001b[0m\u001b[37m\u001b[0m \u001b[1m5s\u001b[0m 8ms/step - accuracy: 0.9299 - loss: 0.2562 - val_accuracy: 0.9274 - val_loss: 0.2757\n",
      "Epoch 4/10\n",
      "\u001b[1m588/588\u001b[0m \u001b[32m━━━━━━━━━━━━━━━━━━━━\u001b[0m\u001b[37m\u001b[0m \u001b[1m5s\u001b[0m 9ms/step - accuracy: 0.9387 - loss: 0.2226 - val_accuracy: 0.9270 - val_loss: 0.2759\n",
      "Epoch 5/10\n",
      "\u001b[1m588/588\u001b[0m \u001b[32m━━━━━━━━━━━━━━━━━━━━\u001b[0m\u001b[37m\u001b[0m \u001b[1m5s\u001b[0m 8ms/step - accuracy: 0.9437 - loss: 0.2012 - val_accuracy: 0.9265 - val_loss: 0.2771\n",
      "Epoch 6/10\n",
      "\u001b[1m588/588\u001b[0m \u001b[32m━━━━━━━━━━━━━━━━━━━━\u001b[0m\u001b[37m\u001b[0m \u001b[1m5s\u001b[0m 8ms/step - accuracy: 0.9462 - loss: 0.1912 - val_accuracy: 0.9299 - val_loss: 0.2687\n",
      "Epoch 7/10\n",
      "\u001b[1m588/588\u001b[0m \u001b[32m━━━━━━━━━━━━━━━━━━━━\u001b[0m\u001b[37m\u001b[0m \u001b[1m5s\u001b[0m 8ms/step - accuracy: 0.9478 - loss: 0.1824 - val_accuracy: 0.9315 - val_loss: 0.2648\n",
      "Epoch 8/10\n",
      "\u001b[1m588/588\u001b[0m \u001b[32m━━━━━━━━━━━━━━━━━━━━\u001b[0m\u001b[37m\u001b[0m \u001b[1m5s\u001b[0m 9ms/step - accuracy: 0.9504 - loss: 0.1707 - val_accuracy: 0.9316 - val_loss: 0.2688\n",
      "Epoch 9/10\n",
      "\u001b[1m588/588\u001b[0m \u001b[32m━━━━━━━━━━━━━━━━━━━━\u001b[0m\u001b[37m\u001b[0m \u001b[1m5s\u001b[0m 9ms/step - accuracy: 0.9527 - loss: 0.1621 - val_accuracy: 0.9320 - val_loss: 0.2785\n",
      "Epoch 10/10\n",
      "\u001b[1m588/588\u001b[0m \u001b[32m━━━━━━━━━━━━━━━━━━━━\u001b[0m\u001b[37m\u001b[0m \u001b[1m5s\u001b[0m 8ms/step - accuracy: 0.9541 - loss: 0.1562 - val_accuracy: 0.9301 - val_loss: 0.2819\n"
     ]
    },
    {
     "data": {
      "text/plain": [
       "<keras.src.callbacks.history.History at 0x19d413774d0>"
      ]
     },
     "execution_count": 109,
     "metadata": {},
     "output_type": "execute_result"
    }
   ],
   "source": [
    "model_get_maj.fit(\n",
    "    X_train_Maj, \n",
    "    y_train_Maj_2, \n",
    "    epochs=10, \n",
    "    batch_size=256, \n",
    "    validation_data=(\n",
    "        X_validation_Maj, \n",
    "        y_validation_Maj_2\n",
    "    ),\n",
    "    verbose=1\n",
    ")\n",
    "\n",
    "# Batch 32\n",
    "# accuracy : 0.9508\n",
    "# loss : 0.1701\n",
    "# Temps : 5m 17.7s\n",
    "\n",
    "# Batch 64\n",
    "# accuracy : 0.9522\n",
    "# loss : 0.1632\n",
    "# Temps : 2m 18.6s\n",
    "\n",
    "# Batch 128\n",
    "# accuracy : 0.9558\n",
    "# loss : 0.1531\n",
    "# Temps : 1m 19.8s\n",
    "\n",
    "# Batch 256\n",
    "# accuracy : 0.9527\n",
    "# loss : 0.1621\n",
    "# Temps : 51.7s"
   ]
  },
  {
   "cell_type": "code",
   "execution_count": 110,
   "id": "71aaeea0",
   "metadata": {},
   "outputs": [
    {
     "name": "stdout",
     "output_type": "stream",
     "text": [
      "\u001b[1m1348/1348\u001b[0m \u001b[32m━━━━━━━━━━━━━━━━━━━━\u001b[0m\u001b[37m\u001b[0m \u001b[1m2s\u001b[0m 1ms/step - accuracy: 0.9347 - loss: 0.2630\n",
      "Test accuracy : 0.9345098733901978\n",
      "Test loss : 0.26259076595306396\n"
     ]
    }
   ],
   "source": [
    "test_loss_maj, test_acc_maj = model_get_maj.evaluate(X_test_Maj, y_test_Maj_2)\n",
    "print(f\"Test accuracy : {test_acc_maj}\") # Test accuracy : \n",
    "print(f\"Test loss : {test_loss_maj}\") # Test loss : \n",
    "# Temps : 1.9s"
   ]
  },
  {
   "cell_type": "code",
   "execution_count": 111,
   "id": "6f73a143",
   "metadata": {},
   "outputs": [],
   "source": [
    "# Sauvegarder le modèle\n",
    "model_get_maj.save(\"../models/Get_Maj_b256.keras\")  # Format HDF5 (.h5)"
   ]
  },
  {
   "cell_type": "code",
   "execution_count": 112,
   "id": "f10dc339",
   "metadata": {},
   "outputs": [
    {
     "name": "stdout",
     "output_type": "stream",
     "text": [
      "\u001b[1m1348/1348\u001b[0m \u001b[32m━━━━━━━━━━━━━━━━━━━━\u001b[0m\u001b[37m\u001b[0m \u001b[1m2s\u001b[0m 1ms/step\n"
     ]
    },
    {
     "data": {
      "text/plain": [
       "array([4.4966961e-05, 5.2595860e-01, 3.4315937e-05, 2.0425653e-02,\n",
       "       4.8692153e-05, 5.8566488e-02, 2.9908317e-05, 6.8029069e-04,\n",
       "       3.9785635e-01, 1.1907098e-02, 8.5925114e-01, 3.5390934e-01,\n",
       "       4.6556019e-05, 1.0218046e-02, 7.0336115e-05, 3.0636111e-01,\n",
       "       3.3062506e-03, 3.0974742e-02, 4.7138172e-01, 1.6916450e-02,\n",
       "       8.2797259e-01, 3.1631607e-01, 5.3622123e-05, 1.0000000e+00,\n",
       "       9.9764389e-01, 7.3374767e-04], dtype=float32)"
      ]
     },
     "execution_count": 112,
     "metadata": {},
     "output_type": "execute_result"
    }
   ],
   "source": [
    "y_predicted_Maj = model_get_maj.predict(X_test_Maj)\n",
    "y_predicted_Maj[1]\n",
    "# Temps 1.8s"
   ]
  },
  {
   "cell_type": "code",
   "execution_count": 113,
   "id": "143060fe",
   "metadata": {},
   "outputs": [
    {
     "data": {
      "text/plain": [
       "23"
      ]
     },
     "execution_count": 113,
     "metadata": {},
     "output_type": "execute_result"
    }
   ],
   "source": [
    "np.argmax(y_predicted_Maj[1])"
   ]
  },
  {
   "cell_type": "code",
   "execution_count": 114,
   "id": "da9ab676",
   "metadata": {},
   "outputs": [
    {
     "data": {
      "text/plain": [
       "[20, 23, 15, 4, 18]"
      ]
     },
     "execution_count": 114,
     "metadata": {},
     "output_type": "execute_result"
    }
   ],
   "source": [
    "# y_predicted_labels_Maj = [correspondance_Maj[np.argmax(i)] for i in y_predicted_Maj]\n",
    "y_predicted_labels_Maj = [np.argmax(i) for i in y_predicted_Maj]\n",
    "y_predicted_labels_Maj[:5]"
   ]
  },
  {
   "cell_type": "code",
   "execution_count": 115,
   "id": "1a9ff968",
   "metadata": {},
   "outputs": [
    {
     "data": {
      "text/plain": [
       "Text(95.72222222222221, 0.5, 'Truth')"
      ]
     },
     "execution_count": 115,
     "metadata": {},
     "output_type": "execute_result"
    },
    {
     "data": {
      "image/png": "[encoded data removed]",
      "text/plain": [
       "<Figure size 1000x700 with 2 Axes>"
      ]
     },
     "metadata": {},
     "output_type": "display_data"
    }
   ],
   "source": [
    "# Matrice de confusion\n",
    "cm_Maj = tf.math.confusion_matrix(labels=y_test_Maj_2, predictions=y_predicted_labels_Maj)\n",
    "plt.figure(figsize=(10, 7))\n",
    "sns.heatmap(cm_Maj, annot=True, fmt='d')\n",
    "plt.xlabel('Predicted')\n",
    "plt.ylabel('Truth')"
   ]
  },
  {
   "cell_type": "markdown",
   "id": "3be19730",
   "metadata": {},
   "source": [
    "# Get Min (NN)\n",
    "---\n",
    "\n",
    "Modèle ..."
   ]
  },
  {
   "cell_type": "code",
   "execution_count": 116,
   "id": "c6970766",
   "metadata": {},
   "outputs": [],
   "source": [
    "model_get_min = keras.Sequential([\n",
    "    keras.layers.Input((2500,)), # input layer : 2500 neurones (50x50 pixels)\n",
    "    keras.layers.Dense(625, activation='relu'),\n",
    "    keras.layers.Dense(156, activation='relu'),\n",
    "    keras.layers.Dense(40, activation='relu'),\n",
    "    keras.layers.Dense(26, activation='sigmoid') # output layer : 26 neurones (A-Z)\n",
    "])\n",
    "\n",
    "model_get_min.compile(\n",
    "    optimizer='adam',\n",
    "    loss='sparse_categorical_crossentropy',\n",
    "    metrics=['accuracy']\n",
    ")"
   ]
  },
  {
   "cell_type": "code",
   "execution_count": null,
   "id": "d746e298",
   "metadata": {},
   "outputs": [
    {
     "name": "stdout",
     "output_type": "stream",
     "text": [
      "Epoch 1/10\n",
      "\u001b[1m437/437\u001b[0m \u001b[32m━━━━━━━━━━━━━━━━━━━━\u001b[0m\u001b[37m\u001b[0m \u001b[1m4s\u001b[0m 9ms/step - accuracy: 0.7166 - loss: 1.1020 - val_accuracy: 0.8729 - val_loss: 0.4533\n",
      "Epoch 2/10\n",
      "\u001b[1m437/437\u001b[0m \u001b[32m━━━━━━━━━━━━━━━━━━━━\u001b[0m\u001b[37m\u001b[0m \u001b[1m4s\u001b[0m 8ms/step - accuracy: 0.8853 - loss: 0.3984 - val_accuracy: 0.8918 - val_loss: 0.3775\n",
      "Epoch 3/10\n",
      "\u001b[1m437/437\u001b[0m \u001b[32m━━━━━━━━━━━━━━━━━━━━\u001b[0m\u001b[37m\u001b[0m \u001b[1m4s\u001b[0m 8ms/step - accuracy: 0.9030 - loss: 0.3329 - val_accuracy: 0.8954 - val_loss: 0.3579\n",
      "Epoch 4/10\n",
      "\u001b[1m437/437\u001b[0m \u001b[32m━━━━━━━━━━━━━━━━━━━━\u001b[0m\u001b[37m\u001b[0m \u001b[1m4s\u001b[0m 8ms/step - accuracy: 0.9120 - loss: 0.2946 - val_accuracy: 0.8958 - val_loss: 0.3587\n",
      "Epoch 5/10\n",
      "\u001b[1m437/437\u001b[0m \u001b[32m━━━━━━━━━━━━━━━━━━━━\u001b[0m\u001b[37m\u001b[0m \u001b[1m4s\u001b[0m 8ms/step - accuracy: 0.9173 - loss: 0.2681 - val_accuracy: 0.8990 - val_loss: 0.3486\n",
      "Epoch 6/10\n",
      "\u001b[1m437/437\u001b[0m \u001b[32m━━━━━━━━━━━━━━━━━━━━\u001b[0m\u001b[37m\u001b[0m \u001b[1m4s\u001b[0m 8ms/step - accuracy: 0.9223 - loss: 0.2518 - val_accuracy: 0.8978 - val_loss: 0.3476\n",
      "Epoch 7/10\n",
      "\u001b[1m437/437\u001b[0m \u001b[32m━━━━━━━━━━━━━━━━━━━━\u001b[0m\u001b[37m\u001b[0m \u001b[1m4s\u001b[0m 8ms/step - accuracy: 0.9266 - loss: 0.2339 - val_accuracy: 0.9026 - val_loss: 0.3387\n",
      "Epoch 8/10\n",
      "\u001b[1m437/437\u001b[0m \u001b[32m━━━━━━━━━━━━━━━━━━━━\u001b[0m\u001b[37m\u001b[0m \u001b[1m4s\u001b[0m 8ms/step - accuracy: 0.9291 - loss: 0.2238 - val_accuracy: 0.8990 - val_loss: 0.3459\n",
      "Epoch 9/10\n",
      "\u001b[1m437/437\u001b[0m \u001b[32m━━━━━━━━━━━━━━━━━━━━\u001b[0m\u001b[37m\u001b[0m \u001b[1m4s\u001b[0m 8ms/step - accuracy: 0.9312 - loss: 0.2152 - val_accuracy: 0.8999 - val_loss: 0.3613\n",
      "Epoch 10/10\n",
      "\u001b[1m437/437\u001b[0m \u001b[32m━━━━━━━━━━━━━━━━━━━━\u001b[0m\u001b[37m\u001b[0m \u001b[1m4s\u001b[0m 9ms/step - accuracy: 0.9338 - loss: 0.2036 - val_accuracy: 0.9022 - val_loss: 0.3604\n"
     ]
    },
    {
     "data": {
      "text/plain": [
       "<keras.src.callbacks.history.History at 0x19d2cf73050>"
      ]
     },
     "execution_count": 117,
     "metadata": {},
     "output_type": "execute_result"
    }
   ],
   "source": [
    "model_get_min.fit(\n",
    "    X_train_Min, \n",
    "    y_train_Min_2, \n",
    "    epochs=10, \n",
    "    batch_size=256, \n",
    "    validation_data=(\n",
    "        X_validation_Min, \n",
    "        y_validation_Min_2\n",
    "    ),\n",
    "    verbose=1\n",
    ")\n",
    "\n",
    "# Batch 32\n",
    "# accuracy : 0.9293\n",
    "# loss : 0.2193\n",
    "# Temps : 2m 45.3s\n",
    "\n",
    "# Batch 64\n",
    "# accuracy : 0.9328\n",
    "# loss : 0.2042\n",
    "# Temps : 2m 2.7s\n",
    "\n",
    "# Batch 128\n",
    "# accuracy : 0.9332\n",
    "# loss : 0.2038\n",
    "# Temps : 58.4s\n",
    "\n",
    "# Batch 256\n",
    "# accuracy : 0.9338\n",
    "# loss : 0.2036\n",
    "# Temps : 38.3s"
   ]
  },
  {
   "cell_type": "code",
   "execution_count": 118,
   "id": "1096eafa",
   "metadata": {},
   "outputs": [
    {
     "name": "stdout",
     "output_type": "stream",
     "text": [
      "\u001b[1m1168/1168\u001b[0m \u001b[32m━━━━━━━━━━━━━━━━━━━━\u001b[0m\u001b[37m\u001b[0m \u001b[1m1s\u001b[0m 1ms/step - accuracy: 0.9033 - loss: 0.3468\n",
      "Test accuracy : 0.9012795090675354\n",
      "Test loss : 0.35665667057037354\n"
     ]
    }
   ],
   "source": [
    "test_loss_min, test_acc_min = model_get_min.evaluate(X_test_Min, y_test_Min_2)\n",
    "print(f\"Test accuracy : {test_acc_min}\") # Test accuracy : \n",
    "print(f\"Test loss : {test_loss_min}\") # Test loss : \n",
    "# Temps : "
   ]
  },
  {
   "cell_type": "code",
   "execution_count": 119,
   "id": "6cffe41e",
   "metadata": {},
   "outputs": [],
   "source": [
    "# Sauvegarder le modèle\n",
    "model_get_min.save(\"../models/Get_Min_b256.keras\")  # Format keras (.keras)"
   ]
  },
  {
   "cell_type": "code",
   "execution_count": 120,
   "id": "aeef9462",
   "metadata": {},
   "outputs": [
    {
     "name": "stdout",
     "output_type": "stream",
     "text": [
      "\u001b[1m1168/1168\u001b[0m \u001b[32m━━━━━━━━━━━━━━━━━━━━\u001b[0m\u001b[37m\u001b[0m \u001b[1m1s\u001b[0m 1ms/step\n"
     ]
    },
    {
     "data": {
      "text/plain": [
       "array([5.9035546e-01, 9.7117275e-01, 9.2190164e-01, 4.1890580e-02,\n",
       "       9.9999934e-01, 2.8666988e-01, 7.1529663e-01, 1.8013838e-03,\n",
       "       7.5455479e-02, 4.3689166e-03, 1.4060725e-01, 5.3666425e-01,\n",
       "       1.0300325e-05, 4.7124522e-03, 1.3229237e-02, 1.2714712e-01,\n",
       "       6.9835389e-01, 8.4855187e-01, 1.8895514e-01, 9.7830892e-01,\n",
       "       6.5506492e-03, 1.1652083e-02, 3.9213101e-05, 7.6142787e-03,\n",
       "       8.8577509e-02, 9.3476719e-01], dtype=float32)"
      ]
     },
     "execution_count": 120,
     "metadata": {},
     "output_type": "execute_result"
    }
   ],
   "source": [
    "y_predicted_Min = model_get_min.predict(X_test_Min)\n",
    "y_predicted_Min[1]"
   ]
  },
  {
   "cell_type": "code",
   "execution_count": 121,
   "id": "607f5872",
   "metadata": {},
   "outputs": [
    {
     "data": {
      "text/plain": [
       "[0, 4, 0, 13, 3]"
      ]
     },
     "execution_count": 121,
     "metadata": {},
     "output_type": "execute_result"
    }
   ],
   "source": [
    "# y_predicted_labels_Min = [correspondance_Min[np.argmax(i)] for i in y_predicted_Min]\n",
    "y_predicted_labels_Min = [np.argmax(i) for i in y_predicted_Min]\n",
    "y_predicted_labels_Min[:5]"
   ]
  },
  {
   "cell_type": "code",
   "execution_count": 122,
   "id": "8bbc8228",
   "metadata": {},
   "outputs": [
    {
     "data": {
      "text/plain": [
       "Text(95.72222222222221, 0.5, 'Truth')"
      ]
     },
     "execution_count": 122,
     "metadata": {},
     "output_type": "execute_result"
    },
    {
     "data": {
      "image/png": "[encoded data removed]",
      "text/plain": [
       "<Figure size 1000x700 with 2 Axes>"
      ]
     },
     "metadata": {},
     "output_type": "display_data"
    }
   ],
   "source": [
    "# Matrice de confusion\n",
    "cm_Min = tf.math.confusion_matrix(labels=y_test_Min_2, predictions=y_predicted_labels_Min)\n",
    "plt.figure(figsize=(10, 7))\n",
    "sns.heatmap(cm_Min, annot=True, fmt='d')\n",
    "plt.xlabel('Predicted')\n",
    "plt.ylabel('Truth')"
   ]
  },
  {
   "cell_type": "markdown",
   "id": "c92b7446",
   "metadata": {},
   "source": [
    "# Get Nbr (NN)\n",
    "---\n",
    "\n",
    "Modèle ..."
   ]
  },
  {
   "cell_type": "code",
   "execution_count": 123,
   "id": "d6a0345c",
   "metadata": {},
   "outputs": [],
   "source": [
    "model_get_nbr = keras.Sequential([\n",
    "    keras.layers.Input((2500,)), # input layer : 2500 neurones (50x50 pixels)\n",
    "    keras.layers.Dense(625, activation='relu'),\n",
    "    keras.layers.Dense(156, activation='relu'),\n",
    "    keras.layers.Dense(40, activation='relu'),\n",
    "    keras.layers.Dense(26, activation='sigmoid') # output layer : 26 neurones (A-Z)\n",
    "])\n",
    "\n",
    "model_get_nbr.compile(\n",
    "    optimizer='adam',\n",
    "    loss='sparse_categorical_crossentropy',\n",
    "    metrics=['accuracy']\n",
    ")"
   ]
  },
  {
   "cell_type": "code",
   "execution_count": null,
   "id": "3cf7f959",
   "metadata": {},
   "outputs": [
    {
     "name": "stdout",
     "output_type": "stream",
     "text": [
      "Epoch 1/10\n",
      "\u001b[1m880/880\u001b[0m \u001b[32m━━━━━━━━━━━━━━━━━━━━\u001b[0m\u001b[37m\u001b[0m \u001b[1m9s\u001b[0m 9ms/step - accuracy: 0.8496 - loss: 0.5230 - val_accuracy: 0.9209 - val_loss: 0.2403\n",
      "Epoch 2/10\n",
      "\u001b[1m880/880\u001b[0m \u001b[32m━━━━━━━━━━━━━━━━━━━━\u001b[0m\u001b[37m\u001b[0m \u001b[1m7s\u001b[0m 8ms/step - accuracy: 0.9215 - loss: 0.2355 - val_accuracy: 0.9238 - val_loss: 0.2260\n",
      "Epoch 3/10\n",
      "\u001b[1m880/880\u001b[0m \u001b[32m━━━━━━━━━━━━━━━━━━━━\u001b[0m\u001b[37m\u001b[0m \u001b[1m7s\u001b[0m 8ms/step - accuracy: 0.9269 - loss: 0.2141 - val_accuracy: 0.9235 - val_loss: 0.2260\n",
      "Epoch 4/10\n",
      "\u001b[1m880/880\u001b[0m \u001b[32m━━━━━━━━━━━━━━━━━━━━\u001b[0m\u001b[37m\u001b[0m \u001b[1m7s\u001b[0m 8ms/step - accuracy: 0.9277 - loss: 0.2084 - val_accuracy: 0.9254 - val_loss: 0.2177\n",
      "Epoch 5/10\n",
      "\u001b[1m880/880\u001b[0m \u001b[32m━━━━━━━━━━━━━━━━━━━━\u001b[0m\u001b[37m\u001b[0m \u001b[1m7s\u001b[0m 8ms/step - accuracy: 0.9295 - loss: 0.2001 - val_accuracy: 0.9274 - val_loss: 0.2133\n",
      "Epoch 6/10\n",
      "\u001b[1m880/880\u001b[0m \u001b[32m━━━━━━━━━━━━━━━━━━━━\u001b[0m\u001b[37m\u001b[0m \u001b[1m8s\u001b[0m 9ms/step - accuracy: 0.9312 - loss: 0.1943 - val_accuracy: 0.9267 - val_loss: 0.2163\n",
      "Epoch 7/10\n",
      "\u001b[1m880/880\u001b[0m \u001b[32m━━━━━━━━━━━━━━━━━━━━\u001b[0m\u001b[37m\u001b[0m \u001b[1m8s\u001b[0m 9ms/step - accuracy: 0.9328 - loss: 0.1896 - val_accuracy: 0.9256 - val_loss: 0.2225\n",
      "Epoch 8/10\n",
      "\u001b[1m880/880\u001b[0m \u001b[32m━━━━━━━━━━━━━━━━━━━━\u001b[0m\u001b[37m\u001b[0m \u001b[1m7s\u001b[0m 8ms/step - accuracy: 0.9326 - loss: 0.1882 - val_accuracy: 0.9248 - val_loss: 0.2202\n",
      "Epoch 9/10\n",
      "\u001b[1m880/880\u001b[0m \u001b[32m━━━━━━━━━━━━━━━━━━━━\u001b[0m\u001b[37m\u001b[0m \u001b[1m7s\u001b[0m 8ms/step - accuracy: 0.9353 - loss: 0.1827 - val_accuracy: 0.9280 - val_loss: 0.2179\n",
      "Epoch 10/10\n",
      "\u001b[1m880/880\u001b[0m \u001b[32m━━━━━━━━━━━━━━━━━━━━\u001b[0m\u001b[37m\u001b[0m \u001b[1m7s\u001b[0m 8ms/step - accuracy: 0.9342 - loss: 0.1825 - val_accuracy: 0.9265 - val_loss: 0.2227\n"
     ]
    },
    {
     "data": {
      "text/plain": [
       "<keras.src.callbacks.history.History at 0x19d5cd550d0>"
      ]
     },
     "execution_count": 124,
     "metadata": {},
     "output_type": "execute_result"
    }
   ],
   "source": [
    "model_get_nbr.fit(\n",
    "    X_train_Nbr, \n",
    "    y_train_Nbr_2, \n",
    "    epochs=10, \n",
    "    batch_size=256,\n",
    "    validation_data=(\n",
    "        X_validation_Nbr, \n",
    "        y_validation_Nbr_2\n",
    "    ),\n",
    "    verbose=1\n",
    ")\n",
    "\n",
    "# Batch 32\n",
    "# accuracy : 0.9325\n",
    "# loss : 0.1897\n",
    "# Temps : 6m 16.0s\n",
    "\n",
    "# Batch 64\n",
    "# accuracy : 0.9347\n",
    "# loss : 0.1844\n",
    "# Temps : 4m 16.6s\n",
    "\n",
    "# Batch 128\n",
    "# accuracy : 0.9343\n",
    "# loss : 0.1834\n",
    "# Temps : 1m 59.6s\n",
    "\n",
    "# Batch 256\n",
    "# accuracy : 0.9342\n",
    "# loss : 0.1825\n",
    "# Temps : 1m 16.2s"
   ]
  },
  {
   "cell_type": "code",
   "execution_count": 125,
   "id": "a6058305",
   "metadata": {},
   "outputs": [
    {
     "name": "stdout",
     "output_type": "stream",
     "text": [
      "\u001b[1m2345/2345\u001b[0m \u001b[32m━━━━━━━━━━━━━━━━━━━━\u001b[0m\u001b[37m\u001b[0m \u001b[1m2s\u001b[0m 1ms/step - accuracy: 0.9270 - loss: 0.2195\n",
      "Test accuracy : 0.9269164204597473\n",
      "Test loss : 0.2212202399969101\n"
     ]
    }
   ],
   "source": [
    "test_loss_nbr, test_acc_nbr = model_get_nbr.evaluate(X_test_Nbr, y_test_Nbr_2)\n",
    "print(f\"Test accuracy : {test_acc_nbr}\") # Test accuracy : \n",
    "print(f\"Test loss : {test_loss_nbr}\") # Test loss : \n",
    "# Temps : 3.0s"
   ]
  },
  {
   "cell_type": "code",
   "execution_count": 126,
   "id": "b656bfc0",
   "metadata": {},
   "outputs": [],
   "source": [
    "# Sauvegarder le modèle\n",
    "model_get_nbr.save(\"../models/Get_Nbr_b256.keras\")  # Format keras (.keras)"
   ]
  },
  {
   "cell_type": "code",
   "execution_count": 127,
   "id": "28c6f4ea",
   "metadata": {},
   "outputs": [
    {
     "name": "stdout",
     "output_type": "stream",
     "text": [
      "\u001b[1m2345/2345\u001b[0m \u001b[32m━━━━━━━━━━━━━━━━━━━━\u001b[0m\u001b[37m\u001b[0m \u001b[1m3s\u001b[0m 1ms/step\n"
     ]
    },
    {
     "data": {
      "text/plain": [
       "array([9.9996060e-01, 1.1053688e-02, 9.2244041e-01, 9.4952154e-01,\n",
       "       9.3979239e-01, 9.8952442e-01, 1.0000000e+00, 2.2995542e-03,\n",
       "       9.9256873e-01, 1.7366345e-01, 3.0165398e-16, 1.0909468e-11,\n",
       "       6.0325204e-15, 8.7041077e-12, 2.6861522e-15, 1.2222526e-14,\n",
       "       2.9563044e-20, 4.2663978e-18, 3.6837082e-17, 5.9191191e-21,\n",
       "       1.9959212e-21, 4.2729230e-21, 1.5715228e-12, 2.5685016e-12,\n",
       "       3.4318953e-22, 4.4440609e-17], dtype=float32)"
      ]
     },
     "execution_count": 127,
     "metadata": {},
     "output_type": "execute_result"
    }
   ],
   "source": [
    "y_predicted_Nbr = model_get_nbr.predict(X_test_Nbr)\n",
    "y_predicted_Nbr[1]\n",
    "# Temps : 3.4s"
   ]
  },
  {
   "cell_type": "code",
   "execution_count": 128,
   "id": "65f5c4f6",
   "metadata": {},
   "outputs": [
    {
     "data": {
      "text/plain": [
       "[8, 6, 0, 1, 2]"
      ]
     },
     "execution_count": 128,
     "metadata": {},
     "output_type": "execute_result"
    }
   ],
   "source": [
    "# y_predicted_labels_Nbr = [correspondance_Nbr[np.argmax(i)] for i in y_predicted_Nbr]\n",
    "y_predicted_labels_Nbr = [np.argmax(i) for i in y_predicted_Nbr]\n",
    "y_predicted_labels_Nbr[:5]"
   ]
  },
  {
   "cell_type": "code",
   "execution_count": 129,
   "id": "438b306a",
   "metadata": {},
   "outputs": [
    {
     "data": {
      "text/plain": [
       "Text(95.72222222222221, 0.5, 'Truth')"
      ]
     },
     "execution_count": 129,
     "metadata": {},
     "output_type": "execute_result"
    },
    {
     "data": {
      "image/png": "[encoded data removed]",
      "text/plain": [
       "<Figure size 1000x700 with 2 Axes>"
      ]
     },
     "metadata": {},
     "output_type": "display_data"
    }
   ],
   "source": [
    "# Matrice de confusion\n",
    "cm_Nbr = tf.math.confusion_matrix(labels=y_test_Nbr_2, predictions=y_predicted_labels_Nbr)\n",
    "plt.figure(figsize=(10, 7))\n",
    "sns.heatmap(cm_Nbr, annot=True, fmt='d')\n",
    "plt.xlabel('Predicted')\n",
    "plt.ylabel('Truth')"
   ]
  }
 ],
 "metadata": {
  "kernelspec": {
   "display_name": "Scribio",
   "language": "python",
   "name": "python3"
  },
  "language_info": {
   "codemirror_mode": {
    "name": "ipython",
    "version": 3
   },
   "file_extension": ".py",
   "mimetype": "text/x-python",
   "name": "python",
   "nbconvert_exporter": "python",
   "pygments_lexer": "ipython3",
   "version": "3.11.4"
  }
 },
 "nbformat": 4,
 "nbformat_minor": 5
}
