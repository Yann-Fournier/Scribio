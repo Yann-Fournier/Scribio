{
 "cells": [
  {
   "cell_type": "code",
   "execution_count": 1,
   "id": "initial_id",
   "metadata": {
    "ExecuteTime": {
     "end_time": "2024-12-02T15:39:15.743926Z",
     "start_time": "2024-12-02T15:39:15.736806Z"
    },
    "collapsed": true
   },
   "outputs": [],
   "source": [
    "import pandas as pd\n",
    "import numpy as np\n",
    "import seaborn as sns\n",
    "from tqdm import tqdm # progress bar\n",
    "import tensorflow as tf\n",
    "from tensorflow import keras\n",
    "import matplotlib.pyplot as plt\n",
    "from pymongo import MongoClient\n",
    "from sklearn.preprocessing import LabelEncoder"
   ]
  },
  {
   "cell_type": "code",
   "execution_count": 2,
   "id": "5fd3a22c",
   "metadata": {},
   "outputs": [],
   "source": [
    "LISTE_MAJ = [\"A\", \"B\", \"C\", \"D\", \"E\", \"F\", \"G\", \"H\", \"I\", \"J\", \"K\", \"L\", \"M\", \"N\", \"O\", \"P\", \"Q\", \"R\", \"S\", \"T\", \"U\", \"V\", \"W\", \"X\", \"Y\", \"Z\"]\n",
    "LISTE_MIN = [\"a\", \"b\", \"c\", \"d\", \"e\", \"f\", \"g\", \"h\", \"i\", \"j\", \"k\", \"l\", \"m\", \"n\", \"o\", \"p\", \"q\", \"r\", \"s\", \"t\", \"u\", \"v\", \"w\", \"x\", \"y\", \"z\"]\n",
    "LISTE_NBR = [\"0\", \"1\", \"2\", \"3\", \"4\", \"5\", \"6\", \"7\", \"8\", \"9\"]"
   ]
  },
  {
   "cell_type": "code",
   "execution_count": 3,
   "id": "80da29cf",
   "metadata": {},
   "outputs": [],
   "source": [
    "# shape of the image : 50x50\n",
    "# number of classes : 62\n",
    "# number of train images : 487_227\n",
    "# number of test images : 155_489\n",
    "# number of validation images : 155_686"
   ]
  },
  {
   "cell_type": "markdown",
   "id": "08306dfa",
   "metadata": {},
   "source": [
    "# Get Data\n",
    "---\n",
    "\n",
    "- Récupération des données de la base de données\n",
    "- formattage des données\n",
    "- répartition des données"
   ]
  },
  {
   "cell_type": "code",
   "execution_count": 4,
   "id": "ce99688d",
   "metadata": {},
   "outputs": [],
   "source": [
    "# Connexion à MongoDB\n",
    "client = MongoClient(\"mongodb://localhost:27017/Scibio\")  # Remplacez par l'URL de votre serveur MongoDB\n",
    "db = client[\"Scribio\"]  # Nom de la base de données\n",
    "collection = db[\"Dataset\"]  # Nom de la collection\n",
    "# Temps : 0.0s"
   ]
  },
  {
   "cell_type": "code",
   "execution_count": 5,
   "id": "5b44dd47",
   "metadata": {},
   "outputs": [],
   "source": [
    "def fetch_data(repartition: str, nbr: int):\n",
    "    query = {\"Repartition\": repartition}\n",
    "    documents = collection.find(query)\n",
    "    print(f\"fetch {repartition} OK !!!\")\n",
    "\n",
    "    images = []\n",
    "    labels = []\n",
    "    types = []\n",
    "    \n",
    "    # Parcours et transformation des photos avec barre de progression \n",
    "    with tqdm(total=nbr, desc=\"Proccessing\" , position=0, leave=True) as pbar:\n",
    "        for doc in documents:\n",
    "            images.append(np.array(doc[\"Tableau_Pixels\"], dtype=np.float32))\n",
    "            labels.append(doc[\"Label\"])\n",
    "            try:\n",
    "                types.append(doc[\"Type\"])\n",
    "            except:\n",
    "                if doc[\"Label\"] in LISTE_MAJ:\n",
    "                    types.append(\"Maj\")\n",
    "                elif doc[\"Label\"] in LISTE_MIN:\n",
    "                    types.append(\"Min\")\n",
    "                elif doc[\"Label\"] in LISTE_NBR:\n",
    "                    types.append(\"Nbr\")\n",
    "                else:\n",
    "                    types.append(\"Auc\")\n",
    "            pbar.update(1) # Mettre à jour la barre de progression\n",
    "            \n",
    "    # return np.array(images), np.array(labels, dtype=str)\n",
    "    return pd.DataFrame({\"Labels\": labels, \"Types\": types, \"Images\": images})"
   ]
  },
  {
   "cell_type": "code",
   "execution_count": 6,
   "id": "9ce9b881",
   "metadata": {},
   "outputs": [
    {
     "name": "stdout",
     "output_type": "stream",
     "text": [
      "fetch train OK !!!\n"
     ]
    },
    {
     "name": "stderr",
     "output_type": "stream",
     "text": [
      "Proccessing: 100%|██████████| 487227/487227 [04:40<00:00, 1735.17it/s]"
     ]
    },
    {
     "name": "stdout",
     "output_type": "stream",
     "text": [
      "(487227, 3)\n"
     ]
    },
    {
     "name": "stderr",
     "output_type": "stream",
     "text": [
      "\n"
     ]
    },
    {
     "data": {
      "text/html": [
       "<div>\n",
       "<style scoped>\n",
       "    .dataframe tbody tr th:only-of-type {\n",
       "        vertical-align: middle;\n",
       "    }\n",
       "\n",
       "    .dataframe tbody tr th {\n",
       "        vertical-align: top;\n",
       "    }\n",
       "\n",
       "    .dataframe thead th {\n",
       "        text-align: right;\n",
       "    }\n",
       "</style>\n",
       "<table border=\"1\" class=\"dataframe\">\n",
       "  <thead>\n",
       "    <tr style=\"text-align: right;\">\n",
       "      <th></th>\n",
       "      <th>Labels</th>\n",
       "      <th>Types</th>\n",
       "      <th>Images</th>\n",
       "    </tr>\n",
       "  </thead>\n",
       "  <tbody>\n",
       "    <tr>\n",
       "      <th>0</th>\n",
       "      <td>A</td>\n",
       "      <td>Maj</td>\n",
       "      <td>[0.0, 0.0, 0.0, 0.0, 0.0, 0.0, 0.0, 0.0, 0.0, ...</td>\n",
       "    </tr>\n",
       "    <tr>\n",
       "      <th>1</th>\n",
       "      <td>A</td>\n",
       "      <td>Maj</td>\n",
       "      <td>[0.0, 0.0, 0.0, 0.0, 0.0, 0.0, 0.0, 0.0, 0.0, ...</td>\n",
       "    </tr>\n",
       "    <tr>\n",
       "      <th>2</th>\n",
       "      <td>A</td>\n",
       "      <td>Maj</td>\n",
       "      <td>[0.0, 0.0, 0.0, 0.0, 0.0, 0.0, 0.0, 0.0, 0.0, ...</td>\n",
       "    </tr>\n",
       "    <tr>\n",
       "      <th>3</th>\n",
       "      <td>A</td>\n",
       "      <td>Maj</td>\n",
       "      <td>[0.0, 0.0, 0.0, 0.0, 0.0, 0.0, 0.0, 0.0, 0.0, ...</td>\n",
       "    </tr>\n",
       "    <tr>\n",
       "      <th>4</th>\n",
       "      <td>A</td>\n",
       "      <td>Maj</td>\n",
       "      <td>[0.0, 0.0, 0.0, 0.0, 0.0, 0.0, 0.0, 0.0, 0.0, ...</td>\n",
       "    </tr>\n",
       "  </tbody>\n",
       "</table>\n",
       "</div>"
      ],
      "text/plain": [
       "  Labels Types                                             Images\n",
       "0      A   Maj  [0.0, 0.0, 0.0, 0.0, 0.0, 0.0, 0.0, 0.0, 0.0, ...\n",
       "1      A   Maj  [0.0, 0.0, 0.0, 0.0, 0.0, 0.0, 0.0, 0.0, 0.0, ...\n",
       "2      A   Maj  [0.0, 0.0, 0.0, 0.0, 0.0, 0.0, 0.0, 0.0, 0.0, ...\n",
       "3      A   Maj  [0.0, 0.0, 0.0, 0.0, 0.0, 0.0, 0.0, 0.0, 0.0, ...\n",
       "4      A   Maj  [0.0, 0.0, 0.0, 0.0, 0.0, 0.0, 0.0, 0.0, 0.0, ..."
      ]
     },
     "execution_count": 6,
     "metadata": {},
     "output_type": "execute_result"
    }
   ],
   "source": [
    "# Recupération des données d'entrainement depuis la base de données\n",
    "df_train = fetch_data(\"train\", 487_227)\n",
    "print(df_train.shape) # (487_227, 3)\n",
    "df_train.head()\n",
    "# Temps : 5m 45.0s (en premier)"
   ]
  },
  {
   "cell_type": "code",
   "execution_count": 7,
   "id": "c5682029",
   "metadata": {},
   "outputs": [
    {
     "data": {
      "text/html": [
       "<div>\n",
       "<style scoped>\n",
       "    .dataframe tbody tr th:only-of-type {\n",
       "        vertical-align: middle;\n",
       "    }\n",
       "\n",
       "    .dataframe tbody tr th {\n",
       "        vertical-align: top;\n",
       "    }\n",
       "\n",
       "    .dataframe thead th {\n",
       "        text-align: right;\n",
       "    }\n",
       "</style>\n",
       "<table border=\"1\" class=\"dataframe\">\n",
       "  <thead>\n",
       "    <tr style=\"text-align: right;\">\n",
       "      <th></th>\n",
       "      <th>Labels</th>\n",
       "      <th>Types</th>\n",
       "      <th>Images</th>\n",
       "    </tr>\n",
       "  </thead>\n",
       "  <tbody>\n",
       "    <tr>\n",
       "      <th>0</th>\n",
       "      <td>O</td>\n",
       "      <td>Maj</td>\n",
       "      <td>[0.0, 0.0, 0.0, 0.0, 0.0, 0.0, 0.0, 0.0, 0.0, ...</td>\n",
       "    </tr>\n",
       "    <tr>\n",
       "      <th>1</th>\n",
       "      <td>b</td>\n",
       "      <td>Min</td>\n",
       "      <td>[0.0, 0.0, 0.0, 0.0, 0.0, 0.0, 0.0, 0.0, 0.0, ...</td>\n",
       "    </tr>\n",
       "    <tr>\n",
       "      <th>2</th>\n",
       "      <td>B</td>\n",
       "      <td>Maj</td>\n",
       "      <td>[0.0, 0.0, 0.0, 0.0, 0.0, 0.0, 0.0, 0.0, 0.0, ...</td>\n",
       "    </tr>\n",
       "    <tr>\n",
       "      <th>3</th>\n",
       "      <td>1</td>\n",
       "      <td>Nbr</td>\n",
       "      <td>[0.0, 0.0, 0.0, 0.0, 0.0, 0.0, 0.0, 0.0, 0.0, ...</td>\n",
       "    </tr>\n",
       "    <tr>\n",
       "      <th>4</th>\n",
       "      <td>6</td>\n",
       "      <td>Nbr</td>\n",
       "      <td>[0.0, 0.0, 0.0, 0.0, 0.0, 0.0, 0.0, 0.0, 0.0, ...</td>\n",
       "    </tr>\n",
       "  </tbody>\n",
       "</table>\n",
       "</div>"
      ],
      "text/plain": [
       "  Labels Types                                             Images\n",
       "0      O   Maj  [0.0, 0.0, 0.0, 0.0, 0.0, 0.0, 0.0, 0.0, 0.0, ...\n",
       "1      b   Min  [0.0, 0.0, 0.0, 0.0, 0.0, 0.0, 0.0, 0.0, 0.0, ...\n",
       "2      B   Maj  [0.0, 0.0, 0.0, 0.0, 0.0, 0.0, 0.0, 0.0, 0.0, ...\n",
       "3      1   Nbr  [0.0, 0.0, 0.0, 0.0, 0.0, 0.0, 0.0, 0.0, 0.0, ...\n",
       "4      6   Nbr  [0.0, 0.0, 0.0, 0.0, 0.0, 0.0, 0.0, 0.0, 0.0, ..."
      ]
     },
     "execution_count": 7,
     "metadata": {},
     "output_type": "execute_result"
    }
   ],
   "source": [
    "# Mélanger les données d'entrainement\n",
    "df_train = df_train.sample(frac=1).reset_index(drop=True)\n",
    "df_train.head()\n",
    "# Temps : 0.0s"
   ]
  },
  {
   "cell_type": "code",
   "execution_count": 8,
   "id": "6b2a0a9f",
   "metadata": {},
   "outputs": [
    {
     "name": "stdout",
     "output_type": "stream",
     "text": [
      "fetch test OK !!!\n"
     ]
    },
    {
     "name": "stderr",
     "output_type": "stream",
     "text": [
      "Proccessing: 100%|██████████| 155489/155489 [32:51<00:00, 78.86it/s]  "
     ]
    },
    {
     "name": "stdout",
     "output_type": "stream",
     "text": [
      "(155489, 3)\n"
     ]
    },
    {
     "name": "stderr",
     "output_type": "stream",
     "text": [
      "\n"
     ]
    },
    {
     "data": {
      "text/html": [
       "<div>\n",
       "<style scoped>\n",
       "    .dataframe tbody tr th:only-of-type {\n",
       "        vertical-align: middle;\n",
       "    }\n",
       "\n",
       "    .dataframe tbody tr th {\n",
       "        vertical-align: top;\n",
       "    }\n",
       "\n",
       "    .dataframe thead th {\n",
       "        text-align: right;\n",
       "    }\n",
       "</style>\n",
       "<table border=\"1\" class=\"dataframe\">\n",
       "  <thead>\n",
       "    <tr style=\"text-align: right;\">\n",
       "      <th></th>\n",
       "      <th>Labels</th>\n",
       "      <th>Types</th>\n",
       "      <th>Images</th>\n",
       "    </tr>\n",
       "  </thead>\n",
       "  <tbody>\n",
       "    <tr>\n",
       "      <th>0</th>\n",
       "      <td>A</td>\n",
       "      <td>Maj</td>\n",
       "      <td>[0.0, 0.0, 0.0, 0.0, 0.0, 0.0, 0.0, 0.0, 0.0, ...</td>\n",
       "    </tr>\n",
       "    <tr>\n",
       "      <th>1</th>\n",
       "      <td>A</td>\n",
       "      <td>Maj</td>\n",
       "      <td>[0.0, 0.0, 0.0, 0.0, 0.0, 0.0, 0.0, 0.0, 0.0, ...</td>\n",
       "    </tr>\n",
       "    <tr>\n",
       "      <th>2</th>\n",
       "      <td>A</td>\n",
       "      <td>Maj</td>\n",
       "      <td>[0.0, 0.0, 0.0, 0.0, 0.0, 0.0, 0.0, 0.0, 0.0, ...</td>\n",
       "    </tr>\n",
       "    <tr>\n",
       "      <th>3</th>\n",
       "      <td>A</td>\n",
       "      <td>Maj</td>\n",
       "      <td>[0.0, 0.0, 0.0, 0.0, 0.0, 0.0, 0.0, 0.0, 0.0, ...</td>\n",
       "    </tr>\n",
       "    <tr>\n",
       "      <th>4</th>\n",
       "      <td>A</td>\n",
       "      <td>Maj</td>\n",
       "      <td>[0.0, 0.0, 0.0, 0.0, 0.0, 0.0, 0.0, 0.0, 0.0, ...</td>\n",
       "    </tr>\n",
       "  </tbody>\n",
       "</table>\n",
       "</div>"
      ],
      "text/plain": [
       "  Labels Types                                             Images\n",
       "0      A   Maj  [0.0, 0.0, 0.0, 0.0, 0.0, 0.0, 0.0, 0.0, 0.0, ...\n",
       "1      A   Maj  [0.0, 0.0, 0.0, 0.0, 0.0, 0.0, 0.0, 0.0, 0.0, ...\n",
       "2      A   Maj  [0.0, 0.0, 0.0, 0.0, 0.0, 0.0, 0.0, 0.0, 0.0, ...\n",
       "3      A   Maj  [0.0, 0.0, 0.0, 0.0, 0.0, 0.0, 0.0, 0.0, 0.0, ...\n",
       "4      A   Maj  [0.0, 0.0, 0.0, 0.0, 0.0, 0.0, 0.0, 0.0, 0.0, ..."
      ]
     },
     "execution_count": 8,
     "metadata": {},
     "output_type": "execute_result"
    }
   ],
   "source": [
    "# Recupération des données de test depuis la base de données\n",
    "df_test = fetch_data(\"test\", 155_489)\n",
    "print(df_test.shape) # (155_489, 3)\n",
    "df_test.head()\n",
    "# Temps : 47min 25.8s (en deuxième)\n",
    "# Temps : 7m 14.4s (en premier)"
   ]
  },
  {
   "cell_type": "code",
   "execution_count": 9,
   "id": "6c263e55",
   "metadata": {},
   "outputs": [
    {
     "data": {
      "text/html": [
       "<div>\n",
       "<style scoped>\n",
       "    .dataframe tbody tr th:only-of-type {\n",
       "        vertical-align: middle;\n",
       "    }\n",
       "\n",
       "    .dataframe tbody tr th {\n",
       "        vertical-align: top;\n",
       "    }\n",
       "\n",
       "    .dataframe thead th {\n",
       "        text-align: right;\n",
       "    }\n",
       "</style>\n",
       "<table border=\"1\" class=\"dataframe\">\n",
       "  <thead>\n",
       "    <tr style=\"text-align: right;\">\n",
       "      <th></th>\n",
       "      <th>Labels</th>\n",
       "      <th>Types</th>\n",
       "      <th>Images</th>\n",
       "    </tr>\n",
       "  </thead>\n",
       "  <tbody>\n",
       "    <tr>\n",
       "      <th>0</th>\n",
       "      <td>7</td>\n",
       "      <td>Nbr</td>\n",
       "      <td>[0.0, 0.0, 0.0, 0.0, 0.0, 0.0, 0.0, 0.0, 0.0, ...</td>\n",
       "    </tr>\n",
       "    <tr>\n",
       "      <th>1</th>\n",
       "      <td>a</td>\n",
       "      <td>Min</td>\n",
       "      <td>[0.0, 0.0, 0.0, 0.0, 0.0, 0.0, 0.0, 0.0, 0.0, ...</td>\n",
       "    </tr>\n",
       "    <tr>\n",
       "      <th>2</th>\n",
       "      <td>2</td>\n",
       "      <td>Nbr</td>\n",
       "      <td>[0.0, 0.0, 0.0, 0.0, 0.0, 0.0, 0.0, 0.0, 0.0, ...</td>\n",
       "    </tr>\n",
       "    <tr>\n",
       "      <th>3</th>\n",
       "      <td>4</td>\n",
       "      <td>Nbr</td>\n",
       "      <td>[0.0, 0.0, 0.0, 0.0, 0.0, 0.0, 0.0, 0.0, 0.0, ...</td>\n",
       "    </tr>\n",
       "    <tr>\n",
       "      <th>4</th>\n",
       "      <td>l</td>\n",
       "      <td>Min</td>\n",
       "      <td>[0.0, 0.0, 0.0, 0.0, 0.0, 0.0, 0.0, 0.0, 0.0, ...</td>\n",
       "    </tr>\n",
       "  </tbody>\n",
       "</table>\n",
       "</div>"
      ],
      "text/plain": [
       "  Labels Types                                             Images\n",
       "0      7   Nbr  [0.0, 0.0, 0.0, 0.0, 0.0, 0.0, 0.0, 0.0, 0.0, ...\n",
       "1      a   Min  [0.0, 0.0, 0.0, 0.0, 0.0, 0.0, 0.0, 0.0, 0.0, ...\n",
       "2      2   Nbr  [0.0, 0.0, 0.0, 0.0, 0.0, 0.0, 0.0, 0.0, 0.0, ...\n",
       "3      4   Nbr  [0.0, 0.0, 0.0, 0.0, 0.0, 0.0, 0.0, 0.0, 0.0, ...\n",
       "4      l   Min  [0.0, 0.0, 0.0, 0.0, 0.0, 0.0, 0.0, 0.0, 0.0, ..."
      ]
     },
     "execution_count": 9,
     "metadata": {},
     "output_type": "execute_result"
    }
   ],
   "source": [
    "# Mélanger les données de test\n",
    "df_test = df_test.sample(frac=1).reset_index(drop=True)\n",
    "df_test.head()\n",
    "# Temps : "
   ]
  },
  {
   "cell_type": "code",
   "execution_count": 10,
   "id": "b6bce6c7",
   "metadata": {},
   "outputs": [
    {
     "name": "stdout",
     "output_type": "stream",
     "text": [
      "fetch validation OK !!!\n"
     ]
    },
    {
     "name": "stderr",
     "output_type": "stream",
     "text": [
      "Proccessing: 100%|██████████| 155686/155686 [45:59<00:00, 56.43it/s]  "
     ]
    },
    {
     "name": "stdout",
     "output_type": "stream",
     "text": [
      "(155686, 3)\n"
     ]
    },
    {
     "name": "stderr",
     "output_type": "stream",
     "text": [
      "\n"
     ]
    },
    {
     "data": {
      "text/html": [
       "<div>\n",
       "<style scoped>\n",
       "    .dataframe tbody tr th:only-of-type {\n",
       "        vertical-align: middle;\n",
       "    }\n",
       "\n",
       "    .dataframe tbody tr th {\n",
       "        vertical-align: top;\n",
       "    }\n",
       "\n",
       "    .dataframe thead th {\n",
       "        text-align: right;\n",
       "    }\n",
       "</style>\n",
       "<table border=\"1\" class=\"dataframe\">\n",
       "  <thead>\n",
       "    <tr style=\"text-align: right;\">\n",
       "      <th></th>\n",
       "      <th>Labels</th>\n",
       "      <th>Types</th>\n",
       "      <th>Images</th>\n",
       "    </tr>\n",
       "  </thead>\n",
       "  <tbody>\n",
       "    <tr>\n",
       "      <th>0</th>\n",
       "      <td>A</td>\n",
       "      <td>Maj</td>\n",
       "      <td>[0.0, 0.0, 0.0, 0.0, 0.0, 0.0, 0.0, 0.0, 0.0, ...</td>\n",
       "    </tr>\n",
       "    <tr>\n",
       "      <th>1</th>\n",
       "      <td>A</td>\n",
       "      <td>Maj</td>\n",
       "      <td>[0.0, 0.0, 0.0, 0.0, 0.0, 0.0, 0.0, 0.0, 0.0, ...</td>\n",
       "    </tr>\n",
       "    <tr>\n",
       "      <th>2</th>\n",
       "      <td>A</td>\n",
       "      <td>Maj</td>\n",
       "      <td>[0.0, 0.0, 0.0, 0.0, 0.0, 0.0, 0.0, 0.0, 0.0, ...</td>\n",
       "    </tr>\n",
       "    <tr>\n",
       "      <th>3</th>\n",
       "      <td>A</td>\n",
       "      <td>Maj</td>\n",
       "      <td>[0.0, 0.0, 0.0, 0.0, 0.0, 0.0, 0.0, 0.0, 0.0, ...</td>\n",
       "    </tr>\n",
       "    <tr>\n",
       "      <th>4</th>\n",
       "      <td>A</td>\n",
       "      <td>Maj</td>\n",
       "      <td>[0.0, 0.0, 0.0, 0.0, 0.0, 0.0, 0.0, 0.0, 0.0, ...</td>\n",
       "    </tr>\n",
       "  </tbody>\n",
       "</table>\n",
       "</div>"
      ],
      "text/plain": [
       "  Labels Types                                             Images\n",
       "0      A   Maj  [0.0, 0.0, 0.0, 0.0, 0.0, 0.0, 0.0, 0.0, 0.0, ...\n",
       "1      A   Maj  [0.0, 0.0, 0.0, 0.0, 0.0, 0.0, 0.0, 0.0, 0.0, ...\n",
       "2      A   Maj  [0.0, 0.0, 0.0, 0.0, 0.0, 0.0, 0.0, 0.0, 0.0, ...\n",
       "3      A   Maj  [0.0, 0.0, 0.0, 0.0, 0.0, 0.0, 0.0, 0.0, 0.0, ...\n",
       "4      A   Maj  [0.0, 0.0, 0.0, 0.0, 0.0, 0.0, 0.0, 0.0, 0.0, ..."
      ]
     },
     "execution_count": 10,
     "metadata": {},
     "output_type": "execute_result"
    }
   ],
   "source": [
    "# Recupération des données de validation depuis la base de données\n",
    "df_validation = fetch_data(\"validation\", 155_686)\n",
    "print(df_validation.shape) # (, 3)\n",
    "df_validation.head()\n",
    "# Temps : 45m 59.1s (en troisème)"
   ]
  },
  {
   "cell_type": "markdown",
   "id": "861ca775",
   "metadata": {},
   "source": [
    "# "
   ]
  },
  {
   "cell_type": "code",
   "execution_count": 11,
   "id": "f2aed575",
   "metadata": {},
   "outputs": [
    {
     "data": {
      "text/html": [
       "<div>\n",
       "<style scoped>\n",
       "    .dataframe tbody tr th:only-of-type {\n",
       "        vertical-align: middle;\n",
       "    }\n",
       "\n",
       "    .dataframe tbody tr th {\n",
       "        vertical-align: top;\n",
       "    }\n",
       "\n",
       "    .dataframe thead th {\n",
       "        text-align: right;\n",
       "    }\n",
       "</style>\n",
       "<table border=\"1\" class=\"dataframe\">\n",
       "  <thead>\n",
       "    <tr style=\"text-align: right;\">\n",
       "      <th></th>\n",
       "      <th>Labels</th>\n",
       "      <th>Types</th>\n",
       "      <th>Images</th>\n",
       "    </tr>\n",
       "  </thead>\n",
       "  <tbody>\n",
       "    <tr>\n",
       "      <th>0</th>\n",
       "      <td>R</td>\n",
       "      <td>Maj</td>\n",
       "      <td>[0.0, 0.0, 0.0, 0.0, 0.0, 0.0, 0.0, 0.0, 0.0, ...</td>\n",
       "    </tr>\n",
       "    <tr>\n",
       "      <th>1</th>\n",
       "      <td>2</td>\n",
       "      <td>Nbr</td>\n",
       "      <td>[0.0, 0.0, 0.0, 0.0, 0.0, 0.0, 0.0, 0.0, 0.0, ...</td>\n",
       "    </tr>\n",
       "    <tr>\n",
       "      <th>2</th>\n",
       "      <td>3</td>\n",
       "      <td>Nbr</td>\n",
       "      <td>[0.0, 0.0, 0.0, 0.0, 0.0, 0.0, 0.0, 0.0, 0.0, ...</td>\n",
       "    </tr>\n",
       "    <tr>\n",
       "      <th>3</th>\n",
       "      <td>1</td>\n",
       "      <td>Nbr</td>\n",
       "      <td>[0.0, 0.0, 0.0, 0.0, 0.0, 0.0, 0.0, 0.0, 0.0, ...</td>\n",
       "    </tr>\n",
       "    <tr>\n",
       "      <th>4</th>\n",
       "      <td>3</td>\n",
       "      <td>Nbr</td>\n",
       "      <td>[0.0, 0.0, 0.0, 0.0, 0.0, 0.0, 0.0, 0.0, 0.0, ...</td>\n",
       "    </tr>\n",
       "  </tbody>\n",
       "</table>\n",
       "</div>"
      ],
      "text/plain": [
       "  Labels Types                                             Images\n",
       "0      R   Maj  [0.0, 0.0, 0.0, 0.0, 0.0, 0.0, 0.0, 0.0, 0.0, ...\n",
       "1      2   Nbr  [0.0, 0.0, 0.0, 0.0, 0.0, 0.0, 0.0, 0.0, 0.0, ...\n",
       "2      3   Nbr  [0.0, 0.0, 0.0, 0.0, 0.0, 0.0, 0.0, 0.0, 0.0, ...\n",
       "3      1   Nbr  [0.0, 0.0, 0.0, 0.0, 0.0, 0.0, 0.0, 0.0, 0.0, ...\n",
       "4      3   Nbr  [0.0, 0.0, 0.0, 0.0, 0.0, 0.0, 0.0, 0.0, 0.0, ..."
      ]
     },
     "execution_count": 11,
     "metadata": {},
     "output_type": "execute_result"
    }
   ],
   "source": [
    "# Mélanger les données d'entrainement\n",
    "df_validation = df_validation.sample(frac=1).reset_index(drop=True)\n",
    "df_validation.head()\n",
    "# Temps : 0.0s"
   ]
  },
  {
   "cell_type": "markdown",
   "id": "c28800fd",
   "metadata": {},
   "source": [
    "### Données pour apprentissage du NN 'Get type'\n",
    "---\n",
    "\n",
    "Préparation des données pour l'entrainement du réseau de neurones 'Get type' qui permettra de classé les images selon trois catégories :\n",
    "\n",
    "- Majuscule\n",
    "- Minuscule\n",
    "- Nombre"
   ]
  },
  {
   "cell_type": "code",
   "execution_count": 12,
   "id": "200cea53",
   "metadata": {},
   "outputs": [],
   "source": [
    "X_train_types = np.array(df_train[\"Images\"].tolist())\n",
    "y_train_types = np.array(df_train[\"Types\"].tolist())\n",
    "X_test_types = np.array(df_test[\"Images\"].tolist())\n",
    "y_test_types = np.array(df_test[\"Types\"].tolist())\n",
    "X_validation_types = np.array(df_validation[\"Images\"].tolist())\n",
    "y_validation_types = np.array(df_validation[\"Types\"].tolist())\n",
    "# Temps : 11.8s"
   ]
  },
  {
   "cell_type": "code",
   "execution_count": 13,
   "id": "ddcc8e36",
   "metadata": {},
   "outputs": [],
   "source": [
    "# Conversion des étiquettes en indices (si nécessaire)\n",
    "label_encoder_types = LabelEncoder()\n",
    "\n",
    "y_train_types_2 = label_encoder_types.fit_transform(y_train_types)  # Convertit les étiquettes (lettres/nombres) en indices numériques (nombre) (str => int)\n",
    "y_test_types_2 = label_encoder_types.transform(y_test_types)\n",
    "y_validation_types_2 = label_encoder_types.transform(y_validation_types)"
   ]
  },
  {
   "cell_type": "code",
   "execution_count": 14,
   "id": "66a402ce",
   "metadata": {},
   "outputs": [
    {
     "name": "stdout",
     "output_type": "stream",
     "text": [
      "{0: 'Maj', 1: 'Min', 2: 'Nbr'}\n",
      "['Maj', 'Min', 'Nbr']\n"
     ]
    }
   ],
   "source": [
    "# Correspondance indices ↔ labels\n",
    "correspondance_types = dict(enumerate(label_encoder_types.classes_))\n",
    "print(correspondance_types)\n",
    "\n",
    "# Liste des labels\n",
    "labels_types = list(correspondance_types.values())\n",
    "print(labels_types)"
   ]
  },
  {
   "cell_type": "code",
   "execution_count": 15,
   "id": "9a12ce56",
   "metadata": {},
   "outputs": [
    {
     "name": "stdout",
     "output_type": "stream",
     "text": [
      "Taille de X_train_types: (487227, 2500), y_train_types: (487227,), y_train_types_2: (487227,)\n",
      "Taille de X_test_types: (155489, 2500), y_test_types: (155489,), y_test_types_2: (155489,)\n",
      "Taille de X_validation_types: (155686, 2500), y_validation_types: (155686,), y_validation_types_2: (155686,)\n"
     ]
    }
   ],
   "source": [
    "# Afficher quelques informations\n",
    "print(f\"Taille de X_train_types: {X_train_types.shape}, y_train_types: {y_train_types.shape}, y_train_types_2: {y_train_types_2.shape}\")\n",
    "print(f\"Taille de X_test_types: {X_test_types.shape}, y_test_types: {y_test_types.shape}, y_test_types_2: {y_test_types_2.shape}\")\n",
    "print(f\"Taille de X_validation_types: {X_validation_types.shape}, y_validation_types: {y_validation_types.shape}, y_validation_types_2: {y_validation_types_2.shape}\")"
   ]
  },
  {
   "cell_type": "markdown",
   "id": "be27b6f5",
   "metadata": {},
   "source": [
    "### Données pour apprentissage du NN 'Get Maj'\n",
    "---\n",
    "\n",
    "Préparation des données pour l'entrainement du réseau de neurones 'Get Maj' qui permettra de classé les images selon la lettre majuscule qui y est representée."
   ]
  },
  {
   "cell_type": "code",
   "execution_count": 16,
   "id": "171b0576",
   "metadata": {},
   "outputs": [
    {
     "name": "stdout",
     "output_type": "stream",
     "text": [
      "(150341, 3)\n"
     ]
    },
    {
     "data": {
      "text/html": [
       "<div>\n",
       "<style scoped>\n",
       "    .dataframe tbody tr th:only-of-type {\n",
       "        vertical-align: middle;\n",
       "    }\n",
       "\n",
       "    .dataframe tbody tr th {\n",
       "        vertical-align: top;\n",
       "    }\n",
       "\n",
       "    .dataframe thead th {\n",
       "        text-align: right;\n",
       "    }\n",
       "</style>\n",
       "<table border=\"1\" class=\"dataframe\">\n",
       "  <thead>\n",
       "    <tr style=\"text-align: right;\">\n",
       "      <th></th>\n",
       "      <th>Labels</th>\n",
       "      <th>Types</th>\n",
       "      <th>Images</th>\n",
       "    </tr>\n",
       "  </thead>\n",
       "  <tbody>\n",
       "    <tr>\n",
       "      <th>0</th>\n",
       "      <td>O</td>\n",
       "      <td>Maj</td>\n",
       "      <td>[0.0, 0.0, 0.0, 0.0, 0.0, 0.0, 0.0, 0.0, 0.0, ...</td>\n",
       "    </tr>\n",
       "    <tr>\n",
       "      <th>2</th>\n",
       "      <td>B</td>\n",
       "      <td>Maj</td>\n",
       "      <td>[0.0, 0.0, 0.0, 0.0, 0.0, 0.0, 0.0, 0.0, 0.0, ...</td>\n",
       "    </tr>\n",
       "    <tr>\n",
       "      <th>8</th>\n",
       "      <td>S</td>\n",
       "      <td>Maj</td>\n",
       "      <td>[0.0, 0.0, 0.0, 0.0, 0.0, 0.0, 0.0, 0.0, 0.0, ...</td>\n",
       "    </tr>\n",
       "    <tr>\n",
       "      <th>9</th>\n",
       "      <td>J</td>\n",
       "      <td>Maj</td>\n",
       "      <td>[0.0, 0.0, 0.0, 0.0, 0.0, 0.0, 0.0, 0.0, 0.0, ...</td>\n",
       "    </tr>\n",
       "    <tr>\n",
       "      <th>11</th>\n",
       "      <td>A</td>\n",
       "      <td>Maj</td>\n",
       "      <td>[0.0, 0.0, 0.0, 0.0, 0.0, 0.0, 0.0, 0.0, 0.0, ...</td>\n",
       "    </tr>\n",
       "  </tbody>\n",
       "</table>\n",
       "</div>"
      ],
      "text/plain": [
       "   Labels Types                                             Images\n",
       "0       O   Maj  [0.0, 0.0, 0.0, 0.0, 0.0, 0.0, 0.0, 0.0, 0.0, ...\n",
       "2       B   Maj  [0.0, 0.0, 0.0, 0.0, 0.0, 0.0, 0.0, 0.0, 0.0, ...\n",
       "8       S   Maj  [0.0, 0.0, 0.0, 0.0, 0.0, 0.0, 0.0, 0.0, 0.0, ...\n",
       "9       J   Maj  [0.0, 0.0, 0.0, 0.0, 0.0, 0.0, 0.0, 0.0, 0.0, ...\n",
       "11      A   Maj  [0.0, 0.0, 0.0, 0.0, 0.0, 0.0, 0.0, 0.0, 0.0, ..."
      ]
     },
     "execution_count": 16,
     "metadata": {},
     "output_type": "execute_result"
    }
   ],
   "source": [
    "df_train_Maj = df_train[df_train[\"Types\"] == \"Maj\"]\n",
    "print(df_train_Maj.shape) # (, 3)\n",
    "df_train_Maj.head()\n",
    "# Temps : "
   ]
  },
  {
   "cell_type": "code",
   "execution_count": 17,
   "id": "be8888d9",
   "metadata": {},
   "outputs": [
    {
     "name": "stdout",
     "output_type": "stream",
     "text": [
      "(43121, 3)\n"
     ]
    },
    {
     "data": {
      "text/html": [
       "<div>\n",
       "<style scoped>\n",
       "    .dataframe tbody tr th:only-of-type {\n",
       "        vertical-align: middle;\n",
       "    }\n",
       "\n",
       "    .dataframe tbody tr th {\n",
       "        vertical-align: top;\n",
       "    }\n",
       "\n",
       "    .dataframe thead th {\n",
       "        text-align: right;\n",
       "    }\n",
       "</style>\n",
       "<table border=\"1\" class=\"dataframe\">\n",
       "  <thead>\n",
       "    <tr style=\"text-align: right;\">\n",
       "      <th></th>\n",
       "      <th>Labels</th>\n",
       "      <th>Types</th>\n",
       "      <th>Images</th>\n",
       "    </tr>\n",
       "  </thead>\n",
       "  <tbody>\n",
       "    <tr>\n",
       "      <th>13</th>\n",
       "      <td>F</td>\n",
       "      <td>Maj</td>\n",
       "      <td>[0.0, 0.0, 0.0, 0.0, 0.0, 0.0, 0.0, 0.0, 0.0, ...</td>\n",
       "    </tr>\n",
       "    <tr>\n",
       "      <th>16</th>\n",
       "      <td>N</td>\n",
       "      <td>Maj</td>\n",
       "      <td>[0.0, 0.0, 0.0, 0.0, 0.0, 0.0, 0.0, 0.0, 0.0, ...</td>\n",
       "    </tr>\n",
       "    <tr>\n",
       "      <th>18</th>\n",
       "      <td>P</td>\n",
       "      <td>Maj</td>\n",
       "      <td>[0.0, 0.0, 0.0, 0.0, 0.0, 0.0, 0.0, 0.0, 0.0, ...</td>\n",
       "    </tr>\n",
       "    <tr>\n",
       "      <th>20</th>\n",
       "      <td>O</td>\n",
       "      <td>Maj</td>\n",
       "      <td>[0.0, 0.0, 0.0, 0.0, 0.0, 0.0, 0.0, 0.0, 0.0, ...</td>\n",
       "    </tr>\n",
       "    <tr>\n",
       "      <th>22</th>\n",
       "      <td>S</td>\n",
       "      <td>Maj</td>\n",
       "      <td>[0.0, 0.0, 0.0, 0.0, 0.0, 0.0, 0.0, 0.0, 0.0, ...</td>\n",
       "    </tr>\n",
       "  </tbody>\n",
       "</table>\n",
       "</div>"
      ],
      "text/plain": [
       "   Labels Types                                             Images\n",
       "13      F   Maj  [0.0, 0.0, 0.0, 0.0, 0.0, 0.0, 0.0, 0.0, 0.0, ...\n",
       "16      N   Maj  [0.0, 0.0, 0.0, 0.0, 0.0, 0.0, 0.0, 0.0, 0.0, ...\n",
       "18      P   Maj  [0.0, 0.0, 0.0, 0.0, 0.0, 0.0, 0.0, 0.0, 0.0, ...\n",
       "20      O   Maj  [0.0, 0.0, 0.0, 0.0, 0.0, 0.0, 0.0, 0.0, 0.0, ...\n",
       "22      S   Maj  [0.0, 0.0, 0.0, 0.0, 0.0, 0.0, 0.0, 0.0, 0.0, ..."
      ]
     },
     "execution_count": 17,
     "metadata": {},
     "output_type": "execute_result"
    }
   ],
   "source": [
    "df_test_Maj = df_test[df_test[\"Types\"] == \"Maj\"]\n",
    "print(df_test_Maj.shape) # (, 3)\n",
    "df_test_Maj.head()\n",
    "# Temps :"
   ]
  },
  {
   "cell_type": "code",
   "execution_count": 18,
   "id": "ccd812ea",
   "metadata": {},
   "outputs": [
    {
     "name": "stdout",
     "output_type": "stream",
     "text": [
      "(43250, 3)\n"
     ]
    },
    {
     "data": {
      "text/html": [
       "<div>\n",
       "<style scoped>\n",
       "    .dataframe tbody tr th:only-of-type {\n",
       "        vertical-align: middle;\n",
       "    }\n",
       "\n",
       "    .dataframe tbody tr th {\n",
       "        vertical-align: top;\n",
       "    }\n",
       "\n",
       "    .dataframe thead th {\n",
       "        text-align: right;\n",
       "    }\n",
       "</style>\n",
       "<table border=\"1\" class=\"dataframe\">\n",
       "  <thead>\n",
       "    <tr style=\"text-align: right;\">\n",
       "      <th></th>\n",
       "      <th>Labels</th>\n",
       "      <th>Types</th>\n",
       "      <th>Images</th>\n",
       "    </tr>\n",
       "  </thead>\n",
       "  <tbody>\n",
       "    <tr>\n",
       "      <th>0</th>\n",
       "      <td>R</td>\n",
       "      <td>Maj</td>\n",
       "      <td>[0.0, 0.0, 0.0, 0.0, 0.0, 0.0, 0.0, 0.0, 0.0, ...</td>\n",
       "    </tr>\n",
       "    <tr>\n",
       "      <th>13</th>\n",
       "      <td>T</td>\n",
       "      <td>Maj</td>\n",
       "      <td>[0.0, 0.0, 0.0, 0.0, 0.0, 0.0, 0.0, 0.0, 0.0, ...</td>\n",
       "    </tr>\n",
       "    <tr>\n",
       "      <th>16</th>\n",
       "      <td>S</td>\n",
       "      <td>Maj</td>\n",
       "      <td>[0.0, 0.0, 0.0, 0.0, 0.0, 0.0, 0.0, 0.0, 0.0, ...</td>\n",
       "    </tr>\n",
       "    <tr>\n",
       "      <th>17</th>\n",
       "      <td>N</td>\n",
       "      <td>Maj</td>\n",
       "      <td>[0.0, 0.0, 0.0, 0.0, 0.0, 0.0, 0.0, 0.0, 0.0, ...</td>\n",
       "    </tr>\n",
       "    <tr>\n",
       "      <th>19</th>\n",
       "      <td>O</td>\n",
       "      <td>Maj</td>\n",
       "      <td>[0.0, 0.0, 0.0, 0.0, 0.0, 0.0, 0.0, 0.0, 0.0, ...</td>\n",
       "    </tr>\n",
       "  </tbody>\n",
       "</table>\n",
       "</div>"
      ],
      "text/plain": [
       "   Labels Types                                             Images\n",
       "0       R   Maj  [0.0, 0.0, 0.0, 0.0, 0.0, 0.0, 0.0, 0.0, 0.0, ...\n",
       "13      T   Maj  [0.0, 0.0, 0.0, 0.0, 0.0, 0.0, 0.0, 0.0, 0.0, ...\n",
       "16      S   Maj  [0.0, 0.0, 0.0, 0.0, 0.0, 0.0, 0.0, 0.0, 0.0, ...\n",
       "17      N   Maj  [0.0, 0.0, 0.0, 0.0, 0.0, 0.0, 0.0, 0.0, 0.0, ...\n",
       "19      O   Maj  [0.0, 0.0, 0.0, 0.0, 0.0, 0.0, 0.0, 0.0, 0.0, ..."
      ]
     },
     "execution_count": 18,
     "metadata": {},
     "output_type": "execute_result"
    }
   ],
   "source": [
    "df_validation_Maj = df_validation[df_validation[\"Types\"] == \"Maj\"]\n",
    "print(df_validation_Maj.shape) # (, 3)\n",
    "df_validation_Maj.head()\n",
    "# Temps :"
   ]
  },
  {
   "cell_type": "code",
   "execution_count": 19,
   "id": "5c1ecfd6",
   "metadata": {},
   "outputs": [],
   "source": [
    "X_train_Maj = np.array(df_train_Maj[\"Images\"].tolist())\n",
    "y_train_Maj = np.array(df_train_Maj[\"Labels\"].tolist())\n",
    "X_test_Maj = np.array(df_test_Maj[\"Images\"].tolist())\n",
    "y_test_Maj = np.array(df_test_Maj[\"Labels\"].tolist())\n",
    "X_validation_Maj = np.array(df_validation_Maj[\"Images\"].tolist())\n",
    "y_validation_Maj = np.array(df_validation_Maj[\"Labels\"].tolist())\n",
    "# Temps : "
   ]
  },
  {
   "cell_type": "code",
   "execution_count": 20,
   "id": "c2e1cacf",
   "metadata": {},
   "outputs": [],
   "source": [
    "# Conversion des étiquettes en indices (si nécessaire)\n",
    "label_encoder_Maj = LabelEncoder()\n",
    "\n",
    "y_train_Maj_2 = label_encoder_Maj.fit_transform(y_train_Maj)  # Convertit les étiquettes (lettres/nombres) en indices numériques (nombre) (str => int)\n",
    "y_test_Maj_2 = label_encoder_Maj.transform(y_test_Maj)\n",
    "y_validation_Maj_2 = label_encoder_Maj.transform(y_validation_Maj)"
   ]
  },
  {
   "cell_type": "code",
   "execution_count": 21,
   "id": "a37d93b6",
   "metadata": {},
   "outputs": [
    {
     "name": "stdout",
     "output_type": "stream",
     "text": [
      "{0: 'A', 1: 'B', 2: 'C', 3: 'D', 4: 'E', 5: 'F', 6: 'G', 7: 'H', 8: 'I', 9: 'J', 10: 'K', 11: 'L', 12: 'M', 13: 'N', 14: 'O', 15: 'P', 16: 'Q', 17: 'R', 18: 'S', 19: 'T', 20: 'U', 21: 'V', 22: 'W', 23: 'X', 24: 'Y', 25: 'Z'}\n",
      "['A', 'B', 'C', 'D', 'E', 'F', 'G', 'H', 'I', 'J', 'K', 'L', 'M', 'N', 'O', 'P', 'Q', 'R', 'S', 'T', 'U', 'V', 'W', 'X', 'Y', 'Z']\n"
     ]
    }
   ],
   "source": [
    "# Correspondance indices ↔ labels\n",
    "correspondance_Maj = dict(enumerate(label_encoder_Maj.classes_))\n",
    "print(correspondance_Maj)\n",
    "\n",
    "# Liste des labels\n",
    "labels_Maj = list(correspondance_Maj.values())\n",
    "print(labels_Maj)"
   ]
  },
  {
   "cell_type": "code",
   "execution_count": 22,
   "id": "5c70f00b",
   "metadata": {},
   "outputs": [
    {
     "name": "stdout",
     "output_type": "stream",
     "text": [
      "Taille de X_train_Maj: (150341, 2500), y_train_Maj: (150341,), y_train_Maj_2: (150341,)\n",
      "Taille de X_test_Maj: (43121, 2500), y_test_Maj: (43121,), y_test_Maj_2: (43121,)\n",
      "Taille de X_validation_Maj: (43250, 2500), y_validation_Maj: (43250,), y_validation_Maj_2: (43250,)\n"
     ]
    }
   ],
   "source": [
    "# Afficher quelques informations\n",
    "print(f\"Taille de X_train_Maj: {X_train_Maj.shape}, y_train_Maj: {y_train_Maj.shape}, y_train_Maj_2: {y_train_Maj_2.shape}\")\n",
    "print(f\"Taille de X_test_Maj: {X_test_Maj.shape}, y_test_Maj: {y_test_Maj.shape}, y_test_Maj_2: {y_test_Maj_2.shape}\")\n",
    "print(f\"Taille de X_validation_Maj: {X_validation_Maj.shape}, y_validation_Maj: {y_validation_Maj.shape}, y_validation_Maj_2: {y_validation_Maj_2.shape}\")"
   ]
  },
  {
   "cell_type": "markdown",
   "id": "b1b4df28",
   "metadata": {},
   "source": [
    "### Données pour apprentissage du NN 'Get Min'\n",
    "---\n",
    "\n",
    "Préparation des données pour l'entrainement du réseau de neurones 'Get Min' qui permettra de classé les images selon la lettre minuscule qui y est representée."
   ]
  },
  {
   "cell_type": "code",
   "execution_count": 23,
   "id": "4b625cb5",
   "metadata": {},
   "outputs": [
    {
     "name": "stdout",
     "output_type": "stream",
     "text": [
      "(111713, 3)\n"
     ]
    },
    {
     "data": {
      "text/html": [
       "<div>\n",
       "<style scoped>\n",
       "    .dataframe tbody tr th:only-of-type {\n",
       "        vertical-align: middle;\n",
       "    }\n",
       "\n",
       "    .dataframe tbody tr th {\n",
       "        vertical-align: top;\n",
       "    }\n",
       "\n",
       "    .dataframe thead th {\n",
       "        text-align: right;\n",
       "    }\n",
       "</style>\n",
       "<table border=\"1\" class=\"dataframe\">\n",
       "  <thead>\n",
       "    <tr style=\"text-align: right;\">\n",
       "      <th></th>\n",
       "      <th>Labels</th>\n",
       "      <th>Types</th>\n",
       "      <th>Images</th>\n",
       "    </tr>\n",
       "  </thead>\n",
       "  <tbody>\n",
       "    <tr>\n",
       "      <th>1</th>\n",
       "      <td>b</td>\n",
       "      <td>Min</td>\n",
       "      <td>[0.0, 0.0, 0.0, 0.0, 0.0, 0.0, 0.0, 0.0, 0.0, ...</td>\n",
       "    </tr>\n",
       "    <tr>\n",
       "      <th>6</th>\n",
       "      <td>g</td>\n",
       "      <td>Min</td>\n",
       "      <td>[0.0, 0.0, 0.0, 0.0, 0.0, 0.0, 0.0, 0.0, 0.0, ...</td>\n",
       "    </tr>\n",
       "    <tr>\n",
       "      <th>12</th>\n",
       "      <td>i</td>\n",
       "      <td>Min</td>\n",
       "      <td>[0.0, 0.0, 0.0, 0.0, 0.0, 0.0, 0.0, 0.0, 0.0, ...</td>\n",
       "    </tr>\n",
       "    <tr>\n",
       "      <th>22</th>\n",
       "      <td>n</td>\n",
       "      <td>Min</td>\n",
       "      <td>[0.0, 0.0, 0.0, 0.0, 0.0, 0.0, 0.0, 0.0, 0.0, ...</td>\n",
       "    </tr>\n",
       "    <tr>\n",
       "      <th>26</th>\n",
       "      <td>j</td>\n",
       "      <td>Min</td>\n",
       "      <td>[0.0, 0.0, 0.0, 0.0, 0.0, 0.0, 0.0, 0.0, 0.0, ...</td>\n",
       "    </tr>\n",
       "  </tbody>\n",
       "</table>\n",
       "</div>"
      ],
      "text/plain": [
       "   Labels Types                                             Images\n",
       "1       b   Min  [0.0, 0.0, 0.0, 0.0, 0.0, 0.0, 0.0, 0.0, 0.0, ...\n",
       "6       g   Min  [0.0, 0.0, 0.0, 0.0, 0.0, 0.0, 0.0, 0.0, 0.0, ...\n",
       "12      i   Min  [0.0, 0.0, 0.0, 0.0, 0.0, 0.0, 0.0, 0.0, 0.0, ...\n",
       "22      n   Min  [0.0, 0.0, 0.0, 0.0, 0.0, 0.0, 0.0, 0.0, 0.0, ...\n",
       "26      j   Min  [0.0, 0.0, 0.0, 0.0, 0.0, 0.0, 0.0, 0.0, 0.0, ..."
      ]
     },
     "execution_count": 23,
     "metadata": {},
     "output_type": "execute_result"
    }
   ],
   "source": [
    "df_train_Min = df_train[df_train[\"Types\"] == \"Min\"]\n",
    "print(df_train_Min.shape) # (, 3)\n",
    "df_train_Min.head()\n",
    "# Temps : "
   ]
  },
  {
   "cell_type": "code",
   "execution_count": 24,
   "id": "2f458f81",
   "metadata": {},
   "outputs": [
    {
     "name": "stdout",
     "output_type": "stream",
     "text": [
      "(37358, 3)\n"
     ]
    },
    {
     "data": {
      "text/html": [
       "<div>\n",
       "<style scoped>\n",
       "    .dataframe tbody tr th:only-of-type {\n",
       "        vertical-align: middle;\n",
       "    }\n",
       "\n",
       "    .dataframe tbody tr th {\n",
       "        vertical-align: top;\n",
       "    }\n",
       "\n",
       "    .dataframe thead th {\n",
       "        text-align: right;\n",
       "    }\n",
       "</style>\n",
       "<table border=\"1\" class=\"dataframe\">\n",
       "  <thead>\n",
       "    <tr style=\"text-align: right;\">\n",
       "      <th></th>\n",
       "      <th>Labels</th>\n",
       "      <th>Types</th>\n",
       "      <th>Images</th>\n",
       "    </tr>\n",
       "  </thead>\n",
       "  <tbody>\n",
       "    <tr>\n",
       "      <th>1</th>\n",
       "      <td>a</td>\n",
       "      <td>Min</td>\n",
       "      <td>[0.0, 0.0, 0.0, 0.0, 0.0, 0.0, 0.0, 0.0, 0.0, ...</td>\n",
       "    </tr>\n",
       "    <tr>\n",
       "      <th>4</th>\n",
       "      <td>l</td>\n",
       "      <td>Min</td>\n",
       "      <td>[0.0, 0.0, 0.0, 0.0, 0.0, 0.0, 0.0, 0.0, 0.0, ...</td>\n",
       "    </tr>\n",
       "    <tr>\n",
       "      <th>5</th>\n",
       "      <td>n</td>\n",
       "      <td>Min</td>\n",
       "      <td>[0.0, 0.0, 0.0, 0.0, 0.0, 0.0, 0.0, 0.0, 0.0, ...</td>\n",
       "    </tr>\n",
       "    <tr>\n",
       "      <th>8</th>\n",
       "      <td>b</td>\n",
       "      <td>Min</td>\n",
       "      <td>[0.0, 0.0, 0.0, 0.0, 0.0, 0.0, 0.0, 0.0, 0.0, ...</td>\n",
       "    </tr>\n",
       "    <tr>\n",
       "      <th>11</th>\n",
       "      <td>u</td>\n",
       "      <td>Min</td>\n",
       "      <td>[0.0, 0.0, 0.0, 0.0, 0.0, 0.0, 0.0, 0.0, 0.0, ...</td>\n",
       "    </tr>\n",
       "  </tbody>\n",
       "</table>\n",
       "</div>"
      ],
      "text/plain": [
       "   Labels Types                                             Images\n",
       "1       a   Min  [0.0, 0.0, 0.0, 0.0, 0.0, 0.0, 0.0, 0.0, 0.0, ...\n",
       "4       l   Min  [0.0, 0.0, 0.0, 0.0, 0.0, 0.0, 0.0, 0.0, 0.0, ...\n",
       "5       n   Min  [0.0, 0.0, 0.0, 0.0, 0.0, 0.0, 0.0, 0.0, 0.0, ...\n",
       "8       b   Min  [0.0, 0.0, 0.0, 0.0, 0.0, 0.0, 0.0, 0.0, 0.0, ...\n",
       "11      u   Min  [0.0, 0.0, 0.0, 0.0, 0.0, 0.0, 0.0, 0.0, 0.0, ..."
      ]
     },
     "execution_count": 24,
     "metadata": {},
     "output_type": "execute_result"
    }
   ],
   "source": [
    "df_test_Min = df_test[df_test[\"Types\"] == \"Min\"]\n",
    "print(df_test_Min.shape) # (, 3)\n",
    "df_test_Min.head()\n",
    "# Temps :"
   ]
  },
  {
   "cell_type": "code",
   "execution_count": 25,
   "id": "f2e1c2b5",
   "metadata": {},
   "outputs": [
    {
     "name": "stdout",
     "output_type": "stream",
     "text": [
      "(37374, 3)\n"
     ]
    },
    {
     "data": {
      "text/html": [
       "<div>\n",
       "<style scoped>\n",
       "    .dataframe tbody tr th:only-of-type {\n",
       "        vertical-align: middle;\n",
       "    }\n",
       "\n",
       "    .dataframe tbody tr th {\n",
       "        vertical-align: top;\n",
       "    }\n",
       "\n",
       "    .dataframe thead th {\n",
       "        text-align: right;\n",
       "    }\n",
       "</style>\n",
       "<table border=\"1\" class=\"dataframe\">\n",
       "  <thead>\n",
       "    <tr style=\"text-align: right;\">\n",
       "      <th></th>\n",
       "      <th>Labels</th>\n",
       "      <th>Types</th>\n",
       "      <th>Images</th>\n",
       "    </tr>\n",
       "  </thead>\n",
       "  <tbody>\n",
       "    <tr>\n",
       "      <th>6</th>\n",
       "      <td>m</td>\n",
       "      <td>Min</td>\n",
       "      <td>[0.0, 0.0, 0.0, 0.0, 0.0, 0.0, 0.0, 0.0, 0.0, ...</td>\n",
       "    </tr>\n",
       "    <tr>\n",
       "      <th>10</th>\n",
       "      <td>r</td>\n",
       "      <td>Min</td>\n",
       "      <td>[0.0, 0.0, 0.0, 0.0, 0.0, 0.0, 0.0, 0.0, 0.0, ...</td>\n",
       "    </tr>\n",
       "    <tr>\n",
       "      <th>12</th>\n",
       "      <td>e</td>\n",
       "      <td>Min</td>\n",
       "      <td>[0.0, 0.0, 0.0, 0.0, 0.0, 0.0, 0.0, 0.0, 0.0, ...</td>\n",
       "    </tr>\n",
       "    <tr>\n",
       "      <th>20</th>\n",
       "      <td>e</td>\n",
       "      <td>Min</td>\n",
       "      <td>[0.0, 0.0, 0.0, 0.0, 0.0, 0.0, 0.0, 0.0, 0.0, ...</td>\n",
       "    </tr>\n",
       "    <tr>\n",
       "      <th>21</th>\n",
       "      <td>r</td>\n",
       "      <td>Min</td>\n",
       "      <td>[0.0, 0.0, 0.0, 0.0, 0.0, 0.0, 0.0, 0.0, 0.0, ...</td>\n",
       "    </tr>\n",
       "  </tbody>\n",
       "</table>\n",
       "</div>"
      ],
      "text/plain": [
       "   Labels Types                                             Images\n",
       "6       m   Min  [0.0, 0.0, 0.0, 0.0, 0.0, 0.0, 0.0, 0.0, 0.0, ...\n",
       "10      r   Min  [0.0, 0.0, 0.0, 0.0, 0.0, 0.0, 0.0, 0.0, 0.0, ...\n",
       "12      e   Min  [0.0, 0.0, 0.0, 0.0, 0.0, 0.0, 0.0, 0.0, 0.0, ...\n",
       "20      e   Min  [0.0, 0.0, 0.0, 0.0, 0.0, 0.0, 0.0, 0.0, 0.0, ...\n",
       "21      r   Min  [0.0, 0.0, 0.0, 0.0, 0.0, 0.0, 0.0, 0.0, 0.0, ..."
      ]
     },
     "execution_count": 25,
     "metadata": {},
     "output_type": "execute_result"
    }
   ],
   "source": [
    "df_validation_Min = df_validation[df_validation[\"Types\"] == \"Min\"]\n",
    "print(df_validation_Min.shape) # (, 3)\n",
    "df_validation_Min.head()\n",
    "# Temps :"
   ]
  },
  {
   "cell_type": "code",
   "execution_count": 26,
   "id": "4199a9d1",
   "metadata": {},
   "outputs": [],
   "source": [
    "X_train_Min = np.array(df_train_Min[\"Images\"].tolist())\n",
    "y_train_Min = np.array(df_train_Min[\"Labels\"].tolist())\n",
    "X_test_Min = np.array(df_test_Min[\"Images\"].tolist())\n",
    "y_test_Min = np.array(df_test_Min[\"Labels\"].tolist())\n",
    "X_validation_Min = np.array(df_validation_Min[\"Images\"].tolist())\n",
    "y_validation_Min = np.array(df_validation_Min[\"Labels\"].tolist())\n",
    "# Temps : 1.3s"
   ]
  },
  {
   "cell_type": "code",
   "execution_count": 27,
   "id": "1ec82bca",
   "metadata": {},
   "outputs": [],
   "source": [
    "# Conversion des étiquettes en indices (si nécessaire)\n",
    "label_encoder_Min = LabelEncoder()\n",
    "\n",
    "y_train_Min_2 = label_encoder_Min.fit_transform(y_train_Min)  # Convertit les étiquettes (lettres/nombres) en indices numériques (nombre) (str => int)\n",
    "y_test_Min_2 = label_encoder_Min.transform(y_test_Min)\n",
    "y_validation_Min_2 = label_encoder_Min.transform(y_validation_Min)"
   ]
  },
  {
   "cell_type": "code",
   "execution_count": 28,
   "id": "cbde9fbc",
   "metadata": {},
   "outputs": [
    {
     "name": "stdout",
     "output_type": "stream",
     "text": [
      "{0: 'a', 1: 'b', 2: 'c', 3: 'd', 4: 'e', 5: 'f', 6: 'g', 7: 'h', 8: 'i', 9: 'j', 10: 'k', 11: 'l', 12: 'm', 13: 'n', 14: 'o', 15: 'p', 16: 'q', 17: 'r', 18: 's', 19: 't', 20: 'u', 21: 'v', 22: 'w', 23: 'x', 24: 'y', 25: 'z'}\n",
      "['a', 'b', 'c', 'd', 'e', 'f', 'g', 'h', 'i', 'j', 'k', 'l', 'm', 'n', 'o', 'p', 'q', 'r', 's', 't', 'u', 'v', 'w', 'x', 'y', 'z']\n"
     ]
    }
   ],
   "source": [
    "# Correspondance indices ↔ labels\n",
    "correspondance_Min = dict(enumerate(label_encoder_Min.classes_))\n",
    "print(correspondance_Min)\n",
    "\n",
    "# Liste des labels\n",
    "labels_Min = list(correspondance_Min.values())\n",
    "print(labels_Min)"
   ]
  },
  {
   "cell_type": "code",
   "execution_count": 29,
   "id": "11e08a64",
   "metadata": {},
   "outputs": [
    {
     "name": "stdout",
     "output_type": "stream",
     "text": [
      "Taille de X_train_Min: (111713, 2500), y_train_Min: (111713,), y_train_Min_2: (111713,)\n",
      "Taille de X_test_Min: (37358, 2500), y_test_Min: (37358,), y_test_Min_2: (37358,)\n",
      "Taille de X_validation_Min: (37374, 2500), y_validation_Min: (37374,), y_validation_Min_2: (37374,)\n"
     ]
    }
   ],
   "source": [
    "# Afficher quelques informations\n",
    "print(f\"Taille de X_train_Min: {X_train_Min.shape}, y_train_Min: {y_train_Min.shape}, y_train_Min_2: {y_train_Min_2.shape}\")\n",
    "print(f\"Taille de X_test_Min: {X_test_Min.shape}, y_test_Min: {y_test_Min.shape}, y_test_Min_2: {y_test_Min_2.shape}\")\n",
    "print(f\"Taille de X_validation_Min: {X_validation_Min.shape}, y_validation_Min: {y_validation_Min.shape}, y_validation_Min_2: {y_validation_Min_2.shape}\")"
   ]
  },
  {
   "cell_type": "markdown",
   "id": "5ddfa01a",
   "metadata": {},
   "source": [
    "### Données pour apprentissage du NN 'Get Nbr'\n",
    "---\n",
    "\n",
    "Préparation des données pour l'entrainement du réseau de neurones 'Get Nbr' qui permettra de classé les images selon le chiffre qui y est représenté."
   ]
  },
  {
   "cell_type": "code",
   "execution_count": 30,
   "id": "1131478e",
   "metadata": {},
   "outputs": [
    {
     "name": "stdout",
     "output_type": "stream",
     "text": [
      "(225173, 3)\n"
     ]
    },
    {
     "data": {
      "text/html": [
       "<div>\n",
       "<style scoped>\n",
       "    .dataframe tbody tr th:only-of-type {\n",
       "        vertical-align: middle;\n",
       "    }\n",
       "\n",
       "    .dataframe tbody tr th {\n",
       "        vertical-align: top;\n",
       "    }\n",
       "\n",
       "    .dataframe thead th {\n",
       "        text-align: right;\n",
       "    }\n",
       "</style>\n",
       "<table border=\"1\" class=\"dataframe\">\n",
       "  <thead>\n",
       "    <tr style=\"text-align: right;\">\n",
       "      <th></th>\n",
       "      <th>Labels</th>\n",
       "      <th>Types</th>\n",
       "      <th>Images</th>\n",
       "    </tr>\n",
       "  </thead>\n",
       "  <tbody>\n",
       "    <tr>\n",
       "      <th>3</th>\n",
       "      <td>1</td>\n",
       "      <td>Nbr</td>\n",
       "      <td>[0.0, 0.0, 0.0, 0.0, 0.0, 0.0, 0.0, 0.0, 0.0, ...</td>\n",
       "    </tr>\n",
       "    <tr>\n",
       "      <th>4</th>\n",
       "      <td>6</td>\n",
       "      <td>Nbr</td>\n",
       "      <td>[0.0, 0.0, 0.0, 0.0, 0.0, 0.0, 0.0, 0.0, 0.0, ...</td>\n",
       "    </tr>\n",
       "    <tr>\n",
       "      <th>5</th>\n",
       "      <td>7</td>\n",
       "      <td>Nbr</td>\n",
       "      <td>[0.0, 0.0, 0.0, 0.0, 0.0, 0.0, 0.0, 0.0, 0.0, ...</td>\n",
       "    </tr>\n",
       "    <tr>\n",
       "      <th>7</th>\n",
       "      <td>8</td>\n",
       "      <td>Nbr</td>\n",
       "      <td>[0.0, 0.0, 0.0, 0.0, 0.0, 0.0, 0.0, 0.0, 0.0, ...</td>\n",
       "    </tr>\n",
       "    <tr>\n",
       "      <th>10</th>\n",
       "      <td>1</td>\n",
       "      <td>Nbr</td>\n",
       "      <td>[0.0, 0.0, 0.0, 0.0, 0.0, 0.0, 0.0, 0.0, 0.0, ...</td>\n",
       "    </tr>\n",
       "  </tbody>\n",
       "</table>\n",
       "</div>"
      ],
      "text/plain": [
       "   Labels Types                                             Images\n",
       "3       1   Nbr  [0.0, 0.0, 0.0, 0.0, 0.0, 0.0, 0.0, 0.0, 0.0, ...\n",
       "4       6   Nbr  [0.0, 0.0, 0.0, 0.0, 0.0, 0.0, 0.0, 0.0, 0.0, ...\n",
       "5       7   Nbr  [0.0, 0.0, 0.0, 0.0, 0.0, 0.0, 0.0, 0.0, 0.0, ...\n",
       "7       8   Nbr  [0.0, 0.0, 0.0, 0.0, 0.0, 0.0, 0.0, 0.0, 0.0, ...\n",
       "10      1   Nbr  [0.0, 0.0, 0.0, 0.0, 0.0, 0.0, 0.0, 0.0, 0.0, ..."
      ]
     },
     "execution_count": 30,
     "metadata": {},
     "output_type": "execute_result"
    }
   ],
   "source": [
    "df_train_Nbr = df_train[df_train[\"Types\"] == \"Nbr\"]\n",
    "print(df_train_Nbr.shape) # (, 3)\n",
    "df_train_Nbr.head()\n",
    "# Temps : "
   ]
  },
  {
   "cell_type": "code",
   "execution_count": 31,
   "id": "ab429874",
   "metadata": {},
   "outputs": [
    {
     "name": "stdout",
     "output_type": "stream",
     "text": [
      "(75010, 3)\n"
     ]
    },
    {
     "data": {
      "text/html": [
       "<div>\n",
       "<style scoped>\n",
       "    .dataframe tbody tr th:only-of-type {\n",
       "        vertical-align: middle;\n",
       "    }\n",
       "\n",
       "    .dataframe tbody tr th {\n",
       "        vertical-align: top;\n",
       "    }\n",
       "\n",
       "    .dataframe thead th {\n",
       "        text-align: right;\n",
       "    }\n",
       "</style>\n",
       "<table border=\"1\" class=\"dataframe\">\n",
       "  <thead>\n",
       "    <tr style=\"text-align: right;\">\n",
       "      <th></th>\n",
       "      <th>Labels</th>\n",
       "      <th>Types</th>\n",
       "      <th>Images</th>\n",
       "    </tr>\n",
       "  </thead>\n",
       "  <tbody>\n",
       "    <tr>\n",
       "      <th>0</th>\n",
       "      <td>7</td>\n",
       "      <td>Nbr</td>\n",
       "      <td>[0.0, 0.0, 0.0, 0.0, 0.0, 0.0, 0.0, 0.0, 0.0, ...</td>\n",
       "    </tr>\n",
       "    <tr>\n",
       "      <th>2</th>\n",
       "      <td>2</td>\n",
       "      <td>Nbr</td>\n",
       "      <td>[0.0, 0.0, 0.0, 0.0, 0.0, 0.0, 0.0, 0.0, 0.0, ...</td>\n",
       "    </tr>\n",
       "    <tr>\n",
       "      <th>3</th>\n",
       "      <td>4</td>\n",
       "      <td>Nbr</td>\n",
       "      <td>[0.0, 0.0, 0.0, 0.0, 0.0, 0.0, 0.0, 0.0, 0.0, ...</td>\n",
       "    </tr>\n",
       "    <tr>\n",
       "      <th>6</th>\n",
       "      <td>3</td>\n",
       "      <td>Nbr</td>\n",
       "      <td>[0.0, 0.0, 0.0, 0.0, 0.0, 0.0, 0.0, 0.0, 0.0, ...</td>\n",
       "    </tr>\n",
       "    <tr>\n",
       "      <th>7</th>\n",
       "      <td>4</td>\n",
       "      <td>Nbr</td>\n",
       "      <td>[0.0, 0.0, 0.0, 0.0, 0.0, 0.0, 0.0, 0.0, 0.0, ...</td>\n",
       "    </tr>\n",
       "  </tbody>\n",
       "</table>\n",
       "</div>"
      ],
      "text/plain": [
       "  Labels Types                                             Images\n",
       "0      7   Nbr  [0.0, 0.0, 0.0, 0.0, 0.0, 0.0, 0.0, 0.0, 0.0, ...\n",
       "2      2   Nbr  [0.0, 0.0, 0.0, 0.0, 0.0, 0.0, 0.0, 0.0, 0.0, ...\n",
       "3      4   Nbr  [0.0, 0.0, 0.0, 0.0, 0.0, 0.0, 0.0, 0.0, 0.0, ...\n",
       "6      3   Nbr  [0.0, 0.0, 0.0, 0.0, 0.0, 0.0, 0.0, 0.0, 0.0, ...\n",
       "7      4   Nbr  [0.0, 0.0, 0.0, 0.0, 0.0, 0.0, 0.0, 0.0, 0.0, ..."
      ]
     },
     "execution_count": 31,
     "metadata": {},
     "output_type": "execute_result"
    }
   ],
   "source": [
    "df_test_Nbr = df_test[df_test[\"Types\"] == \"Nbr\"]\n",
    "print(df_test_Nbr.shape) # (, 3)\n",
    "df_test_Nbr.head()\n",
    "# Temps : "
   ]
  },
  {
   "cell_type": "code",
   "execution_count": 32,
   "id": "f483c835",
   "metadata": {},
   "outputs": [
    {
     "name": "stdout",
     "output_type": "stream",
     "text": [
      "(75062, 3)\n"
     ]
    },
    {
     "data": {
      "text/html": [
       "<div>\n",
       "<style scoped>\n",
       "    .dataframe tbody tr th:only-of-type {\n",
       "        vertical-align: middle;\n",
       "    }\n",
       "\n",
       "    .dataframe tbody tr th {\n",
       "        vertical-align: top;\n",
       "    }\n",
       "\n",
       "    .dataframe thead th {\n",
       "        text-align: right;\n",
       "    }\n",
       "</style>\n",
       "<table border=\"1\" class=\"dataframe\">\n",
       "  <thead>\n",
       "    <tr style=\"text-align: right;\">\n",
       "      <th></th>\n",
       "      <th>Labels</th>\n",
       "      <th>Types</th>\n",
       "      <th>Images</th>\n",
       "    </tr>\n",
       "  </thead>\n",
       "  <tbody>\n",
       "    <tr>\n",
       "      <th>1</th>\n",
       "      <td>2</td>\n",
       "      <td>Nbr</td>\n",
       "      <td>[0.0, 0.0, 0.0, 0.0, 0.0, 0.0, 0.0, 0.0, 0.0, ...</td>\n",
       "    </tr>\n",
       "    <tr>\n",
       "      <th>2</th>\n",
       "      <td>3</td>\n",
       "      <td>Nbr</td>\n",
       "      <td>[0.0, 0.0, 0.0, 0.0, 0.0, 0.0, 0.0, 0.0, 0.0, ...</td>\n",
       "    </tr>\n",
       "    <tr>\n",
       "      <th>3</th>\n",
       "      <td>1</td>\n",
       "      <td>Nbr</td>\n",
       "      <td>[0.0, 0.0, 0.0, 0.0, 0.0, 0.0, 0.0, 0.0, 0.0, ...</td>\n",
       "    </tr>\n",
       "    <tr>\n",
       "      <th>4</th>\n",
       "      <td>3</td>\n",
       "      <td>Nbr</td>\n",
       "      <td>[0.0, 0.0, 0.0, 0.0, 0.0, 0.0, 0.0, 0.0, 0.0, ...</td>\n",
       "    </tr>\n",
       "    <tr>\n",
       "      <th>5</th>\n",
       "      <td>9</td>\n",
       "      <td>Nbr</td>\n",
       "      <td>[0.0, 0.0, 0.0, 0.0, 0.0, 0.0, 0.0, 0.0, 0.0, ...</td>\n",
       "    </tr>\n",
       "  </tbody>\n",
       "</table>\n",
       "</div>"
      ],
      "text/plain": [
       "  Labels Types                                             Images\n",
       "1      2   Nbr  [0.0, 0.0, 0.0, 0.0, 0.0, 0.0, 0.0, 0.0, 0.0, ...\n",
       "2      3   Nbr  [0.0, 0.0, 0.0, 0.0, 0.0, 0.0, 0.0, 0.0, 0.0, ...\n",
       "3      1   Nbr  [0.0, 0.0, 0.0, 0.0, 0.0, 0.0, 0.0, 0.0, 0.0, ...\n",
       "4      3   Nbr  [0.0, 0.0, 0.0, 0.0, 0.0, 0.0, 0.0, 0.0, 0.0, ...\n",
       "5      9   Nbr  [0.0, 0.0, 0.0, 0.0, 0.0, 0.0, 0.0, 0.0, 0.0, ..."
      ]
     },
     "execution_count": 32,
     "metadata": {},
     "output_type": "execute_result"
    }
   ],
   "source": [
    "df_validation_Nbr = df_validation[df_validation[\"Types\"] == \"Nbr\"]\n",
    "print(df_validation_Nbr.shape) # (, 3)\n",
    "df_validation_Nbr.head()\n",
    "# Temps : "
   ]
  },
  {
   "cell_type": "code",
   "execution_count": 33,
   "id": "135ad779",
   "metadata": {},
   "outputs": [],
   "source": [
    "X_train_Nbr = np.array(df_train_Nbr[\"Images\"].tolist())\n",
    "y_train_Nbr = np.array(df_train_Nbr[\"Labels\"].tolist())\n",
    "X_test_Nbr = np.array(df_test_Nbr[\"Images\"].tolist())\n",
    "y_test_Nbr = np.array(df_test_Nbr[\"Labels\"].tolist())\n",
    "X_validation_Nbr = np.array(df_validation_Nbr[\"Images\"].tolist())\n",
    "y_validation_Nbr = np.array(df_validation_Nbr[\"Labels\"].tolist())\n",
    "# Temps : 9.1s"
   ]
  },
  {
   "cell_type": "code",
   "execution_count": 34,
   "id": "ab84cf16",
   "metadata": {},
   "outputs": [],
   "source": [
    "# Conversion des étiquettes en indices (si nécessaire)\n",
    "label_encoder_Nbr = LabelEncoder()\n",
    "\n",
    "y_train_Nbr_2 = label_encoder_Nbr.fit_transform(y_train_Nbr)  # Convertit les étiquettes (lettres/nombres) en indices numériques (nombre) (str => int)\n",
    "y_test_Nbr_2 = label_encoder_Nbr.transform(y_test_Nbr)\n",
    "y_validation_Nbr_2 = label_encoder_Nbr.transform(y_validation_Nbr)"
   ]
  },
  {
   "cell_type": "code",
   "execution_count": 35,
   "id": "cb0e1562",
   "metadata": {},
   "outputs": [
    {
     "name": "stdout",
     "output_type": "stream",
     "text": [
      "{0: '0', 1: '1', 2: '2', 3: '3', 4: '4', 5: '5', 6: '6', 7: '7', 8: '8', 9: '9'}\n",
      "['0', '1', '2', '3', '4', '5', '6', '7', '8', '9']\n"
     ]
    }
   ],
   "source": [
    "# Correspondance indices ↔ labels\n",
    "correspondance_Nbr = dict(enumerate(label_encoder_Nbr.classes_))\n",
    "print(correspondance_Nbr)\n",
    "\n",
    "# Liste des labels\n",
    "labels_Nbr = list(correspondance_Nbr.values())\n",
    "print(labels_Nbr)"
   ]
  },
  {
   "cell_type": "code",
   "execution_count": 36,
   "id": "745fcefd",
   "metadata": {},
   "outputs": [
    {
     "name": "stdout",
     "output_type": "stream",
     "text": [
      "Taille de X_train_Nbr: (225173, 2500), y_train_Nbr: (225173,), y_train_Nbr_2: (225173,)\n",
      "Taille de X_test_Nbr: (75010, 2500), y_test_Nbr: (75010,), y_test_Nbr_2: (75010,)\n",
      "Taille de X_validation_Nbr: (75062, 2500), y_validation_Nbr: (75062,), y_validation_Nbr_2: (75062,)\n"
     ]
    }
   ],
   "source": [
    "# Afficher quelques informations\n",
    "print(f\"Taille de X_train_Nbr: {X_train_Nbr.shape}, y_train_Nbr: {y_train_Nbr.shape}, y_train_Nbr_2: {y_train_Nbr_2.shape}\")\n",
    "print(f\"Taille de X_test_Nbr: {X_test_Nbr.shape}, y_test_Nbr: {y_test_Nbr.shape}, y_test_Nbr_2: {y_test_Nbr_2.shape}\")\n",
    "print(f\"Taille de X_validation_Nbr: {X_validation_Nbr.shape}, y_validation_Nbr: {y_validation_Nbr.shape}, y_validation_Nbr_2: {y_validation_Nbr_2.shape}\")"
   ]
  },
  {
   "cell_type": "markdown",
   "id": "75c86311",
   "metadata": {},
   "source": [
    "# Get Type (NN)\n",
    "---\n",
    "\n",
    "Modèle ..."
   ]
  },
  {
   "cell_type": "code",
   "execution_count": 68,
   "id": "684d35c3",
   "metadata": {},
   "outputs": [],
   "source": [
    "# Reseau de neurones\n",
    "model_get_type = keras.Sequential([\n",
    "    keras.layers.Input((2500,)), # input layer : 2500 neurones (50x50 pixels)\n",
    "    keras.layers.Dense(625, activation='relu'), \n",
    "    # keras.layers.Dropout(0.5), # dropout : 0.5 pour éviter l'overfitting (sur-apprentissage)\n",
    "    keras.layers.Dense(156, activation='relu'), \n",
    "    # keras.layers.Dropout(0.5),\n",
    "    keras.layers.Dense(40, activation='relu'), \n",
    "    # keras.layers.Dropout(0.5),\n",
    "    keras.layers.Dense(10, activation='relu'),\n",
    "    # keras.layers.Dropout(0.5), \n",
    "    keras.layers.Dense(3, activation='softmax') # output layer : 3 neurones (Maj, Min, Nbr) -> softmax : sortie à 3 classes\n",
    "])\n",
    "\n",
    "model_get_type.compile(\n",
    "    optimizer='adam', # optimizer : Adam avec learning rate de 0.0001\n",
    "    loss='sparse_categorical_crossentropy', # loss : sparse_categorical_crossentropy pour la classification\n",
    "    metrics=['accuracy'] # metrics : accuracy pour évaluer la performance du modèle\n",
    ")"
   ]
  },
  {
   "cell_type": "code",
   "execution_count": 69,
   "id": "0f3591d3",
   "metadata": {},
   "outputs": [
    {
     "name": "stdout",
     "output_type": "stream",
     "text": [
      "Epoch 1/10\n",
      "\u001b[1m15226/15226\u001b[0m \u001b[32m━━━━━━━━━━━━━━━━━━━━\u001b[0m\u001b[37m\u001b[0m \u001b[1m88s\u001b[0m 6ms/step - accuracy: 0.7637 - loss: 0.5535 - val_accuracy: 0.8165 - val_loss: 0.4436\n",
      "Epoch 2/10\n",
      "\u001b[1m15226/15226\u001b[0m \u001b[32m━━━━━━━━━━━━━━━━━━━━\u001b[0m\u001b[37m\u001b[0m \u001b[1m93s\u001b[0m 6ms/step - accuracy: 0.8269 - loss: 0.4163 - val_accuracy: 0.8275 - val_loss: 0.4145\n",
      "Epoch 3/10\n",
      "\u001b[1m15226/15226\u001b[0m \u001b[32m━━━━━━━━━━━━━━━━━━━━\u001b[0m\u001b[37m\u001b[0m \u001b[1m98s\u001b[0m 6ms/step - accuracy: 0.8388 - loss: 0.3870 - val_accuracy: 0.8314 - val_loss: 0.4071\n",
      "Epoch 4/10\n",
      "\u001b[1m15226/15226\u001b[0m \u001b[32m━━━━━━━━━━━━━━━━━━━━\u001b[0m\u001b[37m\u001b[0m \u001b[1m99s\u001b[0m 6ms/step - accuracy: 0.8440 - loss: 0.3739 - val_accuracy: 0.8355 - val_loss: 0.4001\n",
      "Epoch 5/10\n",
      "\u001b[1m15226/15226\u001b[0m \u001b[32m━━━━━━━━━━━━━━━━━━━━\u001b[0m\u001b[37m\u001b[0m \u001b[1m100s\u001b[0m 7ms/step - accuracy: 0.8484 - loss: 0.3632 - val_accuracy: 0.8377 - val_loss: 0.3926\n",
      "Epoch 6/10\n",
      "\u001b[1m15226/15226\u001b[0m \u001b[32m━━━━━━━━━━━━━━━━━━━━\u001b[0m\u001b[37m\u001b[0m \u001b[1m93s\u001b[0m 6ms/step - accuracy: 0.8520 - loss: 0.3553 - val_accuracy: 0.8366 - val_loss: 0.3986\n",
      "Epoch 7/10\n",
      "\u001b[1m15226/15226\u001b[0m \u001b[32m━━━━━━━━━━━━━━━━━━━━\u001b[0m\u001b[37m\u001b[0m \u001b[1m99s\u001b[0m 6ms/step - accuracy: 0.8568 - loss: 0.3451 - val_accuracy: 0.8367 - val_loss: 0.4024\n",
      "Epoch 8/10\n",
      "\u001b[1m15226/15226\u001b[0m \u001b[32m━━━━━━━━━━━━━━━━━━━━\u001b[0m\u001b[37m\u001b[0m \u001b[1m99s\u001b[0m 7ms/step - accuracy: 0.8579 - loss: 0.3399 - val_accuracy: 0.8404 - val_loss: 0.3909\n",
      "Epoch 9/10\n",
      "\u001b[1m15226/15226\u001b[0m \u001b[32m━━━━━━━━━━━━━━━━━━━━\u001b[0m\u001b[37m\u001b[0m \u001b[1m83s\u001b[0m 5ms/step - accuracy: 0.8603 - loss: 0.3352 - val_accuracy: 0.8400 - val_loss: 0.3964\n",
      "Epoch 10/10\n",
      "\u001b[1m15226/15226\u001b[0m \u001b[32m━━━━━━━━━━━━━━━━━━━━\u001b[0m\u001b[37m\u001b[0m \u001b[1m76s\u001b[0m 5ms/step - accuracy: 0.8618 - loss: 0.3311 - val_accuracy: 0.8387 - val_loss: 0.4002\n"
     ]
    },
    {
     "data": {
      "text/plain": [
       "<keras.src.callbacks.history.History at 0x1d12cb20610>"
      ]
     },
     "execution_count": 69,
     "metadata": {},
     "output_type": "execute_result"
    }
   ],
   "source": [
    "model_get_type.fit(\n",
    "    X_train_types, \n",
    "    y_train_types_2, \n",
    "    epochs=10, \n",
    "    batch_size=32, \n",
    "    validation_data=(\n",
    "        X_validation_types, \n",
    "        y_validation_types_2\n",
    "    ),\n",
    "    verbose=1\n",
    ")\n",
    "# accuracy : 0.8618\n",
    "# loss : 0.3311\n",
    "# Temps : 16m 33.5s"
   ]
  },
  {
   "cell_type": "code",
   "execution_count": 70,
   "id": "e640ee91",
   "metadata": {},
   "outputs": [
    {
     "name": "stdout",
     "output_type": "stream",
     "text": [
      "\u001b[1m4860/4860\u001b[0m \u001b[32m━━━━━━━━━━━━━━━━━━━━\u001b[0m\u001b[37m\u001b[0m \u001b[1m6s\u001b[0m 1ms/step - accuracy: 0.8426 - loss: 0.3941\n",
      "Test accuracy : 0.8406768441200256\n",
      "Test loss : 0.39648327231407166\n"
     ]
    }
   ],
   "source": [
    "test_loss_type, test_acc_type = model_get_type.evaluate(X_test_types, y_test_types_2)\n",
    "print(f\"Test accuracy : {test_acc_type}\") # Test accuracy : \n",
    "print(f\"Test loss : {test_loss_type}\") # Test loss : \n",
    "# Temps : 8.3s"
   ]
  },
  {
   "cell_type": "code",
   "execution_count": 71,
   "id": "e8d21c2d",
   "metadata": {},
   "outputs": [],
   "source": [
    "# Sauvegarder le modèle\n",
    "model_get_type.save(\"../models/Get_type_b32.keras\")  # Format HDF5 (.h5)"
   ]
  },
  {
   "cell_type": "code",
   "execution_count": 72,
   "id": "3c7e8a14",
   "metadata": {},
   "outputs": [
    {
     "name": "stdout",
     "output_type": "stream",
     "text": [
      "\u001b[1m4860/4860\u001b[0m \u001b[32m━━━━━━━━━━━━━━━━━━━━\u001b[0m\u001b[37m\u001b[0m \u001b[1m5s\u001b[0m 1ms/step\n"
     ]
    },
    {
     "data": {
      "text/plain": [
       "array([0.01299905, 0.876464  , 0.11053694], dtype=float32)"
      ]
     },
     "execution_count": 72,
     "metadata": {},
     "output_type": "execute_result"
    }
   ],
   "source": [
    "y_predicted_types = model_get_type.predict(X_test_types)\n",
    "y_predicted_types[1]\n",
    "# Temps : 7.2s"
   ]
  },
  {
   "cell_type": "code",
   "execution_count": 73,
   "id": "5a255831",
   "metadata": {},
   "outputs": [
    {
     "data": {
      "text/plain": [
       "1"
      ]
     },
     "execution_count": 73,
     "metadata": {},
     "output_type": "execute_result"
    }
   ],
   "source": [
    "np.argmax(y_predicted_types[1])"
   ]
  },
  {
   "cell_type": "code",
   "execution_count": 74,
   "id": "be508530",
   "metadata": {},
   "outputs": [
    {
     "data": {
      "text/plain": [
       "[2, 1, 2, 2, 2]"
      ]
     },
     "execution_count": 74,
     "metadata": {},
     "output_type": "execute_result"
    }
   ],
   "source": [
    "# y_predicted_labels1 = np.array([correspondance_types[np.argmax(i)] for i in y_predicted_types])\n",
    "y_predicted_labels_types = [np.argmax(i) for i in y_predicted_types]\n",
    "y_predicted_labels_types[:5]"
   ]
  },
  {
   "cell_type": "code",
   "execution_count": 75,
   "id": "95a13ef7",
   "metadata": {},
   "outputs": [
    {
     "data": {
      "text/plain": [
       "array([2, 1, 2, 2, 1])"
      ]
     },
     "execution_count": 75,
     "metadata": {},
     "output_type": "execute_result"
    }
   ],
   "source": [
    "y_test_types_2[:5]"
   ]
  },
  {
   "cell_type": "code",
   "execution_count": 76,
   "id": "886fbde4",
   "metadata": {},
   "outputs": [
    {
     "data": {
      "text/plain": [
       "Text(95.72222222222221, 0.5, 'Truth')"
      ]
     },
     "execution_count": 76,
     "metadata": {},
     "output_type": "execute_result"
    },
    {
     "data": {
      "image/png": "[encoded data removed]",
      "text/plain": [
       "<Figure size 1000x700 with 2 Axes>"
      ]
     },
     "metadata": {},
     "output_type": "display_data"
    }
   ],
   "source": [
    "# Matrice de confusion\n",
    "cm_types = tf.math.confusion_matrix(labels=y_test_types_2, predictions=y_predicted_labels_types)\n",
    "plt.figure(figsize=(10, 7))\n",
    "sns.heatmap(cm_types, annot=True, fmt='d')\n",
    "plt.xlabel('Predicted')\n",
    "plt.ylabel('Truth')"
   ]
  },
  {
   "cell_type": "markdown",
   "id": "5b557b32",
   "metadata": {},
   "source": [
    "# Get Maj (NN)\n",
    "---\n",
    "\n",
    "Modèle ..."
   ]
  },
  {
   "cell_type": "code",
   "execution_count": 77,
   "id": "6321ce1f",
   "metadata": {},
   "outputs": [],
   "source": [
    "model_get_maj = keras.Sequential([\n",
    "    keras.layers.Input((2500,)), # input layer : 2500 neurones (50x50 pixels)\n",
    "    keras.layers.Dense(625, activation='relu'),\n",
    "    # keras.layers.Dropout(0.5), # dropout : 0.5 pour éviter l'overfitting (sur-apprentissage)\n",
    "    keras.layers.Dense(156, activation='relu'),\n",
    "    # keras.layers.Dropout(0.5),\n",
    "    keras.layers.Dense(40, activation='relu'),\n",
    "    # keras.layers.Dropout(0.5),\n",
    "    keras.layers.Dense(26, activation='sigmoid') # output layer : 26 neurones (A-Z)\n",
    "])\n",
    "\n",
    "model_get_maj.compile(\n",
    "    optimizer='adam',\n",
    "    loss='sparse_categorical_crossentropy',\n",
    "    metrics=['accuracy']\n",
    ")"
   ]
  },
  {
   "cell_type": "code",
   "execution_count": 78,
   "id": "5d7a8dc0",
   "metadata": {},
   "outputs": [
    {
     "name": "stdout",
     "output_type": "stream",
     "text": [
      "Epoch 1/10\n",
      "\u001b[1m4699/4699\u001b[0m \u001b[32m━━━━━━━━━━━━━━━━━━━━\u001b[0m\u001b[37m\u001b[0m \u001b[1m26s\u001b[0m 5ms/step - accuracy: 0.8049 - loss: 0.7138 - val_accuracy: 0.9099 - val_loss: 0.3358\n",
      "Epoch 2/10\n",
      "\u001b[1m4699/4699\u001b[0m \u001b[32m━━━━━━━━━━━━━━━━━━━━\u001b[0m\u001b[37m\u001b[0m \u001b[1m25s\u001b[0m 5ms/step - accuracy: 0.9188 - loss: 0.2948 - val_accuracy: 0.9224 - val_loss: 0.2899\n",
      "Epoch 3/10\n",
      "\u001b[1m4699/4699\u001b[0m \u001b[32m━━━━━━━━━━━━━━━━━━━━\u001b[0m\u001b[37m\u001b[0m \u001b[1m27s\u001b[0m 6ms/step - accuracy: 0.9297 - loss: 0.2523 - val_accuracy: 0.9219 - val_loss: 0.2914\n",
      "Epoch 4/10\n",
      "\u001b[1m4699/4699\u001b[0m \u001b[32m━━━━━━━━━━━━━━━━━━━━\u001b[0m\u001b[37m\u001b[0m \u001b[1m25s\u001b[0m 5ms/step - accuracy: 0.9356 - loss: 0.2306 - val_accuracy: 0.9265 - val_loss: 0.2819\n",
      "Epoch 5/10\n",
      "\u001b[1m4699/4699\u001b[0m \u001b[32m━━━━━━━━━━━━━━━━━━━━\u001b[0m\u001b[37m\u001b[0m \u001b[1m25s\u001b[0m 5ms/step - accuracy: 0.9413 - loss: 0.2081 - val_accuracy: 0.9284 - val_loss: 0.2815\n",
      "Epoch 6/10\n",
      "\u001b[1m4699/4699\u001b[0m \u001b[32m━━━━━━━━━━━━━━━━━━━━\u001b[0m\u001b[37m\u001b[0m \u001b[1m25s\u001b[0m 5ms/step - accuracy: 0.9429 - loss: 0.2002 - val_accuracy: 0.9295 - val_loss: 0.2720\n",
      "Epoch 7/10\n",
      "\u001b[1m4699/4699\u001b[0m \u001b[32m━━━━━━━━━━━━━━━━━━━━\u001b[0m\u001b[37m\u001b[0m \u001b[1m25s\u001b[0m 5ms/step - accuracy: 0.9448 - loss: 0.1901 - val_accuracy: 0.9304 - val_loss: 0.2780\n",
      "Epoch 8/10\n",
      "\u001b[1m4699/4699\u001b[0m \u001b[32m━━━━━━━━━━━━━━━━━━━━\u001b[0m\u001b[37m\u001b[0m \u001b[1m25s\u001b[0m 5ms/step - accuracy: 0.9488 - loss: 0.1806 - val_accuracy: 0.9300 - val_loss: 0.2793\n",
      "Epoch 9/10\n",
      "\u001b[1m4699/4699\u001b[0m \u001b[32m━━━━━━━━━━━━━━━━━━━━\u001b[0m\u001b[37m\u001b[0m \u001b[1m25s\u001b[0m 5ms/step - accuracy: 0.9489 - loss: 0.1792 - val_accuracy: 0.9295 - val_loss: 0.2934\n",
      "Epoch 10/10\n",
      "\u001b[1m4699/4699\u001b[0m \u001b[32m━━━━━━━━━━━━━━━━━━━━\u001b[0m\u001b[37m\u001b[0m \u001b[1m25s\u001b[0m 5ms/step - accuracy: 0.9508 - loss: 0.1701 - val_accuracy: 0.9320 - val_loss: 0.3061\n"
     ]
    },
    {
     "data": {
      "text/plain": [
       "<keras.src.callbacks.history.History at 0x1d12cb233d0>"
      ]
     },
     "execution_count": 78,
     "metadata": {},
     "output_type": "execute_result"
    }
   ],
   "source": [
    "model_get_maj.fit(\n",
    "    X_train_Maj, \n",
    "    y_train_Maj_2, \n",
    "    epochs=10, \n",
    "    batch_size=32, \n",
    "    validation_data=(\n",
    "        X_validation_Maj, \n",
    "        y_validation_Maj_2\n",
    "    ),\n",
    "    verbose=1\n",
    ")\n",
    "# accuracy : 0.9508\n",
    "# loss : 0.1701\n",
    "# Temps : 5m 17.7s"
   ]
  },
  {
   "cell_type": "code",
   "execution_count": 79,
   "id": "71aaeea0",
   "metadata": {},
   "outputs": [
    {
     "name": "stdout",
     "output_type": "stream",
     "text": [
      "\u001b[1m1348/1348\u001b[0m \u001b[32m━━━━━━━━━━━━━━━━━━━━\u001b[0m\u001b[37m\u001b[0m \u001b[1m1s\u001b[0m 938us/step - accuracy: 0.9381 - loss: 0.2715\n",
      "Test accuracy : 0.9361795783042908\n",
      "Test loss : 0.28424617648124695\n"
     ]
    }
   ],
   "source": [
    "test_loss_maj, test_acc_maj = model_get_maj.evaluate(X_test_Maj, y_test_Maj_2)\n",
    "print(f\"Test accuracy : {test_acc_maj}\") # Test accuracy : \n",
    "print(f\"Test loss : {test_loss_maj}\") # Test loss : \n",
    "# Temps : 1.9s"
   ]
  },
  {
   "cell_type": "code",
   "execution_count": 80,
   "id": "6f73a143",
   "metadata": {},
   "outputs": [],
   "source": [
    "# Sauvegarder le modèle\n",
    "model_get_maj.save(\"../models/Get_Maj_b32.keras\")  # Format HDF5 (.h5)"
   ]
  },
  {
   "cell_type": "code",
   "execution_count": 81,
   "id": "f10dc339",
   "metadata": {},
   "outputs": [
    {
     "name": "stdout",
     "output_type": "stream",
     "text": [
      "\u001b[1m1348/1348\u001b[0m \u001b[32m━━━━━━━━━━━━━━━━━━━━\u001b[0m\u001b[37m\u001b[0m \u001b[1m1s\u001b[0m 903us/step\n"
     ]
    },
    {
     "data": {
      "text/plain": [
       "array([5.7367229e-06, 3.9936747e-12, 1.6409958e-05, 8.2786158e-08,\n",
       "       5.8108856e-08, 6.2798748e-09, 6.7049469e-04, 9.9935818e-01,\n",
       "       2.0401396e-08, 2.2909173e-05, 1.3901733e-05, 1.3281733e-10,\n",
       "       9.8810226e-01, 1.0000000e+00, 1.1979637e-01, 4.2126525e-05,\n",
       "       4.7055320e-04, 3.1894410e-06, 8.9845222e-01, 1.8455614e-07,\n",
       "       4.0784526e-01, 7.0109749e-03, 9.7679758e-01, 1.6513839e-15,\n",
       "       1.2412382e-07, 6.2950816e-28], dtype=float32)"
      ]
     },
     "execution_count": 81,
     "metadata": {},
     "output_type": "execute_result"
    }
   ],
   "source": [
    "y_predicted_Maj = model_get_maj.predict(X_test_Maj)\n",
    "y_predicted_Maj[1]\n",
    "# Temps 1.8s"
   ]
  },
  {
   "cell_type": "code",
   "execution_count": 82,
   "id": "143060fe",
   "metadata": {},
   "outputs": [
    {
     "data": {
      "text/plain": [
       "13"
      ]
     },
     "execution_count": 82,
     "metadata": {},
     "output_type": "execute_result"
    }
   ],
   "source": [
    "np.argmax(y_predicted_Maj[1])"
   ]
  },
  {
   "cell_type": "code",
   "execution_count": 83,
   "id": "da9ab676",
   "metadata": {},
   "outputs": [
    {
     "data": {
      "text/plain": [
       "[5, 13, 15, 14, 18]"
      ]
     },
     "execution_count": 83,
     "metadata": {},
     "output_type": "execute_result"
    }
   ],
   "source": [
    "# y_predicted_labels_Maj = [correspondance_Maj[np.argmax(i)] for i in y_predicted_Maj]\n",
    "y_predicted_labels_Maj = [np.argmax(i) for i in y_predicted_Maj]\n",
    "y_predicted_labels_Maj[:5]"
   ]
  },
  {
   "cell_type": "code",
   "execution_count": 84,
   "id": "1a9ff968",
   "metadata": {},
   "outputs": [
    {
     "data": {
      "text/plain": [
       "Text(95.72222222222221, 0.5, 'Truth')"
      ]
     },
     "execution_count": 84,
     "metadata": {},
     "output_type": "execute_result"
    },
    {
     "data": {
      "image/png": "[encoded data removed]",
      "text/plain": [
       "<Figure size 1000x700 with 2 Axes>"
      ]
     },
     "metadata": {},
     "output_type": "display_data"
    }
   ],
   "source": [
    "# Matrice de confusion\n",
    "cm_Maj = tf.math.confusion_matrix(labels=y_test_Maj_2, predictions=y_predicted_labels_Maj)\n",
    "plt.figure(figsize=(10, 7))\n",
    "sns.heatmap(cm_Maj, annot=True, fmt='d')\n",
    "plt.xlabel('Predicted')\n",
    "plt.ylabel('Truth')"
   ]
  },
  {
   "cell_type": "markdown",
   "id": "3be19730",
   "metadata": {},
   "source": [
    "# Get Min (NN)\n",
    "---\n",
    "\n",
    "Modèle ..."
   ]
  },
  {
   "cell_type": "code",
   "execution_count": 85,
   "id": "c6970766",
   "metadata": {},
   "outputs": [],
   "source": [
    "model_get_min = keras.Sequential([\n",
    "    keras.layers.Input((2500,)), # input layer : 2500 neurones (50x50 pixels)\n",
    "    keras.layers.Dense(625, activation='relu'),\n",
    "    # keras.layers.Dropout(0.5), # dropout : 0.5 pour éviter l'overfitting (sur-apprentissage)\n",
    "    keras.layers.Dense(156, activation='relu'),\n",
    "    # keras.layers.Dropout(0.5),\n",
    "    keras.layers.Dense(40, activation='relu'),\n",
    "    # keras.layers.Dropout(0.5),\n",
    "    keras.layers.Dense(26, activation='sigmoid') # output layer : 26 neurones (A-Z)\n",
    "])\n",
    "\n",
    "model_get_min.compile(\n",
    "    optimizer='adam',\n",
    "    loss='sparse_categorical_crossentropy',\n",
    "    metrics=['accuracy']\n",
    ")"
   ]
  },
  {
   "cell_type": "code",
   "execution_count": 86,
   "id": "d746e298",
   "metadata": {},
   "outputs": [
    {
     "name": "stdout",
     "output_type": "stream",
     "text": [
      "Epoch 1/10\n",
      "\u001b[1m3492/3492\u001b[0m \u001b[32m━━━━━━━━━━━━━━━━━━━━\u001b[0m\u001b[37m\u001b[0m \u001b[1m19s\u001b[0m 5ms/step - accuracy: 0.7854 - loss: 0.7855 - val_accuracy: 0.8798 - val_loss: 0.4162\n",
      "Epoch 2/10\n",
      "\u001b[1m3492/3492\u001b[0m \u001b[32m━━━━━━━━━━━━━━━━━━━━\u001b[0m\u001b[37m\u001b[0m \u001b[1m18s\u001b[0m 5ms/step - accuracy: 0.8864 - loss: 0.3809 - val_accuracy: 0.8894 - val_loss: 0.3800\n",
      "Epoch 3/10\n",
      "\u001b[1m3492/3492\u001b[0m \u001b[32m━━━━━━━━━━━━━━━━━━━━\u001b[0m\u001b[37m\u001b[0m \u001b[1m18s\u001b[0m 5ms/step - accuracy: 0.8995 - loss: 0.3316 - val_accuracy: 0.8903 - val_loss: 0.3705\n",
      "Epoch 4/10\n",
      "\u001b[1m3492/3492\u001b[0m \u001b[32m━━━━━━━━━━━━━━━━━━━━\u001b[0m\u001b[37m\u001b[0m \u001b[1m18s\u001b[0m 5ms/step - accuracy: 0.9088 - loss: 0.3017 - val_accuracy: 0.8930 - val_loss: 0.3705\n",
      "Epoch 5/10\n",
      "\u001b[1m3492/3492\u001b[0m \u001b[32m━━━━━━━━━━━━━━━━━━━━\u001b[0m\u001b[37m\u001b[0m \u001b[1m18s\u001b[0m 5ms/step - accuracy: 0.9131 - loss: 0.2806 - val_accuracy: 0.8907 - val_loss: 0.3841\n",
      "Epoch 6/10\n",
      "\u001b[1m3492/3492\u001b[0m \u001b[32m━━━━━━━━━━━━━━━━━━━━\u001b[0m\u001b[37m\u001b[0m \u001b[1m18s\u001b[0m 5ms/step - accuracy: 0.9175 - loss: 0.2623 - val_accuracy: 0.8982 - val_loss: 0.3635\n",
      "Epoch 7/10\n",
      "\u001b[1m3492/3492\u001b[0m \u001b[32m━━━━━━━━━━━━━━━━━━━━\u001b[0m\u001b[37m\u001b[0m \u001b[1m18s\u001b[0m 5ms/step - accuracy: 0.9218 - loss: 0.2508 - val_accuracy: 0.8994 - val_loss: 0.3619\n",
      "Epoch 8/10\n",
      "\u001b[1m3492/3492\u001b[0m \u001b[32m━━━━━━━━━━━━━━━━━━━━\u001b[0m\u001b[37m\u001b[0m \u001b[1m18s\u001b[0m 5ms/step - accuracy: 0.9237 - loss: 0.2401 - val_accuracy: 0.9013 - val_loss: 0.3701\n",
      "Epoch 9/10\n",
      "\u001b[1m3492/3492\u001b[0m \u001b[32m━━━━━━━━━━━━━━━━━━━━\u001b[0m\u001b[37m\u001b[0m \u001b[1m18s\u001b[0m 5ms/step - accuracy: 0.9270 - loss: 0.2285 - val_accuracy: 0.9008 - val_loss: 0.3630\n",
      "Epoch 10/10\n",
      "\u001b[1m3492/3492\u001b[0m \u001b[32m━━━━━━━━━━━━━━━━━━━━\u001b[0m\u001b[37m\u001b[0m \u001b[1m18s\u001b[0m 5ms/step - accuracy: 0.9293 - loss: 0.2193 - val_accuracy: 0.9007 - val_loss: 0.3957\n"
     ]
    },
    {
     "data": {
      "text/plain": [
       "<keras.src.callbacks.history.History at 0x1d13c6e5610>"
      ]
     },
     "execution_count": 86,
     "metadata": {},
     "output_type": "execute_result"
    }
   ],
   "source": [
    "model_get_min.fit(\n",
    "    X_train_Min, \n",
    "    y_train_Min_2, \n",
    "    epochs=10, \n",
    "    batch_size=32, \n",
    "    validation_data=(\n",
    "        X_validation_Min, \n",
    "        y_validation_Min_2\n",
    "    ),\n",
    "    verbose=1\n",
    ")\n",
    "# accuracy : 0.9293\n",
    "# loss : 0.2193\n",
    "# Temps : 2m 45.3s"
   ]
  },
  {
   "cell_type": "code",
   "execution_count": 87,
   "id": "1096eafa",
   "metadata": {},
   "outputs": [
    {
     "name": "stdout",
     "output_type": "stream",
     "text": [
      "\u001b[1m1168/1168\u001b[0m \u001b[32m━━━━━━━━━━━━━━━━━━━━\u001b[0m\u001b[37m\u001b[0m \u001b[1m1s\u001b[0m 958us/step - accuracy: 0.8986 - loss: 0.3950\n",
      "Test accuracy : 0.9003158807754517\n",
      "Test loss : 0.3887278139591217\n"
     ]
    }
   ],
   "source": [
    "test_loss_min, test_acc_min = model_get_min.evaluate(X_test_Min, y_test_Min_2)\n",
    "print(f\"Test accuracy : {test_acc_min}\") # Test accuracy : \n",
    "print(f\"Test loss : {test_loss_min}\") # Test loss : \n",
    "# Temps : "
   ]
  },
  {
   "cell_type": "code",
   "execution_count": 88,
   "id": "6cffe41e",
   "metadata": {},
   "outputs": [],
   "source": [
    "# Sauvegarder le modèle\n",
    "model_get_min.save(\"../models/Get_Min_b32.keras\")  # Format keras (.keras)"
   ]
  },
  {
   "cell_type": "code",
   "execution_count": 89,
   "id": "aeef9462",
   "metadata": {},
   "outputs": [
    {
     "name": "stdout",
     "output_type": "stream",
     "text": [
      "\u001b[1m1168/1168\u001b[0m \u001b[32m━━━━━━━━━━━━━━━━━━━━\u001b[0m\u001b[37m\u001b[0m \u001b[1m1s\u001b[0m 922us/step\n"
     ]
    },
    {
     "data": {
      "text/plain": [
       "array([6.73402334e-04, 1.02759607e-01, 2.97254161e-03, 1.13297485e-01,\n",
       "       5.55753103e-03, 2.21663248e-02, 1.57260429e-02, 2.82593118e-03,\n",
       "       9.96817291e-01, 7.08286881e-01, 1.66268930e-01, 9.99714851e-01,\n",
       "       8.56978295e-05, 3.50720137e-02, 5.89168910e-03, 1.44716082e-02,\n",
       "       2.61554308e-02, 3.78550500e-01, 1.65301564e-04, 3.05190027e-01,\n",
       "       8.42675418e-02, 2.93607824e-03, 3.27122328e-03, 2.29452318e-03,\n",
       "       2.08740324e-01, 3.40181430e-07], dtype=float32)"
      ]
     },
     "execution_count": 89,
     "metadata": {},
     "output_type": "execute_result"
    }
   ],
   "source": [
    "y_predicted_Min = model_get_min.predict(X_test_Min)\n",
    "y_predicted_Min[1]"
   ]
  },
  {
   "cell_type": "code",
   "execution_count": 90,
   "id": "607f5872",
   "metadata": {},
   "outputs": [
    {
     "data": {
      "text/plain": [
       "[0, 11, 13, 1, 20]"
      ]
     },
     "execution_count": 90,
     "metadata": {},
     "output_type": "execute_result"
    }
   ],
   "source": [
    "# y_predicted_labels_Min = [correspondance_Min[np.argmax(i)] for i in y_predicted_Min]\n",
    "y_predicted_labels_Min = [np.argmax(i) for i in y_predicted_Min]\n",
    "y_predicted_labels_Min[:5]"
   ]
  },
  {
   "cell_type": "code",
   "execution_count": 91,
   "id": "8bbc8228",
   "metadata": {},
   "outputs": [
    {
     "data": {
      "text/plain": [
       "Text(95.72222222222221, 0.5, 'Truth')"
      ]
     },
     "execution_count": 91,
     "metadata": {},
     "output_type": "execute_result"
    },
    {
     "data": {
      "image/png": "[encoded data removed]",
      "text/plain": [
       "<Figure size 1000x700 with 2 Axes>"
      ]
     },
     "metadata": {},
     "output_type": "display_data"
    }
   ],
   "source": [
    "# Matrice de confusion\n",
    "cm_Min = tf.math.confusion_matrix(labels=y_test_Min_2, predictions=y_predicted_labels_Min)\n",
    "plt.figure(figsize=(10, 7))\n",
    "sns.heatmap(cm_Min, annot=True, fmt='d')\n",
    "plt.xlabel('Predicted')\n",
    "plt.ylabel('Truth')"
   ]
  },
  {
   "cell_type": "markdown",
   "id": "c92b7446",
   "metadata": {},
   "source": [
    "# Get Nbr (NN)\n",
    "---\n",
    "\n",
    "Modèle ..."
   ]
  },
  {
   "cell_type": "code",
   "execution_count": 92,
   "id": "d6a0345c",
   "metadata": {},
   "outputs": [],
   "source": [
    "model_get_nbr = keras.Sequential([\n",
    "    keras.layers.Input((2500,)), # input layer : 2500 neurones (50x50 pixels)\n",
    "    keras.layers.Dense(625, activation='relu'),\n",
    "    # keras.layers.Dropout(0.5), # dropout : 0.5 pour éviter l'overfitting (sur-apprentissage)\n",
    "    keras.layers.Dense(156, activation='relu'),\n",
    "    # keras.layers.Dropout(0.5),\n",
    "    keras.layers.Dense(40, activation='relu'),\n",
    "    # keras.layers.Dropout(0.5),\n",
    "    keras.layers.Dense(26, activation='sigmoid') # output layer : 26 neurones (A-Z)\n",
    "])\n",
    "\n",
    "model_get_nbr.compile(\n",
    "    optimizer='adam',\n",
    "    loss='sparse_categorical_crossentropy',\n",
    "    metrics=['accuracy']\n",
    ")"
   ]
  },
  {
   "cell_type": "code",
   "execution_count": 93,
   "id": "3cf7f959",
   "metadata": {},
   "outputs": [
    {
     "name": "stdout",
     "output_type": "stream",
     "text": [
      "Epoch 1/10\n",
      "\u001b[1m7037/7037\u001b[0m \u001b[32m━━━━━━━━━━━━━━━━━━━━\u001b[0m\u001b[37m\u001b[0m \u001b[1m37s\u001b[0m 5ms/step - accuracy: 0.8797 - loss: 0.3981 - val_accuracy: 0.9196 - val_loss: 0.2401\n",
      "Epoch 2/10\n",
      "\u001b[1m7037/7037\u001b[0m \u001b[32m━━━━━━━━━━━━━━━━━━━━\u001b[0m\u001b[37m\u001b[0m \u001b[1m36s\u001b[0m 5ms/step - accuracy: 0.9207 - loss: 0.2349 - val_accuracy: 0.9233 - val_loss: 0.2298\n",
      "Epoch 3/10\n",
      "\u001b[1m7037/7037\u001b[0m \u001b[32m━━━━━━━━━━━━━━━━━━━━\u001b[0m\u001b[37m\u001b[0m \u001b[1m36s\u001b[0m 5ms/step - accuracy: 0.9243 - loss: 0.2200 - val_accuracy: 0.9235 - val_loss: 0.2280\n",
      "Epoch 4/10\n",
      "\u001b[1m7037/7037\u001b[0m \u001b[32m━━━━━━━━━━━━━━━━━━━━\u001b[0m\u001b[37m\u001b[0m \u001b[1m40s\u001b[0m 6ms/step - accuracy: 0.9273 - loss: 0.2108 - val_accuracy: 0.9253 - val_loss: 0.2204\n",
      "Epoch 5/10\n",
      "\u001b[1m7037/7037\u001b[0m \u001b[32m━━━━━━━━━━━━━━━━━━━━\u001b[0m\u001b[37m\u001b[0m \u001b[1m37s\u001b[0m 5ms/step - accuracy: 0.9291 - loss: 0.2040 - val_accuracy: 0.9258 - val_loss: 0.2215\n",
      "Epoch 6/10\n",
      "\u001b[1m7037/7037\u001b[0m \u001b[32m━━━━━━━━━━━━━━━━━━━━\u001b[0m\u001b[37m\u001b[0m \u001b[1m37s\u001b[0m 5ms/step - accuracy: 0.9303 - loss: 0.1991 - val_accuracy: 0.9258 - val_loss: 0.2255\n",
      "Epoch 7/10\n",
      "\u001b[1m7037/7037\u001b[0m \u001b[32m━━━━━━━━━━━━━━━━━━━━\u001b[0m\u001b[37m\u001b[0m \u001b[1m37s\u001b[0m 5ms/step - accuracy: 0.9307 - loss: 0.1981 - val_accuracy: 0.9271 - val_loss: 0.2219\n",
      "Epoch 8/10\n",
      "\u001b[1m7037/7037\u001b[0m \u001b[32m━━━━━━━━━━━━━━━━━━━━\u001b[0m\u001b[37m\u001b[0m \u001b[1m37s\u001b[0m 5ms/step - accuracy: 0.9311 - loss: 0.1971 - val_accuracy: 0.9268 - val_loss: 0.2240\n",
      "Epoch 9/10\n",
      "\u001b[1m7037/7037\u001b[0m \u001b[32m━━━━━━━━━━━━━━━━━━━━\u001b[0m\u001b[37m\u001b[0m \u001b[1m37s\u001b[0m 5ms/step - accuracy: 0.9318 - loss: 0.1944 - val_accuracy: 0.9258 - val_loss: 0.2268\n",
      "Epoch 10/10\n",
      "\u001b[1m7037/7037\u001b[0m \u001b[32m━━━━━━━━━━━━━━━━━━━━\u001b[0m\u001b[37m\u001b[0m \u001b[1m38s\u001b[0m 5ms/step - accuracy: 0.9325 - loss: 0.1897 - val_accuracy: 0.9268 - val_loss: 0.2245\n"
     ]
    },
    {
     "data": {
      "text/plain": [
       "<keras.src.callbacks.history.History at 0x1d1424c4b10>"
      ]
     },
     "execution_count": 93,
     "metadata": {},
     "output_type": "execute_result"
    }
   ],
   "source": [
    "model_get_nbr.fit(\n",
    "    X_train_Nbr, \n",
    "    y_train_Nbr_2, \n",
    "    epochs=10, \n",
    "    batch_size=32,\n",
    "    validation_data=(\n",
    "        X_validation_Nbr, \n",
    "        y_validation_Nbr_2\n",
    "    ),\n",
    "    verbose=1\n",
    ")\n",
    "# accuracy : 0.9325\n",
    "# loss : 0.1897\n",
    "# Temps : 6m 16.0s"
   ]
  },
  {
   "cell_type": "code",
   "execution_count": null,
   "id": "a6058305",
   "metadata": {},
   "outputs": [
    {
     "name": "stdout",
     "output_type": "stream",
     "text": [
      "\u001b[1m2345/2345\u001b[0m \u001b[32m━━━━━━━━━━━━━━━━━━━━\u001b[0m\u001b[37m\u001b[0m \u001b[1m3s\u001b[0m 1ms/step - accuracy: 0.9274 - loss: 0.2209\n",
      "Test accuracy : 0.9269830584526062\n",
      "Test loss : 0.2229849100112915\n"
     ]
    }
   ],
   "source": [
    "test_loss_nbr, test_acc_nbr = model_get_nbr.evaluate(X_test_Nbr, y_test_Nbr_2)\n",
    "print(f\"Test accuracy : {test_acc_nbr}\") # Test accuracy : \n",
    "print(f\"Test loss : {test_loss_nbr}\") # Test loss : \n",
    "# Temps : 3.0s"
   ]
  },
  {
   "cell_type": "code",
   "execution_count": 95,
   "id": "b656bfc0",
   "metadata": {},
   "outputs": [],
   "source": [
    "# Sauvegarder le modèle\n",
    "model_get_nbr.save(\"../models/Get_Nbr_b32.keras\")  # Format keras (.keras)"
   ]
  },
  {
   "cell_type": "code",
   "execution_count": 96,
   "id": "28c6f4ea",
   "metadata": {},
   "outputs": [
    {
     "name": "stdout",
     "output_type": "stream",
     "text": [
      "\u001b[1m2345/2345\u001b[0m \u001b[32m━━━━━━━━━━━━━━━━━━━━\u001b[0m\u001b[37m\u001b[0m \u001b[1m2s\u001b[0m 963us/step\n"
     ]
    },
    {
     "data": {
      "text/plain": [
       "array([1.1281733e-19, 6.1819189e-11, 1.0000000e+00, 5.3878482e-03,\n",
       "       7.7708826e-09, 5.9686549e-08, 1.7962373e-10, 3.5158542e-03,\n",
       "       1.1949203e-01, 5.0131235e-14, 0.0000000e+00, 0.0000000e+00,\n",
       "       0.0000000e+00, 0.0000000e+00, 0.0000000e+00, 0.0000000e+00,\n",
       "       0.0000000e+00, 0.0000000e+00, 0.0000000e+00, 0.0000000e+00,\n",
       "       0.0000000e+00, 0.0000000e+00, 0.0000000e+00, 0.0000000e+00,\n",
       "       0.0000000e+00, 0.0000000e+00], dtype=float32)"
      ]
     },
     "execution_count": 96,
     "metadata": {},
     "output_type": "execute_result"
    }
   ],
   "source": [
    "y_predicted_Nbr = model_get_nbr.predict(X_test_Nbr)\n",
    "y_predicted_Nbr[1]\n",
    "# Temps : 3.4s"
   ]
  },
  {
   "cell_type": "code",
   "execution_count": 97,
   "id": "65f5c4f6",
   "metadata": {},
   "outputs": [
    {
     "data": {
      "text/plain": [
       "[7, 2, 4, 3, 1]"
      ]
     },
     "execution_count": 97,
     "metadata": {},
     "output_type": "execute_result"
    }
   ],
   "source": [
    "# y_predicted_labels_Nbr = [correspondance_Nbr[np.argmax(i)] for i in y_predicted_Nbr]\n",
    "y_predicted_labels_Nbr = [np.argmax(i) for i in y_predicted_Nbr]\n",
    "y_predicted_labels_Nbr[:5]"
   ]
  },
  {
   "cell_type": "code",
   "execution_count": 98,
   "id": "438b306a",
   "metadata": {},
   "outputs": [
    {
     "data": {
      "text/plain": [
       "Text(95.72222222222221, 0.5, 'Truth')"
      ]
     },
     "execution_count": 98,
     "metadata": {},
     "output_type": "execute_result"
    },
    {
     "data": {
      "image/png": "[encoded data removed]",
      "text/plain": [
       "<Figure size 1000x700 with 2 Axes>"
      ]
     },
     "metadata": {},
     "output_type": "display_data"
    }
   ],
   "source": [
    "# Matrice de confusion\n",
    "cm_Nbr = tf.math.confusion_matrix(labels=y_test_Nbr_2, predictions=y_predicted_labels_Nbr)\n",
    "plt.figure(figsize=(10, 7))\n",
    "sns.heatmap(cm_Nbr, annot=True, fmt='d')\n",
    "plt.xlabel('Predicted')\n",
    "plt.ylabel('Truth')"
   ]
  }
 ],
 "metadata": {
  "kernelspec": {
   "display_name": "Scribio",
   "language": "python",
   "name": "python3"
  },
  "language_info": {
   "codemirror_mode": {
    "name": "ipython",
    "version": 3
   },
   "file_extension": ".py",
   "mimetype": "text/x-python",
   "name": "python",
   "nbconvert_exporter": "python",
   "pygments_lexer": "ipython3",
   "version": "3.11.4"
  }
 },
 "nbformat": 4,
 "nbformat_minor": 5
}
