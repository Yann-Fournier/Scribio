{
 "cells": [
  {
   "cell_type": "code",
   "execution_count": 1,
   "id": "initial_id",
   "metadata": {
    "ExecuteTime": {
     "end_time": "2024-12-02T15:39:15.743926Z",
     "start_time": "2024-12-02T15:39:15.736806Z"
    },
    "collapsed": true
   },
   "outputs": [],
   "source": [
    "import gc # garbage collector\n",
    "import pandas as pd\n",
    "import numpy as np\n",
    "import seaborn as sns\n",
    "from tqdm import tqdm # progress bar\n",
    "import tensorflow as tf \n",
    "from tensorflow import keras\n",
    "import matplotlib.pyplot as plt\n",
    "from pymongo import MongoClient\n",
    "from sklearn.preprocessing import LabelEncoder"
   ]
  },
  {
   "cell_type": "code",
   "execution_count": 2,
   "id": "5fd3a22c",
   "metadata": {},
   "outputs": [],
   "source": [
    "LISTE_MAJ = [\"A\", \"B\", \"C\", \"D\", \"E\", \"F\", \"G\", \"H\", \"I\", \"J\", \"K\", \"L\", \"M\", \"N\", \"O\", \"P\", \"Q\", \"R\", \"S\", \"T\", \"U\", \"V\", \"W\", \"X\", \"Y\", \"Z\"]\n",
    "LISTE_MIN = [\"a\", \"b\", \"c\", \"d\", \"e\", \"f\", \"g\", \"h\", \"i\", \"j\", \"k\", \"l\", \"m\", \"n\", \"o\", \"p\", \"q\", \"r\", \"s\", \"t\", \"u\", \"v\", \"w\", \"x\", \"y\", \"z\"]\n",
    "LISTE_NBR = [\"0\", \"1\", \"2\", \"3\", \"4\", \"5\", \"6\", \"7\", \"8\", \"9\"]\n",
    "\n",
    "BATCH_SIZE = 32\n",
    "EPOCHS = 10\n",
    "ADD_NOM = \"4_b\" + str(BATCH_SIZE) + \"_e\" + str(EPOCHS)"
   ]
  },
  {
   "cell_type": "code",
   "execution_count": 3,
   "id": "80da29cf",
   "metadata": {},
   "outputs": [],
   "source": [
    "# shape of the image : 50x50\n",
    "# number of classes : 62 (26 letters majuscules, 26 letters minuscules, 10 chiffres)\n",
    "\n",
    "# Dataset_v1 / Dataset_v2\n",
    "# total of images : 798_402\n",
    "# number of train images : 487_227\n",
    "# number of test images : 155_489\n",
    "# number of validation images : 155_686"
   ]
  },
  {
   "cell_type": "markdown",
   "id": "08306dfa",
   "metadata": {},
   "source": [
    "# Get Data\n",
    "---\n",
    "\n",
    "- Récupération des données de la base de données\n",
    "- formattage des données\n",
    "- répartition des données"
   ]
  },
  {
   "cell_type": "code",
   "execution_count": 4,
   "id": "ce99688d",
   "metadata": {},
   "outputs": [],
   "source": [
    "# Connexion à MongoDB\n",
    "client = MongoClient(\"mongodb://localhost:27017/Scibio\")  # Remplacez par l'URL de votre serveur MongoDB\n",
    "db = client[\"Scribio\"]  # Nom de la base de données\n",
    "collection = db[\"Dataset_v2\"]  # Nom de la collection"
   ]
  },
  {
   "cell_type": "code",
   "execution_count": 5,
   "id": "5b44dd47",
   "metadata": {},
   "outputs": [],
   "source": [
    "def fetch_data(repartition: str, nbr: int):\n",
    "    query = {\"Repartition\": repartition}\n",
    "    documents = collection.find(query)\n",
    "    print(f\"fetch {repartition} OK !!!\")\n",
    "\n",
    "    images = []\n",
    "    labels = []\n",
    "    types = []\n",
    "    \n",
    "    # Parcours et transformation des photos avec barre de progression \n",
    "    with tqdm(total=nbr, desc=\"Proccessing\" , position=0, leave=True) as pbar:\n",
    "        for doc in documents:\n",
    "            images.append(np.array(doc[\"Tableau_Pixels\"], dtype=np.float32))\n",
    "            labels.append(doc[\"Label\"])\n",
    "            types.append(doc[\"Type\"])\n",
    "            pbar.update(1) # Mettre à jour la barre de progression\n",
    "            \n",
    "    # return np.array(images), np.array(labels, dtype=str)\n",
    "    return pd.DataFrame({\"Labels\": labels, \"Types\": types, \"Images\": images})"
   ]
  },
  {
   "cell_type": "code",
   "execution_count": 6,
   "id": "5461184c",
   "metadata": {},
   "outputs": [
    {
     "name": "stdout",
     "output_type": "stream",
     "text": [
      "fetch train OK !!!\n"
     ]
    },
    {
     "name": "stderr",
     "output_type": "stream",
     "text": [
      "Proccessing: 100%|██████████| 487227/487227 [00:53<00:00, 9118.04it/s] \n"
     ]
    },
    {
     "name": "stdout",
     "output_type": "stream",
     "text": [
      "(487227, 3)\n"
     ]
    },
    {
     "data": {
      "text/html": [
       "<div>\n",
       "<style scoped>\n",
       "    .dataframe tbody tr th:only-of-type {\n",
       "        vertical-align: middle;\n",
       "    }\n",
       "\n",
       "    .dataframe tbody tr th {\n",
       "        vertical-align: top;\n",
       "    }\n",
       "\n",
       "    .dataframe thead th {\n",
       "        text-align: right;\n",
       "    }\n",
       "</style>\n",
       "<table border=\"1\" class=\"dataframe\">\n",
       "  <thead>\n",
       "    <tr style=\"text-align: right;\">\n",
       "      <th></th>\n",
       "      <th>Labels</th>\n",
       "      <th>Types</th>\n",
       "      <th>Images</th>\n",
       "    </tr>\n",
       "  </thead>\n",
       "  <tbody>\n",
       "    <tr>\n",
       "      <th>0</th>\n",
       "      <td>8</td>\n",
       "      <td>Nbr</td>\n",
       "      <td>[0.0, 0.0, 0.0, 0.0, 0.0, 0.0, 0.0, 0.0, 0.0, ...</td>\n",
       "    </tr>\n",
       "    <tr>\n",
       "      <th>1</th>\n",
       "      <td>A</td>\n",
       "      <td>Maj</td>\n",
       "      <td>[0.0, 0.0, 0.0, 0.0, 0.0, 0.0, 0.0, 0.0, 0.0, ...</td>\n",
       "    </tr>\n",
       "    <tr>\n",
       "      <th>2</th>\n",
       "      <td>l</td>\n",
       "      <td>Min</td>\n",
       "      <td>[0.0, 0.0, 0.0, 0.0, 0.0, 0.0, 0.0, 0.0, 0.0, ...</td>\n",
       "    </tr>\n",
       "    <tr>\n",
       "      <th>3</th>\n",
       "      <td>B</td>\n",
       "      <td>Maj</td>\n",
       "      <td>[0.0, 0.0, 0.0, 0.0, 0.0, 0.0, 0.0, 0.0, 0.0, ...</td>\n",
       "    </tr>\n",
       "    <tr>\n",
       "      <th>4</th>\n",
       "      <td>0</td>\n",
       "      <td>Nbr</td>\n",
       "      <td>[0.0, 0.0, 0.0, 0.0, 0.0, 0.0, 0.0, 0.0, 0.0, ...</td>\n",
       "    </tr>\n",
       "  </tbody>\n",
       "</table>\n",
       "</div>"
      ],
      "text/plain": [
       "  Labels Types                                             Images\n",
       "0      8   Nbr  [0.0, 0.0, 0.0, 0.0, 0.0, 0.0, 0.0, 0.0, 0.0, ...\n",
       "1      A   Maj  [0.0, 0.0, 0.0, 0.0, 0.0, 0.0, 0.0, 0.0, 0.0, ...\n",
       "2      l   Min  [0.0, 0.0, 0.0, 0.0, 0.0, 0.0, 0.0, 0.0, 0.0, ...\n",
       "3      B   Maj  [0.0, 0.0, 0.0, 0.0, 0.0, 0.0, 0.0, 0.0, 0.0, ...\n",
       "4      0   Nbr  [0.0, 0.0, 0.0, 0.0, 0.0, 0.0, 0.0, 0.0, 0.0, ..."
      ]
     },
     "execution_count": 6,
     "metadata": {},
     "output_type": "execute_result"
    }
   ],
   "source": [
    "# Récupération des données d'entraînement\n",
    "df_train = fetch_data(\"train\", 487_227)\n",
    "df_train = df_train.sample(frac=1).reset_index(drop=True) # shuffle\n",
    "print(df_train.shape)\n",
    "df_train.head()\n",
    "# Temps : 53.6s"
   ]
  },
  {
   "cell_type": "code",
   "execution_count": 7,
   "id": "b8a8ab51",
   "metadata": {},
   "outputs": [
    {
     "name": "stdout",
     "output_type": "stream",
     "text": [
      "fetch test OK !!!\n"
     ]
    },
    {
     "name": "stderr",
     "output_type": "stream",
     "text": [
      "Proccessing: 100%|██████████| 155489/155489 [00:07<00:00, 19692.77it/s]\n"
     ]
    },
    {
     "name": "stdout",
     "output_type": "stream",
     "text": [
      "(155489, 3)\n"
     ]
    },
    {
     "data": {
      "text/html": [
       "<div>\n",
       "<style scoped>\n",
       "    .dataframe tbody tr th:only-of-type {\n",
       "        vertical-align: middle;\n",
       "    }\n",
       "\n",
       "    .dataframe tbody tr th {\n",
       "        vertical-align: top;\n",
       "    }\n",
       "\n",
       "    .dataframe thead th {\n",
       "        text-align: right;\n",
       "    }\n",
       "</style>\n",
       "<table border=\"1\" class=\"dataframe\">\n",
       "  <thead>\n",
       "    <tr style=\"text-align: right;\">\n",
       "      <th></th>\n",
       "      <th>Labels</th>\n",
       "      <th>Types</th>\n",
       "      <th>Images</th>\n",
       "    </tr>\n",
       "  </thead>\n",
       "  <tbody>\n",
       "    <tr>\n",
       "      <th>0</th>\n",
       "      <td>4</td>\n",
       "      <td>Nbr</td>\n",
       "      <td>[0.0, 0.0, 0.0, 0.0, 0.0, 0.0, 0.0, 0.0, 0.0, ...</td>\n",
       "    </tr>\n",
       "    <tr>\n",
       "      <th>1</th>\n",
       "      <td>7</td>\n",
       "      <td>Nbr</td>\n",
       "      <td>[0.0, 0.0, 0.0, 0.0, 0.0, 0.0, 0.0, 0.0, 0.0, ...</td>\n",
       "    </tr>\n",
       "    <tr>\n",
       "      <th>2</th>\n",
       "      <td>0</td>\n",
       "      <td>Nbr</td>\n",
       "      <td>[0.0, 0.0, 0.0, 0.0, 0.0, 0.0, 0.0, 0.0, 0.0, ...</td>\n",
       "    </tr>\n",
       "    <tr>\n",
       "      <th>3</th>\n",
       "      <td>9</td>\n",
       "      <td>Nbr</td>\n",
       "      <td>[0.0, 0.0, 0.0, 0.0, 0.0, 0.0, 0.0, 0.0, 0.0, ...</td>\n",
       "    </tr>\n",
       "    <tr>\n",
       "      <th>4</th>\n",
       "      <td>3</td>\n",
       "      <td>Nbr</td>\n",
       "      <td>[0.0, 0.0, 0.0, 0.0, 0.0, 0.0, 0.0, 0.0, 0.0, ...</td>\n",
       "    </tr>\n",
       "  </tbody>\n",
       "</table>\n",
       "</div>"
      ],
      "text/plain": [
       "  Labels Types                                             Images\n",
       "0      4   Nbr  [0.0, 0.0, 0.0, 0.0, 0.0, 0.0, 0.0, 0.0, 0.0, ...\n",
       "1      7   Nbr  [0.0, 0.0, 0.0, 0.0, 0.0, 0.0, 0.0, 0.0, 0.0, ...\n",
       "2      0   Nbr  [0.0, 0.0, 0.0, 0.0, 0.0, 0.0, 0.0, 0.0, 0.0, ...\n",
       "3      9   Nbr  [0.0, 0.0, 0.0, 0.0, 0.0, 0.0, 0.0, 0.0, 0.0, ...\n",
       "4      3   Nbr  [0.0, 0.0, 0.0, 0.0, 0.0, 0.0, 0.0, 0.0, 0.0, ..."
      ]
     },
     "execution_count": 7,
     "metadata": {},
     "output_type": "execute_result"
    }
   ],
   "source": [
    "# Récupération des données de test\n",
    "df_test = fetch_data(\"test\", 155_489)\n",
    "df_test = df_test.sample(frac=1).reset_index(drop=True) # shuffle\n",
    "print(df_test.shape)\n",
    "df_test.head()\n",
    "# Temps : 7.9s"
   ]
  },
  {
   "cell_type": "code",
   "execution_count": 8,
   "id": "fa6d5b39",
   "metadata": {},
   "outputs": [
    {
     "name": "stdout",
     "output_type": "stream",
     "text": [
      "fetch validation OK !!!\n"
     ]
    },
    {
     "name": "stderr",
     "output_type": "stream",
     "text": [
      "Proccessing: 100%|██████████| 155686/155686 [00:07<00:00, 21776.47it/s]"
     ]
    },
    {
     "name": "stdout",
     "output_type": "stream",
     "text": [
      "(155686, 3)\n"
     ]
    },
    {
     "name": "stderr",
     "output_type": "stream",
     "text": [
      "\n"
     ]
    },
    {
     "data": {
      "text/html": [
       "<div>\n",
       "<style scoped>\n",
       "    .dataframe tbody tr th:only-of-type {\n",
       "        vertical-align: middle;\n",
       "    }\n",
       "\n",
       "    .dataframe tbody tr th {\n",
       "        vertical-align: top;\n",
       "    }\n",
       "\n",
       "    .dataframe thead th {\n",
       "        text-align: right;\n",
       "    }\n",
       "</style>\n",
       "<table border=\"1\" class=\"dataframe\">\n",
       "  <thead>\n",
       "    <tr style=\"text-align: right;\">\n",
       "      <th></th>\n",
       "      <th>Labels</th>\n",
       "      <th>Types</th>\n",
       "      <th>Images</th>\n",
       "    </tr>\n",
       "  </thead>\n",
       "  <tbody>\n",
       "    <tr>\n",
       "      <th>0</th>\n",
       "      <td>3</td>\n",
       "      <td>Nbr</td>\n",
       "      <td>[0.0, 0.0, 0.0, 0.0, 0.0, 0.0, 0.0, 0.0, 0.0, ...</td>\n",
       "    </tr>\n",
       "    <tr>\n",
       "      <th>1</th>\n",
       "      <td>1</td>\n",
       "      <td>Nbr</td>\n",
       "      <td>[0.0, 0.0, 0.0, 0.0, 0.0, 0.0, 0.0, 0.0, 0.0, ...</td>\n",
       "    </tr>\n",
       "    <tr>\n",
       "      <th>2</th>\n",
       "      <td>9</td>\n",
       "      <td>Nbr</td>\n",
       "      <td>[0.0, 0.0, 0.0, 0.0, 0.0, 0.0, 0.0, 0.0, 0.0, ...</td>\n",
       "    </tr>\n",
       "    <tr>\n",
       "      <th>3</th>\n",
       "      <td>8</td>\n",
       "      <td>Nbr</td>\n",
       "      <td>[0.0, 0.0, 0.0, 0.0, 0.0, 0.0, 0.0, 0.0, 0.0, ...</td>\n",
       "    </tr>\n",
       "    <tr>\n",
       "      <th>4</th>\n",
       "      <td>0</td>\n",
       "      <td>Nbr</td>\n",
       "      <td>[0.0, 0.0, 0.0, 0.0, 0.0, 0.0, 0.0, 0.0, 0.0, ...</td>\n",
       "    </tr>\n",
       "  </tbody>\n",
       "</table>\n",
       "</div>"
      ],
      "text/plain": [
       "  Labels Types                                             Images\n",
       "0      3   Nbr  [0.0, 0.0, 0.0, 0.0, 0.0, 0.0, 0.0, 0.0, 0.0, ...\n",
       "1      1   Nbr  [0.0, 0.0, 0.0, 0.0, 0.0, 0.0, 0.0, 0.0, 0.0, ...\n",
       "2      9   Nbr  [0.0, 0.0, 0.0, 0.0, 0.0, 0.0, 0.0, 0.0, 0.0, ...\n",
       "3      8   Nbr  [0.0, 0.0, 0.0, 0.0, 0.0, 0.0, 0.0, 0.0, 0.0, ...\n",
       "4      0   Nbr  [0.0, 0.0, 0.0, 0.0, 0.0, 0.0, 0.0, 0.0, 0.0, ..."
      ]
     },
     "execution_count": 8,
     "metadata": {},
     "output_type": "execute_result"
    }
   ],
   "source": [
    "# Récupération des données de validation\n",
    "df_validation = fetch_data(\"validation\", 155_686)\n",
    "df_validation = df_validation.sample(frac=1).reset_index(drop=True) # shuffle\n",
    "print(df_validation.shape)\n",
    "df_validation.head()\n",
    "# Temps : 7.2s"
   ]
  },
  {
   "cell_type": "markdown",
   "id": "c28800fd",
   "metadata": {},
   "source": [
    "### Données pour apprentissage du NN 'Get types'\n",
    "---\n",
    "\n",
    "Préparation des données pour l'entrainement du réseau de neurones 'Get type' qui permettra de classé les images selon trois catégories :\n",
    "\n",
    "- Majuscule\n",
    "- Minuscule\n",
    "- Nombre"
   ]
  },
  {
   "cell_type": "code",
   "execution_count": 9,
   "id": "200cea53",
   "metadata": {},
   "outputs": [],
   "source": [
    "X_train_types = np.array(df_train[\"Images\"].tolist())\n",
    "y_train_types = np.array(df_train[\"Types\"].tolist())\n",
    "X_test_types = np.array(df_test[\"Images\"].tolist())\n",
    "y_test_types = np.array(df_test[\"Types\"].tolist())\n",
    "X_validation_types = np.array(df_validation[\"Images\"].tolist())\n",
    "y_validation_types = np.array(df_validation[\"Types\"].tolist())\n",
    "# Temps : "
   ]
  },
  {
   "cell_type": "code",
   "execution_count": 10,
   "id": "ddcc8e36",
   "metadata": {},
   "outputs": [],
   "source": [
    "# Conversion des étiquettes en indices (si nécessaire)\n",
    "label_encoder_types = LabelEncoder()\n",
    "\n",
    "y_train_types_2 = label_encoder_types.fit_transform(y_train_types)  # Convertit les étiquettes (lettres/nombres) en indices numériques (nombre) (str => int)\n",
    "y_test_types_2 = label_encoder_types.transform(y_test_types)\n",
    "y_validation_types_2 = label_encoder_types.transform(y_validation_types)"
   ]
  },
  {
   "cell_type": "code",
   "execution_count": 11,
   "id": "66a402ce",
   "metadata": {},
   "outputs": [
    {
     "name": "stdout",
     "output_type": "stream",
     "text": [
      "{0: 'Maj', 1: 'Min', 2: 'Nbr'}\n",
      "['Maj', 'Min', 'Nbr']\n"
     ]
    }
   ],
   "source": [
    "# Correspondance indices ↔ labels\n",
    "correspondance_types = dict(enumerate(label_encoder_types.classes_))\n",
    "print(correspondance_types)\n",
    "\n",
    "# Liste des labels\n",
    "labels_types = list(correspondance_types.values())\n",
    "print(labels_types)"
   ]
  },
  {
   "cell_type": "code",
   "execution_count": 12,
   "id": "9a12ce56",
   "metadata": {},
   "outputs": [
    {
     "name": "stdout",
     "output_type": "stream",
     "text": [
      "Taille de X_train_types: (487227, 625), y_train_types: (487227,), y_train_types_2: (487227,)\n",
      "Taille de X_test_types: (155489, 625), y_test_types: (155489,), y_test_types_2: (155489,)\n",
      "Taille de X_validation_types: (155686, 625), y_validation_types: (155686,), y_validation_types_2: (155686,)\n"
     ]
    }
   ],
   "source": [
    "# Afficher quelques informations\n",
    "print(f\"Taille de X_train_types: {X_train_types.shape}, y_train_types: {y_train_types.shape}, y_train_types_2: {y_train_types_2.shape}\")\n",
    "print(f\"Taille de X_test_types: {X_test_types.shape}, y_test_types: {y_test_types.shape}, y_test_types_2: {y_test_types_2.shape}\")\n",
    "print(f\"Taille de X_validation_types: {X_validation_types.shape}, y_validation_types: {y_validation_types.shape}, y_validation_types_2: {y_validation_types_2.shape}\")"
   ]
  },
  {
   "cell_type": "markdown",
   "id": "be27b6f5",
   "metadata": {},
   "source": [
    "### Données pour apprentissage du NN 'Get Maj'\n",
    "---\n",
    "\n",
    "Préparation des données pour l'entrainement du réseau de neurones 'Get Maj' qui permettra de classé les images selon la lettre majuscule qui y est representée."
   ]
  },
  {
   "cell_type": "code",
   "execution_count": 54,
   "id": "171b0576",
   "metadata": {},
   "outputs": [
    {
     "name": "stdout",
     "output_type": "stream",
     "text": [
      "(150341, 3)\n"
     ]
    },
    {
     "data": {
      "text/html": [
       "<div>\n",
       "<style scoped>\n",
       "    .dataframe tbody tr th:only-of-type {\n",
       "        vertical-align: middle;\n",
       "    }\n",
       "\n",
       "    .dataframe tbody tr th {\n",
       "        vertical-align: top;\n",
       "    }\n",
       "\n",
       "    .dataframe thead th {\n",
       "        text-align: right;\n",
       "    }\n",
       "</style>\n",
       "<table border=\"1\" class=\"dataframe\">\n",
       "  <thead>\n",
       "    <tr style=\"text-align: right;\">\n",
       "      <th></th>\n",
       "      <th>Labels</th>\n",
       "      <th>Types</th>\n",
       "      <th>Images</th>\n",
       "    </tr>\n",
       "  </thead>\n",
       "  <tbody>\n",
       "    <tr>\n",
       "      <th>1</th>\n",
       "      <td>A</td>\n",
       "      <td>Maj</td>\n",
       "      <td>[0.0, 0.0, 0.0, 0.0, 0.0, 0.0, 0.0, 0.0, 0.0, ...</td>\n",
       "    </tr>\n",
       "    <tr>\n",
       "      <th>3</th>\n",
       "      <td>B</td>\n",
       "      <td>Maj</td>\n",
       "      <td>[0.0, 0.0, 0.0, 0.0, 0.0, 0.0, 0.0, 0.0, 0.0, ...</td>\n",
       "    </tr>\n",
       "    <tr>\n",
       "      <th>11</th>\n",
       "      <td>J</td>\n",
       "      <td>Maj</td>\n",
       "      <td>[0.0, 0.0, 0.0, 0.0, 0.0, 0.0, 0.0, 0.0, 0.0, ...</td>\n",
       "    </tr>\n",
       "    <tr>\n",
       "      <th>12</th>\n",
       "      <td>O</td>\n",
       "      <td>Maj</td>\n",
       "      <td>[0.0, 0.0, 0.0, 0.0, 0.0, 0.0, 0.0, 0.0, 0.0, ...</td>\n",
       "    </tr>\n",
       "    <tr>\n",
       "      <th>15</th>\n",
       "      <td>A</td>\n",
       "      <td>Maj</td>\n",
       "      <td>[0.0, 0.0, 0.0, 0.0, 0.0, 0.0, 0.0, 0.0, 0.0, ...</td>\n",
       "    </tr>\n",
       "  </tbody>\n",
       "</table>\n",
       "</div>"
      ],
      "text/plain": [
       "   Labels Types                                             Images\n",
       "1       A   Maj  [0.0, 0.0, 0.0, 0.0, 0.0, 0.0, 0.0, 0.0, 0.0, ...\n",
       "3       B   Maj  [0.0, 0.0, 0.0, 0.0, 0.0, 0.0, 0.0, 0.0, 0.0, ...\n",
       "11      J   Maj  [0.0, 0.0, 0.0, 0.0, 0.0, 0.0, 0.0, 0.0, 0.0, ...\n",
       "12      O   Maj  [0.0, 0.0, 0.0, 0.0, 0.0, 0.0, 0.0, 0.0, 0.0, ...\n",
       "15      A   Maj  [0.0, 0.0, 0.0, 0.0, 0.0, 0.0, 0.0, 0.0, 0.0, ..."
      ]
     },
     "execution_count": 54,
     "metadata": {},
     "output_type": "execute_result"
    }
   ],
   "source": [
    "df_train_Maj = df_train[df_train[\"Types\"] == \"Maj\"]\n",
    "print(df_train_Maj.shape) # (, 3)\n",
    "df_train_Maj.head()\n",
    "# Temps : "
   ]
  },
  {
   "cell_type": "code",
   "execution_count": 55,
   "id": "be8888d9",
   "metadata": {},
   "outputs": [
    {
     "name": "stdout",
     "output_type": "stream",
     "text": [
      "(43121, 3)\n"
     ]
    },
    {
     "data": {
      "text/html": [
       "<div>\n",
       "<style scoped>\n",
       "    .dataframe tbody tr th:only-of-type {\n",
       "        vertical-align: middle;\n",
       "    }\n",
       "\n",
       "    .dataframe tbody tr th {\n",
       "        vertical-align: top;\n",
       "    }\n",
       "\n",
       "    .dataframe thead th {\n",
       "        text-align: right;\n",
       "    }\n",
       "</style>\n",
       "<table border=\"1\" class=\"dataframe\">\n",
       "  <thead>\n",
       "    <tr style=\"text-align: right;\">\n",
       "      <th></th>\n",
       "      <th>Labels</th>\n",
       "      <th>Types</th>\n",
       "      <th>Images</th>\n",
       "    </tr>\n",
       "  </thead>\n",
       "  <tbody>\n",
       "    <tr>\n",
       "      <th>5</th>\n",
       "      <td>I</td>\n",
       "      <td>Maj</td>\n",
       "      <td>[0.0, 0.0, 0.0, 0.0, 0.0, 0.0, 0.0, 0.0, 0.0, ...</td>\n",
       "    </tr>\n",
       "    <tr>\n",
       "      <th>7</th>\n",
       "      <td>E</td>\n",
       "      <td>Maj</td>\n",
       "      <td>[0.0, 0.0, 0.0, 0.0, 0.0, 0.0, 0.0, 0.0, 0.0, ...</td>\n",
       "    </tr>\n",
       "    <tr>\n",
       "      <th>8</th>\n",
       "      <td>B</td>\n",
       "      <td>Maj</td>\n",
       "      <td>[0.0, 0.0, 0.0, 0.0, 0.0, 0.0, 0.0, 0.0, 0.0, ...</td>\n",
       "    </tr>\n",
       "    <tr>\n",
       "      <th>14</th>\n",
       "      <td>S</td>\n",
       "      <td>Maj</td>\n",
       "      <td>[0.0, 0.0, 0.0, 0.0, 0.0, 0.0, 0.0, 0.0, 0.0, ...</td>\n",
       "    </tr>\n",
       "    <tr>\n",
       "      <th>16</th>\n",
       "      <td>L</td>\n",
       "      <td>Maj</td>\n",
       "      <td>[0.0, 0.0, 0.0, 0.0, 0.0, 0.0, 0.0, 0.0, 0.0, ...</td>\n",
       "    </tr>\n",
       "  </tbody>\n",
       "</table>\n",
       "</div>"
      ],
      "text/plain": [
       "   Labels Types                                             Images\n",
       "5       I   Maj  [0.0, 0.0, 0.0, 0.0, 0.0, 0.0, 0.0, 0.0, 0.0, ...\n",
       "7       E   Maj  [0.0, 0.0, 0.0, 0.0, 0.0, 0.0, 0.0, 0.0, 0.0, ...\n",
       "8       B   Maj  [0.0, 0.0, 0.0, 0.0, 0.0, 0.0, 0.0, 0.0, 0.0, ...\n",
       "14      S   Maj  [0.0, 0.0, 0.0, 0.0, 0.0, 0.0, 0.0, 0.0, 0.0, ...\n",
       "16      L   Maj  [0.0, 0.0, 0.0, 0.0, 0.0, 0.0, 0.0, 0.0, 0.0, ..."
      ]
     },
     "execution_count": 55,
     "metadata": {},
     "output_type": "execute_result"
    }
   ],
   "source": [
    "df_test_Maj = df_test[df_test[\"Types\"] == \"Maj\"]\n",
    "print(df_test_Maj.shape) # (, 3)\n",
    "df_test_Maj.head()\n",
    "# Temps :"
   ]
  },
  {
   "cell_type": "code",
   "execution_count": 56,
   "id": "ccd812ea",
   "metadata": {},
   "outputs": [
    {
     "name": "stdout",
     "output_type": "stream",
     "text": [
      "(43250, 3)\n"
     ]
    },
    {
     "data": {
      "text/html": [
       "<div>\n",
       "<style scoped>\n",
       "    .dataframe tbody tr th:only-of-type {\n",
       "        vertical-align: middle;\n",
       "    }\n",
       "\n",
       "    .dataframe tbody tr th {\n",
       "        vertical-align: top;\n",
       "    }\n",
       "\n",
       "    .dataframe thead th {\n",
       "        text-align: right;\n",
       "    }\n",
       "</style>\n",
       "<table border=\"1\" class=\"dataframe\">\n",
       "  <thead>\n",
       "    <tr style=\"text-align: right;\">\n",
       "      <th></th>\n",
       "      <th>Labels</th>\n",
       "      <th>Types</th>\n",
       "      <th>Images</th>\n",
       "    </tr>\n",
       "  </thead>\n",
       "  <tbody>\n",
       "    <tr>\n",
       "      <th>6</th>\n",
       "      <td>J</td>\n",
       "      <td>Maj</td>\n",
       "      <td>[0.0, 0.0, 0.0, 0.0, 0.0, 0.0, 0.0, 0.0, 0.0, ...</td>\n",
       "    </tr>\n",
       "    <tr>\n",
       "      <th>8</th>\n",
       "      <td>D</td>\n",
       "      <td>Maj</td>\n",
       "      <td>[0.0, 0.0, 0.0, 0.0, 0.0, 0.0, 0.0, 0.0, 0.0, ...</td>\n",
       "    </tr>\n",
       "    <tr>\n",
       "      <th>9</th>\n",
       "      <td>L</td>\n",
       "      <td>Maj</td>\n",
       "      <td>[0.0, 0.0, 0.0, 0.0, 0.0, 0.0, 0.0, 0.0, 0.0, ...</td>\n",
       "    </tr>\n",
       "    <tr>\n",
       "      <th>13</th>\n",
       "      <td>V</td>\n",
       "      <td>Maj</td>\n",
       "      <td>[0.0, 0.0, 0.0, 0.0, 0.0, 0.0, 0.0, 0.0, 0.0, ...</td>\n",
       "    </tr>\n",
       "    <tr>\n",
       "      <th>16</th>\n",
       "      <td>U</td>\n",
       "      <td>Maj</td>\n",
       "      <td>[0.0, 0.0, 0.0, 0.0, 0.0, 0.0, 0.0, 0.0, 0.0, ...</td>\n",
       "    </tr>\n",
       "  </tbody>\n",
       "</table>\n",
       "</div>"
      ],
      "text/plain": [
       "   Labels Types                                             Images\n",
       "6       J   Maj  [0.0, 0.0, 0.0, 0.0, 0.0, 0.0, 0.0, 0.0, 0.0, ...\n",
       "8       D   Maj  [0.0, 0.0, 0.0, 0.0, 0.0, 0.0, 0.0, 0.0, 0.0, ...\n",
       "9       L   Maj  [0.0, 0.0, 0.0, 0.0, 0.0, 0.0, 0.0, 0.0, 0.0, ...\n",
       "13      V   Maj  [0.0, 0.0, 0.0, 0.0, 0.0, 0.0, 0.0, 0.0, 0.0, ...\n",
       "16      U   Maj  [0.0, 0.0, 0.0, 0.0, 0.0, 0.0, 0.0, 0.0, 0.0, ..."
      ]
     },
     "execution_count": 56,
     "metadata": {},
     "output_type": "execute_result"
    }
   ],
   "source": [
    "df_validation_Maj = df_validation[df_validation[\"Types\"] == \"Maj\"]\n",
    "print(df_validation_Maj.shape) # (, 3)\n",
    "df_validation_Maj.head()\n",
    "# Temps :"
   ]
  },
  {
   "cell_type": "code",
   "execution_count": 57,
   "id": "5c1ecfd6",
   "metadata": {},
   "outputs": [],
   "source": [
    "X_train_Maj = np.array(df_train_Maj[\"Images\"].tolist())\n",
    "y_train_Maj = np.array(df_train_Maj[\"Labels\"].tolist())\n",
    "X_test_Maj = np.array(df_test_Maj[\"Images\"].tolist())\n",
    "y_test_Maj = np.array(df_test_Maj[\"Labels\"].tolist())\n",
    "X_validation_Maj = np.array(df_validation_Maj[\"Images\"].tolist())\n",
    "y_validation_Maj = np.array(df_validation_Maj[\"Labels\"].tolist())\n",
    "# Temps : "
   ]
  },
  {
   "cell_type": "code",
   "execution_count": 58,
   "id": "c2e1cacf",
   "metadata": {},
   "outputs": [],
   "source": [
    "# Conversion des étiquettes en indices (si nécessaire)\n",
    "label_encoder_Maj = LabelEncoder()\n",
    "\n",
    "y_train_Maj_2 = label_encoder_Maj.fit_transform(y_train_Maj)  # Convertit les étiquettes (lettres/nombres) en indices numériques (nombre) (str => int)\n",
    "y_test_Maj_2 = label_encoder_Maj.transform(y_test_Maj)\n",
    "y_validation_Maj_2 = label_encoder_Maj.transform(y_validation_Maj)"
   ]
  },
  {
   "cell_type": "code",
   "execution_count": 59,
   "id": "a37d93b6",
   "metadata": {},
   "outputs": [
    {
     "name": "stdout",
     "output_type": "stream",
     "text": [
      "{0: 'A', 1: 'B', 2: 'C', 3: 'D', 4: 'E', 5: 'F', 6: 'G', 7: 'H', 8: 'I', 9: 'J', 10: 'K', 11: 'L', 12: 'M', 13: 'N', 14: 'O', 15: 'P', 16: 'Q', 17: 'R', 18: 'S', 19: 'T', 20: 'U', 21: 'V', 22: 'W', 23: 'X', 24: 'Y', 25: 'Z'}\n",
      "['A', 'B', 'C', 'D', 'E', 'F', 'G', 'H', 'I', 'J', 'K', 'L', 'M', 'N', 'O', 'P', 'Q', 'R', 'S', 'T', 'U', 'V', 'W', 'X', 'Y', 'Z']\n"
     ]
    }
   ],
   "source": [
    "# Correspondance indices ↔ labels\n",
    "correspondance_Maj = dict(enumerate(label_encoder_Maj.classes_))\n",
    "print(correspondance_Maj)\n",
    "\n",
    "# Liste des labels\n",
    "labels_Maj = list(correspondance_Maj.values())\n",
    "print(labels_Maj)"
   ]
  },
  {
   "cell_type": "code",
   "execution_count": 60,
   "id": "5c70f00b",
   "metadata": {},
   "outputs": [
    {
     "name": "stdout",
     "output_type": "stream",
     "text": [
      "Taille de X_train_Maj: (150341, 625), y_train_Maj: (150341,), y_train_Maj_2: (150341,)\n",
      "Taille de X_test_Maj: (43121, 625), y_test_Maj: (43121,), y_test_Maj_2: (43121,)\n",
      "Taille de X_validation_Maj: (43250, 625), y_validation_Maj: (43250,), y_validation_Maj_2: (43250,)\n"
     ]
    }
   ],
   "source": [
    "# Afficher quelques informations\n",
    "print(f\"Taille de X_train_Maj: {X_train_Maj.shape}, y_train_Maj: {y_train_Maj.shape}, y_train_Maj_2: {y_train_Maj_2.shape}\")\n",
    "print(f\"Taille de X_test_Maj: {X_test_Maj.shape}, y_test_Maj: {y_test_Maj.shape}, y_test_Maj_2: {y_test_Maj_2.shape}\")\n",
    "print(f\"Taille de X_validation_Maj: {X_validation_Maj.shape}, y_validation_Maj: {y_validation_Maj.shape}, y_validation_Maj_2: {y_validation_Maj_2.shape}\")"
   ]
  },
  {
   "cell_type": "markdown",
   "id": "b1b4df28",
   "metadata": {},
   "source": [
    "### Données pour apprentissage du NN 'Get Min'\n",
    "---\n",
    "\n",
    "Préparation des données pour l'entrainement du réseau de neurones 'Get Min' qui permettra de classé les images selon la lettre minuscule qui y est representée."
   ]
  },
  {
   "cell_type": "code",
   "execution_count": 61,
   "id": "4b625cb5",
   "metadata": {},
   "outputs": [
    {
     "name": "stdout",
     "output_type": "stream",
     "text": [
      "(111713, 3)\n"
     ]
    },
    {
     "data": {
      "text/html": [
       "<div>\n",
       "<style scoped>\n",
       "    .dataframe tbody tr th:only-of-type {\n",
       "        vertical-align: middle;\n",
       "    }\n",
       "\n",
       "    .dataframe tbody tr th {\n",
       "        vertical-align: top;\n",
       "    }\n",
       "\n",
       "    .dataframe thead th {\n",
       "        text-align: right;\n",
       "    }\n",
       "</style>\n",
       "<table border=\"1\" class=\"dataframe\">\n",
       "  <thead>\n",
       "    <tr style=\"text-align: right;\">\n",
       "      <th></th>\n",
       "      <th>Labels</th>\n",
       "      <th>Types</th>\n",
       "      <th>Images</th>\n",
       "    </tr>\n",
       "  </thead>\n",
       "  <tbody>\n",
       "    <tr>\n",
       "      <th>2</th>\n",
       "      <td>l</td>\n",
       "      <td>Min</td>\n",
       "      <td>[0.0, 0.0, 0.0, 0.0, 0.0, 0.0, 0.0, 0.0, 0.0, ...</td>\n",
       "    </tr>\n",
       "    <tr>\n",
       "      <th>7</th>\n",
       "      <td>h</td>\n",
       "      <td>Min</td>\n",
       "      <td>[0.0, 0.0, 0.0, 0.0, 0.0, 0.0, 0.0, 0.0, 0.0, ...</td>\n",
       "    </tr>\n",
       "    <tr>\n",
       "      <th>9</th>\n",
       "      <td>i</td>\n",
       "      <td>Min</td>\n",
       "      <td>[0.0, 0.0, 0.0, 0.0, 0.0, 0.0, 0.0, 0.0, 0.0, ...</td>\n",
       "    </tr>\n",
       "    <tr>\n",
       "      <th>10</th>\n",
       "      <td>l</td>\n",
       "      <td>Min</td>\n",
       "      <td>[0.0, 0.0, 0.0, 0.0, 0.0, 0.0, 0.0, 0.0, 0.0, ...</td>\n",
       "    </tr>\n",
       "    <tr>\n",
       "      <th>13</th>\n",
       "      <td>t</td>\n",
       "      <td>Min</td>\n",
       "      <td>[0.0, 0.0, 0.0, 0.0, 0.0, 0.0, 0.0, 0.0, 0.0, ...</td>\n",
       "    </tr>\n",
       "  </tbody>\n",
       "</table>\n",
       "</div>"
      ],
      "text/plain": [
       "   Labels Types                                             Images\n",
       "2       l   Min  [0.0, 0.0, 0.0, 0.0, 0.0, 0.0, 0.0, 0.0, 0.0, ...\n",
       "7       h   Min  [0.0, 0.0, 0.0, 0.0, 0.0, 0.0, 0.0, 0.0, 0.0, ...\n",
       "9       i   Min  [0.0, 0.0, 0.0, 0.0, 0.0, 0.0, 0.0, 0.0, 0.0, ...\n",
       "10      l   Min  [0.0, 0.0, 0.0, 0.0, 0.0, 0.0, 0.0, 0.0, 0.0, ...\n",
       "13      t   Min  [0.0, 0.0, 0.0, 0.0, 0.0, 0.0, 0.0, 0.0, 0.0, ..."
      ]
     },
     "execution_count": 61,
     "metadata": {},
     "output_type": "execute_result"
    }
   ],
   "source": [
    "df_train_Min = df_train[df_train[\"Types\"] == \"Min\"]\n",
    "print(df_train_Min.shape) # (, 3)\n",
    "df_train_Min.head()\n",
    "# Temps : "
   ]
  },
  {
   "cell_type": "code",
   "execution_count": 62,
   "id": "2f458f81",
   "metadata": {},
   "outputs": [
    {
     "name": "stdout",
     "output_type": "stream",
     "text": [
      "(37358, 3)\n"
     ]
    },
    {
     "data": {
      "text/html": [
       "<div>\n",
       "<style scoped>\n",
       "    .dataframe tbody tr th:only-of-type {\n",
       "        vertical-align: middle;\n",
       "    }\n",
       "\n",
       "    .dataframe tbody tr th {\n",
       "        vertical-align: top;\n",
       "    }\n",
       "\n",
       "    .dataframe thead th {\n",
       "        text-align: right;\n",
       "    }\n",
       "</style>\n",
       "<table border=\"1\" class=\"dataframe\">\n",
       "  <thead>\n",
       "    <tr style=\"text-align: right;\">\n",
       "      <th></th>\n",
       "      <th>Labels</th>\n",
       "      <th>Types</th>\n",
       "      <th>Images</th>\n",
       "    </tr>\n",
       "  </thead>\n",
       "  <tbody>\n",
       "    <tr>\n",
       "      <th>10</th>\n",
       "      <td>t</td>\n",
       "      <td>Min</td>\n",
       "      <td>[0.0, 0.0, 0.0, 0.0, 0.0, 0.0, 0.0, 0.0, 0.0, ...</td>\n",
       "    </tr>\n",
       "    <tr>\n",
       "      <th>12</th>\n",
       "      <td>e</td>\n",
       "      <td>Min</td>\n",
       "      <td>[0.0, 0.0, 0.0, 0.0, 0.0, 0.0, 0.0, 0.0, 0.0, ...</td>\n",
       "    </tr>\n",
       "    <tr>\n",
       "      <th>13</th>\n",
       "      <td>n</td>\n",
       "      <td>Min</td>\n",
       "      <td>[0.0, 0.0, 0.0, 0.0, 0.0, 0.0, 0.0, 0.0, 0.0, ...</td>\n",
       "    </tr>\n",
       "    <tr>\n",
       "      <th>15</th>\n",
       "      <td>t</td>\n",
       "      <td>Min</td>\n",
       "      <td>[0.0, 0.0, 0.0, 0.0, 0.0, 0.0, 0.0, 0.0, 0.0, ...</td>\n",
       "    </tr>\n",
       "    <tr>\n",
       "      <th>22</th>\n",
       "      <td>t</td>\n",
       "      <td>Min</td>\n",
       "      <td>[0.0, 0.0, 0.0, 0.0, 0.0, 0.0, 0.0, 0.0, 0.0, ...</td>\n",
       "    </tr>\n",
       "  </tbody>\n",
       "</table>\n",
       "</div>"
      ],
      "text/plain": [
       "   Labels Types                                             Images\n",
       "10      t   Min  [0.0, 0.0, 0.0, 0.0, 0.0, 0.0, 0.0, 0.0, 0.0, ...\n",
       "12      e   Min  [0.0, 0.0, 0.0, 0.0, 0.0, 0.0, 0.0, 0.0, 0.0, ...\n",
       "13      n   Min  [0.0, 0.0, 0.0, 0.0, 0.0, 0.0, 0.0, 0.0, 0.0, ...\n",
       "15      t   Min  [0.0, 0.0, 0.0, 0.0, 0.0, 0.0, 0.0, 0.0, 0.0, ...\n",
       "22      t   Min  [0.0, 0.0, 0.0, 0.0, 0.0, 0.0, 0.0, 0.0, 0.0, ..."
      ]
     },
     "execution_count": 62,
     "metadata": {},
     "output_type": "execute_result"
    }
   ],
   "source": [
    "df_test_Min = df_test[df_test[\"Types\"] == \"Min\"]\n",
    "print(df_test_Min.shape) # (, 3)\n",
    "df_test_Min.head()\n",
    "# Temps :"
   ]
  },
  {
   "cell_type": "code",
   "execution_count": 63,
   "id": "f2e1c2b5",
   "metadata": {},
   "outputs": [
    {
     "name": "stdout",
     "output_type": "stream",
     "text": [
      "(37374, 3)\n"
     ]
    },
    {
     "data": {
      "text/html": [
       "<div>\n",
       "<style scoped>\n",
       "    .dataframe tbody tr th:only-of-type {\n",
       "        vertical-align: middle;\n",
       "    }\n",
       "\n",
       "    .dataframe tbody tr th {\n",
       "        vertical-align: top;\n",
       "    }\n",
       "\n",
       "    .dataframe thead th {\n",
       "        text-align: right;\n",
       "    }\n",
       "</style>\n",
       "<table border=\"1\" class=\"dataframe\">\n",
       "  <thead>\n",
       "    <tr style=\"text-align: right;\">\n",
       "      <th></th>\n",
       "      <th>Labels</th>\n",
       "      <th>Types</th>\n",
       "      <th>Images</th>\n",
       "    </tr>\n",
       "  </thead>\n",
       "  <tbody>\n",
       "    <tr>\n",
       "      <th>12</th>\n",
       "      <td>l</td>\n",
       "      <td>Min</td>\n",
       "      <td>[0.0, 0.0, 0.0, 0.0, 0.0, 0.0, 0.0, 0.0, 0.0, ...</td>\n",
       "    </tr>\n",
       "    <tr>\n",
       "      <th>14</th>\n",
       "      <td>d</td>\n",
       "      <td>Min</td>\n",
       "      <td>[0.0, 0.0, 0.0, 0.0, 0.0, 0.0, 0.0, 0.0, 0.0, ...</td>\n",
       "    </tr>\n",
       "    <tr>\n",
       "      <th>18</th>\n",
       "      <td>e</td>\n",
       "      <td>Min</td>\n",
       "      <td>[0.0, 0.0, 0.0, 0.0, 0.0, 0.0, 0.0, 0.0, 0.0, ...</td>\n",
       "    </tr>\n",
       "    <tr>\n",
       "      <th>19</th>\n",
       "      <td>t</td>\n",
       "      <td>Min</td>\n",
       "      <td>[0.0, 0.0, 0.0, 0.0, 0.0, 0.0, 0.0, 0.0, 0.0, ...</td>\n",
       "    </tr>\n",
       "    <tr>\n",
       "      <th>30</th>\n",
       "      <td>y</td>\n",
       "      <td>Min</td>\n",
       "      <td>[0.0, 0.0, 0.0, 0.0, 0.0, 0.0, 0.0, 0.0, 0.0, ...</td>\n",
       "    </tr>\n",
       "  </tbody>\n",
       "</table>\n",
       "</div>"
      ],
      "text/plain": [
       "   Labels Types                                             Images\n",
       "12      l   Min  [0.0, 0.0, 0.0, 0.0, 0.0, 0.0, 0.0, 0.0, 0.0, ...\n",
       "14      d   Min  [0.0, 0.0, 0.0, 0.0, 0.0, 0.0, 0.0, 0.0, 0.0, ...\n",
       "18      e   Min  [0.0, 0.0, 0.0, 0.0, 0.0, 0.0, 0.0, 0.0, 0.0, ...\n",
       "19      t   Min  [0.0, 0.0, 0.0, 0.0, 0.0, 0.0, 0.0, 0.0, 0.0, ...\n",
       "30      y   Min  [0.0, 0.0, 0.0, 0.0, 0.0, 0.0, 0.0, 0.0, 0.0, ..."
      ]
     },
     "execution_count": 63,
     "metadata": {},
     "output_type": "execute_result"
    }
   ],
   "source": [
    "df_validation_Min = df_validation[df_validation[\"Types\"] == \"Min\"]\n",
    "print(df_validation_Min.shape) # (, 3)\n",
    "df_validation_Min.head()\n",
    "# Temps :"
   ]
  },
  {
   "cell_type": "code",
   "execution_count": 64,
   "id": "4199a9d1",
   "metadata": {},
   "outputs": [],
   "source": [
    "X_train_Min = np.array(df_train_Min[\"Images\"].tolist())\n",
    "y_train_Min = np.array(df_train_Min[\"Labels\"].tolist())\n",
    "X_test_Min = np.array(df_test_Min[\"Images\"].tolist())\n",
    "y_test_Min = np.array(df_test_Min[\"Labels\"].tolist())\n",
    "X_validation_Min = np.array(df_validation_Min[\"Images\"].tolist())\n",
    "y_validation_Min = np.array(df_validation_Min[\"Labels\"].tolist())\n",
    "# Temps : 5m 21.2s"
   ]
  },
  {
   "cell_type": "code",
   "execution_count": 65,
   "id": "1ec82bca",
   "metadata": {},
   "outputs": [],
   "source": [
    "# Conversion des étiquettes en indices (si nécessaire)\n",
    "label_encoder_Min = LabelEncoder()\n",
    "\n",
    "y_train_Min_2 = label_encoder_Min.fit_transform(y_train_Min)  # Convertit les étiquettes (lettres/nombres) en indices numériques (nombre) (str => int)\n",
    "y_test_Min_2 = label_encoder_Min.transform(y_test_Min)\n",
    "y_validation_Min_2 = label_encoder_Min.transform(y_validation_Min)"
   ]
  },
  {
   "cell_type": "code",
   "execution_count": 66,
   "id": "cbde9fbc",
   "metadata": {},
   "outputs": [
    {
     "name": "stdout",
     "output_type": "stream",
     "text": [
      "{0: 'a', 1: 'b', 2: 'c', 3: 'd', 4: 'e', 5: 'f', 6: 'g', 7: 'h', 8: 'i', 9: 'j', 10: 'k', 11: 'l', 12: 'm', 13: 'n', 14: 'o', 15: 'p', 16: 'q', 17: 'r', 18: 's', 19: 't', 20: 'u', 21: 'v', 22: 'w', 23: 'x', 24: 'y', 25: 'z'}\n",
      "['a', 'b', 'c', 'd', 'e', 'f', 'g', 'h', 'i', 'j', 'k', 'l', 'm', 'n', 'o', 'p', 'q', 'r', 's', 't', 'u', 'v', 'w', 'x', 'y', 'z']\n"
     ]
    }
   ],
   "source": [
    "# Correspondance indices ↔ labels\n",
    "correspondance_Min = dict(enumerate(label_encoder_Min.classes_))\n",
    "print(correspondance_Min)\n",
    "\n",
    "# Liste des labels\n",
    "labels_Min = list(correspondance_Min.values())\n",
    "print(labels_Min)"
   ]
  },
  {
   "cell_type": "code",
   "execution_count": 67,
   "id": "11e08a64",
   "metadata": {},
   "outputs": [
    {
     "name": "stdout",
     "output_type": "stream",
     "text": [
      "Taille de X_train_Min: (111713, 625), y_train_Min: (111713,), y_train_Min_2: (111713,)\n",
      "Taille de X_test_Min: (37358, 625), y_test_Min: (37358,), y_test_Min_2: (37358,)\n",
      "Taille de X_validation_Min: (37374, 625), y_validation_Min: (37374,), y_validation_Min_2: (37374,)\n"
     ]
    }
   ],
   "source": [
    "# Afficher quelques informations\n",
    "print(f\"Taille de X_train_Min: {X_train_Min.shape}, y_train_Min: {y_train_Min.shape}, y_train_Min_2: {y_train_Min_2.shape}\")\n",
    "print(f\"Taille de X_test_Min: {X_test_Min.shape}, y_test_Min: {y_test_Min.shape}, y_test_Min_2: {y_test_Min_2.shape}\")\n",
    "print(f\"Taille de X_validation_Min: {X_validation_Min.shape}, y_validation_Min: {y_validation_Min.shape}, y_validation_Min_2: {y_validation_Min_2.shape}\")"
   ]
  },
  {
   "cell_type": "markdown",
   "id": "5ddfa01a",
   "metadata": {},
   "source": [
    "### Données pour apprentissage du NN 'Get Nbr'\n",
    "---\n",
    "\n",
    "Préparation des données pour l'entrainement du réseau de neurones 'Get Nbr' qui permettra de classé les images selon le chiffre qui y est représenté."
   ]
  },
  {
   "cell_type": "code",
   "execution_count": 68,
   "id": "1131478e",
   "metadata": {},
   "outputs": [
    {
     "name": "stdout",
     "output_type": "stream",
     "text": [
      "(225173, 3)\n"
     ]
    },
    {
     "data": {
      "text/html": [
       "<div>\n",
       "<style scoped>\n",
       "    .dataframe tbody tr th:only-of-type {\n",
       "        vertical-align: middle;\n",
       "    }\n",
       "\n",
       "    .dataframe tbody tr th {\n",
       "        vertical-align: top;\n",
       "    }\n",
       "\n",
       "    .dataframe thead th {\n",
       "        text-align: right;\n",
       "    }\n",
       "</style>\n",
       "<table border=\"1\" class=\"dataframe\">\n",
       "  <thead>\n",
       "    <tr style=\"text-align: right;\">\n",
       "      <th></th>\n",
       "      <th>Labels</th>\n",
       "      <th>Types</th>\n",
       "      <th>Images</th>\n",
       "    </tr>\n",
       "  </thead>\n",
       "  <tbody>\n",
       "    <tr>\n",
       "      <th>0</th>\n",
       "      <td>8</td>\n",
       "      <td>Nbr</td>\n",
       "      <td>[0.0, 0.0, 0.0, 0.0, 0.0, 0.0, 0.0, 0.0, 0.0, ...</td>\n",
       "    </tr>\n",
       "    <tr>\n",
       "      <th>4</th>\n",
       "      <td>0</td>\n",
       "      <td>Nbr</td>\n",
       "      <td>[0.0, 0.0, 0.0, 0.0, 0.0, 0.0, 0.0, 0.0, 0.0, ...</td>\n",
       "    </tr>\n",
       "    <tr>\n",
       "      <th>5</th>\n",
       "      <td>7</td>\n",
       "      <td>Nbr</td>\n",
       "      <td>[0.0, 0.0, 0.0, 0.0, 0.0, 0.0, 0.0, 0.0, 0.0, ...</td>\n",
       "    </tr>\n",
       "    <tr>\n",
       "      <th>6</th>\n",
       "      <td>1</td>\n",
       "      <td>Nbr</td>\n",
       "      <td>[0.0, 0.0, 0.0, 0.0, 0.0, 0.0, 0.0, 0.0, 0.0, ...</td>\n",
       "    </tr>\n",
       "    <tr>\n",
       "      <th>8</th>\n",
       "      <td>2</td>\n",
       "      <td>Nbr</td>\n",
       "      <td>[0.0, 0.0, 0.0, 0.0, 0.0, 0.0, 0.0, 0.0, 0.0, ...</td>\n",
       "    </tr>\n",
       "  </tbody>\n",
       "</table>\n",
       "</div>"
      ],
      "text/plain": [
       "  Labels Types                                             Images\n",
       "0      8   Nbr  [0.0, 0.0, 0.0, 0.0, 0.0, 0.0, 0.0, 0.0, 0.0, ...\n",
       "4      0   Nbr  [0.0, 0.0, 0.0, 0.0, 0.0, 0.0, 0.0, 0.0, 0.0, ...\n",
       "5      7   Nbr  [0.0, 0.0, 0.0, 0.0, 0.0, 0.0, 0.0, 0.0, 0.0, ...\n",
       "6      1   Nbr  [0.0, 0.0, 0.0, 0.0, 0.0, 0.0, 0.0, 0.0, 0.0, ...\n",
       "8      2   Nbr  [0.0, 0.0, 0.0, 0.0, 0.0, 0.0, 0.0, 0.0, 0.0, ..."
      ]
     },
     "execution_count": 68,
     "metadata": {},
     "output_type": "execute_result"
    }
   ],
   "source": [
    "df_train_Nbr = df_train[df_train[\"Types\"] == \"Nbr\"]\n",
    "print(df_train_Nbr.shape) # (, 3)\n",
    "df_train_Nbr.head()\n",
    "# Temps : "
   ]
  },
  {
   "cell_type": "code",
   "execution_count": 69,
   "id": "ab429874",
   "metadata": {},
   "outputs": [
    {
     "name": "stdout",
     "output_type": "stream",
     "text": [
      "(75010, 3)\n"
     ]
    },
    {
     "data": {
      "text/html": [
       "<div>\n",
       "<style scoped>\n",
       "    .dataframe tbody tr th:only-of-type {\n",
       "        vertical-align: middle;\n",
       "    }\n",
       "\n",
       "    .dataframe tbody tr th {\n",
       "        vertical-align: top;\n",
       "    }\n",
       "\n",
       "    .dataframe thead th {\n",
       "        text-align: right;\n",
       "    }\n",
       "</style>\n",
       "<table border=\"1\" class=\"dataframe\">\n",
       "  <thead>\n",
       "    <tr style=\"text-align: right;\">\n",
       "      <th></th>\n",
       "      <th>Labels</th>\n",
       "      <th>Types</th>\n",
       "      <th>Images</th>\n",
       "    </tr>\n",
       "  </thead>\n",
       "  <tbody>\n",
       "    <tr>\n",
       "      <th>0</th>\n",
       "      <td>4</td>\n",
       "      <td>Nbr</td>\n",
       "      <td>[0.0, 0.0, 0.0, 0.0, 0.0, 0.0, 0.0, 0.0, 0.0, ...</td>\n",
       "    </tr>\n",
       "    <tr>\n",
       "      <th>1</th>\n",
       "      <td>7</td>\n",
       "      <td>Nbr</td>\n",
       "      <td>[0.0, 0.0, 0.0, 0.0, 0.0, 0.0, 0.0, 0.0, 0.0, ...</td>\n",
       "    </tr>\n",
       "    <tr>\n",
       "      <th>2</th>\n",
       "      <td>0</td>\n",
       "      <td>Nbr</td>\n",
       "      <td>[0.0, 0.0, 0.0, 0.0, 0.0, 0.0, 0.0, 0.0, 0.0, ...</td>\n",
       "    </tr>\n",
       "    <tr>\n",
       "      <th>3</th>\n",
       "      <td>9</td>\n",
       "      <td>Nbr</td>\n",
       "      <td>[0.0, 0.0, 0.0, 0.0, 0.0, 0.0, 0.0, 0.0, 0.0, ...</td>\n",
       "    </tr>\n",
       "    <tr>\n",
       "      <th>4</th>\n",
       "      <td>3</td>\n",
       "      <td>Nbr</td>\n",
       "      <td>[0.0, 0.0, 0.0, 0.0, 0.0, 0.0, 0.0, 0.0, 0.0, ...</td>\n",
       "    </tr>\n",
       "  </tbody>\n",
       "</table>\n",
       "</div>"
      ],
      "text/plain": [
       "  Labels Types                                             Images\n",
       "0      4   Nbr  [0.0, 0.0, 0.0, 0.0, 0.0, 0.0, 0.0, 0.0, 0.0, ...\n",
       "1      7   Nbr  [0.0, 0.0, 0.0, 0.0, 0.0, 0.0, 0.0, 0.0, 0.0, ...\n",
       "2      0   Nbr  [0.0, 0.0, 0.0, 0.0, 0.0, 0.0, 0.0, 0.0, 0.0, ...\n",
       "3      9   Nbr  [0.0, 0.0, 0.0, 0.0, 0.0, 0.0, 0.0, 0.0, 0.0, ...\n",
       "4      3   Nbr  [0.0, 0.0, 0.0, 0.0, 0.0, 0.0, 0.0, 0.0, 0.0, ..."
      ]
     },
     "execution_count": 69,
     "metadata": {},
     "output_type": "execute_result"
    }
   ],
   "source": [
    "df_test_Nbr = df_test[df_test[\"Types\"] == \"Nbr\"]\n",
    "print(df_test_Nbr.shape) # (, 3)\n",
    "df_test_Nbr.head()\n",
    "# Temps : "
   ]
  },
  {
   "cell_type": "code",
   "execution_count": 70,
   "id": "f483c835",
   "metadata": {},
   "outputs": [
    {
     "name": "stdout",
     "output_type": "stream",
     "text": [
      "(75062, 3)\n"
     ]
    },
    {
     "data": {
      "text/html": [
       "<div>\n",
       "<style scoped>\n",
       "    .dataframe tbody tr th:only-of-type {\n",
       "        vertical-align: middle;\n",
       "    }\n",
       "\n",
       "    .dataframe tbody tr th {\n",
       "        vertical-align: top;\n",
       "    }\n",
       "\n",
       "    .dataframe thead th {\n",
       "        text-align: right;\n",
       "    }\n",
       "</style>\n",
       "<table border=\"1\" class=\"dataframe\">\n",
       "  <thead>\n",
       "    <tr style=\"text-align: right;\">\n",
       "      <th></th>\n",
       "      <th>Labels</th>\n",
       "      <th>Types</th>\n",
       "      <th>Images</th>\n",
       "    </tr>\n",
       "  </thead>\n",
       "  <tbody>\n",
       "    <tr>\n",
       "      <th>0</th>\n",
       "      <td>3</td>\n",
       "      <td>Nbr</td>\n",
       "      <td>[0.0, 0.0, 0.0, 0.0, 0.0, 0.0, 0.0, 0.0, 0.0, ...</td>\n",
       "    </tr>\n",
       "    <tr>\n",
       "      <th>1</th>\n",
       "      <td>1</td>\n",
       "      <td>Nbr</td>\n",
       "      <td>[0.0, 0.0, 0.0, 0.0, 0.0, 0.0, 0.0, 0.0, 0.0, ...</td>\n",
       "    </tr>\n",
       "    <tr>\n",
       "      <th>2</th>\n",
       "      <td>9</td>\n",
       "      <td>Nbr</td>\n",
       "      <td>[0.0, 0.0, 0.0, 0.0, 0.0, 0.0, 0.0, 0.0, 0.0, ...</td>\n",
       "    </tr>\n",
       "    <tr>\n",
       "      <th>3</th>\n",
       "      <td>8</td>\n",
       "      <td>Nbr</td>\n",
       "      <td>[0.0, 0.0, 0.0, 0.0, 0.0, 0.0, 0.0, 0.0, 0.0, ...</td>\n",
       "    </tr>\n",
       "    <tr>\n",
       "      <th>4</th>\n",
       "      <td>0</td>\n",
       "      <td>Nbr</td>\n",
       "      <td>[0.0, 0.0, 0.0, 0.0, 0.0, 0.0, 0.0, 0.0, 0.0, ...</td>\n",
       "    </tr>\n",
       "  </tbody>\n",
       "</table>\n",
       "</div>"
      ],
      "text/plain": [
       "  Labels Types                                             Images\n",
       "0      3   Nbr  [0.0, 0.0, 0.0, 0.0, 0.0, 0.0, 0.0, 0.0, 0.0, ...\n",
       "1      1   Nbr  [0.0, 0.0, 0.0, 0.0, 0.0, 0.0, 0.0, 0.0, 0.0, ...\n",
       "2      9   Nbr  [0.0, 0.0, 0.0, 0.0, 0.0, 0.0, 0.0, 0.0, 0.0, ...\n",
       "3      8   Nbr  [0.0, 0.0, 0.0, 0.0, 0.0, 0.0, 0.0, 0.0, 0.0, ...\n",
       "4      0   Nbr  [0.0, 0.0, 0.0, 0.0, 0.0, 0.0, 0.0, 0.0, 0.0, ..."
      ]
     },
     "execution_count": 70,
     "metadata": {},
     "output_type": "execute_result"
    }
   ],
   "source": [
    "df_validation_Nbr = df_validation[df_validation[\"Types\"] == \"Nbr\"]\n",
    "print(df_validation_Nbr.shape) # (, 3)\n",
    "df_validation_Nbr.head()\n",
    "# Temps : "
   ]
  },
  {
   "cell_type": "code",
   "execution_count": 71,
   "id": "135ad779",
   "metadata": {},
   "outputs": [],
   "source": [
    "X_train_Nbr = np.array(df_train_Nbr[\"Images\"].tolist())\n",
    "y_train_Nbr = np.array(df_train_Nbr[\"Labels\"].tolist())\n",
    "X_test_Nbr = np.array(df_test_Nbr[\"Images\"].tolist())\n",
    "y_test_Nbr = np.array(df_test_Nbr[\"Labels\"].tolist())\n",
    "X_validation_Nbr = np.array(df_validation_Nbr[\"Images\"].tolist())\n",
    "y_validation_Nbr = np.array(df_validation_Nbr[\"Labels\"].tolist())\n",
    "# Temps : 8m 30.5s"
   ]
  },
  {
   "cell_type": "code",
   "execution_count": 72,
   "id": "ab84cf16",
   "metadata": {},
   "outputs": [],
   "source": [
    "# Conversion des étiquettes en indices (si nécessaire)\n",
    "label_encoder_Nbr = LabelEncoder()\n",
    "\n",
    "y_train_Nbr_2 = label_encoder_Nbr.fit_transform(y_train_Nbr)  # Convertit les étiquettes (lettres/nombres) en indices numériques (nombre) (str => int)\n",
    "y_test_Nbr_2 = label_encoder_Nbr.transform(y_test_Nbr)\n",
    "y_validation_Nbr_2 = label_encoder_Nbr.transform(y_validation_Nbr)"
   ]
  },
  {
   "cell_type": "code",
   "execution_count": 73,
   "id": "cb0e1562",
   "metadata": {},
   "outputs": [
    {
     "name": "stdout",
     "output_type": "stream",
     "text": [
      "{0: '0', 1: '1', 2: '2', 3: '3', 4: '4', 5: '5', 6: '6', 7: '7', 8: '8', 9: '9'}\n",
      "['0', '1', '2', '3', '4', '5', '6', '7', '8', '9']\n"
     ]
    }
   ],
   "source": [
    "# Correspondance indices ↔ labels\n",
    "correspondance_Nbr = dict(enumerate(label_encoder_Nbr.classes_))\n",
    "print(correspondance_Nbr)\n",
    "\n",
    "# Liste des labels\n",
    "labels_Nbr = list(correspondance_Nbr.values())\n",
    "print(labels_Nbr)"
   ]
  },
  {
   "cell_type": "code",
   "execution_count": 74,
   "id": "745fcefd",
   "metadata": {},
   "outputs": [
    {
     "name": "stdout",
     "output_type": "stream",
     "text": [
      "Taille de X_train_Nbr: (225173, 625), y_train_Nbr: (225173,), y_train_Nbr_2: (225173,)\n",
      "Taille de X_test_Nbr: (75010, 625), y_test_Nbr: (75010,), y_test_Nbr_2: (75010,)\n",
      "Taille de X_validation_Nbr: (75062, 625), y_validation_Nbr: (75062,), y_validation_Nbr_2: (75062,)\n"
     ]
    }
   ],
   "source": [
    "# Afficher quelques informations\n",
    "print(f\"Taille de X_train_Nbr: {X_train_Nbr.shape}, y_train_Nbr: {y_train_Nbr.shape}, y_train_Nbr_2: {y_train_Nbr_2.shape}\")\n",
    "print(f\"Taille de X_test_Nbr: {X_test_Nbr.shape}, y_test_Nbr: {y_test_Nbr.shape}, y_test_Nbr_2: {y_test_Nbr_2.shape}\")\n",
    "print(f\"Taille de X_validation_Nbr: {X_validation_Nbr.shape}, y_validation_Nbr: {y_validation_Nbr.shape}, y_validation_Nbr_2: {y_validation_Nbr_2.shape}\")"
   ]
  },
  {
   "cell_type": "markdown",
   "id": "75c86311",
   "metadata": {},
   "source": [
    "# Get Type (NN)\n",
    "---\n",
    "\n",
    "Modèle ..."
   ]
  },
  {
   "cell_type": "code",
   "execution_count": 75,
   "id": "684d35c3",
   "metadata": {},
   "outputs": [],
   "source": [
    "# Reseau de neurones\n",
    "model_get_type = keras.Sequential([\n",
    "    keras.layers.Input((625,)), # input layer : 625 neurones (25x25 pixels)\n",
    "    keras.layers.Dense(512, activation='relu'),\n",
    "    keras.layers.Dense(256, activation='relu'),\n",
    "    keras.layers.Dense(128, activation='relu'),\n",
    "    keras.layers.Dense(64, activation='relu'),\n",
    "    keras.layers.Dense(3, activation='sigmoid') # output layer : 3 neurones (Maj, Min, Nbr) -> softmax : sortie à 3 classes\n",
    "])\n",
    "\n",
    "model_get_type.compile(\n",
    "    optimizer='adam', # optimizer : Adam avec learning rate de 0.0001\n",
    "    loss='sparse_categorical_crossentropy', # loss : sparse_categorical_crossentropy pour la classification\n",
    "    metrics=['accuracy'] # metrics : accuracy pour évaluer la performance du modèle\n",
    ")"
   ]
  },
  {
   "cell_type": "code",
   "execution_count": 76,
   "id": "0f3591d3",
   "metadata": {},
   "outputs": [
    {
     "name": "stdout",
     "output_type": "stream",
     "text": [
      "Epoch 1/10\n",
      "\u001b[1m15226/15226\u001b[0m \u001b[32m━━━━━━━━━━━━━━━━━━━━\u001b[0m\u001b[37m\u001b[0m \u001b[1m31s\u001b[0m 2ms/step - accuracy: 0.7740 - loss: 0.5328 - val_accuracy: 0.8184 - val_loss: 0.4387\n",
      "Epoch 2/10\n",
      "\u001b[1m15226/15226\u001b[0m \u001b[32m━━━━━━━━━━━━━━━━━━━━\u001b[0m\u001b[37m\u001b[0m \u001b[1m32s\u001b[0m 2ms/step - accuracy: 0.8311 - loss: 0.4066 - val_accuracy: 0.8260 - val_loss: 0.4203\n",
      "Epoch 3/10\n",
      "\u001b[1m15226/15226\u001b[0m \u001b[32m━━━━━━━━━━━━━━━━━━━━\u001b[0m\u001b[37m\u001b[0m \u001b[1m32s\u001b[0m 2ms/step - accuracy: 0.8412 - loss: 0.3822 - val_accuracy: 0.8337 - val_loss: 0.4014\n",
      "Epoch 4/10\n",
      "\u001b[1m15226/15226\u001b[0m \u001b[32m━━━━━━━━━━━━━━━━━━━━\u001b[0m\u001b[37m\u001b[0m \u001b[1m33s\u001b[0m 2ms/step - accuracy: 0.8471 - loss: 0.3675 - val_accuracy: 0.8388 - val_loss: 0.3896\n",
      "Epoch 5/10\n",
      "\u001b[1m15226/15226\u001b[0m \u001b[32m━━━━━━━━━━━━━━━━━━━━\u001b[0m\u001b[37m\u001b[0m \u001b[1m33s\u001b[0m 2ms/step - accuracy: 0.8512 - loss: 0.3572 - val_accuracy: 0.8380 - val_loss: 0.3932\n",
      "Epoch 6/10\n",
      "\u001b[1m15226/15226\u001b[0m \u001b[32m━━━━━━━━━━━━━━━━━━━━\u001b[0m\u001b[37m\u001b[0m \u001b[1m36s\u001b[0m 2ms/step - accuracy: 0.8542 - loss: 0.3495 - val_accuracy: 0.8409 - val_loss: 0.3894\n",
      "Epoch 7/10\n",
      "\u001b[1m15226/15226\u001b[0m \u001b[32m━━━━━━━━━━━━━━━━━━━━\u001b[0m\u001b[37m\u001b[0m \u001b[1m34s\u001b[0m 2ms/step - accuracy: 0.8573 - loss: 0.3430 - val_accuracy: 0.8393 - val_loss: 0.3938\n",
      "Epoch 8/10\n",
      "\u001b[1m15226/15226\u001b[0m \u001b[32m━━━━━━━━━━━━━━━━━━━━\u001b[0m\u001b[37m\u001b[0m \u001b[1m34s\u001b[0m 2ms/step - accuracy: 0.8589 - loss: 0.3380 - val_accuracy: 0.8432 - val_loss: 0.3866\n",
      "Epoch 9/10\n",
      "\u001b[1m15226/15226\u001b[0m \u001b[32m━━━━━━━━━━━━━━━━━━━━\u001b[0m\u001b[37m\u001b[0m \u001b[1m27s\u001b[0m 2ms/step - accuracy: 0.8608 - loss: 0.3341 - val_accuracy: 0.8410 - val_loss: 0.3901\n",
      "Epoch 10/10\n",
      "\u001b[1m15226/15226\u001b[0m \u001b[32m━━━━━━━━━━━━━━━━━━━━\u001b[0m\u001b[37m\u001b[0m \u001b[1m27s\u001b[0m 2ms/step - accuracy: 0.8630 - loss: 0.3288 - val_accuracy: 0.8422 - val_loss: 0.4226\n"
     ]
    },
    {
     "data": {
      "text/plain": [
       "<keras.src.callbacks.history.History at 0x16f5e1f8550>"
      ]
     },
     "execution_count": 76,
     "metadata": {},
     "output_type": "execute_result"
    }
   ],
   "source": [
    "model_get_type.fit(\n",
    "    X_train_types, \n",
    "    y_train_types_2, \n",
    "    epochs=EPOCHS, \n",
    "    batch_size=BATCH_SIZE, \n",
    "    validation_data=(\n",
    "        X_validation_types, \n",
    "        y_validation_types_2\n",
    "    ),\n",
    "    verbose=1\n",
    ")\n",
    "\n",
    "# Batch 32\n",
    "# accuracy : 0.8618\n",
    "# loss : 0.3311\n",
    "# Temps : 16m 33.5s\n",
    "\n",
    "# Batch 64\n",
    "# accuracy : 0.8644\n",
    "# loss : 0.3228\n",
    "# Temps : 8m 41s\n",
    "\n",
    "# Batch 128\n",
    "# accuracy : 0.8654\n",
    "# loss : 0.3209\n",
    "# Temps : 4m 35.4s\n",
    "\n",
    "# Batch 256\n",
    "# accuracy : 0.8644\n",
    "# loss : 0.3220\n",
    "# Temps : 2m 46.5s"
   ]
  },
  {
   "cell_type": "code",
   "execution_count": 77,
   "id": "e640ee91",
   "metadata": {},
   "outputs": [
    {
     "name": "stdout",
     "output_type": "stream",
     "text": [
      "\u001b[1m4860/4860\u001b[0m \u001b[32m━━━━━━━━━━━━━━━━━━━━\u001b[0m\u001b[37m\u001b[0m \u001b[1m3s\u001b[0m 674us/step - accuracy: 0.8423 - loss: 0.4281\n",
      "Test accuracy : 0.8435773849487305\n",
      "Test loss : 0.40888503193855286\n"
     ]
    }
   ],
   "source": [
    "test_loss_type, test_acc_type = model_get_type.evaluate(X_test_types, y_test_types_2)\n",
    "print(f\"Test accuracy : {test_acc_type}\") # Test accuracy : \n",
    "print(f\"Test loss : {test_loss_type}\") # Test loss : \n",
    "# Temps : 8.3s"
   ]
  },
  {
   "cell_type": "code",
   "execution_count": 78,
   "id": "e8d21c2d",
   "metadata": {},
   "outputs": [],
   "source": [
    "# Sauvegarder le modèle\n",
    "model_get_type.save(\"../models/Get_type_v\" + ADD_NOM + \".keras\")  # Format HDF5 (.h5)"
   ]
  },
  {
   "cell_type": "code",
   "execution_count": 79,
   "id": "3c7e8a14",
   "metadata": {},
   "outputs": [
    {
     "name": "stdout",
     "output_type": "stream",
     "text": [
      "\u001b[1m4860/4860\u001b[0m \u001b[32m━━━━━━━━━━━━━━━━━━━━\u001b[0m\u001b[37m\u001b[0m \u001b[1m4s\u001b[0m 761us/step\n"
     ]
    },
    {
     "data": {
      "text/plain": [
       "array([0.9999933, 0.9994471, 1.       ], dtype=float32)"
      ]
     },
     "execution_count": 79,
     "metadata": {},
     "output_type": "execute_result"
    }
   ],
   "source": [
    "y_predicted_types = model_get_type.predict(X_test_types)\n",
    "y_predicted_types[1]\n",
    "# Temps : 7.2s"
   ]
  },
  {
   "cell_type": "code",
   "execution_count": 80,
   "id": "5a255831",
   "metadata": {},
   "outputs": [
    {
     "data": {
      "text/plain": [
       "2"
      ]
     },
     "execution_count": 80,
     "metadata": {},
     "output_type": "execute_result"
    }
   ],
   "source": [
    "np.argmax(y_predicted_types[1])"
   ]
  },
  {
   "cell_type": "code",
   "execution_count": 81,
   "id": "be508530",
   "metadata": {},
   "outputs": [
    {
     "data": {
      "text/plain": [
       "[2, 2, 0, 2, 2]"
      ]
     },
     "execution_count": 81,
     "metadata": {},
     "output_type": "execute_result"
    }
   ],
   "source": [
    "# y_predicted_labels1 = np.array([correspondance_types[np.argmax(i)] for i in y_predicted_types])\n",
    "y_predicted_labels_types = [np.argmax(i) for i in y_predicted_types]\n",
    "y_predicted_labels_types[:5]"
   ]
  },
  {
   "cell_type": "code",
   "execution_count": 82,
   "id": "95a13ef7",
   "metadata": {},
   "outputs": [
    {
     "data": {
      "text/plain": [
       "array([2, 2, 2, 2, 2])"
      ]
     },
     "execution_count": 82,
     "metadata": {},
     "output_type": "execute_result"
    }
   ],
   "source": [
    "y_test_types_2[:5]"
   ]
  },
  {
   "cell_type": "code",
   "execution_count": 83,
   "id": "886fbde4",
   "metadata": {},
   "outputs": [
    {
     "data": {
      "text/plain": [
       "Text(95.72222222222221, 0.5, 'Truth')"
      ]
     },
     "execution_count": 83,
     "metadata": {},
     "output_type": "execute_result"
    },
    {
     "data": {
      "image/png": "[encoded data removed]",
      "text/plain": [
       "<Figure size 1000x700 with 2 Axes>"
      ]
     },
     "metadata": {},
     "output_type": "display_data"
    }
   ],
   "source": [
    "# Matrice de confusion\n",
    "cm_types = tf.math.confusion_matrix(labels=y_test_types_2, predictions=y_predicted_labels_types)\n",
    "plt.figure(figsize=(10, 7))\n",
    "sns.heatmap(cm_types, annot=True, fmt='d')\n",
    "plt.xlabel('Predicted')\n",
    "plt.ylabel('Truth')"
   ]
  },
  {
   "cell_type": "markdown",
   "id": "5b557b32",
   "metadata": {},
   "source": [
    "# Get Maj (NN)\n",
    "---\n",
    "\n",
    "Modèle ..."
   ]
  },
  {
   "cell_type": "code",
   "execution_count": 84,
   "id": "6321ce1f",
   "metadata": {},
   "outputs": [],
   "source": [
    "model_get_maj = keras.Sequential([\n",
    "    keras.layers.Input((625,)), # input layer : 2500 neurones (50x50 pixels)\n",
    "    keras.layers.Dense(512, activation='relu'),\n",
    "    keras.layers.Dense(256, activation='relu'),\n",
    "    keras.layers.Dense(128, activation='relu'),\n",
    "    keras.layers.Dense(64, activation='relu'),\n",
    "    keras.layers.Dense(26, activation='sigmoid') # output layer : 26 neurones (A-Z)\n",
    "])\n",
    "\n",
    "model_get_maj.compile(\n",
    "    optimizer='adam',\n",
    "    loss='sparse_categorical_crossentropy',\n",
    "    metrics=['accuracy']\n",
    ")"
   ]
  },
  {
   "cell_type": "code",
   "execution_count": 85,
   "id": "5d7a8dc0",
   "metadata": {},
   "outputs": [
    {
     "name": "stdout",
     "output_type": "stream",
     "text": [
      "Epoch 1/10\n",
      "\u001b[1m4699/4699\u001b[0m \u001b[32m━━━━━━━━━━━━━━━━━━━━\u001b[0m\u001b[37m\u001b[0m \u001b[1m11s\u001b[0m 2ms/step - accuracy: 0.8053 - loss: 0.7012 - val_accuracy: 0.9152 - val_loss: 0.3154\n",
      "Epoch 2/10\n",
      "\u001b[1m4699/4699\u001b[0m \u001b[32m━━━━━━━━━━━━━━━━━━━━\u001b[0m\u001b[37m\u001b[0m \u001b[1m10s\u001b[0m 2ms/step - accuracy: 0.9201 - loss: 0.2890 - val_accuracy: 0.9224 - val_loss: 0.2925\n",
      "Epoch 3/10\n",
      "\u001b[1m4699/4699\u001b[0m \u001b[32m━━━━━━━━━━━━━━━━━━━━\u001b[0m\u001b[37m\u001b[0m \u001b[1m9s\u001b[0m 2ms/step - accuracy: 0.9314 - loss: 0.2480 - val_accuracy: 0.9293 - val_loss: 0.2728\n",
      "Epoch 4/10\n",
      "\u001b[1m4699/4699\u001b[0m \u001b[32m━━━━━━━━━━━━━━━━━━━━\u001b[0m\u001b[37m\u001b[0m \u001b[1m8s\u001b[0m 2ms/step - accuracy: 0.9368 - loss: 0.2250 - val_accuracy: 0.9306 - val_loss: 0.2676\n",
      "Epoch 5/10\n",
      "\u001b[1m4699/4699\u001b[0m \u001b[32m━━━━━━━━━━━━━━━━━━━━\u001b[0m\u001b[37m\u001b[0m \u001b[1m9s\u001b[0m 2ms/step - accuracy: 0.9405 - loss: 0.2102 - val_accuracy: 0.9301 - val_loss: 0.2736\n",
      "Epoch 6/10\n",
      "\u001b[1m4699/4699\u001b[0m \u001b[32m━━━━━━━━━━━━━━━━━━━━\u001b[0m\u001b[37m\u001b[0m \u001b[1m8s\u001b[0m 2ms/step - accuracy: 0.9433 - loss: 0.1972 - val_accuracy: 0.9317 - val_loss: 0.2712\n",
      "Epoch 7/10\n",
      "\u001b[1m4699/4699\u001b[0m \u001b[32m━━━━━━━━━━━━━━━━━━━━\u001b[0m\u001b[37m\u001b[0m \u001b[1m8s\u001b[0m 2ms/step - accuracy: 0.9444 - loss: 0.1936 - val_accuracy: 0.9308 - val_loss: 0.2770\n",
      "Epoch 8/10\n",
      "\u001b[1m4699/4699\u001b[0m \u001b[32m━━━━━━━━━━━━━━━━━━━━\u001b[0m\u001b[37m\u001b[0m \u001b[1m8s\u001b[0m 2ms/step - accuracy: 0.9471 - loss: 0.1855 - val_accuracy: 0.9331 - val_loss: 0.2855\n",
      "Epoch 9/10\n",
      "\u001b[1m4699/4699\u001b[0m \u001b[32m━━━━━━━━━━━━━━━━━━━━\u001b[0m\u001b[37m\u001b[0m \u001b[1m8s\u001b[0m 2ms/step - accuracy: 0.9493 - loss: 0.1771 - val_accuracy: 0.9322 - val_loss: 0.2814\n",
      "Epoch 10/10\n",
      "\u001b[1m4699/4699\u001b[0m \u001b[32m━━━━━━━━━━━━━━━━━━━━\u001b[0m\u001b[37m\u001b[0m \u001b[1m8s\u001b[0m 2ms/step - accuracy: 0.9498 - loss: 0.1747 - val_accuracy: 0.9345 - val_loss: 0.2876\n"
     ]
    },
    {
     "data": {
      "text/plain": [
       "<keras.src.callbacks.history.History at 0x16efa5f2f10>"
      ]
     },
     "execution_count": 85,
     "metadata": {},
     "output_type": "execute_result"
    }
   ],
   "source": [
    "model_get_maj.fit(\n",
    "    X_train_Maj, \n",
    "    y_train_Maj_2, \n",
    "    epochs=EPOCHS, \n",
    "    batch_size=BATCH_SIZE, \n",
    "    validation_data=(\n",
    "        X_validation_Maj, \n",
    "        y_validation_Maj_2\n",
    "    ),\n",
    "    verbose=1\n",
    ")\n",
    "\n",
    "# Batch 32\n",
    "# accuracy : 0.9508\n",
    "# loss : 0.1701\n",
    "# Temps : 5m 17.7s\n",
    "\n",
    "# Batch 64\n",
    "# accuracy : 0.9522\n",
    "# loss : 0.1632\n",
    "# Temps : 2m 18.6s\n",
    "\n",
    "# Batch 128\n",
    "# accuracy : 0.9558\n",
    "# loss : 0.1531\n",
    "# Temps : 1m 19.8s\n",
    "\n",
    "# Batch 256\n",
    "# accuracy : 0.9527\n",
    "# loss : 0.1621\n",
    "# Temps : 51.7s"
   ]
  },
  {
   "cell_type": "code",
   "execution_count": 86,
   "id": "71aaeea0",
   "metadata": {},
   "outputs": [
    {
     "name": "stdout",
     "output_type": "stream",
     "text": [
      "\u001b[1m1348/1348\u001b[0m \u001b[32m━━━━━━━━━━━━━━━━━━━━\u001b[0m\u001b[37m\u001b[0m \u001b[1m1s\u001b[0m 692us/step - accuracy: 0.9367 - loss: 0.2674\n",
      "Test accuracy : 0.9376637935638428\n",
      "Test loss : 0.2654429078102112\n"
     ]
    }
   ],
   "source": [
    "test_loss_maj, test_acc_maj = model_get_maj.evaluate(X_test_Maj, y_test_Maj_2)\n",
    "print(f\"Test accuracy : {test_acc_maj}\") # Test accuracy : \n",
    "print(f\"Test loss : {test_loss_maj}\") # Test loss : \n",
    "# Temps : 1.9s"
   ]
  },
  {
   "cell_type": "code",
   "execution_count": 87,
   "id": "6f73a143",
   "metadata": {},
   "outputs": [],
   "source": [
    "# Sauvegarder le modèle\n",
    "model_get_maj.save(\"../models/Get_Maj_v\" + ADD_NOM + \".keras\")  # Format HDF5 (.h5)"
   ]
  },
  {
   "cell_type": "code",
   "execution_count": 88,
   "id": "f10dc339",
   "metadata": {},
   "outputs": [
    {
     "name": "stdout",
     "output_type": "stream",
     "text": [
      "\u001b[1m1348/1348\u001b[0m \u001b[32m━━━━━━━━━━━━━━━━━━━━\u001b[0m\u001b[37m\u001b[0m \u001b[1m1s\u001b[0m 714us/step\n"
     ]
    },
    {
     "data": {
      "text/plain": [
       "array([3.7641120e-03, 5.9832770e-02, 7.1442269e-02, 2.5076439e-08,\n",
       "       9.9999803e-01, 9.9131358e-01, 3.5133889e-01, 3.0714196e-07,\n",
       "       3.7184967e-05, 9.9550595e-04, 2.4823999e-06, 8.8784873e-05,\n",
       "       3.0146231e-13, 5.6552727e-07, 1.4573161e-04, 2.8147991e-03,\n",
       "       2.0963276e-05, 2.5250888e-04, 1.1148201e-01, 2.0590727e-03,\n",
       "       1.0553347e-04, 2.0276135e-08, 7.2121106e-06, 1.4705453e-08,\n",
       "       2.9872425e-07, 5.1254625e-03], dtype=float32)"
      ]
     },
     "execution_count": 88,
     "metadata": {},
     "output_type": "execute_result"
    }
   ],
   "source": [
    "y_predicted_Maj = model_get_maj.predict(X_test_Maj)\n",
    "y_predicted_Maj[1]\n",
    "# Temps 1.8s"
   ]
  },
  {
   "cell_type": "code",
   "execution_count": 89,
   "id": "143060fe",
   "metadata": {},
   "outputs": [
    {
     "data": {
      "text/plain": [
       "4"
      ]
     },
     "execution_count": 89,
     "metadata": {},
     "output_type": "execute_result"
    }
   ],
   "source": [
    "np.argmax(y_predicted_Maj[1])"
   ]
  },
  {
   "cell_type": "code",
   "execution_count": 90,
   "id": "da9ab676",
   "metadata": {},
   "outputs": [
    {
     "data": {
      "text/plain": [
       "[8, 4, 4, 18, 11]"
      ]
     },
     "execution_count": 90,
     "metadata": {},
     "output_type": "execute_result"
    }
   ],
   "source": [
    "# y_predicted_labels_Maj = [correspondance_Maj[np.argmax(i)] for i in y_predicted_Maj]\n",
    "y_predicted_labels_Maj = [np.argmax(i) for i in y_predicted_Maj]\n",
    "y_predicted_labels_Maj[:5]"
   ]
  },
  {
   "cell_type": "code",
   "execution_count": 91,
   "id": "1a9ff968",
   "metadata": {},
   "outputs": [
    {
     "data": {
      "text/plain": [
       "Text(95.72222222222221, 0.5, 'Truth')"
      ]
     },
     "execution_count": 91,
     "metadata": {},
     "output_type": "execute_result"
    },
    {
     "data": {
      "image/png": "[encoded data removed]",
      "text/plain": [
       "<Figure size 1000x700 with 2 Axes>"
      ]
     },
     "metadata": {},
     "output_type": "display_data"
    }
   ],
   "source": [
    "# Matrice de confusion\n",
    "cm_Maj = tf.math.confusion_matrix(labels=y_test_Maj_2, predictions=y_predicted_labels_Maj)\n",
    "plt.figure(figsize=(10, 7))\n",
    "sns.heatmap(cm_Maj, annot=True, fmt='d')\n",
    "plt.xlabel('Predicted')\n",
    "plt.ylabel('Truth')"
   ]
  },
  {
   "cell_type": "markdown",
   "id": "3be19730",
   "metadata": {},
   "source": [
    "# Get Min (NN)\n",
    "---\n",
    "\n",
    "Modèle ..."
   ]
  },
  {
   "cell_type": "code",
   "execution_count": 92,
   "id": "c6970766",
   "metadata": {},
   "outputs": [],
   "source": [
    "model_get_min = keras.Sequential([\n",
    "    keras.layers.Input((625,)), # input layer : 2500 neurones (50x50 pixels)\n",
    "    keras.layers.Dense(512, activation='relu'),\n",
    "    keras.layers.Dense(256, activation='relu'),\n",
    "    keras.layers.Dense(128, activation='relu'),\n",
    "    keras.layers.Dense(64, activation='relu'),\n",
    "    keras.layers.Dense(26, activation='sigmoid') # output layer : 26 neurones (A-Z)\n",
    "])\n",
    "\n",
    "model_get_min.compile(\n",
    "    optimizer='adam',\n",
    "    loss='sparse_categorical_crossentropy',\n",
    "    metrics=['accuracy']\n",
    ")"
   ]
  },
  {
   "cell_type": "code",
   "execution_count": 93,
   "id": "d746e298",
   "metadata": {},
   "outputs": [
    {
     "name": "stdout",
     "output_type": "stream",
     "text": [
      "Epoch 1/10\n",
      "\u001b[1m3492/3492\u001b[0m \u001b[32m━━━━━━━━━━━━━━━━━━━━\u001b[0m\u001b[37m\u001b[0m \u001b[1m7s\u001b[0m 2ms/step - accuracy: 0.7839 - loss: 0.7886 - val_accuracy: 0.8768 - val_loss: 0.4368\n",
      "Epoch 2/10\n",
      "\u001b[1m3492/3492\u001b[0m \u001b[32m━━━━━━━━━━━━━━━━━━━━\u001b[0m\u001b[37m\u001b[0m \u001b[1m6s\u001b[0m 2ms/step - accuracy: 0.8858 - loss: 0.3818 - val_accuracy: 0.8886 - val_loss: 0.3738\n",
      "Epoch 3/10\n",
      "\u001b[1m3492/3492\u001b[0m \u001b[32m━━━━━━━━━━━━━━━━━━━━\u001b[0m\u001b[37m\u001b[0m \u001b[1m6s\u001b[0m 2ms/step - accuracy: 0.9000 - loss: 0.3316 - val_accuracy: 0.8975 - val_loss: 0.3498\n",
      "Epoch 4/10\n",
      "\u001b[1m3492/3492\u001b[0m \u001b[32m━━━━━━━━━━━━━━━━━━━━\u001b[0m\u001b[37m\u001b[0m \u001b[1m6s\u001b[0m 2ms/step - accuracy: 0.9088 - loss: 0.2980 - val_accuracy: 0.9003 - val_loss: 0.3418\n",
      "Epoch 5/10\n",
      "\u001b[1m3492/3492\u001b[0m \u001b[32m━━━━━━━━━━━━━━━━━━━━\u001b[0m\u001b[37m\u001b[0m \u001b[1m6s\u001b[0m 2ms/step - accuracy: 0.9134 - loss: 0.2805 - val_accuracy: 0.8989 - val_loss: 0.3525\n",
      "Epoch 6/10\n",
      "\u001b[1m3492/3492\u001b[0m \u001b[32m━━━━━━━━━━━━━━━━━━━━\u001b[0m\u001b[37m\u001b[0m \u001b[1m6s\u001b[0m 2ms/step - accuracy: 0.9174 - loss: 0.2623 - val_accuracy: 0.9026 - val_loss: 0.3451\n",
      "Epoch 7/10\n",
      "\u001b[1m3492/3492\u001b[0m \u001b[32m━━━━━━━━━━━━━━━━━━━━\u001b[0m\u001b[37m\u001b[0m \u001b[1m6s\u001b[0m 2ms/step - accuracy: 0.9198 - loss: 0.2558 - val_accuracy: 0.8991 - val_loss: 0.3420\n",
      "Epoch 8/10\n",
      "\u001b[1m3492/3492\u001b[0m \u001b[32m━━━━━━━━━━━━━━━━━━━━\u001b[0m\u001b[37m\u001b[0m \u001b[1m6s\u001b[0m 2ms/step - accuracy: 0.9237 - loss: 0.2396 - val_accuracy: 0.8985 - val_loss: 0.3717\n",
      "Epoch 9/10\n",
      "\u001b[1m3492/3492\u001b[0m \u001b[32m━━━━━━━━━━━━━━━━━━━━\u001b[0m\u001b[37m\u001b[0m \u001b[1m7s\u001b[0m 2ms/step - accuracy: 0.9245 - loss: 0.2372 - val_accuracy: 0.9021 - val_loss: 0.3578\n",
      "Epoch 10/10\n",
      "\u001b[1m3492/3492\u001b[0m \u001b[32m━━━━━━━━━━━━━━━━━━━━\u001b[0m\u001b[37m\u001b[0m \u001b[1m6s\u001b[0m 2ms/step - accuracy: 0.9264 - loss: 0.2279 - val_accuracy: 0.9017 - val_loss: 0.3765\n"
     ]
    },
    {
     "data": {
      "text/plain": [
       "<keras.src.callbacks.history.History at 0x16f3f065e50>"
      ]
     },
     "execution_count": 93,
     "metadata": {},
     "output_type": "execute_result"
    }
   ],
   "source": [
    "model_get_min.fit(\n",
    "    X_train_Min, \n",
    "    y_train_Min_2, \n",
    "    epochs=EPOCHS, \n",
    "    batch_size=BATCH_SIZE, \n",
    "    validation_data=(\n",
    "        X_validation_Min, \n",
    "        y_validation_Min_2\n",
    "    ),\n",
    "    verbose=1\n",
    ")\n",
    "\n",
    "# Batch 32\n",
    "# accuracy : 0.9293\n",
    "# loss : 0.2193\n",
    "# Temps : 2m 45.3s\n",
    "\n",
    "# Batch 64\n",
    "# accuracy : 0.9328\n",
    "# loss : 0.2042\n",
    "# Temps : 2m 2.7s\n",
    "\n",
    "# Batch 128\n",
    "# accuracy : 0.9332\n",
    "# loss : 0.2038\n",
    "# Temps : 58.4s\n",
    "\n",
    "# Batch 256\n",
    "# accuracy : 0.9338\n",
    "# loss : 0.2036\n",
    "# Temps : 38.3s"
   ]
  },
  {
   "cell_type": "code",
   "execution_count": 94,
   "id": "1096eafa",
   "metadata": {},
   "outputs": [
    {
     "name": "stdout",
     "output_type": "stream",
     "text": [
      "\u001b[1m1168/1168\u001b[0m \u001b[32m━━━━━━━━━━━━━━━━━━━━\u001b[0m\u001b[37m\u001b[0m \u001b[1m1s\u001b[0m 689us/step - accuracy: 0.9024 - loss: 0.3700\n",
      "Test accuracy : 0.9033941626548767\n",
      "Test loss : 0.3659036457538605\n"
     ]
    }
   ],
   "source": [
    "test_loss_min, test_acc_min = model_get_min.evaluate(X_test_Min, y_test_Min_2)\n",
    "print(f\"Test accuracy : {test_acc_min}\") # Test accuracy : \n",
    "print(f\"Test loss : {test_loss_min}\") # Test loss : \n",
    "# Temps : "
   ]
  },
  {
   "cell_type": "code",
   "execution_count": 95,
   "id": "6cffe41e",
   "metadata": {},
   "outputs": [],
   "source": [
    "# Sauvegarder le modèle\n",
    "model_get_min.save(\"../models/Get_Min_v\" + ADD_NOM + \".keras\")  # Format keras (.keras)"
   ]
  },
  {
   "cell_type": "code",
   "execution_count": 96,
   "id": "aeef9462",
   "metadata": {},
   "outputs": [
    {
     "name": "stdout",
     "output_type": "stream",
     "text": [
      "\u001b[1m1168/1168\u001b[0m \u001b[32m━━━━━━━━━━━━━━━━━━━━\u001b[0m\u001b[37m\u001b[0m \u001b[1m1s\u001b[0m 738us/step\n"
     ]
    },
    {
     "data": {
      "text/plain": [
       "array([1.8362544e-01, 3.7345260e-02, 8.6460876e-01, 1.8699969e-03,\n",
       "       9.9999791e-01, 2.4166969e-03, 6.7377436e-01, 1.0048649e-06,\n",
       "       6.2216382e-02, 1.8755896e-05, 4.9196376e-07, 6.4702022e-01,\n",
       "       7.6307618e-09, 9.8259347e-03, 4.4901404e-04, 3.1919930e-02,\n",
       "       1.6479190e-02, 1.3543236e-03, 1.5705243e-02, 1.5193613e-01,\n",
       "       8.7691780e-07, 4.0153960e-09, 4.3812047e-06, 1.6507000e-08,\n",
       "       2.2003452e-07, 2.1533519e-05], dtype=float32)"
      ]
     },
     "execution_count": 96,
     "metadata": {},
     "output_type": "execute_result"
    }
   ],
   "source": [
    "y_predicted_Min = model_get_min.predict(X_test_Min)\n",
    "y_predicted_Min[1]"
   ]
  },
  {
   "cell_type": "code",
   "execution_count": 97,
   "id": "607f5872",
   "metadata": {},
   "outputs": [
    {
     "data": {
      "text/plain": [
       "[19, 4, 13, 19, 19]"
      ]
     },
     "execution_count": 97,
     "metadata": {},
     "output_type": "execute_result"
    }
   ],
   "source": [
    "# y_predicted_labels_Min = [correspondance_Min[np.argmax(i)] for i in y_predicted_Min]\n",
    "y_predicted_labels_Min = [np.argmax(i) for i in y_predicted_Min]\n",
    "y_predicted_labels_Min[:5]"
   ]
  },
  {
   "cell_type": "code",
   "execution_count": 98,
   "id": "8bbc8228",
   "metadata": {},
   "outputs": [
    {
     "data": {
      "text/plain": [
       "Text(95.72222222222221, 0.5, 'Truth')"
      ]
     },
     "execution_count": 98,
     "metadata": {},
     "output_type": "execute_result"
    },
    {
     "data": {
      "image/png": "[encoded data removed]",
      "text/plain": [
       "<Figure size 1000x700 with 2 Axes>"
      ]
     },
     "metadata": {},
     "output_type": "display_data"
    }
   ],
   "source": [
    "# Matrice de confusion\n",
    "cm_Min = tf.math.confusion_matrix(labels=y_test_Min_2, predictions=y_predicted_labels_Min)\n",
    "plt.figure(figsize=(10, 7))\n",
    "sns.heatmap(cm_Min, annot=True, fmt='d')\n",
    "plt.xlabel('Predicted')\n",
    "plt.ylabel('Truth')"
   ]
  },
  {
   "cell_type": "markdown",
   "id": "c92b7446",
   "metadata": {},
   "source": [
    "# Get Nbr (NN)\n",
    "---\n",
    "\n",
    "Modèle ..."
   ]
  },
  {
   "cell_type": "code",
   "execution_count": 99,
   "id": "d6a0345c",
   "metadata": {},
   "outputs": [],
   "source": [
    "model_get_nbr = keras.Sequential([\n",
    "    keras.layers.Input((625,)), # input layer : 2500 neurones (50x50 pixels)\n",
    "    keras.layers.Dense(512, activation='relu'),\n",
    "    keras.layers.Dense(256, activation='relu'),\n",
    "    keras.layers.Dense(128, activation='relu'),\n",
    "    keras.layers.Dense(64, activation='relu'),\n",
    "    keras.layers.Dense(10, activation='sigmoid') # output layer : 10 neurones (0-9)\n",
    "])\n",
    "\n",
    "model_get_nbr.compile(\n",
    "    optimizer='adam',\n",
    "    loss='sparse_categorical_crossentropy',\n",
    "    metrics=['accuracy']\n",
    ")"
   ]
  },
  {
   "cell_type": "code",
   "execution_count": 100,
   "id": "3cf7f959",
   "metadata": {},
   "outputs": [
    {
     "name": "stdout",
     "output_type": "stream",
     "text": [
      "Epoch 1/10\n",
      "\u001b[1m7037/7037\u001b[0m \u001b[32m━━━━━━━━━━━━━━━━━━━━\u001b[0m\u001b[37m\u001b[0m \u001b[1m14s\u001b[0m 2ms/step - accuracy: 0.8836 - loss: 0.3714 - val_accuracy: 0.9171 - val_loss: 0.2597\n",
      "Epoch 2/10\n",
      "\u001b[1m7037/7037\u001b[0m \u001b[32m━━━━━━━━━━━━━━━━━━━━\u001b[0m\u001b[37m\u001b[0m \u001b[1m14s\u001b[0m 2ms/step - accuracy: 0.9216 - loss: 0.2342 - val_accuracy: 0.9244 - val_loss: 0.2247\n",
      "Epoch 3/10\n",
      "\u001b[1m7037/7037\u001b[0m \u001b[32m━━━━━━━━━━━━━━━━━━━━\u001b[0m\u001b[37m\u001b[0m \u001b[1m13s\u001b[0m 2ms/step - accuracy: 0.9261 - loss: 0.2176 - val_accuracy: 0.9262 - val_loss: 0.2203\n",
      "Epoch 4/10\n",
      "\u001b[1m7037/7037\u001b[0m \u001b[32m━━━━━━━━━━━━━━━━━━━━\u001b[0m\u001b[37m\u001b[0m \u001b[1m13s\u001b[0m 2ms/step - accuracy: 0.9274 - loss: 0.2110 - val_accuracy: 0.9241 - val_loss: 0.2296\n",
      "Epoch 5/10\n",
      "\u001b[1m7037/7037\u001b[0m \u001b[32m━━━━━━━━━━━━━━━━━━━━\u001b[0m\u001b[37m\u001b[0m \u001b[1m13s\u001b[0m 2ms/step - accuracy: 0.9286 - loss: 0.2066 - val_accuracy: 0.9276 - val_loss: 0.2137\n",
      "Epoch 6/10\n",
      "\u001b[1m7037/7037\u001b[0m \u001b[32m━━━━━━━━━━━━━━━━━━━━\u001b[0m\u001b[37m\u001b[0m \u001b[1m13s\u001b[0m 2ms/step - accuracy: 0.9302 - loss: 0.2011 - val_accuracy: 0.9253 - val_loss: 0.2345\n",
      "Epoch 7/10\n",
      "\u001b[1m7037/7037\u001b[0m \u001b[32m━━━━━━━━━━━━━━━━━━━━\u001b[0m\u001b[37m\u001b[0m \u001b[1m13s\u001b[0m 2ms/step - accuracy: 0.9314 - loss: 0.1988 - val_accuracy: 0.9272 - val_loss: 0.2212\n",
      "Epoch 8/10\n",
      "\u001b[1m7037/7037\u001b[0m \u001b[32m━━━━━━━━━━━━━━━━━━━━\u001b[0m\u001b[37m\u001b[0m \u001b[1m13s\u001b[0m 2ms/step - accuracy: 0.9307 - loss: 0.1972 - val_accuracy: 0.9264 - val_loss: 0.2291\n",
      "Epoch 9/10\n",
      "\u001b[1m7037/7037\u001b[0m \u001b[32m━━━━━━━━━━━━━━━━━━━━\u001b[0m\u001b[37m\u001b[0m \u001b[1m13s\u001b[0m 2ms/step - accuracy: 0.9311 - loss: 0.1959 - val_accuracy: 0.9275 - val_loss: 0.2190\n",
      "Epoch 10/10\n",
      "\u001b[1m7037/7037\u001b[0m \u001b[32m━━━━━━━━━━━━━━━━━━━━\u001b[0m\u001b[37m\u001b[0m \u001b[1m13s\u001b[0m 2ms/step - accuracy: 0.9326 - loss: 0.1919 - val_accuracy: 0.9273 - val_loss: 0.2230\n"
     ]
    },
    {
     "data": {
      "text/plain": [
       "<keras.src.callbacks.history.History at 0x1708d138850>"
      ]
     },
     "execution_count": 100,
     "metadata": {},
     "output_type": "execute_result"
    }
   ],
   "source": [
    "model_get_nbr.fit(\n",
    "    X_train_Nbr, \n",
    "    y_train_Nbr_2, \n",
    "    epochs=EPOCHS,\n",
    "    batch_size=BATCH_SIZE,\n",
    "    validation_data=(\n",
    "        X_validation_Nbr, \n",
    "        y_validation_Nbr_2\n",
    "    ),\n",
    "    verbose=1\n",
    ")\n",
    "\n",
    "# Batch 32\n",
    "# accuracy : 0.9325\n",
    "# loss : 0.1897\n",
    "# Temps : 6m 16.0s\n",
    "\n",
    "# Batch 64\n",
    "# accuracy : 0.9347\n",
    "# loss : 0.1844\n",
    "# Temps : 4m 16.6s\n",
    "\n",
    "# Batch 128\n",
    "# accuracy : 0.9343\n",
    "# loss : 0.1834\n",
    "# Temps : 1m 59.6s\n",
    "\n",
    "# Batch 256\n",
    "# accuracy : 0.9342\n",
    "# loss : 0.1825\n",
    "# Temps : 1m 16.2s"
   ]
  },
  {
   "cell_type": "code",
   "execution_count": 101,
   "id": "a6058305",
   "metadata": {},
   "outputs": [
    {
     "name": "stdout",
     "output_type": "stream",
     "text": [
      "\u001b[1m2345/2345\u001b[0m \u001b[32m━━━━━━━━━━━━━━━━━━━━\u001b[0m\u001b[37m\u001b[0m \u001b[1m2s\u001b[0m 695us/step - accuracy: 0.9267 - loss: 0.2201\n",
      "Test accuracy : 0.9275696277618408\n",
      "Test loss : 0.22041316330432892\n"
     ]
    }
   ],
   "source": [
    "test_loss_nbr, test_acc_nbr = model_get_nbr.evaluate(X_test_Nbr, y_test_Nbr_2)\n",
    "print(f\"Test accuracy : {test_acc_nbr}\") # Test accuracy : \n",
    "print(f\"Test loss : {test_loss_nbr}\") # Test loss : \n",
    "# Temps : 3.0s"
   ]
  },
  {
   "cell_type": "code",
   "execution_count": 102,
   "id": "b656bfc0",
   "metadata": {},
   "outputs": [],
   "source": [
    "# Sauvegarder le modèle\n",
    "model_get_nbr.save(\"../models/Get_Nbr_v\" + ADD_NOM + \".keras\")  # Format keras (.keras)"
   ]
  },
  {
   "cell_type": "code",
   "execution_count": 103,
   "id": "28c6f4ea",
   "metadata": {},
   "outputs": [
    {
     "name": "stdout",
     "output_type": "stream",
     "text": [
      "\u001b[1m2345/2345\u001b[0m \u001b[32m━━━━━━━━━━━━━━━━━━━━\u001b[0m\u001b[37m\u001b[0m \u001b[1m2s\u001b[0m 721us/step\n"
     ]
    },
    {
     "data": {
      "text/plain": [
       "array([4.2407509e-15, 9.6620965e-07, 1.1508823e-07, 1.2475340e-02,\n",
       "       3.0231320e-06, 1.8907173e-07, 9.0949676e-16, 1.0000000e+00,\n",
       "       1.2625843e-10, 8.3143283e-07], dtype=float32)"
      ]
     },
     "execution_count": 103,
     "metadata": {},
     "output_type": "execute_result"
    }
   ],
   "source": [
    "y_predicted_Nbr = model_get_nbr.predict(X_test_Nbr)\n",
    "y_predicted_Nbr[1]\n",
    "# Temps : 3.4s"
   ]
  },
  {
   "cell_type": "code",
   "execution_count": 104,
   "id": "65f5c4f6",
   "metadata": {},
   "outputs": [
    {
     "data": {
      "text/plain": [
       "[1, 7, 0, 9, 3]"
      ]
     },
     "execution_count": 104,
     "metadata": {},
     "output_type": "execute_result"
    }
   ],
   "source": [
    "# y_predicted_labels_Nbr = [correspondance_Nbr[np.argmax(i)] for i in y_predicted_Nbr]\n",
    "y_predicted_labels_Nbr = [np.argmax(i) for i in y_predicted_Nbr]\n",
    "y_predicted_labels_Nbr[:5]"
   ]
  },
  {
   "cell_type": "code",
   "execution_count": 105,
   "id": "438b306a",
   "metadata": {},
   "outputs": [
    {
     "data": {
      "text/plain": [
       "Text(95.72222222222221, 0.5, 'Truth')"
      ]
     },
     "execution_count": 105,
     "metadata": {},
     "output_type": "execute_result"
    },
    {
     "data": {
      "image/png": "[encoded data removed]",
      "text/plain": [
       "<Figure size 1000x700 with 2 Axes>"
      ]
     },
     "metadata": {},
     "output_type": "display_data"
    }
   ],
   "source": [
    "# Matrice de confusion\n",
    "cm_Nbr = tf.math.confusion_matrix(labels=y_test_Nbr_2, predictions=y_predicted_labels_Nbr)\n",
    "plt.figure(figsize=(10, 7))\n",
    "sns.heatmap(cm_Nbr, annot=True, fmt='d')\n",
    "plt.xlabel('Predicted')\n",
    "plt.ylabel('Truth')"
   ]
  }
 ],
 "metadata": {
  "kernelspec": {
   "display_name": "Scribio",
   "language": "python",
   "name": "python3"
  },
  "language_info": {
   "codemirror_mode": {
    "name": "ipython",
    "version": 3
   },
   "file_extension": ".py",
   "mimetype": "text/x-python",
   "name": "python",
   "nbconvert_exporter": "python",
   "pygments_lexer": "ipython3",
   "version": "3.11.4"
  }
 },
 "nbformat": 4,
 "nbformat_minor": 5
}
