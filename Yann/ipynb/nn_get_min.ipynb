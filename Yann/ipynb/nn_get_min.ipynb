{
 "cells": [
  {
   "cell_type": "code",
   "execution_count": 1,
   "id": "initial_id",
   "metadata": {
    "ExecuteTime": {
     "end_time": "2024-12-02T15:39:15.743926Z",
     "start_time": "2024-12-02T15:39:15.736806Z"
    },
    "collapsed": true
   },
   "outputs": [],
   "source": [
    "import gc # garbage collector\n",
    "import pandas as pd\n",
    "import numpy as np\n",
    "import seaborn as sns\n",
    "from tqdm import tqdm # progress bar\n",
    "import tensorflow as tf \n",
    "from tensorflow import keras\n",
    "import matplotlib.pyplot as plt\n",
    "from pymongo import MongoClient\n",
    "from sklearn.preprocessing import LabelEncoder"
   ]
  },
  {
   "cell_type": "code",
   "execution_count": 2,
   "id": "5fd3a22c",
   "metadata": {},
   "outputs": [],
   "source": [
    "LISTE_MAJ = [\"A\", \"B\", \"C\", \"D\", \"E\", \"F\", \"G\", \"H\", \"I\", \"J\", \"K\", \"L\", \"M\", \"N\", \"O\", \"P\", \"Q\", \"R\", \"S\", \"T\", \"U\", \"V\", \"W\", \"X\", \"Y\", \"Z\"]\n",
    "LISTE_MIN = [\"a\", \"b\", \"c\", \"d\", \"e\", \"f\", \"g\", \"h\", \"i\", \"j\", \"k\", \"l\", \"m\", \"n\", \"o\", \"p\", \"q\", \"r\", \"s\", \"t\", \"u\", \"v\", \"w\", \"x\", \"y\", \"z\"]\n",
    "LISTE_NBR = [\"0\", \"1\", \"2\", \"3\", \"4\", \"5\", \"6\", \"7\", \"8\", \"9\"]\n",
    "\n",
    "BATCH_SIZE = 256\n",
    "EPOCHS = 10\n",
    "ADD_NOM = \"3_b\" + str(BATCH_SIZE) + \"_e\" + str(EPOCHS)"
   ]
  },
  {
   "cell_type": "code",
   "execution_count": 3,
   "id": "80da29cf",
   "metadata": {},
   "outputs": [],
   "source": [
    "# shape of the image : 50x50\n",
    "# number of classes : 62 (26 letters majuscules, 26 letters minuscules, 10 chiffres)\n",
    "\n",
    "# Dataset_Min_test : 597_728\n",
    "# Dataset_Min_train : 1_787_408\n",
    "# Dataset_Min_validation : 597_984"
   ]
  },
  {
   "cell_type": "markdown",
   "id": "08306dfa",
   "metadata": {},
   "source": [
    "# Get Data\n",
    "---\n",
    "\n",
    "- Récupération des données de la base de données\n",
    "- formattage des données\n",
    "- répartition des données"
   ]
  },
  {
   "cell_type": "code",
   "execution_count": 4,
   "id": "ce99688d",
   "metadata": {},
   "outputs": [],
   "source": [
    "# Connexion à MongoDB\n",
    "client = MongoClient(\"mongodb://localhost:27017/Scibio\")  # Remplacez par l'URL de votre serveur MongoDB\n",
    "db = client[\"Scribio\"]  # Nom de la base de données"
   ]
  },
  {
   "cell_type": "code",
   "execution_count": 5,
   "id": "5b44dd47",
   "metadata": {},
   "outputs": [],
   "source": [
    "def fetch_data(nom_collection: str, nbr: int):\n",
    "    collection = db[nom_collection]  # Nom de la collection\n",
    "    documents = collection.find()\n",
    "    print(f\"fetch {nom_collection} OK !!!\")\n",
    "\n",
    "    images = []\n",
    "    labels = []\n",
    "    types = []\n",
    "    \n",
    "    # Parcours et transformation des photos avec barre de progression \n",
    "    with tqdm(total=nbr, desc=\"Proccessing\" , position=0, leave=True) as pbar:\n",
    "        for doc in documents:\n",
    "            images.append(np.array(doc[\"Tableau_Pixels\"], dtype=np.float32))\n",
    "            labels.append(doc[\"Label\"])\n",
    "            types.append(doc[\"Type\"])\n",
    "            pbar.update(1) # Mettre à jour la barre de progression\n",
    "            \n",
    "    # return np.array(images), np.array(labels, dtype=str)\n",
    "    return pd.DataFrame({\"Labels\": labels, \"Types\": types, \"Images\": images})"
   ]
  },
  {
   "cell_type": "markdown",
   "id": "06631d72",
   "metadata": {},
   "source": [
    "### Récupérations des données de toutes les collections\n",
    "---"
   ]
  },
  {
   "cell_type": "code",
   "execution_count": 9,
   "id": "20d673a1",
   "metadata": {},
   "outputs": [
    {
     "name": "stdout",
     "output_type": "stream",
     "text": [
      "fetch Dataset_Min_test OK !!!\n"
     ]
    },
    {
     "name": "stderr",
     "output_type": "stream",
     "text": [
      "Proccessing: 100%|██████████| 597728/597728 [01:08<00:00, 8681.44it/s] \n"
     ]
    },
    {
     "name": "stdout",
     "output_type": "stream",
     "text": [
      "(597728, 3)\n"
     ]
    },
    {
     "data": {
      "text/html": [
       "<div>\n",
       "<style scoped>\n",
       "    .dataframe tbody tr th:only-of-type {\n",
       "        vertical-align: middle;\n",
       "    }\n",
       "\n",
       "    .dataframe tbody tr th {\n",
       "        vertical-align: top;\n",
       "    }\n",
       "\n",
       "    .dataframe thead th {\n",
       "        text-align: right;\n",
       "    }\n",
       "</style>\n",
       "<table border=\"1\" class=\"dataframe\">\n",
       "  <thead>\n",
       "    <tr style=\"text-align: right;\">\n",
       "      <th></th>\n",
       "      <th>Labels</th>\n",
       "      <th>Types</th>\n",
       "      <th>Images</th>\n",
       "    </tr>\n",
       "  </thead>\n",
       "  <tbody>\n",
       "    <tr>\n",
       "      <th>0</th>\n",
       "      <td>c</td>\n",
       "      <td>Min</td>\n",
       "      <td>[1.0, 1.0, 1.0, 1.0, 1.0, 1.0, 1.0, 1.0, 1.0, ...</td>\n",
       "    </tr>\n",
       "    <tr>\n",
       "      <th>1</th>\n",
       "      <td>e</td>\n",
       "      <td>Min</td>\n",
       "      <td>[0.0, 0.0, 0.0, 0.0, 0.0, 0.0, 0.0, 0.0, 0.0, ...</td>\n",
       "    </tr>\n",
       "    <tr>\n",
       "      <th>2</th>\n",
       "      <td>e</td>\n",
       "      <td>Min</td>\n",
       "      <td>[1.0, 1.0, 1.0, 1.0, 1.0, 1.0, 1.0, 1.0, 1.0, ...</td>\n",
       "    </tr>\n",
       "    <tr>\n",
       "      <th>3</th>\n",
       "      <td>a</td>\n",
       "      <td>Min</td>\n",
       "      <td>[1.0, 1.0, 1.0, 1.0, 1.0, 1.0, 1.0, 1.0, 1.0, ...</td>\n",
       "    </tr>\n",
       "    <tr>\n",
       "      <th>4</th>\n",
       "      <td>l</td>\n",
       "      <td>Min</td>\n",
       "      <td>[1.0, 1.0, 1.0, 1.0, 1.0, 1.0, 1.0, 1.0, 1.0, ...</td>\n",
       "    </tr>\n",
       "  </tbody>\n",
       "</table>\n",
       "</div>"
      ],
      "text/plain": [
       "  Labels Types                                             Images\n",
       "0      c   Min  [1.0, 1.0, 1.0, 1.0, 1.0, 1.0, 1.0, 1.0, 1.0, ...\n",
       "1      e   Min  [0.0, 0.0, 0.0, 0.0, 0.0, 0.0, 0.0, 0.0, 0.0, ...\n",
       "2      e   Min  [1.0, 1.0, 1.0, 1.0, 1.0, 1.0, 1.0, 1.0, 1.0, ...\n",
       "3      a   Min  [1.0, 1.0, 1.0, 1.0, 1.0, 1.0, 1.0, 1.0, 1.0, ...\n",
       "4      l   Min  [1.0, 1.0, 1.0, 1.0, 1.0, 1.0, 1.0, 1.0, 1.0, ..."
      ]
     },
     "execution_count": 9,
     "metadata": {},
     "output_type": "execute_result"
    }
   ],
   "source": [
    "df_min_test = fetch_data(\"Dataset_Min_test\", 597_728)\n",
    "df_min_test = df_min_test.sample(frac=1).reset_index(drop=True)\n",
    "print(df_min_test.shape)\n",
    "df_min_test.head()\n",
    "# Temps : 1m 9.1s"
   ]
  },
  {
   "cell_type": "code",
   "execution_count": 10,
   "id": "96850f51",
   "metadata": {},
   "outputs": [
    {
     "name": "stdout",
     "output_type": "stream",
     "text": [
      "fetch Dataset_Min_train OK !!!\n"
     ]
    },
    {
     "name": "stderr",
     "output_type": "stream",
     "text": [
      "Proccessing: 100%|██████████| 1787408/1787408 [03:17<00:00, 9041.65it/s] \n"
     ]
    },
    {
     "name": "stdout",
     "output_type": "stream",
     "text": [
      "(1787408, 3)\n"
     ]
    },
    {
     "data": {
      "text/html": [
       "<div>\n",
       "<style scoped>\n",
       "    .dataframe tbody tr th:only-of-type {\n",
       "        vertical-align: middle;\n",
       "    }\n",
       "\n",
       "    .dataframe tbody tr th {\n",
       "        vertical-align: top;\n",
       "    }\n",
       "\n",
       "    .dataframe thead th {\n",
       "        text-align: right;\n",
       "    }\n",
       "</style>\n",
       "<table border=\"1\" class=\"dataframe\">\n",
       "  <thead>\n",
       "    <tr style=\"text-align: right;\">\n",
       "      <th></th>\n",
       "      <th>Labels</th>\n",
       "      <th>Types</th>\n",
       "      <th>Images</th>\n",
       "    </tr>\n",
       "  </thead>\n",
       "  <tbody>\n",
       "    <tr>\n",
       "      <th>0</th>\n",
       "      <td>l</td>\n",
       "      <td>Min</td>\n",
       "      <td>[1.0, 1.0, 1.0, 1.0, 1.0, 1.0, 1.0, 1.0, 1.0, ...</td>\n",
       "    </tr>\n",
       "    <tr>\n",
       "      <th>1</th>\n",
       "      <td>r</td>\n",
       "      <td>Min</td>\n",
       "      <td>[1.0, 1.0, 1.0, 1.0, 1.0, 1.0, 1.0, 1.0, 1.0, ...</td>\n",
       "    </tr>\n",
       "    <tr>\n",
       "      <th>2</th>\n",
       "      <td>l</td>\n",
       "      <td>Min</td>\n",
       "      <td>[1.0, 1.0, 1.0, 1.0, 1.0, 1.0, 1.0, 1.0, 1.0, ...</td>\n",
       "    </tr>\n",
       "    <tr>\n",
       "      <th>3</th>\n",
       "      <td>l</td>\n",
       "      <td>Min</td>\n",
       "      <td>[1.0, 1.0, 1.0, 1.0, 1.0, 1.0, 1.0, 1.0, 1.0, ...</td>\n",
       "    </tr>\n",
       "    <tr>\n",
       "      <th>4</th>\n",
       "      <td>j</td>\n",
       "      <td>Min</td>\n",
       "      <td>[0.0, 0.0, 0.0, 0.0, 0.0, 0.0, 0.0, 0.0, 0.0, ...</td>\n",
       "    </tr>\n",
       "  </tbody>\n",
       "</table>\n",
       "</div>"
      ],
      "text/plain": [
       "  Labels Types                                             Images\n",
       "0      l   Min  [1.0, 1.0, 1.0, 1.0, 1.0, 1.0, 1.0, 1.0, 1.0, ...\n",
       "1      r   Min  [1.0, 1.0, 1.0, 1.0, 1.0, 1.0, 1.0, 1.0, 1.0, ...\n",
       "2      l   Min  [1.0, 1.0, 1.0, 1.0, 1.0, 1.0, 1.0, 1.0, 1.0, ...\n",
       "3      l   Min  [1.0, 1.0, 1.0, 1.0, 1.0, 1.0, 1.0, 1.0, 1.0, ...\n",
       "4      j   Min  [0.0, 0.0, 0.0, 0.0, 0.0, 0.0, 0.0, 0.0, 0.0, ..."
      ]
     },
     "execution_count": 10,
     "metadata": {},
     "output_type": "execute_result"
    }
   ],
   "source": [
    "df_min_train = fetch_data(\"Dataset_Min_train\", 1_787_408)\n",
    "df_min_train = df_min_train.sample(frac=1).reset_index(drop=True)\n",
    "print(df_min_train.shape)\n",
    "df_min_train.head()\n",
    "# Temps : 3m 18.5s "
   ]
  },
  {
   "cell_type": "code",
   "execution_count": 11,
   "id": "481e6e09",
   "metadata": {},
   "outputs": [
    {
     "name": "stdout",
     "output_type": "stream",
     "text": [
      "fetch Dataset_Min_validation OK !!!\n"
     ]
    },
    {
     "name": "stderr",
     "output_type": "stream",
     "text": [
      "Proccessing: 100%|██████████| 597984/597984 [01:36<00:00, 6223.29it/s]\n"
     ]
    },
    {
     "name": "stdout",
     "output_type": "stream",
     "text": [
      "(597984, 3)\n"
     ]
    },
    {
     "data": {
      "text/html": [
       "<div>\n",
       "<style scoped>\n",
       "    .dataframe tbody tr th:only-of-type {\n",
       "        vertical-align: middle;\n",
       "    }\n",
       "\n",
       "    .dataframe tbody tr th {\n",
       "        vertical-align: top;\n",
       "    }\n",
       "\n",
       "    .dataframe thead th {\n",
       "        text-align: right;\n",
       "    }\n",
       "</style>\n",
       "<table border=\"1\" class=\"dataframe\">\n",
       "  <thead>\n",
       "    <tr style=\"text-align: right;\">\n",
       "      <th></th>\n",
       "      <th>Labels</th>\n",
       "      <th>Types</th>\n",
       "      <th>Images</th>\n",
       "    </tr>\n",
       "  </thead>\n",
       "  <tbody>\n",
       "    <tr>\n",
       "      <th>0</th>\n",
       "      <td>e</td>\n",
       "      <td>Min</td>\n",
       "      <td>[1.0, 1.0, 1.0, 1.0, 1.0, 1.0, 1.0, 1.0, 1.0, ...</td>\n",
       "    </tr>\n",
       "    <tr>\n",
       "      <th>1</th>\n",
       "      <td>x</td>\n",
       "      <td>Min</td>\n",
       "      <td>[0.0, 0.0, 0.0, 0.0, 0.0, 0.0, 0.0, 0.0, 0.0, ...</td>\n",
       "    </tr>\n",
       "    <tr>\n",
       "      <th>2</th>\n",
       "      <td>h</td>\n",
       "      <td>Min</td>\n",
       "      <td>[1.0, 1.0, 1.0, 1.0, 1.0, 1.0, 1.0, 1.0, 1.0, ...</td>\n",
       "    </tr>\n",
       "    <tr>\n",
       "      <th>3</th>\n",
       "      <td>l</td>\n",
       "      <td>Min</td>\n",
       "      <td>[0.0, 0.0, 0.0, 0.0, 0.0, 0.0, 0.0, 0.0, 0.0, ...</td>\n",
       "    </tr>\n",
       "    <tr>\n",
       "      <th>4</th>\n",
       "      <td>r</td>\n",
       "      <td>Min</td>\n",
       "      <td>[0.0, 0.0, 0.0, 0.0, 0.0, 0.0, 0.0, 0.0, 0.0, ...</td>\n",
       "    </tr>\n",
       "  </tbody>\n",
       "</table>\n",
       "</div>"
      ],
      "text/plain": [
       "  Labels Types                                             Images\n",
       "0      e   Min  [1.0, 1.0, 1.0, 1.0, 1.0, 1.0, 1.0, 1.0, 1.0, ...\n",
       "1      x   Min  [0.0, 0.0, 0.0, 0.0, 0.0, 0.0, 0.0, 0.0, 0.0, ...\n",
       "2      h   Min  [1.0, 1.0, 1.0, 1.0, 1.0, 1.0, 1.0, 1.0, 1.0, ...\n",
       "3      l   Min  [0.0, 0.0, 0.0, 0.0, 0.0, 0.0, 0.0, 0.0, 0.0, ...\n",
       "4      r   Min  [0.0, 0.0, 0.0, 0.0, 0.0, 0.0, 0.0, 0.0, 0.0, ..."
      ]
     },
     "execution_count": 11,
     "metadata": {},
     "output_type": "execute_result"
    }
   ],
   "source": [
    "df_min_validation = fetch_data(\"Dataset_Min_validation\", 597_984)\n",
    "df_min_validation = df_min_validation.sample(frac=1).reset_index(drop=True)\n",
    "print(df_min_validation.shape)\n",
    "df_min_validation.head()\n",
    "# Temps : 1m 36.4s"
   ]
  },
  {
   "cell_type": "markdown",
   "id": "b1b4df28",
   "metadata": {},
   "source": [
    "### Données pour apprentissage du NN 'Get Min'\n",
    "---\n",
    "\n",
    "Préparation des données pour l'entrainement du réseau de neurones 'Get Min' qui permettra de classé les images selon la lettre minuscule qui y est representée."
   ]
  },
  {
   "cell_type": "code",
   "execution_count": null,
   "id": "8b377892",
   "metadata": {},
   "outputs": [],
   "source": [
    "X_train_Min = np.array(df_min_train[\"Images\"].tolist())\n",
    "# Temps : "
   ]
  },
  {
   "cell_type": "code",
   "execution_count": null,
   "id": "adcb0809",
   "metadata": {},
   "outputs": [],
   "source": [
    "y_train_Min = np.array(df_min_train[\"Labels\"].tolist())\n",
    "# Temps : "
   ]
  },
  {
   "cell_type": "code",
   "execution_count": null,
   "id": "6c08c554",
   "metadata": {},
   "outputs": [],
   "source": [
    "X_test_Min = np.array(df_min_test[\"Images\"].tolist())\n",
    "# Temps : "
   ]
  },
  {
   "cell_type": "code",
   "execution_count": null,
   "id": "c091f208",
   "metadata": {},
   "outputs": [],
   "source": [
    "y_test_Min = np.array(df_min_test[\"Labels\"].tolist())\n",
    "# Temps : "
   ]
  },
  {
   "cell_type": "code",
   "execution_count": null,
   "id": "59da4c8f",
   "metadata": {},
   "outputs": [],
   "source": [
    "X_validation_Min = np.array(df_min_validation[\"Images\"].tolist())\n",
    "# Temps : "
   ]
  },
  {
   "cell_type": "code",
   "execution_count": null,
   "id": "4199a9d1",
   "metadata": {},
   "outputs": [],
   "source": [
    "y_validation_Min = np.array(df_min_validation[\"Labels\"].tolist())\n",
    "# Temps : "
   ]
  },
  {
   "cell_type": "code",
   "execution_count": 35,
   "id": "1ec82bca",
   "metadata": {},
   "outputs": [],
   "source": [
    "# Conversion des étiquettes en indices (si nécessaire)\n",
    "label_encoder_Min = LabelEncoder()\n",
    "\n",
    "y_train_Min_2 = label_encoder_Min.fit_transform(y_train_Min)  # Convertit les étiquettes (lettres/nombres) en indices numériques (nombre) (str => int)\n",
    "y_test_Min_2 = label_encoder_Min.transform(y_test_Min)\n",
    "y_validation_Min_2 = label_encoder_Min.transform(y_validation_Min)"
   ]
  },
  {
   "cell_type": "code",
   "execution_count": 36,
   "id": "cbde9fbc",
   "metadata": {},
   "outputs": [
    {
     "name": "stdout",
     "output_type": "stream",
     "text": [
      "{0: 'a', 1: 'b', 2: 'c', 3: 'd', 4: 'e', 5: 'f', 6: 'g', 7: 'h', 8: 'i', 9: 'j', 10: 'k', 11: 'l', 12: 'm', 13: 'n', 14: 'o', 15: 'p', 16: 'q', 17: 'r', 18: 's', 19: 't', 20: 'u', 21: 'v', 22: 'w', 23: 'x', 24: 'y', 25: 'z'}\n",
      "['a', 'b', 'c', 'd', 'e', 'f', 'g', 'h', 'i', 'j', 'k', 'l', 'm', 'n', 'o', 'p', 'q', 'r', 's', 't', 'u', 'v', 'w', 'x', 'y', 'z']\n"
     ]
    }
   ],
   "source": [
    "# Correspondance indices ↔ labels\n",
    "correspondance_Min = dict(enumerate(label_encoder_Min.classes_))\n",
    "print(correspondance_Min)\n",
    "\n",
    "# Liste des labels\n",
    "labels_Min = list(correspondance_Min.values())\n",
    "print(labels_Min)"
   ]
  },
  {
   "cell_type": "code",
   "execution_count": 37,
   "id": "11e08a64",
   "metadata": {},
   "outputs": [
    {
     "name": "stdout",
     "output_type": "stream",
     "text": [
      "Taille de X_train_Min: (1787408, 625), y_train_Min: (1787408,), y_train_Min_2: (1787408,)\n",
      "Taille de X_test_Min: (597728, 625), y_test_Min: (597728,), y_test_Min_2: (597728,)\n",
      "Taille de X_validation_Min: (597984, 625), y_validation_Min: (597984,), y_validation_Min_2: (597984,)\n"
     ]
    }
   ],
   "source": [
    "# Afficher quelques informations\n",
    "print(f\"Taille de X_train_Min: {X_train_Min.shape}, y_train_Min: {y_train_Min.shape}, y_train_Min_2: {y_train_Min_2.shape}\")\n",
    "print(f\"Taille de X_test_Min: {X_test_Min.shape}, y_test_Min: {y_test_Min.shape}, y_test_Min_2: {y_test_Min_2.shape}\")\n",
    "print(f\"Taille de X_validation_Min: {X_validation_Min.shape}, y_validation_Min: {y_validation_Min.shape}, y_validation_Min_2: {y_validation_Min_2.shape}\")"
   ]
  },
  {
   "cell_type": "markdown",
   "id": "26136ce2",
   "metadata": {},
   "source": [
    "##### Suppression\n",
    "---\n",
    "\n",
    "Suppression des données pour l'apprentissage de 'Get Min' plus utilisées"
   ]
  },
  {
   "cell_type": "code",
   "execution_count": 38,
   "id": "660d7c4f",
   "metadata": {},
   "outputs": [
    {
     "data": {
      "text/plain": [
       "0"
      ]
     },
     "execution_count": 38,
     "metadata": {},
     "output_type": "execute_result"
    }
   ],
   "source": [
    "del df_min_test, df_min_train, df_min_validation\n",
    "gc.collect()  # Force la collecte des objets non utilisés"
   ]
  },
  {
   "cell_type": "markdown",
   "id": "3be19730",
   "metadata": {},
   "source": [
    "# Get Min (NN)\n",
    "---\n",
    "\n",
    "Modèle ..."
   ]
  },
  {
   "cell_type": "code",
   "execution_count": 54,
   "id": "c6970766",
   "metadata": {},
   "outputs": [],
   "source": [
    "model_get_min = keras.Sequential([\n",
    "    keras.layers.Input((625,)), # input layer : 2500 neurones (50x50 pixels)\n",
    "    keras.layers.Dense(128, activation='relu'),\n",
    "    keras.layers.Dense(64, activation='relu'),\n",
    "    keras.layers.Dense(26, activation='softmax') # output layer : 26 neurones (A-Z)\n",
    "])\n",
    "\n",
    "model_get_min.compile(\n",
    "    optimizer='adam',\n",
    "    loss='sparse_categorical_crossentropy',\n",
    "    metrics=['accuracy']\n",
    ")"
   ]
  },
  {
   "cell_type": "code",
   "execution_count": 55,
   "id": "d746e298",
   "metadata": {},
   "outputs": [
    {
     "name": "stdout",
     "output_type": "stream",
     "text": [
      "Epoch 1/10\n",
      "\u001b[1m873/873\u001b[0m \u001b[32m━━━━━━━━━━━━━━━━━━━━\u001b[0m\u001b[37m\u001b[0m \u001b[1m27s\u001b[0m 31ms/step - accuracy: 0.7831 - loss: 0.7784 - val_accuracy: 0.8790 - val_loss: 0.4012\n",
      "Epoch 2/10\n",
      "\u001b[1m873/873\u001b[0m \u001b[32m━━━━━━━━━━━━━━━━━━━━\u001b[0m\u001b[37m\u001b[0m \u001b[1m26s\u001b[0m 30ms/step - accuracy: 0.8917 - loss: 0.3579 - val_accuracy: 0.8913 - val_loss: 0.3649\n",
      "Epoch 3/10\n",
      "\u001b[1m873/873\u001b[0m \u001b[32m━━━━━━━━━━━━━━━━━━━━\u001b[0m\u001b[37m\u001b[0m \u001b[1m26s\u001b[0m 30ms/step - accuracy: 0.9046 - loss: 0.3115 - val_accuracy: 0.8970 - val_loss: 0.3508\n",
      "Epoch 4/10\n",
      "\u001b[1m873/873\u001b[0m \u001b[32m━━━━━━━━━━━━━━━━━━━━\u001b[0m\u001b[37m\u001b[0m \u001b[1m26s\u001b[0m 30ms/step - accuracy: 0.9140 - loss: 0.2789 - val_accuracy: 0.9003 - val_loss: 0.3457\n",
      "Epoch 5/10\n",
      "\u001b[1m873/873\u001b[0m \u001b[32m━━━━━━━━━━━━━━━━━━━━\u001b[0m\u001b[37m\u001b[0m \u001b[1m27s\u001b[0m 31ms/step - accuracy: 0.9185 - loss: 0.2544 - val_accuracy: 0.8980 - val_loss: 0.3569\n",
      "Epoch 6/10\n",
      "\u001b[1m873/873\u001b[0m \u001b[32m━━━━━━━━━━━━━━━━━━━━\u001b[0m\u001b[37m\u001b[0m \u001b[1m26s\u001b[0m 30ms/step - accuracy: 0.9245 - loss: 0.2383 - val_accuracy: 0.9015 - val_loss: 0.3499\n",
      "Epoch 7/10\n",
      "\u001b[1m873/873\u001b[0m \u001b[32m━━━━━━━━━━━━━━━━━━━━\u001b[0m\u001b[37m\u001b[0m \u001b[1m26s\u001b[0m 30ms/step - accuracy: 0.9273 - loss: 0.2265 - val_accuracy: 0.9026 - val_loss: 0.3516\n",
      "Epoch 8/10\n",
      "\u001b[1m873/873\u001b[0m \u001b[32m━━━━━━━━━━━━━━━━━━━━\u001b[0m\u001b[37m\u001b[0m \u001b[1m26s\u001b[0m 30ms/step - accuracy: 0.9315 - loss: 0.2135 - val_accuracy: 0.9009 - val_loss: 0.3571\n",
      "Epoch 9/10\n",
      "\u001b[1m873/873\u001b[0m \u001b[32m━━━━━━━━━━━━━━━━━━━━\u001b[0m\u001b[37m\u001b[0m \u001b[1m26s\u001b[0m 30ms/step - accuracy: 0.9318 - loss: 0.2075 - val_accuracy: 0.9055 - val_loss: 0.3616\n",
      "Epoch 10/10\n",
      "\u001b[1m873/873\u001b[0m \u001b[32m━━━━━━━━━━━━━━━━━━━━\u001b[0m\u001b[37m\u001b[0m \u001b[1m26s\u001b[0m 30ms/step - accuracy: 0.9345 - loss: 0.1979 - val_accuracy: 0.9046 - val_loss: 0.3584\n"
     ]
    },
    {
     "data": {
      "text/plain": [
       "<keras.src.callbacks.history.History at 0x152e80ec050>"
      ]
     },
     "execution_count": 55,
     "metadata": {},
     "output_type": "execute_result"
    }
   ],
   "source": [
    "model_get_min.fit(\n",
    "    X_train_Min, \n",
    "    y_train_Min_2, \n",
    "    epochs=EPOCHS, \n",
    "    batch_size=BATCH_SIZE, \n",
    "    validation_data=(\n",
    "        X_validation_Min, \n",
    "        y_validation_Min_2\n",
    "    ),\n",
    "    verbose=1\n",
    ")\n",
    "\n",
    "# Batch 32\n",
    "# accuracy : 0.9293\n",
    "# loss : 0.2193\n",
    "# Temps : 2m 45.3s\n",
    "\n",
    "# Batch 64\n",
    "# accuracy : 0.9328\n",
    "# loss : 0.2042\n",
    "# Temps : 2m 2.7s\n",
    "\n",
    "# Batch 128\n",
    "# accuracy : 0.9332\n",
    "# loss : 0.2038\n",
    "# Temps : 58.4s\n",
    "\n",
    "# Batch 256\n",
    "# accuracy : 0.9338\n",
    "# loss : 0.2036\n",
    "# Temps : 38.3s"
   ]
  },
  {
   "cell_type": "code",
   "execution_count": 56,
   "id": "1096eafa",
   "metadata": {},
   "outputs": [
    {
     "name": "stdout",
     "output_type": "stream",
     "text": [
      "\u001b[1m1168/1168\u001b[0m \u001b[32m━━━━━━━━━━━━━━━━━━━━\u001b[0m\u001b[37m\u001b[0m \u001b[1m3s\u001b[0m 2ms/step - accuracy: 0.9064 - loss: 0.3524\n",
      "Test accuracy : 0.9053750038146973\n",
      "Test loss : 0.3557049036026001\n"
     ]
    }
   ],
   "source": [
    "test_loss_min, test_acc_min = model_get_min.evaluate(X_test_Min, y_test_Min_2)\n",
    "print(f\"Test accuracy : {test_acc_min}\") # Test accuracy : \n",
    "print(f\"Test loss : {test_loss_min}\") # Test loss : \n",
    "# Temps : "
   ]
  },
  {
   "cell_type": "code",
   "execution_count": 57,
   "id": "6cffe41e",
   "metadata": {},
   "outputs": [],
   "source": [
    "# Sauvegarder le modèle\n",
    "model_get_min.save(\"../models/Get_Min_v\" + ADD_NOM + \".keras\")  # Format keras (.keras)"
   ]
  },
  {
   "cell_type": "code",
   "execution_count": 58,
   "id": "aeef9462",
   "metadata": {},
   "outputs": [
    {
     "name": "stdout",
     "output_type": "stream",
     "text": [
      "\u001b[1m1168/1168\u001b[0m \u001b[32m━━━━━━━━━━━━━━━━━━━━\u001b[0m\u001b[37m\u001b[0m \u001b[1m3s\u001b[0m 3ms/step\n"
     ]
    },
    {
     "data": {
      "text/plain": [
       "array([3.7943786e-01, 1.4323607e-03, 9.1954082e-01, 1.4593005e-04,\n",
       "       6.7862546e-01, 8.1423724e-01, 2.5948825e-01, 3.8280867e-02,\n",
       "       5.3159217e-04, 9.3061998e-03, 1.8773583e-03, 6.1412263e-01,\n",
       "       1.7699229e-03, 7.5359094e-01, 2.6605953e-03, 8.3907443e-01,\n",
       "       4.4839466e-03, 9.9999994e-01, 3.9724717e-01, 9.9751401e-01,\n",
       "       4.5803140e-06, 2.6060769e-01, 1.5482088e-09, 1.5511469e-05,\n",
       "       9.7040340e-02, 2.2374501e-05], dtype=float32)"
      ]
     },
     "execution_count": 58,
     "metadata": {},
     "output_type": "execute_result"
    }
   ],
   "source": [
    "y_predicted_Min = model_get_min.predict(X_test_Min)\n",
    "y_predicted_Min[1]"
   ]
  },
  {
   "cell_type": "code",
   "execution_count": 59,
   "id": "607f5872",
   "metadata": {},
   "outputs": [
    {
     "data": {
      "text/plain": [
       "[19, 17, 10, 19, 19]"
      ]
     },
     "execution_count": 59,
     "metadata": {},
     "output_type": "execute_result"
    }
   ],
   "source": [
    "# y_predicted_labels_Min = [correspondance_Min[np.argmax(i)] for i in y_predicted_Min]\n",
    "y_predicted_labels_Min = [np.argmax(i) for i in y_predicted_Min]\n",
    "y_predicted_labels_Min[:5]"
   ]
  },
  {
   "cell_type": "code",
   "execution_count": 60,
   "id": "8bbc8228",
   "metadata": {},
   "outputs": [
    {
     "data": {
      "text/plain": [
       "Text(95.72222222222221, 0.5, 'Truth')"
      ]
     },
     "execution_count": 60,
     "metadata": {},
     "output_type": "execute_result"
    },
    {
     "data": {
      "image/png": "[encoded data removed]",
      "text/plain": [
       "<Figure size 1000x700 with 2 Axes>"
      ]
     },
     "metadata": {},
     "output_type": "display_data"
    }
   ],
   "source": [
    "# Matrice de confusion\n",
    "cm_Min = tf.math.confusion_matrix(labels=y_test_Min_2, predictions=y_predicted_labels_Min)\n",
    "plt.figure(figsize=(10, 7))\n",
    "sns.heatmap(cm_Min, annot=True, fmt='d')\n",
    "plt.xlabel('Predicted')\n",
    "plt.ylabel('Truth')"
   ]
  }
 ],
 "metadata": {
  "kernelspec": {
   "display_name": "Scribio",
   "language": "python",
   "name": "python3"
  },
  "language_info": {
   "codemirror_mode": {
    "name": "ipython",
    "version": 3
   },
   "file_extension": ".py",
   "mimetype": "text/x-python",
   "name": "python",
   "nbconvert_exporter": "python",
   "pygments_lexer": "ipython3",
   "version": "3.11.4"
  }
 },
 "nbformat": 4,
 "nbformat_minor": 5
}
