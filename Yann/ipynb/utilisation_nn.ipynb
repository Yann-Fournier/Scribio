{
 "cells": [
  {
   "cell_type": "code",
   "execution_count": 1,
   "metadata": {},
   "outputs": [],
   "source": [
    "import os # to work with directories\n",
    "import json # to work with json files\n",
    "import tensorflow as tf # deep learning library. Tensors are just multi-dimensional arrays\n",
    "import numpy as np # linear algebra\n",
    "from PIL import Image # image processing"
   ]
  },
  {
   "cell_type": "code",
   "execution_count": 2,
   "metadata": {},
   "outputs": [],
   "source": [
    "# Initialisation des variables\n",
    "TYPE = {0: 'MAJ', 1: 'MIN', 2: 'NBR'}\n",
    "MAJ = {0: 'A', 1: 'B', 2: 'C', 3: 'D', 4: 'E', 5: 'F', 6: 'G', 7: 'H', 8: 'I', 9: 'J', 10: 'K', 11: 'L', 12: 'M', 13: 'N', 14: 'O', 15: 'P', 16: 'Q', 17: 'R', 18: 'S', 19: 'T', 20: 'U', 21: 'V', 22: 'W', 23: 'X', 24: 'Y', 25: 'Z'}\n",
    "MIN = {0: 'a', 1: 'b', 2: 'c', 3: 'd', 4: 'e', 5: 'f', 6: 'g', 7: 'h', 8: 'i', 9: 'j', 10: 'k', 11: 'l', 12: 'm', 13: 'n', 14: 'o', 15: 'p', 16: 'q', 17: 'r', 18: 's', 19: 't', 20: 'u', 21: 'v', 22: 'w', 23: 'x', 24: 'y', 25: 'z'}\n",
    "NBR = {0: '0', 1: '1', 2: '2', 3: '3', 4: '4', 5: '5', 6: '6', 7: '7', 8: '8', 9: '9'}\n",
    "CHEMAIN = []\n",
    "\n",
    "# Chargement des modèles sauvegardés\n",
    "model_type = tf.keras.models.load_model(\"../models/Get_type_v4_b32_e10.keras\")\n",
    "model_maj = tf.keras.models.load_model(\"../models/Get_Maj_v4_b32_e10.keras\")\n",
    "model_min = tf.keras.models.load_model(\"../models/Get_Min_v4_b32_e10.keras\")\n",
    "model_nbr = tf.keras.models.load_model(\"../models/Get_Nbr_v4_b32_e10.keras\")"
   ]
  },
  {
   "cell_type": "code",
   "execution_count": 3,
   "metadata": {},
   "outputs": [],
   "source": [
    "def format_image(chemin: str) -> np.ndarray:\n",
    "    \"\"\"_summary_\n",
    "\n",
    "    Args:\n",
    "        chemin (str): _description_\n",
    "\n",
    "    Returns:\n",
    "        np.ndarray: _description_\n",
    "    \"\"\"\n",
    "    img = Image.open(chemin) # 300 x 300\n",
    "    \n",
    "    nouvelle_taille = (25, 25) # 625\n",
    "    \n",
    "    img_redimensionnee = img.resize(nouvelle_taille) # Redimensionner l'image\n",
    "    nb_image = img_redimensionnee.convert('L') # Convertion en noir et blanc\n",
    "    \n",
    "    tab = []\n",
    "    for i in range(nb_image.size[1]):\n",
    "        row = []\n",
    "        for y in range(nb_image.size[0]):\n",
    "            # Récupérer la couleur du pixel\n",
    "            row.append(nb_image.getpixel((y, i)))\n",
    "        tab.append(row)\n",
    "        \n",
    "    tab_numpy = np.array(tab) / 255 # mise à l'échelle des données\n",
    "    tab_numpy_flatten = tab_numpy.flatten() # Transformation en tableau 1D\n",
    "    \n",
    "    return tab_numpy_flatten # Retourner le tableau de pixels"
   ]
  },
  {
   "cell_type": "code",
   "execution_count": 4,
   "metadata": {},
   "outputs": [],
   "source": [
    "# Parcours des dossiers et sous-dossiers pour récupérer les chemins de toutes les photos (recursion)\n",
    "def recup_chemin(chemin: str) -> None:\n",
    "    \"\"\"Summary ______________________________________________________________\n",
    "\n",
    "    Args:\n",
    "        chemin (str): chemin du dataset\n",
    "    \"\"\"\n",
    "    dossiers = [f for f in os.listdir(chemin) if os.path.isdir(os.path.join(chemin, f))]\n",
    "    if len(dossiers) == 0: # Si aucun dossier n'est trouvé, on est dans le cas de base\n",
    "        fichiers_png = [os.path.join(chemin, f) for f in os.listdir(chemin) if f.endswith('.png')] # on recupère et stocke les fichiers .png\n",
    "        CHEMAIN.extend(fichiers_png) # on ajoute les chemins des fichiers .png dans une liste\n",
    "    else : # Sinon, on continue de parcourir les dossiers\n",
    "        for dossier in dossiers:\n",
    "            recup_chemin(os.path.join(chemin, dossier))"
   ]
  },
  {
   "cell_type": "code",
   "execution_count": 5,
   "metadata": {},
   "outputs": [],
   "source": [
    "def predict_image(chemin: str) -> json:\n",
    "    \"\"\"_summary_\n",
    "\n",
    "    Args:\n",
    "        chemin (str): chemin de l'image à prédire\n",
    "\n",
    "    Returns:\n",
    "        JSON: json contenant, le chemin de l'image, la prédiction finale et les prédictions des différents modèles\n",
    "    \"\"\"\n",
    "    image_pixel = format_image(chemin) # Récupération des pixels de l'image\n",
    "    image_pixel1d = image_pixel.reshape(1, 625) # Transformation en tableau 2D\n",
    "    chemin_split = chemin.split(\"\\\\\") # Split du chemin pour recupérer les informations\n",
    "    \n",
    "    # Prédiction des différents modèles\n",
    "    predictions_type = model_type.predict(image_pixel1d)\n",
    "    predictions_maj = model_maj.predict(image_pixel1d)\n",
    "    predictions_min = model_min.predict(image_pixel1d)\n",
    "    predictions_nbr = model_nbr.predict(image_pixel1d)\n",
    "    \n",
    "    # Get max value of predictions\n",
    "    max_type = max(predictions_type[0]) # Type\n",
    "    max_maj = max(predictions_maj[0]) # Maj\n",
    "    max_min = max(predictions_min[0]) # Min\n",
    "    max_nbr = max(predictions_nbr[0]) # Nbr\n",
    "    \n",
    "    # Dictionnaire des probabilités\n",
    "    dictionnaire = {\n",
    "        max(predictions_maj[0]): \"MAJ\",\n",
    "        max(predictions_min[0]): \"MIN\",\n",
    "        max(predictions_nbr[0]): \"NBR\"\n",
    "    }\n",
    "    \n",
    "    # Get label type\n",
    "    type_img = TYPE[tf.argmax(predictions_type, axis=1).numpy()[0]] # label type\n",
    "    \n",
    "    # Get label forme\n",
    "    maximum_forme = max(max_maj, max_min, max_nbr) # probabilité forme\n",
    "    forme = dictionnaire[maximum_forme] # label type\n",
    "    if forme == \"MAJ\":\n",
    "        label_max_forme = MAJ[tf.argmax(predictions_maj, axis=1).numpy()[0]]\n",
    "    elif forme == \"MIN\":\n",
    "        label_max_forme = MIN[tf.argmax(predictions_min, axis=1).numpy()[0]]\n",
    "    elif forme == \"NBR\":\n",
    "        label_max_forme = NBR[tf.argmax(predictions_nbr, axis=1).numpy()[0]]\n",
    "    \n",
    "    # JSON de retour pour l'API\n",
    "    json_retour_api = {\n",
    "        \"Image\": chemin,\n",
    "        \"Label\": chemin_split[5],\n",
    "        \"Prediction\": \"\",\n",
    "        \"Maj\": predictions_type[0][0],\n",
    "        \"Min\": predictions_type[0][1],\n",
    "        \"Nbr\": predictions_type[0][2],\n",
    "        \"A\": predictions_maj[0][0],\n",
    "        \"B\": predictions_maj[0][1],\n",
    "        \"C\": predictions_maj[0][2],\n",
    "        \"D\": predictions_maj[0][3],\n",
    "        \"E\": predictions_maj[0][4],\n",
    "        \"F\": predictions_maj[0][5],\n",
    "        \"G\": predictions_maj[0][6],\n",
    "        \"H\": predictions_maj[0][7],\n",
    "        \"I\": predictions_maj[0][8],\n",
    "        \"J\": predictions_maj[0][9],\n",
    "        \"K\": predictions_maj[0][10],\n",
    "        \"L\": predictions_maj[0][11],\n",
    "        \"M\": predictions_maj[0][12],\n",
    "        \"N\": predictions_maj[0][13],\n",
    "        \"O\": predictions_maj[0][14],\n",
    "        \"P\": predictions_maj[0][15],\n",
    "        \"Q\": predictions_maj[0][16],\n",
    "        \"R\": predictions_maj[0][17],\n",
    "        \"S\": predictions_maj[0][18],\n",
    "        \"T\": predictions_maj[0][19],\n",
    "        \"U\": predictions_maj[0][20],\n",
    "        \"V\": predictions_maj[0][21],\n",
    "        \"W\": predictions_maj[0][22],\n",
    "        \"X\": predictions_maj[0][23],\n",
    "        \"Y\": predictions_maj[0][24],\n",
    "        \"Z\": predictions_maj[0][25],\n",
    "        \"a\": predictions_min[0][0],\n",
    "        \"b\": predictions_min[0][1],\n",
    "        \"c\": predictions_min[0][2],\n",
    "        \"d\": predictions_min[0][3],\n",
    "        \"e\": predictions_min[0][4],\n",
    "        \"f\": predictions_min[0][5],\n",
    "        \"g\": predictions_min[0][6],\n",
    "        \"h\": predictions_min[0][7],\n",
    "        \"i\": predictions_min[0][8],\n",
    "        \"j\": predictions_min[0][9],\n",
    "        \"k\": predictions_min[0][10],\n",
    "        \"l\": predictions_min[0][11],\n",
    "        \"m\": predictions_min[0][12],\n",
    "        \"n\": predictions_min[0][13],\n",
    "        \"o\": predictions_min[0][14],\n",
    "        \"p\": predictions_min[0][15],\n",
    "        \"q\": predictions_min[0][16],\n",
    "        \"r\": predictions_min[0][17],\n",
    "        \"s\": predictions_min[0][18],\n",
    "        \"t\": predictions_min[0][19],\n",
    "        \"u\": predictions_min[0][20],\n",
    "        \"v\": predictions_min[0][21],\n",
    "        \"w\": predictions_min[0][22],\n",
    "        \"x\": predictions_min[0][23],\n",
    "        \"y\": predictions_min[0][24],\n",
    "        \"z\": predictions_min[0][25],\n",
    "        \"0\": predictions_nbr[0][0],\n",
    "        \"1\": predictions_nbr[0][1],\n",
    "        \"2\": predictions_nbr[0][2],\n",
    "        \"3\": predictions_nbr[0][3],\n",
    "        \"4\": predictions_nbr[0][4],\n",
    "        \"5\": predictions_nbr[0][5],\n",
    "        \"6\": predictions_nbr[0][6],\n",
    "        \"7\": predictions_nbr[0][7],\n",
    "        \"8\": predictions_nbr[0][8],\n",
    "        \"9\": predictions_nbr[0][9]\n",
    "    }\n",
    "    \n",
    "    # Choix de la prédiction finale \n",
    "    if type_img != forme:\n",
    "        max_max_max = max(max_type, maximum_forme)\n",
    "        if max_type == max_max_max:\n",
    "            if type_img == \"MAJ\":\n",
    "                json_retour_api[\"Prediction\"] = MAJ[tf.argmax(predictions_maj, axis=1).numpy()[0]]\n",
    "            elif type_img == \"MIN\":\n",
    "                json_retour_api[\"Prediction\"] = MIN[tf.argmax(predictions_min, axis=1).numpy()[0]]\n",
    "            elif type_img == \"NBR\":\n",
    "                json_retour_api[\"Prediction\"] = NBR[tf.argmax(predictions_nbr, axis=1).numpy()[0]]\n",
    "        else:\n",
    "            json_retour_api[\"Prediction\"] = label_max_forme\n",
    "    else:\n",
    "        json_retour_api[\"Prediction\"] = label_max_forme\n",
    "    \n",
    "    return json_retour_api # Retourne le JSON"
   ]
  },
  {
   "cell_type": "code",
   "execution_count": 6,
   "metadata": {},
   "outputs": [
    {
     "name": "stdout",
     "output_type": "stream",
     "text": [
      "798402\n",
      "['..\\\\..\\\\Dataset\\\\dataset\\\\test\\\\A\\\\000000.png', '..\\\\..\\\\Dataset\\\\dataset\\\\test\\\\A\\\\000001.png', '..\\\\..\\\\Dataset\\\\dataset\\\\test\\\\A\\\\000002.png', '..\\\\..\\\\Dataset\\\\dataset\\\\test\\\\A\\\\000003.png', '..\\\\..\\\\Dataset\\\\dataset\\\\test\\\\A\\\\000004.png']\n"
     ]
    }
   ],
   "source": [
    "recup_chemin(\"..\\..\\Dataset\")\n",
    "print(len(CHEMAIN))\n",
    "print(CHEMAIN[:5])\n",
    "# Temps : 1m 35.2s"
   ]
  },
  {
   "cell_type": "code",
   "execution_count": 60,
   "metadata": {},
   "outputs": [
    {
     "data": {
      "text/plain": [
       "'..\\\\..\\\\Dataset\\\\datasetDigit\\\\train\\\\0\\\\010146.png'"
      ]
     },
     "execution_count": 60,
     "metadata": {},
     "output_type": "execute_result"
    }
   ],
   "source": [
    "random_image = np.random.choice(CHEMAIN)\n",
    "random_image"
   ]
  },
  {
   "cell_type": "code",
   "execution_count": 61,
   "metadata": {},
   "outputs": [
    {
     "name": "stdout",
     "output_type": "stream",
     "text": [
      "\u001b[1m1/1\u001b[0m \u001b[32m━━━━━━━━━━━━━━━━━━━━\u001b[0m\u001b[37m\u001b[0m \u001b[1m0s\u001b[0m 11ms/step\n",
      "\u001b[1m1/1\u001b[0m \u001b[32m━━━━━━━━━━━━━━━━━━━━\u001b[0m\u001b[37m\u001b[0m \u001b[1m0s\u001b[0m 14ms/step\n",
      "\u001b[1m1/1\u001b[0m \u001b[32m━━━━━━━━━━━━━━━━━━━━\u001b[0m\u001b[37m\u001b[0m \u001b[1m0s\u001b[0m 13ms/step\n",
      "\u001b[1m1/1\u001b[0m \u001b[32m━━━━━━━━━━━━━━━━━━━━\u001b[0m\u001b[37m\u001b[0m \u001b[1m0s\u001b[0m 12ms/step\n",
      "Label : 0\n",
      "Prediction : O\n",
      "KO ????????????????????\n"
     ]
    }
   ],
   "source": [
    "json = predict_image(random_image)\n",
    "print(\"Label :\", json[\"Label\"])\n",
    "print(\"Prediction :\", json[\"Prediction\"])\n",
    "if json[\"Label\"] == json[\"Prediction\"]:\n",
    "    print(\"OK !!!!!!!!!!!!!!!!!!!!\")\n",
    "else:\n",
    "    print(\"KO ????????????????????\")"
   ]
  }
 ],
 "metadata": {
  "kernelspec": {
   "display_name": "Scribio",
   "language": "python",
   "name": "python3"
  },
  "language_info": {
   "codemirror_mode": {
    "name": "ipython",
    "version": 3
   },
   "file_extension": ".py",
   "mimetype": "text/x-python",
   "name": "python",
   "nbconvert_exporter": "python",
   "pygments_lexer": "ipython3",
   "version": "3.11.4"
  }
 },
 "nbformat": 4,
 "nbformat_minor": 2
}
