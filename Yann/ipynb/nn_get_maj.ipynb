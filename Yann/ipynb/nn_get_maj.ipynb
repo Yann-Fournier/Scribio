{
 "cells": [
  {
   "cell_type": "code",
   "execution_count": 1,
   "id": "initial_id",
   "metadata": {
    "ExecuteTime": {
     "end_time": "2024-12-02T15:39:15.743926Z",
     "start_time": "2024-12-02T15:39:15.736806Z"
    },
    "collapsed": true
   },
   "outputs": [],
   "source": [
    "import gc # garbage collector\n",
    "import pandas as pd\n",
    "import numpy as np\n",
    "import seaborn as sns\n",
    "from tqdm import tqdm # progress bar\n",
    "import tensorflow as tf \n",
    "from tensorflow import keras\n",
    "import matplotlib.pyplot as plt\n",
    "from pymongo import MongoClient\n",
    "from sklearn.preprocessing import LabelEncoder"
   ]
  },
  {
   "cell_type": "code",
   "execution_count": 2,
   "id": "5fd3a22c",
   "metadata": {},
   "outputs": [],
   "source": [
    "LISTE_MAJ = [\"A\", \"B\", \"C\", \"D\", \"E\", \"F\", \"G\", \"H\", \"I\", \"J\", \"K\", \"L\", \"M\", \"N\", \"O\", \"P\", \"Q\", \"R\", \"S\", \"T\", \"U\", \"V\", \"W\", \"X\", \"Y\", \"Z\"]\n",
    "LISTE_MIN = [\"a\", \"b\", \"c\", \"d\", \"e\", \"f\", \"g\", \"h\", \"i\", \"j\", \"k\", \"l\", \"m\", \"n\", \"o\", \"p\", \"q\", \"r\", \"s\", \"t\", \"u\", \"v\", \"w\", \"x\", \"y\", \"z\"]\n",
    "LISTE_NBR = [\"0\", \"1\", \"2\", \"3\", \"4\", \"5\", \"6\", \"7\", \"8\", \"9\"]\n",
    "\n",
    "BATCH_SIZE = 256\n",
    "EPOCHS = 10\n",
    "ADD_NOM = \"3_b\" + str(BATCH_SIZE) + \"_e\" + str(EPOCHS)"
   ]
  },
  {
   "cell_type": "code",
   "execution_count": 3,
   "id": "80da29cf",
   "metadata": {},
   "outputs": [],
   "source": [
    "# shape of the image : 50x50\n",
    "# number of classes : 62 (26 letters majuscules, 26 letters minuscules, 10 chiffres)\n",
    "\n",
    "# Dataset_Maj_test : 689_936\n",
    "# Dataset_Maj_train : 2_405_456\n",
    "# Dataset_Maj_validation : 692_000"
   ]
  },
  {
   "cell_type": "markdown",
   "id": "08306dfa",
   "metadata": {},
   "source": [
    "# Get Data\n",
    "---\n",
    "\n",
    "- Récupération des données de la base de données\n",
    "- formattage des données\n",
    "- répartition des données"
   ]
  },
  {
   "cell_type": "code",
   "execution_count": 4,
   "id": "ce99688d",
   "metadata": {},
   "outputs": [],
   "source": [
    "# Connexion à MongoDB\n",
    "client = MongoClient(\"mongodb://localhost:27017/Scibio\")  # Remplacez par l'URL de votre serveur MongoDB\n",
    "db = client[\"Scribio\"]  # Nom de la base de données"
   ]
  },
  {
   "cell_type": "code",
   "execution_count": 5,
   "id": "5b44dd47",
   "metadata": {},
   "outputs": [],
   "source": [
    "def fetch_data(nom_collection: str, nbr: int):\n",
    "    collection = db[nom_collection]  # Nom de la collection\n",
    "    documents = collection.find()\n",
    "    print(f\"fetch {nom_collection} OK !!!\")\n",
    "\n",
    "    images = []\n",
    "    labels = []\n",
    "    types = []\n",
    "    \n",
    "    # Parcours et transformation des photos avec barre de progression \n",
    "    with tqdm(total=nbr, desc=\"Proccessing\" , position=0, leave=True) as pbar:\n",
    "        for doc in documents:\n",
    "            images.append(np.array(doc[\"Tableau_Pixels\"], dtype=np.float32))\n",
    "            labels.append(doc[\"Label\"])\n",
    "            types.append(doc[\"Type\"])\n",
    "            pbar.update(1) # Mettre à jour la barre de progression\n",
    "            \n",
    "    # return np.array(images), np.array(labels, dtype=str)\n",
    "    return pd.DataFrame({\"Labels\": labels, \"Types\": types, \"Images\": images})"
   ]
  },
  {
   "cell_type": "markdown",
   "id": "06631d72",
   "metadata": {},
   "source": [
    "### Récupérations des données de toutes les collections\n",
    "---"
   ]
  },
  {
   "cell_type": "code",
   "execution_count": 6,
   "id": "b38e4777",
   "metadata": {},
   "outputs": [
    {
     "name": "stdout",
     "output_type": "stream",
     "text": [
      "fetch Dataset_Maj_test OK !!!\n"
     ]
    },
    {
     "name": "stderr",
     "output_type": "stream",
     "text": [
      "Proccessing: 100%|██████████| 689936/689936 [00:40<00:00, 16844.04it/s]\n"
     ]
    },
    {
     "name": "stdout",
     "output_type": "stream",
     "text": [
      "(689936, 3)\n"
     ]
    },
    {
     "data": {
      "text/html": [
       "<div>\n",
       "<style scoped>\n",
       "    .dataframe tbody tr th:only-of-type {\n",
       "        vertical-align: middle;\n",
       "    }\n",
       "\n",
       "    .dataframe tbody tr th {\n",
       "        vertical-align: top;\n",
       "    }\n",
       "\n",
       "    .dataframe thead th {\n",
       "        text-align: right;\n",
       "    }\n",
       "</style>\n",
       "<table border=\"1\" class=\"dataframe\">\n",
       "  <thead>\n",
       "    <tr style=\"text-align: right;\">\n",
       "      <th></th>\n",
       "      <th>Labels</th>\n",
       "      <th>Types</th>\n",
       "      <th>Images</th>\n",
       "    </tr>\n",
       "  </thead>\n",
       "  <tbody>\n",
       "    <tr>\n",
       "      <th>0</th>\n",
       "      <td>W</td>\n",
       "      <td>Maj</td>\n",
       "      <td>[0.0, 0.0, 0.0, 0.0, 0.0, 0.0, 0.0, 0.0, 0.0, ...</td>\n",
       "    </tr>\n",
       "    <tr>\n",
       "      <th>1</th>\n",
       "      <td>C</td>\n",
       "      <td>Maj</td>\n",
       "      <td>[1.0, 1.0, 1.0, 1.0, 1.0, 1.0, 1.0, 1.0, 1.0, ...</td>\n",
       "    </tr>\n",
       "    <tr>\n",
       "      <th>2</th>\n",
       "      <td>C</td>\n",
       "      <td>Maj</td>\n",
       "      <td>[0.0, 0.0, 0.0, 0.0, 0.0, 0.0, 0.0, 0.0, 0.0, ...</td>\n",
       "    </tr>\n",
       "    <tr>\n",
       "      <th>3</th>\n",
       "      <td>E</td>\n",
       "      <td>Maj</td>\n",
       "      <td>[1.0, 1.0, 1.0, 1.0, 1.0, 1.0, 1.0, 1.0, 1.0, ...</td>\n",
       "    </tr>\n",
       "    <tr>\n",
       "      <th>4</th>\n",
       "      <td>O</td>\n",
       "      <td>Maj</td>\n",
       "      <td>[1.0, 1.0, 1.0, 1.0, 1.0, 1.0, 1.0, 1.0, 1.0, ...</td>\n",
       "    </tr>\n",
       "  </tbody>\n",
       "</table>\n",
       "</div>"
      ],
      "text/plain": [
       "  Labels Types                                             Images\n",
       "0      W   Maj  [0.0, 0.0, 0.0, 0.0, 0.0, 0.0, 0.0, 0.0, 0.0, ...\n",
       "1      C   Maj  [1.0, 1.0, 1.0, 1.0, 1.0, 1.0, 1.0, 1.0, 1.0, ...\n",
       "2      C   Maj  [0.0, 0.0, 0.0, 0.0, 0.0, 0.0, 0.0, 0.0, 0.0, ...\n",
       "3      E   Maj  [1.0, 1.0, 1.0, 1.0, 1.0, 1.0, 1.0, 1.0, 1.0, ...\n",
       "4      O   Maj  [1.0, 1.0, 1.0, 1.0, 1.0, 1.0, 1.0, 1.0, 1.0, ..."
      ]
     },
     "execution_count": 6,
     "metadata": {},
     "output_type": "execute_result"
    }
   ],
   "source": [
    "df_maj_test = fetch_data(\"Dataset_Maj_test\", 689_936)\n",
    "df_maj_test = df_maj_test.sample(frac=1).reset_index(drop=True)\n",
    "print(df_maj_test.shape)\n",
    "df_maj_test.head()\n",
    "# Temps : 41.2s"
   ]
  },
  {
   "cell_type": "code",
   "execution_count": 7,
   "id": "bd528365",
   "metadata": {},
   "outputs": [
    {
     "name": "stdout",
     "output_type": "stream",
     "text": [
      "fetch Dataset_Maj_train OK !!!\n"
     ]
    },
    {
     "name": "stderr",
     "output_type": "stream",
     "text": [
      "Proccessing: 100%|██████████| 2405456/2405456 [03:00<00:00, 13323.76it/s]\n"
     ]
    },
    {
     "name": "stdout",
     "output_type": "stream",
     "text": [
      "(2405456, 3)\n"
     ]
    },
    {
     "data": {
      "text/html": [
       "<div>\n",
       "<style scoped>\n",
       "    .dataframe tbody tr th:only-of-type {\n",
       "        vertical-align: middle;\n",
       "    }\n",
       "\n",
       "    .dataframe tbody tr th {\n",
       "        vertical-align: top;\n",
       "    }\n",
       "\n",
       "    .dataframe thead th {\n",
       "        text-align: right;\n",
       "    }\n",
       "</style>\n",
       "<table border=\"1\" class=\"dataframe\">\n",
       "  <thead>\n",
       "    <tr style=\"text-align: right;\">\n",
       "      <th></th>\n",
       "      <th>Labels</th>\n",
       "      <th>Types</th>\n",
       "      <th>Images</th>\n",
       "    </tr>\n",
       "  </thead>\n",
       "  <tbody>\n",
       "    <tr>\n",
       "      <th>0</th>\n",
       "      <td>F</td>\n",
       "      <td>Maj</td>\n",
       "      <td>[0.0, 0.0, 0.0, 0.0, 0.0, 0.0, 0.0, 0.0, 0.0, ...</td>\n",
       "    </tr>\n",
       "    <tr>\n",
       "      <th>1</th>\n",
       "      <td>A</td>\n",
       "      <td>Maj</td>\n",
       "      <td>[0.0, 0.0, 0.0, 0.0, 0.0, 0.0, 0.0, 0.0, 0.0, ...</td>\n",
       "    </tr>\n",
       "    <tr>\n",
       "      <th>2</th>\n",
       "      <td>D</td>\n",
       "      <td>Maj</td>\n",
       "      <td>[0.0, 0.0, 0.0, 0.0, 0.0, 0.0, 0.0, 0.0, 0.0, ...</td>\n",
       "    </tr>\n",
       "    <tr>\n",
       "      <th>3</th>\n",
       "      <td>N</td>\n",
       "      <td>Maj</td>\n",
       "      <td>[0.0, 0.0, 0.0, 0.0, 0.0, 0.0, 0.0, 0.0, 0.0, ...</td>\n",
       "    </tr>\n",
       "    <tr>\n",
       "      <th>4</th>\n",
       "      <td>I</td>\n",
       "      <td>Maj</td>\n",
       "      <td>[1.0, 1.0, 1.0, 1.0, 1.0, 1.0, 1.0, 1.0, 1.0, ...</td>\n",
       "    </tr>\n",
       "  </tbody>\n",
       "</table>\n",
       "</div>"
      ],
      "text/plain": [
       "  Labels Types                                             Images\n",
       "0      F   Maj  [0.0, 0.0, 0.0, 0.0, 0.0, 0.0, 0.0, 0.0, 0.0, ...\n",
       "1      A   Maj  [0.0, 0.0, 0.0, 0.0, 0.0, 0.0, 0.0, 0.0, 0.0, ...\n",
       "2      D   Maj  [0.0, 0.0, 0.0, 0.0, 0.0, 0.0, 0.0, 0.0, 0.0, ...\n",
       "3      N   Maj  [0.0, 0.0, 0.0, 0.0, 0.0, 0.0, 0.0, 0.0, 0.0, ...\n",
       "4      I   Maj  [1.0, 1.0, 1.0, 1.0, 1.0, 1.0, 1.0, 1.0, 1.0, ..."
      ]
     },
     "execution_count": 7,
     "metadata": {},
     "output_type": "execute_result"
    }
   ],
   "source": [
    "df_maj_train = fetch_data(\"Dataset_Maj_train\", 2_405_456)\n",
    "df_maj_train = df_maj_train.sample(frac=1).reset_index(drop=True)\n",
    "print(df_maj_train.shape)\n",
    "df_maj_train.head()\n",
    "# Temps : 3m 1.7s"
   ]
  },
  {
   "cell_type": "code",
   "execution_count": 8,
   "id": "9d6268f6",
   "metadata": {},
   "outputs": [
    {
     "name": "stdout",
     "output_type": "stream",
     "text": [
      "fetch Dataset_Maj_validation OK !!!\n"
     ]
    },
    {
     "name": "stderr",
     "output_type": "stream",
     "text": [
      "Proccessing: 100%|██████████| 692000/692000 [01:02<00:00, 11035.39it/s]\n"
     ]
    },
    {
     "name": "stdout",
     "output_type": "stream",
     "text": [
      "(692000, 3)\n"
     ]
    },
    {
     "data": {
      "text/html": [
       "<div>\n",
       "<style scoped>\n",
       "    .dataframe tbody tr th:only-of-type {\n",
       "        vertical-align: middle;\n",
       "    }\n",
       "\n",
       "    .dataframe tbody tr th {\n",
       "        vertical-align: top;\n",
       "    }\n",
       "\n",
       "    .dataframe thead th {\n",
       "        text-align: right;\n",
       "    }\n",
       "</style>\n",
       "<table border=\"1\" class=\"dataframe\">\n",
       "  <thead>\n",
       "    <tr style=\"text-align: right;\">\n",
       "      <th></th>\n",
       "      <th>Labels</th>\n",
       "      <th>Types</th>\n",
       "      <th>Images</th>\n",
       "    </tr>\n",
       "  </thead>\n",
       "  <tbody>\n",
       "    <tr>\n",
       "      <th>0</th>\n",
       "      <td>I</td>\n",
       "      <td>Maj</td>\n",
       "      <td>[1.0, 1.0, 1.0, 1.0, 1.0, 1.0, 1.0, 1.0, 1.0, ...</td>\n",
       "    </tr>\n",
       "    <tr>\n",
       "      <th>1</th>\n",
       "      <td>U</td>\n",
       "      <td>Maj</td>\n",
       "      <td>[0.0, 0.0, 0.0, 0.0, 0.0, 0.0, 0.0, 0.0, 0.0, ...</td>\n",
       "    </tr>\n",
       "    <tr>\n",
       "      <th>2</th>\n",
       "      <td>O</td>\n",
       "      <td>Maj</td>\n",
       "      <td>[1.0, 1.0, 1.0, 1.0, 1.0, 1.0, 1.0, 1.0, 1.0, ...</td>\n",
       "    </tr>\n",
       "    <tr>\n",
       "      <th>3</th>\n",
       "      <td>Y</td>\n",
       "      <td>Maj</td>\n",
       "      <td>[0.0, 0.0, 0.0, 0.0, 0.0, 0.0, 0.0, 0.0, 0.0, ...</td>\n",
       "    </tr>\n",
       "    <tr>\n",
       "      <th>4</th>\n",
       "      <td>N</td>\n",
       "      <td>Maj</td>\n",
       "      <td>[0.0, 0.0, 0.0, 0.0, 0.0, 0.0, 0.0, 0.0, 0.0, ...</td>\n",
       "    </tr>\n",
       "  </tbody>\n",
       "</table>\n",
       "</div>"
      ],
      "text/plain": [
       "  Labels Types                                             Images\n",
       "0      I   Maj  [1.0, 1.0, 1.0, 1.0, 1.0, 1.0, 1.0, 1.0, 1.0, ...\n",
       "1      U   Maj  [0.0, 0.0, 0.0, 0.0, 0.0, 0.0, 0.0, 0.0, 0.0, ...\n",
       "2      O   Maj  [1.0, 1.0, 1.0, 1.0, 1.0, 1.0, 1.0, 1.0, 1.0, ...\n",
       "3      Y   Maj  [0.0, 0.0, 0.0, 0.0, 0.0, 0.0, 0.0, 0.0, 0.0, ...\n",
       "4      N   Maj  [0.0, 0.0, 0.0, 0.0, 0.0, 0.0, 0.0, 0.0, 0.0, ..."
      ]
     },
     "execution_count": 8,
     "metadata": {},
     "output_type": "execute_result"
    }
   ],
   "source": [
    "df_maj_validation = fetch_data(\"Dataset_Maj_validation\", 692_000)\n",
    "df_maj_validation = df_maj_validation.sample(frac=1).reset_index(drop=True)\n",
    "print(df_maj_validation.shape)\n",
    "df_maj_validation.head()\n",
    "# Temps : 1m 3.0s"
   ]
  },
  {
   "cell_type": "markdown",
   "id": "be27b6f5",
   "metadata": {},
   "source": [
    "### Données pour apprentissage du NN 'Get Maj'\n",
    "---\n",
    "\n",
    "Préparation des données pour l'entrainement du réseau de neurones 'Get Maj' qui permettra de classé les images selon la lettre majuscule qui y est representée."
   ]
  },
  {
   "cell_type": "code",
   "execution_count": null,
   "id": "e04f0f40",
   "metadata": {},
   "outputs": [],
   "source": [
    "X_train_Maj = np.array(df_maj_train[\"Images\"].tolist())\n",
    "# Temps : "
   ]
  },
  {
   "cell_type": "code",
   "execution_count": null,
   "id": "018ae348",
   "metadata": {},
   "outputs": [],
   "source": [
    "y_train_Maj = np.array(df_maj_train[\"Labels\"].tolist())\n",
    "# Temps : "
   ]
  },
  {
   "cell_type": "code",
   "execution_count": null,
   "id": "86eccd01",
   "metadata": {},
   "outputs": [],
   "source": [
    "X_test_Maj = np.array(df_maj_test[\"Images\"].tolist())\n",
    "# Temps : "
   ]
  },
  {
   "cell_type": "code",
   "execution_count": null,
   "id": "2644a66d",
   "metadata": {},
   "outputs": [],
   "source": [
    "y_test_Maj = np.array(df_maj_test[\"Labels\"].tolist())\n",
    "# Temps : "
   ]
  },
  {
   "cell_type": "code",
   "execution_count": null,
   "id": "2c7ec205",
   "metadata": {},
   "outputs": [],
   "source": [
    "X_validation_Maj = np.array(df_maj_validation[\"Images\"].tolist())\n",
    "# Temps : "
   ]
  },
  {
   "cell_type": "code",
   "execution_count": null,
   "id": "5c1ecfd6",
   "metadata": {},
   "outputs": [],
   "source": [
    "y_validation_Maj = np.array(df_maj_validation[\"Labels\"].tolist())\n",
    "# Temps : "
   ]
  },
  {
   "cell_type": "code",
   "execution_count": 27,
   "id": "c2e1cacf",
   "metadata": {},
   "outputs": [],
   "source": [
    "# Conversion des étiquettes en indices (si nécessaire)\n",
    "label_encoder_Maj = LabelEncoder()\n",
    "\n",
    "y_train_Maj_2 = label_encoder_Maj.fit_transform(y_train_Maj)  # Convertit les étiquettes (lettres/nombres) en indices numériques (nombre) (str => int)\n",
    "y_test_Maj_2 = label_encoder_Maj.transform(y_test_Maj)\n",
    "y_validation_Maj_2 = label_encoder_Maj.transform(y_validation_Maj)"
   ]
  },
  {
   "cell_type": "code",
   "execution_count": 28,
   "id": "a37d93b6",
   "metadata": {},
   "outputs": [
    {
     "name": "stdout",
     "output_type": "stream",
     "text": [
      "{0: 'A', 1: 'B', 2: 'C', 3: 'D', 4: 'E', 5: 'F', 6: 'G', 7: 'H', 8: 'I', 9: 'J', 10: 'K', 11: 'L', 12: 'M', 13: 'N', 14: 'O', 15: 'P', 16: 'Q', 17: 'R', 18: 'S', 19: 'T', 20: 'U', 21: 'V', 22: 'W', 23: 'X', 24: 'Y', 25: 'Z'}\n",
      "['A', 'B', 'C', 'D', 'E', 'F', 'G', 'H', 'I', 'J', 'K', 'L', 'M', 'N', 'O', 'P', 'Q', 'R', 'S', 'T', 'U', 'V', 'W', 'X', 'Y', 'Z']\n"
     ]
    }
   ],
   "source": [
    "# Correspondance indices ↔ labels\n",
    "correspondance_Maj = dict(enumerate(label_encoder_Maj.classes_))\n",
    "print(correspondance_Maj)\n",
    "\n",
    "# Liste des labels\n",
    "labels_Maj = list(correspondance_Maj.values())\n",
    "print(labels_Maj)"
   ]
  },
  {
   "cell_type": "code",
   "execution_count": 29,
   "id": "5c70f00b",
   "metadata": {},
   "outputs": [
    {
     "name": "stdout",
     "output_type": "stream",
     "text": [
      "Taille de X_train_Maj: (2405456, 625), y_train_Maj: (2405456,), y_train_Maj_2: (2405456,)\n",
      "Taille de X_test_Maj: (689936, 625), y_test_Maj: (689936,), y_test_Maj_2: (689936,)\n",
      "Taille de X_validation_Maj: (692000, 625), y_validation_Maj: (692000,), y_validation_Maj_2: (692000,)\n"
     ]
    }
   ],
   "source": [
    "# Afficher quelques informations\n",
    "print(f\"Taille de X_train_Maj: {X_train_Maj.shape}, y_train_Maj: {y_train_Maj.shape}, y_train_Maj_2: {y_train_Maj_2.shape}\")\n",
    "print(f\"Taille de X_test_Maj: {X_test_Maj.shape}, y_test_Maj: {y_test_Maj.shape}, y_test_Maj_2: {y_test_Maj_2.shape}\")\n",
    "print(f\"Taille de X_validation_Maj: {X_validation_Maj.shape}, y_validation_Maj: {y_validation_Maj.shape}, y_validation_Maj_2: {y_validation_Maj_2.shape}\")"
   ]
  },
  {
   "cell_type": "markdown",
   "id": "b0dbf28b",
   "metadata": {},
   "source": [
    "##### Suppression\n",
    "---\n",
    "\n",
    "Suppression des données pour l'apprentissage de 'Get Maj' plus utilisées"
   ]
  },
  {
   "cell_type": "code",
   "execution_count": 30,
   "id": "c9d6f0f8",
   "metadata": {},
   "outputs": [
    {
     "data": {
      "text/plain": [
       "0"
      ]
     },
     "execution_count": 30,
     "metadata": {},
     "output_type": "execute_result"
    }
   ],
   "source": [
    "del df_maj_test, df_maj_train, df_maj_validation\n",
    "gc.collect()  # Force la collecte des objets non utilisés"
   ]
  },
  {
   "cell_type": "markdown",
   "id": "5b557b32",
   "metadata": {},
   "source": [
    "# Get Maj (NN)\n",
    "---\n",
    "\n",
    "Modèle ..."
   ]
  },
  {
   "cell_type": "code",
   "execution_count": 47,
   "id": "6321ce1f",
   "metadata": {},
   "outputs": [],
   "source": [
    "model_get_maj = keras.Sequential([\n",
    "    keras.layers.Input((625,)), # input layer : 2500 neurones (50x50 pixels)\n",
    "    keras.layers.Dense(128, activation='relu'),\n",
    "    keras.layers.Dense(64, activation='relu'),\n",
    "    keras.layers.Dense(26, activation='softmax') # output layer : 26 neurones (A-Z)\n",
    "])\n",
    "\n",
    "model_get_maj.compile(\n",
    "    optimizer='adam',\n",
    "    loss='sparse_categorical_crossentropy',\n",
    "    metrics=['accuracy']\n",
    ")"
   ]
  },
  {
   "cell_type": "code",
   "execution_count": null,
   "id": "5d7a8dc0",
   "metadata": {},
   "outputs": [],
   "source": [
    "model_get_maj.fit(\n",
    "    X_train_Maj, \n",
    "    y_train_Maj_2, \n",
    "    epochs=EPOCHS, \n",
    "    batch_size=BATCH_SIZE, \n",
    "    validation_data=(\n",
    "        X_validation_Maj, \n",
    "        y_validation_Maj_2\n",
    "    ),\n",
    "    verbose=1\n",
    ")\n",
    "\n",
    "# Batch 32\n",
    "# accuracy : 0.9508\n",
    "# loss : 0.1701\n",
    "# Temps : 5m 17.7s\n",
    "\n",
    "# Batch 64\n",
    "# accuracy : 0.9522\n",
    "# loss : 0.1632\n",
    "# Temps : 2m 18.6s\n",
    "\n",
    "# Batch 128\n",
    "# accuracy : 0.9558\n",
    "# loss : 0.1531\n",
    "# Temps : 1m 19.8s\n",
    "\n",
    "# Batch 256\n",
    "# accuracy : 0.9527\n",
    "# loss : 0.1621\n",
    "# Temps : 51.7s"
   ]
  },
  {
   "cell_type": "code",
   "execution_count": 48,
   "id": "71aaeea0",
   "metadata": {},
   "outputs": [
    {
     "name": "stdout",
     "output_type": "stream",
     "text": [
      "\u001b[1m1348/1348\u001b[0m \u001b[32m━━━━━━━━━━━━━━━━━━━━\u001b[0m\u001b[37m\u001b[0m \u001b[1m4s\u001b[0m 3ms/step - accuracy: 0.9356 - loss: 0.2853\n",
      "Test accuracy : 0.9352519512176514\n",
      "Test loss : 0.2858487069606781\n"
     ]
    }
   ],
   "source": [
    "test_loss_maj, test_acc_maj = model_get_maj.evaluate(X_test_Maj, y_test_Maj_2)\n",
    "print(f\"Test accuracy : {test_acc_maj}\") # Test accuracy : \n",
    "print(f\"Test loss : {test_loss_maj}\") # Test loss : \n",
    "# Temps : 1.9s"
   ]
  },
  {
   "cell_type": "code",
   "execution_count": 49,
   "id": "6f73a143",
   "metadata": {},
   "outputs": [],
   "source": [
    "# Sauvegarder le modèle\n",
    "model_get_maj.save(\"../models/Get_Maj_v\" + ADD_NOM + \".keras\")  # Format HDF5 (.h5)"
   ]
  },
  {
   "cell_type": "code",
   "execution_count": 50,
   "id": "f10dc339",
   "metadata": {},
   "outputs": [
    {
     "name": "stdout",
     "output_type": "stream",
     "text": [
      "\u001b[1m1348/1348\u001b[0m \u001b[32m━━━━━━━━━━━━━━━━━━━━\u001b[0m\u001b[37m\u001b[0m \u001b[1m4s\u001b[0m 3ms/step\n"
     ]
    },
    {
     "data": {
      "text/plain": [
       "array([9.9999934e-01, 7.7308720e-01, 3.5535383e-01, 9.9393952e-01,\n",
       "       8.8625532e-01, 8.9389563e-01, 5.9978044e-01, 9.9412745e-01,\n",
       "       2.0962171e-01, 3.3624984e-02, 4.3295968e-02, 4.3806973e-01,\n",
       "       6.0872602e-01, 9.7811294e-01, 6.6230005e-01, 9.8547041e-01,\n",
       "       3.8519187e-03, 1.8753965e-01, 2.7242338e-03, 3.3365086e-02,\n",
       "       4.1397437e-04, 7.9703750e-04, 5.4788470e-01, 2.4486220e-02,\n",
       "       3.7600882e-02, 1.6414608e-05], dtype=float32)"
      ]
     },
     "execution_count": 50,
     "metadata": {},
     "output_type": "execute_result"
    }
   ],
   "source": [
    "y_predicted_Maj = model_get_maj.predict(X_test_Maj)\n",
    "y_predicted_Maj[1]\n",
    "# Temps 1.8s"
   ]
  },
  {
   "cell_type": "code",
   "execution_count": 51,
   "id": "143060fe",
   "metadata": {},
   "outputs": [
    {
     "data": {
      "text/plain": [
       "0"
      ]
     },
     "execution_count": 51,
     "metadata": {},
     "output_type": "execute_result"
    }
   ],
   "source": [
    "np.argmax(y_predicted_Maj[1])"
   ]
  },
  {
   "cell_type": "code",
   "execution_count": 52,
   "id": "da9ab676",
   "metadata": {},
   "outputs": [
    {
     "data": {
      "text/plain": [
       "[15, 0, 21, 8, 14]"
      ]
     },
     "execution_count": 52,
     "metadata": {},
     "output_type": "execute_result"
    }
   ],
   "source": [
    "# y_predicted_labels_Maj = [correspondance_Maj[np.argmax(i)] for i in y_predicted_Maj]\n",
    "y_predicted_labels_Maj = [np.argmax(i) for i in y_predicted_Maj]\n",
    "y_predicted_labels_Maj[:5]"
   ]
  },
  {
   "cell_type": "code",
   "execution_count": 53,
   "id": "1a9ff968",
   "metadata": {},
   "outputs": [
    {
     "data": {
      "text/plain": [
       "Text(95.72222222222221, 0.5, 'Truth')"
      ]
     },
     "execution_count": 53,
     "metadata": {},
     "output_type": "execute_result"
    },
    {
     "data": {
      "image/png": "[encoded data removed]",
      "text/plain": [
       "<Figure size 1000x700 with 2 Axes>"
      ]
     },
     "metadata": {},
     "output_type": "display_data"
    }
   ],
   "source": [
    "# Matrice de confusion\n",
    "cm_Maj = tf.math.confusion_matrix(labels=y_test_Maj_2, predictions=y_predicted_labels_Maj)\n",
    "plt.figure(figsize=(10, 7))\n",
    "sns.heatmap(cm_Maj, annot=True, fmt='d')\n",
    "plt.xlabel('Predicted')\n",
    "plt.ylabel('Truth')"
   ]
  }
 ],
 "metadata": {
  "kernelspec": {
   "display_name": "Scribio",
   "language": "python",
   "name": "python3"
  },
  "language_info": {
   "codemirror_mode": {
    "name": "ipython",
    "version": 3
   },
   "file_extension": ".py",
   "mimetype": "text/x-python",
   "name": "python",
   "nbconvert_exporter": "python",
   "pygments_lexer": "ipython3",
   "version": "3.11.4"
  }
 },
 "nbformat": 4,
 "nbformat_minor": 5
}
