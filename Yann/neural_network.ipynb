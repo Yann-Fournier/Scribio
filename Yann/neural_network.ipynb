{
 "cells": [
  {
   "cell_type": "code",
   "execution_count": 16,
   "id": "initial_id",
   "metadata": {
    "ExecuteTime": {
     "end_time": "2024-12-02T15:39:15.743926Z",
     "start_time": "2024-12-02T15:39:15.736806Z"
    },
    "collapsed": true
   },
   "outputs": [],
   "source": [
    "import pandas as pd\n",
    "import matplotlib.pyplot as plt\n",
    "import seaborn as sns\n",
    "import numpy as np\n",
    "from pymongo import MongoClient\n",
    "import tensorflow as tf\n",
    "from tensorflow import keras"
   ]
  },
  {
   "cell_type": "code",
   "execution_count": 18,
   "id": "ce99688d",
   "metadata": {},
   "outputs": [],
   "source": [
    "# Connexion à MongoDB\n",
    "client = MongoClient(\"mongodb://localhost:27017/Scibio\")  # Remplacez par l'URL de votre serveur MongoDB\n",
    "db = client[\"Scribio\"]  # Nom de la base de données\n",
    "collection = db[\"Dataset\"]  # Nom de la collection\n",
    "# Temps : 0.0s"
   ]
  },
  {
   "cell_type": "code",
   "execution_count": null,
   "id": "cf8e9ec3",
   "metadata": {},
   "outputs": [],
   "source": [
    "# Récupérer le df d'entrainement depuis MongoDB\n",
    "document_recupere = collection.find({\"Repartition\": \"train\"}) # Récupérer les documents de la collection 'train'\n",
    "df_train_mongoDB = pd.DataFrame(list(document_recupere)) # Convertir le curseur en DataFrame\n",
    "df_train_mongoDB = df_train_mongoDB.drop(columns=[\"_id\"]) # Supprimer la colonne _id\n",
    "df_train = df_train_mongoDB.sample(frac=1).reset_index(drop=True) # Mélanger les données + Reindexer\n",
    "print(df_train.shape) # ()\n",
    "df_train.head()\n",
    "# Temps : "
   ]
  },
  {
   "cell_type": "code",
   "execution_count": 21,
   "id": "fdda2fb1",
   "metadata": {},
   "outputs": [
    {
     "name": "stdout",
     "output_type": "stream",
     "text": [
      "<class 'list'>\n",
      "(3, 5)\n"
     ]
    },
    {
     "data": {
      "text/html": [
       "<div>\n",
       "<style scoped>\n",
       "    .dataframe tbody tr th:only-of-type {\n",
       "        vertical-align: middle;\n",
       "    }\n",
       "\n",
       "    .dataframe tbody tr th {\n",
       "        vertical-align: top;\n",
       "    }\n",
       "\n",
       "    .dataframe thead th {\n",
       "        text-align: right;\n",
       "    }\n",
       "</style>\n",
       "<table border=\"1\" class=\"dataframe\">\n",
       "  <thead>\n",
       "    <tr style=\"text-align: right;\">\n",
       "      <th></th>\n",
       "      <th>_id</th>\n",
       "      <th>Label</th>\n",
       "      <th>Repartition</th>\n",
       "      <th>Chemin</th>\n",
       "      <th>Tableau_Pixels</th>\n",
       "    </tr>\n",
       "  </thead>\n",
       "  <tbody>\n",
       "    <tr>\n",
       "      <th>0</th>\n",
       "      <td>677fde52eaf2499095e8df9a</td>\n",
       "      <td>A</td>\n",
       "      <td>test</td>\n",
       "      <td>../Dataset/dataset/test/A/001452.png</td>\n",
       "      <td>[0.0, 0.0, 0.0, 0.0, 0.0, 0.0, 0.0, 0.0, 0.0, ...</td>\n",
       "    </tr>\n",
       "    <tr>\n",
       "      <th>1</th>\n",
       "      <td>677fde54eaf2499095e8df9b</td>\n",
       "      <td>B</td>\n",
       "      <td>test</td>\n",
       "      <td>../Dataset/dataset/test/B/000876.png</td>\n",
       "      <td>[0.0, 0.0, 0.0, 0.0, 0.0, 0.0, 0.0, 0.0, 0.0, ...</td>\n",
       "    </tr>\n",
       "    <tr>\n",
       "      <th>2</th>\n",
       "      <td>677fde67eaf2499095e8df9c</td>\n",
       "      <td>C</td>\n",
       "      <td>test</td>\n",
       "      <td>../Dataset/dataset/test/C/002302.png</td>\n",
       "      <td>[0.0, 0.0, 0.0, 0.0, 0.0, 0.0, 0.0, 0.0, 0.0, ...</td>\n",
       "    </tr>\n",
       "  </tbody>\n",
       "</table>\n",
       "</div>"
      ],
      "text/plain": [
       "                        _id Label Repartition  \\\n",
       "0  677fde52eaf2499095e8df9a     A        test   \n",
       "1  677fde54eaf2499095e8df9b     B        test   \n",
       "2  677fde67eaf2499095e8df9c     C        test   \n",
       "\n",
       "                                 Chemin  \\\n",
       "0  ../Dataset/dataset/test/A/001452.png   \n",
       "1  ../Dataset/dataset/test/B/000876.png   \n",
       "2  ../Dataset/dataset/test/C/002302.png   \n",
       "\n",
       "                                      Tableau_Pixels  \n",
       "0  [0.0, 0.0, 0.0, 0.0, 0.0, 0.0, 0.0, 0.0, 0.0, ...  \n",
       "1  [0.0, 0.0, 0.0, 0.0, 0.0, 0.0, 0.0, 0.0, 0.0, ...  \n",
       "2  [0.0, 0.0, 0.0, 0.0, 0.0, 0.0, 0.0, 0.0, 0.0, ...  "
      ]
     },
     "execution_count": 21,
     "metadata": {},
     "output_type": "execute_result"
    }
   ],
   "source": [
    "# Récupérer le df de test depuis MongoDB\n",
    "document_recupere = collection.find({\"Repartition\": \"test\"}) # Récupérer les documents de la collection 'test'\n",
    "df_test_mongoDB = pd.DataFrame(list(document_recupere)) # Convertir le curseur en DataFrame\n",
    "df_test_mongoDB = df_test_mongoDB.drop(columns=[\"_id\"]) # Supprimer la colonne _id\n",
    "df_test = df_test_mongoDB.sample(frac=1).reset_index(drop=True) # Mélanger les données + Reindexer\n",
    "print(df_test.shape) # ()\n",
    "df_test.head()\n",
    "# Temps : "
   ]
  },
  {
   "cell_type": "code",
   "execution_count": 7,
   "id": "cde5c128",
   "metadata": {},
   "outputs": [],
   "source": [
    "# Transformation des colonnes des df en tableau numpy\n",
    "X_train = df_train['Tableau_Pixels']\n",
    "y_train = df_train['Label']\n",
    "X_test = df_test['Tableau_Pixels']\n",
    "y_test = df_test['Label']\n",
    "# Temps : "
   ]
  },
  {
   "cell_type": "code",
   "execution_count": null,
   "id": "684d35c3",
   "metadata": {},
   "outputs": [],
   "source": [
    "# Reseau de neurones\n",
    "model = keras.Sequential([\n",
    "    keras.layers(input_shape=(2500,)), # input layer\n",
    "    keras.layers.Dense(700, activation='relu'), # hidden layer\n",
    "    keras.layers.Dense(600, activation='relu'), # hidden layer\n",
    "    keras.layers.Dense(500, activation='relu'), # hidden layer\n",
    "    keras.layers.Dense(400, activation='relu'), # hidden layer\n",
    "    keras.layers.Dense(300, activation='relu'), # hidden layer\n",
    "    keras.layers.Dense(200, activation='relu'), # hidden layer\n",
    "    keras.layers.Dense(100, activation='relu'), # hidden layer\n",
    "    keras.layers.Dense(50, activation='relu'), # hidden layer\n",
    "    keras.layers.Dense(10, activation='sigmoid') # output layer\n",
    "])\n",
    "\n",
    "model.compile(\n",
    "    optimizer='adam',\n",
    "    loss='sparse_categorical_crossentropy',\n",
    "    metrics=['accuracy']\n",
    "  )"
   ]
  },
  {
   "cell_type": "code",
   "execution_count": null,
   "id": "0f3591d3",
   "metadata": {},
   "outputs": [],
   "source": [
    "model.fit(X_train, y_train, epochs=10)"
   ]
  },
  {
   "cell_type": "code",
   "execution_count": null,
   "id": "e8d21c2d",
   "metadata": {},
   "outputs": [],
   "source": [
    "# Sauvegarder le modèle\n",
    "model.save(\"../Scribio.h5\")  # Format HDF5 (.h5)"
   ]
  },
  {
   "cell_type": "code",
   "execution_count": null,
   "id": "3c7e8a14",
   "metadata": {},
   "outputs": [],
   "source": [
    "y_predicted = model.predict(X_test)\n",
    "y_predicted[1]"
   ]
  },
  {
   "cell_type": "code",
   "execution_count": null,
   "id": "5a255831",
   "metadata": {},
   "outputs": [],
   "source": [
    "np.argmax(y_predicted[1])"
   ]
  },
  {
   "cell_type": "code",
   "execution_count": null,
   "id": "be508530",
   "metadata": {},
   "outputs": [],
   "source": [
    "y_predicted_labels = [np.argmax(i) for i in y_predicted]\n",
    "y_predicted_labels[:5]"
   ]
  },
  {
   "cell_type": "code",
   "execution_count": null,
   "id": "886fbde4",
   "metadata": {},
   "outputs": [],
   "source": [
    "# Matrice de confusion\n",
    "cm = tf.math.confusion_matrix(labels=y_test, predictions=y_predicted_labels)\n",
    "plt.figure(figsize=(10, 7))\n",
    "sns.heatmap(cm, annot=True, fmt='d')\n",
    "plt.xlabel('Predicted')\n",
    "plt.ylabel('Truth')"
   ]
  }
 ],
 "metadata": {
  "kernelspec": {
   "display_name": "Scribio",
   "language": "python",
   "name": "python3"
  },
  "language_info": {
   "codemirror_mode": {
    "name": "ipython",
    "version": 3
   },
   "file_extension": ".py",
   "mimetype": "text/x-python",
   "name": "python",
   "nbconvert_exporter": "python",
   "pygments_lexer": "ipython3",
   "version": "3.11.4"
  }
 },
 "nbformat": 4,
 "nbformat_minor": 5
}
