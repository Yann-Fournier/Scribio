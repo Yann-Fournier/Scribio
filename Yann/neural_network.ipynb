{
 "cells": [
  {
   "cell_type": "code",
   "execution_count": 2,
   "id": "initial_id",
   "metadata": {
    "ExecuteTime": {
     "end_time": "2024-12-02T15:39:15.743926Z",
     "start_time": "2024-12-02T15:39:15.736806Z"
    },
    "collapsed": true
   },
   "outputs": [],
   "source": [
    "import pandas as pd\n",
    "import polars as pl\n",
    "import matplotlib.pyplot as plt\n",
    "import numpy as np\n",
    "import sqlite3\n",
    "import ast"
   ]
  },
  {
   "cell_type": "code",
   "execution_count": 3,
   "id": "c0e2bf5f",
   "metadata": {},
   "outputs": [],
   "source": [
    "# Connexion à la base de données SQLite (création si elle n'existe pas)\n",
    "conn = sqlite3.connect('../Dataset/dataset.db')\n",
    "cursor = conn.cursor()"
   ]
  },
  {
   "cell_type": "code",
   "execution_count": null,
   "id": "17a405f1",
   "metadata": {},
   "outputs": [
    {
     "name": "stdout",
     "output_type": "stream",
     "text": [
      "(487227, 4)\n"
     ]
    },
    {
     "data": {
      "text/html": [
       "<div>\n",
       "<style scoped>\n",
       "    .dataframe tbody tr th:only-of-type {\n",
       "        vertical-align: middle;\n",
       "    }\n",
       "\n",
       "    .dataframe tbody tr th {\n",
       "        vertical-align: top;\n",
       "    }\n",
       "\n",
       "    .dataframe thead th {\n",
       "        text-align: right;\n",
       "    }\n",
       "</style>\n",
       "<table border=\"1\" class=\"dataframe\">\n",
       "  <thead>\n",
       "    <tr style=\"text-align: right;\">\n",
       "      <th></th>\n",
       "      <th>Label</th>\n",
       "      <th>Repartition</th>\n",
       "      <th>Chemin</th>\n",
       "      <th>Tableau_Pixels</th>\n",
       "    </tr>\n",
       "    <tr>\n",
       "      <th>id</th>\n",
       "      <th></th>\n",
       "      <th></th>\n",
       "      <th></th>\n",
       "      <th></th>\n",
       "    </tr>\n",
       "  </thead>\n",
       "  <tbody>\n",
       "    <tr>\n",
       "      <th>43122</th>\n",
       "      <td>A</td>\n",
       "      <td>train</td>\n",
       "      <td>../Dataset/dataset/train/A/000000.png</td>\n",
       "      <td>[0.        ,0.        ,0.        ,0.        ,0...</td>\n",
       "    </tr>\n",
       "    <tr>\n",
       "      <th>43123</th>\n",
       "      <td>A</td>\n",
       "      <td>train</td>\n",
       "      <td>../Dataset/dataset/train/A/000001.png</td>\n",
       "      <td>[0.        ,0.        ,0.        ,0.        ,0...</td>\n",
       "    </tr>\n",
       "    <tr>\n",
       "      <th>43124</th>\n",
       "      <td>A</td>\n",
       "      <td>train</td>\n",
       "      <td>../Dataset/dataset/train/A/000002.png</td>\n",
       "      <td>[0.        ,0.        ,0.        ,0.        ,0...</td>\n",
       "    </tr>\n",
       "    <tr>\n",
       "      <th>43125</th>\n",
       "      <td>A</td>\n",
       "      <td>train</td>\n",
       "      <td>../Dataset/dataset/train/A/000003.png</td>\n",
       "      <td>[0.        ,0.        ,0.        ,0.        ,0...</td>\n",
       "    </tr>\n",
       "    <tr>\n",
       "      <th>43126</th>\n",
       "      <td>A</td>\n",
       "      <td>train</td>\n",
       "      <td>../Dataset/dataset/train/A/000004.png</td>\n",
       "      <td>[0.        ,0.        ,0.        ,0.        ,0...</td>\n",
       "    </tr>\n",
       "  </tbody>\n",
       "</table>\n",
       "</div>"
      ],
      "text/plain": [
       "      Label Repartition                                 Chemin  \\\n",
       "id                                                               \n",
       "43122     A       train  ../Dataset/dataset/train/A/000000.png   \n",
       "43123     A       train  ../Dataset/dataset/train/A/000001.png   \n",
       "43124     A       train  ../Dataset/dataset/train/A/000002.png   \n",
       "43125     A       train  ../Dataset/dataset/train/A/000003.png   \n",
       "43126     A       train  ../Dataset/dataset/train/A/000004.png   \n",
       "\n",
       "                                          Tableau_Pixels  \n",
       "id                                                        \n",
       "43122  [0.        ,0.        ,0.        ,0.        ,0...  \n",
       "43123  [0.        ,0.        ,0.        ,0.        ,0...  \n",
       "43124  [0.        ,0.        ,0.        ,0.        ,0...  \n",
       "43125  [0.        ,0.        ,0.        ,0.        ,0...  \n",
       "43126  [0.        ,0.        ,0.        ,0.        ,0...  "
      ]
     },
     "execution_count": 8,
     "metadata": {},
     "output_type": "execute_result"
    }
   ],
   "source": [
    "df_train = pd.read_sql_query(\n",
    "    sql=\"SELECT * FROM Photo WHERE Repartition LIKE 'train';\",\n",
    "    con=conn,\n",
    "    index_col='id'\n",
    ")\n",
    "\n",
    "print(df_train.shape) # (487_227, 4)\n",
    "df_train.head()\n",
    "# Temps : 49.5s"
   ]
  },
  {
   "cell_type": "code",
   "execution_count": 9,
   "id": "5bf424cd",
   "metadata": {},
   "outputs": [
    {
     "name": "stdout",
     "output_type": "stream",
     "text": [
      "OK 1\n",
      "OK 2\n"
     ]
    }
   ],
   "source": [
    "# Conversion des valeurs de la colonne Tableau_Pixels en tableau numpy\n",
    "# truc = pl.from_pandas(df_train)\n",
    "print(\"OK 1\") # 1m 22.1s\n",
    "\n",
    "# Apply une fonction sur une colonne\n",
    "# serie = truc.map_rows(lambda x: np.array(ast.literal_eval(x[\"Tableau_Pixels\"][1])))\n",
    "# print(serie) #:\n",
    "# truc = truc.with_columns(pl.Series(\"Tableau_Pixels\", serie))\n",
    "print(\"OK 2\") # \n",
    "# df_train[\"Tableau_Pixels\"] = df_train[\"Tableau_Pixels\"].apply(lambda x: np.array(eval(x)))\n",
    "# Temps : arrêté après 34m"
   ]
  },
  {
   "cell_type": "code",
   "execution_count": 10,
   "id": "a59bad21",
   "metadata": {},
   "outputs": [
    {
     "name": "stdout",
     "output_type": "stream",
     "text": [
      "(155489, 4)\n"
     ]
    },
    {
     "data": {
      "text/html": [
       "<div>\n",
       "<style scoped>\n",
       "    .dataframe tbody tr th:only-of-type {\n",
       "        vertical-align: middle;\n",
       "    }\n",
       "\n",
       "    .dataframe tbody tr th {\n",
       "        vertical-align: top;\n",
       "    }\n",
       "\n",
       "    .dataframe thead th {\n",
       "        text-align: right;\n",
       "    }\n",
       "</style>\n",
       "<table border=\"1\" class=\"dataframe\">\n",
       "  <thead>\n",
       "    <tr style=\"text-align: right;\">\n",
       "      <th></th>\n",
       "      <th>Label</th>\n",
       "      <th>Repartition</th>\n",
       "      <th>Chemin</th>\n",
       "      <th>Tableau_Pixels</th>\n",
       "    </tr>\n",
       "    <tr>\n",
       "      <th>id</th>\n",
       "      <th></th>\n",
       "      <th></th>\n",
       "      <th></th>\n",
       "      <th></th>\n",
       "    </tr>\n",
       "  </thead>\n",
       "  <tbody>\n",
       "    <tr>\n",
       "      <th>1</th>\n",
       "      <td>A</td>\n",
       "      <td>test</td>\n",
       "      <td>../Dataset/dataset/test/A/000000.png</td>\n",
       "      <td>[0.        ,0.        ,0.        ,0.        ,0...</td>\n",
       "    </tr>\n",
       "    <tr>\n",
       "      <th>2</th>\n",
       "      <td>A</td>\n",
       "      <td>test</td>\n",
       "      <td>../Dataset/dataset/test/A/000001.png</td>\n",
       "      <td>[0.        ,0.        ,0.        ,0.        ,0...</td>\n",
       "    </tr>\n",
       "    <tr>\n",
       "      <th>3</th>\n",
       "      <td>A</td>\n",
       "      <td>test</td>\n",
       "      <td>../Dataset/dataset/test/A/000002.png</td>\n",
       "      <td>[0.        ,0.        ,0.        ,0.        ,0...</td>\n",
       "    </tr>\n",
       "    <tr>\n",
       "      <th>4</th>\n",
       "      <td>A</td>\n",
       "      <td>test</td>\n",
       "      <td>../Dataset/dataset/test/A/000003.png</td>\n",
       "      <td>[0.        ,0.        ,0.        ,0.        ,0...</td>\n",
       "    </tr>\n",
       "    <tr>\n",
       "      <th>5</th>\n",
       "      <td>A</td>\n",
       "      <td>test</td>\n",
       "      <td>../Dataset/dataset/test/A/000004.png</td>\n",
       "      <td>[0.        ,0.        ,0.        ,0.        ,0...</td>\n",
       "    </tr>\n",
       "  </tbody>\n",
       "</table>\n",
       "</div>"
      ],
      "text/plain": [
       "   Label Repartition                                Chemin  \\\n",
       "id                                                           \n",
       "1      A        test  ../Dataset/dataset/test/A/000000.png   \n",
       "2      A        test  ../Dataset/dataset/test/A/000001.png   \n",
       "3      A        test  ../Dataset/dataset/test/A/000002.png   \n",
       "4      A        test  ../Dataset/dataset/test/A/000003.png   \n",
       "5      A        test  ../Dataset/dataset/test/A/000004.png   \n",
       "\n",
       "                                       Tableau_Pixels  \n",
       "id                                                     \n",
       "1   [0.        ,0.        ,0.        ,0.        ,0...  \n",
       "2   [0.        ,0.        ,0.        ,0.        ,0...  \n",
       "3   [0.        ,0.        ,0.        ,0.        ,0...  \n",
       "4   [0.        ,0.        ,0.        ,0.        ,0...  \n",
       "5   [0.        ,0.        ,0.        ,0.        ,0...  "
      ]
     },
     "execution_count": 10,
     "metadata": {},
     "output_type": "execute_result"
    }
   ],
   "source": [
    "df_test = pd.read_sql_query(\n",
    "    sql=\"SELECT * FROM Photo WHERE Repartition LIKE 'test'\",\n",
    "    con=conn,\n",
    "    index_col='id'\n",
    ")\n",
    "\n",
    "print(df_test.shape) # (155_489, 4)\n",
    "df_test.head() # Affiche les 5 premières lignes\n",
    "# Temps : 1m 7.4s"
   ]
  },
  {
   "cell_type": "code",
   "execution_count": null,
   "id": "ad52aa68",
   "metadata": {},
   "outputs": [],
   "source": [
    "# Conversion des valeurs de la colonne Tableau_Pixels en tableau numpy\n",
    "df_test[\"Tableau_Pixels\"] = df_test[\"Tableau_Pixels\"].apply(lambda x: np.array(eval(x)))\n",
    "# Temps :"
   ]
  },
  {
   "cell_type": "code",
   "execution_count": null,
   "id": "cde5c128",
   "metadata": {},
   "outputs": [],
   "source": [
    "# Transformation des colonnes des df en tableau numpy\n",
    "X_train = df_train[\"Tableau_Pixels\"].to_numpy() # <class 'numpy.ndarray'> - (487227,)\n",
    "y_train = df_train[\"Label\"].to_numpy() # <class 'numpy.ndarray'> - (487227,)\n",
    "X_test = df_test[\"Tableau_Pixels\"].to_numpy() # <class 'numpy.ndarray'> - (155489,)\n",
    "y_test = df_test[\"Label\"].to_numpy() # <class 'numpy.ndarray'> - (155489,)\n",
    "# Temps : 0.0s"
   ]
  },
  {
   "cell_type": "code",
   "execution_count": null,
   "id": "f8e4a8b0",
   "metadata": {},
   "outputs": [
    {
     "name": "stderr",
     "output_type": "stream",
     "text": [
      "Exception ignored in: <bound method IPythonKernel._clean_thread_parent_frames of <ipykernel.ipkernel.IPythonKernel object at 0x0000023401EBD510>>\n",
      "Traceback (most recent call last):\n",
      "  File \"c:\\Users\\yfour\\Documents\\EnvsPython\\Scribio\\Lib\\site-packages\\ipykernel\\ipkernel.py\", line 790, in _clean_thread_parent_frames\n",
      "    active_threads = {thread.ident for thread in threading.enumerate()}\n",
      "                                                 ^^^^^^^^^^^^^^^^^^^^^\n",
      "  File \"C:\\Users\\yfour\\AppData\\Local\\Programs\\Python\\Python311\\Lib\\threading.py\", line 1494, in enumerate\n",
      "    def enumerate():\n",
      "    \n",
      "KeyboardInterrupt: \n"
     ]
    }
   ],
   "source": [
    "converted_X_train = np.array([np.array(ast.literal_eval(item)) for item in X_train])\n",
    "converted_X_test = np.array([np.array(ast.literal_eval(item)) for item in X_test])\n",
    "# Temps : arrêté après 7m 30s"
   ]
  },
  {
   "cell_type": "code",
   "execution_count": null,
   "id": "7a98e828",
   "metadata": {},
   "outputs": [],
   "source": [
    "print(converted_X_train.shape) # \n",
    "print(converted_X_test.shape) # "
   ]
  },
  {
   "cell_type": "code",
   "execution_count": null,
   "id": "83bf5f94",
   "metadata": {},
   "outputs": [
    {
     "name": "stdout",
     "output_type": "stream",
     "text": [
      "(487227,)\n",
      "(487227,)\n",
      "(155489,)\n",
      "(155489,)\n"
     ]
    }
   ],
   "source": [
    "print(X_train.shape) \n",
    "print(y_train.shape) # <class 'numpy.ndarray'>\n",
    "print(X_test.shape) # <class 'numpy.ndarray'>\n",
    "print(y_test.shape) # <class 'numpy.ndarray'>"
   ]
  },
  {
   "cell_type": "code",
   "execution_count": null,
   "id": "1d092ad6",
   "metadata": {},
   "outputs": [
    {
     "name": "stdout",
     "output_type": "stream",
     "text": [
      "(2500,)\n"
     ]
    }
   ],
   "source": [
    "array_numpy = np.array(eval(df_test[\"Tableau_Pixels\"][1]))\n",
    "print(array_numpy.shape)"
   ]
  },
  {
   "cell_type": "code",
   "execution_count": null,
   "id": "f5b61237",
   "metadata": {},
   "outputs": [
    {
     "name": "stdout",
     "output_type": "stream",
     "text": [
      "(50, 50)\n"
     ]
    }
   ],
   "source": [
    "array_numpy_2d = array_numpy.reshape(50, 50)\n",
    "print(array_numpy_2d.shape)"
   ]
  },
  {
   "cell_type": "code",
   "execution_count": null,
   "id": "6622890b",
   "metadata": {},
   "outputs": [
    {
     "data": {
      "text/plain": [
       "<matplotlib.image.AxesImage at 0x234dc30f510>"
      ]
     },
     "execution_count": 9,
     "metadata": {},
     "output_type": "execute_result"
    },
    {
     "data": {
      "image/png": "[encoded data removed]",
      "text/plain": [
       "<Figure size 640x480 with 1 Axes>"
      ]
     },
     "metadata": {},
     "output_type": "display_data"
    }
   ],
   "source": [
    "plt.imshow(array_numpy_2d)"
   ]
  },
  {
   "cell_type": "code",
   "execution_count": null,
   "id": "1cb2c6cc",
   "metadata": {},
   "outputs": [],
   "source": [
    "conn.close()"
   ]
  }
 ],
 "metadata": {
  "kernelspec": {
   "display_name": "Scribio",
   "language": "python",
   "name": "python3"
  },
  "language_info": {
   "codemirror_mode": {
    "name": "ipython",
    "version": 3
   },
   "file_extension": ".py",
   "mimetype": "text/x-python",
   "name": "python",
   "nbconvert_exporter": "python",
   "pygments_lexer": "ipython3",
   "version": "3.11.4"
  }
 },
 "nbformat": 4,
 "nbformat_minor": 5
}
