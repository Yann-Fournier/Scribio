{
 "cells": [
  {
   "cell_type": "code",
   "id": "initial_id",
   "metadata": {
    "collapsed": true,
    "ExecuteTime": {
     "end_time": "2024-12-02T15:39:15.743926Z",
     "start_time": "2024-12-02T15:39:15.736806Z"
    }
   },
   "source": [
    "import pandas as pd\n",
    "import matplotlib.pyplot as plt\n",
    "import numpy as np\n",
    "import ast"
   ],
   "outputs": [],
   "execution_count": 38
  },
  {
   "metadata": {
    "ExecuteTime": {
     "end_time": "2024-12-02T15:39:56.165441Z",
     "start_time": "2024-12-02T15:39:56.098737Z"
    }
   },
   "cell_type": "code",
   "source": [
    "df_train = pd.read_csv('../Dataset/concat_data_train.csv', sep=';')\n",
    "# df_train[\"Photo\"] = df_train[\"Photo\"].apply(lambda x: np.array(ast.literal_eval(x)))\n",
    "# print(type(df_train.iloc[0][\"Photo\"]))\n",
    "print(df_train.iloc[0][\"Photo\"])\n",
    "# df_train.head()"
   ],
   "id": "25a3755143d8a0ef",
   "outputs": [
    {
     "name": "stdout",
     "output_type": "stream",
     "text": [
      "[[0. 0. 0. ... 0. 0. 0.]\n",
      " [0. 0. 0. ... 0. 0. 0.]\n",
      " [0. 0. 0. ... 0. 0. 0.]\n",
      " ...\n",
      " [0. 0. 0. ... 0. 0. 0.]\n",
      " [0. 0. 0. ... 0. 0. 0.]\n",
      " [0. 0. 0. ... 0. 0. 0.]]\n"
     ]
    }
   ],
   "execution_count": 40
  },
  {
   "metadata": {
    "ExecuteTime": {
     "end_time": "2024-12-02T15:26:36.933712Z",
     "start_time": "2024-12-02T15:26:36.914494Z"
    }
   },
   "cell_type": "code",
   "source": "plt.matshow(df_train.iloc[0][\"Photo\"])",
   "id": "a3778add643ad3e0",
   "outputs": [
    {
     "ename": "ValueError",
     "evalue": "not enough values to unpack (expected 2, got 0)",
     "output_type": "error",
     "traceback": [
      "\u001B[1;31m---------------------------------------------------------------------------\u001B[0m",
      "\u001B[1;31mValueError\u001B[0m                                Traceback (most recent call last)",
      "Cell \u001B[1;32mIn[28], line 1\u001B[0m\n\u001B[1;32m----> 1\u001B[0m \u001B[43mplt\u001B[49m\u001B[38;5;241;43m.\u001B[39;49m\u001B[43mmatshow\u001B[49m\u001B[43m(\u001B[49m\u001B[43mdf_train\u001B[49m\u001B[38;5;241;43m.\u001B[39;49m\u001B[43miloc\u001B[49m\u001B[43m[\u001B[49m\u001B[38;5;241;43m0\u001B[39;49m\u001B[43m]\u001B[49m\u001B[43m[\u001B[49m\u001B[38;5;124;43m\"\u001B[39;49m\u001B[38;5;124;43mPhoto\u001B[39;49m\u001B[38;5;124;43m\"\u001B[39;49m\u001B[43m]\u001B[49m\u001B[43m)\u001B[49m\n",
      "File \u001B[1;32m~\\Documents\\EnvsPython\\Scribio\\Lib\\site-packages\\matplotlib\\pyplot.py:2444\u001B[0m, in \u001B[0;36mmatshow\u001B[1;34m(A, fignum, **kwargs)\u001B[0m\n\u001B[0;32m   2440\u001B[0m     ax \u001B[38;5;241m=\u001B[39m gca()\n\u001B[0;32m   2441\u001B[0m \u001B[38;5;28;01melse\u001B[39;00m:\n\u001B[0;32m   2442\u001B[0m     \u001B[38;5;66;03m# Extract actual aspect ratio of array and make appropriately sized\u001B[39;00m\n\u001B[0;32m   2443\u001B[0m     \u001B[38;5;66;03m# figure.\u001B[39;00m\n\u001B[1;32m-> 2444\u001B[0m     fig \u001B[38;5;241m=\u001B[39m figure(fignum, figsize\u001B[38;5;241m=\u001B[39m\u001B[43mfigaspect\u001B[49m\u001B[43m(\u001B[49m\u001B[43mA\u001B[49m\u001B[43m)\u001B[49m)\n\u001B[0;32m   2445\u001B[0m     ax \u001B[38;5;241m=\u001B[39m fig\u001B[38;5;241m.\u001B[39madd_axes((\u001B[38;5;241m0.15\u001B[39m, \u001B[38;5;241m0.09\u001B[39m, \u001B[38;5;241m0.775\u001B[39m, \u001B[38;5;241m0.775\u001B[39m))\n\u001B[0;32m   2446\u001B[0m im \u001B[38;5;241m=\u001B[39m ax\u001B[38;5;241m.\u001B[39mmatshow(A, \u001B[38;5;241m*\u001B[39m\u001B[38;5;241m*\u001B[39mkwargs)\n",
      "File \u001B[1;32m~\\Documents\\EnvsPython\\Scribio\\Lib\\site-packages\\matplotlib\\figure.py:3606\u001B[0m, in \u001B[0;36mfigaspect\u001B[1;34m(arg)\u001B[0m\n\u001B[0;32m   3604\u001B[0m \u001B[38;5;66;03m# Extract the aspect ratio of the array\u001B[39;00m\n\u001B[0;32m   3605\u001B[0m \u001B[38;5;28;01mif\u001B[39;00m isarray:\n\u001B[1;32m-> 3606\u001B[0m     nr, nc \u001B[38;5;241m=\u001B[39m arg\u001B[38;5;241m.\u001B[39mshape[:\u001B[38;5;241m2\u001B[39m]\n\u001B[0;32m   3607\u001B[0m     arr_ratio \u001B[38;5;241m=\u001B[39m nr \u001B[38;5;241m/\u001B[39m nc\n\u001B[0;32m   3608\u001B[0m \u001B[38;5;28;01melse\u001B[39;00m:\n",
      "\u001B[1;31mValueError\u001B[0m: not enough values to unpack (expected 2, got 0)"
     ]
    }
   ],
   "execution_count": 28
  },
  {
   "metadata": {
    "ExecuteTime": {
     "end_time": "2024-12-02T15:18:20.228496Z",
     "start_time": "2024-12-02T15:18:20.191272Z"
    }
   },
   "cell_type": "code",
   "source": [
    "df_test = pd.read_csv('../Dataset/concat_data_test.csv')\n",
    "df_test.head()"
   ],
   "id": "758275b60d835d84",
   "outputs": [
    {
     "data": {
      "text/plain": [
       "                              Photo;Label;Separation\n",
       "0  [[0. 0. 0. ... 0. 0. 0.]\\n [0. 0. 0. ... 0. 0....\n",
       "1  [[0. 0. 0. ... 0. 0. 0.]\\n [0. 0. 0. ... 0. 0....\n",
       "2  [[0. 0. 0. ... 0. 0. 0.]\\n [0. 0. 0. ... 0. 0....\n",
       "3  [[0. 0. 0. ... 0. 0. 0.]\\n [0. 0. 0. ... 0. 0....\n",
       "4  [[0. 0. 0. ... 0. 0. 0.]\\n [0. 0. 0. ... 0. 0...."
      ],
      "text/html": [
       "<div>\n",
       "<style scoped>\n",
       "    .dataframe tbody tr th:only-of-type {\n",
       "        vertical-align: middle;\n",
       "    }\n",
       "\n",
       "    .dataframe tbody tr th {\n",
       "        vertical-align: top;\n",
       "    }\n",
       "\n",
       "    .dataframe thead th {\n",
       "        text-align: right;\n",
       "    }\n",
       "</style>\n",
       "<table border=\"1\" class=\"dataframe\">\n",
       "  <thead>\n",
       "    <tr style=\"text-align: right;\">\n",
       "      <th></th>\n",
       "      <th>Photo;Label;Separation</th>\n",
       "    </tr>\n",
       "  </thead>\n",
       "  <tbody>\n",
       "    <tr>\n",
       "      <th>0</th>\n",
       "      <td>[[0. 0. 0. ... 0. 0. 0.]\\n [0. 0. 0. ... 0. 0....</td>\n",
       "    </tr>\n",
       "    <tr>\n",
       "      <th>1</th>\n",
       "      <td>[[0. 0. 0. ... 0. 0. 0.]\\n [0. 0. 0. ... 0. 0....</td>\n",
       "    </tr>\n",
       "    <tr>\n",
       "      <th>2</th>\n",
       "      <td>[[0. 0. 0. ... 0. 0. 0.]\\n [0. 0. 0. ... 0. 0....</td>\n",
       "    </tr>\n",
       "    <tr>\n",
       "      <th>3</th>\n",
       "      <td>[[0. 0. 0. ... 0. 0. 0.]\\n [0. 0. 0. ... 0. 0....</td>\n",
       "    </tr>\n",
       "    <tr>\n",
       "      <th>4</th>\n",
       "      <td>[[0. 0. 0. ... 0. 0. 0.]\\n [0. 0. 0. ... 0. 0....</td>\n",
       "    </tr>\n",
       "  </tbody>\n",
       "</table>\n",
       "</div>"
      ]
     },
     "execution_count": 3,
     "metadata": {},
     "output_type": "execute_result"
    }
   ],
   "execution_count": 3
  },
  {
   "metadata": {
    "ExecuteTime": {
     "end_time": "2024-12-02T15:18:27.820429Z",
     "start_time": "2024-12-02T15:18:27.813770Z"
    }
   },
   "cell_type": "code",
   "source": [
    "df_validation = pd.read_csv('../Dataset/concat_data_validation.csv')\n",
    "df_validation .head()"
   ],
   "id": "c41912f0e432589f",
   "outputs": [
    {
     "data": {
      "text/plain": [
       "Empty DataFrame\n",
       "Columns: [Photo;Label;Separation]\n",
       "Index: []"
      ],
      "text/html": [
       "<div>\n",
       "<style scoped>\n",
       "    .dataframe tbody tr th:only-of-type {\n",
       "        vertical-align: middle;\n",
       "    }\n",
       "\n",
       "    .dataframe tbody tr th {\n",
       "        vertical-align: top;\n",
       "    }\n",
       "\n",
       "    .dataframe thead th {\n",
       "        text-align: right;\n",
       "    }\n",
       "</style>\n",
       "<table border=\"1\" class=\"dataframe\">\n",
       "  <thead>\n",
       "    <tr style=\"text-align: right;\">\n",
       "      <th></th>\n",
       "      <th>Photo;Label;Separation</th>\n",
       "    </tr>\n",
       "  </thead>\n",
       "  <tbody>\n",
       "  </tbody>\n",
       "</table>\n",
       "</div>"
      ]
     },
     "execution_count": 5,
     "metadata": {},
     "output_type": "execute_result"
    }
   ],
   "execution_count": 5
  },
  {
   "metadata": {
    "ExecuteTime": {
     "end_time": "2024-12-02T15:35:00.389123Z",
     "start_time": "2024-12-02T15:35:00.384448Z"
    }
   },
   "cell_type": "code",
   "source": [
    "truc = np.array([[3, 4, 5], [2, 3, 4]])\n",
    "truc"
   ],
   "id": "8af64b21b5241e05",
   "outputs": [
    {
     "data": {
      "text/plain": [
       "array([[3, 4, 5],\n",
       "       [2, 3, 4]])"
      ]
     },
     "execution_count": 37,
     "metadata": {},
     "output_type": "execute_result"
    }
   ],
   "execution_count": 37
  },
  {
   "metadata": {},
   "cell_type": "code",
   "outputs": [],
   "execution_count": null,
   "source": "",
   "id": "3c91506031ad8085"
  }
 ],
 "metadata": {
  "kernelspec": {
   "display_name": "Python 3",
   "language": "python",
   "name": "python3"
  },
  "language_info": {
   "codemirror_mode": {
    "name": "ipython",
    "version": 2
   },
   "file_extension": ".py",
   "mimetype": "text/x-python",
   "name": "python",
   "nbconvert_exporter": "python",
   "pygments_lexer": "ipython2",
   "version": "2.7.6"
  }
 },
 "nbformat": 4,
 "nbformat_minor": 5
}
