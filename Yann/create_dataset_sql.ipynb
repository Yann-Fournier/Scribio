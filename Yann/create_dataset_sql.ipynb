{
 "cells": [
  {
   "cell_type": "code",
   "execution_count": 24,
   "id": "initial_id",
   "metadata": {
    "ExecuteTime": {
     "end_time": "2024-12-03T08:20:21.865116Z",
     "start_time": "2024-12-03T08:20:21.862660Z"
    },
    "collapsed": true
   },
   "outputs": [],
   "source": [
    "from IPython.display import clear_output # clear output\n",
    "from PIL import Image # image processing\n",
    "import numpy as np # linear algebra\n",
    "from tqdm import tqdm # progress bar\n",
    "import os # file handling\n",
    "import sqlite3 # database\n",
    "from pymongo import MongoClient"
   ]
  },
  {
   "cell_type": "code",
   "execution_count": null,
   "id": "32007105",
   "metadata": {},
   "outputs": [],
   "source": [
    "# Connexion à la base de données SQLite (création si elle n'existe pas)\n",
    "conn = sqlite3.connect('../Dataset/dataset.db')\n",
    "cursor = conn.cursor()"
   ]
  },
  {
   "cell_type": "code",
   "execution_count": 26,
   "id": "13bbf1c8",
   "metadata": {},
   "outputs": [],
   "source": [
    "# Suppression de la table photo si elle existe\n",
    "# Si besoin de reset la table photo\n",
    "# cursor.execute(\"DROP TABLE IF EXISTS Photo;\")"
   ]
  },
  {
   "cell_type": "code",
   "execution_count": 27,
   "id": "5229259c",
   "metadata": {},
   "outputs": [
    {
     "data": {
      "text/plain": [
       "<sqlite3.Cursor at 0x164969ab040>"
      ]
     },
     "execution_count": 27,
     "metadata": {},
     "output_type": "execute_result"
    }
   ],
   "source": [
    "# Création de la table avec les infos des photos\n",
    "cursor.execute('''\n",
    "CREATE TABLE IF NOT EXISTS Photo (\n",
    "    id INTEGER PRIMARY KEY AUTOINCREMENT,\n",
    "    Label VARCHAR(1),\n",
    "    Repartition VARCHAR(10),\n",
    "    Chemin VARCHAR(100),\n",
    "    Tableau_Pixels TEXT\n",
    ")\n",
    "''')"
   ]
  },
  {
   "cell_type": "code",
   "execution_count": 28,
   "id": "7d63f55b8de13337",
   "metadata": {
    "ExecuteTime": {
     "end_time": "2024-12-03T08:20:21.892788Z",
     "start_time": "2024-12-03T08:20:21.887007Z"
    }
   },
   "outputs": [],
   "source": [
    "# Transformation des photos en dataframe\n",
    "def photo_to_dataframe(chemins_photos: str):\n",
    "    \"\"\"Transforme les photos en tableau de pixels et les sauvegarde dans un fichier csv\n",
    "\n",
    "    Args:\n",
    "        chemins_photos (str): Chemin des photos (on veut le dossier contenant les photos)\n",
    "        label (str): label de la photo (ce qui va être prédit)\n",
    "        separation (str): séparation des données (train, test, validation)\n",
    "    \"\"\"\n",
    "    \n",
    "    # Split du chemin pour recupérer les informations\n",
    "    chemin_split = chemins_photos[0].split(\"\\\\\")\n",
    "    \n",
    "    # Affichage des dossiers en cours de traitement \n",
    "    print(\"..\\\\\" + chemin_split[1]) # Dataset\n",
    "    print(\"   \\\\\" + chemin_split[2]) # dataset, datasetDigit, datasetSmall\n",
    "    print(\"    \\\\\" + chemin_split[3]) # Répartition : test, train, validation\n",
    "    print(\"     \\\\\" + chemin_split[4]) # label (26 + 9 + 26)\n",
    "    \n",
    "    # Parcours et transformation des photos avec barre de progression \n",
    "    with tqdm(total=len(chemins_photos), desc=\"Proccessing\" , position=0, leave=True) as pbar:\n",
    "        for chemin in chemins_photos:\n",
    "            \n",
    "            pbar.set_postfix(img=chemin[-10:]) # Mettre à jour la barre de progression avec des informations supplémentaires\n",
    "            \n",
    "            img = Image.open(chemin) # 300 x 300\n",
    "            nouvelle_taille = (50, 50) # 2500 \n",
    "            img_redimensionnee = img.resize(nouvelle_taille) # Redimensionner l'image\n",
    "            nb_image = img_redimensionnee.convert('L') # Convertion en noir et blanc\n",
    "            \n",
    "            #  Récupération de la liste des pixels\n",
    "            tab = []\n",
    "            for i in range(nb_image.size[1]):\n",
    "                row = []\n",
    "                for y in range(nb_image.size[0]):\n",
    "                    # Récupérer la couleur du pixel\n",
    "                    row.append(nb_image.getpixel((y, i)))\n",
    "                tab.append(row)\n",
    "                \n",
    "            tab_numpy = np.array(tab) / 255 # mise à l'échelle des données\n",
    "            tab_numpy_flatten = tab_numpy.flatten() # Transformation en tableau 1D\n",
    "            tab_numpy_flatten_str = np.array2string(tab_numpy_flatten, separator=\",\", threshold=np.inf) # Transformation en string\n",
    "            \n",
    "            # insertion des données dans la base de données\n",
    "            cursor.execute('INSERT INTO Photo (Label, Repartition, Chemin, Tableau_Pixels) VALUES (?, ?, ?, ?)', (chemin_split[4], chemin_split[3], chemin.replace('\\\\', '/'), tab_numpy_flatten_str.replace('\\n', '')))\n",
    "                \n",
    "            pbar.update(1) # Mettre à jour la barre de progression\n",
    "    \n",
    "    conn.commit() # Validation de l'insertion des données \n",
    "    \n",
    "    clear_output()  # Effacer l'output précédent (sinon pb d'affichage de la barre de progression)"
   ]
  },
  {
   "cell_type": "code",
   "execution_count": 29,
   "id": "4a88b99a42ab249b",
   "metadata": {
    "ExecuteTime": {
     "end_time": "2024-12-03T08:20:21.902720Z",
     "start_time": "2024-12-03T08:20:21.898862Z"
    }
   },
   "outputs": [],
   "source": [
    "# Parcours des dossiers et sous-dossiers pour recréer le dataset (recursion)\n",
    "def recreate_dataset(chemin: str):\n",
    "    \"\"\"Réecriture du dataset: transformation des photos en tableau de pixels et les sauvegarde dans un fichier csv\n",
    "    Cette fonction est récursive et doit être executer sur un dossier contenant la même arborescence que le dossier ../Dataset\n",
    "\n",
    "    Args:\n",
    "        chemin (str): chemin du dataset\n",
    "    \"\"\"\n",
    "    dossiers = [f for f in os.listdir(chemin) if os.path.isdir(os.path.join(chemin, f))]\n",
    "    if len(dossiers) == 0: # Si aucun dossier n'est trouvé, on est dans le cas de base\n",
    "        fichiers_png = [os.path.join(chemin, f) for f in os.listdir(chemin) if f.endswith('.png')] # on recupère et stocke les fichiers .png\n",
    "        photo_to_dataframe(fichiers_png) # On transforme les photos en tableau en df qu'on save dans une bdd\n",
    "    else : # Sinon, on continue de parcourir les dossiers\n",
    "        for dossier in dossiers:\n",
    "            recreate_dataset(os.path.join(chemin, dossier))"
   ]
  },
  {
   "cell_type": "code",
   "execution_count": null,
   "id": "18ac87b4473870f5",
   "metadata": {},
   "outputs": [],
   "source": [
    "# Appel de la fonction de parcours des dossiers\n",
    "recreate_dataset(\"..\\Dataset\")\n",
    "# Temps : 257m 45.6s -> 4h 17m 45.6s"
   ]
  },
  {
   "cell_type": "code",
   "execution_count": 31,
   "id": "2a2ca262",
   "metadata": {},
   "outputs": [],
   "source": [
    "conn.close() # Fermeture de la connexion à la base de données SQLite"
   ]
  }
 ],
 "metadata": {
  "kernelspec": {
   "display_name": "Scribio",
   "language": "python",
   "name": "python3"
  },
  "language_info": {
   "codemirror_mode": {
    "name": "ipython",
    "version": 3
   },
   "file_extension": ".py",
   "mimetype": "text/x-python",
   "name": "python",
   "nbconvert_exporter": "python",
   "pygments_lexer": "ipython3",
   "version": "3.11.4"
  }
 },
 "nbformat": 4,
 "nbformat_minor": 5
}
