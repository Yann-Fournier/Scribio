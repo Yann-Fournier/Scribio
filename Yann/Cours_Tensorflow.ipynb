{
 "cells": [
  {
   "metadata": {},
   "cell_type": "code",
   "outputs": [],
   "execution_count": null,
   "source": [
    "# Import des données\n",
    "# Faire un dataset/tableau de tous les chemins des images\n",
    "\n",
    "# ....."
   ],
   "id": "729aa90926256174"
  },
  {
   "metadata": {},
   "cell_type": "markdown",
   "source": "# Import de Tensorflow",
   "id": "b849aef333514372"
  },
  {
   "cell_type": "code",
   "execution_count": null,
   "id": "initial_id",
   "metadata": {
    "collapsed": true
   },
   "outputs": [],
   "source": [
    "from tensorflow.keras.models import Sequential, load_model  # Core model and reload model from memory\n",
    "from tensorflow.keras.layers import Dense, Conv2D, LSTM  # Build hidden layers\n",
    "from sklearn.metrics import accuracy_score  # Metrics to evaluate the model"
   ]
  },
  {
   "metadata": {},
   "cell_type": "markdown",
   "source": "",
   "id": "63fb5ee4c11226e7"
  },
  {
   "metadata": {},
   "cell_type": "code",
   "outputs": [],
   "execution_count": null,
   "source": "",
   "id": "3ac434f4b08268c3"
  }
 ],
 "metadata": {
  "kernelspec": {
   "display_name": "Python 3",
   "language": "python",
   "name": "python3"
  },
  "language_info": {
   "codemirror_mode": {
    "name": "ipython",
    "version": 2
   },
   "file_extension": ".py",
   "mimetype": "text/x-python",
   "name": "python",
   "nbconvert_exporter": "python",
   "pygments_lexer": "ipython2",
   "version": "2.7.6"
  }
 },
 "nbformat": 4,
 "nbformat_minor": 5
}
